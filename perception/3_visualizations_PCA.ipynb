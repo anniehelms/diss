{
 "cells": [
  {
   "cell_type": "markdown",
   "id": "171a7d69-6556-49cb-8bc0-57c9106b8362",
   "metadata": {},
   "source": [
    "# Visualizations of estimates by PCA"
   ]
  },
  {
   "cell_type": "code",
   "execution_count": 1,
   "id": "c3dcbf7d-a821-4b93-bcb8-40a379af6503",
   "metadata": {},
   "outputs": [],
   "source": [
    "import pandas as pd\n",
    "import seaborn as sns\n",
    "import matplotlib.pyplot as plt\n",
    "import numpy as np"
   ]
  },
  {
   "cell_type": "markdown",
   "id": "45c3cb5b-f192-4902-b4a7-4f1f5632e382",
   "metadata": {},
   "source": [
    "First, isolate data from trilingual speakers."
   ]
  },
  {
   "cell_type": "code",
   "execution_count": 2,
   "id": "bca1c30b-c811-4ce8-999a-92d9e451d5db",
   "metadata": {},
   "outputs": [
    {
     "data": {
      "text/html": [
       "<div>\n",
       "<style scoped>\n",
       "    .dataframe tbody tr th:only-of-type {\n",
       "        vertical-align: middle;\n",
       "    }\n",
       "\n",
       "    .dataframe tbody tr th {\n",
       "        vertical-align: top;\n",
       "    }\n",
       "\n",
       "    .dataframe thead th {\n",
       "        text-align: right;\n",
       "    }\n",
       "</style>\n",
       "<table border=\"1\" class=\"dataframe\">\n",
       "  <thead>\n",
       "    <tr style=\"text-align: right;\">\n",
       "      <th></th>\n",
       "      <th>partID</th>\n",
       "      <th>cat_warning</th>\n",
       "      <th>cat_vowel_estimate</th>\n",
       "      <th>cat_vowel_std</th>\n",
       "      <th>cat_duration_estimate</th>\n",
       "      <th>cat_duration_std</th>\n",
       "      <th>cat_spectilt_estimate</th>\n",
       "      <th>cat_spectilt_std</th>\n",
       "      <th>spa_warning</th>\n",
       "      <th>spa_vowel_estimate</th>\n",
       "      <th>...</th>\n",
       "      <th>eng_warning</th>\n",
       "      <th>eng_vowel_estimate</th>\n",
       "      <th>eng_vowel_std</th>\n",
       "      <th>eng_duration_estimate</th>\n",
       "      <th>eng_duration_std</th>\n",
       "      <th>eng_spectilt_estimate</th>\n",
       "      <th>eng_spectilt_std</th>\n",
       "      <th>lang_profile</th>\n",
       "      <th>pc1</th>\n",
       "      <th>pc2</th>\n",
       "    </tr>\n",
       "  </thead>\n",
       "  <tbody>\n",
       "    <tr>\n",
       "      <th>0</th>\n",
       "      <td>acj047</td>\n",
       "      <td>NaN</td>\n",
       "      <td>NaN</td>\n",
       "      <td>NaN</td>\n",
       "      <td>NaN</td>\n",
       "      <td>NaN</td>\n",
       "      <td>NaN</td>\n",
       "      <td>NaN</td>\n",
       "      <td>NaN</td>\n",
       "      <td>NaN</td>\n",
       "      <td>...</td>\n",
       "      <td>0</td>\n",
       "      <td>0.252188</td>\n",
       "      <td>0.183914</td>\n",
       "      <td>0.971723</td>\n",
       "      <td>0.222588</td>\n",
       "      <td>0.390739</td>\n",
       "      <td>0.184323</td>\n",
       "      <td>mono</td>\n",
       "      <td>NaN</td>\n",
       "      <td>NaN</td>\n",
       "    </tr>\n",
       "    <tr>\n",
       "      <th>1</th>\n",
       "      <td>acj297</td>\n",
       "      <td>0</td>\n",
       "      <td>0.210356</td>\n",
       "      <td>0.146814</td>\n",
       "      <td>-0.085561</td>\n",
       "      <td>0.147077</td>\n",
       "      <td>-0.278363</td>\n",
       "      <td>0.150769</td>\n",
       "      <td>0</td>\n",
       "      <td>1.162825</td>\n",
       "      <td>...</td>\n",
       "      <td>0</td>\n",
       "      <td>1.307934</td>\n",
       "      <td>0.290871</td>\n",
       "      <td>2.409308</td>\n",
       "      <td>0.453406</td>\n",
       "      <td>0.588664</td>\n",
       "      <td>0.232368</td>\n",
       "      <td>l1_eng</td>\n",
       "      <td>3.764211</td>\n",
       "      <td>-1.240101</td>\n",
       "    </tr>\n",
       "    <tr>\n",
       "      <th>2</th>\n",
       "      <td>acr108</td>\n",
       "      <td>0</td>\n",
       "      <td>0.273684</td>\n",
       "      <td>0.162629</td>\n",
       "      <td>0.265210</td>\n",
       "      <td>0.169568</td>\n",
       "      <td>0.172382</td>\n",
       "      <td>0.160731</td>\n",
       "      <td>0</td>\n",
       "      <td>0.553943</td>\n",
       "      <td>...</td>\n",
       "      <td>0</td>\n",
       "      <td>-0.336151</td>\n",
       "      <td>0.181966</td>\n",
       "      <td>2.183468</td>\n",
       "      <td>0.426018</td>\n",
       "      <td>-0.140840</td>\n",
       "      <td>0.180522</td>\n",
       "      <td>l1_eng</td>\n",
       "      <td>3.094974</td>\n",
       "      <td>-0.507547</td>\n",
       "    </tr>\n",
       "    <tr>\n",
       "      <th>3</th>\n",
       "      <td>aei079</td>\n",
       "      <td>0</td>\n",
       "      <td>0.326162</td>\n",
       "      <td>0.151268</td>\n",
       "      <td>-0.253304</td>\n",
       "      <td>0.150526</td>\n",
       "      <td>0.110451</td>\n",
       "      <td>0.148743</td>\n",
       "      <td>0</td>\n",
       "      <td>0.187595</td>\n",
       "      <td>...</td>\n",
       "      <td>0</td>\n",
       "      <td>1.873218</td>\n",
       "      <td>0.376852</td>\n",
       "      <td>0.934558</td>\n",
       "      <td>0.214967</td>\n",
       "      <td>0.043377</td>\n",
       "      <td>0.187671</td>\n",
       "      <td>l1_eng</td>\n",
       "      <td>4.173198</td>\n",
       "      <td>2.576465</td>\n",
       "    </tr>\n",
       "    <tr>\n",
       "      <th>4</th>\n",
       "      <td>ael236</td>\n",
       "      <td>NaN</td>\n",
       "      <td>NaN</td>\n",
       "      <td>NaN</td>\n",
       "      <td>NaN</td>\n",
       "      <td>NaN</td>\n",
       "      <td>NaN</td>\n",
       "      <td>NaN</td>\n",
       "      <td>NaN</td>\n",
       "      <td>NaN</td>\n",
       "      <td>...</td>\n",
       "      <td>0</td>\n",
       "      <td>0.673082</td>\n",
       "      <td>0.205907</td>\n",
       "      <td>2.795683</td>\n",
       "      <td>0.598022</td>\n",
       "      <td>-0.222353</td>\n",
       "      <td>0.193451</td>\n",
       "      <td>mono</td>\n",
       "      <td>NaN</td>\n",
       "      <td>NaN</td>\n",
       "    </tr>\n",
       "  </tbody>\n",
       "</table>\n",
       "<p>5 rows × 25 columns</p>\n",
       "</div>"
      ],
      "text/plain": [
       "   partID cat_warning  cat_vowel_estimate  cat_vowel_std  \\\n",
       "0  acj047         NaN                 NaN            NaN   \n",
       "1  acj297           0            0.210356       0.146814   \n",
       "2  acr108           0            0.273684       0.162629   \n",
       "3  aei079           0            0.326162       0.151268   \n",
       "4  ael236         NaN                 NaN            NaN   \n",
       "\n",
       "   cat_duration_estimate  cat_duration_std  cat_spectilt_estimate  \\\n",
       "0                    NaN               NaN                    NaN   \n",
       "1              -0.085561          0.147077              -0.278363   \n",
       "2               0.265210          0.169568               0.172382   \n",
       "3              -0.253304          0.150526               0.110451   \n",
       "4                    NaN               NaN                    NaN   \n",
       "\n",
       "   cat_spectilt_std spa_warning  spa_vowel_estimate  ...  eng_warning  \\\n",
       "0               NaN         NaN                 NaN  ...            0   \n",
       "1          0.150769           0            1.162825  ...            0   \n",
       "2          0.160731           0            0.553943  ...            0   \n",
       "3          0.148743           0            0.187595  ...            0   \n",
       "4               NaN         NaN                 NaN  ...            0   \n",
       "\n",
       "   eng_vowel_estimate  eng_vowel_std  eng_duration_estimate  eng_duration_std  \\\n",
       "0            0.252188       0.183914               0.971723          0.222588   \n",
       "1            1.307934       0.290871               2.409308          0.453406   \n",
       "2           -0.336151       0.181966               2.183468          0.426018   \n",
       "3            1.873218       0.376852               0.934558          0.214967   \n",
       "4            0.673082       0.205907               2.795683          0.598022   \n",
       "\n",
       "  eng_spectilt_estimate  eng_spectilt_std  lang_profile       pc1       pc2  \n",
       "0              0.390739          0.184323          mono       NaN       NaN  \n",
       "1              0.588664          0.232368        l1_eng  3.764211 -1.240101  \n",
       "2             -0.140840          0.180522        l1_eng  3.094974 -0.507547  \n",
       "3              0.043377          0.187671        l1_eng  4.173198  2.576465  \n",
       "4             -0.222353          0.193451          mono       NaN       NaN  \n",
       "\n",
       "[5 rows x 25 columns]"
      ]
     },
     "execution_count": 2,
     "metadata": {},
     "output_type": "execute_result"
    }
   ],
   "source": [
    "df = pd.read_csv(\"data/estimates_and_blp.csv\")\n",
    "df_tri = df[df['lang_profile']!=\"mono\"].copy()\n",
    "df.head()"
   ]
  },
  {
   "cell_type": "code",
   "execution_count": 3,
   "id": "d97f5397-dd8a-4a9e-b8a9-900089585d26",
   "metadata": {},
   "outputs": [
    {
     "name": "stdout",
     "output_type": "stream",
     "text": [
      "english errors:  ['0'\n",
      " 'list(message = \"glm.fit: fitted probabilities numerically 0 or 1 occurred\", call = NULL)'\n",
      " 'list(message = \"glm.fit: algorithm did not converge\", call = NULL)']\n",
      "68\n",
      "64\n",
      "catalan errors:  ['0' nan\n",
      " 'list(message = \"glm.fit: algorithm did not converge\", call = NULL)'\n",
      " 'list(message = \"glm.fit: fitted probabilities numerically 0 or 1 occurred\", call = NULL)']\n",
      "48\n",
      "44\n",
      "spanish errors:  ['0'\n",
      " 'list(message = \"glm.fit: fitted probabilities numerically 0 or 1 occurred\", call = NULL)']\n"
     ]
    },
    {
     "data": {
      "text/plain": [
       "47"
      ]
     },
     "execution_count": 3,
     "metadata": {},
     "output_type": "execute_result"
    }
   ],
   "source": [
    "print(\"english errors: \", df.eng_warning.unique())\n",
    "print(len(df))\n",
    "df_eng_nowarnings = df[(df['eng_warning'].str.len()<=4) | (df_tri['eng_warning'].isna())].copy()\n",
    "print(len(df_eng_nowarnings))\n",
    "print(\"catalan errors: \", df_tri.cat_warning.unique())\n",
    "print(len(df_tri))\n",
    "df_cat_nowarnings = df_tri[(df_tri['cat_warning'].str.len()<=4) | (df_tri['cat_warning'].isna())].copy()\n",
    "print(len(df_cat_nowarnings))\n",
    "print(\"spanish errors: \", df_tri.spa_warning.unique())\n",
    "df_spa_nowarnings = df_tri[(df_tri['spa_warning'].str.len()<=4) | (df_tri['spa_warning'].isna())].copy()\n",
    "len(df_spa_nowarnings)"
   ]
  },
  {
   "cell_type": "code",
   "execution_count": 4,
   "id": "15f48477-608c-498a-8ba0-1b140004ca7f",
   "metadata": {},
   "outputs": [
    {
     "data": {
      "image/png": "[encoded data removed]",
      "text/plain": [
       "<Figure size 432x288 with 1 Axes>"
      ]
     },
     "metadata": {
      "needs_background": "light"
     },
     "output_type": "display_data"
    }
   ],
   "source": [
    "ax = sns.stripplot(x = df.lang_profile, y = df.eng_vowel_estimate, color = \"r\",\n",
    "                   label = \"Vowel quality\", jitter = 0.2)\n",
    "ax = sns.stripplot(x = df.lang_profile, y = df.eng_duration_estimate, color = \"b\",\n",
    "                   label = \"Duration\", jitter = 0.2)\n",
    "ax = sns.stripplot(x = df.lang_profile, y = df.eng_spectilt_estimate, color = \"g\",\n",
    "                   label = \"Spectral tilt\", jitter = 0.2)\n",
    "handles, labels = ax.get_legend_handles_labels()\n",
    "handles = [handles[0],handles[3], handles[6]]\n",
    "labels = ['Vowel quality', 'Duration', 'Spectral tilt']\n",
    "\n",
    "ax.legend(handles, labels)\n",
    "ax.set(xlabel = \"Language Profile\",\n",
    "      ylabel = \"Beta estimates\",\n",
    "      title = \"English perception task\")\n",
    "\n",
    "#plt.ylim([-2.5,3.5])\n",
    "\n",
    "plt.show();"
   ]
  },
  {
   "cell_type": "markdown",
   "id": "7ff25c95-2168-475b-abf3-37ddde442df1",
   "metadata": {},
   "source": [
    "English perception with whiskers."
   ]
  },
  {
   "cell_type": "code",
   "execution_count": 5,
   "id": "cb6a6abd-631f-4c29-bb70-7a582d00c8d9",
   "metadata": {},
   "outputs": [
    {
     "data": {
      "image/png": "[encoded data removed]",
      "text/plain": [
       "<Figure size 792x288 with 3 Axes>"
      ]
     },
     "metadata": {
      "needs_background": "light"
     },
     "output_type": "display_data"
    }
   ],
   "source": [
    "tex_fonts = {\n",
    "    \"font.family\": \"serif\",\n",
    "    # Use 10pt font in plots, to match 10pt font in document\n",
    "    \"axes.labelsize\": 12,\n",
    "    \"font.size\": 10,\n",
    "    # Make the legend/label fonts a little smaller\n",
    "    \"legend.fontsize\": 10,\n",
    "    \"xtick.labelsize\": 10,\n",
    "    \"ytick.labelsize\": 10\n",
    "}\n",
    "plt.rcParams.update(tex_fonts)\n",
    "\n",
    "fig, axes = plt.subplots(1,3, sharey = True, sharex = True, figsize = (11,4))\n",
    "sns.stripplot(ax = axes[0], x = df_eng_nowarnings.lang_profile,\n",
    "                y = df_eng_nowarnings.eng_vowel_estimate, color = \"r\")\n",
    "\n",
    "x_coords_0 = []\n",
    "y_coords_0 = []\n",
    "for point_pair in axes[0].collections:\n",
    "    for x, y in point_pair.get_offsets():\n",
    "        x_coords_0.append(x)\n",
    "        y_coords_0.append(y)\n",
    "        \n",
    "axes[0].errorbar(x_coords_0, y_coords_0, yerr=df_eng_nowarnings.eng_vowel_std,\n",
    "                 color = 'r', fmt=' ', zorder=-1)\n",
    "\n",
    "\n",
    "axes[0].axhline(y = 0, color = \"black\", linestyle = \"--\", alpha = 0.5)\n",
    "axes[0].set_title(\"Vowel quality\")\n",
    "axes[1].axhline(y = 0, color = \"black\", linestyle = \"--\", alpha = 0.5)\n",
    "axes[1].set_title(\"Duration\")\n",
    "axes[2].axhline(y = 0, color = \"black\", linestyle = \"--\", alpha = 0.5)\n",
    "sns.stripplot(ax = axes[1], x = df_eng_nowarnings.lang_profile,\n",
    "                y = df_eng_nowarnings.eng_duration_estimate, color = \"b\")\n",
    "\n",
    "x_coords_1 = []\n",
    "y_coords_1 = []\n",
    "for point_pair in axes[1].collections:\n",
    "    for x, y in point_pair.get_offsets():\n",
    "        x_coords_1.append(x)\n",
    "        y_coords_1.append(y)\n",
    "        \n",
    "axes[1].errorbar(x_coords_1, y_coords_1, yerr=df_eng_nowarnings.eng_duration_std,\n",
    "                 color = 'b', fmt=' ', zorder=-1)\n",
    "\n",
    "sns.stripplot(ax = axes[2], x = df_eng_nowarnings.lang_profile,\n",
    "                y = df_eng_nowarnings.eng_spectilt_estimate, color = \"g\")\n",
    "\n",
    "x_coords_2 = []\n",
    "y_coords_2 = []\n",
    "for point_pair in axes[2].collections:\n",
    "    for x, y in point_pair.get_offsets():\n",
    "        x_coords_2.append(x)\n",
    "        y_coords_2.append(y)\n",
    "        \n",
    "axes[2].errorbar(x_coords_2, y_coords_2, yerr=df_eng_nowarnings.eng_spectilt_std,\n",
    "                 color = 'g', fmt=' ', zorder=-1)\n",
    "axes[2].set_title(\"Spectral tilt\")\n",
    "\n",
    "axes[0].set_xticklabels(['Monolingual', 'L1 English', 'L3 English'])\n",
    "axes[0].set_xlabel(\"\")\n",
    "axes[1].set_xlabel(\"\")\n",
    "axes[2].set_xlabel(\"\")\n",
    "axes[0].set_ylabel(\"Model estimate\")\n",
    "axes[1].set_ylabel(\"\")\n",
    "axes[2].set_ylabel(\"\")\n",
    "fig.supxlabel(\"Language Profile\")\n",
    "fig.suptitle(\"English perception\")\n",
    "\n",
    "plt.ylim([-1.5,4.5])\n",
    "plt.savefig('figures/eng_estimates.jpg', format='jpg', dpi = 800)\n",
    "plt.show();"
   ]
  },
  {
   "cell_type": "markdown",
   "id": "6cc3fe3f-d98e-4e28-8dbb-c39111fbace0",
   "metadata": {},
   "source": [
    "English perception by first component only by trilinguals, with whiskers"
   ]
  },
  {
   "cell_type": "code",
   "execution_count": 6,
   "id": "116f6fff-9727-4aa5-bf69-9211a9d91f0f",
   "metadata": {},
   "outputs": [
    {
     "data": {
      "image/png": "[encoded data removed]",
      "text/plain": [
       "<Figure size 792x288 with 3 Axes>"
      ]
     },
     "metadata": {
      "needs_background": "light"
     },
     "output_type": "display_data"
    }
   ],
   "source": [
    "df_eng_tri = df_eng_nowarnings[df_eng_nowarnings['lang_profile']!=\"mono\"].copy()\n",
    "\n",
    "tex_fonts = {\n",
    "    \"font.family\": \"serif\",\n",
    "    # Use 10pt font in plots, to match 10pt font in document\n",
    "    \"axes.labelsize\": 12,\n",
    "    \"font.size\": 10,\n",
    "    # Make the legend/label fonts a little smaller\n",
    "    \"legend.fontsize\": 10,\n",
    "    \"xtick.labelsize\": 10,\n",
    "    \"ytick.labelsize\": 10\n",
    "}\n",
    "plt.rcParams.update(tex_fonts)\n",
    "\n",
    "fig, axes = plt.subplots(1,3, sharey = True, sharex = True, figsize = (11,4))\n",
    "sns.scatterplot(ax = axes[0], x = df_eng_tri.pc1,\n",
    "                y = df_eng_tri.eng_vowel_estimate, color = \"r\")\n",
    "axes[0].errorbar(df_eng_tri.pc1,\n",
    "                 df_eng_tri.eng_vowel_estimate,\n",
    "                 yerr=2*df_eng_tri.eng_vowel_std, fmt=' ',\n",
    "            zorder=-1, color = \"r\")\n",
    "axes[0].axhline(y = 0, color = \"black\", linestyle = \"--\", alpha = 0.5)\n",
    "axes[0].set_title(\"Vowel quality\")\n",
    "axes[1].axhline(y = 0, color = \"black\", linestyle = \"--\", alpha = 0.5)\n",
    "axes[1].set_title(\"Duration\")\n",
    "axes[2].axhline(y = 0, color = \"black\", linestyle = \"--\", alpha = 0.5)\n",
    "sns.scatterplot(ax = axes[1], x = df_eng_tri.pc1,\n",
    "                y = df_eng_tri.eng_duration_estimate, color = \"b\")\n",
    "axes[1].errorbar(df_eng_tri.pc1,\n",
    "                 df_eng_tri.eng_duration_estimate,\n",
    "                 yerr=2*df_eng_tri.eng_duration_std, fmt=' ',\n",
    "            zorder=-1, color = \"b\")\n",
    "sns.scatterplot(ax = axes[2], x = df_eng_tri.pc1,\n",
    "                y = df_eng_tri.eng_spectilt_estimate, color = \"g\")\n",
    "axes[2].errorbar(df_eng_tri.pc1,\n",
    "                 df_eng_tri.eng_spectilt_estimate,\n",
    "                 yerr=2*df_eng_tri.eng_spectilt_std, fmt=' ',\n",
    "            zorder=-1, color = \"g\")\n",
    "axes[2].set_title(\"Spectral tilt\")\n",
    "axes[0].set_xlabel(\"\")\n",
    "axes[1].set_xlabel(\"\")\n",
    "axes[2].set_xlabel(\"\")\n",
    "axes[0].set_ylabel(\"Model estimate\")\n",
    "fig.supxlabel(\"First principal component (English affinity)\")\n",
    "fig.suptitle(\"English perception by trilinguals\")\n",
    "# fig.supylabel(\"Vowel quality estimate\")\n",
    "# handles, labels = ax.get_legend_handles_labels()\n",
    "# #handles = [handles[0],handles[2], handles[4]]\n",
    "# labels = ['Vowel quality', 'Duration', 'Spectral tilt']\n",
    "\n",
    "# ax.legend(handles, labels)\n",
    "# ax.set(xlabel = \"First Principal Component (English affinity)\",\n",
    "#       ylabel = \"Beta estimates\",\n",
    "#       title = \"Catalan perception task\")\n",
    "\n",
    "#plt.ylim([-4,6])\n",
    "plt.savefig('figures/eng_estimates_pc1.jpg', format='jpg', dpi = 800)\n",
    "plt.show();"
   ]
  },
  {
   "cell_type": "markdown",
   "id": "94b08ae7-2c2e-4982-9888-e1dbc6c72103",
   "metadata": {},
   "source": [
    "English perception of trilinguals by second component with whiskers"
   ]
  },
  {
   "cell_type": "code",
   "execution_count": 7,
   "id": "ae82e11b-a918-45b4-9014-e715232669af",
   "metadata": {},
   "outputs": [
    {
     "data": {
      "image/png": "[encoded data removed]",
      "text/plain": [
       "<Figure size 792x288 with 3 Axes>"
      ]
     },
     "metadata": {
      "needs_background": "light"
     },
     "output_type": "display_data"
    }
   ],
   "source": [
    "tex_fonts = {\n",
    "    \"font.family\": \"serif\",\n",
    "    # Use 10pt font in plots, to match 10pt font in document\n",
    "    \"axes.labelsize\": 12,\n",
    "    \"font.size\": 10,\n",
    "    # Make the legend/label fonts a little smaller\n",
    "    \"legend.fontsize\": 10,\n",
    "    \"xtick.labelsize\": 10,\n",
    "    \"ytick.labelsize\": 10\n",
    "}\n",
    "plt.rcParams.update(tex_fonts)\n",
    "\n",
    "fig, axes = plt.subplots(1,3, sharey = True, sharex = True, figsize = (11,4))\n",
    "sns.scatterplot(ax = axes[0], x = df_eng_tri.pc2,\n",
    "                y = df_eng_tri.eng_vowel_estimate, color = \"r\")\n",
    "axes[0].errorbar(df_eng_tri.pc2,\n",
    "                 df_eng_tri.eng_vowel_estimate,\n",
    "                 yerr=2*df_eng_tri.eng_vowel_std, fmt=' ',\n",
    "            zorder=-1, color = \"r\")\n",
    "axes[0].axhline(y = 0, color = \"black\", linestyle = \"--\", alpha = 0.5)\n",
    "axes[0].set_title(\"Vowel quality\")\n",
    "axes[1].axhline(y = 0, color = \"black\", linestyle = \"--\", alpha = 0.5)\n",
    "axes[1].set_title(\"Duration\")\n",
    "axes[2].axhline(y = 0, color = \"black\", linestyle = \"--\", alpha = 0.5)\n",
    "sns.scatterplot(ax = axes[1], x = df_eng_tri.pc2,\n",
    "                y = df_eng_tri.eng_duration_estimate, color = \"b\")\n",
    "axes[1].errorbar(df_eng_tri.pc2,\n",
    "                 df_eng_tri.eng_duration_estimate,\n",
    "                 yerr=2*df_eng_tri.eng_duration_std, fmt=' ',\n",
    "            zorder=-1, color = \"b\")\n",
    "sns.scatterplot(ax = axes[2], x = df_eng_tri.pc2,\n",
    "                y = df_eng_tri.eng_spectilt_estimate, color = \"g\")\n",
    "axes[2].errorbar(df_eng_tri.pc2,\n",
    "                 df_eng_tri.eng_spectilt_estimate,\n",
    "                 yerr=2*df_eng_tri.eng_spectilt_std, fmt=' ',\n",
    "            zorder=-1, color = \"g\")\n",
    "axes[2].set_title(\"Spectral tilt\")\n",
    "axes[0].set_xlabel(\"\")\n",
    "axes[1].set_xlabel(\"\")\n",
    "axes[2].set_xlabel(\"\")\n",
    "axes[0].set_ylabel(\"Model estimate\")\n",
    "fig.supxlabel(\"Second principal component (Catalan affinity)\")\n",
    "fig.suptitle(\"English perception by trilinguals\")\n",
    "# fig.supylabel(\"Vowel quality estimate\")\n",
    "# handles, labels = ax.get_legend_handles_labels()\n",
    "# #handles = [handles[0],handles[2], handles[4]]\n",
    "# labels = ['Vowel quality', 'Duration', 'Spectral tilt']\n",
    "\n",
    "# ax.legend(handles, labels)\n",
    "# ax.set(xlabel = \"First Principal Component (English affinity)\",\n",
    "#       ylabel = \"Beta estimates\",\n",
    "#       title = \"Catalan perception task\")\n",
    "\n",
    "#plt.ylim([-4,6])\n",
    "plt.savefig('figures/eng_estimates_pc2.jpg', format='jpg', dpi = 800)\n",
    "plt.show();"
   ]
  },
  {
   "cell_type": "markdown",
   "id": "d3f53ec1-5921-4779-b1ff-45f35001c19c",
   "metadata": {},
   "source": [
    "Try and stack plots together:"
   ]
  },
  {
   "cell_type": "code",
   "execution_count": 9,
   "id": "48bcc2a9-eec7-4460-9d06-fd56fa137b6c",
   "metadata": {},
   "outputs": [
    {
     "data": {
      "image/png": "[encoded data removed]",
      "text/plain": [
       "<Figure size 792x576 with 6 Axes>"
      ]
     },
     "metadata": {
      "needs_background": "light"
     },
     "output_type": "display_data"
    }
   ],
   "source": [
    "plt.rcParams.update(tex_fonts)\n",
    "\n",
    "fig, axes = plt.subplots(2,3, sharey = True, sharex = False, figsize = (11,8))\n",
    "sns.scatterplot(ax = axes[0,0], x = df_eng_tri.pc1,\n",
    "                y = df_eng_tri.eng_vowel_estimate, color = \"r\")\n",
    "axes[0,0].errorbar(df_eng_tri.pc1,\n",
    "                 df_eng_tri.eng_vowel_estimate,\n",
    "                 yerr=2*df_eng_tri.eng_vowel_std, fmt=' ',\n",
    "            zorder=-1, color = \"r\")\n",
    "axes[0,0].axhline(y = 0, color = \"black\", linestyle = \"--\", alpha = 0.5)\n",
    "axes[0,0].set_title(\"Vowel quality\")\n",
    "axes[0,1].axhline(y = 0, color = \"black\", linestyle = \"--\", alpha = 0.5)\n",
    "axes[0,1].set_title(\"Duration\")\n",
    "axes[0,2].axhline(y = 0, color = \"black\", linestyle = \"--\", alpha = 0.5)\n",
    "sns.scatterplot(ax = axes[0,1], x = df_eng_tri.pc1,\n",
    "                y = df_eng_tri.eng_duration_estimate, color = \"b\")\n",
    "axes[0,1].errorbar(df_eng_tri.pc1,\n",
    "                 df_eng_tri.eng_duration_estimate,\n",
    "                 yerr=2*df_eng_tri.eng_duration_std, fmt=' ',\n",
    "            zorder=-1, color = \"b\")\n",
    "sns.scatterplot(ax = axes[0,2], x = df_eng_tri.pc1,\n",
    "                y = df_eng_tri.eng_spectilt_estimate, color = \"g\")\n",
    "axes[0,2].errorbar(df_eng_tri.pc1,\n",
    "                 df_eng_tri.eng_spectilt_estimate,\n",
    "                 yerr=2*df_eng_tri.eng_spectilt_std, fmt=' ',\n",
    "            zorder=-1, color = \"g\")\n",
    "axes[0,2].set_title(\"Spectral tilt\")\n",
    "axes[0,0].set_xlabel(\"\")\n",
    "axes[0,1].set_xlabel(\"First principal component (English dominance relative to Spanish and Catalan dominance)\")\n",
    "axes[0,2].set_xlabel(\"\")\n",
    "axes[0,0].set_ylabel(\"\")\n",
    "fig.supylabel(\"Model estimates\")\n",
    "# fig.supxlabel(\"Second principal component (English affinity)\")\n",
    "\n",
    "sns.scatterplot(ax = axes[1,0], x = df_eng_tri.pc2,\n",
    "                y = df_eng_tri.eng_vowel_estimate, color = \"r\")\n",
    "axes[1,0].errorbar(df_eng_tri.pc2,\n",
    "                 df_eng_tri.eng_vowel_estimate,\n",
    "                 yerr=2*df_eng_tri.eng_vowel_std, fmt=' ',\n",
    "            zorder=-1, color = \"r\")\n",
    "axes[1,0].axhline(y = 0, color = \"black\", linestyle = \"--\", alpha = 0.5)\n",
    "axes[1,0].set_title(\"\")\n",
    "axes[1,1].axhline(y = 0, color = \"black\", linestyle = \"--\", alpha = 0.5)\n",
    "# axes[1,1].set_title(\"First principal component (English affinity)\")\n",
    "axes[1,2].axhline(y = 0, color = \"black\", linestyle = \"--\", alpha = 0.5)\n",
    "sns.scatterplot(ax = axes[1,1], x = df_eng_tri.pc2,\n",
    "                y = df_eng_tri.eng_duration_estimate, color = \"b\")\n",
    "axes[1,1].errorbar(df_eng_tri.pc2,\n",
    "                 df_eng_tri.eng_duration_estimate,\n",
    "                 yerr=2*df_eng_tri.eng_duration_std, fmt=' ',\n",
    "            zorder=-1, color = \"b\")\n",
    "sns.scatterplot(ax = axes[1,2], x = df_eng_tri.pc2,\n",
    "                y = df_eng_tri.eng_spectilt_estimate, color = \"g\")\n",
    "axes[1,2].errorbar(df_eng_tri.pc2,\n",
    "                 df_eng_tri.eng_spectilt_estimate,\n",
    "                 yerr=2*df_eng_tri.eng_spectilt_std, fmt=' ',\n",
    "            zorder=-1, color = \"g\")\n",
    "axes[1,2].set_title(\"\")\n",
    "axes[1,0].set_xlabel(\"\")\n",
    "axes[1,1].set_xlabel(\"Second principal component (Catalan dominance relative to Spanish dominance)\")\n",
    "axes[1,2].set_xlabel(\"\")\n",
    "axes[1,0].set_ylabel(\"\")\n",
    "# fig.supxlabel(\"First principal component (English affinity)\")\n",
    "fig.suptitle(\"English perception by trilinguals\")\n",
    "# fig.supylabel(\"Vowel quality estimate\")\n",
    "# handles, labels = ax.get_legend_handles_labels()\n",
    "# #handles = [handles[0],handles[2], handles[4]]\n",
    "# labels = ['Vowel quality', 'Duration', 'Spectral tilt']\n",
    "\n",
    "# ax.legend(handles, labels)\n",
    "# ax.set(xlabel = \"First Principal Component (English affinity)\",\n",
    "#       ylabel = \"Beta estimates\",\n",
    "#       title = \"Catalan perception task\")\n",
    "\n",
    "#plt.ylim([-4,6])\n",
    "plt.savefig('figures/eng_estimates_pc1pc2.jpg', format='jpg', dpi = 800)\n",
    "plt.show();"
   ]
  },
  {
   "cell_type": "markdown",
   "id": "a5a94ce5-fa78-4f19-a057-b93ad8399efc",
   "metadata": {},
   "source": [
    "Catalan perception by predetermined language profile:"
   ]
  },
  {
   "cell_type": "code",
   "execution_count": 75,
   "id": "07dfcfdc-9c59-4bbb-80d8-a799c60a1016",
   "metadata": {},
   "outputs": [
    {
     "data": {
      "image/png": "[encoded data removed]",
      "text/plain": [
       "<Figure size 432x288 with 1 Axes>"
      ]
     },
     "metadata": {
      "needs_background": "light"
     },
     "output_type": "display_data"
    }
   ],
   "source": [
    "ax = sns.stripplot(x = df_cat_nowarnings.lang_profile, y = df_cat_nowarnings.cat_vowel_estimate,\n",
    "                   color = \"r\", label = \"Vowel quality\", jitter = 0.2)\n",
    "ax = sns.stripplot(x = df_cat_nowarnings.lang_profile,\n",
    "                   y = df_cat_nowarnings.cat_duration_estimate, color = \"b\",\n",
    "                   label = \"Duration\", jitter = 0.2)\n",
    "ax = sns.stripplot(x = df_cat_nowarnings.lang_profile,\n",
    "                   y = df_cat_nowarnings.cat_spectilt_estimate, color = \"g\",\n",
    "                   label = \"Spectral tilt\", jitter = 0.2)\n",
    "handles, labels = ax.get_legend_handles_labels()\n",
    "handles = [handles[0],handles[2], handles[4]]\n",
    "labels = ['Vowel quality', 'Duration', 'Spectral tilt']\n",
    "\n",
    "ax.legend(handles, labels)\n",
    "ax.set(xlabel = \"Language Profile\",\n",
    "      ylabel = \"Beta estimates\",\n",
    "      title = \"Catalan perception task\")\n",
    "\n",
    "plt.ylim([-2.5,3.5])\n",
    "\n",
    "plt.show();"
   ]
  },
  {
   "cell_type": "markdown",
   "id": "be63dcfd-512f-4935-abc0-c6ba0ad655b9",
   "metadata": {},
   "source": [
    "Catalan perception by first component (English affinity):"
   ]
  },
  {
   "cell_type": "code",
   "execution_count": 123,
   "id": "6507d702-91b8-460b-a154-66d4adda878c",
   "metadata": {},
   "outputs": [
    {
     "data": {
      "image/png": "[encoded data removed]",
      "text/plain": [
       "<Figure size 792x288 with 3 Axes>"
      ]
     },
     "metadata": {
      "needs_background": "light"
     },
     "output_type": "display_data"
    }
   ],
   "source": [
    "tex_fonts = {\n",
    "    \"font.family\": \"serif\",\n",
    "    # Use 10pt font in plots, to match 10pt font in document\n",
    "    \"axes.labelsize\": 12,\n",
    "    \"font.size\": 10,\n",
    "    # Make the legend/label fonts a little smaller\n",
    "    \"legend.fontsize\": 10,\n",
    "    \"xtick.labelsize\": 10,\n",
    "    \"ytick.labelsize\": 10\n",
    "}\n",
    "plt.rcParams.update(tex_fonts)\n",
    "\n",
    "fig, axes = plt.subplots(1,3, sharey = True, sharex = True, figsize = (11,4))\n",
    "sns.scatterplot(ax = axes[0], x = df_cat_nowarnings.pc1,\n",
    "                y = df_cat_nowarnings.cat_vowel_estimate, color = \"r\")\n",
    "axes[0].errorbar(df_cat_nowarnings.pc1,\n",
    "                 df_cat_nowarnings.cat_vowel_estimate,\n",
    "                 yerr=2*df_cat_nowarnings.cat_vowel_std, fmt=' ',\n",
    "            zorder=-1, color = \"r\")\n",
    "axes[0].axhline(y = 0, color = \"black\", linestyle = \"--\", alpha = 0.5)\n",
    "axes[0].set_title(\"Vowel quality\")\n",
    "axes[1].axhline(y = 0, color = \"black\", linestyle = \"--\", alpha = 0.5)\n",
    "axes[1].set_title(\"Duration\")\n",
    "axes[2].axhline(y = 0, color = \"black\", linestyle = \"--\", alpha = 0.5)\n",
    "sns.scatterplot(ax = axes[1], x = df_cat_nowarnings.pc1,\n",
    "                y = df_cat_nowarnings.cat_duration_estimate, color = \"b\")\n",
    "axes[1].errorbar(df_cat_nowarnings.pc1,\n",
    "                 df_cat_nowarnings.cat_duration_estimate,\n",
    "                 yerr=2*df_cat_nowarnings.cat_duration_std, fmt=' ',\n",
    "            zorder=-1, color = \"b\")\n",
    "sns.scatterplot(ax = axes[2], x = df_cat_nowarnings.pc1,\n",
    "                y = df_cat_nowarnings.cat_spectilt_estimate, color = \"g\")\n",
    "axes[2].errorbar(df_cat_nowarnings.pc1,\n",
    "                 df_cat_nowarnings.cat_spectilt_estimate,\n",
    "                 yerr=2*df_cat_nowarnings.cat_spectilt_std, fmt=' ',\n",
    "            zorder=-1, color = \"g\")\n",
    "axes[2].set_title(\"Spectral tilt\")\n",
    "axes[0].set_xlabel(\"\")\n",
    "axes[1].set_xlabel(\"\")\n",
    "axes[2].set_xlabel(\"\")\n",
    "axes[0].set_ylabel(\"Model estimate\")\n",
    "fig.supxlabel(\"First principal component (English affinity)\")\n",
    "fig.suptitle(\"Catalan perception\")\n",
    "# fig.supylabel(\"Vowel quality estimate\")\n",
    "# handles, labels = ax.get_legend_handles_labels()\n",
    "# #handles = [handles[0],handles[2], handles[4]]\n",
    "# labels = ['Vowel quality', 'Duration', 'Spectral tilt']\n",
    "\n",
    "# ax.legend(handles, labels)\n",
    "# ax.set(xlabel = \"First Principal Component (English affinity)\",\n",
    "#       ylabel = \"Beta estimates\",\n",
    "#       title = \"Catalan perception task\")\n",
    "\n",
    "plt.ylim([-4,6])\n",
    "plt.savefig('figures/cat_estimates_pc1.jpg', format='jpg', dpi = 800)\n",
    "plt.show();"
   ]
  },
  {
   "cell_type": "markdown",
   "id": "3d6bc187-320d-4efb-b951-38a9f2295761",
   "metadata": {},
   "source": [
    "Catalan perception across second principal component"
   ]
  },
  {
   "cell_type": "code",
   "execution_count": 124,
   "id": "d38cfb02-319b-49a4-a7c5-3c1b54f63299",
   "metadata": {},
   "outputs": [
    {
     "data": {
      "image/png": "[encoded data removed]",
      "text/plain": [
       "<Figure size 792x288 with 3 Axes>"
      ]
     },
     "metadata": {
      "needs_background": "light"
     },
     "output_type": "display_data"
    }
   ],
   "source": [
    "tex_fonts = {\n",
    "    \"font.family\": \"serif\",\n",
    "    # Use 10pt font in plots, to match 10pt font in document\n",
    "    \"axes.labelsize\": 12,\n",
    "    \"font.size\": 10,\n",
    "    # Make the legend/label fonts a little smaller\n",
    "    \"legend.fontsize\": 10,\n",
    "    \"xtick.labelsize\": 10,\n",
    "    \"ytick.labelsize\": 10\n",
    "}\n",
    "plt.rcParams.update(tex_fonts)\n",
    "\n",
    "fig, axes = plt.subplots(1,3, sharey = True, sharex = True, figsize = (11,4))\n",
    "sns.scatterplot(ax = axes[0], x = df_cat_nowarnings.pc2,\n",
    "                y = df_cat_nowarnings.cat_vowel_estimate, color = \"r\")\n",
    "axes[0].errorbar(df_cat_nowarnings.pc2,\n",
    "                 df_cat_nowarnings.cat_vowel_estimate,\n",
    "                 yerr=2*df_cat_nowarnings.cat_vowel_std, fmt=' ',\n",
    "            zorder=-1, color = \"r\")\n",
    "axes[0].axhline(y = 0, color = \"black\", linestyle = \"--\", alpha = 0.5)\n",
    "axes[0].set_title(\"Vowel quality\")\n",
    "axes[1].axhline(y = 0, color = \"black\", linestyle = \"--\", alpha = 0.5)\n",
    "axes[1].set_title(\"Duration\")\n",
    "axes[2].axhline(y = 0, color = \"black\", linestyle = \"--\", alpha = 0.5)\n",
    "sns.scatterplot(ax = axes[1], x = df_cat_nowarnings.pc2,\n",
    "                y = df_cat_nowarnings.cat_duration_estimate, color = \"b\")\n",
    "axes[1].errorbar(df_cat_nowarnings.pc2,\n",
    "                 df_cat_nowarnings.cat_duration_estimate,\n",
    "                 yerr=2*df_cat_nowarnings.cat_duration_std, fmt=' ',\n",
    "            zorder=-1, color = \"b\")\n",
    "sns.scatterplot(ax = axes[2], x = df_cat_nowarnings.pc2,\n",
    "                y = df_cat_nowarnings.cat_spectilt_estimate, color = \"g\")\n",
    "axes[2].errorbar(df_cat_nowarnings.pc2,\n",
    "                 df_cat_nowarnings.cat_spectilt_estimate,\n",
    "                 yerr=2*df_cat_nowarnings.cat_spectilt_std, fmt=' ',\n",
    "            zorder=-1, color = \"g\")\n",
    "axes[2].set_title(\"Spectral tilt\")\n",
    "axes[0].set_xlabel(\"\")\n",
    "axes[1].set_xlabel(\"\")\n",
    "axes[2].set_xlabel(\"\")\n",
    "axes[0].set_ylabel(\"Model estimate\")\n",
    "fig.supxlabel(\"Second principal component (Catalan affinity)\")\n",
    "fig.suptitle(\"Catalan perception\")\n",
    "# fig.supylabel(\"Vowel quality estimate\")\n",
    "# handles, labels = ax.get_legend_handles_labels()\n",
    "# #handles = [handles[0],handles[2], handles[4]]\n",
    "# labels = ['Vowel quality', 'Duration', 'Spectral tilt']\n",
    "\n",
    "# ax.legend(handles, labels)\n",
    "# ax.set(xlabel = \"First Principal Component (English affinity)\",\n",
    "#       ylabel = \"Beta estimates\",\n",
    "#       title = \"Catalan perception task\")\n",
    "\n",
    "plt.ylim([-4,6])\n",
    "plt.savefig('figures/cat_estimates_pc2.jpg', format='jpg', dpi = 800)\n",
    "plt.show();"
   ]
  },
  {
   "cell_type": "markdown",
   "id": "e53703e9-91fe-4615-994c-b3309b39fbfe",
   "metadata": {},
   "source": [
    "Stack plots together:"
   ]
  },
  {
   "cell_type": "code",
   "execution_count": 10,
   "id": "0fff697f-d4f8-4f06-af25-1dba570a704d",
   "metadata": {},
   "outputs": [
    {
     "data": {
      "image/png": "[encoded data removed]",
      "text/plain": [
       "<Figure size 792x576 with 6 Axes>"
      ]
     },
     "metadata": {
      "needs_background": "light"
     },
     "output_type": "display_data"
    }
   ],
   "source": [
    "plt.rcParams.update(tex_fonts)\n",
    "\n",
    "fig, axes = plt.subplots(2,3, sharey = True, sharex = False, figsize = (11,8))\n",
    "sns.scatterplot(ax = axes[0,0], x = df_eng_tri.pc1,\n",
    "                y = df_cat_nowarnings.cat_vowel_estimate, color = \"r\")\n",
    "axes[0,0].errorbar(df_cat_nowarnings.pc1,\n",
    "                 df_cat_nowarnings.cat_vowel_estimate,\n",
    "                 yerr=2*df_cat_nowarnings.cat_vowel_std, fmt=' ',\n",
    "            zorder=-1, color = \"r\")\n",
    "axes[0,0].axhline(y = 0, color = \"black\", linestyle = \"--\", alpha = 0.5)\n",
    "axes[0,0].set_title(\"Vowel quality\")\n",
    "axes[0,1].axhline(y = 0, color = \"black\", linestyle = \"--\", alpha = 0.5)\n",
    "axes[0,1].set_title(\"Duration\")\n",
    "axes[0,2].axhline(y = 0, color = \"black\", linestyle = \"--\", alpha = 0.5)\n",
    "sns.scatterplot(ax = axes[0,1], x = df_cat_nowarnings.pc1,\n",
    "                y = df_cat_nowarnings.cat_duration_estimate, color = \"b\")\n",
    "axes[0,1].errorbar(df_cat_nowarnings.pc1,\n",
    "                 df_cat_nowarnings.cat_duration_estimate,\n",
    "                 yerr=2*df_cat_nowarnings.cat_duration_std, fmt=' ',\n",
    "            zorder=-1, color = \"b\")\n",
    "sns.scatterplot(ax = axes[0,2], x = df_cat_nowarnings.pc1,\n",
    "                y = df_cat_nowarnings.cat_spectilt_estimate, color = \"g\")\n",
    "axes[0,2].errorbar(df_cat_nowarnings.pc1,\n",
    "                 df_cat_nowarnings.cat_spectilt_estimate,\n",
    "                 yerr=2*df_cat_nowarnings.cat_spectilt_std, fmt=' ',\n",
    "            zorder=-1, color = \"g\")\n",
    "axes[0,2].set_title(\"Spectral tilt\")\n",
    "axes[0,0].set_xlabel(\"\")\n",
    "axes[0,1].set_xlabel(\"First principal component (English dominance relative to Spanish and Catalan dominance)\")\n",
    "axes[0,2].set_xlabel(\"\")\n",
    "axes[0,0].set_ylabel(\"\")\n",
    "fig.supylabel(\"Model estimates\")\n",
    "# fig.supxlabel(\"Second principal component (English affinity)\")\n",
    "\n",
    "sns.scatterplot(ax = axes[1,0], x = df_cat_nowarnings.pc2,\n",
    "                y = df_cat_nowarnings.cat_vowel_estimate, color = \"r\")\n",
    "axes[1,0].errorbar(df_cat_nowarnings.pc2,\n",
    "                 df_cat_nowarnings.cat_vowel_estimate,\n",
    "                 yerr=2*df_cat_nowarnings.cat_vowel_std, fmt=' ',\n",
    "            zorder=-1, color = \"r\")\n",
    "axes[1,0].axhline(y = 0, color = \"black\", linestyle = \"--\", alpha = 0.5)\n",
    "axes[1,0].set_title(\"\")\n",
    "axes[1,1].axhline(y = 0, color = \"black\", linestyle = \"--\", alpha = 0.5)\n",
    "# axes[1,1].set_title(\"First principal component (English affinity)\")\n",
    "axes[1,2].axhline(y = 0, color = \"black\", linestyle = \"--\", alpha = 0.5)\n",
    "sns.scatterplot(ax = axes[1,1], x = df_cat_nowarnings.pc2,\n",
    "                y = df_cat_nowarnings.cat_duration_estimate, color = \"b\")\n",
    "axes[1,1].errorbar(df_cat_nowarnings.pc2,\n",
    "                 df_cat_nowarnings.cat_duration_estimate,\n",
    "                 yerr=2*df_cat_nowarnings.cat_duration_std, fmt=' ',\n",
    "            zorder=-1, color = \"b\")\n",
    "sns.scatterplot(ax = axes[1,2], x = df_cat_nowarnings.pc2,\n",
    "                y = df_cat_nowarnings.cat_spectilt_estimate, color = \"g\")\n",
    "axes[1,2].errorbar(df_cat_nowarnings.pc2,\n",
    "                 df_cat_nowarnings.cat_spectilt_estimate,\n",
    "                 yerr=2*df_cat_nowarnings.cat_spectilt_std, fmt=' ',\n",
    "            zorder=-1, color = \"g\")\n",
    "axes[1,2].set_title(\"\")\n",
    "axes[1,0].set_xlabel(\"\")\n",
    "axes[1,1].set_xlabel(\"Second principal component (Catalan dominance relative to Spanish dominance)\")\n",
    "axes[1,2].set_xlabel(\"\")\n",
    "axes[1,0].set_ylabel(\"\")\n",
    "# fig.supxlabel(\"First principal component (English affinity)\")\n",
    "fig.suptitle(\"Catalan perception by trilinguals\")\n",
    "# fig.supylabel(\"Vowel quality estimate\")\n",
    "# handles, labels = ax.get_legend_handles_labels()\n",
    "# #handles = [handles[0],handles[2], handles[4]]\n",
    "# labels = ['Vowel quality', 'Duration', 'Spectral tilt']\n",
    "\n",
    "# ax.legend(handles, labels)\n",
    "# ax.set(xlabel = \"First Principal Component (English affinity)\",\n",
    "#       ylabel = \"Beta estimates\",\n",
    "#       title = \"Catalan perception task\")\n",
    "\n",
    "#plt.ylim([-4,6])\n",
    "plt.savefig('figures/cat_estimates_pc1pc2.jpg', format='jpg', dpi = 800)\n",
    "plt.show();"
   ]
  },
  {
   "cell_type": "code",
   "execution_count": 67,
   "id": "7ae430d6-2e76-43b6-8621-083c58e9f837",
   "metadata": {},
   "outputs": [
    {
     "data": {
      "image/png": "[encoded data removed]",
      "text/plain": [
       "<Figure size 432x288 with 1 Axes>"
      ]
     },
     "metadata": {
      "needs_background": "light"
     },
     "output_type": "display_data"
    }
   ],
   "source": [
    "ax = sns.stripplot(x = df_tri.lang_profile, y = df_tri.spa_vowel_estimate, color = \"r\",\n",
    "                   label = \"Vowel quality\", jitter = 0.2)\n",
    "ax = sns.stripplot(x = df_tri.lang_profile, y = df_tri.spa_duration_estimate, color = \"b\",\n",
    "                   label = \"Duration\", jitter = 0.2)\n",
    "ax = sns.stripplot(x = df_tri.lang_profile, y = df_tri.spa_spectilt_estimate, color = \"g\",\n",
    "                   label = \"Spectral tilt\", jitter = 0.2)\n",
    "handles, labels = ax.get_legend_handles_labels()\n",
    "handles = [handles[0],handles[2], handles[4]]\n",
    "labels = ['Vowel quality', 'Duration', 'Spectral tilt']\n",
    "\n",
    "ax.legend(handles, labels)\n",
    "ax.set(xlabel = \"Language Profile\",\n",
    "      ylabel = \"Beta estimates\",\n",
    "      title = \"Spanish perception task\")\n",
    "\n",
    "plt.ylim([-2.5,3.5])\n",
    "\n",
    "plt.show();"
   ]
  },
  {
   "cell_type": "markdown",
   "id": "8cccce8f-5969-4e99-89d5-2e317aea35a7",
   "metadata": {},
   "source": [
    "Spanish perception by the first principal component:"
   ]
  },
  {
   "cell_type": "code",
   "execution_count": 126,
   "id": "58016691-294c-46a6-a1db-e94dfdc87f08",
   "metadata": {},
   "outputs": [
    {
     "data": {
      "image/png": "[encoded data removed]",
      "text/plain": [
       "<Figure size 792x288 with 3 Axes>"
      ]
     },
     "metadata": {
      "needs_background": "light"
     },
     "output_type": "display_data"
    }
   ],
   "source": [
    "tex_fonts = {\n",
    "    \"font.family\": \"serif\",\n",
    "    # Use 10pt font in plots, to match 10pt font in document\n",
    "    \"axes.labelsize\": 12,\n",
    "    \"font.size\": 10,\n",
    "    # Make the legend/label fonts a little smaller\n",
    "    \"legend.fontsize\": 10,\n",
    "    \"xtick.labelsize\": 10,\n",
    "    \"ytick.labelsize\": 10\n",
    "}\n",
    "plt.rcParams.update(tex_fonts)\n",
    "\n",
    "fig, axes = plt.subplots(1,3, sharey = True, sharex = True, figsize = (11,4))\n",
    "sns.scatterplot(ax = axes[0], x = df_spa_nowarnings.pc1,\n",
    "                y = df_spa_nowarnings.spa_vowel_estimate, color = \"r\")\n",
    "axes[0].errorbar(df_spa_nowarnings.pc1,\n",
    "                 df_spa_nowarnings.spa_vowel_estimate,\n",
    "                 yerr=2*df_spa_nowarnings.spa_vowel_std, fmt=' ',\n",
    "            zorder=-1, color = \"r\")\n",
    "axes[0].axhline(y = 0, color = \"black\", linestyle = \"--\", alpha = 0.5)\n",
    "axes[0].set_title(\"Vowel quality\")\n",
    "axes[1].axhline(y = 0, color = \"black\", linestyle = \"--\", alpha = 0.5)\n",
    "axes[1].set_title(\"Duration\")\n",
    "axes[2].axhline(y = 0, color = \"black\", linestyle = \"--\", alpha = 0.5)\n",
    "sns.scatterplot(ax = axes[1], x = df_spa_nowarnings.pc1,\n",
    "                y = df_spa_nowarnings.spa_duration_estimate, color = \"b\")\n",
    "axes[1].errorbar(df_spa_nowarnings.pc1,\n",
    "                 df_spa_nowarnings.spa_duration_estimate,\n",
    "                 yerr=2*df_spa_nowarnings.spa_duration_std, fmt=' ',\n",
    "            zorder=-1, color = \"b\")\n",
    "sns.scatterplot(ax = axes[2], x = df_spa_nowarnings.pc1,\n",
    "                y = df_spa_nowarnings.spa_spectilt_estimate, color = \"g\")\n",
    "axes[2].errorbar(df_spa_nowarnings.pc1,\n",
    "                 df_spa_nowarnings.spa_spectilt_estimate,\n",
    "                 yerr=2*df_spa_nowarnings.spa_spectilt_std, fmt=' ',\n",
    "            zorder=-1, color = \"g\")\n",
    "axes[2].set_title(\"Spectral tilt\")\n",
    "axes[0].set_xlabel(\"\")\n",
    "axes[1].set_xlabel(\"\")\n",
    "axes[2].set_xlabel(\"\")\n",
    "axes[0].set_ylabel(\"Model estimate\")\n",
    "fig.supxlabel(\"First principal component (English affinity)\")\n",
    "fig.suptitle(\"Spanish perception\")\n",
    "\n",
    "plt.ylim([-4,6])\n",
    "plt.savefig('figures/spa_estimates_pc1.jpg', format='jpg', dpi = 800)\n",
    "plt.show();"
   ]
  },
  {
   "cell_type": "markdown",
   "id": "1b0f81f1-9bcd-490f-8026-8aa75d37cace",
   "metadata": {},
   "source": [
    "Spanish perception by second principal component"
   ]
  },
  {
   "cell_type": "code",
   "execution_count": 127,
   "id": "252654d5-333c-4715-b52e-28a8c2b9ab3d",
   "metadata": {},
   "outputs": [
    {
     "data": {
      "image/png": "[encoded data removed]",
      "text/plain": [
       "<Figure size 792x288 with 3 Axes>"
      ]
     },
     "metadata": {
      "needs_background": "light"
     },
     "output_type": "display_data"
    }
   ],
   "source": [
    "tex_fonts = {\n",
    "    \"font.family\": \"serif\",\n",
    "    # Use 10pt font in plots, to match 10pt font in document\n",
    "    \"axes.labelsize\": 12,\n",
    "    \"font.size\": 10,\n",
    "    # Make the legend/label fonts a little smaller\n",
    "    \"legend.fontsize\": 10,\n",
    "    \"xtick.labelsize\": 10,\n",
    "    \"ytick.labelsize\": 10\n",
    "}\n",
    "plt.rcParams.update(tex_fonts)\n",
    "\n",
    "fig, axes = plt.subplots(1,3, sharey = True, sharex = True, figsize = (11,4))\n",
    "sns.scatterplot(ax = axes[0], x = df_spa_nowarnings.pc2,\n",
    "                y = df_spa_nowarnings.spa_vowel_estimate, color = \"r\")\n",
    "axes[0].errorbar(df_spa_nowarnings.pc2,\n",
    "                 df_spa_nowarnings.spa_vowel_estimate,\n",
    "                 yerr=2*df_spa_nowarnings.spa_vowel_std, fmt=' ',\n",
    "            zorder=-1, color = \"r\")\n",
    "axes[0].axhline(y = 0, color = \"black\", linestyle = \"--\", alpha = 0.5)\n",
    "axes[0].set_title(\"Vowel quality\")\n",
    "axes[1].axhline(y = 0, color = \"black\", linestyle = \"--\", alpha = 0.5)\n",
    "axes[1].set_title(\"Duration\")\n",
    "axes[2].axhline(y = 0, color = \"black\", linestyle = \"--\", alpha = 0.5)\n",
    "sns.scatterplot(ax = axes[1], x = df_spa_nowarnings.pc2,\n",
    "                y = df_spa_nowarnings.spa_duration_estimate, color = \"b\")\n",
    "axes[1].errorbar(df_spa_nowarnings.pc2,\n",
    "                 df_spa_nowarnings.spa_duration_estimate,\n",
    "                 yerr=2*df_spa_nowarnings.spa_duration_std, fmt=' ',\n",
    "            zorder=-1, color = \"b\")\n",
    "sns.scatterplot(ax = axes[2], x = df_spa_nowarnings.pc2,\n",
    "                y = df_spa_nowarnings.spa_spectilt_estimate, color = \"g\")\n",
    "axes[2].errorbar(df_spa_nowarnings.pc2,\n",
    "                 df_spa_nowarnings.spa_spectilt_estimate,\n",
    "                 yerr=2*df_spa_nowarnings.spa_spectilt_std, fmt=' ',\n",
    "            zorder=-1, color = \"g\")\n",
    "axes[2].set_title(\"Spectral tilt\")\n",
    "axes[0].set_xlabel(\"\")\n",
    "axes[1].set_xlabel(\"\")\n",
    "axes[2].set_xlabel(\"\")\n",
    "axes[0].set_ylabel(\"Model estimate\")\n",
    "fig.supxlabel(\"Second principal component (Catalan affinity)\")\n",
    "fig.suptitle(\"Spanish perception\")\n",
    "\n",
    "plt.ylim([-4,6])\n",
    "plt.savefig('figures/spa_estimates_pc2.jpg', format='jpg', dpi = 800)\n",
    "plt.show();"
   ]
  },
  {
   "cell_type": "markdown",
   "id": "921a0756-d61d-4391-a985-ad8ff7666fa5",
   "metadata": {},
   "source": [
    "Plot together:"
   ]
  },
  {
   "cell_type": "code",
   "execution_count": 11,
   "id": "ff7b1a90-3dd0-40b2-a6f8-7df5de1b69e5",
   "metadata": {},
   "outputs": [
    {
     "data": {
      "image/png": "[encoded data removed]",
      "text/plain": [
       "<Figure size 792x576 with 6 Axes>"
      ]
     },
     "metadata": {
      "needs_background": "light"
     },
     "output_type": "display_data"
    }
   ],
   "source": [
    "plt.rcParams.update(tex_fonts)\n",
    "\n",
    "fig, axes = plt.subplots(2,3, sharey = True, sharex = False, figsize = (11,8))\n",
    "sns.scatterplot(ax = axes[0,0], x = df_eng_tri.pc1,\n",
    "                y = df_spa_nowarnings.spa_vowel_estimate, color = \"r\")\n",
    "axes[0,0].errorbar(df_spa_nowarnings.pc1,\n",
    "                 df_spa_nowarnings.spa_vowel_estimate,\n",
    "                 yerr=2*df_spa_nowarnings.spa_vowel_std, fmt=' ',\n",
    "            zorder=-1, color = \"r\")\n",
    "axes[0,0].axhline(y = 0, color = \"black\", linestyle = \"--\", alpha = 0.5)\n",
    "axes[0,0].set_title(\"Vowel quality\")\n",
    "axes[0,1].axhline(y = 0, color = \"black\", linestyle = \"--\", alpha = 0.5)\n",
    "axes[0,1].set_title(\"Duration\")\n",
    "axes[0,2].axhline(y = 0, color = \"black\", linestyle = \"--\", alpha = 0.5)\n",
    "sns.scatterplot(ax = axes[0,1], x = df_spa_nowarnings.pc1,\n",
    "                y = df_spa_nowarnings.spa_duration_estimate, color = \"b\")\n",
    "axes[0,1].errorbar(df_spa_nowarnings.pc1,\n",
    "                 df_spa_nowarnings.spa_duration_estimate,\n",
    "                 yerr=2*df_spa_nowarnings.spa_duration_std, fmt=' ',\n",
    "            zorder=-1, color = \"b\")\n",
    "sns.scatterplot(ax = axes[0,2], x = df_spa_nowarnings.pc1,\n",
    "                y = df_spa_nowarnings.spa_spectilt_estimate, color = \"g\")\n",
    "axes[0,2].errorbar(df_spa_nowarnings.pc1,\n",
    "                 df_spa_nowarnings.spa_spectilt_estimate,\n",
    "                 yerr=2*df_spa_nowarnings.spa_spectilt_std, fmt=' ',\n",
    "            zorder=-1, color = \"g\")\n",
    "axes[0,2].set_title(\"Spectral tilt\")\n",
    "axes[0,0].set_xlabel(\"\")\n",
    "axes[0,1].set_xlabel(\"First principal component (English dominance relative to Spanish and Catalan dominance)\")\n",
    "axes[0,2].set_xlabel(\"\")\n",
    "axes[0,0].set_ylabel(\"\")\n",
    "fig.supylabel(\"Model estimates\")\n",
    "# fig.supxlabel(\"Second principal component (English affinity)\")\n",
    "\n",
    "sns.scatterplot(ax = axes[1,0], x = df_spa_nowarnings.pc2,\n",
    "                y = df_spa_nowarnings.spa_vowel_estimate, color = \"r\")\n",
    "axes[1,0].errorbar(df_spa_nowarnings.pc2,\n",
    "                 df_spa_nowarnings.spa_vowel_estimate,\n",
    "                 yerr=2*df_spa_nowarnings.spa_vowel_std, fmt=' ',\n",
    "            zorder=-1, color = \"r\")\n",
    "axes[1,0].axhline(y = 0, color = \"black\", linestyle = \"--\", alpha = 0.5)\n",
    "axes[1,0].set_title(\"\")\n",
    "axes[1,1].axhline(y = 0, color = \"black\", linestyle = \"--\", alpha = 0.5)\n",
    "# axes[1,1].set_title(\"First principal component (English affinity)\")\n",
    "axes[1,2].axhline(y = 0, color = \"black\", linestyle = \"--\", alpha = 0.5)\n",
    "sns.scatterplot(ax = axes[1,1], x = df_spa_nowarnings.pc2,\n",
    "                y = df_spa_nowarnings.spa_duration_estimate, color = \"b\")\n",
    "axes[1,1].errorbar(df_spa_nowarnings.pc2,\n",
    "                 df_spa_nowarnings.spa_duration_estimate,\n",
    "                 yerr=2*df_spa_nowarnings.spa_duration_std, fmt=' ',\n",
    "            zorder=-1, color = \"b\")\n",
    "sns.scatterplot(ax = axes[1,2], x = df_spa_nowarnings.pc2,\n",
    "                y = df_spa_nowarnings.spa_spectilt_estimate, color = \"g\")\n",
    "axes[1,2].errorbar(df_spa_nowarnings.pc2,\n",
    "                 df_spa_nowarnings.spa_spectilt_estimate,\n",
    "                 yerr=2*df_spa_nowarnings.spa_spectilt_std, fmt=' ',\n",
    "            zorder=-1, color = \"g\")\n",
    "axes[1,2].set_title(\"\")\n",
    "axes[1,0].set_xlabel(\"\")\n",
    "axes[1,1].set_xlabel(\"Second principal component (Catalan dominance relative to Spanish dominance)\")\n",
    "axes[1,2].set_xlabel(\"\")\n",
    "axes[1,0].set_ylabel(\"\")\n",
    "# fig.supxlabel(\"First principal component (English affinity)\")\n",
    "fig.suptitle(\"Spanish perception by trilinguals\")\n",
    "# fig.supylabel(\"Vowel quality estimate\")\n",
    "# handles, labels = ax.get_legend_handles_labels()\n",
    "# #handles = [handles[0],handles[2], handles[4]]\n",
    "# labels = ['Vowel quality', 'Duration', 'Spectral tilt']\n",
    "\n",
    "# ax.legend(handles, labels)\n",
    "# ax.set(xlabel = \"First Principal Component (English affinity)\",\n",
    "#       ylabel = \"Beta estimates\",\n",
    "#       title = \"Catalan perception task\")\n",
    "\n",
    "#plt.ylim([-4,6])\n",
    "plt.savefig('figures/spa_estimates_pc1pc2.jpg', format='jpg', dpi = 800)\n",
    "plt.show();"
   ]
  },
  {
   "cell_type": "markdown",
   "id": "a6718d25-31d1-4dca-9d98-7ebfcaa3f26e",
   "metadata": {},
   "source": [
    "## Now plot principal components against estimates for each acoustic measure (all three languages at once)"
   ]
  },
  {
   "cell_type": "code",
   "execution_count": 14,
   "id": "9561e788-9b23-480e-bb80-1d61adcf0a82",
   "metadata": {},
   "outputs": [],
   "source": [
    "import plotly.express as px"
   ]
  },
  {
   "cell_type": "code",
   "execution_count": 35,
   "id": "184745f0-d72a-4cd2-b8b4-8ff895316258",
   "metadata": {},
   "outputs": [
    {
     "data": {
      "text/html": [
       "<div>\n",
       "<style scoped>\n",
       "    .dataframe tbody tr th:only-of-type {\n",
       "        vertical-align: middle;\n",
       "    }\n",
       "\n",
       "    .dataframe tbody tr th {\n",
       "        vertical-align: top;\n",
       "    }\n",
       "\n",
       "    .dataframe thead th {\n",
       "        text-align: right;\n",
       "    }\n",
       "</style>\n",
       "<table border=\"1\" class=\"dataframe\">\n",
       "  <thead>\n",
       "    <tr style=\"text-align: right;\">\n",
       "      <th></th>\n",
       "      <th>partID</th>\n",
       "      <th>spa_warning</th>\n",
       "      <th>spa_vowel_estimate</th>\n",
       "      <th>spa_vowel_std</th>\n",
       "      <th>spa_duration_estimate</th>\n",
       "      <th>spa_duration_std</th>\n",
       "      <th>spa_spectilt_estimate</th>\n",
       "      <th>spa_spectilt_std</th>\n",
       "      <th>pc1</th>\n",
       "      <th>pc2</th>\n",
       "    </tr>\n",
       "  </thead>\n",
       "  <tbody>\n",
       "    <tr>\n",
       "      <th>1</th>\n",
       "      <td>acj297</td>\n",
       "      <td>0</td>\n",
       "      <td>1.162825</td>\n",
       "      <td>0.222774</td>\n",
       "      <td>0.119551</td>\n",
       "      <td>0.166062</td>\n",
       "      <td>-0.088139</td>\n",
       "      <td>0.166021</td>\n",
       "      <td>3.764211</td>\n",
       "      <td>-1.240101</td>\n",
       "    </tr>\n",
       "    <tr>\n",
       "      <th>2</th>\n",
       "      <td>acr108</td>\n",
       "      <td>0</td>\n",
       "      <td>0.553943</td>\n",
       "      <td>0.195658</td>\n",
       "      <td>-0.063172</td>\n",
       "      <td>0.169932</td>\n",
       "      <td>-0.288236</td>\n",
       "      <td>0.183326</td>\n",
       "      <td>3.094974</td>\n",
       "      <td>-0.507547</td>\n",
       "    </tr>\n",
       "    <tr>\n",
       "      <th>3</th>\n",
       "      <td>aei079</td>\n",
       "      <td>0</td>\n",
       "      <td>0.187595</td>\n",
       "      <td>0.146195</td>\n",
       "      <td>-0.040082</td>\n",
       "      <td>0.144222</td>\n",
       "      <td>0.061279</td>\n",
       "      <td>0.145277</td>\n",
       "      <td>4.173198</td>\n",
       "      <td>2.576465</td>\n",
       "    </tr>\n",
       "    <tr>\n",
       "      <th>5</th>\n",
       "      <td>aes050</td>\n",
       "      <td>0</td>\n",
       "      <td>2.659812</td>\n",
       "      <td>0.460042</td>\n",
       "      <td>-0.029381</td>\n",
       "      <td>0.170380</td>\n",
       "      <td>-0.026580</td>\n",
       "      <td>0.167294</td>\n",
       "      <td>-6.094124</td>\n",
       "      <td>0.827822</td>\n",
       "    </tr>\n",
       "    <tr>\n",
       "      <th>6</th>\n",
       "      <td>afs116</td>\n",
       "      <td>0</td>\n",
       "      <td>-0.030668</td>\n",
       "      <td>0.143121</td>\n",
       "      <td>-0.144326</td>\n",
       "      <td>0.144107</td>\n",
       "      <td>0.081592</td>\n",
       "      <td>0.146629</td>\n",
       "      <td>6.165044</td>\n",
       "      <td>2.991184</td>\n",
       "    </tr>\n",
       "  </tbody>\n",
       "</table>\n",
       "</div>"
      ],
      "text/plain": [
       "   partID spa_warning  spa_vowel_estimate  spa_vowel_std  \\\n",
       "1  acj297           0            1.162825       0.222774   \n",
       "2  acr108           0            0.553943       0.195658   \n",
       "3  aei079           0            0.187595       0.146195   \n",
       "5  aes050           0            2.659812       0.460042   \n",
       "6  afs116           0           -0.030668       0.143121   \n",
       "\n",
       "   spa_duration_estimate  spa_duration_std  spa_spectilt_estimate  \\\n",
       "1               0.119551          0.166062              -0.088139   \n",
       "2              -0.063172          0.169932              -0.288236   \n",
       "3              -0.040082          0.144222               0.061279   \n",
       "5              -0.029381          0.170380              -0.026580   \n",
       "6              -0.144326          0.144107               0.081592   \n",
       "\n",
       "   spa_spectilt_std       pc1       pc2  \n",
       "1          0.166021  3.764211 -1.240101  \n",
       "2          0.183326  3.094974 -0.507547  \n",
       "3          0.145277  4.173198  2.576465  \n",
       "5          0.167294 -6.094124  0.827822  \n",
       "6          0.146629  6.165044  2.991184  "
      ]
     },
     "execution_count": 35,
     "metadata": {},
     "output_type": "execute_result"
    }
   ],
   "source": [
    "# change data frame to combine all estimates\n",
    "df_tri.head()\n",
    "df_spa = df_tri[['partID', 'spa_warning', 'spa_vowel_estimate', 'spa_vowel_std',\n",
    "                'spa_duration_estimate', 'spa_duration_std', 'spa_spectilt_estimate',\n",
    "                'spa_spectilt_std', 'pc1', 'pc2']].copy()\n",
    "df_cat = df_tri[['partID', 'cat_warning', 'cat_vowel_estimate', 'cat_vowel_std',\n",
    "                'cat_duration_estimate', 'cat_duration_std', 'cat_spectilt_estimate',\n",
    "                'cat_spectilt_std', 'pc1', 'pc2']].copy()\n",
    "df_eng = df_tri[['partID', 'eng_warning', 'eng_vowel_estimate', 'eng_vowel_std',\n",
    "                'eng_duration_estimate', 'eng_duration_std', 'eng_spectilt_estimate',\n",
    "                'eng_spectilt_std', 'pc1', 'pc2']].copy()\n",
    "df_spa.head()"
   ]
  },
  {
   "cell_type": "code",
   "execution_count": 36,
   "id": "9796d442-a4a3-4978-8c5c-028d2c929751",
   "metadata": {},
   "outputs": [
    {
     "data": {
      "text/html": [
       "<div>\n",
       "<style scoped>\n",
       "    .dataframe tbody tr th:only-of-type {\n",
       "        vertical-align: middle;\n",
       "    }\n",
       "\n",
       "    .dataframe tbody tr th {\n",
       "        vertical-align: top;\n",
       "    }\n",
       "\n",
       "    .dataframe thead th {\n",
       "        text-align: right;\n",
       "    }\n",
       "</style>\n",
       "<table border=\"1\" class=\"dataframe\">\n",
       "  <thead>\n",
       "    <tr style=\"text-align: right;\">\n",
       "      <th></th>\n",
       "      <th>partID</th>\n",
       "      <th>warning</th>\n",
       "      <th>Vowel Estimate</th>\n",
       "      <th>Vowel Std</th>\n",
       "      <th>Duration Estimate</th>\n",
       "      <th>Duration Std</th>\n",
       "      <th>Spectral Tilt Estimate</th>\n",
       "      <th>Spectral Tilt Std</th>\n",
       "      <th>pc1</th>\n",
       "      <th>pc2</th>\n",
       "      <th>Language</th>\n",
       "    </tr>\n",
       "  </thead>\n",
       "  <tbody>\n",
       "    <tr>\n",
       "      <th>1</th>\n",
       "      <td>acj297</td>\n",
       "      <td>0</td>\n",
       "      <td>1.162825</td>\n",
       "      <td>0.222774</td>\n",
       "      <td>0.119551</td>\n",
       "      <td>0.166062</td>\n",
       "      <td>-0.088139</td>\n",
       "      <td>0.166021</td>\n",
       "      <td>3.764211</td>\n",
       "      <td>-1.240101</td>\n",
       "      <td>Spanish</td>\n",
       "    </tr>\n",
       "    <tr>\n",
       "      <th>2</th>\n",
       "      <td>acr108</td>\n",
       "      <td>0</td>\n",
       "      <td>0.553943</td>\n",
       "      <td>0.195658</td>\n",
       "      <td>-0.063172</td>\n",
       "      <td>0.169932</td>\n",
       "      <td>-0.288236</td>\n",
       "      <td>0.183326</td>\n",
       "      <td>3.094974</td>\n",
       "      <td>-0.507547</td>\n",
       "      <td>Spanish</td>\n",
       "    </tr>\n",
       "    <tr>\n",
       "      <th>3</th>\n",
       "      <td>aei079</td>\n",
       "      <td>0</td>\n",
       "      <td>0.187595</td>\n",
       "      <td>0.146195</td>\n",
       "      <td>-0.040082</td>\n",
       "      <td>0.144222</td>\n",
       "      <td>0.061279</td>\n",
       "      <td>0.145277</td>\n",
       "      <td>4.173198</td>\n",
       "      <td>2.576465</td>\n",
       "      <td>Spanish</td>\n",
       "    </tr>\n",
       "    <tr>\n",
       "      <th>5</th>\n",
       "      <td>aes050</td>\n",
       "      <td>0</td>\n",
       "      <td>2.659812</td>\n",
       "      <td>0.460042</td>\n",
       "      <td>-0.029381</td>\n",
       "      <td>0.170380</td>\n",
       "      <td>-0.026580</td>\n",
       "      <td>0.167294</td>\n",
       "      <td>-6.094124</td>\n",
       "      <td>0.827822</td>\n",
       "      <td>Spanish</td>\n",
       "    </tr>\n",
       "    <tr>\n",
       "      <th>6</th>\n",
       "      <td>afs116</td>\n",
       "      <td>0</td>\n",
       "      <td>-0.030668</td>\n",
       "      <td>0.143121</td>\n",
       "      <td>-0.144326</td>\n",
       "      <td>0.144107</td>\n",
       "      <td>0.081592</td>\n",
       "      <td>0.146629</td>\n",
       "      <td>6.165044</td>\n",
       "      <td>2.991184</td>\n",
       "      <td>Spanish</td>\n",
       "    </tr>\n",
       "  </tbody>\n",
       "</table>\n",
       "</div>"
      ],
      "text/plain": [
       "   partID warning  Vowel Estimate  Vowel Std  Duration Estimate  Duration Std  \\\n",
       "1  acj297       0        1.162825   0.222774           0.119551      0.166062   \n",
       "2  acr108       0        0.553943   0.195658          -0.063172      0.169932   \n",
       "3  aei079       0        0.187595   0.146195          -0.040082      0.144222   \n",
       "5  aes050       0        2.659812   0.460042          -0.029381      0.170380   \n",
       "6  afs116       0       -0.030668   0.143121          -0.144326      0.144107   \n",
       "\n",
       "   Spectral Tilt Estimate  Spectral Tilt Std       pc1       pc2 Language  \n",
       "1               -0.088139           0.166021  3.764211 -1.240101  Spanish  \n",
       "2               -0.288236           0.183326  3.094974 -0.507547  Spanish  \n",
       "3                0.061279           0.145277  4.173198  2.576465  Spanish  \n",
       "5               -0.026580           0.167294 -6.094124  0.827822  Spanish  \n",
       "6                0.081592           0.146629  6.165044  2.991184  Spanish  "
      ]
     },
     "execution_count": 36,
     "metadata": {},
     "output_type": "execute_result"
    }
   ],
   "source": [
    "df_spa['Language'] = \"Spanish\"\n",
    "df_cat['Language'] = \"Catalan\"\n",
    "df_eng['Language'] = \"English\"\n",
    "\n",
    "df_spa = df_spa.rename(columns = {'spa_warning': \"warning\",\n",
    "                                  'spa_vowel_estimate': \"Vowel Estimate\",\n",
    "                                  'spa_vowel_std': \"Vowel Std\",\n",
    "                                  'spa_duration_estimate': \"Duration Estimate\",\n",
    "                                  'spa_duration_std': \"Duration Std\",\n",
    "                                  'spa_spectilt_estimate': \"Spectral Tilt Estimate\",\n",
    "                                  'spa_spectilt_std': \"Spectral Tilt Std\"})\n",
    "df_cat = df_cat.rename(columns = {'cat_warning': \"warning\",\n",
    "                                  'cat_vowel_estimate': \"Vowel Estimate\",\n",
    "                                  'cat_vowel_std': \"Vowel Std\",\n",
    "                                  'cat_duration_estimate': \"Duration Estimate\",\n",
    "                                  'cat_duration_std': \"Duration Std\",\n",
    "                                  'cat_spectilt_estimate': \"Spectral Tilt Estimate\",\n",
    "                                  'cat_spectilt_std': \"Spectral Tilt Std\"})\n",
    "df_eng = df_eng.rename(columns = {'eng_warning': \"warning\",\n",
    "                                  'eng_vowel_estimate': \"Vowel Estimate\",\n",
    "                                  'eng_vowel_std': \"Vowel Std\",\n",
    "                                  'eng_duration_estimate': \"Duration Estimate\",\n",
    "                                  'eng_duration_std': \"Duration Std\",\n",
    "                                  'eng_spectilt_estimate': \"Spectral Tilt Estimate\",\n",
    "                                  'eng_spectilt_std': \"Spectral Tilt Std\"})\n",
    "df_spa.head()"
   ]
  },
  {
   "cell_type": "code",
   "execution_count": 37,
   "id": "261c24d7-9e8a-49ba-ac4a-a1f3b4350abb",
   "metadata": {},
   "outputs": [
    {
     "data": {
      "text/html": [
       "<div>\n",
       "<style scoped>\n",
       "    .dataframe tbody tr th:only-of-type {\n",
       "        vertical-align: middle;\n",
       "    }\n",
       "\n",
       "    .dataframe tbody tr th {\n",
       "        vertical-align: top;\n",
       "    }\n",
       "\n",
       "    .dataframe thead th {\n",
       "        text-align: right;\n",
       "    }\n",
       "</style>\n",
       "<table border=\"1\" class=\"dataframe\">\n",
       "  <thead>\n",
       "    <tr style=\"text-align: right;\">\n",
       "      <th></th>\n",
       "      <th>partID</th>\n",
       "      <th>warning</th>\n",
       "      <th>Vowel Estimate</th>\n",
       "      <th>Vowel Std</th>\n",
       "      <th>Duration Estimate</th>\n",
       "      <th>Duration Std</th>\n",
       "      <th>Spectral Tilt Estimate</th>\n",
       "      <th>Spectral Tilt Std</th>\n",
       "      <th>pc1</th>\n",
       "      <th>pc2</th>\n",
       "      <th>Language</th>\n",
       "    </tr>\n",
       "  </thead>\n",
       "  <tbody>\n",
       "    <tr>\n",
       "      <th>139</th>\n",
       "      <td>rre101</td>\n",
       "      <td>0</td>\n",
       "      <td>-2.782637e-01</td>\n",
       "      <td>0.154512</td>\n",
       "      <td>0.145266</td>\n",
       "      <td>0.150938</td>\n",
       "      <td>0.034730</td>\n",
       "      <td>0.149064</td>\n",
       "      <td>-4.698206</td>\n",
       "      <td>3.409553</td>\n",
       "      <td>English</td>\n",
       "    </tr>\n",
       "    <tr>\n",
       "      <th>140</th>\n",
       "      <td>rrr070</td>\n",
       "      <td>list(message = \"glm.fit: algorithm did not con...</td>\n",
       "      <td>-5.800000e-15</td>\n",
       "      <td>25181.769483</td>\n",
       "      <td>-0.000000</td>\n",
       "      <td>25181.769483</td>\n",
       "      <td>-0.000000</td>\n",
       "      <td>25439.170750</td>\n",
       "      <td>-3.845810</td>\n",
       "      <td>-0.133834</td>\n",
       "      <td>English</td>\n",
       "    </tr>\n",
       "    <tr>\n",
       "      <th>141</th>\n",
       "      <td>srm056</td>\n",
       "      <td>0</td>\n",
       "      <td>-6.405662e-02</td>\n",
       "      <td>0.146180</td>\n",
       "      <td>-0.019878</td>\n",
       "      <td>0.146865</td>\n",
       "      <td>0.022179</td>\n",
       "      <td>0.147047</td>\n",
       "      <td>-7.669850</td>\n",
       "      <td>1.580697</td>\n",
       "      <td>English</td>\n",
       "    </tr>\n",
       "    <tr>\n",
       "      <th>142</th>\n",
       "      <td>usm074</td>\n",
       "      <td>0</td>\n",
       "      <td>2.288847e-01</td>\n",
       "      <td>0.165441</td>\n",
       "      <td>1.312444</td>\n",
       "      <td>0.260591</td>\n",
       "      <td>0.210428</td>\n",
       "      <td>0.166484</td>\n",
       "      <td>-6.896680</td>\n",
       "      <td>2.215197</td>\n",
       "      <td>English</td>\n",
       "    </tr>\n",
       "    <tr>\n",
       "      <th>143</th>\n",
       "      <td>vrc053</td>\n",
       "      <td>0</td>\n",
       "      <td>1.190379e-01</td>\n",
       "      <td>0.215020</td>\n",
       "      <td>0.910490</td>\n",
       "      <td>0.219077</td>\n",
       "      <td>-0.153382</td>\n",
       "      <td>0.216782</td>\n",
       "      <td>6.934260</td>\n",
       "      <td>4.094739</td>\n",
       "      <td>English</td>\n",
       "    </tr>\n",
       "  </tbody>\n",
       "</table>\n",
       "</div>"
      ],
      "text/plain": [
       "     partID                                            warning  \\\n",
       "139  rre101                                                  0   \n",
       "140  rrr070  list(message = \"glm.fit: algorithm did not con...   \n",
       "141  srm056                                                  0   \n",
       "142  usm074                                                  0   \n",
       "143  vrc053                                                  0   \n",
       "\n",
       "     Vowel Estimate     Vowel Std  Duration Estimate  Duration Std  \\\n",
       "139   -2.782637e-01      0.154512           0.145266      0.150938   \n",
       "140   -5.800000e-15  25181.769483          -0.000000  25181.769483   \n",
       "141   -6.405662e-02      0.146180          -0.019878      0.146865   \n",
       "142    2.288847e-01      0.165441           1.312444      0.260591   \n",
       "143    1.190379e-01      0.215020           0.910490      0.219077   \n",
       "\n",
       "     Spectral Tilt Estimate  Spectral Tilt Std       pc1       pc2 Language  \n",
       "139                0.034730           0.149064 -4.698206  3.409553  English  \n",
       "140               -0.000000       25439.170750 -3.845810 -0.133834  English  \n",
       "141                0.022179           0.147047 -7.669850  1.580697  English  \n",
       "142                0.210428           0.166484 -6.896680  2.215197  English  \n",
       "143               -0.153382           0.216782  6.934260  4.094739  English  "
      ]
     },
     "execution_count": 37,
     "metadata": {},
     "output_type": "execute_result"
    }
   ],
   "source": [
    "df_tri_combined = df_spa.append([df_cat, df_eng], ignore_index = True)\n",
    "df_tri_combined.tail()"
   ]
  },
  {
   "cell_type": "code",
   "execution_count": 38,
   "id": "d9c503c8-c966-47db-9e94-4542609fb4c2",
   "metadata": {},
   "outputs": [
    {
     "name": "stdout",
     "output_type": "stream",
     "text": [
      "144\n"
     ]
    },
    {
     "data": {
      "text/plain": [
       "135"
      ]
     },
     "execution_count": 38,
     "metadata": {},
     "output_type": "execute_result"
    }
   ],
   "source": [
    "print(len(df_tri_combined))\n",
    "df_tri_combined = df_tri_combined[(df_tri_combined['warning'].str.len()<=4) | (df_tri_combined['warning'].isna())].copy()\n",
    "len(df_tri_combined)"
   ]
  },
  {
   "cell_type": "code",
   "execution_count": 58,
   "id": "41101fc2-9ab8-48ee-9f54-8f8fb0f23a8d",
   "metadata": {},
   "outputs": [
    {
     "data": {
      "application/vnd.plotly.v1+json": {
       "config": {
        "plotlyServerURL": "https://plot.ly"
       },
       "data": [
        {
         "error_z": {
          "array": [
           0.111386767353513,
           0.097829043049711,
           0.0730972714632085,
           0.2300208271688475,
           0.0715604891334845,
           0.0949738931972615,
           0.092753968959479,
           0.1003451368218875,
           0.342902889488463,
           0.140450587110084,
           0.070919583643306,
           0.0923467114162035,
           0.4164945312521935,
           0.082842864279902,
           0.3886244526902085,
           0.0726564406030285,
           0.0806524940114515,
           0.0714357157289985,
           0.1449185849327205,
           0.0791328723126025,
           0.144255234937167,
           0.165074089822015,
           0.123006882074572,
           0.1308982093640965,
           0.133631574900429,
           0.3508586325409605,
           0.100637414560675,
           0.13061864045212,
           0.073195922334291,
           0.13200128894079,
           0.0739279386947605,
           0.1118884954975925,
           0.0712283396044265,
           0.1689150189162365,
           0.103885943097168,
           0.1380141679825985,
           0.0804319150085225,
           0.096689740280801,
           0.092974880793021,
           0.138606034884114,
           0.078392921410669,
           0.1439399738038665,
           0.072706306761849,
           0.0837046454364525,
           0.072260437651148,
           0.3830252156063965,
           0.2480359357897275
          ]
         },
         "hovertemplate": "Language=Spanish<br>Principal Component 1=%{x}<br>Principal Component 2=%{y}<br>Vowel Estimate=%{z}<extra></extra>",
         "legendgroup": "Spanish",
         "marker": {
          "color": "#636efa",
          "opacity": 0.5,
          "symbol": "circle"
         },
         "mode": "markers",
         "name": "Spanish",
         "scene": "scene",
         "showlegend": true,
         "type": "scatter3d",
         "x": [
          3.76421098338026,
          3.09497414838753,
          4.17319823982308,
          -6.09412364193037,
          6.16504393888865,
          4.93039287479138,
          -7.71263788339418,
          -4.13325390271185,
          3.27600057684007,
          -3.71834446201741,
          5.47176851721687,
          5.23142978600143,
          1.55686667080875,
          -4.44998920756652,
          -4.38448802421401,
          -0.054863649782619,
          -3.82426561078265,
          -4.59130391640685,
          8.46680860497879,
          5.45019704877566,
          4.93241358136987,
          -4.0012901427916,
          -3.26856333913579,
          -0.757010195059152,
          -6.70456671928425,
          3.14137700657558,
          -4.30232674432688,
          3.3613668843822,
          -4.13998127183376,
          4.9206383958364,
          -4.03781267136407,
          -6.87366326229469,
          5.37906267964515,
          8.32039784632548,
          5.59549320461804,
          -5.21313822034094,
          -5.56095061248458,
          2.53814981859685,
          4.27552692621008,
          3.89273442208779,
          -7.49627882192853,
          5.32033855214251,
          -4.6982062141367,
          -3.84581004753822,
          -7.66985044616705,
          -6.89667993553525,
          6.93426034594949
         ],
         "y": [
          -1.24010089100902,
          -0.507546986169717,
          2.57646456901998,
          0.827822215516519,
          2.99118355114398,
          -0.787288204850397,
          7.14059015235643,
          1.46368546145,
          -1.69331074344603,
          -3.32295010526414,
          -1.07476269653375,
          0.136637506884304,
          0.403033134076766,
          -0.47116982191398,
          -0.104776045687341,
          -2.17030091624142,
          0.76048463323031,
          -3.36529446305038,
          4.46616505110546,
          -0.136048002800423,
          -1.5956122973509,
          -2.2213329080347,
          -3.38635064218175,
          3.45350515056702,
          3.57955048888927,
          -0.189413978139784,
          -0.0775427669154291,
          -2.32588595724334,
          -3.76694839928803,
          -1.03421796789996,
          -4.16671356975129,
          2.55200504400252,
          0.513492457672579,
          4.55812637327011,
          -0.788493837743661,
          -0.539700624067024,
          -3.1509565735981,
          -2.34116794854011,
          0.513052693016431,
          -2.72681452031176,
          2.84088190691579,
          -0.596798126725969,
          3.40955286321395,
          -0.13383434061653,
          1.58069703687761,
          2.21519698432699,
          4.09473876402278
         ],
         "z": [
          1.16282538291855,
          0.553942958640122,
          0.187595400342307,
          2.65981159989659,
          -0.030668417865776,
          0.843659763252032,
          0.830309451930292,
          0.948391429066829,
          2.79985537027297,
          1.40013257939326,
          -0.0105538524827797,
          0.575047819372564,
          -0.428265950911374,
          0.347025164346921,
          3.46393518225489,
          0.0627951882562661,
          0.317737972152991,
          -0.0406243156723153,
          1.63860430956609,
          0.519261530526337,
          1.16300372382229,
          1.7162678724116,
          1.22031789100693,
          0.112396505773867,
          1.40997499511408,
          2.97090095388836,
          0.83205663530573,
          1.37887097406137,
          -0.211548764901859,
          1.43320809014431,
          -0.0806785870374097,
          1.0443880478193,
          0.0204592805649596,
          -0.113560065779944,
          -0.0405200457586002,
          1.42246873155448,
          0.398266261230788,
          0.844712985952229,
          0.834756325184321,
          1.44623975107634,
          0.117221961420774,
          1.58195361213151,
          0.136330797089126,
          0.177558739893433,
          -0.113125939401745,
          2.77499039073434,
          2.49278784096815
         ]
        },
        {
         "error_z": {
          "array": [
           0.073407099488253,
           0.081314697824452,
           0.075633866844835,
           0.3658832228448705,
           0.073859834447083,
           0.0981792905302745,
           0.2011804650748645,
           0.2404604002096835,
           0.0909581233966965,
           0.122673627246485,
           null,
           0.0835446062026535,
           0.788166859524215,
           0.0973877638400985,
           0.0923496022347235,
           0.098915409936751,
           0.222534156929345,
           0.077517854887045,
           0.1107558539939085,
           0.0819174569323855,
           0.0861324566987015,
           0.35335812251473,
           0.339822740196892,
           0.1002050758009275,
           0.1188985034897505,
           0.181758044234948,
           0.072393191374936,
           0.140620991385372,
           0.076057732489859,
           0.075117850980431,
           0.0901356130174515,
           0.083510231524085,
           0.081344164755553,
           0.067631947607092,
           0.177296553131144,
           0.27334269146641,
           0.122133979076206,
           0.075938616003859,
           0.076924795902448,
           0.110068382757681,
           0.0732373282284105,
           0.320184301036414,
           0.078392392581783,
           0.0930427369625235
          ]
         },
         "hovertemplate": "Language=Catalan<br>Principal Component 1=%{x}<br>Principal Component 2=%{y}<br>Vowel Estimate=%{z}<extra></extra>",
         "legendgroup": "Catalan",
         "marker": {
          "color": "#EF553B",
          "opacity": 0.5,
          "symbol": "circle"
         },
         "mode": "markers",
         "name": "Catalan",
         "scene": "scene",
         "showlegend": true,
         "type": "scatter3d",
         "x": [
          3.76421098338026,
          3.09497414838753,
          4.17319823982308,
          -6.09412364193037,
          6.16504393888865,
          4.93039287479138,
          -7.71263788339418,
          -4.13325390271185,
          3.27600057684007,
          -3.71834446201741,
          5.47176851721687,
          5.23142978600143,
          1.55686667080875,
          -4.44998920756652,
          -4.38448802421401,
          -0.054863649782619,
          -3.82426561078265,
          -4.59130391640685,
          3.52409522369204,
          8.46680860497879,
          5.45019704877566,
          4.93241358136987,
          -4.0012901427916,
          -3.26856333913579,
          -0.757010195059152,
          -6.70456671928425,
          3.14137700657558,
          -4.30232674432688,
          3.3613668843822,
          -4.13998127183376,
          4.9206383958364,
          -4.03781267136407,
          -6.87366326229469,
          5.37906267964515,
          8.32039784632548,
          -5.21313822034094,
          -5.56095061248458,
          4.27552692621008,
          3.89273442208779,
          -7.49627882192853,
          5.32033855214251,
          -4.6982062141367,
          -7.66985044616705,
          6.93426034594949
         ],
         "y": [
          -1.24010089100902,
          -0.507546986169717,
          2.57646456901998,
          0.827822215516519,
          2.99118355114398,
          -0.787288204850397,
          7.14059015235643,
          1.46368546145,
          -1.69331074344603,
          -3.32295010526414,
          -1.07476269653375,
          0.136637506884304,
          0.403033134076766,
          -0.47116982191398,
          -0.104776045687341,
          -2.17030091624142,
          0.76048463323031,
          -3.36529446305038,
          -0.51524621403081,
          4.46616505110546,
          -0.136048002800423,
          -1.5956122973509,
          -2.2213329080347,
          -3.38635064218175,
          3.45350515056702,
          3.57955048888927,
          -0.189413978139784,
          -0.0775427669154291,
          -2.32588595724334,
          -3.76694839928803,
          -1.03421796789996,
          -4.16671356975129,
          2.55200504400252,
          0.513492457672579,
          4.55812637327011,
          -0.539700624067024,
          -3.1509565735981,
          0.513052693016431,
          -2.72681452031176,
          2.84088190691579,
          -0.596798126725969,
          3.40955286321395,
          1.58069703687761,
          4.09473876402278
         ],
         "z": [
          0.210355600811461,
          0.273683568371428,
          0.326162147270194,
          3.70395333244821,
          0.210109681477973,
          0.866300058037536,
          2.21638371194301,
          2.6049364246694,
          0.673881856894309,
          0.552327807839054,
          null,
          0.0471240530639799,
          0,
          0.883639641307953,
          0.744149248362534,
          0.887155086934916,
          2.3247805494715,
          0.374405349148368,
          0.551162537449966,
          0.468374559619277,
          0.273927742798052,
          1.10934181261677,
          3.33442605624712,
          1.07674244228596,
          -0.482887011751735,
          1.89464059211284,
          0.0733208537027964,
          0.531418446073253,
          0.383713448444156,
          -0.0038386969762822,
          -0.433328658140689,
          0.104598647418141,
          0.846320989898669,
          0.365813845128663,
          -0.0036126091138673,
          2.84192837998143,
          1.27181493906656,
          0.122745578878373,
          0.343870180562932,
          0.988485623685632,
          0.258239639198908,
          3.28122549514155,
          -0.0673150956024044,
          0.799243886320271
         ]
        },
        {
         "error_z": {
          "array": [
           0.1454355568213985,
           0.090982842404436,
           0.188425780164076,
           0.084852803233435,
           0.0856523571469955,
           0.1023410427546245,
           0.0830763373111535,
           0.1000347862127245,
           0.1279187324706825,
           0.3723811257232695,
           0.085048754419393,
           0.0930348863725265,
           0.092725446784136,
           0.089749232904467,
           0.089557188862772,
           0.075865430745887,
           0.0753902563726575,
           0.0717794914151075,
           0.116745795395613,
           0.0851534247772965,
           0.081733402162125,
           0.110615569038221,
           0.1010529654401765,
           0.0975011056529025,
           0.099460343632898,
           0.1038220667353345,
           0.079946453192908,
           0.076435133573458,
           0.14836613158295,
           0.0843232175846945,
           0.2214563462953475,
           0.2110409584697435,
           0.085650494386495,
           0.112098346295836,
           0.10383751609494,
           0.130077491617075,
           0.2598345281567425,
           0.1144954537659605,
           0.086611009401943,
           0.07960453960088,
           0.0772561455245155,
           0.073089757658808,
           0.082720299871672,
           0.1075100344877425
          ]
         },
         "hovertemplate": "Language=English<br>Principal Component 1=%{x}<br>Principal Component 2=%{y}<br>Vowel Estimate=%{z}<extra></extra>",
         "legendgroup": "English",
         "marker": {
          "color": "#00cc96",
          "opacity": 0.5,
          "symbol": "circle"
         },
         "mode": "markers",
         "name": "English",
         "scene": "scene",
         "showlegend": true,
         "type": "scatter3d",
         "x": [
          3.76421098338026,
          3.09497414838753,
          4.17319823982308,
          -6.09412364193037,
          6.16504393888865,
          4.93039287479138,
          -7.71263788339418,
          -4.13325390271185,
          3.27600057684007,
          -3.71834446201741,
          5.23142978600143,
          1.55686667080875,
          -4.44998920756652,
          -4.38448802421401,
          -0.054863649782619,
          -3.82426561078265,
          -4.59130391640685,
          3.52409522369204,
          8.46680860497879,
          5.45019704877566,
          -4.0012901427916,
          -3.26856333913579,
          -0.757010195059152,
          -6.70456671928425,
          3.14137700657558,
          -4.30232674432688,
          3.3613668843822,
          -4.13998127183376,
          4.9206383958364,
          -4.03781267136407,
          -6.87366326229469,
          5.37906267964515,
          8.32039784632548,
          -5.21313822034094,
          -5.56095061248458,
          2.53814981859685,
          4.27552692621008,
          3.89273442208779,
          -7.49627882192853,
          5.32033855214251,
          -4.6982062141367,
          -7.66985044616705,
          -6.89667993553525,
          6.93426034594949
         ],
         "y": [
          -1.24010089100902,
          -0.507546986169717,
          2.57646456901998,
          0.827822215516519,
          2.99118355114398,
          -0.787288204850397,
          7.14059015235643,
          1.46368546145,
          -1.69331074344603,
          -3.32295010526414,
          0.136637506884304,
          0.403033134076766,
          -0.47116982191398,
          -0.104776045687341,
          -2.17030091624142,
          0.76048463323031,
          -3.36529446305038,
          -0.51524621403081,
          4.46616505110546,
          -0.136048002800423,
          -2.2213329080347,
          -3.38635064218175,
          3.45350515056702,
          3.57955048888927,
          -0.189413978139784,
          -0.0775427669154291,
          -2.32588595724334,
          -3.76694839928803,
          -1.03421796789996,
          -4.16671356975129,
          2.55200504400252,
          0.513492457672579,
          4.55812637327011,
          -0.539700624067024,
          -3.1509565735981,
          -2.34116794854011,
          0.513052693016431,
          -2.72681452031176,
          2.84088190691579,
          -0.596798126725969,
          3.40955286321395,
          1.58069703687761,
          2.21519698432699,
          4.09473876402278
         ],
         "z": [
          1.30793387206399,
          -0.336150505574539,
          1.87321804449928,
          0.422446157029368,
          0.62443592974757,
          0.628633692801977,
          -0.197549617054447,
          0.296647118183966,
          1.20244193480088,
          0.162516679245326,
          0.167041722353011,
          0.334390804355704,
          0.284353501291151,
          0.190928141148419,
          0.592054928491878,
          -0.10840907070731,
          0.188378356923501,
          0.122913359804383,
          0.999021690234749,
          0.220816585689847,
          -0.0534706110150808,
          0.367550679009183,
          0.166905002259537,
          0.912607271359432,
          0.78522794405179,
          0.301276000810838,
          -0.339631767684346,
          0.056262829607843,
          1.06406397165367,
          -0.117433303679898,
          1.35378289702697,
          2.2544711542853,
          0.593584327494881,
          0.334799054232802,
          -0.433471226685851,
          0.17178239915656,
          -2.3965976746494,
          0.727870594486142,
          -0.42467684081588,
          0.0469765338221834,
          -0.278263651997506,
          -0.0640566247168387,
          0.228884706608482,
          0.119037946206441
         ]
        }
       ],
       "layout": {
        "height": 500,
        "legend": {
         "title": {
          "text": "Language"
         },
         "tracegroupgap": 0
        },
        "margin": {
         "t": 60
        },
        "scene": {
         "aspectmode": "auto",
         "aspectratio": {
          "x": 1.5597909630457916,
          "y": 1.0900885994358436,
          "z": 0.5881279274485032
         },
         "camera": {
          "center": {
           "x": 0,
           "y": 0,
           "z": 0
          },
          "eye": {
           "x": -0.004244244077360301,
           "y": -0.008988252626483974,
           "z": 0.0010943979780208173
          },
          "projection": {
           "type": "perspective"
          },
          "up": {
           "x": 0,
           "y": 0,
           "z": 1
          }
         },
         "domain": {
          "x": [
           0,
           1
          ],
          "y": [
           0,
           1
          ]
         },
         "xaxis": {
          "range": [
           -10,
           10
          ],
          "title": {
           "text": "Principal Component 1"
          },
          "type": "linear"
         },
         "yaxis": {
          "range": [
           -10,
           10
          ],
          "title": {
           "text": "Principal Component 2"
          },
          "type": "linear"
         },
         "zaxis": {
          "title": {
           "text": "Vowel Estimate"
          },
          "type": "linear"
         }
        },
        "template": {
         "data": {
          "bar": [
           {
            "error_x": {
             "color": "#2a3f5f"
            },
            "error_y": {
             "color": "#2a3f5f"
            },
            "marker": {
             "line": {
              "color": "#E5ECF6",
              "width": 0.5
             },
             "pattern": {
              "fillmode": "overlay",
              "size": 10,
              "solidity": 0.2
             }
            },
            "type": "bar"
           }
          ],
          "barpolar": [
           {
            "marker": {
             "line": {
              "color": "#E5ECF6",
              "width": 0.5
             },
             "pattern": {
              "fillmode": "overlay",
              "size": 10,
              "solidity": 0.2
             }
            },
            "type": "barpolar"
           }
          ],
          "carpet": [
           {
            "aaxis": {
             "endlinecolor": "#2a3f5f",
             "gridcolor": "white",
             "linecolor": "white",
             "minorgridcolor": "white",
             "startlinecolor": "#2a3f5f"
            },
            "baxis": {
             "endlinecolor": "#2a3f5f",
             "gridcolor": "white",
             "linecolor": "white",
             "minorgridcolor": "white",
             "startlinecolor": "#2a3f5f"
            },
            "type": "carpet"
           }
          ],
          "choropleth": [
           {
            "colorbar": {
             "outlinewidth": 0,
             "ticks": ""
            },
            "type": "choropleth"
           }
          ],
          "contour": [
           {
            "colorbar": {
             "outlinewidth": 0,
             "ticks": ""
            },
            "colorscale": [
             [
              0,
              "#0d0887"
             ],
             [
              0.1111111111111111,
              "#46039f"
             ],
             [
              0.2222222222222222,
              "#7201a8"
             ],
             [
              0.3333333333333333,
              "#9c179e"
             ],
             [
              0.4444444444444444,
              "#bd3786"
             ],
             [
              0.5555555555555556,
              "#d8576b"
             ],
             [
              0.6666666666666666,
              "#ed7953"
             ],
             [
              0.7777777777777778,
              "#fb9f3a"
             ],
             [
              0.8888888888888888,
              "#fdca26"
             ],
             [
              1,
              "#f0f921"
             ]
            ],
            "type": "contour"
           }
          ],
          "contourcarpet": [
           {
            "colorbar": {
             "outlinewidth": 0,
             "ticks": ""
            },
            "type": "contourcarpet"
           }
          ],
          "heatmap": [
           {
            "colorbar": {
             "outlinewidth": 0,
             "ticks": ""
            },
            "colorscale": [
             [
              0,
              "#0d0887"
             ],
             [
              0.1111111111111111,
              "#46039f"
             ],
             [
              0.2222222222222222,
              "#7201a8"
             ],
             [
              0.3333333333333333,
              "#9c179e"
             ],
             [
              0.4444444444444444,
              "#bd3786"
             ],
             [
              0.5555555555555556,
              "#d8576b"
             ],
             [
              0.6666666666666666,
              "#ed7953"
             ],
             [
              0.7777777777777778,
              "#fb9f3a"
             ],
             [
              0.8888888888888888,
              "#fdca26"
             ],
             [
              1,
              "#f0f921"
             ]
            ],
            "type": "heatmap"
           }
          ],
          "heatmapgl": [
           {
            "colorbar": {
             "outlinewidth": 0,
             "ticks": ""
            },
            "colorscale": [
             [
              0,
              "#0d0887"
             ],
             [
              0.1111111111111111,
              "#46039f"
             ],
             [
              0.2222222222222222,
              "#7201a8"
             ],
             [
              0.3333333333333333,
              "#9c179e"
             ],
             [
              0.4444444444444444,
              "#bd3786"
             ],
             [
              0.5555555555555556,
              "#d8576b"
             ],
             [
              0.6666666666666666,
              "#ed7953"
             ],
             [
              0.7777777777777778,
              "#fb9f3a"
             ],
             [
              0.8888888888888888,
              "#fdca26"
             ],
             [
              1,
              "#f0f921"
             ]
            ],
            "type": "heatmapgl"
           }
          ],
          "histogram": [
           {
            "marker": {
             "pattern": {
              "fillmode": "overlay",
              "size": 10,
              "solidity": 0.2
             }
            },
            "type": "histogram"
           }
          ],
          "histogram2d": [
           {
            "colorbar": {
             "outlinewidth": 0,
             "ticks": ""
            },
            "colorscale": [
             [
              0,
              "#0d0887"
             ],
             [
              0.1111111111111111,
              "#46039f"
             ],
             [
              0.2222222222222222,
              "#7201a8"
             ],
             [
              0.3333333333333333,
              "#9c179e"
             ],
             [
              0.4444444444444444,
              "#bd3786"
             ],
             [
              0.5555555555555556,
              "#d8576b"
             ],
             [
              0.6666666666666666,
              "#ed7953"
             ],
             [
              0.7777777777777778,
              "#fb9f3a"
             ],
             [
              0.8888888888888888,
              "#fdca26"
             ],
             [
              1,
              "#f0f921"
             ]
            ],
            "type": "histogram2d"
           }
          ],
          "histogram2dcontour": [
           {
            "colorbar": {
             "outlinewidth": 0,
             "ticks": ""
            },
            "colorscale": [
             [
              0,
              "#0d0887"
             ],
             [
              0.1111111111111111,
              "#46039f"
             ],
             [
              0.2222222222222222,
              "#7201a8"
             ],
             [
              0.3333333333333333,
              "#9c179e"
             ],
             [
              0.4444444444444444,
              "#bd3786"
             ],
             [
              0.5555555555555556,
              "#d8576b"
             ],
             [
              0.6666666666666666,
              "#ed7953"
             ],
             [
              0.7777777777777778,
              "#fb9f3a"
             ],
             [
              0.8888888888888888,
              "#fdca26"
             ],
             [
              1,
              "#f0f921"
             ]
            ],
            "type": "histogram2dcontour"
           }
          ],
          "mesh3d": [
           {
            "colorbar": {
             "outlinewidth": 0,
             "ticks": ""
            },
            "type": "mesh3d"
           }
          ],
          "parcoords": [
           {
            "line": {
             "colorbar": {
              "outlinewidth": 0,
              "ticks": ""
             }
            },
            "type": "parcoords"
           }
          ],
          "pie": [
           {
            "automargin": true,
            "type": "pie"
           }
          ],
          "scatter": [
           {
            "marker": {
             "colorbar": {
              "outlinewidth": 0,
              "ticks": ""
             }
            },
            "type": "scatter"
           }
          ],
          "scatter3d": [
           {
            "line": {
             "colorbar": {
              "outlinewidth": 0,
              "ticks": ""
             }
            },
            "marker": {
             "colorbar": {
              "outlinewidth": 0,
              "ticks": ""
             }
            },
            "type": "scatter3d"
           }
          ],
          "scattercarpet": [
           {
            "marker": {
             "colorbar": {
              "outlinewidth": 0,
              "ticks": ""
             }
            },
            "type": "scattercarpet"
           }
          ],
          "scattergeo": [
           {
            "marker": {
             "colorbar": {
              "outlinewidth": 0,
              "ticks": ""
             }
            },
            "type": "scattergeo"
           }
          ],
          "scattergl": [
           {
            "marker": {
             "colorbar": {
              "outlinewidth": 0,
              "ticks": ""
             }
            },
            "type": "scattergl"
           }
          ],
          "scattermapbox": [
           {
            "marker": {
             "colorbar": {
              "outlinewidth": 0,
              "ticks": ""
             }
            },
            "type": "scattermapbox"
           }
          ],
          "scatterpolar": [
           {
            "marker": {
             "colorbar": {
              "outlinewidth": 0,
              "ticks": ""
             }
            },
            "type": "scatterpolar"
           }
          ],
          "scatterpolargl": [
           {
            "marker": {
             "colorbar": {
              "outlinewidth": 0,
              "ticks": ""
             }
            },
            "type": "scatterpolargl"
           }
          ],
          "scatterternary": [
           {
            "marker": {
             "colorbar": {
              "outlinewidth": 0,
              "ticks": ""
             }
            },
            "type": "scatterternary"
           }
          ],
          "surface": [
           {
            "colorbar": {
             "outlinewidth": 0,
             "ticks": ""
            },
            "colorscale": [
             [
              0,
              "#0d0887"
             ],
             [
              0.1111111111111111,
              "#46039f"
             ],
             [
              0.2222222222222222,
              "#7201a8"
             ],
             [
              0.3333333333333333,
              "#9c179e"
             ],
             [
              0.4444444444444444,
              "#bd3786"
             ],
             [
              0.5555555555555556,
              "#d8576b"
             ],
             [
              0.6666666666666666,
              "#ed7953"
             ],
             [
              0.7777777777777778,
              "#fb9f3a"
             ],
             [
              0.8888888888888888,
              "#fdca26"
             ],
             [
              1,
              "#f0f921"
             ]
            ],
            "type": "surface"
           }
          ],
          "table": [
           {
            "cells": {
             "fill": {
              "color": "#EBF0F8"
             },
             "line": {
              "color": "white"
             }
            },
            "header": {
             "fill": {
              "color": "#C8D4E3"
             },
             "line": {
              "color": "white"
             }
            },
            "type": "table"
           }
          ]
         },
         "layout": {
          "annotationdefaults": {
           "arrowcolor": "#2a3f5f",
           "arrowhead": 0,
           "arrowwidth": 1
          },
          "autotypenumbers": "strict",
          "coloraxis": {
           "colorbar": {
            "outlinewidth": 0,
            "ticks": ""
           }
          },
          "colorscale": {
           "diverging": [
            [
             0,
             "#8e0152"
            ],
            [
             0.1,
             "#c51b7d"
            ],
            [
             0.2,
             "#de77ae"
            ],
            [
             0.3,
             "#f1b6da"
            ],
            [
             0.4,
             "#fde0ef"
            ],
            [
             0.5,
             "#f7f7f7"
            ],
            [
             0.6,
             "#e6f5d0"
            ],
            [
             0.7,
             "#b8e186"
            ],
            [
             0.8,
             "#7fbc41"
            ],
            [
             0.9,
             "#4d9221"
            ],
            [
             1,
             "#276419"
            ]
           ],
           "sequential": [
            [
             0,
             "#0d0887"
            ],
            [
             0.1111111111111111,
             "#46039f"
            ],
            [
             0.2222222222222222,
             "#7201a8"
            ],
            [
             0.3333333333333333,
             "#9c179e"
            ],
            [
             0.4444444444444444,
             "#bd3786"
            ],
            [
             0.5555555555555556,
             "#d8576b"
            ],
            [
             0.6666666666666666,
             "#ed7953"
            ],
            [
             0.7777777777777778,
             "#fb9f3a"
            ],
            [
             0.8888888888888888,
             "#fdca26"
            ],
            [
             1,
             "#f0f921"
            ]
           ],
           "sequentialminus": [
            [
             0,
             "#0d0887"
            ],
            [
             0.1111111111111111,
             "#46039f"
            ],
            [
             0.2222222222222222,
             "#7201a8"
            ],
            [
             0.3333333333333333,
             "#9c179e"
            ],
            [
             0.4444444444444444,
             "#bd3786"
            ],
            [
             0.5555555555555556,
             "#d8576b"
            ],
            [
             0.6666666666666666,
             "#ed7953"
            ],
            [
             0.7777777777777778,
             "#fb9f3a"
            ],
            [
             0.8888888888888888,
             "#fdca26"
            ],
            [
             1,
             "#f0f921"
            ]
           ]
          },
          "colorway": [
           "#636efa",
           "#EF553B",
           "#00cc96",
           "#ab63fa",
           "#FFA15A",
           "#19d3f3",
           "#FF6692",
           "#B6E880",
           "#FF97FF",
           "#FECB52"
          ],
          "font": {
           "color": "#2a3f5f"
          },
          "geo": {
           "bgcolor": "white",
           "lakecolor": "white",
           "landcolor": "#E5ECF6",
           "showlakes": true,
           "showland": true,
           "subunitcolor": "white"
          },
          "hoverlabel": {
           "align": "left"
          },
          "hovermode": "closest",
          "mapbox": {
           "style": "light"
          },
          "paper_bgcolor": "white",
          "plot_bgcolor": "#E5ECF6",
          "polar": {
           "angularaxis": {
            "gridcolor": "white",
            "linecolor": "white",
            "ticks": ""
           },
           "bgcolor": "#E5ECF6",
           "radialaxis": {
            "gridcolor": "white",
            "linecolor": "white",
            "ticks": ""
           }
          },
          "scene": {
           "xaxis": {
            "backgroundcolor": "#E5ECF6",
            "gridcolor": "white",
            "gridwidth": 2,
            "linecolor": "white",
            "showbackground": true,
            "ticks": "",
            "zerolinecolor": "white"
           },
           "yaxis": {
            "backgroundcolor": "#E5ECF6",
            "gridcolor": "white",
            "gridwidth": 2,
            "linecolor": "white",
            "showbackground": true,
            "ticks": "",
            "zerolinecolor": "white"
           },
           "zaxis": {
            "backgroundcolor": "#E5ECF6",
            "gridcolor": "white",
            "gridwidth": 2,
            "linecolor": "white",
            "showbackground": true,
            "ticks": "",
            "zerolinecolor": "white"
           }
          },
          "shapedefaults": {
           "line": {
            "color": "#2a3f5f"
           }
          },
          "ternary": {
           "aaxis": {
            "gridcolor": "white",
            "linecolor": "white",
            "ticks": ""
           },
           "baxis": {
            "gridcolor": "white",
            "linecolor": "white",
            "ticks": ""
           },
           "bgcolor": "#E5ECF6",
           "caxis": {
            "gridcolor": "white",
            "linecolor": "white",
            "ticks": ""
           }
          },
          "title": {
           "x": 0.05
          },
          "xaxis": {
           "automargin": true,
           "gridcolor": "white",
           "linecolor": "white",
           "ticks": "",
           "title": {
            "standoff": 15
           },
           "zerolinecolor": "white",
           "zerolinewidth": 2
          },
          "yaxis": {
           "automargin": true,
           "gridcolor": "white",
           "linecolor": "white",
           "ticks": "",
           "title": {
            "standoff": 15
           },
           "zerolinecolor": "white",
           "zerolinewidth": 2
          }
         }
        },
        "width": 800
       }
      },
      "image/png": "[encoded data removed]",
      "text/html": [
       "<div>                            <div id=\"b8a00014-6466-4df7-97b4-993d1eb12114\" class=\"plotly-graph-div\" style=\"height:500px; width:800px;\"></div>            <script type=\"text/javascript\">                require([\"plotly\"], function(Plotly) {                    window.PLOTLYENV=window.PLOTLYENV || {};                                    if (document.getElementById(\"b8a00014-6466-4df7-97b4-993d1eb12114\")) {                    Plotly.newPlot(                        \"b8a00014-6466-4df7-97b4-993d1eb12114\",                        [{\"error_z\":{\"array\":[0.111386767353513,0.097829043049711,0.0730972714632085,0.2300208271688475,0.0715604891334845,0.0949738931972615,0.092753968959479,0.1003451368218875,0.342902889488463,0.140450587110084,0.070919583643306,0.0923467114162035,0.4164945312521935,0.082842864279902,0.3886244526902085,0.0726564406030285,0.0806524940114515,0.0714357157289985,0.1449185849327205,0.0791328723126025,0.144255234937167,0.165074089822015,0.123006882074572,0.1308982093640965,0.133631574900429,0.3508586325409605,0.100637414560675,0.13061864045212,0.073195922334291,0.13200128894079,0.0739279386947605,0.1118884954975925,0.0712283396044265,0.1689150189162365,0.103885943097168,0.1380141679825985,0.0804319150085225,0.096689740280801,0.092974880793021,0.138606034884114,0.078392921410669,0.1439399738038665,0.072706306761849,0.0837046454364525,0.072260437651148,0.3830252156063965,0.2480359357897275]},\"hovertemplate\":\"Language=Spanish<br>Principal Component 1=%{x}<br>Principal Component 2=%{y}<br>Vowel Estimate=%{z}<extra></extra>\",\"legendgroup\":\"Spanish\",\"marker\":{\"color\":\"#636efa\",\"opacity\":0.5,\"symbol\":\"circle\"},\"mode\":\"markers\",\"name\":\"Spanish\",\"scene\":\"scene\",\"showlegend\":true,\"type\":\"scatter3d\",\"x\":[3.76421098338026,3.09497414838753,4.17319823982308,-6.09412364193037,6.16504393888865,4.93039287479138,-7.71263788339418,-4.13325390271185,3.27600057684007,-3.71834446201741,5.47176851721687,5.23142978600143,1.55686667080875,-4.44998920756652,-4.38448802421401,-0.054863649782619,-3.82426561078265,-4.59130391640685,8.46680860497879,5.45019704877566,4.93241358136987,-4.0012901427916,-3.26856333913579,-0.757010195059152,-6.70456671928425,3.14137700657558,-4.30232674432688,3.3613668843822,-4.13998127183376,4.9206383958364,-4.03781267136407,-6.87366326229469,5.37906267964515,8.32039784632548,5.59549320461804,-5.21313822034094,-5.56095061248458,2.53814981859685,4.27552692621008,3.89273442208779,-7.49627882192853,5.32033855214251,-4.6982062141367,-3.84581004753822,-7.66985044616705,-6.89667993553525,6.93426034594949],\"y\":[-1.24010089100902,-0.507546986169717,2.57646456901998,0.827822215516519,2.99118355114398,-0.787288204850397,7.14059015235643,1.46368546145,-1.69331074344603,-3.32295010526414,-1.07476269653375,0.136637506884304,0.403033134076766,-0.47116982191398,-0.104776045687341,-2.17030091624142,0.76048463323031,-3.36529446305038,4.46616505110546,-0.136048002800423,-1.5956122973509,-2.2213329080347,-3.38635064218175,3.45350515056702,3.57955048888927,-0.189413978139784,-0.0775427669154291,-2.32588595724334,-3.76694839928803,-1.03421796789996,-4.16671356975129,2.55200504400252,0.513492457672579,4.55812637327011,-0.788493837743661,-0.539700624067024,-3.1509565735981,-2.34116794854011,0.513052693016431,-2.72681452031176,2.84088190691579,-0.596798126725969,3.40955286321395,-0.13383434061653,1.58069703687761,2.21519698432699,4.09473876402278],\"z\":[1.16282538291855,0.553942958640122,0.187595400342307,2.65981159989659,-0.030668417865776,0.843659763252032,0.830309451930292,0.948391429066829,2.79985537027297,1.40013257939326,-0.0105538524827797,0.575047819372564,-0.428265950911374,0.347025164346921,3.46393518225489,0.0627951882562661,0.317737972152991,-0.0406243156723153,1.63860430956609,0.519261530526337,1.16300372382229,1.7162678724116,1.22031789100693,0.112396505773867,1.40997499511408,2.97090095388836,0.83205663530573,1.37887097406137,-0.211548764901859,1.43320809014431,-0.0806785870374097,1.0443880478193,0.0204592805649596,-0.113560065779944,-0.0405200457586002,1.42246873155448,0.398266261230788,0.844712985952229,0.834756325184321,1.44623975107634,0.117221961420774,1.58195361213151,0.136330797089126,0.177558739893433,-0.113125939401745,2.77499039073434,2.49278784096815]},{\"error_z\":{\"array\":[0.073407099488253,0.081314697824452,0.075633866844835,0.3658832228448705,0.073859834447083,0.0981792905302745,0.2011804650748645,0.2404604002096835,0.0909581233966965,0.122673627246485,null,0.0835446062026535,0.788166859524215,0.0973877638400985,0.0923496022347235,0.098915409936751,0.222534156929345,0.077517854887045,0.1107558539939085,0.0819174569323855,0.0861324566987015,0.35335812251473,0.339822740196892,0.1002050758009275,0.1188985034897505,0.181758044234948,0.072393191374936,0.140620991385372,0.076057732489859,0.075117850980431,0.0901356130174515,0.083510231524085,0.081344164755553,0.067631947607092,0.177296553131144,0.27334269146641,0.122133979076206,0.075938616003859,0.076924795902448,0.110068382757681,0.0732373282284105,0.320184301036414,0.078392392581783,0.0930427369625235]},\"hovertemplate\":\"Language=Catalan<br>Principal Component 1=%{x}<br>Principal Component 2=%{y}<br>Vowel Estimate=%{z}<extra></extra>\",\"legendgroup\":\"Catalan\",\"marker\":{\"color\":\"#EF553B\",\"opacity\":0.5,\"symbol\":\"circle\"},\"mode\":\"markers\",\"name\":\"Catalan\",\"scene\":\"scene\",\"showlegend\":true,\"type\":\"scatter3d\",\"x\":[3.76421098338026,3.09497414838753,4.17319823982308,-6.09412364193037,6.16504393888865,4.93039287479138,-7.71263788339418,-4.13325390271185,3.27600057684007,-3.71834446201741,5.47176851721687,5.23142978600143,1.55686667080875,-4.44998920756652,-4.38448802421401,-0.054863649782619,-3.82426561078265,-4.59130391640685,3.52409522369204,8.46680860497879,5.45019704877566,4.93241358136987,-4.0012901427916,-3.26856333913579,-0.757010195059152,-6.70456671928425,3.14137700657558,-4.30232674432688,3.3613668843822,-4.13998127183376,4.9206383958364,-4.03781267136407,-6.87366326229469,5.37906267964515,8.32039784632548,-5.21313822034094,-5.56095061248458,4.27552692621008,3.89273442208779,-7.49627882192853,5.32033855214251,-4.6982062141367,-7.66985044616705,6.93426034594949],\"y\":[-1.24010089100902,-0.507546986169717,2.57646456901998,0.827822215516519,2.99118355114398,-0.787288204850397,7.14059015235643,1.46368546145,-1.69331074344603,-3.32295010526414,-1.07476269653375,0.136637506884304,0.403033134076766,-0.47116982191398,-0.104776045687341,-2.17030091624142,0.76048463323031,-3.36529446305038,-0.51524621403081,4.46616505110546,-0.136048002800423,-1.5956122973509,-2.2213329080347,-3.38635064218175,3.45350515056702,3.57955048888927,-0.189413978139784,-0.0775427669154291,-2.32588595724334,-3.76694839928803,-1.03421796789996,-4.16671356975129,2.55200504400252,0.513492457672579,4.55812637327011,-0.539700624067024,-3.1509565735981,0.513052693016431,-2.72681452031176,2.84088190691579,-0.596798126725969,3.40955286321395,1.58069703687761,4.09473876402278],\"z\":[0.210355600811461,0.273683568371428,0.326162147270194,3.70395333244821,0.210109681477973,0.866300058037536,2.21638371194301,2.6049364246694,0.673881856894309,0.552327807839054,null,0.0471240530639799,-0.0,0.883639641307953,0.744149248362534,0.887155086934916,2.3247805494715,0.374405349148368,0.551162537449966,0.468374559619277,0.273927742798052,1.10934181261677,3.33442605624712,1.07674244228596,-0.482887011751735,1.89464059211284,0.0733208537027964,0.531418446073253,0.383713448444156,-0.0038386969762822,-0.433328658140689,0.104598647418141,0.846320989898669,0.365813845128663,-0.0036126091138673,2.84192837998143,1.27181493906656,0.122745578878373,0.343870180562932,0.988485623685632,0.258239639198908,3.28122549514155,-0.0673150956024044,0.799243886320271]},{\"error_z\":{\"array\":[0.1454355568213985,0.090982842404436,0.188425780164076,0.084852803233435,0.0856523571469955,0.1023410427546245,0.0830763373111535,0.1000347862127245,0.1279187324706825,0.3723811257232695,0.085048754419393,0.0930348863725265,0.092725446784136,0.089749232904467,0.089557188862772,0.075865430745887,0.0753902563726575,0.0717794914151075,0.116745795395613,0.0851534247772965,0.081733402162125,0.110615569038221,0.1010529654401765,0.0975011056529025,0.099460343632898,0.1038220667353345,0.079946453192908,0.076435133573458,0.14836613158295,0.0843232175846945,0.2214563462953475,0.2110409584697435,0.085650494386495,0.112098346295836,0.10383751609494,0.130077491617075,0.2598345281567425,0.1144954537659605,0.086611009401943,0.07960453960088,0.0772561455245155,0.073089757658808,0.082720299871672,0.1075100344877425]},\"hovertemplate\":\"Language=English<br>Principal Component 1=%{x}<br>Principal Component 2=%{y}<br>Vowel Estimate=%{z}<extra></extra>\",\"legendgroup\":\"English\",\"marker\":{\"color\":\"#00cc96\",\"opacity\":0.5,\"symbol\":\"circle\"},\"mode\":\"markers\",\"name\":\"English\",\"scene\":\"scene\",\"showlegend\":true,\"type\":\"scatter3d\",\"x\":[3.76421098338026,3.09497414838753,4.17319823982308,-6.09412364193037,6.16504393888865,4.93039287479138,-7.71263788339418,-4.13325390271185,3.27600057684007,-3.71834446201741,5.23142978600143,1.55686667080875,-4.44998920756652,-4.38448802421401,-0.054863649782619,-3.82426561078265,-4.59130391640685,3.52409522369204,8.46680860497879,5.45019704877566,-4.0012901427916,-3.26856333913579,-0.757010195059152,-6.70456671928425,3.14137700657558,-4.30232674432688,3.3613668843822,-4.13998127183376,4.9206383958364,-4.03781267136407,-6.87366326229469,5.37906267964515,8.32039784632548,-5.21313822034094,-5.56095061248458,2.53814981859685,4.27552692621008,3.89273442208779,-7.49627882192853,5.32033855214251,-4.6982062141367,-7.66985044616705,-6.89667993553525,6.93426034594949],\"y\":[-1.24010089100902,-0.507546986169717,2.57646456901998,0.827822215516519,2.99118355114398,-0.787288204850397,7.14059015235643,1.46368546145,-1.69331074344603,-3.32295010526414,0.136637506884304,0.403033134076766,-0.47116982191398,-0.104776045687341,-2.17030091624142,0.76048463323031,-3.36529446305038,-0.51524621403081,4.46616505110546,-0.136048002800423,-2.2213329080347,-3.38635064218175,3.45350515056702,3.57955048888927,-0.189413978139784,-0.0775427669154291,-2.32588595724334,-3.76694839928803,-1.03421796789996,-4.16671356975129,2.55200504400252,0.513492457672579,4.55812637327011,-0.539700624067024,-3.1509565735981,-2.34116794854011,0.513052693016431,-2.72681452031176,2.84088190691579,-0.596798126725969,3.40955286321395,1.58069703687761,2.21519698432699,4.09473876402278],\"z\":[1.30793387206399,-0.336150505574539,1.87321804449928,0.422446157029368,0.62443592974757,0.628633692801977,-0.197549617054447,0.296647118183966,1.20244193480088,0.162516679245326,0.167041722353011,0.334390804355704,0.284353501291151,0.190928141148419,0.592054928491878,-0.10840907070731,0.188378356923501,0.122913359804383,0.999021690234749,0.220816585689847,-0.0534706110150808,0.367550679009183,0.166905002259537,0.912607271359432,0.78522794405179,0.301276000810838,-0.339631767684346,0.056262829607843,1.06406397165367,-0.117433303679898,1.35378289702697,2.2544711542853,0.593584327494881,0.334799054232802,-0.433471226685851,0.17178239915656,-2.3965976746494,0.727870594486142,-0.42467684081588,0.0469765338221834,-0.278263651997506,-0.0640566247168387,0.228884706608482,0.119037946206441]}],                        {\"height\":500,\"legend\":{\"title\":{\"text\":\"Language\"},\"tracegroupgap\":0},\"margin\":{\"t\":60},\"scene\":{\"domain\":{\"x\":[0.0,1.0],\"y\":[0.0,1.0]},\"xaxis\":{\"range\":[-10,10],\"title\":{\"text\":\"Principal Component 1\"}},\"yaxis\":{\"range\":[-10,10],\"title\":{\"text\":\"Principal Component 2\"}},\"zaxis\":{\"title\":{\"text\":\"Vowel Estimate\"}}},\"template\":{\"data\":{\"bar\":[{\"error_x\":{\"color\":\"#2a3f5f\"},\"error_y\":{\"color\":\"#2a3f5f\"},\"marker\":{\"line\":{\"color\":\"#E5ECF6\",\"width\":0.5},\"pattern\":{\"fillmode\":\"overlay\",\"size\":10,\"solidity\":0.2}},\"type\":\"bar\"}],\"barpolar\":[{\"marker\":{\"line\":{\"color\":\"#E5ECF6\",\"width\":0.5},\"pattern\":{\"fillmode\":\"overlay\",\"size\":10,\"solidity\":0.2}},\"type\":\"barpolar\"}],\"carpet\":[{\"aaxis\":{\"endlinecolor\":\"#2a3f5f\",\"gridcolor\":\"white\",\"linecolor\":\"white\",\"minorgridcolor\":\"white\",\"startlinecolor\":\"#2a3f5f\"},\"baxis\":{\"endlinecolor\":\"#2a3f5f\",\"gridcolor\":\"white\",\"linecolor\":\"white\",\"minorgridcolor\":\"white\",\"startlinecolor\":\"#2a3f5f\"},\"type\":\"carpet\"}],\"choropleth\":[{\"colorbar\":{\"outlinewidth\":0,\"ticks\":\"\"},\"type\":\"choropleth\"}],\"contour\":[{\"colorbar\":{\"outlinewidth\":0,\"ticks\":\"\"},\"colorscale\":[[0.0,\"#0d0887\"],[0.1111111111111111,\"#46039f\"],[0.2222222222222222,\"#7201a8\"],[0.3333333333333333,\"#9c179e\"],[0.4444444444444444,\"#bd3786\"],[0.5555555555555556,\"#d8576b\"],[0.6666666666666666,\"#ed7953\"],[0.7777777777777778,\"#fb9f3a\"],[0.8888888888888888,\"#fdca26\"],[1.0,\"#f0f921\"]],\"type\":\"contour\"}],\"contourcarpet\":[{\"colorbar\":{\"outlinewidth\":0,\"ticks\":\"\"},\"type\":\"contourcarpet\"}],\"heatmap\":[{\"colorbar\":{\"outlinewidth\":0,\"ticks\":\"\"},\"colorscale\":[[0.0,\"#0d0887\"],[0.1111111111111111,\"#46039f\"],[0.2222222222222222,\"#7201a8\"],[0.3333333333333333,\"#9c179e\"],[0.4444444444444444,\"#bd3786\"],[0.5555555555555556,\"#d8576b\"],[0.6666666666666666,\"#ed7953\"],[0.7777777777777778,\"#fb9f3a\"],[0.8888888888888888,\"#fdca26\"],[1.0,\"#f0f921\"]],\"type\":\"heatmap\"}],\"heatmapgl\":[{\"colorbar\":{\"outlinewidth\":0,\"ticks\":\"\"},\"colorscale\":[[0.0,\"#0d0887\"],[0.1111111111111111,\"#46039f\"],[0.2222222222222222,\"#7201a8\"],[0.3333333333333333,\"#9c179e\"],[0.4444444444444444,\"#bd3786\"],[0.5555555555555556,\"#d8576b\"],[0.6666666666666666,\"#ed7953\"],[0.7777777777777778,\"#fb9f3a\"],[0.8888888888888888,\"#fdca26\"],[1.0,\"#f0f921\"]],\"type\":\"heatmapgl\"}],\"histogram\":[{\"marker\":{\"pattern\":{\"fillmode\":\"overlay\",\"size\":10,\"solidity\":0.2}},\"type\":\"histogram\"}],\"histogram2d\":[{\"colorbar\":{\"outlinewidth\":0,\"ticks\":\"\"},\"colorscale\":[[0.0,\"#0d0887\"],[0.1111111111111111,\"#46039f\"],[0.2222222222222222,\"#7201a8\"],[0.3333333333333333,\"#9c179e\"],[0.4444444444444444,\"#bd3786\"],[0.5555555555555556,\"#d8576b\"],[0.6666666666666666,\"#ed7953\"],[0.7777777777777778,\"#fb9f3a\"],[0.8888888888888888,\"#fdca26\"],[1.0,\"#f0f921\"]],\"type\":\"histogram2d\"}],\"histogram2dcontour\":[{\"colorbar\":{\"outlinewidth\":0,\"ticks\":\"\"},\"colorscale\":[[0.0,\"#0d0887\"],[0.1111111111111111,\"#46039f\"],[0.2222222222222222,\"#7201a8\"],[0.3333333333333333,\"#9c179e\"],[0.4444444444444444,\"#bd3786\"],[0.5555555555555556,\"#d8576b\"],[0.6666666666666666,\"#ed7953\"],[0.7777777777777778,\"#fb9f3a\"],[0.8888888888888888,\"#fdca26\"],[1.0,\"#f0f921\"]],\"type\":\"histogram2dcontour\"}],\"mesh3d\":[{\"colorbar\":{\"outlinewidth\":0,\"ticks\":\"\"},\"type\":\"mesh3d\"}],\"parcoords\":[{\"line\":{\"colorbar\":{\"outlinewidth\":0,\"ticks\":\"\"}},\"type\":\"parcoords\"}],\"pie\":[{\"automargin\":true,\"type\":\"pie\"}],\"scatter\":[{\"marker\":{\"colorbar\":{\"outlinewidth\":0,\"ticks\":\"\"}},\"type\":\"scatter\"}],\"scatter3d\":[{\"line\":{\"colorbar\":{\"outlinewidth\":0,\"ticks\":\"\"}},\"marker\":{\"colorbar\":{\"outlinewidth\":0,\"ticks\":\"\"}},\"type\":\"scatter3d\"}],\"scattercarpet\":[{\"marker\":{\"colorbar\":{\"outlinewidth\":0,\"ticks\":\"\"}},\"type\":\"scattercarpet\"}],\"scattergeo\":[{\"marker\":{\"colorbar\":{\"outlinewidth\":0,\"ticks\":\"\"}},\"type\":\"scattergeo\"}],\"scattergl\":[{\"marker\":{\"colorbar\":{\"outlinewidth\":0,\"ticks\":\"\"}},\"type\":\"scattergl\"}],\"scattermapbox\":[{\"marker\":{\"colorbar\":{\"outlinewidth\":0,\"ticks\":\"\"}},\"type\":\"scattermapbox\"}],\"scatterpolar\":[{\"marker\":{\"colorbar\":{\"outlinewidth\":0,\"ticks\":\"\"}},\"type\":\"scatterpolar\"}],\"scatterpolargl\":[{\"marker\":{\"colorbar\":{\"outlinewidth\":0,\"ticks\":\"\"}},\"type\":\"scatterpolargl\"}],\"scatterternary\":[{\"marker\":{\"colorbar\":{\"outlinewidth\":0,\"ticks\":\"\"}},\"type\":\"scatterternary\"}],\"surface\":[{\"colorbar\":{\"outlinewidth\":0,\"ticks\":\"\"},\"colorscale\":[[0.0,\"#0d0887\"],[0.1111111111111111,\"#46039f\"],[0.2222222222222222,\"#7201a8\"],[0.3333333333333333,\"#9c179e\"],[0.4444444444444444,\"#bd3786\"],[0.5555555555555556,\"#d8576b\"],[0.6666666666666666,\"#ed7953\"],[0.7777777777777778,\"#fb9f3a\"],[0.8888888888888888,\"#fdca26\"],[1.0,\"#f0f921\"]],\"type\":\"surface\"}],\"table\":[{\"cells\":{\"fill\":{\"color\":\"#EBF0F8\"},\"line\":{\"color\":\"white\"}},\"header\":{\"fill\":{\"color\":\"#C8D4E3\"},\"line\":{\"color\":\"white\"}},\"type\":\"table\"}]},\"layout\":{\"annotationdefaults\":{\"arrowcolor\":\"#2a3f5f\",\"arrowhead\":0,\"arrowwidth\":1},\"autotypenumbers\":\"strict\",\"coloraxis\":{\"colorbar\":{\"outlinewidth\":0,\"ticks\":\"\"}},\"colorscale\":{\"diverging\":[[0,\"#8e0152\"],[0.1,\"#c51b7d\"],[0.2,\"#de77ae\"],[0.3,\"#f1b6da\"],[0.4,\"#fde0ef\"],[0.5,\"#f7f7f7\"],[0.6,\"#e6f5d0\"],[0.7,\"#b8e186\"],[0.8,\"#7fbc41\"],[0.9,\"#4d9221\"],[1,\"#276419\"]],\"sequential\":[[0.0,\"#0d0887\"],[0.1111111111111111,\"#46039f\"],[0.2222222222222222,\"#7201a8\"],[0.3333333333333333,\"#9c179e\"],[0.4444444444444444,\"#bd3786\"],[0.5555555555555556,\"#d8576b\"],[0.6666666666666666,\"#ed7953\"],[0.7777777777777778,\"#fb9f3a\"],[0.8888888888888888,\"#fdca26\"],[1.0,\"#f0f921\"]],\"sequentialminus\":[[0.0,\"#0d0887\"],[0.1111111111111111,\"#46039f\"],[0.2222222222222222,\"#7201a8\"],[0.3333333333333333,\"#9c179e\"],[0.4444444444444444,\"#bd3786\"],[0.5555555555555556,\"#d8576b\"],[0.6666666666666666,\"#ed7953\"],[0.7777777777777778,\"#fb9f3a\"],[0.8888888888888888,\"#fdca26\"],[1.0,\"#f0f921\"]]},\"colorway\":[\"#636efa\",\"#EF553B\",\"#00cc96\",\"#ab63fa\",\"#FFA15A\",\"#19d3f3\",\"#FF6692\",\"#B6E880\",\"#FF97FF\",\"#FECB52\"],\"font\":{\"color\":\"#2a3f5f\"},\"geo\":{\"bgcolor\":\"white\",\"lakecolor\":\"white\",\"landcolor\":\"#E5ECF6\",\"showlakes\":true,\"showland\":true,\"subunitcolor\":\"white\"},\"hoverlabel\":{\"align\":\"left\"},\"hovermode\":\"closest\",\"mapbox\":{\"style\":\"light\"},\"paper_bgcolor\":\"white\",\"plot_bgcolor\":\"#E5ECF6\",\"polar\":{\"angularaxis\":{\"gridcolor\":\"white\",\"linecolor\":\"white\",\"ticks\":\"\"},\"bgcolor\":\"#E5ECF6\",\"radialaxis\":{\"gridcolor\":\"white\",\"linecolor\":\"white\",\"ticks\":\"\"}},\"scene\":{\"xaxis\":{\"backgroundcolor\":\"#E5ECF6\",\"gridcolor\":\"white\",\"gridwidth\":2,\"linecolor\":\"white\",\"showbackground\":true,\"ticks\":\"\",\"zerolinecolor\":\"white\"},\"yaxis\":{\"backgroundcolor\":\"#E5ECF6\",\"gridcolor\":\"white\",\"gridwidth\":2,\"linecolor\":\"white\",\"showbackground\":true,\"ticks\":\"\",\"zerolinecolor\":\"white\"},\"zaxis\":{\"backgroundcolor\":\"#E5ECF6\",\"gridcolor\":\"white\",\"gridwidth\":2,\"linecolor\":\"white\",\"showbackground\":true,\"ticks\":\"\",\"zerolinecolor\":\"white\"}},\"shapedefaults\":{\"line\":{\"color\":\"#2a3f5f\"}},\"ternary\":{\"aaxis\":{\"gridcolor\":\"white\",\"linecolor\":\"white\",\"ticks\":\"\"},\"baxis\":{\"gridcolor\":\"white\",\"linecolor\":\"white\",\"ticks\":\"\"},\"bgcolor\":\"#E5ECF6\",\"caxis\":{\"gridcolor\":\"white\",\"linecolor\":\"white\",\"ticks\":\"\"}},\"title\":{\"x\":0.05},\"xaxis\":{\"automargin\":true,\"gridcolor\":\"white\",\"linecolor\":\"white\",\"ticks\":\"\",\"title\":{\"standoff\":15},\"zerolinecolor\":\"white\",\"zerolinewidth\":2},\"yaxis\":{\"automargin\":true,\"gridcolor\":\"white\",\"linecolor\":\"white\",\"ticks\":\"\",\"title\":{\"standoff\":15},\"zerolinecolor\":\"white\",\"zerolinewidth\":2}}},\"width\":800},                        {\"responsive\": true}                    ).then(function(){\n",
       "                            \n",
       "var gd = document.getElementById('b8a00014-6466-4df7-97b4-993d1eb12114');\n",
       "var x = new MutationObserver(function (mutations, observer) {{\n",
       "        var display = window.getComputedStyle(gd).display;\n",
       "        if (!display || display === 'none') {{\n",
       "            console.log([gd, 'removed!']);\n",
       "            Plotly.purge(gd);\n",
       "            observer.disconnect();\n",
       "        }}\n",
       "}});\n",
       "\n",
       "// Listen for the removal of the full notebook cells\n",
       "var notebookContainer = gd.closest('#notebook-container');\n",
       "if (notebookContainer) {{\n",
       "    x.observe(notebookContainer, {childList: true});\n",
       "}}\n",
       "\n",
       "// Listen for the clearing of the current output cell\n",
       "var outputEl = gd.closest('.output');\n",
       "if (outputEl) {{\n",
       "    x.observe(outputEl, {childList: true});\n",
       "}}\n",
       "\n",
       "                        })                };                });            </script>        </div>"
      ]
     },
     "metadata": {},
     "output_type": "display_data"
    }
   ],
   "source": [
    "# tex_fonts = {\n",
    "#     \"font.family\": \"serif\",\n",
    "#     # Use 10pt font in plots, to match 10pt font in document\n",
    "#     \"axes.labelsize\": 12,\n",
    "#     \"font.size\": 10,\n",
    "#     # Make the legend/label fonts a little smaller\n",
    "#     \"legend.fontsize\": 10,\n",
    "#     \"xtick.labelsize\": 10,\n",
    "#     \"ytick.labelsize\": 10\n",
    "# }\n",
    "# plt.rcParams.update(tex_fonts)\n",
    "\n",
    "# fig = plt.figure()\n",
    "\n",
    "# x = df_spa_nowarnings['pc1']\n",
    "# y = df_spa_nowarnings['pc2']\n",
    "# z = df_spa_nowarnings['spa_vowel_estimate']\n",
    "\n",
    "# ax.set_xlabel(\"Principal Component 1\")\n",
    "# ax.set_ylabel(\"Principal Component 2\")\n",
    "# ax.set_zlabel(\"Vowel Estimate\")\n",
    "\n",
    "fig = px.scatter_3d(x = df_tri_combined['pc1'],\n",
    "                    error_z = df_tri_combined['Vowel Std']/2,\n",
    "                    y = df_tri_combined['pc2'],\n",
    "                    z = df_tri_combined['Vowel Estimate'],\n",
    "                   color = df_tri_combined['Language'],\n",
    "                   labels = {\"x\":\"Principal Component 1\",\n",
    "                             \"y\":\"Principal Component 2\",\n",
    "                             \"z\":\"Vowel Estimate\", \n",
    "                            \"color\" : \"Language\"},\n",
    "                   opacity = 0.5, range_x = (-10,10), range_y = (-10,10),\n",
    "                   width = 800, height = 500)\n",
    "\n",
    "fig.show();"
   ]
  },
  {
   "cell_type": "code",
   "execution_count": 57,
   "id": "33039f1d-df08-4170-868d-9c4a679384a9",
   "metadata": {},
   "outputs": [
    {
     "data": {
      "application/vnd.plotly.v1+json": {
       "config": {
        "plotlyServerURL": "https://plot.ly"
       },
       "data": [
        {
         "error_z": {
          "array": [
           0.0830307561012985,
           0.084966125450007,
           0.072110872903649,
           0.0851901843783185,
           0.0720535098154205,
           0.0768099346020195,
           0.0811003181723805,
           0.079779334157914,
           0.0918161178478825,
           0.0836255808031965,
           0.070717346621588,
           0.089839989569375,
           0.4304522772135255,
           0.081230904245615,
           0.112976718226306,
           0.0717113690867215,
           0.0762441504642005,
           0.0718658315314245,
           0.1042197665736635,
           0.0744444581984815,
           0.1582531834998925,
           0.0863168338546005,
           0.082564027559361,
           0.1305863236284015,
           0.091605249273482,
           0.091414343046136,
           0.0799779032966805,
           0.085240848412107,
           0.072965209148278,
           0.0873262884910135,
           0.0757151303688445,
           0.1020898122265655,
           0.071266558186453,
           0.1765347605147555,
           0.1076866303647555,
           0.082107547725732,
           0.076062963737849,
           0.0874779191514235,
           0.078810497249934,
           0.084928822684782,
           0.0783040424177915,
           0.092784815082281,
           0.072043498294809,
           0.0827856367126905,
           0.072247434107686,
           0.166762112829284,
           0.099011213559081
          ]
         },
         "hovertemplate": "Language=Spanish<br>Principal Component 1=%{x}<br>Principal Component 2=%{y}<br>Duration Estimate=%{z}<extra></extra>",
         "legendgroup": "Spanish",
         "marker": {
          "color": "#636efa",
          "opacity": 0.5,
          "symbol": "circle"
         },
         "mode": "markers",
         "name": "Spanish",
         "scene": "scene",
         "showlegend": true,
         "type": "scatter3d",
         "x": [
          3.76421098338026,
          3.09497414838753,
          4.17319823982308,
          -6.09412364193037,
          6.16504393888865,
          4.93039287479138,
          -7.71263788339418,
          -4.13325390271185,
          3.27600057684007,
          -3.71834446201741,
          5.47176851721687,
          5.23142978600143,
          1.55686667080875,
          -4.44998920756652,
          -4.38448802421401,
          -0.054863649782619,
          -3.82426561078265,
          -4.59130391640685,
          8.46680860497879,
          5.45019704877566,
          4.93241358136987,
          -4.0012901427916,
          -3.26856333913579,
          -0.757010195059152,
          -6.70456671928425,
          3.14137700657558,
          -4.30232674432688,
          3.3613668843822,
          -4.13998127183376,
          4.9206383958364,
          -4.03781267136407,
          -6.87366326229469,
          5.37906267964515,
          8.32039784632548,
          5.59549320461804,
          -5.21313822034094,
          -5.56095061248458,
          2.53814981859685,
          4.27552692621008,
          3.89273442208779,
          -7.49627882192853,
          5.32033855214251,
          -4.6982062141367,
          -3.84581004753822,
          -7.66985044616705,
          -6.89667993553525,
          6.93426034594949
         ],
         "y": [
          -1.24010089100902,
          -0.507546986169717,
          2.57646456901998,
          0.827822215516519,
          2.99118355114398,
          -0.787288204850397,
          7.14059015235643,
          1.46368546145,
          -1.69331074344603,
          -3.32295010526414,
          -1.07476269653375,
          0.136637506884304,
          0.403033134076766,
          -0.47116982191398,
          -0.104776045687341,
          -2.17030091624142,
          0.76048463323031,
          -3.36529446305038,
          4.46616505110546,
          -0.136048002800423,
          -1.5956122973509,
          -2.2213329080347,
          -3.38635064218175,
          3.45350515056702,
          3.57955048888927,
          -0.189413978139784,
          -0.0775427669154291,
          -2.32588595724334,
          -3.76694839928803,
          -1.03421796789996,
          -4.16671356975129,
          2.55200504400252,
          0.513492457672579,
          4.55812637327011,
          -0.788493837743661,
          -0.539700624067024,
          -3.1509565735981,
          -2.34116794854011,
          0.513052693016431,
          -2.72681452031176,
          2.84088190691579,
          -0.596798126725969,
          3.40955286321395,
          -0.13383434061653,
          1.58069703687761,
          2.21519698432699,
          4.09473876402278
         ],
         "z": [
          0.119551101317658,
          -0.0631723984066134,
          -0.0400822324423095,
          -0.0293805537152321,
          -0.144326406351218,
          0.0662645038275494,
          0.0071368656768254,
          0.0762436934254017,
          0.144265898835821,
          -0.0911437894624165,
          -1e-16,
          -0.0436252519460945,
          0.487872908018724,
          0.166221453820585,
          0.61675704315615,
          -0.111650761245187,
          -0.0985020041624705,
          -0.0402290123107575,
          0.315745221442387,
          -0.0200503839122311,
          0.0532979830537888,
          -0.153409356867819,
          0.179794306109967,
          -0.202800348849805,
          0.0152362219512142,
          -0.25899710904946,
          0.143236409649015,
          0.0055560536554442,
          -0.0903183055392162,
          0.351993547692828,
          -0.242737982128904,
          -0.169633717523558,
          -0.0516352462214313,
          -0.0009128497610787,
          -0.302668248284313,
          -0.207804877228113,
          -0.0288881982716851,
          0.109117585033233,
          -0.114856796731854,
          0.158081097318825,
          0.0701576105578336,
          -0.363068339700261,
          -0.0934105077183874,
          0.0700226623003014,
          0.0922327760754417,
          -0.0932294888894124,
          0.44433885997615
         ]
        },
        {
         "error_z": {
          "array": [
           0.073538262986416,
           0.084784061975798,
           0.075263063847785,
           0.199539848904739,
           0.072788389749844,
           0.0860292325838475,
           0.126582034094732,
           0.1331182563388025,
           0.09448707879931,
           0.1205930362540865,
           null,
           0.0826603964791305,
           0.667612341106665,
           0.0806088563514915,
           0.0890365060618125,
           0.0830834084537115,
           0.1429584859951435,
           0.0757303228027515,
           0.1112362139239555,
           0.0767833125092635,
           0.086486824854748,
           0.369266124089208,
           0.1500439685205075,
           0.087161755703144,
           0.1163498055551085,
           0.1392324432891915,
           0.072750805709055,
           0.141814433228278,
           0.0736472798036365,
           0.079776830408365,
           0.087729561866582,
           0.0833432282537655,
           0.075301750094467,
           0.0659205976888555,
           0.1723363144322495,
           0.148237067833339,
           0.0940913953581915,
           0.077894978400293,
           0.07566015781438,
           0.121149226719108,
           0.0730074931527615,
           0.174804100623551,
           0.077162031540803,
           0.081735369786363
          ]
         },
         "hovertemplate": "Language=Catalan<br>Principal Component 1=%{x}<br>Principal Component 2=%{y}<br>Duration Estimate=%{z}<extra></extra>",
         "legendgroup": "Catalan",
         "marker": {
          "color": "#EF553B",
          "opacity": 0.5,
          "symbol": "circle"
         },
         "mode": "markers",
         "name": "Catalan",
         "scene": "scene",
         "showlegend": true,
         "type": "scatter3d",
         "x": [
          3.76421098338026,
          3.09497414838753,
          4.17319823982308,
          -6.09412364193037,
          6.16504393888865,
          4.93039287479138,
          -7.71263788339418,
          -4.13325390271185,
          3.27600057684007,
          -3.71834446201741,
          5.47176851721687,
          5.23142978600143,
          1.55686667080875,
          -4.44998920756652,
          -4.38448802421401,
          -0.054863649782619,
          -3.82426561078265,
          -4.59130391640685,
          3.52409522369204,
          8.46680860497879,
          5.45019704877566,
          4.93241358136987,
          -4.0012901427916,
          -3.26856333913579,
          -0.757010195059152,
          -6.70456671928425,
          3.14137700657558,
          -4.30232674432688,
          3.3613668843822,
          -4.13998127183376,
          4.9206383958364,
          -4.03781267136407,
          -6.87366326229469,
          5.37906267964515,
          8.32039784632548,
          -5.21313822034094,
          -5.56095061248458,
          4.27552692621008,
          3.89273442208779,
          -7.49627882192853,
          5.32033855214251,
          -4.6982062141367,
          -7.66985044616705,
          6.93426034594949
         ],
         "y": [
          -1.24010089100902,
          -0.507546986169717,
          2.57646456901998,
          0.827822215516519,
          2.99118355114398,
          -0.787288204850397,
          7.14059015235643,
          1.46368546145,
          -1.69331074344603,
          -3.32295010526414,
          -1.07476269653375,
          0.136637506884304,
          0.403033134076766,
          -0.47116982191398,
          -0.104776045687341,
          -2.17030091624142,
          0.76048463323031,
          -3.36529446305038,
          -0.51524621403081,
          4.46616505110546,
          -0.136048002800423,
          -1.5956122973509,
          -2.2213329080347,
          -3.38635064218175,
          3.45350515056702,
          3.57955048888927,
          -0.189413978139784,
          -0.0775427669154291,
          -2.32588595724334,
          -3.76694839928803,
          -1.03421796789996,
          -4.16671356975129,
          2.55200504400252,
          0.513492457672579,
          4.55812637327011,
          -0.539700624067024,
          -3.1509565735981,
          0.513052693016431,
          -2.72681452031176,
          2.84088190691579,
          -0.596798126725969,
          3.40955286321395,
          1.58069703687761,
          4.09473876402278
         ],
         "z": [
          -0.0855613990090448,
          0.265210084787357,
          -0.253304019406246,
          1.77027638872027,
          0.144815469448957,
          0.531503636988899,
          0.591473700383605,
          0.914957979216509,
          0.593053780082545,
          0.682388246448767,
          null,
          0.0969167990602745,
          0.765067764402816,
          0.257913907972478,
          0.540271205882157,
          0.399034728254935,
          1.09355861796961,
          0.260051893097909,
          -0.196759102836651,
          0.0067381536054976,
          0.104670842479788,
          0.404765494444334,
          0.913642781670503,
          0.322275742613046,
          -0.427700169362564,
          0.924571708481648,
          0.245611539315533,
          0.546346678864972,
          0.0441801627022235,
          0.398329463395559,
          0.0032733471481271,
          -0.150832105840535,
          0.230553857137699,
          0.227907224615606,
          0.575077906337028,
          0.759798475264733,
          0.680736029101841,
          0.220992313246585,
          -0.158820245447564,
          1.26951196011653,
          0.167610887718023,
          -0.0570173326283798,
          -0.0019732575771628,
          0.456816379316075
         ]
        },
        {
         "error_z": {
          "array": [
           0.226702901286568,
           0.2130090545269905,
           0.1074832853357665,
           0.2391202294437605,
           0.0834370652739585,
           0.2417414986992705,
           0.0997915626994005,
           0.1271849950497455,
           0.1386522272129875,
           0.3935630149806675,
           0.1684795997915695,
           0.0917563590710375,
           0.147120214475088,
           0.2780389359130925,
           0.0997574358116685,
           0.085997662177127,
           0.078340767781532,
           0.0727578190242535,
           0.2093381250366685,
           0.1094384996339865,
           0.117933346040167,
           0.139983366632557,
           0.104994721447996,
           0.088150292889594,
           0.140592668638612,
           0.400816768839516,
           0.0831621353429865,
           0.085452504717491,
           0.3967158511300645,
           0.1014387418265515,
           0.2601331836967105,
           0.2167384341931,
           0.091157793931935,
           0.51861219868856,
           0.156018779212353,
           0.1238488405799865,
           0.450025210509196,
           0.2559466127478395,
           0.0943627292970915,
           0.124061630097291,
           0.075468996035344,
           0.0734325323470715,
           0.1302954838105895,
           0.109538546113826
          ]
         },
         "hovertemplate": "Language=English<br>Principal Component 1=%{x}<br>Principal Component 2=%{y}<br>Duration Estimate=%{z}<extra></extra>",
         "legendgroup": "English",
         "marker": {
          "color": "#00cc96",
          "opacity": 0.5,
          "symbol": "circle"
         },
         "mode": "markers",
         "name": "English",
         "scene": "scene",
         "showlegend": true,
         "type": "scatter3d",
         "x": [
          3.76421098338026,
          3.09497414838753,
          4.17319823982308,
          -6.09412364193037,
          6.16504393888865,
          4.93039287479138,
          -7.71263788339418,
          -4.13325390271185,
          3.27600057684007,
          -3.71834446201741,
          5.23142978600143,
          1.55686667080875,
          -4.44998920756652,
          -4.38448802421401,
          -0.054863649782619,
          -3.82426561078265,
          -4.59130391640685,
          3.52409522369204,
          8.46680860497879,
          5.45019704877566,
          -4.0012901427916,
          -3.26856333913579,
          -0.757010195059152,
          -6.70456671928425,
          3.14137700657558,
          -4.30232674432688,
          3.3613668843822,
          -4.13998127183376,
          4.9206383958364,
          -4.03781267136407,
          -6.87366326229469,
          5.37906267964515,
          8.32039784632548,
          -5.21313822034094,
          -5.56095061248458,
          2.53814981859685,
          4.27552692621008,
          3.89273442208779,
          -7.49627882192853,
          5.32033855214251,
          -4.6982062141367,
          -7.66985044616705,
          -6.89667993553525,
          6.93426034594949
         ],
         "y": [
          -1.24010089100902,
          -0.507546986169717,
          2.57646456901998,
          0.827822215516519,
          2.99118355114398,
          -0.787288204850397,
          7.14059015235643,
          1.46368546145,
          -1.69331074344603,
          -3.32295010526414,
          0.136637506884304,
          0.403033134076766,
          -0.47116982191398,
          -0.104776045687341,
          -2.17030091624142,
          0.76048463323031,
          -3.36529446305038,
          -0.51524621403081,
          4.46616505110546,
          -0.136048002800423,
          -2.2213329080347,
          -3.38635064218175,
          3.45350515056702,
          3.57955048888927,
          -0.189413978139784,
          -0.0775427669154291,
          -2.32588595724334,
          -3.76694839928803,
          -1.03421796789996,
          -4.16671356975129,
          2.55200504400252,
          0.513492457672579,
          4.55812637327011,
          -0.539700624067024,
          -3.1509565735981,
          -2.34116794854011,
          0.513052693016431,
          -2.72681452031176,
          2.84088190691579,
          -0.596798126725969,
          3.40955286321395,
          1.58069703687761,
          2.21519698432699,
          4.09473876402278
         ],
         "z": [
          2.40930751914012,
          2.18346796445067,
          0.934557602200554,
          2.50116077867633,
          0.533996584650141,
          2.47874620838543,
          0.903970225341194,
          1.35658937459508,
          1.19539310537053,
          -0.833593924543202,
          1.81436609131847,
          0.228975070847988,
          1.59072645162996,
          2.4156519911291,
          0.850211404224666,
          0.670364410806512,
          0.336604527546044,
          0.22620851589911,
          2.20277728540188,
          1.07497289649062,
          1.25266757594188,
          1.53369231346115,
          0.805039604506404,
          0.64032075483657,
          1.50645785025414,
          3.41404601551317,
          0.579646944644564,
          0.673798405518063,
          3.41372388490872,
          0.915478583742977,
          2.69784490711192,
          2.25053829090796,
          0.753595416530329,
          3.97433239657504,
          1.75281294120543,
          0.882884836307183,
          -4.14261407553686,
          2.44778352956346,
          0.830749495697394,
          1.20886834332515,
          0.145266220075832,
          -0.0198775791750522,
          1.3124443139022,
          0.910489857540411
         ]
        }
       ],
       "layout": {
        "height": 500,
        "legend": {
         "title": {
          "text": "Language"
         },
         "tracegroupgap": 0
        },
        "margin": {
         "t": 60
        },
        "scene": {
         "aspectmode": "auto",
         "aspectratio": {
          "x": 1.4181598749426996,
          "y": 0.9911071088870093,
          "z": 0.711466106215626
         },
         "camera": {
          "center": {
           "x": 0,
           "y": 0,
           "z": 0
          },
          "eye": {
           "x": -0.19843036355283983,
           "y": -2.0510773244498877,
           "z": 0.15998748049703956
          },
          "projection": {
           "type": "perspective"
          },
          "up": {
           "x": 0,
           "y": 0,
           "z": 1
          }
         },
         "domain": {
          "x": [
           0,
           1
          ],
          "y": [
           0,
           1
          ]
         },
         "xaxis": {
          "range": [
           -10,
           10
          ],
          "title": {
           "text": "Principal Component 1"
          },
          "type": "linear"
         },
         "yaxis": {
          "range": [
           -10,
           10
          ],
          "title": {
           "text": "Principal Component 2"
          },
          "type": "linear"
         },
         "zaxis": {
          "title": {
           "text": "Duration Estimate"
          },
          "type": "linear"
         }
        },
        "template": {
         "data": {
          "bar": [
           {
            "error_x": {
             "color": "#2a3f5f"
            },
            "error_y": {
             "color": "#2a3f5f"
            },
            "marker": {
             "line": {
              "color": "#E5ECF6",
              "width": 0.5
             },
             "pattern": {
              "fillmode": "overlay",
              "size": 10,
              "solidity": 0.2
             }
            },
            "type": "bar"
           }
          ],
          "barpolar": [
           {
            "marker": {
             "line": {
              "color": "#E5ECF6",
              "width": 0.5
             },
             "pattern": {
              "fillmode": "overlay",
              "size": 10,
              "solidity": 0.2
             }
            },
            "type": "barpolar"
           }
          ],
          "carpet": [
           {
            "aaxis": {
             "endlinecolor": "#2a3f5f",
             "gridcolor": "white",
             "linecolor": "white",
             "minorgridcolor": "white",
             "startlinecolor": "#2a3f5f"
            },
            "baxis": {
             "endlinecolor": "#2a3f5f",
             "gridcolor": "white",
             "linecolor": "white",
             "minorgridcolor": "white",
             "startlinecolor": "#2a3f5f"
            },
            "type": "carpet"
           }
          ],
          "choropleth": [
           {
            "colorbar": {
             "outlinewidth": 0,
             "ticks": ""
            },
            "type": "choropleth"
           }
          ],
          "contour": [
           {
            "colorbar": {
             "outlinewidth": 0,
             "ticks": ""
            },
            "colorscale": [
             [
              0,
              "#0d0887"
             ],
             [
              0.1111111111111111,
              "#46039f"
             ],
             [
              0.2222222222222222,
              "#7201a8"
             ],
             [
              0.3333333333333333,
              "#9c179e"
             ],
             [
              0.4444444444444444,
              "#bd3786"
             ],
             [
              0.5555555555555556,
              "#d8576b"
             ],
             [
              0.6666666666666666,
              "#ed7953"
             ],
             [
              0.7777777777777778,
              "#fb9f3a"
             ],
             [
              0.8888888888888888,
              "#fdca26"
             ],
             [
              1,
              "#f0f921"
             ]
            ],
            "type": "contour"
           }
          ],
          "contourcarpet": [
           {
            "colorbar": {
             "outlinewidth": 0,
             "ticks": ""
            },
            "type": "contourcarpet"
           }
          ],
          "heatmap": [
           {
            "colorbar": {
             "outlinewidth": 0,
             "ticks": ""
            },
            "colorscale": [
             [
              0,
              "#0d0887"
             ],
             [
              0.1111111111111111,
              "#46039f"
             ],
             [
              0.2222222222222222,
              "#7201a8"
             ],
             [
              0.3333333333333333,
              "#9c179e"
             ],
             [
              0.4444444444444444,
              "#bd3786"
             ],
             [
              0.5555555555555556,
              "#d8576b"
             ],
             [
              0.6666666666666666,
              "#ed7953"
             ],
             [
              0.7777777777777778,
              "#fb9f3a"
             ],
             [
              0.8888888888888888,
              "#fdca26"
             ],
             [
              1,
              "#f0f921"
             ]
            ],
            "type": "heatmap"
           }
          ],
          "heatmapgl": [
           {
            "colorbar": {
             "outlinewidth": 0,
             "ticks": ""
            },
            "colorscale": [
             [
              0,
              "#0d0887"
             ],
             [
              0.1111111111111111,
              "#46039f"
             ],
             [
              0.2222222222222222,
              "#7201a8"
             ],
             [
              0.3333333333333333,
              "#9c179e"
             ],
             [
              0.4444444444444444,
              "#bd3786"
             ],
             [
              0.5555555555555556,
              "#d8576b"
             ],
             [
              0.6666666666666666,
              "#ed7953"
             ],
             [
              0.7777777777777778,
              "#fb9f3a"
             ],
             [
              0.8888888888888888,
              "#fdca26"
             ],
             [
              1,
              "#f0f921"
             ]
            ],
            "type": "heatmapgl"
           }
          ],
          "histogram": [
           {
            "marker": {
             "pattern": {
              "fillmode": "overlay",
              "size": 10,
              "solidity": 0.2
             }
            },
            "type": "histogram"
           }
          ],
          "histogram2d": [
           {
            "colorbar": {
             "outlinewidth": 0,
             "ticks": ""
            },
            "colorscale": [
             [
              0,
              "#0d0887"
             ],
             [
              0.1111111111111111,
              "#46039f"
             ],
             [
              0.2222222222222222,
              "#7201a8"
             ],
             [
              0.3333333333333333,
              "#9c179e"
             ],
             [
              0.4444444444444444,
              "#bd3786"
             ],
             [
              0.5555555555555556,
              "#d8576b"
             ],
             [
              0.6666666666666666,
              "#ed7953"
             ],
             [
              0.7777777777777778,
              "#fb9f3a"
             ],
             [
              0.8888888888888888,
              "#fdca26"
             ],
             [
              1,
              "#f0f921"
             ]
            ],
            "type": "histogram2d"
           }
          ],
          "histogram2dcontour": [
           {
            "colorbar": {
             "outlinewidth": 0,
             "ticks": ""
            },
            "colorscale": [
             [
              0,
              "#0d0887"
             ],
             [
              0.1111111111111111,
              "#46039f"
             ],
             [
              0.2222222222222222,
              "#7201a8"
             ],
             [
              0.3333333333333333,
              "#9c179e"
             ],
             [
              0.4444444444444444,
              "#bd3786"
             ],
             [
              0.5555555555555556,
              "#d8576b"
             ],
             [
              0.6666666666666666,
              "#ed7953"
             ],
             [
              0.7777777777777778,
              "#fb9f3a"
             ],
             [
              0.8888888888888888,
              "#fdca26"
             ],
             [
              1,
              "#f0f921"
             ]
            ],
            "type": "histogram2dcontour"
           }
          ],
          "mesh3d": [
           {
            "colorbar": {
             "outlinewidth": 0,
             "ticks": ""
            },
            "type": "mesh3d"
           }
          ],
          "parcoords": [
           {
            "line": {
             "colorbar": {
              "outlinewidth": 0,
              "ticks": ""
             }
            },
            "type": "parcoords"
           }
          ],
          "pie": [
           {
            "automargin": true,
            "type": "pie"
           }
          ],
          "scatter": [
           {
            "marker": {
             "colorbar": {
              "outlinewidth": 0,
              "ticks": ""
             }
            },
            "type": "scatter"
           }
          ],
          "scatter3d": [
           {
            "line": {
             "colorbar": {
              "outlinewidth": 0,
              "ticks": ""
             }
            },
            "marker": {
             "colorbar": {
              "outlinewidth": 0,
              "ticks": ""
             }
            },
            "type": "scatter3d"
           }
          ],
          "scattercarpet": [
           {
            "marker": {
             "colorbar": {
              "outlinewidth": 0,
              "ticks": ""
             }
            },
            "type": "scattercarpet"
           }
          ],
          "scattergeo": [
           {
            "marker": {
             "colorbar": {
              "outlinewidth": 0,
              "ticks": ""
             }
            },
            "type": "scattergeo"
           }
          ],
          "scattergl": [
           {
            "marker": {
             "colorbar": {
              "outlinewidth": 0,
              "ticks": ""
             }
            },
            "type": "scattergl"
           }
          ],
          "scattermapbox": [
           {
            "marker": {
             "colorbar": {
              "outlinewidth": 0,
              "ticks": ""
             }
            },
            "type": "scattermapbox"
           }
          ],
          "scatterpolar": [
           {
            "marker": {
             "colorbar": {
              "outlinewidth": 0,
              "ticks": ""
             }
            },
            "type": "scatterpolar"
           }
          ],
          "scatterpolargl": [
           {
            "marker": {
             "colorbar": {
              "outlinewidth": 0,
              "ticks": ""
             }
            },
            "type": "scatterpolargl"
           }
          ],
          "scatterternary": [
           {
            "marker": {
             "colorbar": {
              "outlinewidth": 0,
              "ticks": ""
             }
            },
            "type": "scatterternary"
           }
          ],
          "surface": [
           {
            "colorbar": {
             "outlinewidth": 0,
             "ticks": ""
            },
            "colorscale": [
             [
              0,
              "#0d0887"
             ],
             [
              0.1111111111111111,
              "#46039f"
             ],
             [
              0.2222222222222222,
              "#7201a8"
             ],
             [
              0.3333333333333333,
              "#9c179e"
             ],
             [
              0.4444444444444444,
              "#bd3786"
             ],
             [
              0.5555555555555556,
              "#d8576b"
             ],
             [
              0.6666666666666666,
              "#ed7953"
             ],
             [
              0.7777777777777778,
              "#fb9f3a"
             ],
             [
              0.8888888888888888,
              "#fdca26"
             ],
             [
              1,
              "#f0f921"
             ]
            ],
            "type": "surface"
           }
          ],
          "table": [
           {
            "cells": {
             "fill": {
              "color": "#EBF0F8"
             },
             "line": {
              "color": "white"
             }
            },
            "header": {
             "fill": {
              "color": "#C8D4E3"
             },
             "line": {
              "color": "white"
             }
            },
            "type": "table"
           }
          ]
         },
         "layout": {
          "annotationdefaults": {
           "arrowcolor": "#2a3f5f",
           "arrowhead": 0,
           "arrowwidth": 1
          },
          "autotypenumbers": "strict",
          "coloraxis": {
           "colorbar": {
            "outlinewidth": 0,
            "ticks": ""
           }
          },
          "colorscale": {
           "diverging": [
            [
             0,
             "#8e0152"
            ],
            [
             0.1,
             "#c51b7d"
            ],
            [
             0.2,
             "#de77ae"
            ],
            [
             0.3,
             "#f1b6da"
            ],
            [
             0.4,
             "#fde0ef"
            ],
            [
             0.5,
             "#f7f7f7"
            ],
            [
             0.6,
             "#e6f5d0"
            ],
            [
             0.7,
             "#b8e186"
            ],
            [
             0.8,
             "#7fbc41"
            ],
            [
             0.9,
             "#4d9221"
            ],
            [
             1,
             "#276419"
            ]
           ],
           "sequential": [
            [
             0,
             "#0d0887"
            ],
            [
             0.1111111111111111,
             "#46039f"
            ],
            [
             0.2222222222222222,
             "#7201a8"
            ],
            [
             0.3333333333333333,
             "#9c179e"
            ],
            [
             0.4444444444444444,
             "#bd3786"
            ],
            [
             0.5555555555555556,
             "#d8576b"
            ],
            [
             0.6666666666666666,
             "#ed7953"
            ],
            [
             0.7777777777777778,
             "#fb9f3a"
            ],
            [
             0.8888888888888888,
             "#fdca26"
            ],
            [
             1,
             "#f0f921"
            ]
           ],
           "sequentialminus": [
            [
             0,
             "#0d0887"
            ],
            [
             0.1111111111111111,
             "#46039f"
            ],
            [
             0.2222222222222222,
             "#7201a8"
            ],
            [
             0.3333333333333333,
             "#9c179e"
            ],
            [
             0.4444444444444444,
             "#bd3786"
            ],
            [
             0.5555555555555556,
             "#d8576b"
            ],
            [
             0.6666666666666666,
             "#ed7953"
            ],
            [
             0.7777777777777778,
             "#fb9f3a"
            ],
            [
             0.8888888888888888,
             "#fdca26"
            ],
            [
             1,
             "#f0f921"
            ]
           ]
          },
          "colorway": [
           "#636efa",
           "#EF553B",
           "#00cc96",
           "#ab63fa",
           "#FFA15A",
           "#19d3f3",
           "#FF6692",
           "#B6E880",
           "#FF97FF",
           "#FECB52"
          ],
          "font": {
           "color": "#2a3f5f"
          },
          "geo": {
           "bgcolor": "white",
           "lakecolor": "white",
           "landcolor": "#E5ECF6",
           "showlakes": true,
           "showland": true,
           "subunitcolor": "white"
          },
          "hoverlabel": {
           "align": "left"
          },
          "hovermode": "closest",
          "mapbox": {
           "style": "light"
          },
          "paper_bgcolor": "white",
          "plot_bgcolor": "#E5ECF6",
          "polar": {
           "angularaxis": {
            "gridcolor": "white",
            "linecolor": "white",
            "ticks": ""
           },
           "bgcolor": "#E5ECF6",
           "radialaxis": {
            "gridcolor": "white",
            "linecolor": "white",
            "ticks": ""
           }
          },
          "scene": {
           "xaxis": {
            "backgroundcolor": "#E5ECF6",
            "gridcolor": "white",
            "gridwidth": 2,
            "linecolor": "white",
            "showbackground": true,
            "ticks": "",
            "zerolinecolor": "white"
           },
           "yaxis": {
            "backgroundcolor": "#E5ECF6",
            "gridcolor": "white",
            "gridwidth": 2,
            "linecolor": "white",
            "showbackground": true,
            "ticks": "",
            "zerolinecolor": "white"
           },
           "zaxis": {
            "backgroundcolor": "#E5ECF6",
            "gridcolor": "white",
            "gridwidth": 2,
            "linecolor": "white",
            "showbackground": true,
            "ticks": "",
            "zerolinecolor": "white"
           }
          },
          "shapedefaults": {
           "line": {
            "color": "#2a3f5f"
           }
          },
          "ternary": {
           "aaxis": {
            "gridcolor": "white",
            "linecolor": "white",
            "ticks": ""
           },
           "baxis": {
            "gridcolor": "white",
            "linecolor": "white",
            "ticks": ""
           },
           "bgcolor": "#E5ECF6",
           "caxis": {
            "gridcolor": "white",
            "linecolor": "white",
            "ticks": ""
           }
          },
          "title": {
           "x": 0.05
          },
          "xaxis": {
           "automargin": true,
           "gridcolor": "white",
           "linecolor": "white",
           "ticks": "",
           "title": {
            "standoff": 15
           },
           "zerolinecolor": "white",
           "zerolinewidth": 2
          },
          "yaxis": {
           "automargin": true,
           "gridcolor": "white",
           "linecolor": "white",
           "ticks": "",
           "title": {
            "standoff": 15
           },
           "zerolinecolor": "white",
           "zerolinewidth": 2
          }
         }
        },
        "width": 800
       }
      },
      "image/png": "[encoded data removed]",
      "text/html": [
       "<div>                            <div id=\"f53b0058-b54c-4d0b-ac98-edaf5935ae19\" class=\"plotly-graph-div\" style=\"height:500px; width:800px;\"></div>            <script type=\"text/javascript\">                require([\"plotly\"], function(Plotly) {                    window.PLOTLYENV=window.PLOTLYENV || {};                                    if (document.getElementById(\"f53b0058-b54c-4d0b-ac98-edaf5935ae19\")) {                    Plotly.newPlot(                        \"f53b0058-b54c-4d0b-ac98-edaf5935ae19\",                        [{\"error_z\":{\"array\":[0.0830307561012985,0.084966125450007,0.072110872903649,0.0851901843783185,0.0720535098154205,0.0768099346020195,0.0811003181723805,0.079779334157914,0.0918161178478825,0.0836255808031965,0.070717346621588,0.089839989569375,0.4304522772135255,0.081230904245615,0.112976718226306,0.0717113690867215,0.0762441504642005,0.0718658315314245,0.1042197665736635,0.0744444581984815,0.1582531834998925,0.0863168338546005,0.082564027559361,0.1305863236284015,0.091605249273482,0.091414343046136,0.0799779032966805,0.085240848412107,0.072965209148278,0.0873262884910135,0.0757151303688445,0.1020898122265655,0.071266558186453,0.1765347605147555,0.1076866303647555,0.082107547725732,0.076062963737849,0.0874779191514235,0.078810497249934,0.084928822684782,0.0783040424177915,0.092784815082281,0.072043498294809,0.0827856367126905,0.072247434107686,0.166762112829284,0.099011213559081]},\"hovertemplate\":\"Language=Spanish<br>Principal Component 1=%{x}<br>Principal Component 2=%{y}<br>Duration Estimate=%{z}<extra></extra>\",\"legendgroup\":\"Spanish\",\"marker\":{\"color\":\"#636efa\",\"opacity\":0.5,\"symbol\":\"circle\"},\"mode\":\"markers\",\"name\":\"Spanish\",\"scene\":\"scene\",\"showlegend\":true,\"type\":\"scatter3d\",\"x\":[3.76421098338026,3.09497414838753,4.17319823982308,-6.09412364193037,6.16504393888865,4.93039287479138,-7.71263788339418,-4.13325390271185,3.27600057684007,-3.71834446201741,5.47176851721687,5.23142978600143,1.55686667080875,-4.44998920756652,-4.38448802421401,-0.054863649782619,-3.82426561078265,-4.59130391640685,8.46680860497879,5.45019704877566,4.93241358136987,-4.0012901427916,-3.26856333913579,-0.757010195059152,-6.70456671928425,3.14137700657558,-4.30232674432688,3.3613668843822,-4.13998127183376,4.9206383958364,-4.03781267136407,-6.87366326229469,5.37906267964515,8.32039784632548,5.59549320461804,-5.21313822034094,-5.56095061248458,2.53814981859685,4.27552692621008,3.89273442208779,-7.49627882192853,5.32033855214251,-4.6982062141367,-3.84581004753822,-7.66985044616705,-6.89667993553525,6.93426034594949],\"y\":[-1.24010089100902,-0.507546986169717,2.57646456901998,0.827822215516519,2.99118355114398,-0.787288204850397,7.14059015235643,1.46368546145,-1.69331074344603,-3.32295010526414,-1.07476269653375,0.136637506884304,0.403033134076766,-0.47116982191398,-0.104776045687341,-2.17030091624142,0.76048463323031,-3.36529446305038,4.46616505110546,-0.136048002800423,-1.5956122973509,-2.2213329080347,-3.38635064218175,3.45350515056702,3.57955048888927,-0.189413978139784,-0.0775427669154291,-2.32588595724334,-3.76694839928803,-1.03421796789996,-4.16671356975129,2.55200504400252,0.513492457672579,4.55812637327011,-0.788493837743661,-0.539700624067024,-3.1509565735981,-2.34116794854011,0.513052693016431,-2.72681452031176,2.84088190691579,-0.596798126725969,3.40955286321395,-0.13383434061653,1.58069703687761,2.21519698432699,4.09473876402278],\"z\":[0.119551101317658,-0.0631723984066134,-0.0400822324423095,-0.0293805537152321,-0.144326406351218,0.0662645038275494,0.0071368656768254,0.0762436934254017,0.144265898835821,-0.0911437894624165,-1e-16,-0.0436252519460945,0.487872908018724,0.166221453820585,0.61675704315615,-0.111650761245187,-0.0985020041624705,-0.0402290123107575,0.315745221442387,-0.0200503839122311,0.0532979830537888,-0.153409356867819,0.179794306109967,-0.202800348849805,0.0152362219512142,-0.25899710904946,0.143236409649015,0.0055560536554442,-0.0903183055392162,0.351993547692828,-0.242737982128904,-0.169633717523558,-0.0516352462214313,-0.0009128497610787,-0.302668248284313,-0.207804877228113,-0.0288881982716851,0.109117585033233,-0.114856796731854,0.158081097318825,0.0701576105578336,-0.363068339700261,-0.0934105077183874,0.0700226623003014,0.0922327760754417,-0.0932294888894124,0.44433885997615]},{\"error_z\":{\"array\":[0.073538262986416,0.084784061975798,0.075263063847785,0.199539848904739,0.072788389749844,0.0860292325838475,0.126582034094732,0.1331182563388025,0.09448707879931,0.1205930362540865,null,0.0826603964791305,0.667612341106665,0.0806088563514915,0.0890365060618125,0.0830834084537115,0.1429584859951435,0.0757303228027515,0.1112362139239555,0.0767833125092635,0.086486824854748,0.369266124089208,0.1500439685205075,0.087161755703144,0.1163498055551085,0.1392324432891915,0.072750805709055,0.141814433228278,0.0736472798036365,0.079776830408365,0.087729561866582,0.0833432282537655,0.075301750094467,0.0659205976888555,0.1723363144322495,0.148237067833339,0.0940913953581915,0.077894978400293,0.07566015781438,0.121149226719108,0.0730074931527615,0.174804100623551,0.077162031540803,0.081735369786363]},\"hovertemplate\":\"Language=Catalan<br>Principal Component 1=%{x}<br>Principal Component 2=%{y}<br>Duration Estimate=%{z}<extra></extra>\",\"legendgroup\":\"Catalan\",\"marker\":{\"color\":\"#EF553B\",\"opacity\":0.5,\"symbol\":\"circle\"},\"mode\":\"markers\",\"name\":\"Catalan\",\"scene\":\"scene\",\"showlegend\":true,\"type\":\"scatter3d\",\"x\":[3.76421098338026,3.09497414838753,4.17319823982308,-6.09412364193037,6.16504393888865,4.93039287479138,-7.71263788339418,-4.13325390271185,3.27600057684007,-3.71834446201741,5.47176851721687,5.23142978600143,1.55686667080875,-4.44998920756652,-4.38448802421401,-0.054863649782619,-3.82426561078265,-4.59130391640685,3.52409522369204,8.46680860497879,5.45019704877566,4.93241358136987,-4.0012901427916,-3.26856333913579,-0.757010195059152,-6.70456671928425,3.14137700657558,-4.30232674432688,3.3613668843822,-4.13998127183376,4.9206383958364,-4.03781267136407,-6.87366326229469,5.37906267964515,8.32039784632548,-5.21313822034094,-5.56095061248458,4.27552692621008,3.89273442208779,-7.49627882192853,5.32033855214251,-4.6982062141367,-7.66985044616705,6.93426034594949],\"y\":[-1.24010089100902,-0.507546986169717,2.57646456901998,0.827822215516519,2.99118355114398,-0.787288204850397,7.14059015235643,1.46368546145,-1.69331074344603,-3.32295010526414,-1.07476269653375,0.136637506884304,0.403033134076766,-0.47116982191398,-0.104776045687341,-2.17030091624142,0.76048463323031,-3.36529446305038,-0.51524621403081,4.46616505110546,-0.136048002800423,-1.5956122973509,-2.2213329080347,-3.38635064218175,3.45350515056702,3.57955048888927,-0.189413978139784,-0.0775427669154291,-2.32588595724334,-3.76694839928803,-1.03421796789996,-4.16671356975129,2.55200504400252,0.513492457672579,4.55812637327011,-0.539700624067024,-3.1509565735981,0.513052693016431,-2.72681452031176,2.84088190691579,-0.596798126725969,3.40955286321395,1.58069703687761,4.09473876402278],\"z\":[-0.0855613990090448,0.265210084787357,-0.253304019406246,1.77027638872027,0.144815469448957,0.531503636988899,0.591473700383605,0.914957979216509,0.593053780082545,0.682388246448767,null,0.0969167990602745,0.765067764402816,0.257913907972478,0.540271205882157,0.399034728254935,1.09355861796961,0.260051893097909,-0.196759102836651,0.0067381536054976,0.104670842479788,0.404765494444334,0.913642781670503,0.322275742613046,-0.427700169362564,0.924571708481648,0.245611539315533,0.546346678864972,0.0441801627022235,0.398329463395559,0.0032733471481271,-0.150832105840535,0.230553857137699,0.227907224615606,0.575077906337028,0.759798475264733,0.680736029101841,0.220992313246585,-0.158820245447564,1.26951196011653,0.167610887718023,-0.0570173326283798,-0.0019732575771628,0.456816379316075]},{\"error_z\":{\"array\":[0.226702901286568,0.2130090545269905,0.1074832853357665,0.2391202294437605,0.0834370652739585,0.2417414986992705,0.0997915626994005,0.1271849950497455,0.1386522272129875,0.3935630149806675,0.1684795997915695,0.0917563590710375,0.147120214475088,0.2780389359130925,0.0997574358116685,0.085997662177127,0.078340767781532,0.0727578190242535,0.2093381250366685,0.1094384996339865,0.117933346040167,0.139983366632557,0.104994721447996,0.088150292889594,0.140592668638612,0.400816768839516,0.0831621353429865,0.085452504717491,0.3967158511300645,0.1014387418265515,0.2601331836967105,0.2167384341931,0.091157793931935,0.51861219868856,0.156018779212353,0.1238488405799865,0.450025210509196,0.2559466127478395,0.0943627292970915,0.124061630097291,0.075468996035344,0.0734325323470715,0.1302954838105895,0.109538546113826]},\"hovertemplate\":\"Language=English<br>Principal Component 1=%{x}<br>Principal Component 2=%{y}<br>Duration Estimate=%{z}<extra></extra>\",\"legendgroup\":\"English\",\"marker\":{\"color\":\"#00cc96\",\"opacity\":0.5,\"symbol\":\"circle\"},\"mode\":\"markers\",\"name\":\"English\",\"scene\":\"scene\",\"showlegend\":true,\"type\":\"scatter3d\",\"x\":[3.76421098338026,3.09497414838753,4.17319823982308,-6.09412364193037,6.16504393888865,4.93039287479138,-7.71263788339418,-4.13325390271185,3.27600057684007,-3.71834446201741,5.23142978600143,1.55686667080875,-4.44998920756652,-4.38448802421401,-0.054863649782619,-3.82426561078265,-4.59130391640685,3.52409522369204,8.46680860497879,5.45019704877566,-4.0012901427916,-3.26856333913579,-0.757010195059152,-6.70456671928425,3.14137700657558,-4.30232674432688,3.3613668843822,-4.13998127183376,4.9206383958364,-4.03781267136407,-6.87366326229469,5.37906267964515,8.32039784632548,-5.21313822034094,-5.56095061248458,2.53814981859685,4.27552692621008,3.89273442208779,-7.49627882192853,5.32033855214251,-4.6982062141367,-7.66985044616705,-6.89667993553525,6.93426034594949],\"y\":[-1.24010089100902,-0.507546986169717,2.57646456901998,0.827822215516519,2.99118355114398,-0.787288204850397,7.14059015235643,1.46368546145,-1.69331074344603,-3.32295010526414,0.136637506884304,0.403033134076766,-0.47116982191398,-0.104776045687341,-2.17030091624142,0.76048463323031,-3.36529446305038,-0.51524621403081,4.46616505110546,-0.136048002800423,-2.2213329080347,-3.38635064218175,3.45350515056702,3.57955048888927,-0.189413978139784,-0.0775427669154291,-2.32588595724334,-3.76694839928803,-1.03421796789996,-4.16671356975129,2.55200504400252,0.513492457672579,4.55812637327011,-0.539700624067024,-3.1509565735981,-2.34116794854011,0.513052693016431,-2.72681452031176,2.84088190691579,-0.596798126725969,3.40955286321395,1.58069703687761,2.21519698432699,4.09473876402278],\"z\":[2.40930751914012,2.18346796445067,0.934557602200554,2.50116077867633,0.533996584650141,2.47874620838543,0.903970225341194,1.35658937459508,1.19539310537053,-0.833593924543202,1.81436609131847,0.228975070847988,1.59072645162996,2.4156519911291,0.850211404224666,0.670364410806512,0.336604527546044,0.22620851589911,2.20277728540188,1.07497289649062,1.25266757594188,1.53369231346115,0.805039604506404,0.64032075483657,1.50645785025414,3.41404601551317,0.579646944644564,0.673798405518063,3.41372388490872,0.915478583742977,2.69784490711192,2.25053829090796,0.753595416530329,3.97433239657504,1.75281294120543,0.882884836307183,-4.14261407553686,2.44778352956346,0.830749495697394,1.20886834332515,0.145266220075832,-0.0198775791750522,1.3124443139022,0.910489857540411]}],                        {\"height\":500,\"legend\":{\"title\":{\"text\":\"Language\"},\"tracegroupgap\":0},\"margin\":{\"t\":60},\"scene\":{\"domain\":{\"x\":[0.0,1.0],\"y\":[0.0,1.0]},\"xaxis\":{\"range\":[-10,10],\"title\":{\"text\":\"Principal Component 1\"}},\"yaxis\":{\"range\":[-10,10],\"title\":{\"text\":\"Principal Component 2\"}},\"zaxis\":{\"title\":{\"text\":\"Duration Estimate\"}}},\"template\":{\"data\":{\"bar\":[{\"error_x\":{\"color\":\"#2a3f5f\"},\"error_y\":{\"color\":\"#2a3f5f\"},\"marker\":{\"line\":{\"color\":\"#E5ECF6\",\"width\":0.5},\"pattern\":{\"fillmode\":\"overlay\",\"size\":10,\"solidity\":0.2}},\"type\":\"bar\"}],\"barpolar\":[{\"marker\":{\"line\":{\"color\":\"#E5ECF6\",\"width\":0.5},\"pattern\":{\"fillmode\":\"overlay\",\"size\":10,\"solidity\":0.2}},\"type\":\"barpolar\"}],\"carpet\":[{\"aaxis\":{\"endlinecolor\":\"#2a3f5f\",\"gridcolor\":\"white\",\"linecolor\":\"white\",\"minorgridcolor\":\"white\",\"startlinecolor\":\"#2a3f5f\"},\"baxis\":{\"endlinecolor\":\"#2a3f5f\",\"gridcolor\":\"white\",\"linecolor\":\"white\",\"minorgridcolor\":\"white\",\"startlinecolor\":\"#2a3f5f\"},\"type\":\"carpet\"}],\"choropleth\":[{\"colorbar\":{\"outlinewidth\":0,\"ticks\":\"\"},\"type\":\"choropleth\"}],\"contour\":[{\"colorbar\":{\"outlinewidth\":0,\"ticks\":\"\"},\"colorscale\":[[0.0,\"#0d0887\"],[0.1111111111111111,\"#46039f\"],[0.2222222222222222,\"#7201a8\"],[0.3333333333333333,\"#9c179e\"],[0.4444444444444444,\"#bd3786\"],[0.5555555555555556,\"#d8576b\"],[0.6666666666666666,\"#ed7953\"],[0.7777777777777778,\"#fb9f3a\"],[0.8888888888888888,\"#fdca26\"],[1.0,\"#f0f921\"]],\"type\":\"contour\"}],\"contourcarpet\":[{\"colorbar\":{\"outlinewidth\":0,\"ticks\":\"\"},\"type\":\"contourcarpet\"}],\"heatmap\":[{\"colorbar\":{\"outlinewidth\":0,\"ticks\":\"\"},\"colorscale\":[[0.0,\"#0d0887\"],[0.1111111111111111,\"#46039f\"],[0.2222222222222222,\"#7201a8\"],[0.3333333333333333,\"#9c179e\"],[0.4444444444444444,\"#bd3786\"],[0.5555555555555556,\"#d8576b\"],[0.6666666666666666,\"#ed7953\"],[0.7777777777777778,\"#fb9f3a\"],[0.8888888888888888,\"#fdca26\"],[1.0,\"#f0f921\"]],\"type\":\"heatmap\"}],\"heatmapgl\":[{\"colorbar\":{\"outlinewidth\":0,\"ticks\":\"\"},\"colorscale\":[[0.0,\"#0d0887\"],[0.1111111111111111,\"#46039f\"],[0.2222222222222222,\"#7201a8\"],[0.3333333333333333,\"#9c179e\"],[0.4444444444444444,\"#bd3786\"],[0.5555555555555556,\"#d8576b\"],[0.6666666666666666,\"#ed7953\"],[0.7777777777777778,\"#fb9f3a\"],[0.8888888888888888,\"#fdca26\"],[1.0,\"#f0f921\"]],\"type\":\"heatmapgl\"}],\"histogram\":[{\"marker\":{\"pattern\":{\"fillmode\":\"overlay\",\"size\":10,\"solidity\":0.2}},\"type\":\"histogram\"}],\"histogram2d\":[{\"colorbar\":{\"outlinewidth\":0,\"ticks\":\"\"},\"colorscale\":[[0.0,\"#0d0887\"],[0.1111111111111111,\"#46039f\"],[0.2222222222222222,\"#7201a8\"],[0.3333333333333333,\"#9c179e\"],[0.4444444444444444,\"#bd3786\"],[0.5555555555555556,\"#d8576b\"],[0.6666666666666666,\"#ed7953\"],[0.7777777777777778,\"#fb9f3a\"],[0.8888888888888888,\"#fdca26\"],[1.0,\"#f0f921\"]],\"type\":\"histogram2d\"}],\"histogram2dcontour\":[{\"colorbar\":{\"outlinewidth\":0,\"ticks\":\"\"},\"colorscale\":[[0.0,\"#0d0887\"],[0.1111111111111111,\"#46039f\"],[0.2222222222222222,\"#7201a8\"],[0.3333333333333333,\"#9c179e\"],[0.4444444444444444,\"#bd3786\"],[0.5555555555555556,\"#d8576b\"],[0.6666666666666666,\"#ed7953\"],[0.7777777777777778,\"#fb9f3a\"],[0.8888888888888888,\"#fdca26\"],[1.0,\"#f0f921\"]],\"type\":\"histogram2dcontour\"}],\"mesh3d\":[{\"colorbar\":{\"outlinewidth\":0,\"ticks\":\"\"},\"type\":\"mesh3d\"}],\"parcoords\":[{\"line\":{\"colorbar\":{\"outlinewidth\":0,\"ticks\":\"\"}},\"type\":\"parcoords\"}],\"pie\":[{\"automargin\":true,\"type\":\"pie\"}],\"scatter\":[{\"marker\":{\"colorbar\":{\"outlinewidth\":0,\"ticks\":\"\"}},\"type\":\"scatter\"}],\"scatter3d\":[{\"line\":{\"colorbar\":{\"outlinewidth\":0,\"ticks\":\"\"}},\"marker\":{\"colorbar\":{\"outlinewidth\":0,\"ticks\":\"\"}},\"type\":\"scatter3d\"}],\"scattercarpet\":[{\"marker\":{\"colorbar\":{\"outlinewidth\":0,\"ticks\":\"\"}},\"type\":\"scattercarpet\"}],\"scattergeo\":[{\"marker\":{\"colorbar\":{\"outlinewidth\":0,\"ticks\":\"\"}},\"type\":\"scattergeo\"}],\"scattergl\":[{\"marker\":{\"colorbar\":{\"outlinewidth\":0,\"ticks\":\"\"}},\"type\":\"scattergl\"}],\"scattermapbox\":[{\"marker\":{\"colorbar\":{\"outlinewidth\":0,\"ticks\":\"\"}},\"type\":\"scattermapbox\"}],\"scatterpolar\":[{\"marker\":{\"colorbar\":{\"outlinewidth\":0,\"ticks\":\"\"}},\"type\":\"scatterpolar\"}],\"scatterpolargl\":[{\"marker\":{\"colorbar\":{\"outlinewidth\":0,\"ticks\":\"\"}},\"type\":\"scatterpolargl\"}],\"scatterternary\":[{\"marker\":{\"colorbar\":{\"outlinewidth\":0,\"ticks\":\"\"}},\"type\":\"scatterternary\"}],\"surface\":[{\"colorbar\":{\"outlinewidth\":0,\"ticks\":\"\"},\"colorscale\":[[0.0,\"#0d0887\"],[0.1111111111111111,\"#46039f\"],[0.2222222222222222,\"#7201a8\"],[0.3333333333333333,\"#9c179e\"],[0.4444444444444444,\"#bd3786\"],[0.5555555555555556,\"#d8576b\"],[0.6666666666666666,\"#ed7953\"],[0.7777777777777778,\"#fb9f3a\"],[0.8888888888888888,\"#fdca26\"],[1.0,\"#f0f921\"]],\"type\":\"surface\"}],\"table\":[{\"cells\":{\"fill\":{\"color\":\"#EBF0F8\"},\"line\":{\"color\":\"white\"}},\"header\":{\"fill\":{\"color\":\"#C8D4E3\"},\"line\":{\"color\":\"white\"}},\"type\":\"table\"}]},\"layout\":{\"annotationdefaults\":{\"arrowcolor\":\"#2a3f5f\",\"arrowhead\":0,\"arrowwidth\":1},\"autotypenumbers\":\"strict\",\"coloraxis\":{\"colorbar\":{\"outlinewidth\":0,\"ticks\":\"\"}},\"colorscale\":{\"diverging\":[[0,\"#8e0152\"],[0.1,\"#c51b7d\"],[0.2,\"#de77ae\"],[0.3,\"#f1b6da\"],[0.4,\"#fde0ef\"],[0.5,\"#f7f7f7\"],[0.6,\"#e6f5d0\"],[0.7,\"#b8e186\"],[0.8,\"#7fbc41\"],[0.9,\"#4d9221\"],[1,\"#276419\"]],\"sequential\":[[0.0,\"#0d0887\"],[0.1111111111111111,\"#46039f\"],[0.2222222222222222,\"#7201a8\"],[0.3333333333333333,\"#9c179e\"],[0.4444444444444444,\"#bd3786\"],[0.5555555555555556,\"#d8576b\"],[0.6666666666666666,\"#ed7953\"],[0.7777777777777778,\"#fb9f3a\"],[0.8888888888888888,\"#fdca26\"],[1.0,\"#f0f921\"]],\"sequentialminus\":[[0.0,\"#0d0887\"],[0.1111111111111111,\"#46039f\"],[0.2222222222222222,\"#7201a8\"],[0.3333333333333333,\"#9c179e\"],[0.4444444444444444,\"#bd3786\"],[0.5555555555555556,\"#d8576b\"],[0.6666666666666666,\"#ed7953\"],[0.7777777777777778,\"#fb9f3a\"],[0.8888888888888888,\"#fdca26\"],[1.0,\"#f0f921\"]]},\"colorway\":[\"#636efa\",\"#EF553B\",\"#00cc96\",\"#ab63fa\",\"#FFA15A\",\"#19d3f3\",\"#FF6692\",\"#B6E880\",\"#FF97FF\",\"#FECB52\"],\"font\":{\"color\":\"#2a3f5f\"},\"geo\":{\"bgcolor\":\"white\",\"lakecolor\":\"white\",\"landcolor\":\"#E5ECF6\",\"showlakes\":true,\"showland\":true,\"subunitcolor\":\"white\"},\"hoverlabel\":{\"align\":\"left\"},\"hovermode\":\"closest\",\"mapbox\":{\"style\":\"light\"},\"paper_bgcolor\":\"white\",\"plot_bgcolor\":\"#E5ECF6\",\"polar\":{\"angularaxis\":{\"gridcolor\":\"white\",\"linecolor\":\"white\",\"ticks\":\"\"},\"bgcolor\":\"#E5ECF6\",\"radialaxis\":{\"gridcolor\":\"white\",\"linecolor\":\"white\",\"ticks\":\"\"}},\"scene\":{\"xaxis\":{\"backgroundcolor\":\"#E5ECF6\",\"gridcolor\":\"white\",\"gridwidth\":2,\"linecolor\":\"white\",\"showbackground\":true,\"ticks\":\"\",\"zerolinecolor\":\"white\"},\"yaxis\":{\"backgroundcolor\":\"#E5ECF6\",\"gridcolor\":\"white\",\"gridwidth\":2,\"linecolor\":\"white\",\"showbackground\":true,\"ticks\":\"\",\"zerolinecolor\":\"white\"},\"zaxis\":{\"backgroundcolor\":\"#E5ECF6\",\"gridcolor\":\"white\",\"gridwidth\":2,\"linecolor\":\"white\",\"showbackground\":true,\"ticks\":\"\",\"zerolinecolor\":\"white\"}},\"shapedefaults\":{\"line\":{\"color\":\"#2a3f5f\"}},\"ternary\":{\"aaxis\":{\"gridcolor\":\"white\",\"linecolor\":\"white\",\"ticks\":\"\"},\"baxis\":{\"gridcolor\":\"white\",\"linecolor\":\"white\",\"ticks\":\"\"},\"bgcolor\":\"#E5ECF6\",\"caxis\":{\"gridcolor\":\"white\",\"linecolor\":\"white\",\"ticks\":\"\"}},\"title\":{\"x\":0.05},\"xaxis\":{\"automargin\":true,\"gridcolor\":\"white\",\"linecolor\":\"white\",\"ticks\":\"\",\"title\":{\"standoff\":15},\"zerolinecolor\":\"white\",\"zerolinewidth\":2},\"yaxis\":{\"automargin\":true,\"gridcolor\":\"white\",\"linecolor\":\"white\",\"ticks\":\"\",\"title\":{\"standoff\":15},\"zerolinecolor\":\"white\",\"zerolinewidth\":2}}},\"width\":800},                        {\"responsive\": true}                    ).then(function(){\n",
       "                            \n",
       "var gd = document.getElementById('f53b0058-b54c-4d0b-ac98-edaf5935ae19');\n",
       "var x = new MutationObserver(function (mutations, observer) {{\n",
       "        var display = window.getComputedStyle(gd).display;\n",
       "        if (!display || display === 'none') {{\n",
       "            console.log([gd, 'removed!']);\n",
       "            Plotly.purge(gd);\n",
       "            observer.disconnect();\n",
       "        }}\n",
       "}});\n",
       "\n",
       "// Listen for the removal of the full notebook cells\n",
       "var notebookContainer = gd.closest('#notebook-container');\n",
       "if (notebookContainer) {{\n",
       "    x.observe(notebookContainer, {childList: true});\n",
       "}}\n",
       "\n",
       "// Listen for the clearing of the current output cell\n",
       "var outputEl = gd.closest('.output');\n",
       "if (outputEl) {{\n",
       "    x.observe(outputEl, {childList: true});\n",
       "}}\n",
       "\n",
       "                        })                };                });            </script>        </div>"
      ]
     },
     "metadata": {},
     "output_type": "display_data"
    }
   ],
   "source": [
    "fig = px.scatter_3d(x = df_tri_combined['pc1'],\n",
    "                    error_z = df_tri_combined['Duration Std']/2,\n",
    "                    y = df_tri_combined['pc2'],\n",
    "                    z = df_tri_combined['Duration Estimate'],\n",
    "                   color = df_tri_combined['Language'],\n",
    "                   labels = {\"x\":\"Principal Component 1\",\n",
    "                             \"y\":\"Principal Component 2\",\n",
    "                             \"z\":\"Duration Estimate\", \n",
    "                            \"color\" : \"Language\"},\n",
    "                   opacity = 0.5, range_x = (-10,10), range_y = (-10,10),\n",
    "                   width = 800, height = 500)\n",
    "\n",
    "fig.show();"
   ]
  },
  {
   "cell_type": "code",
   "execution_count": 56,
   "id": "1d889a29-5fdd-41d6-997f-ae4049fad51e",
   "metadata": {},
   "outputs": [
    {
     "data": {
      "application/vnd.plotly.v1+json": {
       "config": {
        "plotlyServerURL": "https://plot.ly"
       },
       "data": [
        {
         "error_z": {
          "array": [
           0.0830102953296865,
           0.091663171208971,
           0.072638295483999,
           0.0836469276306575,
           0.07331472390491,
           0.077667421531571,
           0.083501574867274,
           0.083218101992991,
           0.090789158711069,
           0.0815967552578235,
           0.0714822924672865,
           0.0902247713154915,
           0.4048168751603465,
           0.082510509635091,
           0.11594662730983,
           0.071899667889474,
           0.0749798417462035,
           0.072287090379738,
           0.103948267311548,
           0.0743722501252565,
           0.1560488143340725,
           0.0850019700609035,
           0.081482563631672,
           0.130950940852051,
           0.093164173914153,
           0.0946884363024815,
           0.0772048615444195,
           0.0862799873193285,
           0.072198875601341,
           0.0868887497322325,
           0.073616064662941,
           0.1023688076919775,
           0.071396340891087,
           0.1680154056278255,
           0.1055531869069315,
           0.0818877154654925,
           0.0762119610105425,
           0.087956138226702,
           0.0785052764484215,
           0.086917624105372,
           0.077923181063636,
           0.092941668396801,
           0.0719362913837875,
           0.0837211236728085,
           0.071332586222028,
           0.156975275926449,
           0.095866006858544
          ]
         },
         "hovertemplate": "Language=Spanish<br>Principal Component 1=%{x}<br>Principal Component 2=%{y}<br>Spectral Tilt Estimate=%{z}<extra></extra>",
         "legendgroup": "Spanish",
         "marker": {
          "color": "#636efa",
          "opacity": 0.5,
          "symbol": "circle"
         },
         "mode": "markers",
         "name": "Spanish",
         "scene": "scene",
         "showlegend": true,
         "type": "scatter3d",
         "x": [
          3.76421098338026,
          3.09497414838753,
          4.17319823982308,
          -6.09412364193037,
          6.16504393888865,
          4.93039287479138,
          -7.71263788339418,
          -4.13325390271185,
          3.27600057684007,
          -3.71834446201741,
          5.47176851721687,
          5.23142978600143,
          1.55686667080875,
          -4.44998920756652,
          -4.38448802421401,
          -0.054863649782619,
          -3.82426561078265,
          -4.59130391640685,
          8.46680860497879,
          5.45019704877566,
          4.93241358136987,
          -4.0012901427916,
          -3.26856333913579,
          -0.757010195059152,
          -6.70456671928425,
          3.14137700657558,
          -4.30232674432688,
          3.3613668843822,
          -4.13998127183376,
          4.9206383958364,
          -4.03781267136407,
          -6.87366326229469,
          5.37906267964515,
          8.32039784632548,
          5.59549320461804,
          -5.21313822034094,
          -5.56095061248458,
          2.53814981859685,
          4.27552692621008,
          3.89273442208779,
          -7.49627882192853,
          5.32033855214251,
          -4.6982062141367,
          -3.84581004753822,
          -7.66985044616705,
          -6.89667993553525,
          6.93426034594949
         ],
         "y": [
          -1.24010089100902,
          -0.507546986169717,
          2.57646456901998,
          0.827822215516519,
          2.99118355114398,
          -0.787288204850397,
          7.14059015235643,
          1.46368546145,
          -1.69331074344603,
          -3.32295010526414,
          -1.07476269653375,
          0.136637506884304,
          0.403033134076766,
          -0.47116982191398,
          -0.104776045687341,
          -2.17030091624142,
          0.76048463323031,
          -3.36529446305038,
          4.46616505110546,
          -0.136048002800423,
          -1.5956122973509,
          -2.2213329080347,
          -3.38635064218175,
          3.45350515056702,
          3.57955048888927,
          -0.189413978139784,
          -0.0775427669154291,
          -2.32588595724334,
          -3.76694839928803,
          -1.03421796789996,
          -4.16671356975129,
          2.55200504400252,
          0.513492457672579,
          4.55812637327011,
          -0.788493837743661,
          -0.539700624067024,
          -3.1509565735981,
          -2.34116794854011,
          0.513052693016431,
          -2.72681452031176,
          2.84088190691579,
          -0.596798126725969,
          3.40955286321395,
          -0.13383434061653,
          1.58069703687761,
          2.21519698432699,
          4.09473876402278
         ],
         "z": [
          -0.0881394464285302,
          -0.288236117630457,
          0.0612794250455258,
          -0.0265803282433075,
          0.0815924797393716,
          0.256125456159517,
          0.308788159807736,
          0.255353144746321,
          -0.205443985738015,
          -0.0241878439483675,
          -0.0211032542588466,
          0.366788683359125,
          0.224434675976447,
          0.449875856741725,
          -0.301050835687072,
          0.062233794310156,
          -0.0342210719696961,
          -0.184267603100322,
          -0.14225991189394,
          0.0212607354443801,
          -0.31147515521551,
          -0.037987211535651,
          0.0884787852708799,
          -0.207624569576667,
          0.170225602793166,
          0.309978258355914,
          0.164020198951169,
          0.0744497702240397,
          0.04164524187648,
          -0.29507223522366,
          -0.0146839186555158,
          -0.271684416583198,
          0.0114048365897062,
          0.053132798849971,
          0.165708634473201,
          0.205876250450401,
          0.0049900990090673,
          0.201250246376681,
          0.0309093885730542,
          -0.142798467397272,
          -0.0002293442650291,
          -0.12912645251473,
          -0.0429540755087286,
          -0.361987768152839,
          0.0111250985268986,
          0.0858170824126328,
          -0.0017418313578477
         ]
        },
        {
         "error_z": {
          "array": [
           0.0753844483864795,
           0.0803654986587585,
           0.0743713059971785,
           0.2017049477283205,
           0.0729701066792795,
           0.0820468025934405,
           0.183494573749688,
           0.170065725663949,
           0.0960729293233605,
           0.1251385821914475,
           null,
           0.0844840871388375,
           0.671107594891665,
           0.0820878323195205,
           0.0855103100485365,
           0.083463540125832,
           0.1543199506892705,
           0.074469974761953,
           0.112520313017416,
           0.075218021890824,
           0.0858430247452745,
           0.3453370251047145,
           0.241824956308271,
           0.097481973943572,
           0.116995304559891,
           0.1756588624829045,
           0.073117135326918,
           0.142239654443567,
           0.0739807846656115,
           0.077900920354357,
           0.093972125891572,
           0.0843746102693285,
           0.0769703729106625,
           0.0711648968214975,
           0.1738259103057455,
           0.214894826512982,
           0.089387197258882,
           0.0750596438805825,
           0.0763465330646485,
           0.102465370486718,
           0.07249022727601,
           0.1843670826496065,
           0.0763110327282795,
           0.0775956188648265
          ]
         },
         "hovertemplate": "Language=Catalan<br>Principal Component 1=%{x}<br>Principal Component 2=%{y}<br>Spectral Tilt Estimate=%{z}<extra></extra>",
         "legendgroup": "Catalan",
         "marker": {
          "color": "#EF553B",
          "opacity": 0.5,
          "symbol": "circle"
         },
         "mode": "markers",
         "name": "Catalan",
         "scene": "scene",
         "showlegend": true,
         "type": "scatter3d",
         "x": [
          3.76421098338026,
          3.09497414838753,
          4.17319823982308,
          -6.09412364193037,
          6.16504393888865,
          4.93039287479138,
          -7.71263788339418,
          -4.13325390271185,
          3.27600057684007,
          -3.71834446201741,
          5.47176851721687,
          5.23142978600143,
          1.55686667080875,
          -4.44998920756652,
          -4.38448802421401,
          -0.054863649782619,
          -3.82426561078265,
          -4.59130391640685,
          3.52409522369204,
          8.46680860497879,
          5.45019704877566,
          4.93241358136987,
          -4.0012901427916,
          -3.26856333913579,
          -0.757010195059152,
          -6.70456671928425,
          3.14137700657558,
          -4.30232674432688,
          3.3613668843822,
          -4.13998127183376,
          4.9206383958364,
          -4.03781267136407,
          -6.87366326229469,
          5.37906267964515,
          8.32039784632548,
          -5.21313822034094,
          -5.56095061248458,
          4.27552692621008,
          3.89273442208779,
          -7.49627882192853,
          5.32033855214251,
          -4.6982062141367,
          -7.66985044616705,
          6.93426034594949
         ],
         "y": [
          -1.24010089100902,
          -0.507546986169717,
          2.57646456901998,
          0.827822215516519,
          2.99118355114398,
          -0.787288204850397,
          7.14059015235643,
          1.46368546145,
          -1.69331074344603,
          -3.32295010526414,
          -1.07476269653375,
          0.136637506884304,
          0.403033134076766,
          -0.47116982191398,
          -0.104776045687341,
          -2.17030091624142,
          0.76048463323031,
          -3.36529446305038,
          -0.51524621403081,
          4.46616505110546,
          -0.136048002800423,
          -1.5956122973509,
          -2.2213329080347,
          -3.38635064218175,
          3.45350515056702,
          3.57955048888927,
          -0.189413978139784,
          -0.0775427669154291,
          -2.32588595724334,
          -3.76694839928803,
          -1.03421796789996,
          -4.16671356975129,
          2.55200504400252,
          0.513492457672579,
          4.55812637327011,
          -0.539700624067024,
          -3.1509565735981,
          0.513052693016431,
          -2.72681452031176,
          2.84088190691579,
          -0.596798126725969,
          3.40955286321395,
          1.58069703687761,
          4.09473876402278
         ],
         "z": [
          -0.278362719189639,
          0.172382358138799,
          0.110451264861983,
          1.73626401607644,
          -0.0014146622294385,
          0.27581698869533,
          1.94141853572012,
          1.63560313566318,
          0.659788469118554,
          0.493360022507549,
          null,
          0.271987522796451,
          -0.792364728644355,
          0.380541836096521,
          0.323789378657644,
          0.435570884890336,
          1.17879515201095,
          0.21975660076221,
          0.154338047809828,
          0.197871934622241,
          -0.160292251861882,
          -1.00488209487203,
          2.31691793180767,
          0.864353911132688,
          -0.0559393341202688,
          1.73636654972366,
          -0.123555068064293,
          0.367352601227121,
          -0.148736707862357,
          -0.325312639449806,
          -0.655027345334152,
          0.169834771812997,
          0.44922247171314,
          0.542344693633704,
          0.0480317509770557,
          2.02367908201954,
          0.167474271317715,
          -0.166833686638719,
          -0.0916299383910423,
          0.715906992213181,
          0.0626091795341922,
          1.60024349307021,
          -0.107620753086679,
          0.0729569057878802
         ]
        },
        {
         "error_z": {
          "array": [
           0.116184204783221,
           0.09026094324285,
           0.0938357401767705,
           0.0805116746799145,
           0.076711761903386,
           0.099479819659015,
           0.0939059346870795,
           0.1047078614038585,
           0.1087810664574055,
           0.3668572242253325,
           0.084638252602241,
           0.0931221465963775,
           0.091662818695188,
           0.094477197024537,
           0.0819281916932055,
           0.0755749145892345,
           0.0748261558888305,
           0.07174389823193,
           0.097879102999947,
           0.0859456843738105,
           0.0845832855243225,
           0.110567587187524,
           0.099867168131911,
           0.081849105281072,
           0.0912944278813505,
           0.103577926218028,
           0.079256605066918,
           0.077534121124802,
           0.1430322454938975,
           0.084063933311796,
           0.269239413555976,
           0.1296519481093405,
           0.080758523230346,
           0.1075200941154725,
           0.104187797871798,
           0.1277550773615115,
           0.2095434692901205,
           0.1095542542401335,
           0.084787912325783,
           0.078848786323771,
           0.074532228849463,
           0.0735235885234235,
           0.0832420016668915,
           0.108391003792694
          ]
         },
         "hovertemplate": "Language=English<br>Principal Component 1=%{x}<br>Principal Component 2=%{y}<br>Spectral Tilt Estimate=%{z}<extra></extra>",
         "legendgroup": "English",
         "marker": {
          "color": "#00cc96",
          "opacity": 0.5,
          "symbol": "circle"
         },
         "mode": "markers",
         "name": "English",
         "scene": "scene",
         "showlegend": true,
         "type": "scatter3d",
         "x": [
          3.76421098338026,
          3.09497414838753,
          4.17319823982308,
          -6.09412364193037,
          6.16504393888865,
          4.93039287479138,
          -7.71263788339418,
          -4.13325390271185,
          3.27600057684007,
          -3.71834446201741,
          5.23142978600143,
          1.55686667080875,
          -4.44998920756652,
          -4.38448802421401,
          -0.054863649782619,
          -3.82426561078265,
          -4.59130391640685,
          3.52409522369204,
          8.46680860497879,
          5.45019704877566,
          -4.0012901427916,
          -3.26856333913579,
          -0.757010195059152,
          -6.70456671928425,
          3.14137700657558,
          -4.30232674432688,
          3.3613668843822,
          -4.13998127183376,
          4.9206383958364,
          -4.03781267136407,
          -6.87366326229469,
          5.37906267964515,
          8.32039784632548,
          -5.21313822034094,
          -5.56095061248458,
          2.53814981859685,
          4.27552692621008,
          3.89273442208779,
          -7.49627882192853,
          5.32033855214251,
          -4.6982062141367,
          -7.66985044616705,
          -6.89667993553525,
          6.93426034594949
         ],
         "y": [
          -1.24010089100902,
          -0.507546986169717,
          2.57646456901998,
          0.827822215516519,
          2.99118355114398,
          -0.787288204850397,
          7.14059015235643,
          1.46368546145,
          -1.69331074344603,
          -3.32295010526414,
          0.136637506884304,
          0.403033134076766,
          -0.47116982191398,
          -0.104776045687341,
          -2.17030091624142,
          0.76048463323031,
          -3.36529446305038,
          -0.51524621403081,
          4.46616505110546,
          -0.136048002800423,
          -2.2213329080347,
          -3.38635064218175,
          3.45350515056702,
          3.57955048888927,
          -0.189413978139784,
          -0.0775427669154291,
          -2.32588595724334,
          -3.76694839928803,
          -1.03421796789996,
          -4.16671356975129,
          2.55200504400252,
          0.513492457672579,
          4.55812637327011,
          -0.539700624067024,
          -3.1509565735981,
          -2.34116794854011,
          0.513052693016431,
          -2.72681452031176,
          2.84088190691579,
          -0.596798126725969,
          3.40955286321395,
          1.58069703687761,
          2.21519698432699,
          4.09473876402278
         ],
         "z": [
          0.58866376335081,
          -0.140839648861401,
          0.0433774524791784,
          0.0769998982004157,
          0.0452630566053809,
          0.484851226594494,
          0.758347201748877,
          0.677179056081044,
          0.606291874113083,
          0.0818739868004589,
          0.0521007226300939,
          0.356364873985609,
          0.0806163760815099,
          0.328302237933514,
          0.124408192470922,
          0.0515119909195828,
          0.0410986546965988,
          0.0812092587346873,
          0.177200675983101,
          0.056013557820388,
          0.442024377172529,
          0.490347421692542,
          0.176208720135005,
          0.232581286616662,
          -0.100122934166441,
          0.388589015404017,
          0.258241939879469,
          -0.258420431382029,
          0.371160747045418,
          0.109416192339585,
          0.343862659002265,
          0.603293100394047,
          0.297387411408113,
          0.0310249458967311,
          0.24605596474833,
          0.426262223159996,
          -1.22363054562708,
          0.453271135494185,
          0.113437855909712,
          -0.0107053916215204,
          0.0347298985995273,
          0.0221789197681006,
          0.210427563500891,
          -0.15338224857838
         ]
        }
       ],
       "layout": {
        "height": 400,
        "legend": {
         "title": {
          "text": "Language"
         },
         "tracegroupgap": 0
        },
        "margin": {
         "t": 60
        },
        "scene": {
         "aspectmode": "auto",
         "aspectratio": {
          "x": 1,
          "y": 1,
          "z": 1
         },
         "camera": {
          "center": {
           "x": 0,
           "y": 0,
           "z": 0
          },
          "eye": {
           "x": -0.3120154577784984,
           "y": -2.042270620659113,
           "z": 0.16889765796143885
          },
          "projection": {
           "type": "perspective"
          },
          "up": {
           "x": 0,
           "y": 0,
           "z": 1
          }
         },
         "domain": {
          "x": [
           0,
           1
          ],
          "y": [
           0,
           1
          ]
         },
         "xaxis": {
          "range": [
           -10,
           10
          ],
          "title": {
           "text": "Principal Component 1"
          },
          "type": "linear"
         },
         "yaxis": {
          "range": [
           -10,
           10
          ],
          "title": {
           "text": "Principal Component 2"
          },
          "type": "linear"
         },
         "zaxis": {
          "title": {
           "text": "Spectral Tilt Estimate"
          },
          "type": "linear"
         }
        },
        "template": {
         "data": {
          "bar": [
           {
            "error_x": {
             "color": "#2a3f5f"
            },
            "error_y": {
             "color": "#2a3f5f"
            },
            "marker": {
             "line": {
              "color": "#E5ECF6",
              "width": 0.5
             },
             "pattern": {
              "fillmode": "overlay",
              "size": 10,
              "solidity": 0.2
             }
            },
            "type": "bar"
           }
          ],
          "barpolar": [
           {
            "marker": {
             "line": {
              "color": "#E5ECF6",
              "width": 0.5
             },
             "pattern": {
              "fillmode": "overlay",
              "size": 10,
              "solidity": 0.2
             }
            },
            "type": "barpolar"
           }
          ],
          "carpet": [
           {
            "aaxis": {
             "endlinecolor": "#2a3f5f",
             "gridcolor": "white",
             "linecolor": "white",
             "minorgridcolor": "white",
             "startlinecolor": "#2a3f5f"
            },
            "baxis": {
             "endlinecolor": "#2a3f5f",
             "gridcolor": "white",
             "linecolor": "white",
             "minorgridcolor": "white",
             "startlinecolor": "#2a3f5f"
            },
            "type": "carpet"
           }
          ],
          "choropleth": [
           {
            "colorbar": {
             "outlinewidth": 0,
             "ticks": ""
            },
            "type": "choropleth"
           }
          ],
          "contour": [
           {
            "colorbar": {
             "outlinewidth": 0,
             "ticks": ""
            },
            "colorscale": [
             [
              0,
              "#0d0887"
             ],
             [
              0.1111111111111111,
              "#46039f"
             ],
             [
              0.2222222222222222,
              "#7201a8"
             ],
             [
              0.3333333333333333,
              "#9c179e"
             ],
             [
              0.4444444444444444,
              "#bd3786"
             ],
             [
              0.5555555555555556,
              "#d8576b"
             ],
             [
              0.6666666666666666,
              "#ed7953"
             ],
             [
              0.7777777777777778,
              "#fb9f3a"
             ],
             [
              0.8888888888888888,
              "#fdca26"
             ],
             [
              1,
              "#f0f921"
             ]
            ],
            "type": "contour"
           }
          ],
          "contourcarpet": [
           {
            "colorbar": {
             "outlinewidth": 0,
             "ticks": ""
            },
            "type": "contourcarpet"
           }
          ],
          "heatmap": [
           {
            "colorbar": {
             "outlinewidth": 0,
             "ticks": ""
            },
            "colorscale": [
             [
              0,
              "#0d0887"
             ],
             [
              0.1111111111111111,
              "#46039f"
             ],
             [
              0.2222222222222222,
              "#7201a8"
             ],
             [
              0.3333333333333333,
              "#9c179e"
             ],
             [
              0.4444444444444444,
              "#bd3786"
             ],
             [
              0.5555555555555556,
              "#d8576b"
             ],
             [
              0.6666666666666666,
              "#ed7953"
             ],
             [
              0.7777777777777778,
              "#fb9f3a"
             ],
             [
              0.8888888888888888,
              "#fdca26"
             ],
             [
              1,
              "#f0f921"
             ]
            ],
            "type": "heatmap"
           }
          ],
          "heatmapgl": [
           {
            "colorbar": {
             "outlinewidth": 0,
             "ticks": ""
            },
            "colorscale": [
             [
              0,
              "#0d0887"
             ],
             [
              0.1111111111111111,
              "#46039f"
             ],
             [
              0.2222222222222222,
              "#7201a8"
             ],
             [
              0.3333333333333333,
              "#9c179e"
             ],
             [
              0.4444444444444444,
              "#bd3786"
             ],
             [
              0.5555555555555556,
              "#d8576b"
             ],
             [
              0.6666666666666666,
              "#ed7953"
             ],
             [
              0.7777777777777778,
              "#fb9f3a"
             ],
             [
              0.8888888888888888,
              "#fdca26"
             ],
             [
              1,
              "#f0f921"
             ]
            ],
            "type": "heatmapgl"
           }
          ],
          "histogram": [
           {
            "marker": {
             "pattern": {
              "fillmode": "overlay",
              "size": 10,
              "solidity": 0.2
             }
            },
            "type": "histogram"
           }
          ],
          "histogram2d": [
           {
            "colorbar": {
             "outlinewidth": 0,
             "ticks": ""
            },
            "colorscale": [
             [
              0,
              "#0d0887"
             ],
             [
              0.1111111111111111,
              "#46039f"
             ],
             [
              0.2222222222222222,
              "#7201a8"
             ],
             [
              0.3333333333333333,
              "#9c179e"
             ],
             [
              0.4444444444444444,
              "#bd3786"
             ],
             [
              0.5555555555555556,
              "#d8576b"
             ],
             [
              0.6666666666666666,
              "#ed7953"
             ],
             [
              0.7777777777777778,
              "#fb9f3a"
             ],
             [
              0.8888888888888888,
              "#fdca26"
             ],
             [
              1,
              "#f0f921"
             ]
            ],
            "type": "histogram2d"
           }
          ],
          "histogram2dcontour": [
           {
            "colorbar": {
             "outlinewidth": 0,
             "ticks": ""
            },
            "colorscale": [
             [
              0,
              "#0d0887"
             ],
             [
              0.1111111111111111,
              "#46039f"
             ],
             [
              0.2222222222222222,
              "#7201a8"
             ],
             [
              0.3333333333333333,
              "#9c179e"
             ],
             [
              0.4444444444444444,
              "#bd3786"
             ],
             [
              0.5555555555555556,
              "#d8576b"
             ],
             [
              0.6666666666666666,
              "#ed7953"
             ],
             [
              0.7777777777777778,
              "#fb9f3a"
             ],
             [
              0.8888888888888888,
              "#fdca26"
             ],
             [
              1,
              "#f0f921"
             ]
            ],
            "type": "histogram2dcontour"
           }
          ],
          "mesh3d": [
           {
            "colorbar": {
             "outlinewidth": 0,
             "ticks": ""
            },
            "type": "mesh3d"
           }
          ],
          "parcoords": [
           {
            "line": {
             "colorbar": {
              "outlinewidth": 0,
              "ticks": ""
             }
            },
            "type": "parcoords"
           }
          ],
          "pie": [
           {
            "automargin": true,
            "type": "pie"
           }
          ],
          "scatter": [
           {
            "marker": {
             "colorbar": {
              "outlinewidth": 0,
              "ticks": ""
             }
            },
            "type": "scatter"
           }
          ],
          "scatter3d": [
           {
            "line": {
             "colorbar": {
              "outlinewidth": 0,
              "ticks": ""
             }
            },
            "marker": {
             "colorbar": {
              "outlinewidth": 0,
              "ticks": ""
             }
            },
            "type": "scatter3d"
           }
          ],
          "scattercarpet": [
           {
            "marker": {
             "colorbar": {
              "outlinewidth": 0,
              "ticks": ""
             }
            },
            "type": "scattercarpet"
           }
          ],
          "scattergeo": [
           {
            "marker": {
             "colorbar": {
              "outlinewidth": 0,
              "ticks": ""
             }
            },
            "type": "scattergeo"
           }
          ],
          "scattergl": [
           {
            "marker": {
             "colorbar": {
              "outlinewidth": 0,
              "ticks": ""
             }
            },
            "type": "scattergl"
           }
          ],
          "scattermapbox": [
           {
            "marker": {
             "colorbar": {
              "outlinewidth": 0,
              "ticks": ""
             }
            },
            "type": "scattermapbox"
           }
          ],
          "scatterpolar": [
           {
            "marker": {
             "colorbar": {
              "outlinewidth": 0,
              "ticks": ""
             }
            },
            "type": "scatterpolar"
           }
          ],
          "scatterpolargl": [
           {
            "marker": {
             "colorbar": {
              "outlinewidth": 0,
              "ticks": ""
             }
            },
            "type": "scatterpolargl"
           }
          ],
          "scatterternary": [
           {
            "marker": {
             "colorbar": {
              "outlinewidth": 0,
              "ticks": ""
             }
            },
            "type": "scatterternary"
           }
          ],
          "surface": [
           {
            "colorbar": {
             "outlinewidth": 0,
             "ticks": ""
            },
            "colorscale": [
             [
              0,
              "#0d0887"
             ],
             [
              0.1111111111111111,
              "#46039f"
             ],
             [
              0.2222222222222222,
              "#7201a8"
             ],
             [
              0.3333333333333333,
              "#9c179e"
             ],
             [
              0.4444444444444444,
              "#bd3786"
             ],
             [
              0.5555555555555556,
              "#d8576b"
             ],
             [
              0.6666666666666666,
              "#ed7953"
             ],
             [
              0.7777777777777778,
              "#fb9f3a"
             ],
             [
              0.8888888888888888,
              "#fdca26"
             ],
             [
              1,
              "#f0f921"
             ]
            ],
            "type": "surface"
           }
          ],
          "table": [
           {
            "cells": {
             "fill": {
              "color": "#EBF0F8"
             },
             "line": {
              "color": "white"
             }
            },
            "header": {
             "fill": {
              "color": "#C8D4E3"
             },
             "line": {
              "color": "white"
             }
            },
            "type": "table"
           }
          ]
         },
         "layout": {
          "annotationdefaults": {
           "arrowcolor": "#2a3f5f",
           "arrowhead": 0,
           "arrowwidth": 1
          },
          "autotypenumbers": "strict",
          "coloraxis": {
           "colorbar": {
            "outlinewidth": 0,
            "ticks": ""
           }
          },
          "colorscale": {
           "diverging": [
            [
             0,
             "#8e0152"
            ],
            [
             0.1,
             "#c51b7d"
            ],
            [
             0.2,
             "#de77ae"
            ],
            [
             0.3,
             "#f1b6da"
            ],
            [
             0.4,
             "#fde0ef"
            ],
            [
             0.5,
             "#f7f7f7"
            ],
            [
             0.6,
             "#e6f5d0"
            ],
            [
             0.7,
             "#b8e186"
            ],
            [
             0.8,
             "#7fbc41"
            ],
            [
             0.9,
             "#4d9221"
            ],
            [
             1,
             "#276419"
            ]
           ],
           "sequential": [
            [
             0,
             "#0d0887"
            ],
            [
             0.1111111111111111,
             "#46039f"
            ],
            [
             0.2222222222222222,
             "#7201a8"
            ],
            [
             0.3333333333333333,
             "#9c179e"
            ],
            [
             0.4444444444444444,
             "#bd3786"
            ],
            [
             0.5555555555555556,
             "#d8576b"
            ],
            [
             0.6666666666666666,
             "#ed7953"
            ],
            [
             0.7777777777777778,
             "#fb9f3a"
            ],
            [
             0.8888888888888888,
             "#fdca26"
            ],
            [
             1,
             "#f0f921"
            ]
           ],
           "sequentialminus": [
            [
             0,
             "#0d0887"
            ],
            [
             0.1111111111111111,
             "#46039f"
            ],
            [
             0.2222222222222222,
             "#7201a8"
            ],
            [
             0.3333333333333333,
             "#9c179e"
            ],
            [
             0.4444444444444444,
             "#bd3786"
            ],
            [
             0.5555555555555556,
             "#d8576b"
            ],
            [
             0.6666666666666666,
             "#ed7953"
            ],
            [
             0.7777777777777778,
             "#fb9f3a"
            ],
            [
             0.8888888888888888,
             "#fdca26"
            ],
            [
             1,
             "#f0f921"
            ]
           ]
          },
          "colorway": [
           "#636efa",
           "#EF553B",
           "#00cc96",
           "#ab63fa",
           "#FFA15A",
           "#19d3f3",
           "#FF6692",
           "#B6E880",
           "#FF97FF",
           "#FECB52"
          ],
          "font": {
           "color": "#2a3f5f"
          },
          "geo": {
           "bgcolor": "white",
           "lakecolor": "white",
           "landcolor": "#E5ECF6",
           "showlakes": true,
           "showland": true,
           "subunitcolor": "white"
          },
          "hoverlabel": {
           "align": "left"
          },
          "hovermode": "closest",
          "mapbox": {
           "style": "light"
          },
          "paper_bgcolor": "white",
          "plot_bgcolor": "#E5ECF6",
          "polar": {
           "angularaxis": {
            "gridcolor": "white",
            "linecolor": "white",
            "ticks": ""
           },
           "bgcolor": "#E5ECF6",
           "radialaxis": {
            "gridcolor": "white",
            "linecolor": "white",
            "ticks": ""
           }
          },
          "scene": {
           "xaxis": {
            "backgroundcolor": "#E5ECF6",
            "gridcolor": "white",
            "gridwidth": 2,
            "linecolor": "white",
            "showbackground": true,
            "ticks": "",
            "zerolinecolor": "white"
           },
           "yaxis": {
            "backgroundcolor": "#E5ECF6",
            "gridcolor": "white",
            "gridwidth": 2,
            "linecolor": "white",
            "showbackground": true,
            "ticks": "",
            "zerolinecolor": "white"
           },
           "zaxis": {
            "backgroundcolor": "#E5ECF6",
            "gridcolor": "white",
            "gridwidth": 2,
            "linecolor": "white",
            "showbackground": true,
            "ticks": "",
            "zerolinecolor": "white"
           }
          },
          "shapedefaults": {
           "line": {
            "color": "#2a3f5f"
           }
          },
          "ternary": {
           "aaxis": {
            "gridcolor": "white",
            "linecolor": "white",
            "ticks": ""
           },
           "baxis": {
            "gridcolor": "white",
            "linecolor": "white",
            "ticks": ""
           },
           "bgcolor": "#E5ECF6",
           "caxis": {
            "gridcolor": "white",
            "linecolor": "white",
            "ticks": ""
           }
          },
          "title": {
           "x": 0.05
          },
          "xaxis": {
           "automargin": true,
           "gridcolor": "white",
           "linecolor": "white",
           "ticks": "",
           "title": {
            "standoff": 15
           },
           "zerolinecolor": "white",
           "zerolinewidth": 2
          },
          "yaxis": {
           "automargin": true,
           "gridcolor": "white",
           "linecolor": "white",
           "ticks": "",
           "title": {
            "standoff": 15
           },
           "zerolinecolor": "white",
           "zerolinewidth": 2
          }
         }
        },
        "width": 800
       }
      },
      "image/png": "[encoded data removed]",
      "text/html": [
       "<div>                            <div id=\"382b479c-1d95-4289-8f6e-3380e1b95cc0\" class=\"plotly-graph-div\" style=\"height:400px; width:800px;\"></div>            <script type=\"text/javascript\">                require([\"plotly\"], function(Plotly) {                    window.PLOTLYENV=window.PLOTLYENV || {};                                    if (document.getElementById(\"382b479c-1d95-4289-8f6e-3380e1b95cc0\")) {                    Plotly.newPlot(                        \"382b479c-1d95-4289-8f6e-3380e1b95cc0\",                        [{\"error_z\":{\"array\":[0.0830102953296865,0.091663171208971,0.072638295483999,0.0836469276306575,0.07331472390491,0.077667421531571,0.083501574867274,0.083218101992991,0.090789158711069,0.0815967552578235,0.0714822924672865,0.0902247713154915,0.4048168751603465,0.082510509635091,0.11594662730983,0.071899667889474,0.0749798417462035,0.072287090379738,0.103948267311548,0.0743722501252565,0.1560488143340725,0.0850019700609035,0.081482563631672,0.130950940852051,0.093164173914153,0.0946884363024815,0.0772048615444195,0.0862799873193285,0.072198875601341,0.0868887497322325,0.073616064662941,0.1023688076919775,0.071396340891087,0.1680154056278255,0.1055531869069315,0.0818877154654925,0.0762119610105425,0.087956138226702,0.0785052764484215,0.086917624105372,0.077923181063636,0.092941668396801,0.0719362913837875,0.0837211236728085,0.071332586222028,0.156975275926449,0.095866006858544]},\"hovertemplate\":\"Language=Spanish<br>Principal Component 1=%{x}<br>Principal Component 2=%{y}<br>Spectral Tilt Estimate=%{z}<extra></extra>\",\"legendgroup\":\"Spanish\",\"marker\":{\"color\":\"#636efa\",\"opacity\":0.5,\"symbol\":\"circle\"},\"mode\":\"markers\",\"name\":\"Spanish\",\"scene\":\"scene\",\"showlegend\":true,\"type\":\"scatter3d\",\"x\":[3.76421098338026,3.09497414838753,4.17319823982308,-6.09412364193037,6.16504393888865,4.93039287479138,-7.71263788339418,-4.13325390271185,3.27600057684007,-3.71834446201741,5.47176851721687,5.23142978600143,1.55686667080875,-4.44998920756652,-4.38448802421401,-0.054863649782619,-3.82426561078265,-4.59130391640685,8.46680860497879,5.45019704877566,4.93241358136987,-4.0012901427916,-3.26856333913579,-0.757010195059152,-6.70456671928425,3.14137700657558,-4.30232674432688,3.3613668843822,-4.13998127183376,4.9206383958364,-4.03781267136407,-6.87366326229469,5.37906267964515,8.32039784632548,5.59549320461804,-5.21313822034094,-5.56095061248458,2.53814981859685,4.27552692621008,3.89273442208779,-7.49627882192853,5.32033855214251,-4.6982062141367,-3.84581004753822,-7.66985044616705,-6.89667993553525,6.93426034594949],\"y\":[-1.24010089100902,-0.507546986169717,2.57646456901998,0.827822215516519,2.99118355114398,-0.787288204850397,7.14059015235643,1.46368546145,-1.69331074344603,-3.32295010526414,-1.07476269653375,0.136637506884304,0.403033134076766,-0.47116982191398,-0.104776045687341,-2.17030091624142,0.76048463323031,-3.36529446305038,4.46616505110546,-0.136048002800423,-1.5956122973509,-2.2213329080347,-3.38635064218175,3.45350515056702,3.57955048888927,-0.189413978139784,-0.0775427669154291,-2.32588595724334,-3.76694839928803,-1.03421796789996,-4.16671356975129,2.55200504400252,0.513492457672579,4.55812637327011,-0.788493837743661,-0.539700624067024,-3.1509565735981,-2.34116794854011,0.513052693016431,-2.72681452031176,2.84088190691579,-0.596798126725969,3.40955286321395,-0.13383434061653,1.58069703687761,2.21519698432699,4.09473876402278],\"z\":[-0.0881394464285302,-0.288236117630457,0.0612794250455258,-0.0265803282433075,0.0815924797393716,0.256125456159517,0.308788159807736,0.255353144746321,-0.205443985738015,-0.0241878439483675,-0.0211032542588466,0.366788683359125,0.224434675976447,0.449875856741725,-0.301050835687072,0.062233794310156,-0.0342210719696961,-0.184267603100322,-0.14225991189394,0.0212607354443801,-0.31147515521551,-0.037987211535651,0.0884787852708799,-0.207624569576667,0.170225602793166,0.309978258355914,0.164020198951169,0.0744497702240397,0.04164524187648,-0.29507223522366,-0.0146839186555158,-0.271684416583198,0.0114048365897062,0.053132798849971,0.165708634473201,0.205876250450401,0.0049900990090673,0.201250246376681,0.0309093885730542,-0.142798467397272,-0.0002293442650291,-0.12912645251473,-0.0429540755087286,-0.361987768152839,0.0111250985268986,0.0858170824126328,-0.0017418313578477]},{\"error_z\":{\"array\":[0.0753844483864795,0.0803654986587585,0.0743713059971785,0.2017049477283205,0.0729701066792795,0.0820468025934405,0.183494573749688,0.170065725663949,0.0960729293233605,0.1251385821914475,null,0.0844840871388375,0.671107594891665,0.0820878323195205,0.0855103100485365,0.083463540125832,0.1543199506892705,0.074469974761953,0.112520313017416,0.075218021890824,0.0858430247452745,0.3453370251047145,0.241824956308271,0.097481973943572,0.116995304559891,0.1756588624829045,0.073117135326918,0.142239654443567,0.0739807846656115,0.077900920354357,0.093972125891572,0.0843746102693285,0.0769703729106625,0.0711648968214975,0.1738259103057455,0.214894826512982,0.089387197258882,0.0750596438805825,0.0763465330646485,0.102465370486718,0.07249022727601,0.1843670826496065,0.0763110327282795,0.0775956188648265]},\"hovertemplate\":\"Language=Catalan<br>Principal Component 1=%{x}<br>Principal Component 2=%{y}<br>Spectral Tilt Estimate=%{z}<extra></extra>\",\"legendgroup\":\"Catalan\",\"marker\":{\"color\":\"#EF553B\",\"opacity\":0.5,\"symbol\":\"circle\"},\"mode\":\"markers\",\"name\":\"Catalan\",\"scene\":\"scene\",\"showlegend\":true,\"type\":\"scatter3d\",\"x\":[3.76421098338026,3.09497414838753,4.17319823982308,-6.09412364193037,6.16504393888865,4.93039287479138,-7.71263788339418,-4.13325390271185,3.27600057684007,-3.71834446201741,5.47176851721687,5.23142978600143,1.55686667080875,-4.44998920756652,-4.38448802421401,-0.054863649782619,-3.82426561078265,-4.59130391640685,3.52409522369204,8.46680860497879,5.45019704877566,4.93241358136987,-4.0012901427916,-3.26856333913579,-0.757010195059152,-6.70456671928425,3.14137700657558,-4.30232674432688,3.3613668843822,-4.13998127183376,4.9206383958364,-4.03781267136407,-6.87366326229469,5.37906267964515,8.32039784632548,-5.21313822034094,-5.56095061248458,4.27552692621008,3.89273442208779,-7.49627882192853,5.32033855214251,-4.6982062141367,-7.66985044616705,6.93426034594949],\"y\":[-1.24010089100902,-0.507546986169717,2.57646456901998,0.827822215516519,2.99118355114398,-0.787288204850397,7.14059015235643,1.46368546145,-1.69331074344603,-3.32295010526414,-1.07476269653375,0.136637506884304,0.403033134076766,-0.47116982191398,-0.104776045687341,-2.17030091624142,0.76048463323031,-3.36529446305038,-0.51524621403081,4.46616505110546,-0.136048002800423,-1.5956122973509,-2.2213329080347,-3.38635064218175,3.45350515056702,3.57955048888927,-0.189413978139784,-0.0775427669154291,-2.32588595724334,-3.76694839928803,-1.03421796789996,-4.16671356975129,2.55200504400252,0.513492457672579,4.55812637327011,-0.539700624067024,-3.1509565735981,0.513052693016431,-2.72681452031176,2.84088190691579,-0.596798126725969,3.40955286321395,1.58069703687761,4.09473876402278],\"z\":[-0.278362719189639,0.172382358138799,0.110451264861983,1.73626401607644,-0.0014146622294385,0.27581698869533,1.94141853572012,1.63560313566318,0.659788469118554,0.493360022507549,null,0.271987522796451,-0.792364728644355,0.380541836096521,0.323789378657644,0.435570884890336,1.17879515201095,0.21975660076221,0.154338047809828,0.197871934622241,-0.160292251861882,-1.00488209487203,2.31691793180767,0.864353911132688,-0.0559393341202688,1.73636654972366,-0.123555068064293,0.367352601227121,-0.148736707862357,-0.325312639449806,-0.655027345334152,0.169834771812997,0.44922247171314,0.542344693633704,0.0480317509770557,2.02367908201954,0.167474271317715,-0.166833686638719,-0.0916299383910423,0.715906992213181,0.0626091795341922,1.60024349307021,-0.107620753086679,0.0729569057878802]},{\"error_z\":{\"array\":[0.116184204783221,0.09026094324285,0.0938357401767705,0.0805116746799145,0.076711761903386,0.099479819659015,0.0939059346870795,0.1047078614038585,0.1087810664574055,0.3668572242253325,0.084638252602241,0.0931221465963775,0.091662818695188,0.094477197024537,0.0819281916932055,0.0755749145892345,0.0748261558888305,0.07174389823193,0.097879102999947,0.0859456843738105,0.0845832855243225,0.110567587187524,0.099867168131911,0.081849105281072,0.0912944278813505,0.103577926218028,0.079256605066918,0.077534121124802,0.1430322454938975,0.084063933311796,0.269239413555976,0.1296519481093405,0.080758523230346,0.1075200941154725,0.104187797871798,0.1277550773615115,0.2095434692901205,0.1095542542401335,0.084787912325783,0.078848786323771,0.074532228849463,0.0735235885234235,0.0832420016668915,0.108391003792694]},\"hovertemplate\":\"Language=English<br>Principal Component 1=%{x}<br>Principal Component 2=%{y}<br>Spectral Tilt Estimate=%{z}<extra></extra>\",\"legendgroup\":\"English\",\"marker\":{\"color\":\"#00cc96\",\"opacity\":0.5,\"symbol\":\"circle\"},\"mode\":\"markers\",\"name\":\"English\",\"scene\":\"scene\",\"showlegend\":true,\"type\":\"scatter3d\",\"x\":[3.76421098338026,3.09497414838753,4.17319823982308,-6.09412364193037,6.16504393888865,4.93039287479138,-7.71263788339418,-4.13325390271185,3.27600057684007,-3.71834446201741,5.23142978600143,1.55686667080875,-4.44998920756652,-4.38448802421401,-0.054863649782619,-3.82426561078265,-4.59130391640685,3.52409522369204,8.46680860497879,5.45019704877566,-4.0012901427916,-3.26856333913579,-0.757010195059152,-6.70456671928425,3.14137700657558,-4.30232674432688,3.3613668843822,-4.13998127183376,4.9206383958364,-4.03781267136407,-6.87366326229469,5.37906267964515,8.32039784632548,-5.21313822034094,-5.56095061248458,2.53814981859685,4.27552692621008,3.89273442208779,-7.49627882192853,5.32033855214251,-4.6982062141367,-7.66985044616705,-6.89667993553525,6.93426034594949],\"y\":[-1.24010089100902,-0.507546986169717,2.57646456901998,0.827822215516519,2.99118355114398,-0.787288204850397,7.14059015235643,1.46368546145,-1.69331074344603,-3.32295010526414,0.136637506884304,0.403033134076766,-0.47116982191398,-0.104776045687341,-2.17030091624142,0.76048463323031,-3.36529446305038,-0.51524621403081,4.46616505110546,-0.136048002800423,-2.2213329080347,-3.38635064218175,3.45350515056702,3.57955048888927,-0.189413978139784,-0.0775427669154291,-2.32588595724334,-3.76694839928803,-1.03421796789996,-4.16671356975129,2.55200504400252,0.513492457672579,4.55812637327011,-0.539700624067024,-3.1509565735981,-2.34116794854011,0.513052693016431,-2.72681452031176,2.84088190691579,-0.596798126725969,3.40955286321395,1.58069703687761,2.21519698432699,4.09473876402278],\"z\":[0.58866376335081,-0.140839648861401,0.0433774524791784,0.0769998982004157,0.0452630566053809,0.484851226594494,0.758347201748877,0.677179056081044,0.606291874113083,0.0818739868004589,0.0521007226300939,0.356364873985609,0.0806163760815099,0.328302237933514,0.124408192470922,0.0515119909195828,0.0410986546965988,0.0812092587346873,0.177200675983101,0.056013557820388,0.442024377172529,0.490347421692542,0.176208720135005,0.232581286616662,-0.100122934166441,0.388589015404017,0.258241939879469,-0.258420431382029,0.371160747045418,0.109416192339585,0.343862659002265,0.603293100394047,0.297387411408113,0.0310249458967311,0.24605596474833,0.426262223159996,-1.22363054562708,0.453271135494185,0.113437855909712,-0.0107053916215204,0.0347298985995273,0.0221789197681006,0.210427563500891,-0.15338224857838]}],                        {\"height\":400,\"legend\":{\"title\":{\"text\":\"Language\"},\"tracegroupgap\":0},\"margin\":{\"t\":60},\"scene\":{\"domain\":{\"x\":[0.0,1.0],\"y\":[0.0,1.0]},\"xaxis\":{\"range\":[-10,10],\"title\":{\"text\":\"Principal Component 1\"}},\"yaxis\":{\"range\":[-10,10],\"title\":{\"text\":\"Principal Component 2\"}},\"zaxis\":{\"title\":{\"text\":\"Spectral Tilt Estimate\"}}},\"template\":{\"data\":{\"bar\":[{\"error_x\":{\"color\":\"#2a3f5f\"},\"error_y\":{\"color\":\"#2a3f5f\"},\"marker\":{\"line\":{\"color\":\"#E5ECF6\",\"width\":0.5},\"pattern\":{\"fillmode\":\"overlay\",\"size\":10,\"solidity\":0.2}},\"type\":\"bar\"}],\"barpolar\":[{\"marker\":{\"line\":{\"color\":\"#E5ECF6\",\"width\":0.5},\"pattern\":{\"fillmode\":\"overlay\",\"size\":10,\"solidity\":0.2}},\"type\":\"barpolar\"}],\"carpet\":[{\"aaxis\":{\"endlinecolor\":\"#2a3f5f\",\"gridcolor\":\"white\",\"linecolor\":\"white\",\"minorgridcolor\":\"white\",\"startlinecolor\":\"#2a3f5f\"},\"baxis\":{\"endlinecolor\":\"#2a3f5f\",\"gridcolor\":\"white\",\"linecolor\":\"white\",\"minorgridcolor\":\"white\",\"startlinecolor\":\"#2a3f5f\"},\"type\":\"carpet\"}],\"choropleth\":[{\"colorbar\":{\"outlinewidth\":0,\"ticks\":\"\"},\"type\":\"choropleth\"}],\"contour\":[{\"colorbar\":{\"outlinewidth\":0,\"ticks\":\"\"},\"colorscale\":[[0.0,\"#0d0887\"],[0.1111111111111111,\"#46039f\"],[0.2222222222222222,\"#7201a8\"],[0.3333333333333333,\"#9c179e\"],[0.4444444444444444,\"#bd3786\"],[0.5555555555555556,\"#d8576b\"],[0.6666666666666666,\"#ed7953\"],[0.7777777777777778,\"#fb9f3a\"],[0.8888888888888888,\"#fdca26\"],[1.0,\"#f0f921\"]],\"type\":\"contour\"}],\"contourcarpet\":[{\"colorbar\":{\"outlinewidth\":0,\"ticks\":\"\"},\"type\":\"contourcarpet\"}],\"heatmap\":[{\"colorbar\":{\"outlinewidth\":0,\"ticks\":\"\"},\"colorscale\":[[0.0,\"#0d0887\"],[0.1111111111111111,\"#46039f\"],[0.2222222222222222,\"#7201a8\"],[0.3333333333333333,\"#9c179e\"],[0.4444444444444444,\"#bd3786\"],[0.5555555555555556,\"#d8576b\"],[0.6666666666666666,\"#ed7953\"],[0.7777777777777778,\"#fb9f3a\"],[0.8888888888888888,\"#fdca26\"],[1.0,\"#f0f921\"]],\"type\":\"heatmap\"}],\"heatmapgl\":[{\"colorbar\":{\"outlinewidth\":0,\"ticks\":\"\"},\"colorscale\":[[0.0,\"#0d0887\"],[0.1111111111111111,\"#46039f\"],[0.2222222222222222,\"#7201a8\"],[0.3333333333333333,\"#9c179e\"],[0.4444444444444444,\"#bd3786\"],[0.5555555555555556,\"#d8576b\"],[0.6666666666666666,\"#ed7953\"],[0.7777777777777778,\"#fb9f3a\"],[0.8888888888888888,\"#fdca26\"],[1.0,\"#f0f921\"]],\"type\":\"heatmapgl\"}],\"histogram\":[{\"marker\":{\"pattern\":{\"fillmode\":\"overlay\",\"size\":10,\"solidity\":0.2}},\"type\":\"histogram\"}],\"histogram2d\":[{\"colorbar\":{\"outlinewidth\":0,\"ticks\":\"\"},\"colorscale\":[[0.0,\"#0d0887\"],[0.1111111111111111,\"#46039f\"],[0.2222222222222222,\"#7201a8\"],[0.3333333333333333,\"#9c179e\"],[0.4444444444444444,\"#bd3786\"],[0.5555555555555556,\"#d8576b\"],[0.6666666666666666,\"#ed7953\"],[0.7777777777777778,\"#fb9f3a\"],[0.8888888888888888,\"#fdca26\"],[1.0,\"#f0f921\"]],\"type\":\"histogram2d\"}],\"histogram2dcontour\":[{\"colorbar\":{\"outlinewidth\":0,\"ticks\":\"\"},\"colorscale\":[[0.0,\"#0d0887\"],[0.1111111111111111,\"#46039f\"],[0.2222222222222222,\"#7201a8\"],[0.3333333333333333,\"#9c179e\"],[0.4444444444444444,\"#bd3786\"],[0.5555555555555556,\"#d8576b\"],[0.6666666666666666,\"#ed7953\"],[0.7777777777777778,\"#fb9f3a\"],[0.8888888888888888,\"#fdca26\"],[1.0,\"#f0f921\"]],\"type\":\"histogram2dcontour\"}],\"mesh3d\":[{\"colorbar\":{\"outlinewidth\":0,\"ticks\":\"\"},\"type\":\"mesh3d\"}],\"parcoords\":[{\"line\":{\"colorbar\":{\"outlinewidth\":0,\"ticks\":\"\"}},\"type\":\"parcoords\"}],\"pie\":[{\"automargin\":true,\"type\":\"pie\"}],\"scatter\":[{\"marker\":{\"colorbar\":{\"outlinewidth\":0,\"ticks\":\"\"}},\"type\":\"scatter\"}],\"scatter3d\":[{\"line\":{\"colorbar\":{\"outlinewidth\":0,\"ticks\":\"\"}},\"marker\":{\"colorbar\":{\"outlinewidth\":0,\"ticks\":\"\"}},\"type\":\"scatter3d\"}],\"scattercarpet\":[{\"marker\":{\"colorbar\":{\"outlinewidth\":0,\"ticks\":\"\"}},\"type\":\"scattercarpet\"}],\"scattergeo\":[{\"marker\":{\"colorbar\":{\"outlinewidth\":0,\"ticks\":\"\"}},\"type\":\"scattergeo\"}],\"scattergl\":[{\"marker\":{\"colorbar\":{\"outlinewidth\":0,\"ticks\":\"\"}},\"type\":\"scattergl\"}],\"scattermapbox\":[{\"marker\":{\"colorbar\":{\"outlinewidth\":0,\"ticks\":\"\"}},\"type\":\"scattermapbox\"}],\"scatterpolar\":[{\"marker\":{\"colorbar\":{\"outlinewidth\":0,\"ticks\":\"\"}},\"type\":\"scatterpolar\"}],\"scatterpolargl\":[{\"marker\":{\"colorbar\":{\"outlinewidth\":0,\"ticks\":\"\"}},\"type\":\"scatterpolargl\"}],\"scatterternary\":[{\"marker\":{\"colorbar\":{\"outlinewidth\":0,\"ticks\":\"\"}},\"type\":\"scatterternary\"}],\"surface\":[{\"colorbar\":{\"outlinewidth\":0,\"ticks\":\"\"},\"colorscale\":[[0.0,\"#0d0887\"],[0.1111111111111111,\"#46039f\"],[0.2222222222222222,\"#7201a8\"],[0.3333333333333333,\"#9c179e\"],[0.4444444444444444,\"#bd3786\"],[0.5555555555555556,\"#d8576b\"],[0.6666666666666666,\"#ed7953\"],[0.7777777777777778,\"#fb9f3a\"],[0.8888888888888888,\"#fdca26\"],[1.0,\"#f0f921\"]],\"type\":\"surface\"}],\"table\":[{\"cells\":{\"fill\":{\"color\":\"#EBF0F8\"},\"line\":{\"color\":\"white\"}},\"header\":{\"fill\":{\"color\":\"#C8D4E3\"},\"line\":{\"color\":\"white\"}},\"type\":\"table\"}]},\"layout\":{\"annotationdefaults\":{\"arrowcolor\":\"#2a3f5f\",\"arrowhead\":0,\"arrowwidth\":1},\"autotypenumbers\":\"strict\",\"coloraxis\":{\"colorbar\":{\"outlinewidth\":0,\"ticks\":\"\"}},\"colorscale\":{\"diverging\":[[0,\"#8e0152\"],[0.1,\"#c51b7d\"],[0.2,\"#de77ae\"],[0.3,\"#f1b6da\"],[0.4,\"#fde0ef\"],[0.5,\"#f7f7f7\"],[0.6,\"#e6f5d0\"],[0.7,\"#b8e186\"],[0.8,\"#7fbc41\"],[0.9,\"#4d9221\"],[1,\"#276419\"]],\"sequential\":[[0.0,\"#0d0887\"],[0.1111111111111111,\"#46039f\"],[0.2222222222222222,\"#7201a8\"],[0.3333333333333333,\"#9c179e\"],[0.4444444444444444,\"#bd3786\"],[0.5555555555555556,\"#d8576b\"],[0.6666666666666666,\"#ed7953\"],[0.7777777777777778,\"#fb9f3a\"],[0.8888888888888888,\"#fdca26\"],[1.0,\"#f0f921\"]],\"sequentialminus\":[[0.0,\"#0d0887\"],[0.1111111111111111,\"#46039f\"],[0.2222222222222222,\"#7201a8\"],[0.3333333333333333,\"#9c179e\"],[0.4444444444444444,\"#bd3786\"],[0.5555555555555556,\"#d8576b\"],[0.6666666666666666,\"#ed7953\"],[0.7777777777777778,\"#fb9f3a\"],[0.8888888888888888,\"#fdca26\"],[1.0,\"#f0f921\"]]},\"colorway\":[\"#636efa\",\"#EF553B\",\"#00cc96\",\"#ab63fa\",\"#FFA15A\",\"#19d3f3\",\"#FF6692\",\"#B6E880\",\"#FF97FF\",\"#FECB52\"],\"font\":{\"color\":\"#2a3f5f\"},\"geo\":{\"bgcolor\":\"white\",\"lakecolor\":\"white\",\"landcolor\":\"#E5ECF6\",\"showlakes\":true,\"showland\":true,\"subunitcolor\":\"white\"},\"hoverlabel\":{\"align\":\"left\"},\"hovermode\":\"closest\",\"mapbox\":{\"style\":\"light\"},\"paper_bgcolor\":\"white\",\"plot_bgcolor\":\"#E5ECF6\",\"polar\":{\"angularaxis\":{\"gridcolor\":\"white\",\"linecolor\":\"white\",\"ticks\":\"\"},\"bgcolor\":\"#E5ECF6\",\"radialaxis\":{\"gridcolor\":\"white\",\"linecolor\":\"white\",\"ticks\":\"\"}},\"scene\":{\"xaxis\":{\"backgroundcolor\":\"#E5ECF6\",\"gridcolor\":\"white\",\"gridwidth\":2,\"linecolor\":\"white\",\"showbackground\":true,\"ticks\":\"\",\"zerolinecolor\":\"white\"},\"yaxis\":{\"backgroundcolor\":\"#E5ECF6\",\"gridcolor\":\"white\",\"gridwidth\":2,\"linecolor\":\"white\",\"showbackground\":true,\"ticks\":\"\",\"zerolinecolor\":\"white\"},\"zaxis\":{\"backgroundcolor\":\"#E5ECF6\",\"gridcolor\":\"white\",\"gridwidth\":2,\"linecolor\":\"white\",\"showbackground\":true,\"ticks\":\"\",\"zerolinecolor\":\"white\"}},\"shapedefaults\":{\"line\":{\"color\":\"#2a3f5f\"}},\"ternary\":{\"aaxis\":{\"gridcolor\":\"white\",\"linecolor\":\"white\",\"ticks\":\"\"},\"baxis\":{\"gridcolor\":\"white\",\"linecolor\":\"white\",\"ticks\":\"\"},\"bgcolor\":\"#E5ECF6\",\"caxis\":{\"gridcolor\":\"white\",\"linecolor\":\"white\",\"ticks\":\"\"}},\"title\":{\"x\":0.05},\"xaxis\":{\"automargin\":true,\"gridcolor\":\"white\",\"linecolor\":\"white\",\"ticks\":\"\",\"title\":{\"standoff\":15},\"zerolinecolor\":\"white\",\"zerolinewidth\":2},\"yaxis\":{\"automargin\":true,\"gridcolor\":\"white\",\"linecolor\":\"white\",\"ticks\":\"\",\"title\":{\"standoff\":15},\"zerolinecolor\":\"white\",\"zerolinewidth\":2}}},\"width\":800},                        {\"responsive\": true}                    ).then(function(){\n",
       "                            \n",
       "var gd = document.getElementById('382b479c-1d95-4289-8f6e-3380e1b95cc0');\n",
       "var x = new MutationObserver(function (mutations, observer) {{\n",
       "        var display = window.getComputedStyle(gd).display;\n",
       "        if (!display || display === 'none') {{\n",
       "            console.log([gd, 'removed!']);\n",
       "            Plotly.purge(gd);\n",
       "            observer.disconnect();\n",
       "        }}\n",
       "}});\n",
       "\n",
       "// Listen for the removal of the full notebook cells\n",
       "var notebookContainer = gd.closest('#notebook-container');\n",
       "if (notebookContainer) {{\n",
       "    x.observe(notebookContainer, {childList: true});\n",
       "}}\n",
       "\n",
       "// Listen for the clearing of the current output cell\n",
       "var outputEl = gd.closest('.output');\n",
       "if (outputEl) {{\n",
       "    x.observe(outputEl, {childList: true});\n",
       "}}\n",
       "\n",
       "                        })                };                });            </script>        </div>"
      ]
     },
     "metadata": {},
     "output_type": "display_data"
    }
   ],
   "source": [
    "fig = px.scatter_3d(x = df_tri_combined['pc1'],\n",
    "                    error_z = df_tri_combined['Spectral Tilt Std']/2,\n",
    "                    y = df_tri_combined['pc2'],\n",
    "                    z = df_tri_combined['Spectral Tilt Estimate'],\n",
    "                   color = df_tri_combined['Language'],\n",
    "                   labels = {\"x\":\"Principal Component 1\",\n",
    "                             \"y\":\"Principal Component 2\",\n",
    "                             \"z\":\"Spectral Tilt Estimate\", \n",
    "                            \"color\" : \"Language\"},\n",
    "                   opacity = 0.5, range_x = (-10,10), range_y = (-10,10),\n",
    "                   width = 800, height = 400)\n",
    "\n",
    "fig.show();"
   ]
  },
  {
   "cell_type": "code",
   "execution_count": null,
   "id": "b153cdbe-7b79-4c94-9505-d5a7ef6ae81c",
   "metadata": {},
   "outputs": [],
   "source": []
  }
 ],
 "metadata": {
  "kernelspec": {
   "display_name": "Python 3",
   "language": "python",
   "name": "python3"
  },
  "language_info": {
   "codemirror_mode": {
    "name": "ipython",
    "version": 3
   },
   "file_extension": ".py",
   "mimetype": "text/x-python",
   "name": "python",
   "nbconvert_exporter": "python",
   "pygments_lexer": "ipython3",
   "version": "3.8.8"
  }
 },
 "nbformat": 4,
 "nbformat_minor": 5
}
