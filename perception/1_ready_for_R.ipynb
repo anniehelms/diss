{
 "cells": [
  {
   "cell_type": "markdown",
   "id": "a3a29d13-30b3-496b-abce-b85218771ce0",
   "metadata": {},
   "source": [
    "# Prep data file for analysis in R"
   ]
  },
  {
   "cell_type": "code",
   "execution_count": 1,
   "id": "7a40c713-6e6d-4c63-8cfe-bdc5af3ee53a",
   "metadata": {},
   "outputs": [],
   "source": [
    "import pandas as pd\n",
    "import numpy as np"
   ]
  },
  {
   "cell_type": "markdown",
   "id": "09124417-62bd-4772-9c6d-6d8afa569e36",
   "metadata": {},
   "source": [
    "First get the list of partIDs and their language profiles."
   ]
  },
  {
   "cell_type": "code",
   "execution_count": 54,
   "id": "ce7eea83-6f6d-496b-ae18-eb2aaacad0d1",
   "metadata": {},
   "outputs": [],
   "source": [
    "parts = pd.read_csv(\"../blp/data/parts.csv\")\n",
    "parts['partID'] = parts['partID'].map(str.lower)\n",
    "trilingual_list = parts[parts['lang_profile']!=\"mono\"].copy().partID.values.tolist()\n",
    "part_list = parts['partID'].values.tolist()"
   ]
  },
  {
   "cell_type": "markdown",
   "id": "825500c8-b35e-4e58-a3a4-641ce1ace439",
   "metadata": {},
   "source": [
    "Now read in the data from each language's perception task. Drop the first 9828 rows from the Spanish task which include pre-experiment testing. Also drop any rows with a partID not in the df `parts`."
   ]
  },
  {
   "cell_type": "code",
   "execution_count": 55,
   "id": "1cfa48a3-b3fd-4835-b776-949054020ab3",
   "metadata": {},
   "outputs": [
    {
     "data": {
      "text/plain": [
       "50"
      ]
     },
     "execution_count": 55,
     "metadata": {},
     "output_type": "execute_result"
    }
   ],
   "source": [
    "spa = pd.read_csv(\"data/spanish.csv\")\n",
    "spa = spa.iloc[9828:]\n",
    "spa['partID'] = spa['partID'].map(str.lower)\n",
    "# should be 50\n",
    "spa.partID.nunique()"
   ]
  },
  {
   "cell_type": "code",
   "execution_count": 56,
   "id": "fd4f5861-2147-4de4-b406-ca7a795f3943",
   "metadata": {},
   "outputs": [
    {
     "name": "stdout",
     "output_type": "stream",
     "text": [
      "Trilingual participants that don't show up in Spanish perception data:\n",
      "['vrc053', 'usm074', 'aei079']\n",
      "Spanish perception data participants that don't show up in trilingual part list:\n",
      "['bad_value', 'oec103', 'anm099']\n"
     ]
    }
   ],
   "source": [
    "spa_parts = spa.partID.values.tolist()\n",
    "print(\"Trilingual participants that don't show up in Spanish perception data:\")\n",
    "print(list(set(trilingual_list) - set(spa_parts)))\n",
    "print(\"Spanish perception data participants that don't show up in trilingual part list:\")\n",
    "print(list(set(spa_parts) - set(trilingual_list)))"
   ]
  },
  {
   "cell_type": "markdown",
   "id": "891a9a00-82ac-44aa-8f13-fccd968c58a4",
   "metadata": {},
   "source": [
    "Fix."
   ]
  },
  {
   "cell_type": "code",
   "execution_count": 57,
   "id": "7876dec7-48a3-4ac4-bb67-199c72848f15",
   "metadata": {},
   "outputs": [],
   "source": [
    "# aei079 was given ID anm099 by accident\n",
    "spa.loc[spa['partID']==\"anm099\",'partID'] = 'aei079'\n",
    "# vrc053 was given ID oec103 by accident\n",
    "spa.loc[spa['partID']==\"oec103\",'partID'] = 'vrc053'\n",
    "# usm074 had incorrect url\n",
    "spa.loc[((spa[\"partID\"] == \"bad_value\") & (spa[\"subjID\"] == \"2642c56c09d355\")),\n",
    "        \"partID\"] = \"usm074\""
   ]
  },
  {
   "cell_type": "code",
   "execution_count": 58,
   "id": "f434082e-9ef0-48ac-b227-3305eea9c5f5",
   "metadata": {},
   "outputs": [
    {
     "data": {
      "text/plain": [
       "50"
      ]
     },
     "execution_count": 58,
     "metadata": {},
     "output_type": "execute_result"
    }
   ],
   "source": [
    "spa = spa[spa['partID'].isin(part_list)].copy()\n",
    "spa.reset_index(inplace = True, drop = True)\n",
    "# should be 50\n",
    "spa['partID'].nunique()"
   ]
  },
  {
   "cell_type": "markdown",
   "id": "bf9427d2-8856-4698-9c2e-57ecd828bd4c",
   "metadata": {},
   "source": [
    "Some participants could not complete the third trial and had to restart the experiment, so they show as having two rounds of trial one."
   ]
  },
  {
   "cell_type": "code",
   "execution_count": 59,
   "id": "ed350a83-47ee-418d-8f14-711498e648ca",
   "metadata": {},
   "outputs": [
    {
     "data": {
      "text/html": [
       "<div>\n",
       "<style scoped>\n",
       "    .dataframe tbody tr th:only-of-type {\n",
       "        vertical-align: middle;\n",
       "    }\n",
       "\n",
       "    .dataframe tbody tr th {\n",
       "        vertical-align: top;\n",
       "    }\n",
       "\n",
       "    .dataframe thead th {\n",
       "        text-align: right;\n",
       "    }\n",
       "</style>\n",
       "<table border=\"1\" class=\"dataframe\">\n",
       "  <thead>\n",
       "    <tr style=\"text-align: right;\">\n",
       "      <th></th>\n",
       "      <th>subjID</th>\n",
       "      <th>partID</th>\n",
       "      <th>list</th>\n",
       "      <th>block</th>\n",
       "      <th>trial</th>\n",
       "      <th>file1</th>\n",
       "      <th>filedur</th>\n",
       "      <th>loadtime</th>\n",
       "      <th>status</th>\n",
       "      <th>response</th>\n",
       "      <th>rt</th>\n",
       "    </tr>\n",
       "  </thead>\n",
       "  <tbody>\n",
       "    <tr>\n",
       "      <th>0</th>\n",
       "      <td>263f10f5f44fad</td>\n",
       "      <td>rre101</td>\n",
       "      <td>2</td>\n",
       "      <td>0</td>\n",
       "      <td>0</td>\n",
       "      <td>https://d3uxfe7dw0hhy7.cloudfront.net/annie-he...</td>\n",
       "      <td>429</td>\n",
       "      <td>1085</td>\n",
       "      <td>OK</td>\n",
       "      <td>pondis</td>\n",
       "      <td>3272</td>\n",
       "    </tr>\n",
       "    <tr>\n",
       "      <th>1</th>\n",
       "      <td>263f10f5f44fad</td>\n",
       "      <td>rre101</td>\n",
       "      <td>2</td>\n",
       "      <td>0</td>\n",
       "      <td>1</td>\n",
       "      <td>https://d3uxfe7dw0hhy7.cloudfront.net/annie-he...</td>\n",
       "      <td>421</td>\n",
       "      <td>860</td>\n",
       "      <td>OK</td>\n",
       "      <td>pondís</td>\n",
       "      <td>1122</td>\n",
       "    </tr>\n",
       "    <tr>\n",
       "      <th>2</th>\n",
       "      <td>263f10f5f44fad</td>\n",
       "      <td>rre101</td>\n",
       "      <td>2</td>\n",
       "      <td>0</td>\n",
       "      <td>2</td>\n",
       "      <td>https://d3uxfe7dw0hhy7.cloudfront.net/annie-he...</td>\n",
       "      <td>417</td>\n",
       "      <td>890</td>\n",
       "      <td>OK</td>\n",
       "      <td>pondís</td>\n",
       "      <td>591</td>\n",
       "    </tr>\n",
       "    <tr>\n",
       "      <th>3</th>\n",
       "      <td>263f10f5f44fad</td>\n",
       "      <td>rre101</td>\n",
       "      <td>2</td>\n",
       "      <td>0</td>\n",
       "      <td>3</td>\n",
       "      <td>https://d3uxfe7dw0hhy7.cloudfront.net/annie-he...</td>\n",
       "      <td>420</td>\n",
       "      <td>895</td>\n",
       "      <td>OK</td>\n",
       "      <td>pondís</td>\n",
       "      <td>737</td>\n",
       "    </tr>\n",
       "    <tr>\n",
       "      <th>4</th>\n",
       "      <td>263f10f5f44fad</td>\n",
       "      <td>rre101</td>\n",
       "      <td>2</td>\n",
       "      <td>0</td>\n",
       "      <td>4</td>\n",
       "      <td>https://d3uxfe7dw0hhy7.cloudfront.net/annie-he...</td>\n",
       "      <td>429</td>\n",
       "      <td>955</td>\n",
       "      <td>OK</td>\n",
       "      <td>pondis</td>\n",
       "      <td>1205</td>\n",
       "    </tr>\n",
       "  </tbody>\n",
       "</table>\n",
       "</div>"
      ],
      "text/plain": [
       "           subjID  partID  list  block  trial  \\\n",
       "0  263f10f5f44fad  rre101     2      0      0   \n",
       "1  263f10f5f44fad  rre101     2      0      1   \n",
       "2  263f10f5f44fad  rre101     2      0      2   \n",
       "3  263f10f5f44fad  rre101     2      0      3   \n",
       "4  263f10f5f44fad  rre101     2      0      4   \n",
       "\n",
       "                                               file1  filedur  loadtime  \\\n",
       "0  https://d3uxfe7dw0hhy7.cloudfront.net/annie-he...      429      1085   \n",
       "1  https://d3uxfe7dw0hhy7.cloudfront.net/annie-he...      421       860   \n",
       "2  https://d3uxfe7dw0hhy7.cloudfront.net/annie-he...      417       890   \n",
       "3  https://d3uxfe7dw0hhy7.cloudfront.net/annie-he...      420       895   \n",
       "4  https://d3uxfe7dw0hhy7.cloudfront.net/annie-he...      429       955   \n",
       "\n",
       "  status response    rt  \n",
       "0     OK   pondis  3272  \n",
       "1     OK   pondís  1122  \n",
       "2     OK   pondís   591  \n",
       "3     OK   pondís   737  \n",
       "4     OK   pondis  1205  "
      ]
     },
     "execution_count": 59,
     "metadata": {},
     "output_type": "execute_result"
    }
   ],
   "source": [
    "spa['block'] = spa.groupby(['partID', 'trial'], sort = False).cumcount()\n",
    "spa.head()"
   ]
  },
  {
   "cell_type": "markdown",
   "id": "ff99c702-a29a-48bb-829d-881f97967f27",
   "metadata": {},
   "source": [
    "Similarly, for Catalan, remove the first 2826 rows."
   ]
  },
  {
   "cell_type": "code",
   "execution_count": 60,
   "id": "60339359-b3d3-4629-9c01-a2912a4abd76",
   "metadata": {},
   "outputs": [
    {
     "data": {
      "text/plain": [
       "51"
      ]
     },
     "execution_count": 60,
     "metadata": {},
     "output_type": "execute_result"
    }
   ],
   "source": [
    "cat = pd.read_csv(\"data/catalan.csv\")\n",
    "cat = cat.iloc[2825:]\n",
    "cat = cat.rename(columns={'SubjID': 'subjID'})\n",
    "cat['partID'] = cat['partID'].map(str.lower)\n",
    "cat.partID.nunique()"
   ]
  },
  {
   "cell_type": "code",
   "execution_count": 61,
   "id": "cc53c279-60fa-44f2-882d-5d6259f87b7b",
   "metadata": {},
   "outputs": [
    {
     "name": "stdout",
     "output_type": "stream",
     "text": [
      "Trilingual participants that don't show up in Catalan perception data:\n",
      "['ama302', 'lic063', 'rre101']\n",
      "Catalan perception data participants that don't show up in trilingual part list:\n",
      "['0', 'bad_value', 'aoa302', 'ark038']\n"
     ]
    }
   ],
   "source": [
    "cat_parts = cat.partID.values.tolist()\n",
    "print(\"Trilingual participants that don't show up in Catalan perception data:\")\n",
    "print(list(set(trilingual_list) - set(cat_parts)))\n",
    "print(\"Catalan perception data participants that don't show up in trilingual part list:\")\n",
    "print(list(set(cat_parts) - set(trilingual_list)))"
   ]
  },
  {
   "cell_type": "markdown",
   "id": "37c35d15-ec93-47d2-8c23-5fe755d5ed01",
   "metadata": {},
   "source": [
    "Fix."
   ]
  },
  {
   "cell_type": "code",
   "execution_count": 62,
   "id": "9487a72d-8589-4430-95bb-7014f49e981b",
   "metadata": {},
   "outputs": [],
   "source": [
    "# fixes ama302\n",
    "cat.partID = cat.partID.str.replace('aoa302','ama302')\n",
    "# fixes rre101\n",
    "cat.loc[((cat[\"partID\"] == \"bad_value\") & (cat[\"subjID\"] == \"263ff9a086a788\")),\n",
    "        \"partID\"] = \"rre101\"\n",
    "# fixes ark038 -- next below lic063 in spreadsheet, wrong link was copied and used\n",
    "cat.loc[cat['partID']==\"ark038\",'partID'] = 'lic063'"
   ]
  },
  {
   "cell_type": "code",
   "execution_count": 63,
   "id": "b58497d9-6647-4b1e-93be-1bf4ef7c1784",
   "metadata": {},
   "outputs": [
    {
     "data": {
      "text/plain": [
       "50"
      ]
     },
     "execution_count": 63,
     "metadata": {},
     "output_type": "execute_result"
    }
   ],
   "source": [
    "cat = cat[cat['partID'].isin(part_list)].copy()\n",
    "cat.reset_index(inplace = True, drop = True)\n",
    "# should be 50\n",
    "cat['partID'].nunique()"
   ]
  },
  {
   "cell_type": "markdown",
   "id": "fa14fd94-5c27-4c05-afb8-ddf41a238937",
   "metadata": {},
   "source": [
    "Some participants could not complete the third trial and had to restart the experiment, so they show as having two rounds of trial one."
   ]
  },
  {
   "cell_type": "code",
   "execution_count": 64,
   "id": "e5b01f71-dd7e-497a-b226-758c310650cc",
   "metadata": {},
   "outputs": [
    {
     "data": {
      "text/html": [
       "<div>\n",
       "<style scoped>\n",
       "    .dataframe tbody tr th:only-of-type {\n",
       "        vertical-align: middle;\n",
       "    }\n",
       "\n",
       "    .dataframe tbody tr th {\n",
       "        vertical-align: top;\n",
       "    }\n",
       "\n",
       "    .dataframe thead th {\n",
       "        text-align: right;\n",
       "    }\n",
       "</style>\n",
       "<table border=\"1\" class=\"dataframe\">\n",
       "  <thead>\n",
       "    <tr style=\"text-align: right;\">\n",
       "      <th></th>\n",
       "      <th>subjID</th>\n",
       "      <th>partID</th>\n",
       "      <th>list</th>\n",
       "      <th>block</th>\n",
       "      <th>trial</th>\n",
       "      <th>file1</th>\n",
       "      <th>filedur</th>\n",
       "      <th>loadtime</th>\n",
       "      <th>status</th>\n",
       "      <th>response</th>\n",
       "      <th>rt</th>\n",
       "    </tr>\n",
       "  </thead>\n",
       "  <tbody>\n",
       "    <tr>\n",
       "      <th>0</th>\n",
       "      <td>263e3de6050126</td>\n",
       "      <td>dis022</td>\n",
       "      <td>2</td>\n",
       "      <td>0</td>\n",
       "      <td>0</td>\n",
       "      <td>https://d3uxfe7dw0hhy7.cloudfront.net/annie-he...</td>\n",
       "      <td>482</td>\n",
       "      <td>395</td>\n",
       "      <td>OK</td>\n",
       "      <td>pondis</td>\n",
       "      <td>3272</td>\n",
       "    </tr>\n",
       "    <tr>\n",
       "      <th>1</th>\n",
       "      <td>263e3de6050126</td>\n",
       "      <td>dis022</td>\n",
       "      <td>2</td>\n",
       "      <td>0</td>\n",
       "      <td>1</td>\n",
       "      <td>https://d3uxfe7dw0hhy7.cloudfront.net/annie-he...</td>\n",
       "      <td>471</td>\n",
       "      <td>240</td>\n",
       "      <td>OK</td>\n",
       "      <td>pondis</td>\n",
       "      <td>1178</td>\n",
       "    </tr>\n",
       "    <tr>\n",
       "      <th>2</th>\n",
       "      <td>263e3de6050126</td>\n",
       "      <td>dis022</td>\n",
       "      <td>2</td>\n",
       "      <td>0</td>\n",
       "      <td>2</td>\n",
       "      <td>https://d3uxfe7dw0hhy7.cloudfront.net/annie-he...</td>\n",
       "      <td>479</td>\n",
       "      <td>185</td>\n",
       "      <td>OK</td>\n",
       "      <td>pondis</td>\n",
       "      <td>930</td>\n",
       "    </tr>\n",
       "    <tr>\n",
       "      <th>3</th>\n",
       "      <td>263e3de6050126</td>\n",
       "      <td>dis022</td>\n",
       "      <td>2</td>\n",
       "      <td>0</td>\n",
       "      <td>3</td>\n",
       "      <td>https://d3uxfe7dw0hhy7.cloudfront.net/annie-he...</td>\n",
       "      <td>472</td>\n",
       "      <td>220</td>\n",
       "      <td>OK</td>\n",
       "      <td>pondis</td>\n",
       "      <td>862</td>\n",
       "    </tr>\n",
       "    <tr>\n",
       "      <th>4</th>\n",
       "      <td>263e3de6050126</td>\n",
       "      <td>dis022</td>\n",
       "      <td>2</td>\n",
       "      <td>0</td>\n",
       "      <td>4</td>\n",
       "      <td>https://d3uxfe7dw0hhy7.cloudfront.net/annie-he...</td>\n",
       "      <td>488</td>\n",
       "      <td>645</td>\n",
       "      <td>OK</td>\n",
       "      <td>pondis</td>\n",
       "      <td>928</td>\n",
       "    </tr>\n",
       "  </tbody>\n",
       "</table>\n",
       "</div>"
      ],
      "text/plain": [
       "           subjID  partID  list  block  trial  \\\n",
       "0  263e3de6050126  dis022     2      0      0   \n",
       "1  263e3de6050126  dis022     2      0      1   \n",
       "2  263e3de6050126  dis022     2      0      2   \n",
       "3  263e3de6050126  dis022     2      0      3   \n",
       "4  263e3de6050126  dis022     2      0      4   \n",
       "\n",
       "                                               file1  filedur  loadtime  \\\n",
       "0  https://d3uxfe7dw0hhy7.cloudfront.net/annie-he...      482       395   \n",
       "1  https://d3uxfe7dw0hhy7.cloudfront.net/annie-he...      471       240   \n",
       "2  https://d3uxfe7dw0hhy7.cloudfront.net/annie-he...      479       185   \n",
       "3  https://d3uxfe7dw0hhy7.cloudfront.net/annie-he...      472       220   \n",
       "4  https://d3uxfe7dw0hhy7.cloudfront.net/annie-he...      488       645   \n",
       "\n",
       "  status response    rt  \n",
       "0     OK   pondis  3272  \n",
       "1     OK   pondis  1178  \n",
       "2     OK   pondis   930  \n",
       "3     OK   pondis   862  \n",
       "4     OK   pondis   928  "
      ]
     },
     "execution_count": 64,
     "metadata": {},
     "output_type": "execute_result"
    }
   ],
   "source": [
    "cat['block'] = cat.groupby(['partID', 'trial'], sort = False).cumcount()\n",
    "cat.head()"
   ]
  },
  {
   "cell_type": "markdown",
   "id": "46bd64fb-6be2-4486-9308-0f9856e9eb55",
   "metadata": {},
   "source": [
    "The number of columns was changed for the English task partway through data collection. Also, drop the first 1100 rows which were testing before the experiment began."
   ]
  },
  {
   "cell_type": "code",
   "execution_count": 65,
   "id": "85ccb7f9-aecf-42cc-a71c-826ac3a9b39e",
   "metadata": {},
   "outputs": [
    {
     "data": {
      "text/plain": [
       "72"
      ]
     },
     "execution_count": 65,
     "metadata": {},
     "output_type": "execute_result"
    }
   ],
   "source": [
    "eng = pd.read_csv('data/english.csv', names = ['subjID', 'partID', 'list', 'block', 'trial',\n",
    "                                               'file1', 'filedur', 'loadtime', 'status',\n",
    "                                               'response', 'rt'])\n",
    "eng = eng.iloc[1101:]\n",
    "eng['partID'] = eng['partID'].map(str.lower)\n",
    "eng.partID.nunique()"
   ]
  },
  {
   "cell_type": "code",
   "execution_count": 66,
   "id": "9e8f9553-5f55-49c9-86cd-2889bb0c5bbb",
   "metadata": {},
   "outputs": [
    {
     "name": "stdout",
     "output_type": "stream",
     "text": [
      "Participants that don't show up in English perception data:\n",
      "[]\n",
      "English perception data participants that don't show up in part list:\n",
      "['0', 'bad_value']\n"
     ]
    }
   ],
   "source": [
    "eng_parts = eng.partID.values.tolist()\n",
    "print(\"Participants that don't show up in English perception data:\")\n",
    "print(list(set(part_list) - set(eng_parts)))\n",
    "print(\"English perception data participants that don't show up in part list:\")\n",
    "print(list(set(eng_parts) - set(part_list)))"
   ]
  },
  {
   "cell_type": "code",
   "execution_count": 67,
   "id": "f33c81cf-8b4f-4ee1-9630-bf605af11380",
   "metadata": {},
   "outputs": [
    {
     "data": {
      "text/plain": [
       "70"
      ]
     },
     "execution_count": 67,
     "metadata": {},
     "output_type": "execute_result"
    }
   ],
   "source": [
    "eng = eng[eng['partID'].isin(part_list)].copy()\n",
    "eng.reset_index(inplace = True, drop = True)\n",
    "# should be 70\n",
    "eng['partID'].nunique()"
   ]
  },
  {
   "cell_type": "markdown",
   "id": "60b04867-b49b-461d-aea0-76a42f1e1304",
   "metadata": {},
   "source": [
    "The English experiment also had an issue with the `block` column. Create a repeating counter only for the main trials (i.e., not the practice trials)."
   ]
  },
  {
   "cell_type": "code",
   "execution_count": 68,
   "id": "344a8f62-8fd3-4e88-b4cd-d371c8f71a27",
   "metadata": {},
   "outputs": [
    {
     "data": {
      "text/html": [
       "<div>\n",
       "<style scoped>\n",
       "    .dataframe tbody tr th:only-of-type {\n",
       "        vertical-align: middle;\n",
       "    }\n",
       "\n",
       "    .dataframe tbody tr th {\n",
       "        vertical-align: top;\n",
       "    }\n",
       "\n",
       "    .dataframe thead th {\n",
       "        text-align: right;\n",
       "    }\n",
       "</style>\n",
       "<table border=\"1\" class=\"dataframe\">\n",
       "  <thead>\n",
       "    <tr style=\"text-align: right;\">\n",
       "      <th></th>\n",
       "      <th>subjID</th>\n",
       "      <th>partID</th>\n",
       "      <th>list</th>\n",
       "      <th>block</th>\n",
       "      <th>trial</th>\n",
       "      <th>file1</th>\n",
       "      <th>filedur</th>\n",
       "      <th>loadtime</th>\n",
       "      <th>status</th>\n",
       "      <th>response</th>\n",
       "      <th>rt</th>\n",
       "    </tr>\n",
       "  </thead>\n",
       "  <tbody>\n",
       "    <tr>\n",
       "      <th>0</th>\n",
       "      <td>263d1df1212401</td>\n",
       "      <td>acj047</td>\n",
       "      <td>2</td>\n",
       "      <td>0</td>\n",
       "      <td>0</td>\n",
       "      <td>https://d3uxfe7dw0hhy7.cloudfront.net/annie-he...</td>\n",
       "      <td>429</td>\n",
       "      <td>320</td>\n",
       "      <td>OK</td>\n",
       "      <td>PONdiss</td>\n",
       "      <td>1751.0</td>\n",
       "    </tr>\n",
       "    <tr>\n",
       "      <th>1</th>\n",
       "      <td>263d1df1212401</td>\n",
       "      <td>acj047</td>\n",
       "      <td>2</td>\n",
       "      <td>0</td>\n",
       "      <td>1</td>\n",
       "      <td>https://d3uxfe7dw0hhy7.cloudfront.net/annie-he...</td>\n",
       "      <td>407</td>\n",
       "      <td>255</td>\n",
       "      <td>OK</td>\n",
       "      <td>PONdiss</td>\n",
       "      <td>1043.0</td>\n",
       "    </tr>\n",
       "    <tr>\n",
       "      <th>2</th>\n",
       "      <td>263d1df1212401</td>\n",
       "      <td>acj047</td>\n",
       "      <td>2</td>\n",
       "      <td>0</td>\n",
       "      <td>2</td>\n",
       "      <td>https://d3uxfe7dw0hhy7.cloudfront.net/annie-he...</td>\n",
       "      <td>411</td>\n",
       "      <td>275</td>\n",
       "      <td>OK</td>\n",
       "      <td>PONdiss</td>\n",
       "      <td>1038.0</td>\n",
       "    </tr>\n",
       "    <tr>\n",
       "      <th>3</th>\n",
       "      <td>263d1df1212401</td>\n",
       "      <td>acj047</td>\n",
       "      <td>2</td>\n",
       "      <td>0</td>\n",
       "      <td>3</td>\n",
       "      <td>https://d3uxfe7dw0hhy7.cloudfront.net/annie-he...</td>\n",
       "      <td>408</td>\n",
       "      <td>300</td>\n",
       "      <td>OK</td>\n",
       "      <td>PONdiss</td>\n",
       "      <td>1106.0</td>\n",
       "    </tr>\n",
       "    <tr>\n",
       "      <th>4</th>\n",
       "      <td>263d1df1212401</td>\n",
       "      <td>acj047</td>\n",
       "      <td>2</td>\n",
       "      <td>0</td>\n",
       "      <td>4</td>\n",
       "      <td>https://d3uxfe7dw0hhy7.cloudfront.net/annie-he...</td>\n",
       "      <td>422</td>\n",
       "      <td>355</td>\n",
       "      <td>slow_response</td>\n",
       "      <td>ponDISS</td>\n",
       "      <td>5577.0</td>\n",
       "    </tr>\n",
       "  </tbody>\n",
       "</table>\n",
       "</div>"
      ],
      "text/plain": [
       "           subjID  partID list  block trial  \\\n",
       "0  263d1df1212401  acj047    2      0     0   \n",
       "1  263d1df1212401  acj047    2      0     1   \n",
       "2  263d1df1212401  acj047    2      0     2   \n",
       "3  263d1df1212401  acj047    2      0     3   \n",
       "4  263d1df1212401  acj047    2      0     4   \n",
       "\n",
       "                                               file1 filedur loadtime  \\\n",
       "0  https://d3uxfe7dw0hhy7.cloudfront.net/annie-he...     429      320   \n",
       "1  https://d3uxfe7dw0hhy7.cloudfront.net/annie-he...     407      255   \n",
       "2  https://d3uxfe7dw0hhy7.cloudfront.net/annie-he...     411      275   \n",
       "3  https://d3uxfe7dw0hhy7.cloudfront.net/annie-he...     408      300   \n",
       "4  https://d3uxfe7dw0hhy7.cloudfront.net/annie-he...     422      355   \n",
       "\n",
       "          status response      rt  \n",
       "0             OK  PONdiss  1751.0  \n",
       "1             OK  PONdiss  1043.0  \n",
       "2             OK  PONdiss  1038.0  \n",
       "3             OK  PONdiss  1106.0  \n",
       "4  slow_response  ponDISS  5577.0  "
      ]
     },
     "execution_count": 68,
     "metadata": {},
     "output_type": "execute_result"
    }
   ],
   "source": [
    "eng = eng[~eng['file1'].str.contains(\"practice\")].copy()\n",
    "eng['block'] = eng.groupby(['partID', 'trial'], sort = False).cumcount()\n",
    "eng.reset_index(inplace = True, drop = True)\n",
    "eng.head()"
   ]
  },
  {
   "cell_type": "code",
   "execution_count": 69,
   "id": "3076ff5b-0f8b-48c5-82d8-8dc68ecdb51f",
   "metadata": {},
   "outputs": [],
   "source": [
    "# eng_practice = eng[eng['file1'].str.contains(\"practice\")].copy()\n",
    "# eng_practice['block'] = 'practice'\n",
    "# eng = pd.concat([eng_main, eng_practice], axis = 0)\n",
    "# eng.sort_index(inplace = True)\n",
    "# eng.head()"
   ]
  },
  {
   "cell_type": "markdown",
   "id": "5feeff9c-e04f-4b2e-b99c-eeeac25bae0e",
   "metadata": {},
   "source": [
    "We want to remove responses that are not 'OK', code responses as 'pen' for penultimate stress and 'ult' for ultimate stress, create a new column with just the filename, then new columns listing the step of each measure. Then, each of these columns needs to be centered, where 1 is converted to -2, 2 is converted to -1, 3 is converted to 0, 4 is converted to 1, and 5 is converted to 2. Additionally, when values of 0 should be converted to 3 in the raw measures (since this is the neutral midpoint) and kept as 0 in the centered column."
   ]
  },
  {
   "cell_type": "code",
   "execution_count": 70,
   "id": "f4b83234-1aaf-4c7c-8871-c6594ff32c06",
   "metadata": {},
   "outputs": [],
   "source": [
    "spa[\"response_binary\"] = spa[\"response\"].map({'pondis': \"pen\", 'pondís': \"ult\"})\n",
    "cat[\"response_binary\"] = cat[\"response\"].map({'pondis': \"pen\", 'pondís': \"ult\"})\n",
    "eng[\"response_binary\"] = eng[\"response\"].map({'PONdiss': 'pen', 'ponDISS': \"ult\"})"
   ]
  },
  {
   "cell_type": "code",
   "execution_count": 71,
   "id": "78501633-308e-45a7-ae62-6bc3e66e37a1",
   "metadata": {},
   "outputs": [
    {
     "name": "stdout",
     "output_type": "stream",
     "text": [
      "before spa:  11145 \n",
      "before cat:  11236 \n",
      "before eng:  15712\n",
      "after spa:  11051 \n",
      "after cat:  11097 \n",
      "after eng:  15613\n"
     ]
    }
   ],
   "source": [
    "print(\"before spa: \",len(spa),\"\\nbefore cat: \", len(cat), \"\\nbefore eng: \", len(eng))\n",
    "spa = spa[spa[\"status\"]==\"OK\"].copy()\n",
    "cat = cat[cat[\"status\"]==\"OK\"].copy()\n",
    "eng = eng[eng[\"status\"]==\"OK\"].copy()\n",
    "print(\"after spa: \",len(spa),\"\\nafter cat: \", len(cat), \"\\nafter eng: \", len(eng))"
   ]
  },
  {
   "cell_type": "code",
   "execution_count": 72,
   "id": "e2108dc1-e7a1-4a8b-a311-16ac0abc5190",
   "metadata": {},
   "outputs": [],
   "source": [
    "# account for practice trials in English task\n",
    "spa['filename'] = spa['file1'].str.split('spanish/',expand=True)[1]\n",
    "cat['filename'] = cat['file1'].str.split('catalan/',expand=True)[1]\n",
    "eng['filename'] = eng['file1'].str.split('english/',expand=True)[1]#apply(lambda x: x.split(\"english/\")[1] if \"english\" in x else \"0\")"
   ]
  },
  {
   "cell_type": "code",
   "execution_count": 73,
   "id": "2145b513-50e1-4bd2-8238-2d2bfd14708b",
   "metadata": {},
   "outputs": [],
   "source": [
    "spa['formant'] = spa['filename'].apply(lambda x: float(x.split(\"F\")[1][0]) if \"F\" in x else 3)\n",
    "spa['spectilt'] = spa['filename'].apply(lambda x: float(x.split(\"st\")[1][0]) if \"st\" in x else 3)\n",
    "spa['duration'] = spa['filename'].apply(lambda x: float(x.split(\"dur\")[1][0]) if \"dur\" in x else 3)\n",
    "\n",
    "cat['formant'] = cat['filename'].apply(lambda x: float(x.split(\"F\")[1][0]) if \"F\" in x else 3)\n",
    "cat['spectilt'] = cat['filename'].apply(lambda x: float(x.split(\"st\")[1][0]) if \"st\" in x else 3)\n",
    "cat['duration'] = cat['filename'].apply(lambda x: float(x.split(\"dur\")[1][0]) if \"dur\" in x else 3)\n",
    "\n",
    "eng['formant'] = eng['filename'].apply(lambda x: float(x.split(\"F\")[1][0]) if \"F\" in x else 3)\n",
    "eng['spectilt'] = eng['filename'].apply(lambda x: float(x.split(\"st\")[1][0]) if \"st\" in x else 3)\n",
    "eng['duration'] = eng['filename'].apply(lambda x: float(x.split(\"dur\")[1][0]) if \"dur\" in x else 3)"
   ]
  },
  {
   "cell_type": "code",
   "execution_count": 74,
   "id": "72f7af31-2b30-4a95-ac4d-4d67729fb10e",
   "metadata": {},
   "outputs": [],
   "source": [
    "spa['formant_center'] = spa['formant'].apply(lambda x: x-3)\n",
    "spa['spectilt_center'] = spa['spectilt'].apply(lambda x: x-3)\n",
    "spa['duration_center'] = spa['duration'].apply(lambda x: x-3)\n",
    "\n",
    "cat['formant_center'] = cat['formant'].apply(lambda x: x-3)\n",
    "cat['spectilt_center'] = cat['spectilt'].apply(lambda x: x-3)\n",
    "cat['duration_center'] = cat['duration'].apply(lambda x: x-3)\n",
    "\n",
    "eng['formant_center'] = eng['formant'].apply(lambda x: x-3)\n",
    "eng['spectilt_center'] = eng['spectilt'].apply(lambda x: x-3)\n",
    "eng['duration_center'] = eng['duration'].apply(lambda x: x-3)"
   ]
  },
  {
   "cell_type": "code",
   "execution_count": 75,
   "id": "01481829-8d69-4319-bb16-1a680391ff02",
   "metadata": {},
   "outputs": [
    {
     "name": "stdout",
     "output_type": "stream",
     "text": [
      "init cat length: 11097 final cat len: 10688\n",
      "init spa length: 11051 final spa len: 10883\n",
      "init eng length: 15613 final eng len: 15170\n"
     ]
    }
   ],
   "source": [
    "cat_rt = cat[(cat['rt']>200) & (cat['rt']<2500)].copy()\n",
    "spa_rt = spa[(spa['rt']>200) & (spa['rt']<2500)].copy()\n",
    "eng_rt = eng[(eng['rt']>200) & (eng['rt']<2500)].copy()\n",
    "print(\"init cat length:\", len(cat), \"final cat len:\", len(cat_rt))\n",
    "print(\"init spa length:\", len(spa), \"final spa len:\", len(spa_rt))\n",
    "print(\"init eng length:\", len(eng), \"final eng len:\", len(eng_rt))"
   ]
  },
  {
   "cell_type": "code",
   "execution_count": 76,
   "id": "dc616b65-72cb-44a6-bbc7-729f5efbfb81",
   "metadata": {},
   "outputs": [
    {
     "name": "stdout",
     "output_type": "stream",
     "text": [
      "init cat length: 10688 final cat len: 7260\n",
      "init spa length: 10883 final spa len: 7278\n",
      "init eng length: 15170 final eng len: 10217\n"
     ]
    }
   ],
   "source": [
    "cat_later = cat_rt[cat_rt['block']!=0].copy()\n",
    "spa_later = spa_rt[spa_rt['block']!=0].copy()\n",
    "eng_later = eng_rt[eng_rt['block']!=0].copy()\n",
    "print(\"init cat length:\", len(cat_rt), \"final cat len:\", len(cat_later))\n",
    "print(\"init spa length:\", len(spa_rt), \"final spa len:\", len(spa_later))\n",
    "print(\"init eng length:\", len(eng_rt), \"final eng len:\", len(eng_later))"
   ]
  },
  {
   "cell_type": "markdown",
   "id": "5dc5c6a9-2153-4d58-a2c1-3d7ae767e8a0",
   "metadata": {},
   "source": [
    "## Adding BLP info to data\n",
    "\n",
    "Use `03_blp_pca` in the blp folder to prepare the components from the blp data for each participant."
   ]
  },
  {
   "cell_type": "code",
   "execution_count": 77,
   "id": "19216d6a-3ba2-4ff8-a727-d63a2036b104",
   "metadata": {},
   "outputs": [
    {
     "data": {
      "text/html": [
       "<div>\n",
       "<style scoped>\n",
       "    .dataframe tbody tr th:only-of-type {\n",
       "        vertical-align: middle;\n",
       "    }\n",
       "\n",
       "    .dataframe tbody tr th {\n",
       "        vertical-align: top;\n",
       "    }\n",
       "\n",
       "    .dataframe thead th {\n",
       "        text-align: right;\n",
       "    }\n",
       "</style>\n",
       "<table border=\"1\" class=\"dataframe\">\n",
       "  <thead>\n",
       "    <tr style=\"text-align: right;\">\n",
       "      <th></th>\n",
       "      <th>subjID</th>\n",
       "      <th>partID</th>\n",
       "      <th>list</th>\n",
       "      <th>block</th>\n",
       "      <th>trial</th>\n",
       "      <th>file1</th>\n",
       "      <th>filedur</th>\n",
       "      <th>loadtime</th>\n",
       "      <th>status</th>\n",
       "      <th>response</th>\n",
       "      <th>rt</th>\n",
       "      <th>response_binary</th>\n",
       "      <th>filename</th>\n",
       "      <th>formant</th>\n",
       "      <th>spectilt</th>\n",
       "      <th>duration</th>\n",
       "      <th>formant_center</th>\n",
       "      <th>spectilt_center</th>\n",
       "      <th>duration_center</th>\n",
       "      <th>lang_profile</th>\n",
       "    </tr>\n",
       "  </thead>\n",
       "  <tbody>\n",
       "    <tr>\n",
       "      <th>0</th>\n",
       "      <td>263f10f5f44fad</td>\n",
       "      <td>rre101</td>\n",
       "      <td>2</td>\n",
       "      <td>1</td>\n",
       "      <td>0</td>\n",
       "      <td>https://d3uxfe7dw0hhy7.cloudfront.net/annie-he...</td>\n",
       "      <td>420</td>\n",
       "      <td>15</td>\n",
       "      <td>OK</td>\n",
       "      <td>pondís</td>\n",
       "      <td>1128</td>\n",
       "      <td>ult</td>\n",
       "      <td>st3_dur1</td>\n",
       "      <td>3.0</td>\n",
       "      <td>3.0</td>\n",
       "      <td>1.0</td>\n",
       "      <td>0.0</td>\n",
       "      <td>0.0</td>\n",
       "      <td>-2.0</td>\n",
       "      <td>l3_eng</td>\n",
       "    </tr>\n",
       "    <tr>\n",
       "      <th>1</th>\n",
       "      <td>263f10f5f44fad</td>\n",
       "      <td>rre101</td>\n",
       "      <td>2</td>\n",
       "      <td>1</td>\n",
       "      <td>1</td>\n",
       "      <td>https://d3uxfe7dw0hhy7.cloudfront.net/annie-he...</td>\n",
       "      <td>427</td>\n",
       "      <td>20</td>\n",
       "      <td>OK</td>\n",
       "      <td>pondís</td>\n",
       "      <td>1361</td>\n",
       "      <td>ult</td>\n",
       "      <td>F2_dur5</td>\n",
       "      <td>2.0</td>\n",
       "      <td>3.0</td>\n",
       "      <td>5.0</td>\n",
       "      <td>-1.0</td>\n",
       "      <td>0.0</td>\n",
       "      <td>2.0</td>\n",
       "      <td>l3_eng</td>\n",
       "    </tr>\n",
       "  </tbody>\n",
       "</table>\n",
       "</div>"
      ],
      "text/plain": [
       "           subjID  partID  list  block  trial  \\\n",
       "0  263f10f5f44fad  rre101     2      1      0   \n",
       "1  263f10f5f44fad  rre101     2      1      1   \n",
       "\n",
       "                                               file1  filedur  loadtime  \\\n",
       "0  https://d3uxfe7dw0hhy7.cloudfront.net/annie-he...      420        15   \n",
       "1  https://d3uxfe7dw0hhy7.cloudfront.net/annie-he...      427        20   \n",
       "\n",
       "  status response    rt response_binary  filename  formant  spectilt  \\\n",
       "0     OK   pondís  1128             ult  st3_dur1      3.0       3.0   \n",
       "1     OK   pondís  1361             ult   F2_dur5      2.0       3.0   \n",
       "\n",
       "   duration  formant_center  spectilt_center  duration_center lang_profile  \n",
       "0       1.0             0.0              0.0             -2.0       l3_eng  \n",
       "1       5.0            -1.0              0.0              2.0       l3_eng  "
      ]
     },
     "execution_count": 77,
     "metadata": {},
     "output_type": "execute_result"
    }
   ],
   "source": [
    "spa_later = spa_later.merge(parts, on=\"partID\", how = \"left\")\n",
    "cat_later = cat_later.merge(parts, on=\"partID\", how = \"left\")\n",
    "eng_later = eng_later.merge(parts, on=\"partID\", how = \"left\")\n",
    "spa_later.head(2)"
   ]
  },
  {
   "cell_type": "code",
   "execution_count": 78,
   "id": "d7189c0a-5a08-4a34-b5b0-d384b4fb8fe2",
   "metadata": {},
   "outputs": [
    {
     "data": {
      "text/html": [
       "<div>\n",
       "<style scoped>\n",
       "    .dataframe tbody tr th:only-of-type {\n",
       "        vertical-align: middle;\n",
       "    }\n",
       "\n",
       "    .dataframe tbody tr th {\n",
       "        vertical-align: top;\n",
       "    }\n",
       "\n",
       "    .dataframe thead th {\n",
       "        text-align: right;\n",
       "    }\n",
       "</style>\n",
       "<table border=\"1\" class=\"dataframe\">\n",
       "  <thead>\n",
       "    <tr style=\"text-align: right;\">\n",
       "      <th></th>\n",
       "      <th>pc1</th>\n",
       "      <th>pc2</th>\n",
       "      <th>partID</th>\n",
       "      <th>lang_profile</th>\n",
       "    </tr>\n",
       "  </thead>\n",
       "  <tbody>\n",
       "    <tr>\n",
       "      <th>0</th>\n",
       "      <td>4.932414</td>\n",
       "      <td>-1.595612</td>\n",
       "      <td>eir057</td>\n",
       "      <td>l1_eng</td>\n",
       "    </tr>\n",
       "    <tr>\n",
       "      <th>1</th>\n",
       "      <td>5.450197</td>\n",
       "      <td>-0.136048</td>\n",
       "      <td>dis022</td>\n",
       "      <td>l1_eng</td>\n",
       "    </tr>\n",
       "    <tr>\n",
       "      <th>2</th>\n",
       "      <td>3.361367</td>\n",
       "      <td>-2.325886</td>\n",
       "      <td>irm067</td>\n",
       "      <td>l1_eng</td>\n",
       "    </tr>\n",
       "    <tr>\n",
       "      <th>3</th>\n",
       "      <td>6.165044</td>\n",
       "      <td>2.991184</td>\n",
       "      <td>afs116</td>\n",
       "      <td>l1_eng</td>\n",
       "    </tr>\n",
       "    <tr>\n",
       "      <th>4</th>\n",
       "      <td>3.892734</td>\n",
       "      <td>-2.726815</td>\n",
       "      <td>nir048</td>\n",
       "      <td>l1_eng</td>\n",
       "    </tr>\n",
       "  </tbody>\n",
       "</table>\n",
       "</div>"
      ],
      "text/plain": [
       "        pc1       pc2  partID lang_profile\n",
       "0  4.932414 -1.595612  eir057       l1_eng\n",
       "1  5.450197 -0.136048  dis022       l1_eng\n",
       "2  3.361367 -2.325886  irm067       l1_eng\n",
       "3  6.165044  2.991184  afs116       l1_eng\n",
       "4  3.892734 -2.726815  nir048       l1_eng"
      ]
     },
     "execution_count": 78,
     "metadata": {},
     "output_type": "execute_result"
    }
   ],
   "source": [
    "blp_pca = pd.read_csv(\"../blp/data/pca_blp.csv\")\n",
    "blp_pca.head()"
   ]
  },
  {
   "cell_type": "code",
   "execution_count": 79,
   "id": "0182dab1-ec5d-4e5f-b33a-fb14e0eb485b",
   "metadata": {},
   "outputs": [],
   "source": [
    "spa_later = spa_later.merge(blp_pca, on=[\"partID\", 'lang_profile'], how = \"left\")\n",
    "cat_later = cat_later.merge(blp_pca, on=[\"partID\", 'lang_profile'], how = \"left\")\n",
    "eng_later = eng_later.merge(blp_pca, on=[\"partID\", 'lang_profile'], how = \"left\")"
   ]
  },
  {
   "cell_type": "code",
   "execution_count": 80,
   "id": "809efc67-5c92-4eed-81e0-e4a17a2b5a19",
   "metadata": {},
   "outputs": [],
   "source": [
    "spa_later.to_csv(\"data/span_r.csv\", index = None)\n",
    "cat_later.to_csv(\"data/cat_r.csv\", index = None)\n",
    "eng_later.to_csv(\"data/eng_r.csv\", index = None)"
   ]
  },
  {
   "cell_type": "code",
   "execution_count": null,
   "id": "e3440d52-a1b6-46da-8c6c-b5e3b0dc81ca",
   "metadata": {},
   "outputs": [],
   "source": []
  }
 ],
 "metadata": {
  "kernelspec": {
   "display_name": "Python 3",
   "language": "python",
   "name": "python3"
  },
  "language_info": {
   "codemirror_mode": {
    "name": "ipython",
    "version": 3
   },
   "file_extension": ".py",
   "mimetype": "text/x-python",
   "name": "python",
   "nbconvert_exporter": "python",
   "pygments_lexer": "ipython3",
   "version": "3.8.8"
  }
 },
 "nbformat": 4,
 "nbformat_minor": 5
}
