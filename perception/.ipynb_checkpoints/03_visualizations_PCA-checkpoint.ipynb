{
 "cells": [
  {
   "cell_type": "markdown",
   "id": "171a7d69-6556-49cb-8bc0-57c9106b8362",
   "metadata": {},
   "source": [
    "# Visualizations of estimates by PCA"
   ]
  },
  {
   "cell_type": "code",
   "execution_count": 1,
   "id": "c3dcbf7d-a821-4b93-bcb8-40a379af6503",
   "metadata": {},
   "outputs": [],
   "source": [
    "import pandas as pd\n",
    "import seaborn as sns\n",
    "import matplotlib.pyplot as plt\n",
    "import numpy as np"
   ]
  },
  {
   "cell_type": "markdown",
   "id": "45c3cb5b-f192-4902-b4a7-4f1f5632e382",
   "metadata": {},
   "source": [
    "First, isolate data from trilingual speakers."
   ]
  },
  {
   "cell_type": "code",
   "execution_count": 11,
   "id": "bca1c30b-c811-4ce8-999a-92d9e451d5db",
   "metadata": {},
   "outputs": [
    {
     "data": {
      "text/html": [
       "<div>\n",
       "<style scoped>\n",
       "    .dataframe tbody tr th:only-of-type {\n",
       "        vertical-align: middle;\n",
       "    }\n",
       "\n",
       "    .dataframe tbody tr th {\n",
       "        vertical-align: top;\n",
       "    }\n",
       "\n",
       "    .dataframe thead th {\n",
       "        text-align: right;\n",
       "    }\n",
       "</style>\n",
       "<table border=\"1\" class=\"dataframe\">\n",
       "  <thead>\n",
       "    <tr style=\"text-align: right;\">\n",
       "      <th></th>\n",
       "      <th>partID</th>\n",
       "      <th>cat_warning</th>\n",
       "      <th>cat_vowel_estimate</th>\n",
       "      <th>cat_vowel_std</th>\n",
       "      <th>cat_duration_estimate</th>\n",
       "      <th>cat_duration_std</th>\n",
       "      <th>cat_spectilt_estimate</th>\n",
       "      <th>cat_spectilt_std</th>\n",
       "      <th>spa_warning</th>\n",
       "      <th>spa_vowel_estimate</th>\n",
       "      <th>...</th>\n",
       "      <th>eng_warning</th>\n",
       "      <th>eng_vowel_estimate</th>\n",
       "      <th>eng_vowel_std</th>\n",
       "      <th>eng_duration_estimate</th>\n",
       "      <th>eng_duration_std</th>\n",
       "      <th>eng_spectilt_estimate</th>\n",
       "      <th>eng_spectilt_std</th>\n",
       "      <th>lang_profile</th>\n",
       "      <th>pc1</th>\n",
       "      <th>pc2</th>\n",
       "    </tr>\n",
       "  </thead>\n",
       "  <tbody>\n",
       "    <tr>\n",
       "      <th>0</th>\n",
       "      <td>acj047</td>\n",
       "      <td>NaN</td>\n",
       "      <td>NaN</td>\n",
       "      <td>NaN</td>\n",
       "      <td>NaN</td>\n",
       "      <td>NaN</td>\n",
       "      <td>NaN</td>\n",
       "      <td>NaN</td>\n",
       "      <td>NaN</td>\n",
       "      <td>NaN</td>\n",
       "      <td>...</td>\n",
       "      <td>0</td>\n",
       "      <td>0.252188</td>\n",
       "      <td>0.183914</td>\n",
       "      <td>0.971723</td>\n",
       "      <td>0.222588</td>\n",
       "      <td>0.390739</td>\n",
       "      <td>0.184323</td>\n",
       "      <td>mono</td>\n",
       "      <td>NaN</td>\n",
       "      <td>NaN</td>\n",
       "    </tr>\n",
       "    <tr>\n",
       "      <th>1</th>\n",
       "      <td>acj297</td>\n",
       "      <td>0</td>\n",
       "      <td>0.210356</td>\n",
       "      <td>0.146814</td>\n",
       "      <td>-0.085561</td>\n",
       "      <td>0.147077</td>\n",
       "      <td>-0.278363</td>\n",
       "      <td>0.150769</td>\n",
       "      <td>0</td>\n",
       "      <td>1.162825</td>\n",
       "      <td>...</td>\n",
       "      <td>0</td>\n",
       "      <td>1.307934</td>\n",
       "      <td>0.290871</td>\n",
       "      <td>2.409308</td>\n",
       "      <td>0.453406</td>\n",
       "      <td>0.588664</td>\n",
       "      <td>0.232368</td>\n",
       "      <td>l1_eng</td>\n",
       "      <td>3.764211</td>\n",
       "      <td>-1.240101</td>\n",
       "    </tr>\n",
       "    <tr>\n",
       "      <th>2</th>\n",
       "      <td>acr108</td>\n",
       "      <td>0</td>\n",
       "      <td>0.273684</td>\n",
       "      <td>0.162629</td>\n",
       "      <td>0.265210</td>\n",
       "      <td>0.169568</td>\n",
       "      <td>0.172382</td>\n",
       "      <td>0.160731</td>\n",
       "      <td>0</td>\n",
       "      <td>0.553943</td>\n",
       "      <td>...</td>\n",
       "      <td>0</td>\n",
       "      <td>-0.336151</td>\n",
       "      <td>0.181966</td>\n",
       "      <td>2.183468</td>\n",
       "      <td>0.426018</td>\n",
       "      <td>-0.140840</td>\n",
       "      <td>0.180522</td>\n",
       "      <td>l1_eng</td>\n",
       "      <td>3.094974</td>\n",
       "      <td>-0.507547</td>\n",
       "    </tr>\n",
       "    <tr>\n",
       "      <th>3</th>\n",
       "      <td>aei079</td>\n",
       "      <td>0</td>\n",
       "      <td>0.326162</td>\n",
       "      <td>0.151268</td>\n",
       "      <td>-0.253304</td>\n",
       "      <td>0.150526</td>\n",
       "      <td>0.110451</td>\n",
       "      <td>0.148743</td>\n",
       "      <td>0</td>\n",
       "      <td>0.187595</td>\n",
       "      <td>...</td>\n",
       "      <td>0</td>\n",
       "      <td>1.873218</td>\n",
       "      <td>0.376852</td>\n",
       "      <td>0.934558</td>\n",
       "      <td>0.214967</td>\n",
       "      <td>0.043377</td>\n",
       "      <td>0.187671</td>\n",
       "      <td>l1_eng</td>\n",
       "      <td>4.173198</td>\n",
       "      <td>2.576465</td>\n",
       "    </tr>\n",
       "    <tr>\n",
       "      <th>4</th>\n",
       "      <td>ael236</td>\n",
       "      <td>NaN</td>\n",
       "      <td>NaN</td>\n",
       "      <td>NaN</td>\n",
       "      <td>NaN</td>\n",
       "      <td>NaN</td>\n",
       "      <td>NaN</td>\n",
       "      <td>NaN</td>\n",
       "      <td>NaN</td>\n",
       "      <td>NaN</td>\n",
       "      <td>...</td>\n",
       "      <td>0</td>\n",
       "      <td>0.673082</td>\n",
       "      <td>0.205907</td>\n",
       "      <td>2.795683</td>\n",
       "      <td>0.598022</td>\n",
       "      <td>-0.222353</td>\n",
       "      <td>0.193451</td>\n",
       "      <td>mono</td>\n",
       "      <td>NaN</td>\n",
       "      <td>NaN</td>\n",
       "    </tr>\n",
       "  </tbody>\n",
       "</table>\n",
       "<p>5 rows × 25 columns</p>\n",
       "</div>"
      ],
      "text/plain": [
       "   partID cat_warning  cat_vowel_estimate  cat_vowel_std  \\\n",
       "0  acj047         NaN                 NaN            NaN   \n",
       "1  acj297           0            0.210356       0.146814   \n",
       "2  acr108           0            0.273684       0.162629   \n",
       "3  aei079           0            0.326162       0.151268   \n",
       "4  ael236         NaN                 NaN            NaN   \n",
       "\n",
       "   cat_duration_estimate  cat_duration_std  cat_spectilt_estimate  \\\n",
       "0                    NaN               NaN                    NaN   \n",
       "1              -0.085561          0.147077              -0.278363   \n",
       "2               0.265210          0.169568               0.172382   \n",
       "3              -0.253304          0.150526               0.110451   \n",
       "4                    NaN               NaN                    NaN   \n",
       "\n",
       "   cat_spectilt_std spa_warning  spa_vowel_estimate  ...  eng_warning  \\\n",
       "0               NaN         NaN                 NaN  ...            0   \n",
       "1          0.150769           0            1.162825  ...            0   \n",
       "2          0.160731           0            0.553943  ...            0   \n",
       "3          0.148743           0            0.187595  ...            0   \n",
       "4               NaN         NaN                 NaN  ...            0   \n",
       "\n",
       "   eng_vowel_estimate  eng_vowel_std  eng_duration_estimate  eng_duration_std  \\\n",
       "0            0.252188       0.183914               0.971723          0.222588   \n",
       "1            1.307934       0.290871               2.409308          0.453406   \n",
       "2           -0.336151       0.181966               2.183468          0.426018   \n",
       "3            1.873218       0.376852               0.934558          0.214967   \n",
       "4            0.673082       0.205907               2.795683          0.598022   \n",
       "\n",
       "  eng_spectilt_estimate  eng_spectilt_std  lang_profile       pc1       pc2  \n",
       "0              0.390739          0.184323          mono       NaN       NaN  \n",
       "1              0.588664          0.232368        l1_eng  3.764211 -1.240101  \n",
       "2             -0.140840          0.180522        l1_eng  3.094974 -0.507547  \n",
       "3              0.043377          0.187671        l1_eng  4.173198  2.576465  \n",
       "4             -0.222353          0.193451          mono       NaN       NaN  \n",
       "\n",
       "[5 rows x 25 columns]"
      ]
     },
     "execution_count": 11,
     "metadata": {},
     "output_type": "execute_result"
    }
   ],
   "source": [
    "df = pd.read_csv(\"data/estimates_and_blp.csv\")\n",
    "df_tri = df[df['lang_profile']!=\"mono\"].copy()\n",
    "df.head()"
   ]
  },
  {
   "cell_type": "code",
   "execution_count": 20,
   "id": "d97f5397-dd8a-4a9e-b8a9-900089585d26",
   "metadata": {},
   "outputs": [
    {
     "name": "stdout",
     "output_type": "stream",
     "text": [
      "english errors:  ['0'\n",
      " 'list(message = \"glm.fit: fitted probabilities numerically 0 or 1 occurred\", call = NULL)'\n",
      " 'list(message = \"glm.fit: algorithm did not converge\", call = NULL)']\n",
      "63\n",
      "59\n",
      "catalan errors:  ['0' nan\n",
      " 'list(message = \"glm.fit: algorithm did not converge\", call = NULL)'\n",
      " 'list(message = \"glm.fit: fitted probabilities numerically 0 or 1 occurred\", call = NULL)']\n",
      "48\n",
      "44\n",
      "spanish errors:  ['0'\n",
      " 'list(message = \"glm.fit: fitted probabilities numerically 0 or 1 occurred\", call = NULL)']\n"
     ]
    },
    {
     "data": {
      "text/plain": [
       "47"
      ]
     },
     "execution_count": 20,
     "metadata": {},
     "output_type": "execute_result"
    }
   ],
   "source": [
    "print(\"english errors: \", df.eng_warning.unique())\n",
    "print(len(df))\n",
    "df_eng_nowarnings = df[(df['eng_warning'].str.len()<=4) | (df_tri['eng_warning'].isna())].copy()\n",
    "print(len(df_eng_nowarnings))\n",
    "print(\"catalan errors: \", df_tri.cat_warning.unique())\n",
    "print(len(df_tri))\n",
    "df_cat_nowarnings = df_tri[(df_tri['cat_warning'].str.len()<=4) | (df_tri['cat_warning'].isna())].copy()\n",
    "print(len(df_cat_nowarnings))\n",
    "print(\"spanish errors: \", df_tri.spa_warning.unique())\n",
    "df_spa_nowarnings = df_tri[(df_tri['spa_warning'].str.len()<=4) | (df_tri['spa_warning'].isna())].copy()\n",
    "len(df_spa_nowarnings)"
   ]
  },
  {
   "cell_type": "code",
   "execution_count": 14,
   "id": "15f48477-608c-498a-8ba0-1b140004ca7f",
   "metadata": {},
   "outputs": [
    {
     "data": {
      "image/png": "[encoded data removed]",
      "text/plain": [
       "<Figure size 432x288 with 1 Axes>"
      ]
     },
     "metadata": {
      "needs_background": "light"
     },
     "output_type": "display_data"
    }
   ],
   "source": [
    "ax = sns.stripplot(x = df.lang_profile, y = df.eng_vowel_estimate, color = \"r\",\n",
    "                   label = \"Vowel quality\", jitter = 0.2)\n",
    "ax = sns.stripplot(x = df.lang_profile, y = df.eng_duration_estimate, color = \"b\",\n",
    "                   label = \"Duration\", jitter = 0.2)\n",
    "ax = sns.stripplot(x = df.lang_profile, y = df.eng_spectilt_estimate, color = \"g\",\n",
    "                   label = \"Spectral tilt\", jitter = 0.2)\n",
    "handles, labels = ax.get_legend_handles_labels()\n",
    "handles = [handles[0],handles[3], handles[6]]\n",
    "labels = ['Vowel quality', 'Duration', 'Spectral tilt']\n",
    "\n",
    "ax.legend(handles, labels)\n",
    "ax.set(xlabel = \"Language Profile\",\n",
    "      ylabel = \"Beta estimates\",\n",
    "      title = \"English perception task\")\n",
    "\n",
    "#plt.ylim([-2.5,3.5])\n",
    "\n",
    "plt.show();"
   ]
  },
  {
   "cell_type": "markdown",
   "id": "7ff25c95-2168-475b-abf3-37ddde442df1",
   "metadata": {},
   "source": [
    "English perception with whiskers."
   ]
  },
  {
   "cell_type": "code",
   "execution_count": 26,
   "id": "cb6a6abd-631f-4c29-bb70-7a582d00c8d9",
   "metadata": {},
   "outputs": [
    {
     "data": {
      "image/png": "[encoded data removed]",
      "text/plain": [
       "<Figure size 792x288 with 3 Axes>"
      ]
     },
     "metadata": {
      "needs_background": "light"
     },
     "output_type": "display_data"
    }
   ],
   "source": [
    "tex_fonts = {\n",
    "    \"font.family\": \"serif\",\n",
    "    # Use 10pt font in plots, to match 10pt font in document\n",
    "    \"axes.labelsize\": 12,\n",
    "    \"font.size\": 10,\n",
    "    # Make the legend/label fonts a little smaller\n",
    "    \"legend.fontsize\": 10,\n",
    "    \"xtick.labelsize\": 10,\n",
    "    \"ytick.labelsize\": 10\n",
    "}\n",
    "plt.rcParams.update(tex_fonts)\n",
    "\n",
    "fig, axes = plt.subplots(1,3, sharey = True, sharex = True, figsize = (11,4))\n",
    "sns.stripplot(ax = axes[0], x = df_eng_nowarnings.lang_profile,\n",
    "                y = df_eng_nowarnings.eng_vowel_estimate, color = \"r\")\n",
    "\n",
    "x_coords_0 = []\n",
    "y_coords_0 = []\n",
    "for point_pair in axes[0].collections:\n",
    "    for x, y in point_pair.get_offsets():\n",
    "        x_coords_0.append(x)\n",
    "        y_coords_0.append(y)\n",
    "        \n",
    "axes[0].errorbar(x_coords_0, y_coords_0, yerr=df_eng_nowarnings.eng_vowel_std,\n",
    "                 color = 'r', fmt=' ', zorder=-1)\n",
    "\n",
    "\n",
    "axes[0].axhline(y = 0, color = \"black\", linestyle = \"--\", alpha = 0.5)\n",
    "axes[0].set_title(\"Vowel quality\")\n",
    "axes[1].axhline(y = 0, color = \"black\", linestyle = \"--\", alpha = 0.5)\n",
    "axes[1].set_title(\"Duration\")\n",
    "axes[2].axhline(y = 0, color = \"black\", linestyle = \"--\", alpha = 0.5)\n",
    "sns.stripplot(ax = axes[1], x = df_eng_nowarnings.lang_profile,\n",
    "                y = df_eng_nowarnings.eng_duration_estimate, color = \"b\")\n",
    "\n",
    "x_coords_1 = []\n",
    "y_coords_1 = []\n",
    "for point_pair in axes[1].collections:\n",
    "    for x, y in point_pair.get_offsets():\n",
    "        x_coords_1.append(x)\n",
    "        y_coords_1.append(y)\n",
    "        \n",
    "axes[1].errorbar(x_coords_1, y_coords_1, yerr=df_eng_nowarnings.eng_duration_std,\n",
    "                 color = 'b', fmt=' ', zorder=-1)\n",
    "\n",
    "sns.stripplot(ax = axes[2], x = df_eng_nowarnings.lang_profile,\n",
    "                y = df_eng_nowarnings.eng_spectilt_estimate, color = \"g\")\n",
    "\n",
    "x_coords_2 = []\n",
    "y_coords_2 = []\n",
    "for point_pair in axes[2].collections:\n",
    "    for x, y in point_pair.get_offsets():\n",
    "        x_coords_2.append(x)\n",
    "        y_coords_2.append(y)\n",
    "        \n",
    "axes[2].errorbar(x_coords_2, y_coords_2, yerr=df_eng_nowarnings.eng_spectilt_std,\n",
    "                 color = 'g', fmt=' ', zorder=-1)\n",
    "axes[2].set_title(\"Spectral tilt\")\n",
    "\n",
    "axes[0].set_xticklabels(['Monolingual', 'L1 English', 'L3 English'])\n",
    "axes[0].set_xlabel(\"\")\n",
    "axes[1].set_xlabel(\"\")\n",
    "axes[2].set_xlabel(\"\")\n",
    "axes[0].set_ylabel(\"Model estimate\")\n",
    "axes[1].set_ylabel(\"\")\n",
    "axes[2].set_ylabel(\"\")\n",
    "fig.supxlabel(\"Language Profile\")\n",
    "fig.suptitle(\"English perception\")\n",
    "\n",
    "plt.ylim([-1.5,4.5])\n",
    "plt.savefig('figures/eng_estimates.jpg', format='jpg', dpi = 800)\n",
    "plt.show();"
   ]
  },
  {
   "cell_type": "markdown",
   "id": "a5a94ce5-fa78-4f19-a057-b93ad8399efc",
   "metadata": {},
   "source": [
    "Catalan perception by predetermined language profile:"
   ]
  },
  {
   "cell_type": "code",
   "execution_count": 75,
   "id": "07dfcfdc-9c59-4bbb-80d8-a799c60a1016",
   "metadata": {},
   "outputs": [
    {
     "data": {
      "image/png": "[encoded data removed]",
      "text/plain": [
       "<Figure size 432x288 with 1 Axes>"
      ]
     },
     "metadata": {
      "needs_background": "light"
     },
     "output_type": "display_data"
    }
   ],
   "source": [
    "ax = sns.stripplot(x = df_cat_nowarnings.lang_profile, y = df_cat_nowarnings.cat_vowel_estimate,\n",
    "                   color = \"r\", label = \"Vowel quality\", jitter = 0.2)\n",
    "ax = sns.stripplot(x = df_cat_nowarnings.lang_profile,\n",
    "                   y = df_cat_nowarnings.cat_duration_estimate, color = \"b\",\n",
    "                   label = \"Duration\", jitter = 0.2)\n",
    "ax = sns.stripplot(x = df_cat_nowarnings.lang_profile,\n",
    "                   y = df_cat_nowarnings.cat_spectilt_estimate, color = \"g\",\n",
    "                   label = \"Spectral tilt\", jitter = 0.2)\n",
    "handles, labels = ax.get_legend_handles_labels()\n",
    "handles = [handles[0],handles[2], handles[4]]\n",
    "labels = ['Vowel quality', 'Duration', 'Spectral tilt']\n",
    "\n",
    "ax.legend(handles, labels)\n",
    "ax.set(xlabel = \"Language Profile\",\n",
    "      ylabel = \"Beta estimates\",\n",
    "      title = \"Catalan perception task\")\n",
    "\n",
    "plt.ylim([-2.5,3.5])\n",
    "\n",
    "plt.show();"
   ]
  },
  {
   "cell_type": "markdown",
   "id": "be63dcfd-512f-4935-abc0-c6ba0ad655b9",
   "metadata": {},
   "source": [
    "Catalan perception by first component (English affinity):"
   ]
  },
  {
   "cell_type": "code",
   "execution_count": 123,
   "id": "6507d702-91b8-460b-a154-66d4adda878c",
   "metadata": {},
   "outputs": [
    {
     "data": {
      "image/png": "[encoded data removed]",
      "text/plain": [
       "<Figure size 792x288 with 3 Axes>"
      ]
     },
     "metadata": {
      "needs_background": "light"
     },
     "output_type": "display_data"
    }
   ],
   "source": [
    "tex_fonts = {\n",
    "    \"font.family\": \"serif\",\n",
    "    # Use 10pt font in plots, to match 10pt font in document\n",
    "    \"axes.labelsize\": 12,\n",
    "    \"font.size\": 10,\n",
    "    # Make the legend/label fonts a little smaller\n",
    "    \"legend.fontsize\": 10,\n",
    "    \"xtick.labelsize\": 10,\n",
    "    \"ytick.labelsize\": 10\n",
    "}\n",
    "plt.rcParams.update(tex_fonts)\n",
    "\n",
    "fig, axes = plt.subplots(1,3, sharey = True, sharex = True, figsize = (11,4))\n",
    "sns.scatterplot(ax = axes[0], x = df_cat_nowarnings.pc1,\n",
    "                y = df_cat_nowarnings.cat_vowel_estimate, color = \"r\")\n",
    "axes[0].errorbar(df_cat_nowarnings.pc1,\n",
    "                 df_cat_nowarnings.cat_vowel_estimate,\n",
    "                 yerr=2*df_cat_nowarnings.cat_vowel_std, fmt=' ',\n",
    "            zorder=-1, color = \"r\")\n",
    "axes[0].axhline(y = 0, color = \"black\", linestyle = \"--\", alpha = 0.5)\n",
    "axes[0].set_title(\"Vowel quality\")\n",
    "axes[1].axhline(y = 0, color = \"black\", linestyle = \"--\", alpha = 0.5)\n",
    "axes[1].set_title(\"Duration\")\n",
    "axes[2].axhline(y = 0, color = \"black\", linestyle = \"--\", alpha = 0.5)\n",
    "sns.scatterplot(ax = axes[1], x = df_cat_nowarnings.pc1,\n",
    "                y = df_cat_nowarnings.cat_duration_estimate, color = \"b\")\n",
    "axes[1].errorbar(df_cat_nowarnings.pc1,\n",
    "                 df_cat_nowarnings.cat_duration_estimate,\n",
    "                 yerr=2*df_cat_nowarnings.cat_duration_std, fmt=' ',\n",
    "            zorder=-1, color = \"b\")\n",
    "sns.scatterplot(ax = axes[2], x = df_cat_nowarnings.pc1,\n",
    "                y = df_cat_nowarnings.cat_spectilt_estimate, color = \"g\")\n",
    "axes[2].errorbar(df_cat_nowarnings.pc1,\n",
    "                 df_cat_nowarnings.cat_spectilt_estimate,\n",
    "                 yerr=2*df_cat_nowarnings.cat_spectilt_std, fmt=' ',\n",
    "            zorder=-1, color = \"g\")\n",
    "axes[2].set_title(\"Spectral tilt\")\n",
    "axes[0].set_xlabel(\"\")\n",
    "axes[1].set_xlabel(\"\")\n",
    "axes[2].set_xlabel(\"\")\n",
    "axes[0].set_ylabel(\"Model estimate\")\n",
    "fig.supxlabel(\"First principal component (English affinity)\")\n",
    "fig.suptitle(\"Catalan perception\")\n",
    "# fig.supylabel(\"Vowel quality estimate\")\n",
    "# handles, labels = ax.get_legend_handles_labels()\n",
    "# #handles = [handles[0],handles[2], handles[4]]\n",
    "# labels = ['Vowel quality', 'Duration', 'Spectral tilt']\n",
    "\n",
    "# ax.legend(handles, labels)\n",
    "# ax.set(xlabel = \"First Principal Component (English affinity)\",\n",
    "#       ylabel = \"Beta estimates\",\n",
    "#       title = \"Catalan perception task\")\n",
    "\n",
    "plt.ylim([-4,6])\n",
    "plt.savefig('figures/cat_estimates_pc1.jpg', format='jpg', dpi = 800)\n",
    "plt.show();"
   ]
  },
  {
   "cell_type": "markdown",
   "id": "3d6bc187-320d-4efb-b951-38a9f2295761",
   "metadata": {},
   "source": [
    "Catalan perception across second principal component"
   ]
  },
  {
   "cell_type": "code",
   "execution_count": 124,
   "id": "d38cfb02-319b-49a4-a7c5-3c1b54f63299",
   "metadata": {},
   "outputs": [
    {
     "data": {
      "image/png": "[encoded data removed]",
      "text/plain": [
       "<Figure size 792x288 with 3 Axes>"
      ]
     },
     "metadata": {
      "needs_background": "light"
     },
     "output_type": "display_data"
    }
   ],
   "source": [
    "tex_fonts = {\n",
    "    \"font.family\": \"serif\",\n",
    "    # Use 10pt font in plots, to match 10pt font in document\n",
    "    \"axes.labelsize\": 12,\n",
    "    \"font.size\": 10,\n",
    "    # Make the legend/label fonts a little smaller\n",
    "    \"legend.fontsize\": 10,\n",
    "    \"xtick.labelsize\": 10,\n",
    "    \"ytick.labelsize\": 10\n",
    "}\n",
    "plt.rcParams.update(tex_fonts)\n",
    "\n",
    "fig, axes = plt.subplots(1,3, sharey = True, sharex = True, figsize = (11,4))\n",
    "sns.scatterplot(ax = axes[0], x = df_cat_nowarnings.pc2,\n",
    "                y = df_cat_nowarnings.cat_vowel_estimate, color = \"r\")\n",
    "axes[0].errorbar(df_cat_nowarnings.pc2,\n",
    "                 df_cat_nowarnings.cat_vowel_estimate,\n",
    "                 yerr=2*df_cat_nowarnings.cat_vowel_std, fmt=' ',\n",
    "            zorder=-1, color = \"r\")\n",
    "axes[0].axhline(y = 0, color = \"black\", linestyle = \"--\", alpha = 0.5)\n",
    "axes[0].set_title(\"Vowel quality\")\n",
    "axes[1].axhline(y = 0, color = \"black\", linestyle = \"--\", alpha = 0.5)\n",
    "axes[1].set_title(\"Duration\")\n",
    "axes[2].axhline(y = 0, color = \"black\", linestyle = \"--\", alpha = 0.5)\n",
    "sns.scatterplot(ax = axes[1], x = df_cat_nowarnings.pc2,\n",
    "                y = df_cat_nowarnings.cat_duration_estimate, color = \"b\")\n",
    "axes[1].errorbar(df_cat_nowarnings.pc2,\n",
    "                 df_cat_nowarnings.cat_duration_estimate,\n",
    "                 yerr=2*df_cat_nowarnings.cat_duration_std, fmt=' ',\n",
    "            zorder=-1, color = \"b\")\n",
    "sns.scatterplot(ax = axes[2], x = df_cat_nowarnings.pc2,\n",
    "                y = df_cat_nowarnings.cat_spectilt_estimate, color = \"g\")\n",
    "axes[2].errorbar(df_cat_nowarnings.pc2,\n",
    "                 df_cat_nowarnings.cat_spectilt_estimate,\n",
    "                 yerr=2*df_cat_nowarnings.cat_spectilt_std, fmt=' ',\n",
    "            zorder=-1, color = \"g\")\n",
    "axes[2].set_title(\"Spectral tilt\")\n",
    "axes[0].set_xlabel(\"\")\n",
    "axes[1].set_xlabel(\"\")\n",
    "axes[2].set_xlabel(\"\")\n",
    "axes[0].set_ylabel(\"Model estimate\")\n",
    "fig.supxlabel(\"Second principal component (Catalan affinity)\")\n",
    "fig.suptitle(\"Catalan perception\")\n",
    "# fig.supylabel(\"Vowel quality estimate\")\n",
    "# handles, labels = ax.get_legend_handles_labels()\n",
    "# #handles = [handles[0],handles[2], handles[4]]\n",
    "# labels = ['Vowel quality', 'Duration', 'Spectral tilt']\n",
    "\n",
    "# ax.legend(handles, labels)\n",
    "# ax.set(xlabel = \"First Principal Component (English affinity)\",\n",
    "#       ylabel = \"Beta estimates\",\n",
    "#       title = \"Catalan perception task\")\n",
    "\n",
    "plt.ylim([-4,6])\n",
    "plt.savefig('figures/cat_estimates_pc2.jpg', format='jpg', dpi = 800)\n",
    "plt.show();"
   ]
  },
  {
   "cell_type": "code",
   "execution_count": 67,
   "id": "7ae430d6-2e76-43b6-8621-083c58e9f837",
   "metadata": {},
   "outputs": [
    {
     "data": {
      "image/png": "[encoded data removed]",
      "text/plain": [
       "<Figure size 432x288 with 1 Axes>"
      ]
     },
     "metadata": {
      "needs_background": "light"
     },
     "output_type": "display_data"
    }
   ],
   "source": [
    "ax = sns.stripplot(x = df_tri.lang_profile, y = df_tri.spa_vowel_estimate, color = \"r\",\n",
    "                   label = \"Vowel quality\", jitter = 0.2)\n",
    "ax = sns.stripplot(x = df_tri.lang_profile, y = df_tri.spa_duration_estimate, color = \"b\",\n",
    "                   label = \"Duration\", jitter = 0.2)\n",
    "ax = sns.stripplot(x = df_tri.lang_profile, y = df_tri.spa_spectilt_estimate, color = \"g\",\n",
    "                   label = \"Spectral tilt\", jitter = 0.2)\n",
    "handles, labels = ax.get_legend_handles_labels()\n",
    "handles = [handles[0],handles[2], handles[4]]\n",
    "labels = ['Vowel quality', 'Duration', 'Spectral tilt']\n",
    "\n",
    "ax.legend(handles, labels)\n",
    "ax.set(xlabel = \"Language Profile\",\n",
    "      ylabel = \"Beta estimates\",\n",
    "      title = \"Spanish perception task\")\n",
    "\n",
    "plt.ylim([-2.5,3.5])\n",
    "\n",
    "plt.show();"
   ]
  },
  {
   "cell_type": "markdown",
   "id": "8cccce8f-5969-4e99-89d5-2e317aea35a7",
   "metadata": {},
   "source": [
    "Spanish perception by the first principal component:"
   ]
  },
  {
   "cell_type": "code",
   "execution_count": 126,
   "id": "58016691-294c-46a6-a1db-e94dfdc87f08",
   "metadata": {},
   "outputs": [
    {
     "data": {
      "image/png": "[encoded data removed]",
      "text/plain": [
       "<Figure size 792x288 with 3 Axes>"
      ]
     },
     "metadata": {
      "needs_background": "light"
     },
     "output_type": "display_data"
    }
   ],
   "source": [
    "tex_fonts = {\n",
    "    \"font.family\": \"serif\",\n",
    "    # Use 10pt font in plots, to match 10pt font in document\n",
    "    \"axes.labelsize\": 12,\n",
    "    \"font.size\": 10,\n",
    "    # Make the legend/label fonts a little smaller\n",
    "    \"legend.fontsize\": 10,\n",
    "    \"xtick.labelsize\": 10,\n",
    "    \"ytick.labelsize\": 10\n",
    "}\n",
    "plt.rcParams.update(tex_fonts)\n",
    "\n",
    "fig, axes = plt.subplots(1,3, sharey = True, sharex = True, figsize = (11,4))\n",
    "sns.scatterplot(ax = axes[0], x = df_spa_nowarnings.pc1,\n",
    "                y = df_spa_nowarnings.spa_vowel_estimate, color = \"r\")\n",
    "axes[0].errorbar(df_spa_nowarnings.pc1,\n",
    "                 df_spa_nowarnings.spa_vowel_estimate,\n",
    "                 yerr=2*df_spa_nowarnings.spa_vowel_std, fmt=' ',\n",
    "            zorder=-1, color = \"r\")\n",
    "axes[0].axhline(y = 0, color = \"black\", linestyle = \"--\", alpha = 0.5)\n",
    "axes[0].set_title(\"Vowel quality\")\n",
    "axes[1].axhline(y = 0, color = \"black\", linestyle = \"--\", alpha = 0.5)\n",
    "axes[1].set_title(\"Duration\")\n",
    "axes[2].axhline(y = 0, color = \"black\", linestyle = \"--\", alpha = 0.5)\n",
    "sns.scatterplot(ax = axes[1], x = df_spa_nowarnings.pc1,\n",
    "                y = df_spa_nowarnings.spa_duration_estimate, color = \"b\")\n",
    "axes[1].errorbar(df_spa_nowarnings.pc1,\n",
    "                 df_spa_nowarnings.spa_duration_estimate,\n",
    "                 yerr=2*df_spa_nowarnings.spa_duration_std, fmt=' ',\n",
    "            zorder=-1, color = \"b\")\n",
    "sns.scatterplot(ax = axes[2], x = df_spa_nowarnings.pc1,\n",
    "                y = df_spa_nowarnings.spa_spectilt_estimate, color = \"g\")\n",
    "axes[2].errorbar(df_spa_nowarnings.pc1,\n",
    "                 df_spa_nowarnings.spa_spectilt_estimate,\n",
    "                 yerr=2*df_spa_nowarnings.spa_spectilt_std, fmt=' ',\n",
    "            zorder=-1, color = \"g\")\n",
    "axes[2].set_title(\"Spectral tilt\")\n",
    "axes[0].set_xlabel(\"\")\n",
    "axes[1].set_xlabel(\"\")\n",
    "axes[2].set_xlabel(\"\")\n",
    "axes[0].set_ylabel(\"Model estimate\")\n",
    "fig.supxlabel(\"First principal component (English affinity)\")\n",
    "fig.suptitle(\"Spanish perception\")\n",
    "\n",
    "plt.ylim([-4,6])\n",
    "plt.savefig('figures/spa_estimates_pc1.jpg', format='jpg', dpi = 800)\n",
    "plt.show();"
   ]
  },
  {
   "cell_type": "markdown",
   "id": "1b0f81f1-9bcd-490f-8026-8aa75d37cace",
   "metadata": {},
   "source": [
    "Spanish perception by second principal component"
   ]
  },
  {
   "cell_type": "code",
   "execution_count": 127,
   "id": "252654d5-333c-4715-b52e-28a8c2b9ab3d",
   "metadata": {},
   "outputs": [
    {
     "data": {
      "image/png": "[encoded data removed]",
      "text/plain": [
       "<Figure size 792x288 with 3 Axes>"
      ]
     },
     "metadata": {
      "needs_background": "light"
     },
     "output_type": "display_data"
    }
   ],
   "source": [
    "tex_fonts = {\n",
    "    \"font.family\": \"serif\",\n",
    "    # Use 10pt font in plots, to match 10pt font in document\n",
    "    \"axes.labelsize\": 12,\n",
    "    \"font.size\": 10,\n",
    "    # Make the legend/label fonts a little smaller\n",
    "    \"legend.fontsize\": 10,\n",
    "    \"xtick.labelsize\": 10,\n",
    "    \"ytick.labelsize\": 10\n",
    "}\n",
    "plt.rcParams.update(tex_fonts)\n",
    "\n",
    "fig, axes = plt.subplots(1,3, sharey = True, sharex = True, figsize = (11,4))\n",
    "sns.scatterplot(ax = axes[0], x = df_spa_nowarnings.pc2,\n",
    "                y = df_spa_nowarnings.spa_vowel_estimate, color = \"r\")\n",
    "axes[0].errorbar(df_spa_nowarnings.pc2,\n",
    "                 df_spa_nowarnings.spa_vowel_estimate,\n",
    "                 yerr=2*df_spa_nowarnings.spa_vowel_std, fmt=' ',\n",
    "            zorder=-1, color = \"r\")\n",
    "axes[0].axhline(y = 0, color = \"black\", linestyle = \"--\", alpha = 0.5)\n",
    "axes[0].set_title(\"Vowel quality\")\n",
    "axes[1].axhline(y = 0, color = \"black\", linestyle = \"--\", alpha = 0.5)\n",
    "axes[1].set_title(\"Duration\")\n",
    "axes[2].axhline(y = 0, color = \"black\", linestyle = \"--\", alpha = 0.5)\n",
    "sns.scatterplot(ax = axes[1], x = df_spa_nowarnings.pc2,\n",
    "                y = df_spa_nowarnings.spa_duration_estimate, color = \"b\")\n",
    "axes[1].errorbar(df_spa_nowarnings.pc2,\n",
    "                 df_spa_nowarnings.spa_duration_estimate,\n",
    "                 yerr=2*df_spa_nowarnings.spa_duration_std, fmt=' ',\n",
    "            zorder=-1, color = \"b\")\n",
    "sns.scatterplot(ax = axes[2], x = df_spa_nowarnings.pc2,\n",
    "                y = df_spa_nowarnings.spa_spectilt_estimate, color = \"g\")\n",
    "axes[2].errorbar(df_spa_nowarnings.pc2,\n",
    "                 df_spa_nowarnings.spa_spectilt_estimate,\n",
    "                 yerr=2*df_spa_nowarnings.spa_spectilt_std, fmt=' ',\n",
    "            zorder=-1, color = \"g\")\n",
    "axes[2].set_title(\"Spectral tilt\")\n",
    "axes[0].set_xlabel(\"\")\n",
    "axes[1].set_xlabel(\"\")\n",
    "axes[2].set_xlabel(\"\")\n",
    "axes[0].set_ylabel(\"Model estimate\")\n",
    "fig.supxlabel(\"Second principal component (Catalan affinity)\")\n",
    "fig.suptitle(\"Spanish perception\")\n",
    "\n",
    "plt.ylim([-4,6])\n",
    "plt.savefig('figures/spa_estimates_pc2.jpg', format='jpg', dpi = 800)\n",
    "plt.show();"
   ]
  },
  {
   "cell_type": "code",
   "execution_count": 235,
   "id": "5708e574-5325-4121-90b4-a128f9357782",
   "metadata": {},
   "outputs": [
    {
     "data": {
      "text/plain": [
       "Index(['partID', 'cat_vowel_estimate', 'cat_duration_estimate',\n",
       "       'cat_spectilt_estimate', 'spa_vowel_estimate', 'spa_duration_estimate',\n",
       "       'spa_spectilt_estimate', 'eng_vowel_estimate', 'eng_duration_estimate',\n",
       "       'eng_spectilt_estimate', 'Age', 'Education', 'Education_6_TEXT',\n",
       "       'Finished', 'Gender', 'Q1.1_1', 'Q1.1_2', 'Q1.1_3', 'Q10.1_1',\n",
       "       'Q10.1_2', 'Q10.1_3', 'Q10.1_4', 'Q11.1_1', 'Q11.1_2', 'Q11.1_3',\n",
       "       'Q11.1_4', 'Q12_1', 'Q12_2', 'Q12_3', 'Q13_1', 'Q13_2', 'Q13_3',\n",
       "       'Q14_1', 'Q14_2', 'Q14_3', 'Q15_1', 'Q15_2', 'Q15_3', 'Q16_1', 'Q16_2',\n",
       "       'Q16_3', 'Q16_5_1', 'Q16_5_2', 'Q16_5_3', 'Q17_1', 'Q17_2', 'Q17_3',\n",
       "       'Q18_1', 'Q18_2', 'Q18_3', 'Q2.1_1', 'Q2.1_2', 'Q2.1_3', 'Q3.1_1',\n",
       "       'Q3.1_2', 'Q3.1_3', 'Q4.1_1', 'Q4.1_2', 'Q4.1_3', 'Q5.1_1', 'Q5.1_2',\n",
       "       'Q5.1_3', 'Q6.1_1', 'Q6.1_2', 'Q6.1_3', 'Q7.1_1', 'Q7.1_2', 'Q7.1_3',\n",
       "       'Q7.1_4', 'Q8.1_1', 'Q8.1_2', 'Q8.1_3', 'Q8.1_4', 'Q9.1_1', 'Q9.1_2',\n",
       "       'Q9.1_3', 'Q9.1_4', 'Residence', 'prof', 'lang_profile'],\n",
       "      dtype='object')"
      ]
     },
     "execution_count": 235,
     "metadata": {},
     "output_type": "execute_result"
    }
   ],
   "source": [
    "df_tri.columns"
   ]
  },
  {
   "cell_type": "code",
   "execution_count": 5,
   "id": "a7f7e205-7c69-4ab3-9f18-0cb36bcc3b46",
   "metadata": {},
   "outputs": [],
   "source": [
    "df_tri = df_tri.drop(['Education_6_TEXT', 'Finished', 'Residence', 'prof', 'partID'], axis = 1)"
   ]
  },
  {
   "cell_type": "markdown",
   "id": "48181b88-5b2a-4db9-a670-56eb8289aa42",
   "metadata": {},
   "source": [
    "Replace some text with numeric values"
   ]
  },
  {
   "cell_type": "code",
   "execution_count": 237,
   "id": "62e09953-e0d7-4c9c-bd26-8bb50d7665f4",
   "metadata": {},
   "outputs": [],
   "source": [
    "# Age of acquisition\n",
    "# Since birth to 0\n",
    "df_tri.loc[df_tri['Q1.1_3']=='Since birth', 'Q1.1_3'] = 0\n",
    "df_tri.loc[df_tri['Q1.1_2']=='Since birth', 'Q1.1_2'] = 0\n",
    "df_tri.loc[df_tri['Q1.1_1']=='Since birth', 'Q1.1_1'] = 0\n",
    "# 20+ to 20??\n",
    "df_tri.loc[df_tri['Q1.1_2']=='20+', 'Q1.1_2'] = 20\n",
    "df_tri.loc[df_tri['Q1.1_1']=='20+', 'Q1.1_1'] = 20"
   ]
  },
  {
   "cell_type": "code",
   "execution_count": 238,
   "id": "21e492a8-4186-4068-838e-e82cc36e5445",
   "metadata": {},
   "outputs": [],
   "source": [
    "# Age of comfort\n",
    "# As early as I can remember to 0\n",
    "df_tri.loc[df_tri['Q2.1_1']=='As early as I can remember', 'Q2.1_1'] = 0\n",
    "df_tri.loc[df_tri['Q2.1_2']=='As early as I can remember', 'Q2.1_2'] = 0\n",
    "df_tri.loc[df_tri['Q2.1_3']=='As early as I can remember', 'Q2.1_3'] = 0\n",
    "# 20+ to 20??\n",
    "df_tri.loc[df_tri['Q2.1_3']=='20+', 'Q2.1_3'] = 20\n",
    "df_tri.loc[df_tri['Q2.1_2']=='20+', 'Q2.1_2'] = 20\n",
    "df_tri.loc[df_tri['Q2.1_1']=='20+', 'Q2.1_1'] = 20\n",
    "# Still not comfortable to 30??\n",
    "df_tri.loc[df_tri['Q2.1_3']=='Still not comfortable', 'Q2.1_3'] = 30\n",
    "df_tri.loc[df_tri['Q2.1_2']=='Still not comfortable', 'Q2.1_2'] = 30\n",
    "df_tri.loc[df_tri['Q2.1_1']=='Still not comfortable', 'Q2.1_1'] = 30"
   ]
  },
  {
   "cell_type": "code",
   "execution_count": 239,
   "id": "8f79504f-f007-4851-95c3-ee5130c7ac93",
   "metadata": {},
   "outputs": [],
   "source": [
    "# Years of classes\n",
    "# 20+ to 20??\n",
    "df_tri.loc[df_tri['Q3.1_3']=='20+', 'Q3.1_3'] = 20\n",
    "df_tri.loc[df_tri['Q3.1_2']=='20+', 'Q3.1_2'] = 20\n",
    "df_tri.loc[df_tri['Q3.1_1']=='20+', 'Q3.1_1'] = 20"
   ]
  },
  {
   "cell_type": "code",
   "execution_count": 240,
   "id": "3e06a7f6-95e5-4ae0-aa92-7fded74b8452",
   "metadata": {},
   "outputs": [],
   "source": [
    "# Years spent in a region, family, and work that speaks the language\n",
    "# 20+ to 20??\n",
    "df_tri.loc[df_tri['Q4.1_3']=='20+', 'Q4.1_3'] = 20\n",
    "df_tri.loc[df_tri['Q4.1_2']=='20+', 'Q4.1_2'] = 20\n",
    "df_tri.loc[df_tri['Q4.1_1']=='20+', 'Q4.1_1'] = 20\n",
    "\n",
    "df_tri.loc[df_tri['Q5.1_3']=='20+', 'Q5.1_3'] = 20\n",
    "df_tri.loc[df_tri['Q5.1_2']=='20+', 'Q5.1_2'] = 20\n",
    "df_tri.loc[df_tri['Q5.1_1']=='20+', 'Q5.1_1'] = 20\n",
    "\n",
    "df_tri.loc[df_tri['Q6.1_3']=='20+', 'Q6.1_3'] = 20\n",
    "df_tri.loc[df_tri['Q6.1_2']=='20+', 'Q6.1_2'] = 20\n",
    "df_tri.loc[df_tri['Q6.1_1']=='20+', 'Q6.1_1'] = 20"
   ]
  },
  {
   "cell_type": "code",
   "execution_count": 241,
   "id": "c26812cc-e2ae-4f16-91c8-8e6ac0b0cd7e",
   "metadata": {},
   "outputs": [],
   "source": [
    "# convert to numeric\n",
    "df_tri[['Q1.1_1', 'Q1.1_2', 'Q1.1_3', 'Q2.1_1', 'Q2.1_2',\n",
    "        'Q2.1_3', 'Q3.1_1', 'Q3.1_2', 'Q3.1_3', 'Q4.1_1',\n",
    "       'Q4.1_2', 'Q4.1_3', 'Q5.1_1', 'Q5.1_2', 'Q5.1_3',\n",
    "       'Q6.1_1', 'Q6.1_2', 'Q6.1_3', 'Q7.1_1', 'Q7.1_2',\n",
    "       'Q7.1_3', 'Q7.1_4', 'Q8.1_1', 'Q8.1_2', 'Q8.1_3', 'Q8.1_4', 'Q9.1_1',\n",
    "       'Q9.1_2', 'Q9.1_3', 'Q9.1_4', 'Q10.1_1', 'Q10.1_2', 'Q10.1_3', 'Q10.1_4',\n",
    "       'Q11.1_1', 'Q11.1_2', 'Q11.1_3', 'Q11.1_4', 'Q12_1', 'Q12_2',\n",
    "       'Q12_3', 'Q13_1', 'Q13_2', 'Q13_3', 'Q14_1',\n",
    "       'Q14_2', 'Q14_3', 'Q15_1', 'Q15_2', 'Q15_3',\n",
    "       'Q16_1', 'Q16_2', 'Q16_3', 'Q17_1', 'Q17_2',\n",
    "       'Q17_3', 'Q18_1', 'Q18_2', 'Q18_3']] = df_tri[['Q1.1_1', 'Q1.1_2', 'Q1.1_3', 'Q2.1_1', 'Q2.1_2',\n",
    "        'Q2.1_3', 'Q3.1_1', 'Q3.1_2', 'Q3.1_3', 'Q4.1_1',\n",
    "       'Q4.1_2', 'Q4.1_3', 'Q5.1_1', 'Q5.1_2', 'Q5.1_3',\n",
    "       'Q6.1_1', 'Q6.1_2', 'Q6.1_3', 'Q7.1_1', 'Q7.1_2',\n",
    "       'Q7.1_3', 'Q7.1_4', 'Q8.1_1', 'Q8.1_2', 'Q8.1_3', 'Q8.1_4', 'Q9.1_1',\n",
    "       'Q9.1_2', 'Q9.1_3', 'Q9.1_4', 'Q10.1_1', 'Q10.1_2', 'Q10.1_3', 'Q10.1_4',\n",
    "       'Q11.1_1', 'Q11.1_2', 'Q11.1_3', 'Q11.1_4', 'Q12_1', 'Q12_2',\n",
    "       'Q12_3', 'Q13_1', 'Q13_2', 'Q13_3', 'Q14_1',\n",
    "       'Q14_2', 'Q14_3', 'Q15_1', 'Q15_2', 'Q15_3',\n",
    "       'Q16_1', 'Q16_2', 'Q16_3', 'Q17_1', 'Q17_2',\n",
    "       'Q17_3', 'Q18_1', 'Q18_2', 'Q18_3']].apply(pd.to_numeric)"
   ]
  },
  {
   "cell_type": "markdown",
   "id": "9c8a59ff-9711-4977-815f-4ecce70fdf3f",
   "metadata": {},
   "source": [
    "Scale all the numeric columns"
   ]
  },
  {
   "cell_type": "code",
   "execution_count": 242,
   "id": "d105d334-07ac-46d9-8969-36946ddce3a2",
   "metadata": {},
   "outputs": [
    {
     "name": "stdout",
     "output_type": "stream",
     "text": [
      "   cat_vowel_estimate  cat_duration_estimate  cat_spectilt_estimate  \\\n",
      "1            0.203652              -0.081255              -0.270653   \n",
      "2            0.220428               0.188658               0.141102   \n",
      "3            0.311653              -0.242160               0.099397   \n",
      "5            2.061576               0.626571               0.623654   \n",
      "6            0.204621               0.140916              -0.003427   \n",
      "\n",
      "   spa_vowel_estimate  spa_duration_estimate  spa_spectilt_estimate  \\\n",
      "1            1.129862               0.083501              -0.063743   \n",
      "2            0.381606              -0.014033              -0.154940   \n",
      "3            0.181678              -0.040163               0.060670   \n",
      "5            2.152898               0.009833              -0.070415   \n",
      "6           -0.031670              -0.141975               0.080674   \n",
      "\n",
      "   eng_vowel_estimate  eng_duration_estimate  eng_spectilt_estimate  Age  ...  \\\n",
      "1            0.675437               1.685695               0.247747   26  ...   \n",
      "2           -0.219157               2.033453              -0.080515   26  ...   \n",
      "3            1.306068               0.665883               0.040604   31  ...   \n",
      "5            0.287775               2.348333               0.043087   22  ...   \n",
      "6            0.566855               0.478650               0.040055   27  ...   \n",
      "\n",
      "  Q7.1_4 Q8.1_1  Q8.1_2  Q8.1_3  Q8.1_4  Q9.1_1  Q9.1_2  Q9.1_3  Q9.1_4  \\\n",
      "1    0.0   60.0    10.0    30.0     0.0    80.0     0.0    20.0     0.0   \n",
      "2    0.0   20.0    30.0    50.0     0.0    10.0     0.0    90.0     0.0   \n",
      "3    0.0   20.0     0.0    80.0     0.0    40.0    40.0    20.0     0.0   \n",
      "5   10.0   20.0    80.0     0.0     0.0    30.0    50.0     0.0    20.0   \n",
      "6    0.0    0.0     0.0   100.0     0.0     0.0    10.0    90.0     0.0   \n",
      "\n",
      "   lang_profile  \n",
      "1        l1_eng  \n",
      "2        l1_eng  \n",
      "3        l1_eng  \n",
      "5        l3_eng  \n",
      "6        l1_eng  \n",
      "\n",
      "[5 rows x 75 columns]\n"
     ]
    },
    {
     "data": {
      "text/html": [
       "<div>\n",
       "<style scoped>\n",
       "    .dataframe tbody tr th:only-of-type {\n",
       "        vertical-align: middle;\n",
       "    }\n",
       "\n",
       "    .dataframe tbody tr th {\n",
       "        vertical-align: top;\n",
       "    }\n",
       "\n",
       "    .dataframe thead th {\n",
       "        text-align: right;\n",
       "    }\n",
       "</style>\n",
       "<table border=\"1\" class=\"dataframe\">\n",
       "  <thead>\n",
       "    <tr style=\"text-align: right;\">\n",
       "      <th></th>\n",
       "      <th>cat_vowel_estimate</th>\n",
       "      <th>cat_duration_estimate</th>\n",
       "      <th>cat_spectilt_estimate</th>\n",
       "      <th>spa_vowel_estimate</th>\n",
       "      <th>spa_duration_estimate</th>\n",
       "      <th>spa_spectilt_estimate</th>\n",
       "      <th>eng_vowel_estimate</th>\n",
       "      <th>eng_duration_estimate</th>\n",
       "      <th>eng_spectilt_estimate</th>\n",
       "      <th>Age</th>\n",
       "      <th>...</th>\n",
       "      <th>Q7.1_4</th>\n",
       "      <th>Q8.1_1</th>\n",
       "      <th>Q8.1_2</th>\n",
       "      <th>Q8.1_3</th>\n",
       "      <th>Q8.1_4</th>\n",
       "      <th>Q9.1_1</th>\n",
       "      <th>Q9.1_2</th>\n",
       "      <th>Q9.1_3</th>\n",
       "      <th>Q9.1_4</th>\n",
       "      <th>lang_profile</th>\n",
       "    </tr>\n",
       "  </thead>\n",
       "  <tbody>\n",
       "    <tr>\n",
       "      <th>1</th>\n",
       "      <td>-0.557051</td>\n",
       "      <td>-0.970298</td>\n",
       "      <td>-1.100033</td>\n",
       "      <td>0.392287</td>\n",
       "      <td>0.022822</td>\n",
       "      <td>-0.521566</td>\n",
       "      <td>0.329939</td>\n",
       "      <td>0.176191</td>\n",
       "      <td>-0.176232</td>\n",
       "      <td>-0.118850</td>\n",
       "      <td>...</td>\n",
       "      <td>-0.330925</td>\n",
       "      <td>1.086230</td>\n",
       "      <td>-0.518211</td>\n",
       "      <td>-0.364299</td>\n",
       "      <td>-0.184988</td>\n",
       "      <td>2.190668</td>\n",
       "      <td>-0.770172</td>\n",
       "      <td>-0.972048</td>\n",
       "      <td>-0.360769</td>\n",
       "      <td>l1_eng</td>\n",
       "    </tr>\n",
       "    <tr>\n",
       "      <th>2</th>\n",
       "      <td>-0.532882</td>\n",
       "      <td>-0.096095</td>\n",
       "      <td>-0.175774</td>\n",
       "      <td>-0.524716</td>\n",
       "      <td>-0.003839</td>\n",
       "      <td>-1.114566</td>\n",
       "      <td>-0.013976</td>\n",
       "      <td>0.268833</td>\n",
       "      <td>-0.266556</td>\n",
       "      <td>-0.118850</td>\n",
       "      <td>...</td>\n",
       "      <td>-0.330925</td>\n",
       "      <td>-0.053421</td>\n",
       "      <td>-0.044418</td>\n",
       "      <td>0.072860</td>\n",
       "      <td>-0.184988</td>\n",
       "      <td>-0.495699</td>\n",
       "      <td>-0.770172</td>\n",
       "      <td>1.108258</td>\n",
       "      <td>-0.360769</td>\n",
       "      <td>l1_eng</td>\n",
       "    </tr>\n",
       "    <tr>\n",
       "      <th>3</th>\n",
       "      <td>-0.401457</td>\n",
       "      <td>-1.491445</td>\n",
       "      <td>-0.269389</td>\n",
       "      <td>-0.769731</td>\n",
       "      <td>-0.010981</td>\n",
       "      <td>0.287415</td>\n",
       "      <td>0.572377</td>\n",
       "      <td>-0.095486</td>\n",
       "      <td>-0.233229</td>\n",
       "      <td>0.612534</td>\n",
       "      <td>...</td>\n",
       "      <td>-0.330925</td>\n",
       "      <td>-0.053421</td>\n",
       "      <td>-0.755107</td>\n",
       "      <td>0.728599</td>\n",
       "      <td>-0.184988</td>\n",
       "      <td>0.655602</td>\n",
       "      <td>0.786386</td>\n",
       "      <td>-0.972048</td>\n",
       "      <td>-0.360769</td>\n",
       "      <td>l1_eng</td>\n",
       "    </tr>\n",
       "    <tr>\n",
       "      <th>5</th>\n",
       "      <td>2.119610</td>\n",
       "      <td>1.322238</td>\n",
       "      <td>0.907401</td>\n",
       "      <td>1.646037</td>\n",
       "      <td>0.002685</td>\n",
       "      <td>-0.564950</td>\n",
       "      <td>0.180907</td>\n",
       "      <td>0.352717</td>\n",
       "      <td>-0.232546</td>\n",
       "      <td>-0.703958</td>\n",
       "      <td>...</td>\n",
       "      <td>0.603451</td>\n",
       "      <td>-0.053421</td>\n",
       "      <td>1.140063</td>\n",
       "      <td>-1.020038</td>\n",
       "      <td>-0.184988</td>\n",
       "      <td>0.271835</td>\n",
       "      <td>1.175525</td>\n",
       "      <td>-1.566421</td>\n",
       "      <td>0.688741</td>\n",
       "      <td>l3_eng</td>\n",
       "    </tr>\n",
       "    <tr>\n",
       "      <th>6</th>\n",
       "      <td>-0.555655</td>\n",
       "      <td>-0.250723</td>\n",
       "      <td>-0.500196</td>\n",
       "      <td>-1.031194</td>\n",
       "      <td>-0.038812</td>\n",
       "      <td>0.417493</td>\n",
       "      <td>0.288196</td>\n",
       "      <td>-0.145365</td>\n",
       "      <td>-0.233380</td>\n",
       "      <td>0.027427</td>\n",
       "      <td>...</td>\n",
       "      <td>-0.330925</td>\n",
       "      <td>-0.623247</td>\n",
       "      <td>-0.755107</td>\n",
       "      <td>1.165758</td>\n",
       "      <td>-0.184988</td>\n",
       "      <td>-0.879465</td>\n",
       "      <td>-0.381032</td>\n",
       "      <td>1.108258</td>\n",
       "      <td>-0.360769</td>\n",
       "      <td>l1_eng</td>\n",
       "    </tr>\n",
       "  </tbody>\n",
       "</table>\n",
       "<p>5 rows × 75 columns</p>\n",
       "</div>"
      ],
      "text/plain": [
       "   cat_vowel_estimate  cat_duration_estimate  cat_spectilt_estimate  \\\n",
       "1           -0.557051              -0.970298              -1.100033   \n",
       "2           -0.532882              -0.096095              -0.175774   \n",
       "3           -0.401457              -1.491445              -0.269389   \n",
       "5            2.119610               1.322238               0.907401   \n",
       "6           -0.555655              -0.250723              -0.500196   \n",
       "\n",
       "   spa_vowel_estimate  spa_duration_estimate  spa_spectilt_estimate  \\\n",
       "1            0.392287               0.022822              -0.521566   \n",
       "2           -0.524716              -0.003839              -1.114566   \n",
       "3           -0.769731              -0.010981               0.287415   \n",
       "5            1.646037               0.002685              -0.564950   \n",
       "6           -1.031194              -0.038812               0.417493   \n",
       "\n",
       "   eng_vowel_estimate  eng_duration_estimate  eng_spectilt_estimate       Age  \\\n",
       "1            0.329939               0.176191              -0.176232 -0.118850   \n",
       "2           -0.013976               0.268833              -0.266556 -0.118850   \n",
       "3            0.572377              -0.095486              -0.233229  0.612534   \n",
       "5            0.180907               0.352717              -0.232546 -0.703958   \n",
       "6            0.288196              -0.145365              -0.233380  0.027427   \n",
       "\n",
       "   ...    Q7.1_4    Q8.1_1    Q8.1_2    Q8.1_3    Q8.1_4    Q9.1_1    Q9.1_2  \\\n",
       "1  ... -0.330925  1.086230 -0.518211 -0.364299 -0.184988  2.190668 -0.770172   \n",
       "2  ... -0.330925 -0.053421 -0.044418  0.072860 -0.184988 -0.495699 -0.770172   \n",
       "3  ... -0.330925 -0.053421 -0.755107  0.728599 -0.184988  0.655602  0.786386   \n",
       "5  ...  0.603451 -0.053421  1.140063 -1.020038 -0.184988  0.271835  1.175525   \n",
       "6  ... -0.330925 -0.623247 -0.755107  1.165758 -0.184988 -0.879465 -0.381032   \n",
       "\n",
       "     Q9.1_3    Q9.1_4  lang_profile  \n",
       "1 -0.972048 -0.360769        l1_eng  \n",
       "2  1.108258 -0.360769        l1_eng  \n",
       "3 -0.972048 -0.360769        l1_eng  \n",
       "5 -1.566421  0.688741        l3_eng  \n",
       "6  1.108258 -0.360769        l1_eng  \n",
       "\n",
       "[5 rows x 75 columns]"
      ]
     },
     "execution_count": 242,
     "metadata": {},
     "output_type": "execute_result"
    }
   ],
   "source": [
    "from sklearn.preprocessing import StandardScaler\n",
    "num_cols = df_tri.columns[df_tri.dtypes.apply(lambda c: np.issubdtype(c, np.number))]\n",
    "scaler = StandardScaler()\n",
    "df_tri[num_cols] = scaler.fit_transform(df_tri[num_cols])\n",
    "df_tri.head()"
   ]
  },
  {
   "cell_type": "markdown",
   "id": "1e3b5fd8-015c-41ac-9e6f-da8661fc6dfa",
   "metadata": {},
   "source": [
    "Use one-hot encoding for the categorical variables."
   ]
  },
  {
   "cell_type": "code",
   "execution_count": 243,
   "id": "e296c400-4117-4b73-a7a6-c3be668031ab",
   "metadata": {},
   "outputs": [
    {
     "data": {
      "text/html": [
       "<div>\n",
       "<style scoped>\n",
       "    .dataframe tbody tr th:only-of-type {\n",
       "        vertical-align: middle;\n",
       "    }\n",
       "\n",
       "    .dataframe tbody tr th {\n",
       "        vertical-align: top;\n",
       "    }\n",
       "\n",
       "    .dataframe thead th {\n",
       "        text-align: right;\n",
       "    }\n",
       "</style>\n",
       "<table border=\"1\" class=\"dataframe\">\n",
       "  <thead>\n",
       "    <tr style=\"text-align: right;\">\n",
       "      <th></th>\n",
       "      <th>cat_vowel_estimate</th>\n",
       "      <th>cat_duration_estimate</th>\n",
       "      <th>cat_spectilt_estimate</th>\n",
       "      <th>spa_vowel_estimate</th>\n",
       "      <th>spa_duration_estimate</th>\n",
       "      <th>spa_spectilt_estimate</th>\n",
       "      <th>eng_vowel_estimate</th>\n",
       "      <th>eng_duration_estimate</th>\n",
       "      <th>eng_spectilt_estimate</th>\n",
       "      <th>Age</th>\n",
       "      <th>...</th>\n",
       "      <th>Education_Doctorate</th>\n",
       "      <th>Education_High school</th>\n",
       "      <th>Education_Masters</th>\n",
       "      <th>Education_Other:</th>\n",
       "      <th>Education_Professional training</th>\n",
       "      <th>Gender_Female</th>\n",
       "      <th>Gender_Male</th>\n",
       "      <th>Gender_Other</th>\n",
       "      <th>lang_profile_l1_eng</th>\n",
       "      <th>lang_profile_l3_eng</th>\n",
       "    </tr>\n",
       "  </thead>\n",
       "  <tbody>\n",
       "    <tr>\n",
       "      <th>1</th>\n",
       "      <td>-0.557051</td>\n",
       "      <td>-0.970298</td>\n",
       "      <td>-1.100033</td>\n",
       "      <td>0.392287</td>\n",
       "      <td>0.022822</td>\n",
       "      <td>-0.521566</td>\n",
       "      <td>0.329939</td>\n",
       "      <td>0.176191</td>\n",
       "      <td>-0.176232</td>\n",
       "      <td>-0.118850</td>\n",
       "      <td>...</td>\n",
       "      <td>0</td>\n",
       "      <td>0</td>\n",
       "      <td>0</td>\n",
       "      <td>0</td>\n",
       "      <td>0</td>\n",
       "      <td>0</td>\n",
       "      <td>0</td>\n",
       "      <td>1</td>\n",
       "      <td>1</td>\n",
       "      <td>0</td>\n",
       "    </tr>\n",
       "    <tr>\n",
       "      <th>2</th>\n",
       "      <td>-0.532882</td>\n",
       "      <td>-0.096095</td>\n",
       "      <td>-0.175774</td>\n",
       "      <td>-0.524716</td>\n",
       "      <td>-0.003839</td>\n",
       "      <td>-1.114566</td>\n",
       "      <td>-0.013976</td>\n",
       "      <td>0.268833</td>\n",
       "      <td>-0.266556</td>\n",
       "      <td>-0.118850</td>\n",
       "      <td>...</td>\n",
       "      <td>0</td>\n",
       "      <td>0</td>\n",
       "      <td>0</td>\n",
       "      <td>0</td>\n",
       "      <td>0</td>\n",
       "      <td>1</td>\n",
       "      <td>0</td>\n",
       "      <td>0</td>\n",
       "      <td>1</td>\n",
       "      <td>0</td>\n",
       "    </tr>\n",
       "    <tr>\n",
       "      <th>3</th>\n",
       "      <td>-0.401457</td>\n",
       "      <td>-1.491445</td>\n",
       "      <td>-0.269389</td>\n",
       "      <td>-0.769731</td>\n",
       "      <td>-0.010981</td>\n",
       "      <td>0.287415</td>\n",
       "      <td>0.572377</td>\n",
       "      <td>-0.095486</td>\n",
       "      <td>-0.233229</td>\n",
       "      <td>0.612534</td>\n",
       "      <td>...</td>\n",
       "      <td>0</td>\n",
       "      <td>0</td>\n",
       "      <td>0</td>\n",
       "      <td>0</td>\n",
       "      <td>0</td>\n",
       "      <td>0</td>\n",
       "      <td>1</td>\n",
       "      <td>0</td>\n",
       "      <td>1</td>\n",
       "      <td>0</td>\n",
       "    </tr>\n",
       "    <tr>\n",
       "      <th>5</th>\n",
       "      <td>2.119610</td>\n",
       "      <td>1.322238</td>\n",
       "      <td>0.907401</td>\n",
       "      <td>1.646037</td>\n",
       "      <td>0.002685</td>\n",
       "      <td>-0.564950</td>\n",
       "      <td>0.180907</td>\n",
       "      <td>0.352717</td>\n",
       "      <td>-0.232546</td>\n",
       "      <td>-0.703958</td>\n",
       "      <td>...</td>\n",
       "      <td>0</td>\n",
       "      <td>0</td>\n",
       "      <td>0</td>\n",
       "      <td>0</td>\n",
       "      <td>0</td>\n",
       "      <td>0</td>\n",
       "      <td>1</td>\n",
       "      <td>0</td>\n",
       "      <td>0</td>\n",
       "      <td>1</td>\n",
       "    </tr>\n",
       "    <tr>\n",
       "      <th>6</th>\n",
       "      <td>-0.555655</td>\n",
       "      <td>-0.250723</td>\n",
       "      <td>-0.500196</td>\n",
       "      <td>-1.031194</td>\n",
       "      <td>-0.038812</td>\n",
       "      <td>0.417493</td>\n",
       "      <td>0.288196</td>\n",
       "      <td>-0.145365</td>\n",
       "      <td>-0.233380</td>\n",
       "      <td>0.027427</td>\n",
       "      <td>...</td>\n",
       "      <td>0</td>\n",
       "      <td>0</td>\n",
       "      <td>1</td>\n",
       "      <td>0</td>\n",
       "      <td>0</td>\n",
       "      <td>1</td>\n",
       "      <td>0</td>\n",
       "      <td>0</td>\n",
       "      <td>1</td>\n",
       "      <td>0</td>\n",
       "    </tr>\n",
       "  </tbody>\n",
       "</table>\n",
       "<p>5 rows × 83 columns</p>\n",
       "</div>"
      ],
      "text/plain": [
       "   cat_vowel_estimate  cat_duration_estimate  cat_spectilt_estimate  \\\n",
       "1           -0.557051              -0.970298              -1.100033   \n",
       "2           -0.532882              -0.096095              -0.175774   \n",
       "3           -0.401457              -1.491445              -0.269389   \n",
       "5            2.119610               1.322238               0.907401   \n",
       "6           -0.555655              -0.250723              -0.500196   \n",
       "\n",
       "   spa_vowel_estimate  spa_duration_estimate  spa_spectilt_estimate  \\\n",
       "1            0.392287               0.022822              -0.521566   \n",
       "2           -0.524716              -0.003839              -1.114566   \n",
       "3           -0.769731              -0.010981               0.287415   \n",
       "5            1.646037               0.002685              -0.564950   \n",
       "6           -1.031194              -0.038812               0.417493   \n",
       "\n",
       "   eng_vowel_estimate  eng_duration_estimate  eng_spectilt_estimate       Age  \\\n",
       "1            0.329939               0.176191              -0.176232 -0.118850   \n",
       "2           -0.013976               0.268833              -0.266556 -0.118850   \n",
       "3            0.572377              -0.095486              -0.233229  0.612534   \n",
       "5            0.180907               0.352717              -0.232546 -0.703958   \n",
       "6            0.288196              -0.145365              -0.233380  0.027427   \n",
       "\n",
       "   ...  Education_Doctorate  Education_High school  Education_Masters  \\\n",
       "1  ...                    0                      0                  0   \n",
       "2  ...                    0                      0                  0   \n",
       "3  ...                    0                      0                  0   \n",
       "5  ...                    0                      0                  0   \n",
       "6  ...                    0                      0                  1   \n",
       "\n",
       "   Education_Other:  Education_Professional training  Gender_Female  \\\n",
       "1                 0                                0              0   \n",
       "2                 0                                0              1   \n",
       "3                 0                                0              0   \n",
       "5                 0                                0              0   \n",
       "6                 0                                0              1   \n",
       "\n",
       "   Gender_Male  Gender_Other  lang_profile_l1_eng  lang_profile_l3_eng  \n",
       "1            0             1                    1                    0  \n",
       "2            0             0                    1                    0  \n",
       "3            1             0                    1                    0  \n",
       "5            1             0                    0                    1  \n",
       "6            0             0                    1                    0  \n",
       "\n",
       "[5 rows x 83 columns]"
      ]
     },
     "execution_count": 243,
     "metadata": {},
     "output_type": "execute_result"
    }
   ],
   "source": [
    "df_tri = pd.get_dummies(data=df_tri)\n",
    "df_tri.head()"
   ]
  },
  {
   "cell_type": "code",
   "execution_count": 244,
   "id": "7381aeb1-3d2e-4935-8dd9-522af34c8e29",
   "metadata": {},
   "outputs": [
    {
     "name": "stdout",
     "output_type": "stream",
     "text": [
      "['cat_vowel_estimate', 'cat_duration_estimate', 'cat_spectilt_estimate', 'spa_vowel_estimate', 'spa_duration_estimate', 'spa_spectilt_estimate', 'eng_vowel_estimate', 'eng_duration_estimate', 'eng_spectilt_estimate', 'Age', 'Q1.1_1', 'Q1.1_2', 'Q1.1_3', 'Q10.1_1', 'Q10.1_2', 'Q10.1_3', 'Q10.1_4', 'Q11.1_1', 'Q11.1_2', 'Q11.1_3', 'Q11.1_4', 'Q12_1', 'Q12_2', 'Q12_3', 'Q13_1', 'Q13_2', 'Q13_3', 'Q14_1', 'Q14_2', 'Q14_3', 'Q15_1', 'Q15_2', 'Q15_3', 'Q16_1', 'Q16_2', 'Q16_3', 'Q16_5_1', 'Q16_5_2', 'Q16_5_3', 'Q17_1', 'Q17_2', 'Q17_3', 'Q18_1', 'Q18_2', 'Q18_3', 'Q2.1_1', 'Q2.1_2', 'Q2.1_3', 'Q3.1_1', 'Q3.1_2', 'Q3.1_3', 'Q4.1_1', 'Q4.1_2', 'Q4.1_3', 'Q5.1_1', 'Q5.1_2', 'Q5.1_3', 'Q6.1_1', 'Q6.1_2', 'Q6.1_3', 'Q7.1_1', 'Q7.1_2', 'Q7.1_3', 'Q7.1_4', 'Q8.1_1', 'Q8.1_2', 'Q8.1_3', 'Q8.1_4', 'Q9.1_1', 'Q9.1_2', 'Q9.1_3', 'Q9.1_4', 'Education_College', 'Education_Doctorate', 'Education_High school', 'Education_Masters', 'Education_Other:', 'Education_Professional training', 'Gender_Female', 'Gender_Male', 'Gender_Other', 'lang_profile_l1_eng', 'lang_profile_l3_eng']\n"
     ]
    }
   ],
   "source": [
    "print(df_tri.columns.tolist())"
   ]
  },
  {
   "cell_type": "code",
   "execution_count": 245,
   "id": "cc10d4a6-d902-425f-8c66-081e613bf7c5",
   "metadata": {},
   "outputs": [
    {
     "data": {
      "text/plain": [
       "False"
      ]
     },
     "execution_count": 245,
     "metadata": {},
     "output_type": "execute_result"
    }
   ],
   "source": [
    "df_tri = df_tri.dropna()\n",
    "df_tri.isnull().values.any()"
   ]
  },
  {
   "cell_type": "code",
   "execution_count": 185,
   "id": "ac87e65d-f7bc-4c58-bf1b-f08a56fbafd0",
   "metadata": {},
   "outputs": [],
   "source": [
    "df_l1eng = df_tri[df_tri['lang_profile_l1_eng']==1].copy()\n",
    "df_l3eng = df_tri[df_tri['lang_profile_l1_eng']==0].copy()"
   ]
  },
  {
   "cell_type": "markdown",
   "id": "94420ca9-07c1-478f-aaac-9992c7fe3f3d",
   "metadata": {},
   "source": [
    "## Create sets of features and predicted values for each acoustic measure"
   ]
  },
  {
   "cell_type": "code",
   "execution_count": 246,
   "id": "238e0bda-956d-48f9-803a-df1e74b20d29",
   "metadata": {},
   "outputs": [],
   "source": [
    "X_eng_vowel = df_tri.drop(['eng_vowel_estimate'], axis = 1)\n",
    "Y_eng_vowel = df_tri['eng_vowel_estimate']\n",
    "\n",
    "X_spa_vowel = df_tri.drop(['spa_vowel_estimate'], axis = 1)\n",
    "Y_spa_vowel = df_tri['spa_vowel_estimate']\n",
    "\n",
    "X_cat_vowel = df_tri.drop(['cat_vowel_estimate'], axis = 1)\n",
    "Y_cat_vowel = df_tri['cat_vowel_estimate']\n",
    "\n",
    "X_eng_dur = df_tri.drop(['eng_duration_estimate'], axis = 1)\n",
    "Y_eng_dur = df_tri['eng_duration_estimate']\n",
    "\n",
    "X_spa_dur = df_tri.drop(['spa_duration_estimate'], axis = 1)\n",
    "Y_spa_dur = df_tri['spa_duration_estimate']\n",
    "\n",
    "X_cat_dur = df_tri.drop(['cat_duration_estimate'], axis = 1)\n",
    "Y_cat_dur = df_tri['cat_duration_estimate']\n",
    "\n",
    "X_eng_st = df_tri.drop(['eng_spectilt_estimate'], axis = 1)\n",
    "Y_eng_st = df_tri['eng_spectilt_estimate']\n",
    "\n",
    "X_spa_st = df_tri.drop(['spa_spectilt_estimate'], axis = 1)\n",
    "Y_spa_st = df_tri['spa_spectilt_estimate']\n",
    "\n",
    "X_cat_st = df_tri.drop(['cat_spectilt_estimate'], axis = 1)\n",
    "Y_cat_st = df_tri['cat_spectilt_estimate']"
   ]
  },
  {
   "cell_type": "markdown",
   "id": "f8d24567-bd07-497a-8a7d-d367e019b9df",
   "metadata": {},
   "source": [
    "Split into train, test, validate sets"
   ]
  },
  {
   "cell_type": "code",
   "execution_count": 112,
   "id": "54d25694-2ff0-4a02-bcf9-1ff1485b948b",
   "metadata": {},
   "outputs": [],
   "source": [
    "from sklearn.model_selection import train_test_split"
   ]
  },
  {
   "cell_type": "code",
   "execution_count": 151,
   "id": "fa25ac8d-98c5-4a77-a899-8d369038f7c6",
   "metadata": {},
   "outputs": [],
   "source": [
    "# set the random seed\n",
    "np.random.seed(10)\n",
    "\n",
    "# split the data\n",
    "# train_test_split returns 4 values: X_train, X_test, y_train, y_test\n",
    "\n",
    "X_eng_vowel_train, X_eng_vowel_test, y_eng_vowel_train, y_eng_vowel_test = train_test_split(X_eng_vowel, Y_eng_vowel,\n",
    "                                                       train_size=0.8, test_size=0.2)\n",
    "\n",
    "X_eng_vowel_train, X_eng_vowel_validate, y_eng_vowel_train, y_eng_vowel_validate = train_test_split(X_eng_vowel_train, y_eng_vowel_train,\n",
    "                                                           train_size=0.75, test_size=0.25)\n",
    "#########################################\n",
    "X_spa_vowel_train, X_spa_vowel_test, y_spa_vowel_train, y_spa_vowel_test = train_test_split(X_spa_vowel, Y_spa_vowel,\n",
    "                                                       train_size=0.8, test_size=0.2)\n",
    "\n",
    "X_spa_vowel_train, X_spa_vowel_validate, y_spa_vowel_train, y_spa_vowel_validate = train_test_split(X_spa_vowel_train, y_spa_vowel_train,\n",
    "                                                           train_size=0.75, test_size=0.25)\n",
    "#######################################\n",
    "X_cat_vowel_train, X_cat_vowel_test, y_cat_vowel_train, y_cat_vowel_test = train_test_split(X_cat_vowel, Y_cat_vowel,\n",
    "                                                       train_size=0.8, test_size=0.2)\n",
    "\n",
    "X_cat_vowel_train, X_cat_vowel_validate, y_cat_vowel_train, y_cat_vowel_validate = train_test_split(X_cat_vowel_train, y_cat_vowel_train,\n",
    "                                                           train_size=0.75, test_size=0.25)\n",
    "##########################################\n",
    "X_eng_duration_train, X_eng_duration_test, y_eng_duration_train, y_eng_duration_test = train_test_split(X_eng_dur, Y_eng_dur,\n",
    "                                                       train_size=0.8, test_size=0.2)\n",
    "\n",
    "X_eng_duration_train, X_eng_duration_validate, y_eng_duration_train, y_eng_duration_validate = train_test_split(X_eng_duration_train,\n",
    "                                                                 y_eng_duration_train,\n",
    "                                                           train_size=0.75, test_size=0.25)\n",
    "#######################################\n",
    "X_spa_duration_train, X_spa_duration_test, y_spa_duration_train, y_spa_duration_test = train_test_split(X_spa_dur, Y_spa_dur,\n",
    "                                                       train_size=0.8, test_size=0.2)\n",
    "\n",
    "X_spa_duration_train, X_spa_duration_validate, y_spa_duration_train, y_spa_duration_validate = train_test_split(X_spa_duration_train,\n",
    "                                                                 y_spa_duration_train,\n",
    "                                                           train_size=0.75, test_size=0.25)\n",
    "#######################################\n",
    "X_cat_duration_train, X_cat_duration_test, y_cat_duration_train, y_cat_duration_test = train_test_split(X_cat_dur, Y_cat_dur,\n",
    "                                                       train_size=0.8, test_size=0.2)\n",
    "\n",
    "X_cat_duration_train, X_cat_duration_validate, y_cat_duration_train, y_cat_duration_validate = train_test_split(X_cat_duration_train,\n",
    "                                                                 y_cat_duration_train,\n",
    "                                                           train_size=0.75, test_size=0.25)\n",
    "##########################################\n",
    "X_eng_st_train, X_eng_st_test, y_eng_st_train, y_eng_st_test = train_test_split(X_eng_st, Y_eng_st,\n",
    "                                                       train_size=0.8, test_size=0.2)\n",
    "\n",
    "X_eng_st_train, X_eng_st_validate, y_eng_st_train, y_eng_st_validate = train_test_split(X_eng_st_train,\n",
    "                                                                 y_eng_st_train,\n",
    "                                                           train_size=0.75, test_size=0.25)\n",
    "#######################################\n",
    "X_spa_st_train, X_spa_st_test, y_spa_st_train, y_spa_st_test = train_test_split(X_spa_st, Y_spa_st,\n",
    "                                                       train_size=0.8, test_size=0.2)\n",
    "\n",
    "X_spa_st_train, X_spa_st_validate, y_spa_st_train, y_spa_st_validate = train_test_split(X_spa_st_train,\n",
    "                                                                 y_spa_st_train,\n",
    "                                                           train_size=0.75, test_size=0.25)\n",
    "######################################\n",
    "X_cat_st_train, X_cat_st_test, y_cat_st_train, y_cat_st_test = train_test_split(X_cat_st, Y_cat_st,\n",
    "                                                       train_size=0.8, test_size=0.2)\n",
    "\n",
    "X_cat_st_train, X_cat_st_validate, y_cat_st_train, y_cat_st_validate = train_test_split(X_cat_st_train,\n",
    "                                                                 y_cat_st_train,\n",
    "                                                           train_size=0.75, test_size=0.25)"
   ]
  },
  {
   "cell_type": "code",
   "execution_count": null,
   "id": "49672db3-d08d-4326-9124-aab2900bc350",
   "metadata": {},
   "outputs": [],
   "source": [
    "def rmse(pred, actual):\n",
    "    return np.sqrt(np.mean((pred - actual) ** 2))"
   ]
  },
  {
   "cell_type": "markdown",
   "id": "3e7addad-da13-477c-8d62-bac6c8233b17",
   "metadata": {},
   "source": [
    "Create and fit LASSO models:"
   ]
  },
  {
   "cell_type": "code",
   "execution_count": 105,
   "id": "ea9cf3cb-3041-4183-a7ca-871f3c1e376b",
   "metadata": {},
   "outputs": [],
   "source": [
    "from sklearn.model_selection import GridSearchCV"
   ]
  },
  {
   "cell_type": "code",
   "execution_count": null,
   "id": "7499d890-54b2-44d4-8e48-be5db8f20144",
   "metadata": {},
   "outputs": [],
   "source": [
    "\n",
    "param_grid = {'alpha': np.arange(.1, 1, .1),\n",
    "              'fit_intercept': ['True', 'False'],\n",
    "              'selection': ['cyclic', 'random']}\n",
    "\n",
    "lasso_grid_reg = GridSearchCV(lasso_reg, param_grid, cv=3)\n",
    "lasso_grid_reg.fit(X_train, y_train)\n",
    "\n",
    "best_index = np.argmax(lasso_grid_reg.cv_results_[\"mean_test_score\"])\n",
    "best_lasso_pred = lasso_grid_reg.best_estimator_.predict(X_validate)\n",
    "\n",
    "print(lasso_grid_reg.cv_results_[\"params\"][best_index])\n",
    "print('Best CV R^2:', max(lasso_grid_reg.cv_results_[\"mean_test_score\"]))\n",
    "print('Validation R^2:', lasso_grid_reg.score(X_validate, y_validate))\n",
    "print('Validation RMSE', rmse(best_lasso_pred, y_validate))"
   ]
  },
  {
   "cell_type": "code",
   "execution_count": 249,
   "id": "12ac18cd-5761-4f44-a99d-38886feb30a1",
   "metadata": {},
   "outputs": [
    {
     "data": {
      "text/html": [
       "<div>\n",
       "<style scoped>\n",
       "    .dataframe tbody tr th:only-of-type {\n",
       "        vertical-align: middle;\n",
       "    }\n",
       "\n",
       "    .dataframe tbody tr th {\n",
       "        vertical-align: top;\n",
       "    }\n",
       "\n",
       "    .dataframe thead th {\n",
       "        text-align: right;\n",
       "    }\n",
       "</style>\n",
       "<table border=\"1\" class=\"dataframe\">\n",
       "  <thead>\n",
       "    <tr style=\"text-align: right;\">\n",
       "      <th></th>\n",
       "      <th>Coefficient</th>\n",
       "      <th>Feature</th>\n",
       "      <th>abs_coef</th>\n",
       "    </tr>\n",
       "  </thead>\n",
       "  <tbody>\n",
       "    <tr>\n",
       "      <th>73</th>\n",
       "      <td>-0.0</td>\n",
       "      <td>Education_High school</td>\n",
       "      <td>0.0</td>\n",
       "    </tr>\n",
       "    <tr>\n",
       "      <th>9</th>\n",
       "      <td>-0.0</td>\n",
       "      <td>Q1.1_1</td>\n",
       "      <td>0.0</td>\n",
       "    </tr>\n",
       "    <tr>\n",
       "      <th>62</th>\n",
       "      <td>-0.0</td>\n",
       "      <td>Q7.1_4</td>\n",
       "      <td>0.0</td>\n",
       "    </tr>\n",
       "    <tr>\n",
       "      <th>59</th>\n",
       "      <td>0.0</td>\n",
       "      <td>Q7.1_1</td>\n",
       "      <td>0.0</td>\n",
       "    </tr>\n",
       "    <tr>\n",
       "      <th>13</th>\n",
       "      <td>0.0</td>\n",
       "      <td>Q10.1_2</td>\n",
       "      <td>0.0</td>\n",
       "    </tr>\n",
       "  </tbody>\n",
       "</table>\n",
       "</div>"
      ],
      "text/plain": [
       "   Coefficient                Feature  abs_coef\n",
       "73        -0.0  Education_High school       0.0\n",
       "9         -0.0                 Q1.1_1       0.0\n",
       "62        -0.0                 Q7.1_4       0.0\n",
       "59         0.0                 Q7.1_1       0.0\n",
       "13         0.0                Q10.1_2       0.0"
      ]
     },
     "execution_count": 249,
     "metadata": {},
     "output_type": "execute_result"
    }
   ],
   "source": [
    "# Catalan vowel quality\n",
    "lasso_reg = Lasso(max_iter=10000)  \n",
    "\n",
    "lasso_cat_vowel = lasso_reg.fit(X_cat_vowel, Y_cat_vowel)\n",
    "lasso_cat_vowel_data = pd.DataFrame([lasso_cat_vowel.coef_, X_cat_vowel.columns]).T\n",
    "lasso_cat_vowel_data.columns = ['Coefficient', 'Feature']\n",
    "lasso_cat_vowel_data['abs_coef'] = abs(lasso_cat_vowel_data['Coefficient'])\n",
    "lasso_cat_vowel_data['abs_coef'] = pd.to_numeric(lasso_cat_vowel_data['abs_coef'])\n",
    "lasso_cat_vowel_data.sample(5)"
   ]
  },
  {
   "cell_type": "code",
   "execution_count": 230,
   "id": "6edfda51-ad20-483c-9280-4196c6b4f90f",
   "metadata": {},
   "outputs": [
    {
     "data": {
      "image/png": "[encoded data removed]",
      "text/plain": [
       "<Figure size 432x288 with 1 Axes>"
      ]
     },
     "metadata": {
      "needs_background": "light"
     },
     "output_type": "display_data"
    }
   ],
   "source": [
    "sns.barplot(x=\"Coefficient\", y=\"Feature\",\n",
    "            data=lasso_cat_vowel_data.nlargest(10, 'abs_coef')).set_title(\"LASSO Coefficients for Catalan Vowel Quality for L1 English speakers\")\n",
    "plt.show();"
   ]
  },
  {
   "cell_type": "code",
   "execution_count": 231,
   "id": "31f7cc33-7008-4acd-8e04-7437d3123b85",
   "metadata": {},
   "outputs": [
    {
     "data": {
      "image/png": "[encoded data removed]",
      "text/plain": [
       "<Figure size 432x288 with 1 Axes>"
      ]
     },
     "metadata": {
      "needs_background": "light"
     },
     "output_type": "display_data"
    }
   ],
   "source": [
    "# Catalan duration\n",
    "lasso_reg = Lasso(max_iter=10000)  \n",
    "\n",
    "lasso_cat_dur = lasso_reg.fit(X_cat_dur, Y_cat_dur)\n",
    "lasso_cat_dur_data = pd.DataFrame([lasso_cat_dur.coef_, X_cat_dur.columns]).T\n",
    "lasso_cat_dur_data.columns = ['Coefficient', 'Feature']\n",
    "lasso_cat_dur_data['abs_coef'] = abs(lasso_cat_dur_data['Coefficient'])\n",
    "lasso_cat_dur_data['abs_coef'] = pd.to_numeric(lasso_cat_dur_data['abs_coef'])\n",
    "\n",
    "sns.barplot(x=\"Coefficient\", y=\"Feature\",\n",
    "            data=lasso_cat_dur_data.nlargest(10, 'abs_coef')).set_title(\"LASSO Coefficients for Catalan duration for L1 English speakers\")\n",
    "plt.show();"
   ]
  },
  {
   "cell_type": "code",
   "execution_count": 232,
   "id": "6b9c8863-6d7f-4378-8844-5e17abb07465",
   "metadata": {},
   "outputs": [
    {
     "data": {
      "image/png": "[encoded data removed]",
      "text/plain": [
       "<Figure size 432x288 with 1 Axes>"
      ]
     },
     "metadata": {
      "needs_background": "light"
     },
     "output_type": "display_data"
    }
   ],
   "source": [
    "# Catalan spectral tilt\n",
    "lasso_reg = Lasso(max_iter=10000)  \n",
    "\n",
    "lasso_cat_st = lasso_reg.fit(X_cat_st, Y_cat_st)\n",
    "lasso_cat_st_data = pd.DataFrame([lasso_cat_st.coef_, X_cat_st.columns]).T\n",
    "lasso_cat_st_data.columns = ['Coefficient', 'Feature']\n",
    "lasso_cat_st_data['abs_coef'] = abs(lasso_cat_st_data['Coefficient'])\n",
    "lasso_cat_st_data['abs_coef'] = pd.to_numeric(lasso_cat_st_data['abs_coef'])\n",
    "\n",
    "sns.barplot(x=\"Coefficient\", y=\"Feature\",\n",
    "            data=lasso_cat_st_data.nlargest(10, 'abs_coef')).set_title(\"LASSO Coefficients for Catalan spectral tilt for L1 English speakers\")\n",
    "plt.show();"
   ]
  },
  {
   "cell_type": "code",
   "execution_count": 233,
   "id": "f5514054-cb57-48f7-a4c8-816baece3c1f",
   "metadata": {},
   "outputs": [
    {
     "data": {
      "image/png": "[encoded data removed]",
      "text/plain": [
       "<Figure size 432x288 with 1 Axes>"
      ]
     },
     "metadata": {
      "needs_background": "light"
     },
     "output_type": "display_data"
    }
   ],
   "source": [
    "# Spanish spectral tilt\n",
    "lasso_reg = Lasso(max_iter=10000)  \n",
    "\n",
    "lasso_spa_st = lasso_reg.fit(X_spa_st, Y_spa_st)\n",
    "lasso_spa_st_data = pd.DataFrame([lasso_spa_st.coef_, X_spa_st.columns]).T\n",
    "lasso_spa_st_data.columns = ['Coefficient', 'Feature']\n",
    "lasso_spa_st_data['abs_coef'] = abs(lasso_spa_st_data['Coefficient'])\n",
    "lasso_spa_st_data['abs_coef'] = pd.to_numeric(lasso_spa_st_data['abs_coef'])\n",
    "\n",
    "sns.barplot(x=\"Coefficient\", y=\"Feature\",\n",
    "            data=lasso_spa_st_data.nlargest(10, 'abs_coef')).set_title(\"LASSO Coefficients for Spanish spectral tilt for L1 English speakers\")\n",
    "plt.show();"
   ]
  },
  {
   "cell_type": "code",
   "execution_count": 210,
   "id": "ad0bb9ec-e1b9-4903-b0f7-03a9561d2adf",
   "metadata": {},
   "outputs": [
    {
     "data": {
      "image/png": "[encoded data removed]",
      "text/plain": [
       "<Figure size 432x288 with 1 Axes>"
      ]
     },
     "metadata": {
      "needs_background": "light"
     },
     "output_type": "display_data"
    }
   ],
   "source": [
    "# Spanish duration\n",
    "lasso_reg = Lasso(max_iter=10000)  \n",
    "\n",
    "lasso_spa_dur = lasso_reg.fit(X_spa_dur, Y_spa_dur)\n",
    "lasso_spa_dur_data = pd.DataFrame([lasso_spa_dur.coef_, X_spa_dur.columns]).T\n",
    "lasso_spa_dur_data.columns = ['Coefficient', 'Feature']\n",
    "lasso_spa_dur_data['abs_coef'] = abs(lasso_spa_dur_data['Coefficient'])\n",
    "lasso_spa_dur_data['abs_coef'] = pd.to_numeric(lasso_spa_dur_data['abs_coef'])\n",
    "\n",
    "sns.barplot(x=\"Coefficient\", y=\"Feature\",\n",
    "            data=lasso_spa_dur_data.nlargest(10, 'abs_coef')).set_title(\"LASSO Coefficients for Spanish duration for L1 English speakers\")\n",
    "plt.show();"
   ]
  },
  {
   "cell_type": "code",
   "execution_count": 211,
   "id": "76f7cd3a-97a9-4f4d-87bf-a2185cfd2d20",
   "metadata": {},
   "outputs": [
    {
     "data": {
      "image/png": "[encoded data removed]",
      "text/plain": [
       "<Figure size 432x288 with 1 Axes>"
      ]
     },
     "metadata": {
      "needs_background": "light"
     },
     "output_type": "display_data"
    }
   ],
   "source": [
    "# Spanish vowel quality\n",
    "lasso_reg = Lasso(max_iter=10000)  \n",
    "\n",
    "lasso_spa_vowel = lasso_reg.fit(X_spa_vowel, Y_spa_vowel)\n",
    "lasso_spa_vowel_data = pd.DataFrame([lasso_spa_vowel.coef_, X_spa_vowel.columns]).T\n",
    "lasso_spa_vowel_data.columns = ['Coefficient', 'Feature']\n",
    "lasso_spa_vowel_data['abs_coef'] = abs(lasso_spa_vowel_data['Coefficient'])\n",
    "lasso_spa_vowel_data['abs_coef'] = pd.to_numeric(lasso_spa_vowel_data['abs_coef'])\n",
    "\n",
    "sns.barplot(x=\"Coefficient\", y=\"Feature\",\n",
    "            data=lasso_spa_vowel_data.nlargest(10, 'abs_coef')).set_title(\"LASSO Coefficients for Spanish Vowel Quality\")\n",
    "plt.show();"
   ]
  },
  {
   "cell_type": "code",
   "execution_count": null,
   "id": "0b7ce82e-5c10-4335-a8c9-07a74647f49f",
   "metadata": {},
   "outputs": [],
   "source": []
  }
 ],
 "metadata": {
  "kernelspec": {
   "display_name": "Python 3",
   "language": "python",
   "name": "python3"
  },
  "language_info": {
   "codemirror_mode": {
    "name": "ipython",
    "version": 3
   },
   "file_extension": ".py",
   "mimetype": "text/x-python",
   "name": "python",
   "nbconvert_exporter": "python",
   "pygments_lexer": "ipython3",
   "version": "3.8.8"
  }
 },
 "nbformat": 4,
 "nbformat_minor": 5
}
