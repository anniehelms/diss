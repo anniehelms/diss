{
 "cells": [
  {
   "cell_type": "markdown",
   "id": "06e406b6-9813-4a1b-930f-77e163c75512",
   "metadata": {},
   "source": [
    "# Convert Numbers file to csv"
   ]
  },
  {
   "cell_type": "code",
   "execution_count": 1,
   "id": "d7b4de87-e50d-4093-b870-58a1940b5836",
   "metadata": {},
   "outputs": [],
   "source": [
    "import pandas as pd\n",
    "import os"
   ]
  },
  {
   "cell_type": "markdown",
   "id": "3a7b4c95-38c6-4afa-8ac6-66142bcc9eb4",
   "metadata": {},
   "source": [
    "Uncomment the following cell to install `numbers-parser` (only necessary for the first time)"
   ]
  },
  {
   "cell_type": "code",
   "execution_count": 2,
   "id": "f40ea4b7-4a46-4780-a29b-8f58579d8764",
   "metadata": {},
   "outputs": [],
   "source": [
    "#!pip install numbers-parser"
   ]
  },
  {
   "cell_type": "code",
   "execution_count": 3,
   "id": "413455af-5a7a-4f8a-80e6-c1e1fbc98155",
   "metadata": {},
   "outputs": [],
   "source": [
    "from numbers_parser import Document"
   ]
  },
  {
   "cell_type": "code",
   "execution_count": 4,
   "id": "67c92602-00ad-42e8-8422-23366b2450c6",
   "metadata": {},
   "outputs": [],
   "source": [
    "def numbers_to_csv(numbers_folder, csv_folder):\n",
    "    numbers_files = os.listdir(numbers_folder)\n",
    "    \n",
    "    for f in numbers_files:\n",
    "        if f.endswith(\".numbers\"):\n",
    "            filepath = numbers_folder + f\n",
    "            \n",
    "            doc = Document(filepath)\n",
    "            sheets = doc.sheets\n",
    "            tables = sheets[0].tables\n",
    "            data = tables[0].rows(values_only=True)\n",
    "            numbs = pd.DataFrame(data[1:], columns=data[0])\n",
    "            \n",
    "            partID = f[:-8]\n",
    "            \n",
    "            numbs.to_csv(csv_folder + partID + \".csv\")"
   ]
  },
  {
   "cell_type": "code",
   "execution_count": 5,
   "id": "9e709d7a-8b3a-49fe-aa55-481c36b850c1",
   "metadata": {},
   "outputs": [],
   "source": [
    "# change function inputs to:\n",
    "# 1) name of your folder with csv files and\n",
    "# 2) name of your folder you want to save the text files in\n",
    "numbers_to_csv(\"numbers_files/\", \"psychopy_csvs/\")"
   ]
  },
  {
   "cell_type": "code",
   "execution_count": null,
   "id": "4d1f4ba6-4005-4b1e-b1b8-4b05f656e4bf",
   "metadata": {},
   "outputs": [],
   "source": []
  }
 ],
 "metadata": {
  "kernelspec": {
   "display_name": "Python 3",
   "language": "python",
   "name": "python3"
  },
  "language_info": {
   "codemirror_mode": {
    "name": "ipython",
    "version": 3
   },
   "file_extension": ".py",
   "mimetype": "text/x-python",
   "name": "python",
   "nbconvert_exporter": "python",
   "pygments_lexer": "ipython3",
   "version": "3.8.8"
  }
 },
 "nbformat": 4,
 "nbformat_minor": 5
}
