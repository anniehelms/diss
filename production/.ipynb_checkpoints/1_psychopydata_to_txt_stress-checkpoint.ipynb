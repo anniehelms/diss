{
 "cells": [
  {
   "cell_type": "markdown",
   "id": "77f5be19-b02b-4185-b077-e6cdfd6d0c2e",
   "metadata": {},
   "source": [
    "# Convert csv files to a text file - STRESS\n",
    "\n",
    "This notebook will save the order of elicited sentences as a text file for every csv file in the folder `psychopy_csvs`. The text files will be saved in the folder `sentence_orders`."
   ]
  },
  {
   "cell_type": "code",
   "execution_count": 43,
   "id": "3e02ea75-19d2-4d3e-9543-f640329d0b02",
   "metadata": {},
   "outputs": [],
   "source": [
    "import pandas as pd\n",
    "import os"
   ]
  },
  {
   "cell_type": "code",
   "execution_count": 47,
   "id": "f7bcaca9-ce2c-4e10-9e13-089a42be2494",
   "metadata": {},
   "outputs": [],
   "source": [
    "# function that takes in filepath for csv files and filepath for resulting text files\n",
    "def csv_to_text(csv_folder, text_folder):\n",
    "    csv_files = os.listdir(csv_folder)\n",
    "    \n",
    "    # define function to remove punctuation from a column\n",
    "    def rem_punc(text):\n",
    "        remove = [\"\\\"\", \"—\"]\n",
    "    \n",
    "        punc_free = \"\".join([ch for ch in text if ch not in remove])\n",
    "    \n",
    "        return punc_free\n",
    "    \n",
    "    for f in csv_files:\n",
    "        if f.endswith(\".csv\"):\n",
    "            filepath = csv_folder + f\n",
    "                        \n",
    "            df = pd.read_csv(filepath, encoding = 'utf-8')\n",
    "            \n",
    "            #Columns of index 0-9 and rows of index 0-3 only pertain to practice trials. Drop these.\n",
    "            df = df.iloc[4: , 10:]\n",
    "            df.reset_index(inplace = True, drop = True)\n",
    "            \n",
    "            # Remove any rows where the value of stress is NaN.\n",
    "            df.dropna(subset=['stress'], inplace = True)\n",
    "            \n",
    "            # create df of sentence order with no dashes or quotation marks\n",
    "            sentence_col = [col for col in df if col.startswith('word')]\n",
    "            df['sentence_col_no_punc'] = df[sentence_col[0]].apply(lambda x: rem_punc(x))\n",
    "            sentences = df['sentence_col_no_punc'].copy()\n",
    "            \n",
    "            # save as text file in text_folder filepath\n",
    "            sentences.to_csv(\"sentence_orders/\" + str(f[:-4]) + \".txt\", sep = \"\\n\", header = None, index = None)"
   ]
  },
  {
   "cell_type": "code",
   "execution_count": 48,
   "id": "86b6e342-d7cf-424f-8467-025d22db7065",
   "metadata": {},
   "outputs": [],
   "source": [
    "csv_to_text(\"psychopy_csvs/\", \"sentence_orders/\")"
   ]
  }
 ],
 "metadata": {
  "kernelspec": {
   "display_name": "Python 3",
   "language": "python",
   "name": "python3"
  },
  "language_info": {
   "codemirror_mode": {
    "name": "ipython",
    "version": 3
   },
   "file_extension": ".py",
   "mimetype": "text/x-python",
   "name": "python",
   "nbconvert_exporter": "python",
   "pygments_lexer": "ipython3",
   "version": "3.8.8"
  }
 },
 "nbformat": 4,
 "nbformat_minor": 5
}
