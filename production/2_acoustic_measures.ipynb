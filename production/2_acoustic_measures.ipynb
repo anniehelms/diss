{
 "cells": [
  {
   "cell_type": "markdown",
   "id": "035fa5c2-636d-4c93-b9bd-986ec76f813f",
   "metadata": {},
   "source": [
    "# Get acoustic measures from production task\n",
    "\n",
    "Input txt files from Voicesauce and clean.\n",
    "* All cleaned TextGrids should be saved in textgrids folder\n",
    "* output.txt file should contain output from voicesauce run over all wav files and cleaned Textgrids with tier number 3, and number of subsegments set to 1"
   ]
  },
  {
   "cell_type": "code",
   "execution_count": 1,
   "id": "dd2bdd28-8385-4d0a-b4e3-52c2f83d1b07",
   "metadata": {},
   "outputs": [],
   "source": [
    "import pandas as pd\n",
    "import os\n",
    "from audiolabel import read_label\n",
    "import numpy as np\n",
    "import seaborn as sns\n",
    "import matplotlib.pyplot as plt\n",
    "import factor_analyzer as fa # factor analysis algorithm"
   ]
  },
  {
   "cell_type": "code",
   "execution_count": 2,
   "id": "1e23aeb8-740a-4d06-89d3-71767c81e477",
   "metadata": {},
   "outputs": [
    {
     "data": {
      "text/html": [
       "<div>\n",
       "<style scoped>\n",
       "    .dataframe tbody tr th:only-of-type {\n",
       "        vertical-align: middle;\n",
       "    }\n",
       "\n",
       "    .dataframe tbody tr th {\n",
       "        vertical-align: top;\n",
       "    }\n",
       "\n",
       "    .dataframe thead th {\n",
       "        text-align: right;\n",
       "    }\n",
       "</style>\n",
       "<table border=\"1\" class=\"dataframe\">\n",
       "  <thead>\n",
       "    <tr style=\"text-align: right;\">\n",
       "      <th></th>\n",
       "      <th>Filename</th>\n",
       "      <th>Label</th>\n",
       "      <th>seg_Start</th>\n",
       "      <th>seg_End</th>\n",
       "      <th>H1c_mean</th>\n",
       "      <th>H2c_mean</th>\n",
       "      <th>H4c_mean</th>\n",
       "      <th>A1c_mean</th>\n",
       "      <th>A2c_mean</th>\n",
       "      <th>A3c_mean</th>\n",
       "      <th>...</th>\n",
       "      <th>shrF0_mean</th>\n",
       "      <th>sF1_mean</th>\n",
       "      <th>sF2_mean</th>\n",
       "      <th>sF3_mean</th>\n",
       "      <th>sF4_mean</th>\n",
       "      <th>pF1_mean</th>\n",
       "      <th>pF2_mean</th>\n",
       "      <th>pF3_mean</th>\n",
       "      <th>pF4_mean</th>\n",
       "      <th>Unnamed: 45</th>\n",
       "    </tr>\n",
       "  </thead>\n",
       "  <tbody>\n",
       "    <tr>\n",
       "      <th>0</th>\n",
       "      <td>afs116_catala_exp2_a.mat</td>\n",
       "      <td>i</td>\n",
       "      <td>5808.263</td>\n",
       "      <td>5880.0</td>\n",
       "      <td>0.000</td>\n",
       "      <td>0.000</td>\n",
       "      <td>0.000</td>\n",
       "      <td>0.000</td>\n",
       "      <td>0.000</td>\n",
       "      <td>0.000</td>\n",
       "      <td>...</td>\n",
       "      <td>215.573</td>\n",
       "      <td>370.632</td>\n",
       "      <td>1022.064</td>\n",
       "      <td>2757.576</td>\n",
       "      <td>3710.802</td>\n",
       "      <td>841.155</td>\n",
       "      <td>2768.201</td>\n",
       "      <td>4036.461</td>\n",
       "      <td>4219.764</td>\n",
       "      <td>NaN</td>\n",
       "    </tr>\n",
       "    <tr>\n",
       "      <th>1</th>\n",
       "      <td>afs116_catala_exp2_a.mat</td>\n",
       "      <td>a</td>\n",
       "      <td>5974.435</td>\n",
       "      <td>6249.1</td>\n",
       "      <td>10.511</td>\n",
       "      <td>2.333</td>\n",
       "      <td>10.185</td>\n",
       "      <td>-12.022</td>\n",
       "      <td>5.514</td>\n",
       "      <td>2.974</td>\n",
       "      <td>...</td>\n",
       "      <td>250.642</td>\n",
       "      <td>599.884</td>\n",
       "      <td>1252.682</td>\n",
       "      <td>1647.339</td>\n",
       "      <td>3698.479</td>\n",
       "      <td>1041.290</td>\n",
       "      <td>1572.536</td>\n",
       "      <td>3588.091</td>\n",
       "      <td>4465.044</td>\n",
       "      <td>NaN</td>\n",
       "    </tr>\n",
       "    <tr>\n",
       "      <th>2</th>\n",
       "      <td>afs116_catala_exp2_a.mat</td>\n",
       "      <td>i</td>\n",
       "      <td>11426.143</td>\n",
       "      <td>11540.6</td>\n",
       "      <td>12.054</td>\n",
       "      <td>11.128</td>\n",
       "      <td>11.402</td>\n",
       "      <td>-9.519</td>\n",
       "      <td>1.819</td>\n",
       "      <td>26.349</td>\n",
       "      <td>...</td>\n",
       "      <td>208.054</td>\n",
       "      <td>329.584</td>\n",
       "      <td>1041.040</td>\n",
       "      <td>3249.417</td>\n",
       "      <td>4219.348</td>\n",
       "      <td>946.664</td>\n",
       "      <td>3353.907</td>\n",
       "      <td>4362.954</td>\n",
       "      <td>0.000</td>\n",
       "      <td>NaN</td>\n",
       "    </tr>\n",
       "    <tr>\n",
       "      <th>3</th>\n",
       "      <td>afs116_catala_exp2_a.mat</td>\n",
       "      <td>a</td>\n",
       "      <td>11790.600</td>\n",
       "      <td>12090.6</td>\n",
       "      <td>10.516</td>\n",
       "      <td>2.929</td>\n",
       "      <td>6.733</td>\n",
       "      <td>-13.412</td>\n",
       "      <td>2.009</td>\n",
       "      <td>3.168</td>\n",
       "      <td>...</td>\n",
       "      <td>260.936</td>\n",
       "      <td>626.387</td>\n",
       "      <td>1297.339</td>\n",
       "      <td>2301.141</td>\n",
       "      <td>3933.510</td>\n",
       "      <td>966.891</td>\n",
       "      <td>1574.426</td>\n",
       "      <td>3477.352</td>\n",
       "      <td>4437.865</td>\n",
       "      <td>NaN</td>\n",
       "    </tr>\n",
       "    <tr>\n",
       "      <th>4</th>\n",
       "      <td>afs116_catala_exp2_a.mat</td>\n",
       "      <td>i</td>\n",
       "      <td>41302.182</td>\n",
       "      <td>41500.2</td>\n",
       "      <td>12.355</td>\n",
       "      <td>7.137</td>\n",
       "      <td>11.799</td>\n",
       "      <td>-3.304</td>\n",
       "      <td>-0.731</td>\n",
       "      <td>22.468</td>\n",
       "      <td>...</td>\n",
       "      <td>216.376</td>\n",
       "      <td>369.904</td>\n",
       "      <td>1050.428</td>\n",
       "      <td>3358.187</td>\n",
       "      <td>4359.227</td>\n",
       "      <td>940.577</td>\n",
       "      <td>3371.857</td>\n",
       "      <td>4444.714</td>\n",
       "      <td>4604.958</td>\n",
       "      <td>NaN</td>\n",
       "    </tr>\n",
       "  </tbody>\n",
       "</table>\n",
       "<p>5 rows × 46 columns</p>\n",
       "</div>"
      ],
      "text/plain": [
       "                   Filename Label  seg_Start  seg_End  H1c_mean  H2c_mean  \\\n",
       "0  afs116_catala_exp2_a.mat     i   5808.263   5880.0     0.000     0.000   \n",
       "1  afs116_catala_exp2_a.mat     a   5974.435   6249.1    10.511     2.333   \n",
       "2  afs116_catala_exp2_a.mat     i  11426.143  11540.6    12.054    11.128   \n",
       "3  afs116_catala_exp2_a.mat     a  11790.600  12090.6    10.516     2.929   \n",
       "4  afs116_catala_exp2_a.mat     i  41302.182  41500.2    12.355     7.137   \n",
       "\n",
       "   H4c_mean  A1c_mean  A2c_mean  A3c_mean  ...  shrF0_mean  sF1_mean  \\\n",
       "0     0.000     0.000     0.000     0.000  ...     215.573   370.632   \n",
       "1    10.185   -12.022     5.514     2.974  ...     250.642   599.884   \n",
       "2    11.402    -9.519     1.819    26.349  ...     208.054   329.584   \n",
       "3     6.733   -13.412     2.009     3.168  ...     260.936   626.387   \n",
       "4    11.799    -3.304    -0.731    22.468  ...     216.376   369.904   \n",
       "\n",
       "   sF2_mean  sF3_mean  sF4_mean  pF1_mean  pF2_mean  pF3_mean  pF4_mean  \\\n",
       "0  1022.064  2757.576  3710.802   841.155  2768.201  4036.461  4219.764   \n",
       "1  1252.682  1647.339  3698.479  1041.290  1572.536  3588.091  4465.044   \n",
       "2  1041.040  3249.417  4219.348   946.664  3353.907  4362.954     0.000   \n",
       "3  1297.339  2301.141  3933.510   966.891  1574.426  3477.352  4437.865   \n",
       "4  1050.428  3358.187  4359.227   940.577  3371.857  4444.714  4604.958   \n",
       "\n",
       "   Unnamed: 45  \n",
       "0          NaN  \n",
       "1          NaN  \n",
       "2          NaN  \n",
       "3          NaN  \n",
       "4          NaN  \n",
       "\n",
       "[5 rows x 46 columns]"
      ]
     },
     "execution_count": 2,
     "metadata": {},
     "output_type": "execute_result"
    }
   ],
   "source": [
    "df_4 = pd.read_csv(\"voicesauce_txt/output_LPC4.txt\", sep = \"\\t\")\n",
    "df_4.head()"
   ]
  },
  {
   "cell_type": "code",
   "execution_count": 3,
   "id": "76a7c189-8c37-455e-a70a-6f36d20abf31",
   "metadata": {},
   "outputs": [],
   "source": [
    "df_5 = pd.read_csv(\"voicesauce_txt/output_LPC5.txt\", sep = \"\\t\")\n",
    "df_6 = pd.read_csv(\"voicesauce_txt/output_LPC6.txt\", sep = \"\\t\")\n",
    "df_5_fixed = pd.read_csv(\"voicesauce_txt/output_mistakes5.txt\", sep = \"\\t\")\n",
    "df_5_odd = pd.read_csv(\"voicesauce_txt/output_mistakes_odd_5.txt\", sep = \"\\t\")\n",
    "df_6_odd = pd.read_csv(\"voicesauce_txt/output_mistakes_odd_6.txt\", sep = \"\\t\")"
   ]
  },
  {
   "cell_type": "code",
   "execution_count": 4,
   "id": "400a243a-ba14-4a46-8a48-e300e9ff4640",
   "metadata": {},
   "outputs": [
    {
     "name": "stdout",
     "output_type": "stream",
     "text": [
      "19209\n"
     ]
    },
    {
     "data": {
      "text/plain": [
       "19116"
      ]
     },
     "execution_count": 4,
     "metadata": {},
     "output_type": "execute_result"
    }
   ],
   "source": [
    "print(len(df_5))\n",
    "df_5 = df_5[(df_5['Filename']!='ala054_catala_exp2_d.mat') &\n",
    "           (df_5['Filename']!='ala054_spanish_exp2_a.mat') &\n",
    "           (df_5['Filename']!='aps124_spanish_exp2_b.mat')].copy()\n",
    "df_5.reset_index(inplace = True, drop = True)\n",
    "len(df_5)"
   ]
  },
  {
   "cell_type": "code",
   "execution_count": 5,
   "id": "3688fea4-329b-4895-9f5e-1980b5f1cc7a",
   "metadata": {},
   "outputs": [
    {
     "name": "stdout",
     "output_type": "stream",
     "text": [
      "7341\n"
     ]
    },
    {
     "data": {
      "text/plain": [
       "7288"
      ]
     },
     "execution_count": 5,
     "metadata": {},
     "output_type": "execute_result"
    }
   ],
   "source": [
    "print(len(df_6))\n",
    "df_6 = df_6[df_6['Filename']!='dis022_english_exp2_e.mat'].copy()\n",
    "df_6.reset_index(inplace = True, drop = True)\n",
    "len(df_6)"
   ]
  },
  {
   "cell_type": "code",
   "execution_count": 6,
   "id": "856edbc7-3723-4095-bcfe-cbaee564d68c",
   "metadata": {},
   "outputs": [
    {
     "data": {
      "text/html": [
       "<div>\n",
       "<style scoped>\n",
       "    .dataframe tbody tr th:only-of-type {\n",
       "        vertical-align: middle;\n",
       "    }\n",
       "\n",
       "    .dataframe tbody tr th {\n",
       "        vertical-align: top;\n",
       "    }\n",
       "\n",
       "    .dataframe thead th {\n",
       "        text-align: right;\n",
       "    }\n",
       "</style>\n",
       "<table border=\"1\" class=\"dataframe\">\n",
       "  <thead>\n",
       "    <tr style=\"text-align: right;\">\n",
       "      <th></th>\n",
       "      <th>Filename</th>\n",
       "      <th>Label</th>\n",
       "      <th>seg_Start</th>\n",
       "      <th>seg_End</th>\n",
       "      <th>H1c_mean</th>\n",
       "      <th>H2c_mean</th>\n",
       "      <th>H4c_mean</th>\n",
       "      <th>A1c_mean</th>\n",
       "      <th>A2c_mean</th>\n",
       "      <th>A3c_mean</th>\n",
       "      <th>...</th>\n",
       "      <th>Unnamed: 45</th>\n",
       "      <th>sB1_mean</th>\n",
       "      <th>sB2_mean</th>\n",
       "      <th>sB3_mean</th>\n",
       "      <th>sB4_mean</th>\n",
       "      <th>pB1_mean</th>\n",
       "      <th>pB2_mean</th>\n",
       "      <th>pB3_mean</th>\n",
       "      <th>pB4_mean</th>\n",
       "      <th>Unnamed: 53</th>\n",
       "    </tr>\n",
       "  </thead>\n",
       "  <tbody>\n",
       "    <tr>\n",
       "      <th>0</th>\n",
       "      <td>afs116_catala_exp2_a.mat</td>\n",
       "      <td>i</td>\n",
       "      <td>5808.263</td>\n",
       "      <td>5880.0</td>\n",
       "      <td>0.000</td>\n",
       "      <td>0.000</td>\n",
       "      <td>0.000</td>\n",
       "      <td>0.000</td>\n",
       "      <td>0.000</td>\n",
       "      <td>0.000</td>\n",
       "      <td>...</td>\n",
       "      <td>NaN</td>\n",
       "      <td>NaN</td>\n",
       "      <td>NaN</td>\n",
       "      <td>NaN</td>\n",
       "      <td>NaN</td>\n",
       "      <td>NaN</td>\n",
       "      <td>NaN</td>\n",
       "      <td>NaN</td>\n",
       "      <td>NaN</td>\n",
       "      <td>NaN</td>\n",
       "    </tr>\n",
       "    <tr>\n",
       "      <th>1</th>\n",
       "      <td>afs116_catala_exp2_a.mat</td>\n",
       "      <td>a</td>\n",
       "      <td>5974.435</td>\n",
       "      <td>6249.1</td>\n",
       "      <td>10.511</td>\n",
       "      <td>2.333</td>\n",
       "      <td>10.185</td>\n",
       "      <td>-12.022</td>\n",
       "      <td>5.514</td>\n",
       "      <td>2.974</td>\n",
       "      <td>...</td>\n",
       "      <td>NaN</td>\n",
       "      <td>NaN</td>\n",
       "      <td>NaN</td>\n",
       "      <td>NaN</td>\n",
       "      <td>NaN</td>\n",
       "      <td>NaN</td>\n",
       "      <td>NaN</td>\n",
       "      <td>NaN</td>\n",
       "      <td>NaN</td>\n",
       "      <td>NaN</td>\n",
       "    </tr>\n",
       "    <tr>\n",
       "      <th>2</th>\n",
       "      <td>afs116_catala_exp2_a.mat</td>\n",
       "      <td>i</td>\n",
       "      <td>11426.143</td>\n",
       "      <td>11540.6</td>\n",
       "      <td>12.054</td>\n",
       "      <td>11.128</td>\n",
       "      <td>11.402</td>\n",
       "      <td>-9.519</td>\n",
       "      <td>1.819</td>\n",
       "      <td>26.349</td>\n",
       "      <td>...</td>\n",
       "      <td>NaN</td>\n",
       "      <td>NaN</td>\n",
       "      <td>NaN</td>\n",
       "      <td>NaN</td>\n",
       "      <td>NaN</td>\n",
       "      <td>NaN</td>\n",
       "      <td>NaN</td>\n",
       "      <td>NaN</td>\n",
       "      <td>NaN</td>\n",
       "      <td>NaN</td>\n",
       "    </tr>\n",
       "    <tr>\n",
       "      <th>3</th>\n",
       "      <td>afs116_catala_exp2_a.mat</td>\n",
       "      <td>a</td>\n",
       "      <td>11790.600</td>\n",
       "      <td>12090.6</td>\n",
       "      <td>10.516</td>\n",
       "      <td>2.929</td>\n",
       "      <td>6.733</td>\n",
       "      <td>-13.412</td>\n",
       "      <td>2.009</td>\n",
       "      <td>3.168</td>\n",
       "      <td>...</td>\n",
       "      <td>NaN</td>\n",
       "      <td>NaN</td>\n",
       "      <td>NaN</td>\n",
       "      <td>NaN</td>\n",
       "      <td>NaN</td>\n",
       "      <td>NaN</td>\n",
       "      <td>NaN</td>\n",
       "      <td>NaN</td>\n",
       "      <td>NaN</td>\n",
       "      <td>NaN</td>\n",
       "    </tr>\n",
       "    <tr>\n",
       "      <th>4</th>\n",
       "      <td>afs116_catala_exp2_a.mat</td>\n",
       "      <td>i</td>\n",
       "      <td>41302.182</td>\n",
       "      <td>41500.2</td>\n",
       "      <td>12.355</td>\n",
       "      <td>7.137</td>\n",
       "      <td>11.799</td>\n",
       "      <td>-3.304</td>\n",
       "      <td>-0.731</td>\n",
       "      <td>22.468</td>\n",
       "      <td>...</td>\n",
       "      <td>NaN</td>\n",
       "      <td>NaN</td>\n",
       "      <td>NaN</td>\n",
       "      <td>NaN</td>\n",
       "      <td>NaN</td>\n",
       "      <td>NaN</td>\n",
       "      <td>NaN</td>\n",
       "      <td>NaN</td>\n",
       "      <td>NaN</td>\n",
       "      <td>NaN</td>\n",
       "    </tr>\n",
       "  </tbody>\n",
       "</table>\n",
       "<p>5 rows × 55 columns</p>\n",
       "</div>"
      ],
      "text/plain": [
       "                   Filename Label  seg_Start  seg_End  H1c_mean  H2c_mean  \\\n",
       "0  afs116_catala_exp2_a.mat     i   5808.263   5880.0     0.000     0.000   \n",
       "1  afs116_catala_exp2_a.mat     a   5974.435   6249.1    10.511     2.333   \n",
       "2  afs116_catala_exp2_a.mat     i  11426.143  11540.6    12.054    11.128   \n",
       "3  afs116_catala_exp2_a.mat     a  11790.600  12090.6    10.516     2.929   \n",
       "4  afs116_catala_exp2_a.mat     i  41302.182  41500.2    12.355     7.137   \n",
       "\n",
       "   H4c_mean  A1c_mean  A2c_mean  A3c_mean  ...  Unnamed: 45  sB1_mean  \\\n",
       "0     0.000     0.000     0.000     0.000  ...          NaN       NaN   \n",
       "1    10.185   -12.022     5.514     2.974  ...          NaN       NaN   \n",
       "2    11.402    -9.519     1.819    26.349  ...          NaN       NaN   \n",
       "3     6.733   -13.412     2.009     3.168  ...          NaN       NaN   \n",
       "4    11.799    -3.304    -0.731    22.468  ...          NaN       NaN   \n",
       "\n",
       "   sB2_mean  sB3_mean  sB4_mean  pB1_mean  pB2_mean  pB3_mean  pB4_mean  \\\n",
       "0       NaN       NaN       NaN       NaN       NaN       NaN       NaN   \n",
       "1       NaN       NaN       NaN       NaN       NaN       NaN       NaN   \n",
       "2       NaN       NaN       NaN       NaN       NaN       NaN       NaN   \n",
       "3       NaN       NaN       NaN       NaN       NaN       NaN       NaN   \n",
       "4       NaN       NaN       NaN       NaN       NaN       NaN       NaN   \n",
       "\n",
       "   Unnamed: 53  \n",
       "0          NaN  \n",
       "1          NaN  \n",
       "2          NaN  \n",
       "3          NaN  \n",
       "4          NaN  \n",
       "\n",
       "[5 rows x 55 columns]"
      ]
     },
     "execution_count": 6,
     "metadata": {},
     "output_type": "execute_result"
    }
   ],
   "source": [
    "df_all = pd.concat([df_4, df_5, df_6, df_5_fixed, df_5_odd, df_6_odd], ignore_index = True)\n",
    "df_all.head()"
   ]
  },
  {
   "cell_type": "markdown",
   "id": "bebf320b-3ed6-4fb9-8ab4-a2e8424374d1",
   "metadata": {},
   "source": [
    "Add partID and language columns."
   ]
  },
  {
   "cell_type": "code",
   "execution_count": 7,
   "id": "6331a6ae-8d4d-42ae-a9c2-bf447b77c693",
   "metadata": {},
   "outputs": [],
   "source": [
    "df_all['partID'] = df_all['Filename'].str[:6]\n",
    "df_all['Language'] = df_all['Filename'].str[7:10]"
   ]
  },
  {
   "cell_type": "markdown",
   "id": "5f736212-ec8e-4497-b3e0-75edc00f863c",
   "metadata": {},
   "source": [
    "Convert times from ms to s to align with TextGrid dfs."
   ]
  },
  {
   "cell_type": "code",
   "execution_count": 8,
   "id": "0c335d23-7e66-441c-be8f-2f70a13cfa85",
   "metadata": {},
   "outputs": [],
   "source": [
    "df_all['seg_Start'] = df_all['seg_Start']/1000\n",
    "df_all['seg_End'] = df_all['seg_End']/1000"
   ]
  },
  {
   "cell_type": "markdown",
   "id": "5f135471-e21f-4475-ad68-5dbfb0d1c01c",
   "metadata": {},
   "source": [
    "Count number of participants and languages. There should be 49 for Catalan (one was dropped due to poor audio quality), 50 for Spanish, and 70 for English."
   ]
  },
  {
   "cell_type": "code",
   "execution_count": 9,
   "id": "4aee8148-dcfd-423a-8117-2a549de09891",
   "metadata": {},
   "outputs": [
    {
     "data": {
      "text/plain": [
       "Language\n",
       "_en     1\n",
       "cat    49\n",
       "eng    69\n",
       "spa    50\n",
       "Name: partID, dtype: int64"
      ]
     },
     "execution_count": 9,
     "metadata": {},
     "output_type": "execute_result"
    }
   ],
   "source": [
    "df_all.groupby(['Language']).partID.nunique()"
   ]
  },
  {
   "cell_type": "markdown",
   "id": "ea66d42e-609a-4960-b275-d3430c0b2f80",
   "metadata": {},
   "source": [
    "Change `_eng` to `eng` (one participant ID was an extra digit)."
   ]
  },
  {
   "cell_type": "code",
   "execution_count": 10,
   "id": "5f329cca-ccc6-4284-8ff0-a0a0fd6cc9f2",
   "metadata": {},
   "outputs": [
    {
     "data": {
      "text/plain": [
       "Language\n",
       "cat    49\n",
       "eng    70\n",
       "spa    50\n",
       "Name: partID, dtype: int64"
      ]
     },
     "execution_count": 10,
     "metadata": {},
     "output_type": "execute_result"
    }
   ],
   "source": [
    "df_all['Language'].mask(df_all['Language'] == '_en', 'eng', inplace=True)\n",
    "df_all.groupby(['Language']).partID.nunique()"
   ]
  },
  {
   "cell_type": "code",
   "execution_count": 11,
   "id": "7ec315d4-fd80-400f-897a-9851ad9fc9dd",
   "metadata": {},
   "outputs": [],
   "source": [
    "df_all['partID'].mask(df_all['partID'] == 'rsj048', 'rsj0489', inplace=True)"
   ]
  },
  {
   "cell_type": "code",
   "execution_count": 12,
   "id": "0f6837f5-f727-4bad-b435-5e52fd6bdbc7",
   "metadata": {},
   "outputs": [
    {
     "data": {
      "text/plain": [
       "Series([], Name: Label, dtype: int64)"
      ]
     },
     "execution_count": 12,
     "metadata": {},
     "output_type": "execute_result"
    }
   ],
   "source": [
    "# check for files missing a vowel in one of the words\n",
    "chunk = df_all.groupby(['Filename'])['Label'].count()\n",
    "chunk[chunk.values%2==1]"
   ]
  },
  {
   "cell_type": "markdown",
   "id": "278d78e8-b387-45af-9a2d-c68a89278a44",
   "metadata": {},
   "source": [
    "Remove unnecessary columns."
   ]
  },
  {
   "cell_type": "code",
   "execution_count": 13,
   "id": "458c05e2-9e50-4f95-ad73-aba714ecad4a",
   "metadata": {},
   "outputs": [
    {
     "data": {
      "text/plain": [
       "Index(['Filename', 'Label', 'seg_Start', 'seg_End', 'H1c_mean', 'H2c_mean',\n",
       "       'H4c_mean', 'A1c_mean', 'A2c_mean', 'A3c_mean', 'H1H2c_mean',\n",
       "       'H2H4c_mean', 'H1A1c_mean', 'H1A2c_mean', 'H1A3c_mean', 'CPP_mean',\n",
       "       'Energy_mean', 'HNR05_mean', 'HNR15_mean', 'HNR25_mean', 'HNR35_mean',\n",
       "       'SHR_mean', 'H1u_mean', 'H2u_mean', 'H4u_mean', 'A1u_mean', 'A2u_mean',\n",
       "       'A3u_mean', 'H1H2u_mean', 'H2H4u_mean', 'H1A1u_mean', 'H1A2u_mean',\n",
       "       'H1A3u_mean', 'strF0_mean', 'sF0_mean', 'pF0_mean', 'shrF0_mean',\n",
       "       'sF1_mean', 'sF2_mean', 'sF3_mean', 'sF4_mean', 'pF1_mean', 'pF2_mean',\n",
       "       'pF3_mean', 'pF4_mean', 'Unnamed: 45', 'sB1_mean', 'sB2_mean',\n",
       "       'sB3_mean', 'sB4_mean', 'pB1_mean', 'pB2_mean', 'pB3_mean', 'pB4_mean',\n",
       "       'Unnamed: 53', 'partID', 'Language'],\n",
       "      dtype='object')"
      ]
     },
     "execution_count": 13,
     "metadata": {},
     "output_type": "execute_result"
    }
   ],
   "source": [
    "df_all.columns"
   ]
  },
  {
   "cell_type": "code",
   "execution_count": 14,
   "id": "fad74d15-66e1-48fd-abce-bdef0243c339",
   "metadata": {},
   "outputs": [],
   "source": [
    "df_all.drop(['H1u_mean', 'H2u_mean', 'H4u_mean', 'A1u_mean', 'A2u_mean', 'A3u_mean', 'H1H2u_mean',\n",
    "        'H2H4u_mean', 'H1A1u_mean', 'H1A2u_mean', 'H1A3u_mean', 'Unnamed: 45', 'sB1_mean',\n",
    "        'sB2_mean', 'sB3_mean', 'sB4_mean', 'pB1_mean', 'pB2_mean', 'pB3_mean', 'pB4_mean',\n",
    "        'Unnamed: 53'], axis = 1, inplace = True)"
   ]
  },
  {
   "cell_type": "markdown",
   "id": "4f495cc7-4747-4903-884e-14f46eaaeed7",
   "metadata": {},
   "source": [
    "## Read in TextGrids for additional information"
   ]
  },
  {
   "cell_type": "code",
   "execution_count": 15,
   "id": "0be1c92f-7df2-46a4-865b-abd425e844f8",
   "metadata": {},
   "outputs": [],
   "source": [
    "# create function that will take in textgrid and output df\n",
    "def tg2df(filepath, wd_tier, ph_tier, vowel_tier, stress_tier, syllable_tier):\n",
    "    \n",
    "    if syllable_tier != 0:\n",
    "        [wddf, phdf, vdf, sdf, sydf] = read_label(filepath,\n",
    "            ftype='praat',\n",
    "            tiers=[wd_tier, ph_tier, vowel_tier, stress_tier, syllable_tier]\n",
    "        )\n",
    "    else:\n",
    "        [wddf, phdf, vdf, sdf] = read_label(filepath,\n",
    "            ftype='praat',\n",
    "            tiers=[wd_tier, ph_tier, vowel_tier, stress_tier]\n",
    "        )\n",
    "        \n",
    "    newdf = pd.merge_asof(phdf.rename({'t1': 't1_ph', 't2': 't2_ph', 'label': \"phone\"},\n",
    "                                        axis ='columns'),\n",
    "                    wddf.drop([\"fname\"], axis = 1) \\\n",
    "                    .rename({'t1': 't1_wd', 't2': 't2_wd', \"label\": \"word\"}, axis='columns'),\n",
    "                    left_on='t1_ph',\n",
    "                    right_on='t1_wd')\n",
    "        \n",
    "    # make fname match output of voicesauce\n",
    "    newdf['fname'] = newdf['fname'].str[10:-8] + 'mat'\n",
    "    \n",
    "    if syllable_tier != 0:\n",
    "        # get duration of final s in converts\n",
    "        newdf['s_dur'] = np.where((newdf['word']=='converts') & (newdf['phone']=='S'),\n",
    "                         newdf['t2_ph']-newdf['t1_ph'],\n",
    "                        0)\n",
    "        s_durs = newdf.groupby(['t1_wd'])[['s_dur']].max()\n",
    "        newdf = pd.merge(newdf, s_durs, on = 't1_wd', suffixes = ('_s', '_word'))\n",
    "        newdf.drop(['s_dur_s'], axis = 1, inplace = True)\n",
    "     \n",
    "    # prep vowel df\n",
    "    vdf = vdf[vdf['vowels']!=''].copy()\n",
    "    vdf.drop(['fname', 't2'], axis = 1, inplace = True)\n",
    "    vdf = vdf.rename({'t1': 't1_ph'}, axis = 'columns')\n",
    "    vdf.reset_index(drop = True, inplace = True)\n",
    "    \n",
    "    if syllable_tier != 0:\n",
    "        # prep syllable df, join to vdf\n",
    "        sydf.drop(['fname'], axis = 1, inplace = True)\n",
    "        sydf = sydf.rename({'t1': 't1_syl', 't2': 't2_syl'}, axis = 'columns')\n",
    "        sydf = sydf[sydf['syllable']!=''].copy()\n",
    "        sydf.reset_index(inplace = True, drop = True)\n",
    "        sydf.drop(['syllable'], axis = 1, inplace= True)\n",
    "        vdf = vdf.join(sydf)\n",
    "    \n",
    "        # add stress info, merge to vdf\n",
    "        sdf.drop(['fname', 't2'], axis = 1, inplace = True)\n",
    "        sdf = sdf.rename({'t1': 't1_ph'}, axis = 1)\n",
    "        sdf = sdf[sdf['stress']!=''].copy()\n",
    "        sdf.reset_index(inplace = True, drop = True)\n",
    "        vdf = pd.merge(vdf, sdf, on='t1_ph')\n",
    "        \n",
    "        # merge to newdf\n",
    "        newdf = pd.merge(newdf, vdf, on = \"t1_ph\")\n",
    "        \n",
    "        # repair syllable duration for converts, then drop extra column\n",
    "        newdf['t2_wd'] = newdf['t2_wd']-newdf['s_dur_word']\n",
    "        newdf['t2_syl'] = newdf['t2_syl']-newdf['s_dur_word']\n",
    "        newdf.drop(['s_dur_word'], axis = 1, inplace = True)\n",
    "\n",
    "    else:\n",
    "        # merge to newdf, add syllable info\n",
    "        newdf = pd.merge(newdf, vdf, on = \"t1_ph\", how = \"outer\")\n",
    "        newdf['t1_syl'] = newdf['t1_ph'].shift(1).fillna(0)\n",
    "        newdf['t2_syl'] = newdf['t2_ph']\n",
    "        \n",
    "        # drop rows without vowels\n",
    "        newdf = newdf[newdf['vowels'].notna()].copy()\n",
    "        \n",
    "        # prep stress info, merge to newdf\n",
    "        sdf.drop(['fname', 't2'], axis = 1, inplace = True)\n",
    "        sdf = sdf.rename({'t1': 't1_ph'}, axis = 1)\n",
    "        newdf = pd.merge(newdf, sdf, on=\"t1_ph\")\n",
    "    \n",
    "    # add syllable duration and vowel duration\n",
    "    newdf['syl_dur'] = newdf['t2_syl']-newdf['t1_syl']\n",
    "    newdf['v_dur'] = newdf['t2_ph']-newdf['t1_ph']\n",
    "    \n",
    "    # drop t2_ph col\n",
    "    newdf.drop(['t2_ph'], axis = 1, inplace = True)\n",
    "    \n",
    "    return(newdf)"
   ]
  },
  {
   "cell_type": "code",
   "execution_count": 16,
   "id": "2433c0c9-7953-44ef-85de-bc676fec34de",
   "metadata": {},
   "outputs": [
    {
     "data": {
      "text/html": [
       "<div>\n",
       "<style scoped>\n",
       "    .dataframe tbody tr th:only-of-type {\n",
       "        vertical-align: middle;\n",
       "    }\n",
       "\n",
       "    .dataframe tbody tr th {\n",
       "        vertical-align: top;\n",
       "    }\n",
       "\n",
       "    .dataframe thead th {\n",
       "        text-align: right;\n",
       "    }\n",
       "</style>\n",
       "<table border=\"1\" class=\"dataframe\">\n",
       "  <thead>\n",
       "    <tr style=\"text-align: right;\">\n",
       "      <th></th>\n",
       "      <th>t1_ph</th>\n",
       "      <th>phone</th>\n",
       "      <th>fname</th>\n",
       "      <th>t1_wd</th>\n",
       "      <th>t2_wd</th>\n",
       "      <th>word</th>\n",
       "      <th>vowels</th>\n",
       "      <th>t1_syl</th>\n",
       "      <th>t2_syl</th>\n",
       "      <th>stress</th>\n",
       "      <th>syl_dur</th>\n",
       "      <th>v_dur</th>\n",
       "    </tr>\n",
       "  </thead>\n",
       "  <tbody>\n",
       "    <tr>\n",
       "      <th>9</th>\n",
       "      <td>27.174600</td>\n",
       "      <td>EH1</td>\n",
       "      <td>ruj030_english_exp2_f.mat</td>\n",
       "      <td>26.874600</td>\n",
       "      <td>27.364600</td>\n",
       "      <td>subject</td>\n",
       "      <td>ult</td>\n",
       "      <td>22.604600</td>\n",
       "      <td>22.884600</td>\n",
       "      <td>1</td>\n",
       "      <td>0.280000</td>\n",
       "      <td>0.080000</td>\n",
       "    </tr>\n",
       "    <tr>\n",
       "      <th>30</th>\n",
       "      <td>92.798847</td>\n",
       "      <td>i</td>\n",
       "      <td>acj297_spanish_exp2_b.mat</td>\n",
       "      <td>92.480000</td>\n",
       "      <td>92.980000</td>\n",
       "      <td>encamino</td>\n",
       "      <td>i</td>\n",
       "      <td>92.730000</td>\n",
       "      <td>92.860011</td>\n",
       "      <td>1</td>\n",
       "      <td>0.130011</td>\n",
       "      <td>0.061164</td>\n",
       "    </tr>\n",
       "    <tr>\n",
       "      <th>31</th>\n",
       "      <td>101.488817</td>\n",
       "      <td>o</td>\n",
       "      <td>ala054_spanish_exp2_a.mat</td>\n",
       "      <td>100.873800</td>\n",
       "      <td>101.563800</td>\n",
       "      <td>extermino</td>\n",
       "      <td>o</td>\n",
       "      <td>101.447559</td>\n",
       "      <td>101.563800</td>\n",
       "      <td>0</td>\n",
       "      <td>0.116241</td>\n",
       "      <td>0.074983</td>\n",
       "    </tr>\n",
       "    <tr>\n",
       "      <th>23</th>\n",
       "      <td>86.019095</td>\n",
       "      <td>AO1</td>\n",
       "      <td>era049_english_exp2_b.mat</td>\n",
       "      <td>85.781057</td>\n",
       "      <td>86.253100</td>\n",
       "      <td>import</td>\n",
       "      <td>ult</td>\n",
       "      <td>85.923100</td>\n",
       "      <td>86.253100</td>\n",
       "      <td>1</td>\n",
       "      <td>0.330000</td>\n",
       "      <td>0.080822</td>\n",
       "    </tr>\n",
       "    <tr>\n",
       "      <th>37</th>\n",
       "      <td>96.363300</td>\n",
       "      <td>a</td>\n",
       "      <td>eir057_catala_exp2_d.mat</td>\n",
       "      <td>95.947802</td>\n",
       "      <td>96.454060</td>\n",
       "      <td>determinar</td>\n",
       "      <td>a</td>\n",
       "      <td>96.330037</td>\n",
       "      <td>96.454060</td>\n",
       "      <td>1</td>\n",
       "      <td>0.124022</td>\n",
       "      <td>0.090760</td>\n",
       "    </tr>\n",
       "    <tr>\n",
       "      <th>35</th>\n",
       "      <td>86.169900</td>\n",
       "      <td>ER0</td>\n",
       "      <td>acr108_english_exp2_c.mat</td>\n",
       "      <td>85.959900</td>\n",
       "      <td>86.309900</td>\n",
       "      <td>desert</td>\n",
       "      <td>ult</td>\n",
       "      <td>86.099900</td>\n",
       "      <td>86.309900</td>\n",
       "      <td>0</td>\n",
       "      <td>0.210000</td>\n",
       "      <td>0.080000</td>\n",
       "    </tr>\n",
       "    <tr>\n",
       "      <th>2</th>\n",
       "      <td>8.107225</td>\n",
       "      <td>AA1</td>\n",
       "      <td>eir057_english_exp2_b.mat</td>\n",
       "      <td>8.022504</td>\n",
       "      <td>8.408070</td>\n",
       "      <td>converts</td>\n",
       "      <td>pen</td>\n",
       "      <td>8.022504</td>\n",
       "      <td>8.191947</td>\n",
       "      <td>1</td>\n",
       "      <td>0.169444</td>\n",
       "      <td>0.108503</td>\n",
       "    </tr>\n",
       "    <tr>\n",
       "      <th>0</th>\n",
       "      <td>23.925452</td>\n",
       "      <td>i</td>\n",
       "      <td>lic063_catala_exp2_d.mat</td>\n",
       "      <td>23.473942</td>\n",
       "      <td>24.330225</td>\n",
       "      <td>encaminar</td>\n",
       "      <td>i</td>\n",
       "      <td>23.852258</td>\n",
       "      <td>23.992100</td>\n",
       "      <td>1</td>\n",
       "      <td>0.139842</td>\n",
       "      <td>0.066648</td>\n",
       "    </tr>\n",
       "    <tr>\n",
       "      <th>2</th>\n",
       "      <td>16.895381</td>\n",
       "      <td>AA1</td>\n",
       "      <td>ala054_english_exp2_a.mat</td>\n",
       "      <td>16.753600</td>\n",
       "      <td>17.623600</td>\n",
       "      <td>compact</td>\n",
       "      <td>pen</td>\n",
       "      <td>16.753600</td>\n",
       "      <td>17.173600</td>\n",
       "      <td>1</td>\n",
       "      <td>0.420000</td>\n",
       "      <td>0.075928</td>\n",
       "    </tr>\n",
       "    <tr>\n",
       "      <th>30</th>\n",
       "      <td>87.837723</td>\n",
       "      <td>i</td>\n",
       "      <td>enp048_spanish_exp2_b.mat</td>\n",
       "      <td>87.631031</td>\n",
       "      <td>88.001699</td>\n",
       "      <td>iluminó</td>\n",
       "      <td>i</td>\n",
       "      <td>87.782605</td>\n",
       "      <td>87.885800</td>\n",
       "      <td>0</td>\n",
       "      <td>0.103195</td>\n",
       "      <td>0.048077</td>\n",
       "    </tr>\n",
       "  </tbody>\n",
       "</table>\n",
       "</div>"
      ],
      "text/plain": [
       "         t1_ph phone                      fname       t1_wd       t2_wd  \\\n",
       "9    27.174600   EH1  ruj030_english_exp2_f.mat   26.874600   27.364600   \n",
       "30   92.798847     i  acj297_spanish_exp2_b.mat   92.480000   92.980000   \n",
       "31  101.488817     o  ala054_spanish_exp2_a.mat  100.873800  101.563800   \n",
       "23   86.019095   AO1  era049_english_exp2_b.mat   85.781057   86.253100   \n",
       "37   96.363300     a   eir057_catala_exp2_d.mat   95.947802   96.454060   \n",
       "35   86.169900   ER0  acr108_english_exp2_c.mat   85.959900   86.309900   \n",
       "2     8.107225   AA1  eir057_english_exp2_b.mat    8.022504    8.408070   \n",
       "0    23.925452     i   lic063_catala_exp2_d.mat   23.473942   24.330225   \n",
       "2    16.895381   AA1  ala054_english_exp2_a.mat   16.753600   17.623600   \n",
       "30   87.837723     i  enp048_spanish_exp2_b.mat   87.631031   88.001699   \n",
       "\n",
       "          word vowels      t1_syl      t2_syl stress   syl_dur     v_dur  \n",
       "9      subject    ult   22.604600   22.884600      1  0.280000  0.080000  \n",
       "30    encamino      i   92.730000   92.860011      1  0.130011  0.061164  \n",
       "31   extermino      o  101.447559  101.563800      0  0.116241  0.074983  \n",
       "23      import    ult   85.923100   86.253100      1  0.330000  0.080822  \n",
       "37  determinar      a   96.330037   96.454060      1  0.124022  0.090760  \n",
       "35      desert    ult   86.099900   86.309900      0  0.210000  0.080000  \n",
       "2     converts    pen    8.022504    8.191947      1  0.169444  0.108503  \n",
       "0    encaminar      i   23.852258   23.992100      1  0.139842  0.066648  \n",
       "2      compact    pen   16.753600   17.173600      1  0.420000  0.075928  \n",
       "30     iluminó      i   87.782605   87.885800      0  0.103195  0.048077  "
      ]
     },
     "execution_count": 16,
     "metadata": {},
     "output_type": "execute_result"
    }
   ],
   "source": [
    "# loop through textgrid folder and create master df\n",
    "tg_folder = \"textgrids/\"\n",
    "corpora = os.listdir(tg_folder)\n",
    "df_list = []\n",
    "\n",
    "for f in corpora:\n",
    "    if f.endswith(\".TextGrid\"):\n",
    "        filepath = tg_folder + f\n",
    "    \n",
    "        if \"english\" in f:\n",
    "            wd_tier = \"sentence - words\"\n",
    "            ph_tier = \"sentence - phones\"\n",
    "            vowel_tier = \"vowels\"\n",
    "            stress_tier = \"stress\"\n",
    "            syllable_tier = \"syllable\"\n",
    "        else:\n",
    "            wd_tier = \"sentence - words\"\n",
    "            ph_tier = \"sentence - phones\"\n",
    "            vowel_tier = \"vowels\"\n",
    "            stress_tier = \"stress\"\n",
    "            syllable_tier = 0\n",
    "    \n",
    "        new_df = tg2df(filepath, wd_tier, ph_tier, vowel_tier, stress_tier, syllable_tier)\n",
    "        df_list.append(new_df)\n",
    "\n",
    "tg_data = pd.concat(df_list)\n",
    "tg_data.sample(10)"
   ]
  },
  {
   "cell_type": "markdown",
   "id": "9336d9b8-d73b-4e3c-9888-5b6d34535486",
   "metadata": {},
   "source": [
    "## Merge dataframes together"
   ]
  },
  {
   "cell_type": "code",
   "execution_count": 17,
   "id": "0f5f96be-1e70-4aba-9747-e6bf42ca91db",
   "metadata": {},
   "outputs": [],
   "source": [
    "N = 1000000\n",
    "df_all.seg_Start = np.round(df_all.seg_Start*N).astype(int) \n",
    "tg_data.t1_ph = np.round(tg_data.t1_ph*N).astype(int)"
   ]
  },
  {
   "cell_type": "code",
   "execution_count": 285,
   "id": "9441f033-2300-4c80-b712-b4164c60ac7b",
   "metadata": {},
   "outputs": [
    {
     "name": "stdout",
     "output_type": "stream",
     "text": [
      "27976\n"
     ]
    },
    {
     "data": {
      "text/html": [
       "<div>\n",
       "<style scoped>\n",
       "    .dataframe tbody tr th:only-of-type {\n",
       "        vertical-align: middle;\n",
       "    }\n",
       "\n",
       "    .dataframe tbody tr th {\n",
       "        vertical-align: top;\n",
       "    }\n",
       "\n",
       "    .dataframe thead th {\n",
       "        text-align: right;\n",
       "    }\n",
       "</style>\n",
       "<table border=\"1\" class=\"dataframe\">\n",
       "  <thead>\n",
       "    <tr style=\"text-align: right;\">\n",
       "      <th></th>\n",
       "      <th>Filename</th>\n",
       "      <th>Label</th>\n",
       "      <th>seg_Start</th>\n",
       "      <th>seg_End</th>\n",
       "      <th>H1c_mean</th>\n",
       "      <th>H2c_mean</th>\n",
       "      <th>H4c_mean</th>\n",
       "      <th>A1c_mean</th>\n",
       "      <th>A2c_mean</th>\n",
       "      <th>A3c_mean</th>\n",
       "      <th>...</th>\n",
       "      <th>fname</th>\n",
       "      <th>t1_wd</th>\n",
       "      <th>t2_wd</th>\n",
       "      <th>word</th>\n",
       "      <th>vowels</th>\n",
       "      <th>t1_syl</th>\n",
       "      <th>t2_syl</th>\n",
       "      <th>stress</th>\n",
       "      <th>syl_dur</th>\n",
       "      <th>v_dur</th>\n",
       "    </tr>\n",
       "  </thead>\n",
       "  <tbody>\n",
       "    <tr>\n",
       "      <th>7846</th>\n",
       "      <td>arc053_spanish_exp2_a.mat</td>\n",
       "      <td>i</td>\n",
       "      <td>7.421015</td>\n",
       "      <td>7.480900</td>\n",
       "      <td>0.000</td>\n",
       "      <td>0.000</td>\n",
       "      <td>0.000</td>\n",
       "      <td>0.000</td>\n",
       "      <td>0.000</td>\n",
       "      <td>0.000</td>\n",
       "      <td>...</td>\n",
       "      <td>arc053_spanish_exp2_a.mat</td>\n",
       "      <td>7.163668</td>\n",
       "      <td>7.580900</td>\n",
       "      <td>abomino</td>\n",
       "      <td>i</td>\n",
       "      <td>7.339479</td>\n",
       "      <td>7.480900</td>\n",
       "      <td>1</td>\n",
       "      <td>0.141421</td>\n",
       "      <td>0.059885</td>\n",
       "    </tr>\n",
       "    <tr>\n",
       "      <th>12145</th>\n",
       "      <td>irm067_catala_exp2_d.mat</td>\n",
       "      <td>a</td>\n",
       "      <td>52.562844</td>\n",
       "      <td>52.652500</td>\n",
       "      <td>7.892</td>\n",
       "      <td>3.516</td>\n",
       "      <td>2.265</td>\n",
       "      <td>-10.199</td>\n",
       "      <td>-7.879</td>\n",
       "      <td>-5.280</td>\n",
       "      <td>...</td>\n",
       "      <td>irm067_catala_exp2_d.mat</td>\n",
       "      <td>51.992500</td>\n",
       "      <td>52.652500</td>\n",
       "      <td>recrimina</td>\n",
       "      <td>a</td>\n",
       "      <td>52.492500</td>\n",
       "      <td>52.652500</td>\n",
       "      <td>0</td>\n",
       "      <td>0.160000</td>\n",
       "      <td>0.089656</td>\n",
       "    </tr>\n",
       "    <tr>\n",
       "      <th>23589</th>\n",
       "      <td>hya248_catala_exp2_a.mat</td>\n",
       "      <td>a</td>\n",
       "      <td>64.490100</td>\n",
       "      <td>64.650645</td>\n",
       "      <td>20.086</td>\n",
       "      <td>14.594</td>\n",
       "      <td>5.844</td>\n",
       "      <td>-7.961</td>\n",
       "      <td>-0.552</td>\n",
       "      <td>5.810</td>\n",
       "      <td>...</td>\n",
       "      <td>hya248_catala_exp2_a.mat</td>\n",
       "      <td>63.940100</td>\n",
       "      <td>64.650645</td>\n",
       "      <td>determinar</td>\n",
       "      <td>a</td>\n",
       "      <td>64.415612</td>\n",
       "      <td>64.650645</td>\n",
       "      <td>1</td>\n",
       "      <td>0.235033</td>\n",
       "      <td>0.160545</td>\n",
       "    </tr>\n",
       "    <tr>\n",
       "      <th>22251</th>\n",
       "      <td>eir057_catala_exp2_e.mat</td>\n",
       "      <td>a</td>\n",
       "      <td>36.850400</td>\n",
       "      <td>36.911115</td>\n",
       "      <td>30.735</td>\n",
       "      <td>31.758</td>\n",
       "      <td>15.921</td>\n",
       "      <td>9.126</td>\n",
       "      <td>10.740</td>\n",
       "      <td>10.802</td>\n",
       "      <td>...</td>\n",
       "      <td>eir057_catala_exp2_e.mat</td>\n",
       "      <td>36.381758</td>\n",
       "      <td>36.911115</td>\n",
       "      <td>discrimina</td>\n",
       "      <td>a</td>\n",
       "      <td>36.836155</td>\n",
       "      <td>36.911115</td>\n",
       "      <td>0</td>\n",
       "      <td>0.074960</td>\n",
       "      <td>0.060715</td>\n",
       "    </tr>\n",
       "    <tr>\n",
       "      <th>7810</th>\n",
       "      <td>arc053_english_exp2_f.mat</td>\n",
       "      <td>pen</td>\n",
       "      <td>12.658300</td>\n",
       "      <td>12.698300</td>\n",
       "      <td>0.000</td>\n",
       "      <td>0.000</td>\n",
       "      <td>0.000</td>\n",
       "      <td>0.000</td>\n",
       "      <td>0.000</td>\n",
       "      <td>0.000</td>\n",
       "      <td>...</td>\n",
       "      <td>arc053_english_exp2_f.mat</td>\n",
       "      <td>12.618300</td>\n",
       "      <td>12.888300</td>\n",
       "      <td>record</td>\n",
       "      <td>pen</td>\n",
       "      <td>12.618300</td>\n",
       "      <td>12.698300</td>\n",
       "      <td>0</td>\n",
       "      <td>0.080000</td>\n",
       "      <td>0.040000</td>\n",
       "    </tr>\n",
       "    <tr>\n",
       "      <th>15865</th>\n",
       "      <td>mae116_english_exp2_h.mat</td>\n",
       "      <td>ult</td>\n",
       "      <td>48.128098</td>\n",
       "      <td>48.270170</td>\n",
       "      <td>3.068</td>\n",
       "      <td>7.808</td>\n",
       "      <td>-1.779</td>\n",
       "      <td>-15.905</td>\n",
       "      <td>-2.534</td>\n",
       "      <td>3.058</td>\n",
       "      <td>...</td>\n",
       "      <td>mae116_english_exp2_h.mat</td>\n",
       "      <td>47.847534</td>\n",
       "      <td>48.429977</td>\n",
       "      <td>contract</td>\n",
       "      <td>ult</td>\n",
       "      <td>47.987501</td>\n",
       "      <td>48.429977</td>\n",
       "      <td>1</td>\n",
       "      <td>0.442476</td>\n",
       "      <td>0.142072</td>\n",
       "    </tr>\n",
       "    <tr>\n",
       "      <th>1418</th>\n",
       "      <td>acj047_english_exp2_c.mat</td>\n",
       "      <td>pen</td>\n",
       "      <td>95.229584</td>\n",
       "      <td>95.273400</td>\n",
       "      <td>0.000</td>\n",
       "      <td>0.000</td>\n",
       "      <td>0.000</td>\n",
       "      <td>0.000</td>\n",
       "      <td>0.000</td>\n",
       "      <td>0.000</td>\n",
       "      <td>...</td>\n",
       "      <td>acj047_english_exp2_c.mat</td>\n",
       "      <td>95.169300</td>\n",
       "      <td>95.675413</td>\n",
       "      <td>contract</td>\n",
       "      <td>pen</td>\n",
       "      <td>95.169300</td>\n",
       "      <td>95.352178</td>\n",
       "      <td>0</td>\n",
       "      <td>0.182878</td>\n",
       "      <td>0.043815</td>\n",
       "    </tr>\n",
       "    <tr>\n",
       "      <th>643</th>\n",
       "      <td>ala059_english_exp2_e.mat</td>\n",
       "      <td>ult</td>\n",
       "      <td>12.548878</td>\n",
       "      <td>12.627800</td>\n",
       "      <td>12.659</td>\n",
       "      <td>-0.636</td>\n",
       "      <td>3.810</td>\n",
       "      <td>-8.529</td>\n",
       "      <td>-5.274</td>\n",
       "      <td>-1.667</td>\n",
       "      <td>...</td>\n",
       "      <td>ala059_english_exp2_e.mat</td>\n",
       "      <td>12.367263</td>\n",
       "      <td>12.667800</td>\n",
       "      <td>desert</td>\n",
       "      <td>ult</td>\n",
       "      <td>12.457800</td>\n",
       "      <td>12.667800</td>\n",
       "      <td>0</td>\n",
       "      <td>0.210000</td>\n",
       "      <td>0.078922</td>\n",
       "    </tr>\n",
       "    <tr>\n",
       "      <th>25609</th>\n",
       "      <td>nie059_catala_exp2_d.mat</td>\n",
       "      <td>a</td>\n",
       "      <td>26.146400</td>\n",
       "      <td>26.266400</td>\n",
       "      <td>18.595</td>\n",
       "      <td>6.463</td>\n",
       "      <td>3.819</td>\n",
       "      <td>-12.925</td>\n",
       "      <td>-19.079</td>\n",
       "      <td>-0.596</td>\n",
       "      <td>...</td>\n",
       "      <td>nie059_catala_exp2_d.mat</td>\n",
       "      <td>25.736400</td>\n",
       "      <td>26.266400</td>\n",
       "      <td>eliminar</td>\n",
       "      <td>a</td>\n",
       "      <td>26.076400</td>\n",
       "      <td>26.266400</td>\n",
       "      <td>1</td>\n",
       "      <td>0.190000</td>\n",
       "      <td>0.120000</td>\n",
       "    </tr>\n",
       "    <tr>\n",
       "      <th>14638</th>\n",
       "      <td>lnd078_english_exp2_c.mat</td>\n",
       "      <td>pen</td>\n",
       "      <td>19.897482</td>\n",
       "      <td>19.964100</td>\n",
       "      <td>0.000</td>\n",
       "      <td>0.000</td>\n",
       "      <td>0.000</td>\n",
       "      <td>0.000</td>\n",
       "      <td>0.000</td>\n",
       "      <td>0.000</td>\n",
       "      <td>...</td>\n",
       "      <td>lnd078_english_exp2_c.mat</td>\n",
       "      <td>19.897482</td>\n",
       "      <td>20.324100</td>\n",
       "      <td>import</td>\n",
       "      <td>pen</td>\n",
       "      <td>19.897482</td>\n",
       "      <td>20.024100</td>\n",
       "      <td>0</td>\n",
       "      <td>0.126618</td>\n",
       "      <td>0.066618</td>\n",
       "    </tr>\n",
       "  </tbody>\n",
       "</table>\n",
       "<p>10 rows × 48 columns</p>\n",
       "</div>"
      ],
      "text/plain": [
       "                        Filename Label  seg_Start    seg_End  H1c_mean  \\\n",
       "7846   arc053_spanish_exp2_a.mat     i   7.421015   7.480900     0.000   \n",
       "12145   irm067_catala_exp2_d.mat     a  52.562844  52.652500     7.892   \n",
       "23589   hya248_catala_exp2_a.mat     a  64.490100  64.650645    20.086   \n",
       "22251   eir057_catala_exp2_e.mat     a  36.850400  36.911115    30.735   \n",
       "7810   arc053_english_exp2_f.mat   pen  12.658300  12.698300     0.000   \n",
       "15865  mae116_english_exp2_h.mat   ult  48.128098  48.270170     3.068   \n",
       "1418   acj047_english_exp2_c.mat   pen  95.229584  95.273400     0.000   \n",
       "643    ala059_english_exp2_e.mat   ult  12.548878  12.627800    12.659   \n",
       "25609   nie059_catala_exp2_d.mat     a  26.146400  26.266400    18.595   \n",
       "14638  lnd078_english_exp2_c.mat   pen  19.897482  19.964100     0.000   \n",
       "\n",
       "       H2c_mean  H4c_mean  A1c_mean  A2c_mean  A3c_mean  ...  \\\n",
       "7846      0.000     0.000     0.000     0.000     0.000  ...   \n",
       "12145     3.516     2.265   -10.199    -7.879    -5.280  ...   \n",
       "23589    14.594     5.844    -7.961    -0.552     5.810  ...   \n",
       "22251    31.758    15.921     9.126    10.740    10.802  ...   \n",
       "7810      0.000     0.000     0.000     0.000     0.000  ...   \n",
       "15865     7.808    -1.779   -15.905    -2.534     3.058  ...   \n",
       "1418      0.000     0.000     0.000     0.000     0.000  ...   \n",
       "643      -0.636     3.810    -8.529    -5.274    -1.667  ...   \n",
       "25609     6.463     3.819   -12.925   -19.079    -0.596  ...   \n",
       "14638     0.000     0.000     0.000     0.000     0.000  ...   \n",
       "\n",
       "                           fname      t1_wd      t2_wd        word  vowels  \\\n",
       "7846   arc053_spanish_exp2_a.mat   7.163668   7.580900     abomino       i   \n",
       "12145   irm067_catala_exp2_d.mat  51.992500  52.652500   recrimina       a   \n",
       "23589   hya248_catala_exp2_a.mat  63.940100  64.650645  determinar       a   \n",
       "22251   eir057_catala_exp2_e.mat  36.381758  36.911115  discrimina       a   \n",
       "7810   arc053_english_exp2_f.mat  12.618300  12.888300      record     pen   \n",
       "15865  mae116_english_exp2_h.mat  47.847534  48.429977    contract     ult   \n",
       "1418   acj047_english_exp2_c.mat  95.169300  95.675413    contract     pen   \n",
       "643    ala059_english_exp2_e.mat  12.367263  12.667800      desert     ult   \n",
       "25609   nie059_catala_exp2_d.mat  25.736400  26.266400    eliminar       a   \n",
       "14638  lnd078_english_exp2_c.mat  19.897482  20.324100      import     pen   \n",
       "\n",
       "          t1_syl     t2_syl  stress   syl_dur     v_dur  \n",
       "7846    7.339479   7.480900       1  0.141421  0.059885  \n",
       "12145  52.492500  52.652500       0  0.160000  0.089656  \n",
       "23589  64.415612  64.650645       1  0.235033  0.160545  \n",
       "22251  36.836155  36.911115       0  0.074960  0.060715  \n",
       "7810   12.618300  12.698300       0  0.080000  0.040000  \n",
       "15865  47.987501  48.429977       1  0.442476  0.142072  \n",
       "1418   95.169300  95.352178       0  0.182878  0.043815  \n",
       "643    12.457800  12.667800       0  0.210000  0.078922  \n",
       "25609  26.076400  26.266400       1  0.190000  0.120000  \n",
       "14638  19.897482  20.024100       0  0.126618  0.066618  \n",
       "\n",
       "[10 rows x 48 columns]"
      ]
     },
     "execution_count": 285,
     "metadata": {},
     "output_type": "execute_result"
    }
   ],
   "source": [
    "df = pd.merge(df_all, tg_data, left_on = ['Filename', 'Label', 'seg_Start'],\n",
    "             right_on = ['fname', 'vowels', 't1_ph'], how = \"left\")\n",
    "df.seg_Start = df.seg_Start / N\n",
    "print(len(df))\n",
    "df.sample(10)"
   ]
  },
  {
   "cell_type": "code",
   "execution_count": 286,
   "id": "49e861d5-ef7d-4a88-b70c-9b12effbd8d8",
   "metadata": {},
   "outputs": [
    {
     "data": {
      "text/plain": [
       "Series([], Name: Label, dtype: int64)"
      ]
     },
     "execution_count": 286,
     "metadata": {},
     "output_type": "execute_result"
    }
   ],
   "source": [
    "# check for misaligned intervals in TextGrids\n",
    "chunk = df.groupby(['Filename', 'word'])['Label'].count()\n",
    "chunk[chunk.values%2==1]"
   ]
  },
  {
   "cell_type": "code",
   "execution_count": 287,
   "id": "4e9cc75f-0337-4bcb-bc40-c375aec395d8",
   "metadata": {},
   "outputs": [
    {
     "data": {
      "text/plain": [
       "array(['i', 'a', 'pen', 'ult', 'ultimate', '1', '0', 'penn', 'o', 'penu',\n",
       "       'ut', 'ulr'], dtype=object)"
      ]
     },
     "execution_count": 287,
     "metadata": {},
     "output_type": "execute_result"
    }
   ],
   "source": [
    "df.Label.unique()"
   ]
  },
  {
   "cell_type": "code",
   "execution_count": 288,
   "id": "8cd24a27-448f-49c9-8743-c855ed7dc553",
   "metadata": {},
   "outputs": [
    {
     "name": "stdout",
     "output_type": "stream",
     "text": [
      "27976\n"
     ]
    },
    {
     "data": {
      "text/html": [
       "<div>\n",
       "<style scoped>\n",
       "    .dataframe tbody tr th:only-of-type {\n",
       "        vertical-align: middle;\n",
       "    }\n",
       "\n",
       "    .dataframe tbody tr th {\n",
       "        vertical-align: top;\n",
       "    }\n",
       "\n",
       "    .dataframe thead th {\n",
       "        text-align: right;\n",
       "    }\n",
       "</style>\n",
       "<table border=\"1\" class=\"dataframe\">\n",
       "  <thead>\n",
       "    <tr style=\"text-align: right;\">\n",
       "      <th></th>\n",
       "      <th>Filename</th>\n",
       "      <th>Label</th>\n",
       "      <th>seg_Start</th>\n",
       "      <th>seg_End</th>\n",
       "      <th>H1c_mean</th>\n",
       "      <th>H2c_mean</th>\n",
       "      <th>H4c_mean</th>\n",
       "      <th>A1c_mean</th>\n",
       "      <th>A2c_mean</th>\n",
       "      <th>A3c_mean</th>\n",
       "      <th>...</th>\n",
       "      <th>fname</th>\n",
       "      <th>t1_wd</th>\n",
       "      <th>t2_wd</th>\n",
       "      <th>word</th>\n",
       "      <th>vowels</th>\n",
       "      <th>t1_syl</th>\n",
       "      <th>t2_syl</th>\n",
       "      <th>stress</th>\n",
       "      <th>syl_dur</th>\n",
       "      <th>v_dur</th>\n",
       "    </tr>\n",
       "  </thead>\n",
       "  <tbody>\n",
       "    <tr>\n",
       "      <th>14045</th>\n",
       "      <td>lld029_english_exp2_c.mat</td>\n",
       "      <td>a</td>\n",
       "      <td>42.7853</td>\n",
       "      <td>42.8953</td>\n",
       "      <td>9.882</td>\n",
       "      <td>9.6</td>\n",
       "      <td>0.002</td>\n",
       "      <td>-15.519</td>\n",
       "      <td>-8.307</td>\n",
       "      <td>-2.33</td>\n",
       "      <td>...</td>\n",
       "      <td>lld029_english_exp2_c.mat</td>\n",
       "      <td>42.4953</td>\n",
       "      <td>43.01946</td>\n",
       "      <td>compact</td>\n",
       "      <td>a</td>\n",
       "      <td>42.685106</td>\n",
       "      <td>43.01946</td>\n",
       "      <td>1</td>\n",
       "      <td>0.334354</td>\n",
       "      <td>0.11</td>\n",
       "    </tr>\n",
       "  </tbody>\n",
       "</table>\n",
       "<p>1 rows × 48 columns</p>\n",
       "</div>"
      ],
      "text/plain": [
       "                        Filename Label  seg_Start  seg_End  H1c_mean  \\\n",
       "14045  lld029_english_exp2_c.mat     a    42.7853  42.8953     9.882   \n",
       "\n",
       "       H2c_mean  H4c_mean  A1c_mean  A2c_mean  A3c_mean  ...  \\\n",
       "14045       9.6     0.002   -15.519    -8.307     -2.33  ...   \n",
       "\n",
       "                           fname    t1_wd     t2_wd     word  vowels  \\\n",
       "14045  lld029_english_exp2_c.mat  42.4953  43.01946  compact       a   \n",
       "\n",
       "          t1_syl    t2_syl  stress   syl_dur  v_dur  \n",
       "14045  42.685106  43.01946       1  0.334354   0.11  \n",
       "\n",
       "[1 rows x 48 columns]"
      ]
     },
     "execution_count": 288,
     "metadata": {},
     "output_type": "execute_result"
    }
   ],
   "source": [
    "print(len(df))\n",
    "df[(df['Label']=='a')&(df['Language']==\"eng\")]"
   ]
  },
  {
   "cell_type": "code",
   "execution_count": 289,
   "id": "690a697b-16a6-4805-bd9c-2d254b5938bb",
   "metadata": {},
   "outputs": [],
   "source": [
    "df['Label'].mask(df['Label'] == 'ultimate', 'ult', inplace=True)\n",
    "df['Label'].mask(df['Label'] == 'penn', 'pen', inplace=True)\n",
    "df['Label'].mask(df['Label'] == 'penu', 'pen', inplace=True)\n",
    "df['Label'].mask(df['Label'] == 'ut', 'ult', inplace=True)\n",
    "df['Label'].mask(df['Label'] == 'ulr', 'ult', inplace=True)\n",
    "df['Label'].mask(df['Label'] == '1', 'pen', inplace=True)\n",
    "df['Label'].mask(df['Label'] == '0', 'ult', inplace=True)\n",
    "df['Label'].mask((df['Label']==\"pen\")&(df['Language']==\"spa\"), 'i', inplace=True)\n",
    "df['Label'].mask((df['Label']==\"ult\")&(df['Language']==\"spa\"), 'o', inplace=True)\n",
    "df['Label'].mask((df['Label']=='a')&(df['Language']==\"eng\"), 'ult', inplace=True)"
   ]
  },
  {
   "cell_type": "code",
   "execution_count": 290,
   "id": "ba42a9d8-9c50-4ebb-8c56-3dfd884a9e69",
   "metadata": {},
   "outputs": [
    {
     "data": {
      "text/plain": [
       "array(['0', '1', 'pen', 'ult', 'o', '4', '0w'], dtype=object)"
      ]
     },
     "execution_count": 290,
     "metadata": {},
     "output_type": "execute_result"
    }
   ],
   "source": [
    "df.stress.unique()"
   ]
  },
  {
   "cell_type": "code",
   "execution_count": 291,
   "id": "8e190149-f821-4267-8608-99821b22abab",
   "metadata": {},
   "outputs": [
    {
     "data": {
      "text/html": [
       "<div>\n",
       "<style scoped>\n",
       "    .dataframe tbody tr th:only-of-type {\n",
       "        vertical-align: middle;\n",
       "    }\n",
       "\n",
       "    .dataframe tbody tr th {\n",
       "        vertical-align: top;\n",
       "    }\n",
       "\n",
       "    .dataframe thead th {\n",
       "        text-align: right;\n",
       "    }\n",
       "</style>\n",
       "<table border=\"1\" class=\"dataframe\">\n",
       "  <thead>\n",
       "    <tr style=\"text-align: right;\">\n",
       "      <th></th>\n",
       "      <th>Filename</th>\n",
       "      <th>Label</th>\n",
       "      <th>seg_Start</th>\n",
       "      <th>seg_End</th>\n",
       "      <th>H1c_mean</th>\n",
       "      <th>H2c_mean</th>\n",
       "      <th>H4c_mean</th>\n",
       "      <th>A1c_mean</th>\n",
       "      <th>A2c_mean</th>\n",
       "      <th>A3c_mean</th>\n",
       "      <th>...</th>\n",
       "      <th>fname</th>\n",
       "      <th>t1_wd</th>\n",
       "      <th>t2_wd</th>\n",
       "      <th>word</th>\n",
       "      <th>vowels</th>\n",
       "      <th>t1_syl</th>\n",
       "      <th>t2_syl</th>\n",
       "      <th>stress</th>\n",
       "      <th>syl_dur</th>\n",
       "      <th>v_dur</th>\n",
       "    </tr>\n",
       "  </thead>\n",
       "  <tbody>\n",
       "    <tr>\n",
       "      <th>21915</th>\n",
       "      <td>dis022_english_exp2_c.mat</td>\n",
       "      <td>ult</td>\n",
       "      <td>89.139311</td>\n",
       "      <td>89.179982</td>\n",
       "      <td>0.0</td>\n",
       "      <td>0.0</td>\n",
       "      <td>0.0</td>\n",
       "      <td>0.0</td>\n",
       "      <td>0.0</td>\n",
       "      <td>0.0</td>\n",
       "      <td>...</td>\n",
       "      <td>dis022_english_exp2_c.mat</td>\n",
       "      <td>88.8668</td>\n",
       "      <td>89.2468</td>\n",
       "      <td>convict</td>\n",
       "      <td>ult</td>\n",
       "      <td>83.9618</td>\n",
       "      <td>84.1418</td>\n",
       "      <td>4</td>\n",
       "      <td>0.18</td>\n",
       "      <td>0.040671</td>\n",
       "    </tr>\n",
       "  </tbody>\n",
       "</table>\n",
       "<p>1 rows × 48 columns</p>\n",
       "</div>"
      ],
      "text/plain": [
       "                        Filename Label  seg_Start    seg_End  H1c_mean  \\\n",
       "21915  dis022_english_exp2_c.mat   ult  89.139311  89.179982       0.0   \n",
       "\n",
       "       H2c_mean  H4c_mean  A1c_mean  A2c_mean  A3c_mean  ...  \\\n",
       "21915       0.0       0.0       0.0       0.0       0.0  ...   \n",
       "\n",
       "                           fname    t1_wd    t2_wd     word  vowels   t1_syl  \\\n",
       "21915  dis022_english_exp2_c.mat  88.8668  89.2468  convict     ult  83.9618   \n",
       "\n",
       "        t2_syl  stress  syl_dur     v_dur  \n",
       "21915  84.1418       4     0.18  0.040671  \n",
       "\n",
       "[1 rows x 48 columns]"
      ]
     },
     "execution_count": 291,
     "metadata": {},
     "output_type": "execute_result"
    }
   ],
   "source": [
    "df[df['stress']==\"4\"]"
   ]
  },
  {
   "cell_type": "code",
   "execution_count": 292,
   "id": "d2eef81e-3368-4f52-8a49-3b565ac28236",
   "metadata": {},
   "outputs": [],
   "source": [
    "df['stress'].mask(df['stress'] == 'pen', '1', inplace=True)\n",
    "df['stress'].mask(df['stress'] == 'ult', '0', inplace=True)\n",
    "df['stress'].mask(df['stress'] == 'o', '0', inplace=True)\n",
    "df['stress'].mask(df['stress'] == '4', '0', inplace=True)\n",
    "df['stress'].mask(df['stress'] == '0w', '0', inplace=True)"
   ]
  },
  {
   "cell_type": "code",
   "execution_count": 293,
   "id": "31d4d915-dbca-4688-ac2d-b0f84eb1a847",
   "metadata": {},
   "outputs": [
    {
     "data": {
      "text/plain": [
       "Filename       0\n",
       "Label          0\n",
       "seg_Start      0\n",
       "seg_End        0\n",
       "H1c_mean       0\n",
       "H2c_mean       0\n",
       "H4c_mean       0\n",
       "A1c_mean       0\n",
       "A2c_mean       0\n",
       "A3c_mean       0\n",
       "H1H2c_mean     0\n",
       "H2H4c_mean     0\n",
       "H1A1c_mean     0\n",
       "H1A2c_mean     0\n",
       "H1A3c_mean     0\n",
       "CPP_mean       0\n",
       "Energy_mean    0\n",
       "HNR05_mean     0\n",
       "HNR15_mean     0\n",
       "HNR25_mean     0\n",
       "HNR35_mean     0\n",
       "SHR_mean       0\n",
       "strF0_mean     0\n",
       "sF0_mean       0\n",
       "pF0_mean       0\n",
       "shrF0_mean     0\n",
       "sF1_mean       0\n",
       "sF2_mean       0\n",
       "sF3_mean       0\n",
       "sF4_mean       0\n",
       "pF1_mean       0\n",
       "pF2_mean       0\n",
       "pF3_mean       0\n",
       "pF4_mean       0\n",
       "partID         0\n",
       "Language       0\n",
       "t1_ph          0\n",
       "phone          0\n",
       "fname          0\n",
       "t1_wd          0\n",
       "t2_wd          0\n",
       "word           0\n",
       "vowels         0\n",
       "t1_syl         0\n",
       "t2_syl         0\n",
       "stress         0\n",
       "syl_dur        0\n",
       "v_dur          0\n",
       "dtype: int64"
      ]
     },
     "execution_count": 293,
     "metadata": {},
     "output_type": "execute_result"
    }
   ],
   "source": [
    "df.isnull().sum()"
   ]
  },
  {
   "cell_type": "code",
   "execution_count": 294,
   "id": "7c95d2bc-8582-48e5-85b4-da2e2fc29aca",
   "metadata": {},
   "outputs": [
    {
     "data": {
      "text/plain": [
       "Index(['Filename', 'Label', 'seg_Start', 'seg_End', 'H1c_mean', 'H2c_mean',\n",
       "       'H4c_mean', 'A1c_mean', 'A2c_mean', 'A3c_mean', 'H1H2c_mean',\n",
       "       'H2H4c_mean', 'H1A1c_mean', 'H1A2c_mean', 'H1A3c_mean', 'CPP_mean',\n",
       "       'Energy_mean', 'HNR05_mean', 'HNR15_mean', 'HNR25_mean', 'HNR35_mean',\n",
       "       'SHR_mean', 'strF0_mean', 'sF0_mean', 'pF0_mean', 'shrF0_mean',\n",
       "       'sF1_mean', 'sF2_mean', 'sF3_mean', 'sF4_mean', 'pF1_mean', 'pF2_mean',\n",
       "       'pF3_mean', 'pF4_mean', 'partID', 'Language', 't1_ph', 'phone', 'fname',\n",
       "       't1_wd', 't2_wd', 'word', 'vowels', 't1_syl', 't2_syl', 'stress',\n",
       "       'syl_dur', 'v_dur'],\n",
       "      dtype='object')"
      ]
     },
     "execution_count": 294,
     "metadata": {},
     "output_type": "execute_result"
    }
   ],
   "source": [
    "df.columns"
   ]
  },
  {
   "cell_type": "code",
   "execution_count": 295,
   "id": "881b3b74-4aeb-4529-9a03-c459fadeeb78",
   "metadata": {},
   "outputs": [],
   "source": [
    "df.drop(['fname', 't1_ph', 'vowels'], axis = 1, inplace = True)"
   ]
  },
  {
   "cell_type": "markdown",
   "id": "fe34aad6-914b-4a4c-a6f1-8dc635c88676",
   "metadata": {},
   "source": [
    "## Delta F vowel normalization"
   ]
  },
  {
   "cell_type": "code",
   "execution_count": 296,
   "id": "c5aaed11-89ae-4ae8-a3ed-b8101ddfc598",
   "metadata": {},
   "outputs": [],
   "source": [
    "def delta_f(vowels, x): # df, prefix of formants\n",
    "    \n",
    "    Participant = []\n",
    "    ll = []\n",
    "    \n",
    "    for i in vowels.partID.unique():\n",
    "        data = vowels[vowels['partID']==i]\n",
    "        \n",
    "        delta = np.mean([np.true_divide(data[x + 'F1_mean'], 0.5), \n",
    "                        np.true_divide(data[x + 'F2_mean'], 1.5), \n",
    "                        np.true_divide(data[x + 'F3_mean'], 2.5)\n",
    "                       ])\n",
    "        \n",
    "        Participant.append(i)\n",
    "        ll.append(delta)\n",
    "    \n",
    "    deltas = {k:v for k,v in zip(Participant, ll)}\n",
    "    delta_df = pd.DataFrame.from_dict(deltas, orient = \"index\", columns = [x + '_Delta_F'])\n",
    "    delta_df = delta_df.rename_axis('partID').reset_index()\n",
    "        \n",
    "    return(delta_df)"
   ]
  },
  {
   "cell_type": "code",
   "execution_count": 297,
   "id": "1a2eab66-7049-442f-af66-c3fe74fcb7c6",
   "metadata": {},
   "outputs": [],
   "source": [
    "def normalization(vowels):\n",
    "    delta_df_snack = delta_f(df, \"s\")\n",
    "    delta_df_praat = delta_f(df, \"p\")\n",
    "    \n",
    "    deltas = delta_df_snack.set_index(\"partID\").join(delta_df_praat.set_index(\"partID\"))\n",
    "    deltas = deltas.reset_index()\n",
    "    \n",
    "    vowels_normalized = pd.merge(left = df,\n",
    "                                 right = deltas,\n",
    "                                 on = 'partID',\n",
    "                                 how = 'outer')\n",
    "    vowels_normalized['sF1_norm'] = vowels_normalized['sF1_mean']/vowels_normalized['s_Delta_F']\n",
    "    vowels_normalized['sF2_norm'] = vowels_normalized['sF2_mean']/vowels_normalized['s_Delta_F']\n",
    "    \n",
    "    vowels_normalized['pF1_norm'] = vowels_normalized['pF1_mean']/vowels_normalized['p_Delta_F']\n",
    "    vowels_normalized['pF2_norm'] = vowels_normalized['pF2_mean']/vowels_normalized['p_Delta_F']\n",
    "    \n",
    "    \n",
    "    return(vowels_normalized)"
   ]
  },
  {
   "cell_type": "code",
   "execution_count": 298,
   "id": "c98612bc-e351-4b7f-83ff-54e4e631db8e",
   "metadata": {},
   "outputs": [
    {
     "data": {
      "text/html": [
       "<div>\n",
       "<style scoped>\n",
       "    .dataframe tbody tr th:only-of-type {\n",
       "        vertical-align: middle;\n",
       "    }\n",
       "\n",
       "    .dataframe tbody tr th {\n",
       "        vertical-align: top;\n",
       "    }\n",
       "\n",
       "    .dataframe thead th {\n",
       "        text-align: right;\n",
       "    }\n",
       "</style>\n",
       "<table border=\"1\" class=\"dataframe\">\n",
       "  <thead>\n",
       "    <tr style=\"text-align: right;\">\n",
       "      <th></th>\n",
       "      <th>Filename</th>\n",
       "      <th>Label</th>\n",
       "      <th>seg_Start</th>\n",
       "      <th>seg_End</th>\n",
       "      <th>H1c_mean</th>\n",
       "      <th>H2c_mean</th>\n",
       "      <th>H4c_mean</th>\n",
       "      <th>A1c_mean</th>\n",
       "      <th>A2c_mean</th>\n",
       "      <th>A3c_mean</th>\n",
       "      <th>...</th>\n",
       "      <th>t2_syl</th>\n",
       "      <th>stress</th>\n",
       "      <th>syl_dur</th>\n",
       "      <th>v_dur</th>\n",
       "      <th>s_Delta_F</th>\n",
       "      <th>p_Delta_F</th>\n",
       "      <th>sF1_norm</th>\n",
       "      <th>sF2_norm</th>\n",
       "      <th>pF1_norm</th>\n",
       "      <th>pF2_norm</th>\n",
       "    </tr>\n",
       "  </thead>\n",
       "  <tbody>\n",
       "    <tr>\n",
       "      <th>21536</th>\n",
       "      <td>arr030_english_exp2_a.mat</td>\n",
       "      <td>pen</td>\n",
       "      <td>73.7015</td>\n",
       "      <td>73.781500</td>\n",
       "      <td>17.819</td>\n",
       "      <td>11.159</td>\n",
       "      <td>8.894</td>\n",
       "      <td>-2.618</td>\n",
       "      <td>3.639</td>\n",
       "      <td>13.620</td>\n",
       "      <td>...</td>\n",
       "      <td>73.861500</td>\n",
       "      <td>1</td>\n",
       "      <td>0.311913</td>\n",
       "      <td>0.080000</td>\n",
       "      <td>1080.247188</td>\n",
       "      <td>1087.567517</td>\n",
       "      <td>0.555373</td>\n",
       "      <td>1.360194</td>\n",
       "      <td>0.622354</td>\n",
       "      <td>1.367122</td>\n",
       "    </tr>\n",
       "    <tr>\n",
       "      <th>23867</th>\n",
       "      <td>hya248_catala_exp2_c.mat</td>\n",
       "      <td>a</td>\n",
       "      <td>12.0085</td>\n",
       "      <td>12.197134</td>\n",
       "      <td>13.341</td>\n",
       "      <td>9.323</td>\n",
       "      <td>7.024</td>\n",
       "      <td>-3.156</td>\n",
       "      <td>-0.703</td>\n",
       "      <td>5.367</td>\n",
       "      <td>...</td>\n",
       "      <td>12.197134</td>\n",
       "      <td>0</td>\n",
       "      <td>0.288634</td>\n",
       "      <td>0.188634</td>\n",
       "      <td>927.640298</td>\n",
       "      <td>922.173073</td>\n",
       "      <td>0.353121</td>\n",
       "      <td>1.399079</td>\n",
       "      <td>0.590311</td>\n",
       "      <td>1.422796</td>\n",
       "    </tr>\n",
       "  </tbody>\n",
       "</table>\n",
       "<p>2 rows × 51 columns</p>\n",
       "</div>"
      ],
      "text/plain": [
       "                        Filename Label  seg_Start    seg_End  H1c_mean  \\\n",
       "21536  arr030_english_exp2_a.mat   pen    73.7015  73.781500    17.819   \n",
       "23867   hya248_catala_exp2_c.mat     a    12.0085  12.197134    13.341   \n",
       "\n",
       "       H2c_mean  H4c_mean  A1c_mean  A2c_mean  A3c_mean  ...     t2_syl  \\\n",
       "21536    11.159     8.894    -2.618     3.639    13.620  ...  73.861500   \n",
       "23867     9.323     7.024    -3.156    -0.703     5.367  ...  12.197134   \n",
       "\n",
       "       stress   syl_dur     v_dur    s_Delta_F    p_Delta_F  sF1_norm  \\\n",
       "21536       1  0.311913  0.080000  1080.247188  1087.567517  0.555373   \n",
       "23867       0  0.288634  0.188634   927.640298   922.173073  0.353121   \n",
       "\n",
       "       sF2_norm  pF1_norm  pF2_norm  \n",
       "21536  1.360194  0.622354  1.367122  \n",
       "23867  1.399079  0.590311  1.422796  \n",
       "\n",
       "[2 rows x 51 columns]"
      ]
     },
     "execution_count": 298,
     "metadata": {},
     "output_type": "execute_result"
    }
   ],
   "source": [
    "df = normalization(df)\n",
    "df.sample(2)"
   ]
  },
  {
   "cell_type": "code",
   "execution_count": 299,
   "id": "8c7aac5f-7d84-4650-9ab1-9a0a3392691d",
   "metadata": {},
   "outputs": [],
   "source": [
    "df.drop(['s_Delta_F', 'p_Delta_F', 'phone', 'seg_Start',\n",
    "         't1_syl', 't2_syl', 'seg_End', 'sF1_mean', 'sF2_mean',\n",
    "        'sF3_mean', 'sF4_mean', 'pF1_mean', 'pF2_mean', 'pF3_mean',\n",
    "        'pF4_mean', 'H1c_mean', 'H2c_mean', 'H4c_mean',\n",
    "        'A1c_mean', 'A2c_mean', 'A3c_mean'], axis = 1, inplace = True)"
   ]
  },
  {
   "cell_type": "code",
   "execution_count": 300,
   "id": "1fa4a425-acfc-46f0-945c-3cc91e993947",
   "metadata": {},
   "outputs": [],
   "source": [
    "df['sF1_norm_center'] = df['sF1_norm']-0.5\n",
    "df['pF1_norm_center'] = df['pF1_norm']-0.5\n",
    "df['sF2_norm_center'] = df['sF2_norm']-1.5\n",
    "df['pF2_norm_center'] = df['pF2_norm']-1.5\n",
    "df['s_deltaF_dist'] = np.sqrt(np.square(df['sF1_norm_center']) + \n",
    "                                           np.square(df['sF2_norm_center']))\n",
    "df['p_deltaF_dist'] = np.sqrt(np.square(df['pF1_norm_center']) + \n",
    "                                           np.square(df['pF2_norm_center']))"
   ]
  },
  {
   "cell_type": "code",
   "execution_count": 301,
   "id": "b17da1b5-2bd2-45d9-899b-e0b81f0bb3bf",
   "metadata": {},
   "outputs": [
    {
     "name": "stderr",
     "output_type": "stream",
     "text": [
      "<ipython-input-301-caf926aea618>:1: FutureWarning: Indexing with multiple keys (implicitly converted to a tuple of keys) will be deprecated, use a list instead.\n",
      "  check_df = pd.DataFrame(df.groupby(['partID', 'Language', 'Label', 'stress'])['sF1_norm_center', 'sF2_norm_center',\n"
     ]
    },
    {
     "data": {
      "text/html": [
       "<div>\n",
       "<style scoped>\n",
       "    .dataframe tbody tr th:only-of-type {\n",
       "        vertical-align: middle;\n",
       "    }\n",
       "\n",
       "    .dataframe tbody tr th {\n",
       "        vertical-align: top;\n",
       "    }\n",
       "\n",
       "    .dataframe thead th {\n",
       "        text-align: right;\n",
       "    }\n",
       "</style>\n",
       "<table border=\"1\" class=\"dataframe\">\n",
       "  <thead>\n",
       "    <tr style=\"text-align: right;\">\n",
       "      <th></th>\n",
       "      <th></th>\n",
       "      <th></th>\n",
       "      <th></th>\n",
       "      <th>sF1_norm_center</th>\n",
       "      <th>sF2_norm_center</th>\n",
       "      <th>s_deltaF_dist</th>\n",
       "      <th>p_deltaF_dist</th>\n",
       "    </tr>\n",
       "    <tr>\n",
       "      <th>partID</th>\n",
       "      <th>Language</th>\n",
       "      <th>Label</th>\n",
       "      <th>stress</th>\n",
       "      <th></th>\n",
       "      <th></th>\n",
       "      <th></th>\n",
       "      <th></th>\n",
       "    </tr>\n",
       "  </thead>\n",
       "  <tbody>\n",
       "    <tr>\n",
       "      <th rowspan=\"4\" valign=\"top\">acj047</th>\n",
       "      <th rowspan=\"4\" valign=\"top\">eng</th>\n",
       "      <th rowspan=\"2\" valign=\"top\">pen</th>\n",
       "      <th>0</th>\n",
       "      <td>-0.132305</td>\n",
       "      <td>0.095661</td>\n",
       "      <td>0.330697</td>\n",
       "      <td>0.273044</td>\n",
       "    </tr>\n",
       "    <tr>\n",
       "      <th>1</th>\n",
       "      <td>0.023989</td>\n",
       "      <td>0.056534</td>\n",
       "      <td>0.382204</td>\n",
       "      <td>0.300457</td>\n",
       "    </tr>\n",
       "    <tr>\n",
       "      <th rowspan=\"2\" valign=\"top\">ult</th>\n",
       "      <th>0</th>\n",
       "      <td>-0.048871</td>\n",
       "      <td>0.234953</td>\n",
       "      <td>0.404417</td>\n",
       "      <td>0.337735</td>\n",
       "    </tr>\n",
       "    <tr>\n",
       "      <th>1</th>\n",
       "      <td>0.034200</td>\n",
       "      <td>0.215323</td>\n",
       "      <td>0.415284</td>\n",
       "      <td>0.353312</td>\n",
       "    </tr>\n",
       "    <tr>\n",
       "      <th>acj297</th>\n",
       "      <th>cat</th>\n",
       "      <th>a</th>\n",
       "      <th>0</th>\n",
       "      <td>0.147586</td>\n",
       "      <td>-0.001992</td>\n",
       "      <td>0.174184</td>\n",
       "      <td>0.140784</td>\n",
       "    </tr>\n",
       "  </tbody>\n",
       "</table>\n",
       "</div>"
      ],
      "text/plain": [
       "                              sF1_norm_center  sF2_norm_center  s_deltaF_dist  \\\n",
       "partID Language Label stress                                                    \n",
       "acj047 eng      pen   0             -0.132305         0.095661       0.330697   \n",
       "                      1              0.023989         0.056534       0.382204   \n",
       "                ult   0             -0.048871         0.234953       0.404417   \n",
       "                      1              0.034200         0.215323       0.415284   \n",
       "acj297 cat      a     0              0.147586        -0.001992       0.174184   \n",
       "\n",
       "                              p_deltaF_dist  \n",
       "partID Language Label stress                 \n",
       "acj047 eng      pen   0            0.273044  \n",
       "                      1            0.300457  \n",
       "                ult   0            0.337735  \n",
       "                      1            0.353312  \n",
       "acj297 cat      a     0            0.140784  "
      ]
     },
     "execution_count": 301,
     "metadata": {},
     "output_type": "execute_result"
    }
   ],
   "source": [
    "check_df = pd.DataFrame(df.groupby(['partID', 'Language', 'Label', 'stress'])['sF1_norm_center', 'sF2_norm_center',\n",
    "                                                                             's_deltaF_dist', 'p_deltaF_dist'].mean())\n",
    "check_df.head()"
   ]
  },
  {
   "cell_type": "code",
   "execution_count": 302,
   "id": "7f5d6cb4-617e-45ae-b62f-f50e12853fe2",
   "metadata": {},
   "outputs": [
    {
     "data": {
      "text/html": [
       "<div>\n",
       "<style scoped>\n",
       "    .dataframe tbody tr th:only-of-type {\n",
       "        vertical-align: middle;\n",
       "    }\n",
       "\n",
       "    .dataframe tbody tr th {\n",
       "        vertical-align: top;\n",
       "    }\n",
       "\n",
       "    .dataframe thead th {\n",
       "        text-align: right;\n",
       "    }\n",
       "</style>\n",
       "<table border=\"1\" class=\"dataframe\">\n",
       "  <thead>\n",
       "    <tr style=\"text-align: right;\">\n",
       "      <th></th>\n",
       "      <th>partID</th>\n",
       "      <th>Language</th>\n",
       "      <th>Label</th>\n",
       "      <th>stress</th>\n",
       "      <th>sF1_norm_center</th>\n",
       "      <th>sF2_norm_center</th>\n",
       "      <th>s_deltaF_dist</th>\n",
       "      <th>p_deltaF_dist</th>\n",
       "    </tr>\n",
       "  </thead>\n",
       "  <tbody>\n",
       "    <tr>\n",
       "      <th>0</th>\n",
       "      <td>acj047</td>\n",
       "      <td>eng</td>\n",
       "      <td>pen</td>\n",
       "      <td>0</td>\n",
       "      <td>-0.132305</td>\n",
       "      <td>0.095661</td>\n",
       "      <td>0.330697</td>\n",
       "      <td>0.273044</td>\n",
       "    </tr>\n",
       "    <tr>\n",
       "      <th>1</th>\n",
       "      <td>acj047</td>\n",
       "      <td>eng</td>\n",
       "      <td>pen</td>\n",
       "      <td>1</td>\n",
       "      <td>0.023989</td>\n",
       "      <td>0.056534</td>\n",
       "      <td>0.382204</td>\n",
       "      <td>0.300457</td>\n",
       "    </tr>\n",
       "    <tr>\n",
       "      <th>2</th>\n",
       "      <td>acj047</td>\n",
       "      <td>eng</td>\n",
       "      <td>ult</td>\n",
       "      <td>0</td>\n",
       "      <td>-0.048871</td>\n",
       "      <td>0.234953</td>\n",
       "      <td>0.404417</td>\n",
       "      <td>0.337735</td>\n",
       "    </tr>\n",
       "    <tr>\n",
       "      <th>3</th>\n",
       "      <td>acj047</td>\n",
       "      <td>eng</td>\n",
       "      <td>ult</td>\n",
       "      <td>1</td>\n",
       "      <td>0.034200</td>\n",
       "      <td>0.215323</td>\n",
       "      <td>0.415284</td>\n",
       "      <td>0.353312</td>\n",
       "    </tr>\n",
       "    <tr>\n",
       "      <th>4</th>\n",
       "      <td>acj297</td>\n",
       "      <td>cat</td>\n",
       "      <td>a</td>\n",
       "      <td>0</td>\n",
       "      <td>0.147586</td>\n",
       "      <td>-0.001992</td>\n",
       "      <td>0.174184</td>\n",
       "      <td>0.140784</td>\n",
       "    </tr>\n",
       "  </tbody>\n",
       "</table>\n",
       "</div>"
      ],
      "text/plain": [
       "   partID Language Label stress  sF1_norm_center  sF2_norm_center  \\\n",
       "0  acj047      eng   pen      0        -0.132305         0.095661   \n",
       "1  acj047      eng   pen      1         0.023989         0.056534   \n",
       "2  acj047      eng   ult      0        -0.048871         0.234953   \n",
       "3  acj047      eng   ult      1         0.034200         0.215323   \n",
       "4  acj297      cat     a      0         0.147586        -0.001992   \n",
       "\n",
       "   s_deltaF_dist  p_deltaF_dist  \n",
       "0       0.330697       0.273044  \n",
       "1       0.382204       0.300457  \n",
       "2       0.404417       0.337735  \n",
       "3       0.415284       0.353312  \n",
       "4       0.174184       0.140784  "
      ]
     },
     "execution_count": 302,
     "metadata": {},
     "output_type": "execute_result"
    }
   ],
   "source": [
    "check_df.reset_index(inplace = True)\n",
    "check_df.head()"
   ]
  },
  {
   "cell_type": "code",
   "execution_count": 303,
   "id": "4c8b58c1-d848-4fe8-b54d-4872610260ee",
   "metadata": {},
   "outputs": [
    {
     "data": {
      "text/plain": [
       "<AxesSubplot: xlabel='Label', ylabel='sF1_norm_center'>"
      ]
     },
     "execution_count": 303,
     "metadata": {},
     "output_type": "execute_result"
    },
    {
     "data": {
      "image/png": "[encoded data removed]",
      "text/plain": [
       "<Figure size 432x288 with 1 Axes>"
      ]
     },
     "metadata": {
      "needs_background": "light"
     },
     "output_type": "display_data"
    }
   ],
   "source": [
    "plot_cat = check_df[check_df['Language']==\"cat\"].copy()\n",
    "sns.boxplot(data=plot_cat, x=\"Label\", y=\"sF1_norm_center\", hue=\"stress\")"
   ]
  },
  {
   "cell_type": "code",
   "execution_count": 304,
   "id": "9acc2826-3042-4ca7-a7b2-4197b0b1666f",
   "metadata": {},
   "outputs": [
    {
     "data": {
      "text/plain": [
       "<AxesSubplot: xlabel='Label', ylabel='sF2_norm_center'>"
      ]
     },
     "execution_count": 304,
     "metadata": {},
     "output_type": "execute_result"
    },
    {
     "data": {
      "image/png": "[encoded data removed]",
      "text/plain": [
       "<Figure size 432x288 with 1 Axes>"
      ]
     },
     "metadata": {
      "needs_background": "light"
     },
     "output_type": "display_data"
    }
   ],
   "source": [
    "sns.boxplot(data=plot_cat, x=\"Label\", y=\"sF2_norm_center\", hue=\"stress\")"
   ]
  },
  {
   "cell_type": "code",
   "execution_count": 305,
   "id": "a7316fef-e491-47ce-a3b9-6272fed12cf5",
   "metadata": {},
   "outputs": [
    {
     "data": {
      "text/plain": [
       "<AxesSubplot: xlabel='Label', ylabel='s_deltaF_dist'>"
      ]
     },
     "execution_count": 305,
     "metadata": {},
     "output_type": "execute_result"
    },
    {
     "data": {
      "image/png": "[encoded data removed]",
      "text/plain": [
       "<Figure size 432x288 with 1 Axes>"
      ]
     },
     "metadata": {
      "needs_background": "light"
     },
     "output_type": "display_data"
    }
   ],
   "source": [
    "sns.boxplot(data=plot_cat, x=\"Label\", y=\"s_deltaF_dist\", hue=\"stress\")"
   ]
  },
  {
   "cell_type": "code",
   "execution_count": 306,
   "id": "bd2f8f0f-2676-4343-9a95-2a4a5b7290c8",
   "metadata": {},
   "outputs": [
    {
     "data": {
      "text/plain": [
       "<AxesSubplot: xlabel='Label', ylabel='p_deltaF_dist'>"
      ]
     },
     "execution_count": 306,
     "metadata": {},
     "output_type": "execute_result"
    },
    {
     "data": {
      "image/png": "[encoded data removed]",
      "text/plain": [
       "<Figure size 432x288 with 1 Axes>"
      ]
     },
     "metadata": {
      "needs_background": "light"
     },
     "output_type": "display_data"
    }
   ],
   "source": [
    "sns.boxplot(data=plot_cat, x=\"Label\", y=\"p_deltaF_dist\", hue=\"stress\")"
   ]
  },
  {
   "cell_type": "code",
   "execution_count": 307,
   "id": "b2569ef7-30e5-4ec0-9582-76c7166f9251",
   "metadata": {},
   "outputs": [
    {
     "data": {
      "text/plain": [
       "<AxesSubplot: xlabel='Label', ylabel='sF1_norm_center'>"
      ]
     },
     "execution_count": 307,
     "metadata": {},
     "output_type": "execute_result"
    },
    {
     "data": {
      "image/png": "[encoded data removed]",
      "text/plain": [
       "<Figure size 432x288 with 1 Axes>"
      ]
     },
     "metadata": {
      "needs_background": "light"
     },
     "output_type": "display_data"
    }
   ],
   "source": [
    "plot_eng = check_df[check_df['Language']==\"eng\"].copy()\n",
    "sns.boxplot(data=plot_eng, x=\"Label\", y=\"sF1_norm_center\", hue=\"stress\")"
   ]
  },
  {
   "cell_type": "code",
   "execution_count": 308,
   "id": "59ce2107-155f-49ce-b7aa-8679ac99887f",
   "metadata": {},
   "outputs": [
    {
     "data": {
      "text/plain": [
       "<AxesSubplot: xlabel='Label', ylabel='sF2_norm_center'>"
      ]
     },
     "execution_count": 308,
     "metadata": {},
     "output_type": "execute_result"
    },
    {
     "data": {
      "image/png": "[encoded data removed]",
      "text/plain": [
       "<Figure size 432x288 with 1 Axes>"
      ]
     },
     "metadata": {
      "needs_background": "light"
     },
     "output_type": "display_data"
    }
   ],
   "source": [
    "sns.boxplot(data=plot_eng, x=\"Label\", y=\"sF2_norm_center\", hue=\"stress\")"
   ]
  },
  {
   "cell_type": "code",
   "execution_count": 309,
   "id": "5f4881c5-07b1-4114-af15-7379115b30cc",
   "metadata": {},
   "outputs": [
    {
     "data": {
      "text/plain": [
       "<AxesSubplot: xlabel='Label', ylabel='sF1_norm_center'>"
      ]
     },
     "execution_count": 309,
     "metadata": {},
     "output_type": "execute_result"
    },
    {
     "data": {
      "image/png": "[encoded data removed]",
      "text/plain": [
       "<Figure size 432x288 with 1 Axes>"
      ]
     },
     "metadata": {
      "needs_background": "light"
     },
     "output_type": "display_data"
    }
   ],
   "source": [
    "plot_spa = check_df[check_df['Language']==\"spa\"].copy()\n",
    "sns.boxplot(data=plot_spa, x=\"Label\", y=\"sF1_norm_center\", hue=\"stress\")"
   ]
  },
  {
   "cell_type": "code",
   "execution_count": 310,
   "id": "37c16a41-8dd7-4353-9023-078fbdcdf89c",
   "metadata": {},
   "outputs": [
    {
     "data": {
      "text/plain": [
       "<AxesSubplot: xlabel='Label', ylabel='sF2_norm_center'>"
      ]
     },
     "execution_count": 310,
     "metadata": {},
     "output_type": "execute_result"
    },
    {
     "data": {
      "image/png": "[encoded data removed]",
      "text/plain": [
       "<Figure size 432x288 with 1 Axes>"
      ]
     },
     "metadata": {
      "needs_background": "light"
     },
     "output_type": "display_data"
    }
   ],
   "source": [
    "sns.boxplot(data=plot_spa, x=\"Label\", y=\"sF2_norm_center\", hue=\"stress\")"
   ]
  },
  {
   "cell_type": "code",
   "execution_count": 311,
   "id": "88bb45ad-bb31-4c18-8beb-21e2052a6e87",
   "metadata": {},
   "outputs": [
    {
     "data": {
      "text/plain": [
       "Index(['Filename', 'Label', 'H1H2c_mean', 'H2H4c_mean', 'H1A1c_mean',\n",
       "       'H1A2c_mean', 'H1A3c_mean', 'CPP_mean', 'Energy_mean', 'HNR05_mean',\n",
       "       'HNR15_mean', 'HNR25_mean', 'HNR35_mean', 'SHR_mean', 'strF0_mean',\n",
       "       'sF0_mean', 'pF0_mean', 'shrF0_mean', 'partID', 'Language', 't1_wd',\n",
       "       't2_wd', 'word', 'stress', 'syl_dur', 'v_dur', 'sF1_norm', 'sF2_norm',\n",
       "       'pF1_norm', 'pF2_norm', 'sF1_norm_center', 'pF1_norm_center',\n",
       "       'sF2_norm_center', 'pF2_norm_center', 's_deltaF_dist', 'p_deltaF_dist'],\n",
       "      dtype='object')"
      ]
     },
     "execution_count": 311,
     "metadata": {},
     "output_type": "execute_result"
    }
   ],
   "source": [
    "df.columns"
   ]
  },
  {
   "cell_type": "code",
   "execution_count": 312,
   "id": "e63b6f92-a505-4333-b1bb-b5e3b214bbc1",
   "metadata": {},
   "outputs": [],
   "source": [
    "df.drop(['sF1_norm', 'pF1_norm', 'sF2_norm', 'pF2_norm'], axis = 1, inplace = True)"
   ]
  },
  {
   "cell_type": "markdown",
   "id": "2110d2fc-cec1-471d-ac00-418e3e5e7966",
   "metadata": {},
   "source": [
    "## PCA on remaining spectral measures\n",
    "\n",
    "Isolate columns to use for PCA:"
   ]
  },
  {
   "cell_type": "code",
   "execution_count": 313,
   "id": "ad91bd8f-e419-46b3-a687-09cf1674947d",
   "metadata": {},
   "outputs": [
    {
     "data": {
      "text/plain": [
       "Index(['H1H2c_mean', 'H2H4c_mean', 'H1A1c_mean', 'H1A2c_mean', 'H1A3c_mean',\n",
       "       'CPP_mean', 'Energy_mean', 'HNR05_mean', 'HNR15_mean', 'HNR25_mean',\n",
       "       'HNR35_mean', 'SHR_mean', 'strF0_mean', 'sF0_mean', 'pF0_mean',\n",
       "       'shrF0_mean', 'partID', 'syl_dur', 'v_dur'],\n",
       "      dtype='object')"
      ]
     },
     "execution_count": 313,
     "metadata": {},
     "output_type": "execute_result"
    }
   ],
   "source": [
    "scale_subset = df.drop(['Filename', 'Label', 'Language', 't1_wd', 't2_wd',\n",
    "                     'word', 'stress', 's_deltaF_dist', 'p_deltaF_dist', 'pF1_norm_center',\n",
    "                       'pF2_norm_center', 'sF2_norm_center', 'sF1_norm_center'],\n",
    "                    axis = 1)\n",
    "scale_subset.columns"
   ]
  },
  {
   "cell_type": "code",
   "execution_count": 314,
   "id": "4762346b-db42-40d8-97ce-2cf3d33ae3cf",
   "metadata": {},
   "outputs": [],
   "source": [
    "for_later = scale_subset.drop(['partID'], axis = 1)"
   ]
  },
  {
   "cell_type": "code",
   "execution_count": 315,
   "id": "931c6293-974c-40a6-9da8-f6c3b95e2567",
   "metadata": {},
   "outputs": [
    {
     "name": "stdout",
     "output_type": "stream",
     "text": [
      "                 H1H2c_mean  H2H4c_mean  H1A1c_mean  H1A2c_mean  H1A3c_mean  \\\n",
      "H1H2c_mean         1.000000   -0.042119    0.627145    0.584279    0.535623   \n",
      "H2H4c_mean        -0.042119    1.000000    0.551434    0.560978    0.522805   \n",
      "H1A1c_mean         0.627145    0.551434    1.000000    0.914130    0.807390   \n",
      "H1A2c_mean         0.584279    0.560978    0.914130    1.000000    0.825272   \n",
      "H1A3c_mean         0.535623    0.522805    0.807390    0.825272    1.000000   \n",
      "CPP_mean           0.397133    0.350976    0.735130    0.690547    0.561366   \n",
      "Energy_mean       -0.100024    0.059987   -0.052536   -0.036062   -0.021165   \n",
      "HNR05_mean         0.442289    0.207561    0.644884    0.599488    0.452373   \n",
      "HNR15_mean         0.441434    0.181067    0.611166    0.589402    0.466620   \n",
      "HNR25_mean         0.451202    0.199537    0.638672    0.626736    0.480369   \n",
      "HNR35_mean         0.451555    0.226912    0.666978    0.655612    0.515458   \n",
      "SHR_mean          -0.129179    0.111305    0.016965   -0.003334    0.016132   \n",
      "strF0_mean         0.187112   -0.188107    0.022103    0.004514   -0.052789   \n",
      "sF0_mean           0.159246   -0.176549    0.004127    0.005869   -0.057860   \n",
      "pF0_mean           0.151536   -0.172610    0.013828   -0.000205   -0.052121   \n",
      "shrF0_mean         0.063364   -0.187482   -0.041889   -0.048932   -0.099329   \n",
      "syl_dur            0.113125    0.167291    0.263946    0.236849    0.210628   \n",
      "v_dur              0.316067    0.343238    0.649455    0.602662    0.468193   \n",
      "sF1_norm_center    0.168473    0.417691    0.437978    0.400051    0.391508   \n",
      "sF2_norm_center   -0.062931   -0.115826   -0.183866   -0.209010    0.017402   \n",
      "\n",
      "                 CPP_mean  Energy_mean  HNR05_mean  HNR15_mean  HNR25_mean  \\\n",
      "H1H2c_mean       0.397133    -0.100024    0.442289    0.441434    0.451202   \n",
      "H2H4c_mean       0.350976     0.059987    0.207561    0.181067    0.199537   \n",
      "H1A1c_mean       0.735130    -0.052536    0.644884    0.611166    0.638672   \n",
      "H1A2c_mean       0.690547    -0.036062    0.599488    0.589402    0.626736   \n",
      "H1A3c_mean       0.561366    -0.021165    0.452373    0.466620    0.480369   \n",
      "CPP_mean         1.000000    -0.003086    0.876180    0.898843    0.915634   \n",
      "Energy_mean     -0.003086     1.000000   -0.152569   -0.147586   -0.140355   \n",
      "HNR05_mean       0.876180    -0.152569    1.000000    0.964691    0.956458   \n",
      "HNR15_mean       0.898843    -0.147586    0.964691    1.000000    0.992433   \n",
      "HNR25_mean       0.915634    -0.140355    0.956458    0.992433    1.000000   \n",
      "HNR35_mean       0.932563    -0.134785    0.948906    0.981809    0.995103   \n",
      "SHR_mean         0.060389     0.174514   -0.018019   -0.029179   -0.025740   \n",
      "strF0_mean       0.044879    -0.251242    0.272058    0.222374    0.208226   \n",
      "sF0_mean         0.074278    -0.171726    0.297793    0.262099    0.241912   \n",
      "pF0_mean         0.064026    -0.205208    0.262049    0.217662    0.202715   \n",
      "shrF0_mean       0.026929    -0.152150    0.188822    0.152107    0.144036   \n",
      "syl_dur          0.200739    -0.042224    0.163854    0.127110    0.141086   \n",
      "v_dur            0.658746    -0.049333    0.585706    0.554933    0.584141   \n",
      "sF1_norm_center  0.311983     0.062298    0.240107    0.149839    0.159326   \n",
      "sF2_norm_center -0.188161    -0.028224   -0.173480   -0.110491   -0.145855   \n",
      "\n",
      "                 HNR35_mean  SHR_mean  strF0_mean  sF0_mean  pF0_mean  \\\n",
      "H1H2c_mean         0.451555 -0.129179    0.187112  0.159246  0.151536   \n",
      "H2H4c_mean         0.226912  0.111305   -0.188107 -0.176549 -0.172610   \n",
      "H1A1c_mean         0.666978  0.016965    0.022103  0.004127  0.013828   \n",
      "H1A2c_mean         0.655612 -0.003334    0.004514  0.005869 -0.000205   \n",
      "H1A3c_mean         0.515458  0.016132   -0.052789 -0.057860 -0.052121   \n",
      "CPP_mean           0.932563  0.060389    0.044879  0.074278  0.064026   \n",
      "Energy_mean       -0.134785  0.174514   -0.251242 -0.171726 -0.205208   \n",
      "HNR05_mean         0.948906 -0.018019    0.272058  0.297793  0.262049   \n",
      "HNR15_mean         0.981809 -0.029179    0.222374  0.262099  0.217662   \n",
      "HNR25_mean         0.995103 -0.025740    0.208226  0.241912  0.202715   \n",
      "HNR35_mean         1.000000 -0.016754    0.190442  0.215880  0.184913   \n",
      "SHR_mean          -0.016754  1.000000   -0.266604 -0.250868 -0.242775   \n",
      "strF0_mean         0.190442 -0.266604    1.000000  0.808708  0.830075   \n",
      "sF0_mean           0.215880 -0.250868    0.808708  1.000000  0.833310   \n",
      "pF0_mean           0.184913 -0.242775    0.830075  0.833310  1.000000   \n",
      "shrF0_mean         0.132470 -0.202823    0.777968  0.659462  0.721130   \n",
      "syl_dur            0.159475  0.058532    0.008198 -0.056514  0.000695   \n",
      "v_dur              0.608303  0.059303    0.041637  0.037858  0.052183   \n",
      "sF1_norm_center    0.186818  0.176876   -0.083605 -0.175036 -0.091297   \n",
      "sF2_norm_center   -0.170509 -0.050176   -0.014461  0.029383 -0.005099   \n",
      "\n",
      "                 shrF0_mean   syl_dur     v_dur  sF1_norm_center  \\\n",
      "H1H2c_mean         0.063364  0.113125  0.316067         0.168473   \n",
      "H2H4c_mean        -0.187482  0.167291  0.343238         0.417691   \n",
      "H1A1c_mean        -0.041889  0.263946  0.649455         0.437978   \n",
      "H1A2c_mean        -0.048932  0.236849  0.602662         0.400051   \n",
      "H1A3c_mean        -0.099329  0.210628  0.468193         0.391508   \n",
      "CPP_mean           0.026929  0.200739  0.658746         0.311983   \n",
      "Energy_mean       -0.152150 -0.042224 -0.049333         0.062298   \n",
      "HNR05_mean         0.188822  0.163854  0.585706         0.240107   \n",
      "HNR15_mean         0.152107  0.127110  0.554933         0.149839   \n",
      "HNR25_mean         0.144036  0.141086  0.584141         0.159326   \n",
      "HNR35_mean         0.132470  0.159475  0.608303         0.186818   \n",
      "SHR_mean          -0.202823  0.058532  0.059303         0.176876   \n",
      "strF0_mean         0.777968  0.008198  0.041637        -0.083605   \n",
      "sF0_mean           0.659462 -0.056514  0.037858        -0.175036   \n",
      "pF0_mean           0.721130  0.000695  0.052183        -0.091297   \n",
      "shrF0_mean         1.000000  0.031889  0.052528        -0.081888   \n",
      "syl_dur            0.031889  1.000000  0.377435         0.233000   \n",
      "v_dur              0.052528  0.377435  1.000000         0.283095   \n",
      "sF1_norm_center   -0.081888  0.233000  0.283095         1.000000   \n",
      "sF2_norm_center    0.003438 -0.131013 -0.181938        -0.260771   \n",
      "\n",
      "                 sF2_norm_center  \n",
      "H1H2c_mean             -0.062931  \n",
      "H2H4c_mean             -0.115826  \n",
      "H1A1c_mean             -0.183866  \n",
      "H1A2c_mean             -0.209010  \n",
      "H1A3c_mean              0.017402  \n",
      "CPP_mean               -0.188161  \n",
      "Energy_mean            -0.028224  \n",
      "HNR05_mean             -0.173480  \n",
      "HNR15_mean             -0.110491  \n",
      "HNR25_mean             -0.145855  \n",
      "HNR35_mean             -0.170509  \n",
      "SHR_mean               -0.050176  \n",
      "strF0_mean             -0.014461  \n",
      "sF0_mean                0.029383  \n",
      "pF0_mean               -0.005099  \n",
      "shrF0_mean              0.003438  \n",
      "syl_dur                -0.131013  \n",
      "v_dur                  -0.181938  \n",
      "sF1_norm_center        -0.260771  \n",
      "sF2_norm_center         1.000000  \n"
     ]
    }
   ],
   "source": [
    "cor_subset = df.drop(['Filename', 'Label', 'Language', 't1_wd', 't2_wd',\n",
    "                     'word', 'stress', 's_deltaF_dist', 'p_deltaF_dist', 'pF1_norm_center',\n",
    "                       'pF2_norm_center'],\n",
    "                    axis = 1)\n",
    "cor= cor_subset.corr(method='pearson')\n",
    "print(cor)"
   ]
  },
  {
   "cell_type": "code",
   "execution_count": 316,
   "id": "1be19fce-10c4-4a93-94c6-74f47c158fe6",
   "metadata": {},
   "outputs": [
    {
     "data": {
      "image/png": "[encoded data removed]",
      "text/plain": [
       "<Figure size 576x432 with 2 Axes>"
      ]
     },
     "metadata": {
      "needs_background": "light"
     },
     "output_type": "display_data"
    }
   ],
   "source": [
    "fig, ax =plt.subplots(figsize=(8, 6))\n",
    "plt.title(\"Correlation Plot\")\n",
    "sns.heatmap(cor, mask=np.zeros_like(cor, dtype=np.bool), cmap=sns.diverging_palette(220, 10, as_cmap=True),\n",
    "            square=True, ax=ax)\n",
    "plt.show()"
   ]
  },
  {
   "cell_type": "code",
   "execution_count": 257,
   "id": "e939e40b-e7fc-4d28-9d11-a027c0e0aa65",
   "metadata": {},
   "outputs": [
    {
     "data": {
      "text/plain": [
       "['H1H2c_mean',\n",
       " 'H2H4c_mean',\n",
       " 'H1A1c_mean',\n",
       " 'H1A2c_mean',\n",
       " 'H1A3c_mean',\n",
       " 'CPP_mean',\n",
       " 'Energy_mean',\n",
       " 'HNR05_mean',\n",
       " 'HNR15_mean',\n",
       " 'HNR25_mean',\n",
       " 'HNR35_mean',\n",
       " 'SHR_mean',\n",
       " 'strF0_mean',\n",
       " 'sF0_mean',\n",
       " 'pF0_mean',\n",
       " 'shrF0_mean',\n",
       " 'syl_dur',\n",
       " 'v_dur']"
      ]
     },
     "execution_count": 257,
     "metadata": {},
     "output_type": "execute_result"
    }
   ],
   "source": [
    "columns_to_scale = list(scale_subset.columns)\n",
    "columns_to_scale = [e for e in columns_to_scale if e not in ('partID')]\n",
    "columns_to_scale"
   ]
  },
  {
   "cell_type": "code",
   "execution_count": 258,
   "id": "4d1fc6ad-ac10-4ffb-b737-cf570b6b4a23",
   "metadata": {},
   "outputs": [],
   "source": [
    "from sklearn.compose import ColumnTransformer \n",
    "from sklearn.preprocessing import  StandardScaler \n",
    "column_trans = ColumnTransformer(\n",
    "    [('scaler', StandardScaler(),columns_to_scale)],\n",
    "      remainder='passthrough')"
   ]
  },
  {
   "cell_type": "code",
   "execution_count": 259,
   "id": "81960bb7-e75e-4f8d-abdb-492ade8d892d",
   "metadata": {},
   "outputs": [
    {
     "data": {
      "text/html": [
       "<div>\n",
       "<style scoped>\n",
       "    .dataframe tbody tr th:only-of-type {\n",
       "        vertical-align: middle;\n",
       "    }\n",
       "\n",
       "    .dataframe tbody tr th {\n",
       "        vertical-align: top;\n",
       "    }\n",
       "\n",
       "    .dataframe thead th {\n",
       "        text-align: right;\n",
       "    }\n",
       "</style>\n",
       "<table border=\"1\" class=\"dataframe\">\n",
       "  <thead>\n",
       "    <tr style=\"text-align: right;\">\n",
       "      <th></th>\n",
       "      <th>H1H2c_mean</th>\n",
       "      <th>H2H4c_mean</th>\n",
       "      <th>H1A1c_mean</th>\n",
       "      <th>H1A2c_mean</th>\n",
       "      <th>H1A3c_mean</th>\n",
       "      <th>CPP_mean</th>\n",
       "      <th>Energy_mean</th>\n",
       "      <th>HNR05_mean</th>\n",
       "      <th>HNR15_mean</th>\n",
       "      <th>HNR25_mean</th>\n",
       "      <th>HNR35_mean</th>\n",
       "      <th>SHR_mean</th>\n",
       "      <th>strF0_mean</th>\n",
       "      <th>sF0_mean</th>\n",
       "      <th>pF0_mean</th>\n",
       "      <th>shrF0_mean</th>\n",
       "      <th>partID</th>\n",
       "      <th>syl_dur</th>\n",
       "      <th>v_dur</th>\n",
       "    </tr>\n",
       "  </thead>\n",
       "  <tbody>\n",
       "    <tr>\n",
       "      <th>0</th>\n",
       "      <td>0.000</td>\n",
       "      <td>0.000</td>\n",
       "      <td>0.000</td>\n",
       "      <td>0.000</td>\n",
       "      <td>0.000</td>\n",
       "      <td>0.000</td>\n",
       "      <td>2.027</td>\n",
       "      <td>0.000</td>\n",
       "      <td>0.000</td>\n",
       "      <td>0.000</td>\n",
       "      <td>0.000</td>\n",
       "      <td>0.689</td>\n",
       "      <td>214.879</td>\n",
       "      <td>214.724</td>\n",
       "      <td>215.169</td>\n",
       "      <td>215.573</td>\n",
       "      <td>afs116</td>\n",
       "      <td>0.145897</td>\n",
       "      <td>0.071737</td>\n",
       "    </tr>\n",
       "    <tr>\n",
       "      <th>1</th>\n",
       "      <td>8.178</td>\n",
       "      <td>-7.852</td>\n",
       "      <td>22.533</td>\n",
       "      <td>4.996</td>\n",
       "      <td>7.536</td>\n",
       "      <td>22.885</td>\n",
       "      <td>9.773</td>\n",
       "      <td>38.283</td>\n",
       "      <td>27.609</td>\n",
       "      <td>28.908</td>\n",
       "      <td>31.274</td>\n",
       "      <td>0.069</td>\n",
       "      <td>256.735</td>\n",
       "      <td>255.060</td>\n",
       "      <td>249.018</td>\n",
       "      <td>250.642</td>\n",
       "      <td>afs116</td>\n",
       "      <td>0.369100</td>\n",
       "      <td>0.274665</td>\n",
       "    </tr>\n",
       "    <tr>\n",
       "      <th>2</th>\n",
       "      <td>0.926</td>\n",
       "      <td>-0.275</td>\n",
       "      <td>21.573</td>\n",
       "      <td>10.235</td>\n",
       "      <td>-14.295</td>\n",
       "      <td>23.386</td>\n",
       "      <td>1.525</td>\n",
       "      <td>38.794</td>\n",
       "      <td>41.579</td>\n",
       "      <td>47.213</td>\n",
       "      <td>46.690</td>\n",
       "      <td>0.000</td>\n",
       "      <td>209.019</td>\n",
       "      <td>208.756</td>\n",
       "      <td>209.094</td>\n",
       "      <td>208.054</td>\n",
       "      <td>afs116</td>\n",
       "      <td>0.220000</td>\n",
       "      <td>0.114457</td>\n",
       "    </tr>\n",
       "    <tr>\n",
       "      <th>3</th>\n",
       "      <td>7.587</td>\n",
       "      <td>-3.805</td>\n",
       "      <td>23.928</td>\n",
       "      <td>8.507</td>\n",
       "      <td>7.348</td>\n",
       "      <td>22.635</td>\n",
       "      <td>6.205</td>\n",
       "      <td>40.017</td>\n",
       "      <td>31.012</td>\n",
       "      <td>32.570</td>\n",
       "      <td>34.712</td>\n",
       "      <td>0.110</td>\n",
       "      <td>264.008</td>\n",
       "      <td>263.577</td>\n",
       "      <td>257.407</td>\n",
       "      <td>260.936</td>\n",
       "      <td>afs116</td>\n",
       "      <td>0.550000</td>\n",
       "      <td>0.300000</td>\n",
       "    </tr>\n",
       "    <tr>\n",
       "      <th>4</th>\n",
       "      <td>5.218</td>\n",
       "      <td>-4.662</td>\n",
       "      <td>15.659</td>\n",
       "      <td>13.086</td>\n",
       "      <td>-10.113</td>\n",
       "      <td>24.928</td>\n",
       "      <td>1.563</td>\n",
       "      <td>46.984</td>\n",
       "      <td>48.124</td>\n",
       "      <td>54.370</td>\n",
       "      <td>53.177</td>\n",
       "      <td>0.429</td>\n",
       "      <td>215.571</td>\n",
       "      <td>215.483</td>\n",
       "      <td>215.614</td>\n",
       "      <td>216.376</td>\n",
       "      <td>afs116</td>\n",
       "      <td>0.333645</td>\n",
       "      <td>0.198018</td>\n",
       "    </tr>\n",
       "  </tbody>\n",
       "</table>\n",
       "</div>"
      ],
      "text/plain": [
       "   H1H2c_mean  H2H4c_mean  H1A1c_mean  H1A2c_mean  H1A3c_mean  CPP_mean  \\\n",
       "0       0.000       0.000       0.000       0.000       0.000     0.000   \n",
       "1       8.178      -7.852      22.533       4.996       7.536    22.885   \n",
       "2       0.926      -0.275      21.573      10.235     -14.295    23.386   \n",
       "3       7.587      -3.805      23.928       8.507       7.348    22.635   \n",
       "4       5.218      -4.662      15.659      13.086     -10.113    24.928   \n",
       "\n",
       "   Energy_mean  HNR05_mean  HNR15_mean  HNR25_mean  HNR35_mean  SHR_mean  \\\n",
       "0        2.027       0.000       0.000       0.000       0.000     0.689   \n",
       "1        9.773      38.283      27.609      28.908      31.274     0.069   \n",
       "2        1.525      38.794      41.579      47.213      46.690     0.000   \n",
       "3        6.205      40.017      31.012      32.570      34.712     0.110   \n",
       "4        1.563      46.984      48.124      54.370      53.177     0.429   \n",
       "\n",
       "   strF0_mean  sF0_mean  pF0_mean  shrF0_mean  partID   syl_dur     v_dur  \n",
       "0     214.879   214.724   215.169     215.573  afs116  0.145897  0.071737  \n",
       "1     256.735   255.060   249.018     250.642  afs116  0.369100  0.274665  \n",
       "2     209.019   208.756   209.094     208.054  afs116  0.220000  0.114457  \n",
       "3     264.008   263.577   257.407     260.936  afs116  0.550000  0.300000  \n",
       "4     215.571   215.483   215.614     216.376  afs116  0.333645  0.198018  "
      ]
     },
     "execution_count": 259,
     "metadata": {},
     "output_type": "execute_result"
    }
   ],
   "source": [
    "scale_subset.head()"
   ]
  },
  {
   "cell_type": "code",
   "execution_count": 260,
   "id": "8de86142-54d5-47b4-8ccb-eb1cc64b4567",
   "metadata": {},
   "outputs": [
    {
     "data": {
      "text/plain": [
       "array([[-0.27234526, -0.16601499, -1.30995931, ..., -0.16923684,\n",
       "        -0.40743675, -0.72461931],\n",
       "       [ 1.37480321, -1.51724946,  1.14776577, ...,  0.76479309,\n",
       "         0.23734508,  1.94004265],\n",
       "       [-0.08583762, -0.21333917,  1.04305641, ..., -0.36949836,\n",
       "        -0.19336978, -0.16366427],\n",
       "       ...,\n",
       "       [ 0.43236061, -0.71448037, -0.7795682 , ...,  1.20220079,\n",
       "        -0.36040883, -0.06110433],\n",
       "       [ 0.43236061, -0.71448037, -0.7795682 , ..., -1.34713722,\n",
       "        -0.76781389, -0.90940004],\n",
       "       [-2.00983111,  2.77284908,  1.64649541, ...,  0.15568592,\n",
       "         0.31859959,  0.52325859]])"
      ]
     },
     "execution_count": 260,
     "metadata": {},
     "output_type": "execute_result"
    }
   ],
   "source": [
    "scaled_dfs = []\n",
    "for p in scale_subset.partID.unique():\n",
    "    test_df = scale_subset[scale_subset['partID']==p].copy()\n",
    "    test_df.drop(['partID'], axis = 1, inplace = True)\n",
    "    test_scaled = pd.DataFrame(column_trans.fit_transform(test_df), columns = list(scale_subset.columns).remove('partID'))\n",
    "    scaled_dfs.append(test_scaled)\n",
    "\n",
    "ready_for_pca = pd.concat(scaled_dfs)\n",
    "ready_for_pca.to_numpy()"
   ]
  },
  {
   "cell_type": "code",
   "execution_count": 261,
   "id": "993cb919-d984-42fe-8851-9ab4eb943346",
   "metadata": {},
   "outputs": [],
   "source": [
    "ready_for_pca = ready_for_pca.astype(float)"
   ]
  },
  {
   "cell_type": "markdown",
   "id": "0d5b658f-4279-4b8f-8c1e-87bb8465af38",
   "metadata": {},
   "source": [
    "Check if dataset meets statistical assumptions appropriate for PCA -- Bartlett's Test should return a significant p-value (<0.05) and the KMO Test should return a value greater than 0.6"
   ]
  },
  {
   "cell_type": "code",
   "execution_count": 262,
   "id": "57accd16-13e1-4ddb-874c-e23be06b2f20",
   "metadata": {},
   "outputs": [
    {
     "data": {
      "text/plain": [
       "(622783.9479581958, 0.0)"
      ]
     },
     "execution_count": 262,
     "metadata": {},
     "output_type": "execute_result"
    }
   ],
   "source": [
    "# Bartlett's Test, prints the chi square value and associated p-value\n",
    "fa.calculate_bartlett_sphericity(ready_for_pca)"
   ]
  },
  {
   "cell_type": "code",
   "execution_count": 263,
   "id": "9751ddfd-c580-4abf-8334-87f91e3b54df",
   "metadata": {},
   "outputs": [
    {
     "name": "stderr",
     "output_type": "stream",
     "text": [
      "C:\\Users\\atarv\\Anaconda3\\lib\\site-packages\\factor_analyzer\\utils.py:244: UserWarning: The inverse of the variance-covariance matrix was calculated using the Moore-Penrose generalized matrix inversion, due to its determinant being at or very close to zero.\n",
      "  warnings.warn(\n"
     ]
    },
    {
     "data": {
      "text/plain": [
       "0.8443698773103286"
      ]
     },
     "execution_count": 263,
     "metadata": {},
     "output_type": "execute_result"
    }
   ],
   "source": [
    "fa.calculate_kmo(ready_for_pca)[1] # index of 1 returns the overall KMO value"
   ]
  },
  {
   "cell_type": "markdown",
   "id": "909664b9-2dba-4a5c-8d1d-2eff14d1dee5",
   "metadata": {},
   "source": [
    "Project the data onto as many principal components needed to explain 90% of the variance."
   ]
  },
  {
   "cell_type": "code",
   "execution_count": 264,
   "id": "544d77a2-cfce-4b76-bf3c-157f3f0e80a4",
   "metadata": {},
   "outputs": [
    {
     "name": "stdout",
     "output_type": "stream",
     "text": [
      "number of components:  8\n"
     ]
    }
   ],
   "source": [
    "from sklearn.decomposition import PCA\n",
    "pca_spectilt = PCA(0.9)\n",
    "principalComponents_spectilt = pca_spectilt.fit_transform(ready_for_pca)\n",
    "print(\"number of components: \", principalComponents_spectilt.shape[1])"
   ]
  },
  {
   "cell_type": "code",
   "execution_count": 265,
   "id": "97e532f1-87d5-49f0-b0d1-6486d18c00a0",
   "metadata": {},
   "outputs": [
    {
     "data": {
      "image/png": "[encoded data removed]",
      "text/plain": [
       "<Figure size 432x288 with 1 Axes>"
      ]
     },
     "metadata": {
      "needs_background": "light"
     },
     "output_type": "display_data"
    }
   ],
   "source": [
    "PC_values = np.arange(pca_spectilt.n_components_) + 1\n",
    "tex_fonts = {\n",
    "    \"font.family\": \"serif\",\n",
    "    # Use 10pt font in plots, to match 10pt font in document\n",
    "    \"axes.labelsize\": 12,\n",
    "    \"font.size\": 10,\n",
    "    # Make the legend/label fonts a little smaller\n",
    "    \"legend.fontsize\": 10,\n",
    "    \"xtick.labelsize\": 10,\n",
    "    \"ytick.labelsize\": 10\n",
    "}\n",
    "plt.rcParams.update(tex_fonts)\n",
    "plt.figure(figsize=(6,4))\n",
    "plt.plot(PC_values, pca_spectilt.explained_variance_ratio_, 'o-', linewidth=2, color='blue')\n",
    "plt.title('Scree Plot')\n",
    "plt.xlabel('Principal Component')\n",
    "plt.ylabel('Variance Explained')\n",
    "plt.savefig('figures/scree_spectilt.jpg', format='jpg', dpi = 800)\n",
    "plt.show()"
   ]
  },
  {
   "cell_type": "markdown",
   "id": "1f46d3a0-225e-481d-bab7-6266ae69a551",
   "metadata": {},
   "source": [
    "Three components will be used, following the elbow method."
   ]
  },
  {
   "cell_type": "code",
   "execution_count": 266,
   "id": "b8d5130d-5e4d-46c2-8429-c59ca5885e4c",
   "metadata": {},
   "outputs": [],
   "source": [
    "pca_spectilt = PCA(n_components = 3)\n",
    "principalComponents_spectilt = pca_spectilt.fit_transform(ready_for_pca)"
   ]
  },
  {
   "cell_type": "code",
   "execution_count": 267,
   "id": "06e5d77c-f307-48b5-8063-d1fa7caff127",
   "metadata": {},
   "outputs": [
    {
     "name": "stdout",
     "output_type": "stream",
     "text": [
      "Explained variation per principal component: [0.41700039 0.15159964 0.08547115]\n"
     ]
    }
   ],
   "source": [
    "principal_spectilt_df = pd.DataFrame(data = principalComponents_spectilt,\n",
    "                                columns = ['v_dur_period', 'low_f0', 'syl_dur_pca'])\n",
    "print('Explained variation per principal component: {}'.format(pca_spectilt.explained_variance_ratio_))"
   ]
  },
  {
   "cell_type": "code",
   "execution_count": 268,
   "id": "f66a3601-f347-464f-9e0f-3defd4bb4395",
   "metadata": {},
   "outputs": [
    {
     "data": {
      "text/html": [
       "<div>\n",
       "<style scoped>\n",
       "    .dataframe tbody tr th:only-of-type {\n",
       "        vertical-align: middle;\n",
       "    }\n",
       "\n",
       "    .dataframe tbody tr th {\n",
       "        vertical-align: top;\n",
       "    }\n",
       "\n",
       "    .dataframe thead th {\n",
       "        text-align: right;\n",
       "    }\n",
       "</style>\n",
       "<table border=\"1\" class=\"dataframe\">\n",
       "  <thead>\n",
       "    <tr style=\"text-align: right;\">\n",
       "      <th></th>\n",
       "      <th>v_dur_period</th>\n",
       "      <th>low_f0</th>\n",
       "      <th>syl_dur_pca</th>\n",
       "      <th>Filename</th>\n",
       "      <th>Label</th>\n",
       "      <th>H1H2c_mean</th>\n",
       "      <th>H2H4c_mean</th>\n",
       "      <th>H1A1c_mean</th>\n",
       "      <th>H1A2c_mean</th>\n",
       "      <th>H1A3c_mean</th>\n",
       "      <th>...</th>\n",
       "      <th>word</th>\n",
       "      <th>stress</th>\n",
       "      <th>syl_dur</th>\n",
       "      <th>v_dur</th>\n",
       "      <th>sF1_norm_center</th>\n",
       "      <th>pF1_norm_center</th>\n",
       "      <th>sF2_norm_center</th>\n",
       "      <th>pF2_norm_center</th>\n",
       "      <th>s_deltaF_dist</th>\n",
       "      <th>p_deltaF_dist</th>\n",
       "    </tr>\n",
       "  </thead>\n",
       "  <tbody>\n",
       "    <tr>\n",
       "      <th>0</th>\n",
       "      <td>-3.363244</td>\n",
       "      <td>-0.816675</td>\n",
       "      <td>0.688545</td>\n",
       "      <td>afs116_catala_exp2_a.mat</td>\n",
       "      <td>i</td>\n",
       "      <td>0.000</td>\n",
       "      <td>0.000</td>\n",
       "      <td>0.000</td>\n",
       "      <td>0.000</td>\n",
       "      <td>0.000</td>\n",
       "      <td>...</td>\n",
       "      <td>eliminar</td>\n",
       "      <td>0</td>\n",
       "      <td>0.145897</td>\n",
       "      <td>0.071737</td>\n",
       "      <td>-0.135341</td>\n",
       "      <td>0.100464</td>\n",
       "      <td>-0.494408</td>\n",
       "      <td>0.476100</td>\n",
       "      <td>0.512598</td>\n",
       "      <td>0.486584</td>\n",
       "    </tr>\n",
       "    <tr>\n",
       "      <th>1</th>\n",
       "      <td>2.301349</td>\n",
       "      <td>-3.083250</td>\n",
       "      <td>-0.059048</td>\n",
       "      <td>afs116_catala_exp2_a.mat</td>\n",
       "      <td>a</td>\n",
       "      <td>8.178</td>\n",
       "      <td>-7.852</td>\n",
       "      <td>22.533</td>\n",
       "      <td>4.996</td>\n",
       "      <td>7.536</td>\n",
       "      <td>...</td>\n",
       "      <td>eliminar</td>\n",
       "      <td>1</td>\n",
       "      <td>0.369100</td>\n",
       "      <td>0.274665</td>\n",
       "      <td>0.090216</td>\n",
       "      <td>0.243332</td>\n",
       "      <td>-0.267506</td>\n",
       "      <td>-0.377434</td>\n",
       "      <td>0.282309</td>\n",
       "      <td>0.449074</td>\n",
       "    </tr>\n",
       "    <tr>\n",
       "      <th>2</th>\n",
       "      <td>1.929232</td>\n",
       "      <td>-1.218171</td>\n",
       "      <td>-2.432617</td>\n",
       "      <td>afs116_catala_exp2_a.mat</td>\n",
       "      <td>i</td>\n",
       "      <td>0.926</td>\n",
       "      <td>-0.275</td>\n",
       "      <td>21.573</td>\n",
       "      <td>10.235</td>\n",
       "      <td>-14.295</td>\n",
       "      <td>...</td>\n",
       "      <td>discriminar</td>\n",
       "      <td>0</td>\n",
       "      <td>0.220000</td>\n",
       "      <td>0.114457</td>\n",
       "      <td>-0.175728</td>\n",
       "      <td>0.175783</td>\n",
       "      <td>-0.475738</td>\n",
       "      <td>0.894210</td>\n",
       "      <td>0.507155</td>\n",
       "      <td>0.911324</td>\n",
       "    </tr>\n",
       "    <tr>\n",
       "      <th>3</th>\n",
       "      <td>2.978800</td>\n",
       "      <td>-3.126351</td>\n",
       "      <td>0.295201</td>\n",
       "      <td>afs116_catala_exp2_a.mat</td>\n",
       "      <td>a</td>\n",
       "      <td>7.587</td>\n",
       "      <td>-3.805</td>\n",
       "      <td>23.928</td>\n",
       "      <td>8.507</td>\n",
       "      <td>7.348</td>\n",
       "      <td>...</td>\n",
       "      <td>discriminar</td>\n",
       "      <td>1</td>\n",
       "      <td>0.550000</td>\n",
       "      <td>0.300000</td>\n",
       "      <td>0.116292</td>\n",
       "      <td>0.190222</td>\n",
       "      <td>-0.223569</td>\n",
       "      <td>-0.376085</td>\n",
       "      <td>0.252006</td>\n",
       "      <td>0.421455</td>\n",
       "    </tr>\n",
       "    <tr>\n",
       "      <th>4</th>\n",
       "      <td>3.061862</td>\n",
       "      <td>-1.350370</td>\n",
       "      <td>-2.615549</td>\n",
       "      <td>afs116_catala_exp2_a.mat</td>\n",
       "      <td>i</td>\n",
       "      <td>5.218</td>\n",
       "      <td>-4.662</td>\n",
       "      <td>15.659</td>\n",
       "      <td>13.086</td>\n",
       "      <td>-10.113</td>\n",
       "      <td>...</td>\n",
       "      <td>encaminar</td>\n",
       "      <td>0</td>\n",
       "      <td>0.333645</td>\n",
       "      <td>0.198018</td>\n",
       "      <td>-0.136057</td>\n",
       "      <td>0.171437</td>\n",
       "      <td>-0.466501</td>\n",
       "      <td>0.907024</td>\n",
       "      <td>0.485937</td>\n",
       "      <td>0.923083</td>\n",
       "    </tr>\n",
       "  </tbody>\n",
       "</table>\n",
       "<p>5 rows × 35 columns</p>\n",
       "</div>"
      ],
      "text/plain": [
       "   v_dur_period    low_f0  syl_dur_pca                  Filename Label  \\\n",
       "0     -3.363244 -0.816675     0.688545  afs116_catala_exp2_a.mat     i   \n",
       "1      2.301349 -3.083250    -0.059048  afs116_catala_exp2_a.mat     a   \n",
       "2      1.929232 -1.218171    -2.432617  afs116_catala_exp2_a.mat     i   \n",
       "3      2.978800 -3.126351     0.295201  afs116_catala_exp2_a.mat     a   \n",
       "4      3.061862 -1.350370    -2.615549  afs116_catala_exp2_a.mat     i   \n",
       "\n",
       "   H1H2c_mean  H2H4c_mean  H1A1c_mean  H1A2c_mean  H1A3c_mean  ...  \\\n",
       "0       0.000       0.000       0.000       0.000       0.000  ...   \n",
       "1       8.178      -7.852      22.533       4.996       7.536  ...   \n",
       "2       0.926      -0.275      21.573      10.235     -14.295  ...   \n",
       "3       7.587      -3.805      23.928       8.507       7.348  ...   \n",
       "4       5.218      -4.662      15.659      13.086     -10.113  ...   \n",
       "\n",
       "          word  stress   syl_dur     v_dur  sF1_norm_center  pF1_norm_center  \\\n",
       "0     eliminar       0  0.145897  0.071737        -0.135341         0.100464   \n",
       "1     eliminar       1  0.369100  0.274665         0.090216         0.243332   \n",
       "2  discriminar       0  0.220000  0.114457        -0.175728         0.175783   \n",
       "3  discriminar       1  0.550000  0.300000         0.116292         0.190222   \n",
       "4    encaminar       0  0.333645  0.198018        -0.136057         0.171437   \n",
       "\n",
       "   sF2_norm_center  pF2_norm_center  s_deltaF_dist  p_deltaF_dist  \n",
       "0        -0.494408         0.476100       0.512598       0.486584  \n",
       "1        -0.267506        -0.377434       0.282309       0.449074  \n",
       "2        -0.475738         0.894210       0.507155       0.911324  \n",
       "3        -0.223569        -0.376085       0.252006       0.421455  \n",
       "4        -0.466501         0.907024       0.485937       0.923083  \n",
       "\n",
       "[5 rows x 35 columns]"
      ]
     },
     "execution_count": 268,
     "metadata": {},
     "output_type": "execute_result"
    }
   ],
   "source": [
    "# join with larger data set\n",
    "df_pca = principal_spectilt_df.join(df)\n",
    "df_pca.head()"
   ]
  },
  {
   "cell_type": "code",
   "execution_count": 269,
   "id": "7f2183f2-1c81-4140-ae8e-83ac3c5dda97",
   "metadata": {},
   "outputs": [
    {
     "data": {
      "text/html": [
       "<div>\n",
       "<style scoped>\n",
       "    .dataframe tbody tr th:only-of-type {\n",
       "        vertical-align: middle;\n",
       "    }\n",
       "\n",
       "    .dataframe tbody tr th {\n",
       "        vertical-align: top;\n",
       "    }\n",
       "\n",
       "    .dataframe thead th {\n",
       "        text-align: right;\n",
       "    }\n",
       "</style>\n",
       "<table border=\"1\" class=\"dataframe\">\n",
       "  <thead>\n",
       "    <tr style=\"text-align: right;\">\n",
       "      <th></th>\n",
       "      <th>v_duration_periodicity</th>\n",
       "      <th>low_f0</th>\n",
       "      <th>syl_duration</th>\n",
       "    </tr>\n",
       "  </thead>\n",
       "  <tbody>\n",
       "    <tr>\n",
       "      <th>H1H2c_mean</th>\n",
       "      <td>0.532990</td>\n",
       "      <td>-0.121170</td>\n",
       "      <td>0.160942</td>\n",
       "    </tr>\n",
       "    <tr>\n",
       "      <th>H2H4c_mean</th>\n",
       "      <td>0.461672</td>\n",
       "      <td>0.274159</td>\n",
       "      <td>0.464435</td>\n",
       "    </tr>\n",
       "    <tr>\n",
       "      <th>H1A1c_mean</th>\n",
       "      <td>0.872672</td>\n",
       "      <td>0.118555</td>\n",
       "      <td>0.311724</td>\n",
       "    </tr>\n",
       "    <tr>\n",
       "      <th>H1A2c_mean</th>\n",
       "      <td>0.856893</td>\n",
       "      <td>0.103874</td>\n",
       "      <td>0.320674</td>\n",
       "    </tr>\n",
       "    <tr>\n",
       "      <th>H1A3c_mean</th>\n",
       "      <td>0.716774</td>\n",
       "      <td>0.162738</td>\n",
       "      <td>0.382239</td>\n",
       "    </tr>\n",
       "    <tr>\n",
       "      <th>CPP_mean</th>\n",
       "      <td>0.935989</td>\n",
       "      <td>0.048165</td>\n",
       "      <td>-0.227321</td>\n",
       "    </tr>\n",
       "    <tr>\n",
       "      <th>Energy_mean</th>\n",
       "      <td>0.079485</td>\n",
       "      <td>-0.183449</td>\n",
       "      <td>0.237429</td>\n",
       "    </tr>\n",
       "    <tr>\n",
       "      <th>HNR05_mean</th>\n",
       "      <td>0.917318</td>\n",
       "      <td>-0.063023</td>\n",
       "      <td>-0.300321</td>\n",
       "    </tr>\n",
       "    <tr>\n",
       "      <th>HNR15_mean</th>\n",
       "      <td>0.902007</td>\n",
       "      <td>-0.057590</td>\n",
       "      <td>-0.390868</td>\n",
       "    </tr>\n",
       "    <tr>\n",
       "      <th>HNR25_mean</th>\n",
       "      <td>0.920196</td>\n",
       "      <td>-0.046251</td>\n",
       "      <td>-0.361484</td>\n",
       "    </tr>\n",
       "    <tr>\n",
       "      <th>HNR35_mean</th>\n",
       "      <td>0.932550</td>\n",
       "      <td>-0.027593</td>\n",
       "      <td>-0.324247</td>\n",
       "    </tr>\n",
       "    <tr>\n",
       "      <th>SHR_mean</th>\n",
       "      <td>0.064876</td>\n",
       "      <td>0.266424</td>\n",
       "      <td>0.061621</td>\n",
       "    </tr>\n",
       "    <tr>\n",
       "      <th>strF0_mean</th>\n",
       "      <td>0.107832</td>\n",
       "      <td>-0.806772</td>\n",
       "      <td>0.155943</td>\n",
       "    </tr>\n",
       "    <tr>\n",
       "      <th>sF0_mean</th>\n",
       "      <td>0.135089</td>\n",
       "      <td>-0.801287</td>\n",
       "      <td>-0.036376</td>\n",
       "    </tr>\n",
       "    <tr>\n",
       "      <th>pF0_mean</th>\n",
       "      <td>0.115215</td>\n",
       "      <td>-0.823279</td>\n",
       "      <td>0.116320</td>\n",
       "    </tr>\n",
       "    <tr>\n",
       "      <th>shrF0_mean</th>\n",
       "      <td>0.025127</td>\n",
       "      <td>-0.699534</td>\n",
       "      <td>0.187299</td>\n",
       "    </tr>\n",
       "    <tr>\n",
       "      <th>syl_dur</th>\n",
       "      <td>0.353519</td>\n",
       "      <td>0.091827</td>\n",
       "      <td>0.509996</td>\n",
       "    </tr>\n",
       "    <tr>\n",
       "      <th>v_dur</th>\n",
       "      <td>0.756710</td>\n",
       "      <td>0.045422</td>\n",
       "      <td>0.160792</td>\n",
       "    </tr>\n",
       "  </tbody>\n",
       "</table>\n",
       "</div>"
      ],
      "text/plain": [
       "             v_duration_periodicity    low_f0  syl_duration\n",
       "H1H2c_mean                 0.532990 -0.121170      0.160942\n",
       "H2H4c_mean                 0.461672  0.274159      0.464435\n",
       "H1A1c_mean                 0.872672  0.118555      0.311724\n",
       "H1A2c_mean                 0.856893  0.103874      0.320674\n",
       "H1A3c_mean                 0.716774  0.162738      0.382239\n",
       "CPP_mean                   0.935989  0.048165     -0.227321\n",
       "Energy_mean                0.079485 -0.183449      0.237429\n",
       "HNR05_mean                 0.917318 -0.063023     -0.300321\n",
       "HNR15_mean                 0.902007 -0.057590     -0.390868\n",
       "HNR25_mean                 0.920196 -0.046251     -0.361484\n",
       "HNR35_mean                 0.932550 -0.027593     -0.324247\n",
       "SHR_mean                   0.064876  0.266424      0.061621\n",
       "strF0_mean                 0.107832 -0.806772      0.155943\n",
       "sF0_mean                   0.135089 -0.801287     -0.036376\n",
       "pF0_mean                   0.115215 -0.823279      0.116320\n",
       "shrF0_mean                 0.025127 -0.699534      0.187299\n",
       "syl_dur                    0.353519  0.091827      0.509996\n",
       "v_dur                      0.756710  0.045422      0.160792"
      ]
     },
     "execution_count": 269,
     "metadata": {},
     "output_type": "execute_result"
    }
   ],
   "source": [
    "loadings = pca_spectilt.components_.T * np.sqrt(pca_spectilt.explained_variance_)\n",
    "loading_matrix = pd.DataFrame(loadings, columns=['v_duration_periodicity', 'low_f0', 'syl_duration'], index=for_later.columns)\n",
    "loading_matrix"
   ]
  },
  {
   "cell_type": "markdown",
   "id": "c9e9ec1b-f86b-4b6a-85c1-106d0317c582",
   "metadata": {},
   "source": [
    "For ease of interpretation, multiply the second component by -1 so that it corresponds directly to pitch."
   ]
  },
  {
   "cell_type": "code",
   "execution_count": 270,
   "id": "cb697c51-681b-4696-98e4-3d71b3a2b257",
   "metadata": {},
   "outputs": [],
   "source": [
    "df_pca['f0'] = -1*df_pca['low_f0']"
   ]
  },
  {
   "cell_type": "code",
   "execution_count": 271,
   "id": "0e1e2261-84b9-4ce4-9ba2-5743b0794ade",
   "metadata": {},
   "outputs": [
    {
     "data": {
      "text/plain": [
       "Index(['v_dur_period', 'low_f0', 'syl_dur_pca', 'Filename', 'Label',\n",
       "       'H1H2c_mean', 'H2H4c_mean', 'H1A1c_mean', 'H1A2c_mean', 'H1A3c_mean',\n",
       "       'CPP_mean', 'Energy_mean', 'HNR05_mean', 'HNR15_mean', 'HNR25_mean',\n",
       "       'HNR35_mean', 'SHR_mean', 'strF0_mean', 'sF0_mean', 'pF0_mean',\n",
       "       'shrF0_mean', 'partID', 'Language', 't1_wd', 't2_wd', 'word', 'stress',\n",
       "       'syl_dur', 'v_dur', 'sF1_norm_center', 'pF1_norm_center',\n",
       "       'sF2_norm_center', 'pF2_norm_center', 's_deltaF_dist', 'p_deltaF_dist',\n",
       "       'f0'],\n",
       "      dtype='object')"
      ]
     },
     "execution_count": 271,
     "metadata": {},
     "output_type": "execute_result"
    }
   ],
   "source": [
    "df_pca.columns"
   ]
  },
  {
   "cell_type": "code",
   "execution_count": 272,
   "id": "99910962-17ce-4fa5-b992-154f56f64a15",
   "metadata": {},
   "outputs": [],
   "source": [
    "df_pca.drop(['H1H2c_mean', 'H2H4c_mean', 'H1A1c_mean', 'H1A2c_mean',\n",
    "            'H1A3c_mean', 'CPP_mean', 'Energy_mean', 'HNR05_mean',\n",
    "             'HNR15_mean', 'HNR25_mean', 'HNR35_mean', 'SHR_mean',\n",
    "             'strF0_mean', 'sF0_mean', 'pF0_mean', 'shrF0_mean',\n",
    "             'strF0_mean', 'syl_dur', 'v_dur', 's_deltaF_dist', 'p_deltaF_dist', 'low_f0',\n",
    "            'pF1_norm_center', 'pF2_norm_center'],\n",
    "            axis = 1, inplace = True)"
   ]
  },
  {
   "cell_type": "code",
   "execution_count": 273,
   "id": "edbb7f80-2d11-4a6b-81b3-d8fbcf560d00",
   "metadata": {},
   "outputs": [],
   "source": [
    "df_pca = df_pca.rename(columns={'syl_dur_pca':'syl_dur'})"
   ]
  },
  {
   "cell_type": "code",
   "execution_count": 274,
   "id": "09069ed7-026e-440a-b74e-b73933e88b6c",
   "metadata": {},
   "outputs": [],
   "source": [
    "df_pca.to_csv(\"data/master_df_noblp.csv\", index = False)"
   ]
  },
  {
   "cell_type": "code",
   "execution_count": 275,
   "id": "0f37c1de-d21f-4522-8fbc-63b82f71d13f",
   "metadata": {},
   "outputs": [
    {
     "data": {
      "text/html": [
       "<div>\n",
       "<style scoped>\n",
       "    .dataframe tbody tr th:only-of-type {\n",
       "        vertical-align: middle;\n",
       "    }\n",
       "\n",
       "    .dataframe tbody tr th {\n",
       "        vertical-align: top;\n",
       "    }\n",
       "\n",
       "    .dataframe thead th {\n",
       "        text-align: right;\n",
       "    }\n",
       "</style>\n",
       "<table border=\"1\" class=\"dataframe\">\n",
       "  <thead>\n",
       "    <tr style=\"text-align: right;\">\n",
       "      <th></th>\n",
       "      <th>v_dur_period</th>\n",
       "      <th>syl_dur</th>\n",
       "      <th>Filename</th>\n",
       "      <th>Label</th>\n",
       "      <th>partID</th>\n",
       "      <th>t1_wd</th>\n",
       "      <th>t2_wd</th>\n",
       "      <th>word</th>\n",
       "      <th>stress</th>\n",
       "      <th>sF1_norm_center</th>\n",
       "      <th>sF2_norm_center</th>\n",
       "      <th>f0</th>\n",
       "    </tr>\n",
       "    <tr>\n",
       "      <th>Language</th>\n",
       "      <th></th>\n",
       "      <th></th>\n",
       "      <th></th>\n",
       "      <th></th>\n",
       "      <th></th>\n",
       "      <th></th>\n",
       "      <th></th>\n",
       "      <th></th>\n",
       "      <th></th>\n",
       "      <th></th>\n",
       "      <th></th>\n",
       "      <th></th>\n",
       "    </tr>\n",
       "  </thead>\n",
       "  <tbody>\n",
       "    <tr>\n",
       "      <th>cat</th>\n",
       "      <td>3648.0</td>\n",
       "      <td>3648.0</td>\n",
       "      <td>3648.0</td>\n",
       "      <td>3648.0</td>\n",
       "      <td>3648.0</td>\n",
       "      <td>3648.0</td>\n",
       "      <td>3648.0</td>\n",
       "      <td>3648.0</td>\n",
       "      <td>3648.0</td>\n",
       "      <td>3648.0</td>\n",
       "      <td>3648.0</td>\n",
       "      <td>3648.0</td>\n",
       "    </tr>\n",
       "    <tr>\n",
       "      <th>eng</th>\n",
       "      <td>6879.0</td>\n",
       "      <td>6879.0</td>\n",
       "      <td>6879.0</td>\n",
       "      <td>6879.0</td>\n",
       "      <td>6879.0</td>\n",
       "      <td>6879.0</td>\n",
       "      <td>6879.0</td>\n",
       "      <td>6879.0</td>\n",
       "      <td>6879.0</td>\n",
       "      <td>6879.0</td>\n",
       "      <td>6879.0</td>\n",
       "      <td>6879.0</td>\n",
       "    </tr>\n",
       "    <tr>\n",
       "      <th>spa</th>\n",
       "      <td>3461.0</td>\n",
       "      <td>3461.0</td>\n",
       "      <td>3461.0</td>\n",
       "      <td>3461.0</td>\n",
       "      <td>3461.0</td>\n",
       "      <td>3461.0</td>\n",
       "      <td>3461.0</td>\n",
       "      <td>3461.0</td>\n",
       "      <td>3461.0</td>\n",
       "      <td>3461.0</td>\n",
       "      <td>3461.0</td>\n",
       "      <td>3461.0</td>\n",
       "    </tr>\n",
       "  </tbody>\n",
       "</table>\n",
       "</div>"
      ],
      "text/plain": [
       "          v_dur_period  syl_dur  Filename   Label  partID   t1_wd   t2_wd  \\\n",
       "Language                                                                    \n",
       "cat             3648.0   3648.0    3648.0  3648.0  3648.0  3648.0  3648.0   \n",
       "eng             6879.0   6879.0    6879.0  6879.0  6879.0  6879.0  6879.0   \n",
       "spa             3461.0   3461.0    3461.0  3461.0  3461.0  3461.0  3461.0   \n",
       "\n",
       "            word  stress  sF1_norm_center  sF2_norm_center      f0  \n",
       "Language                                                            \n",
       "cat       3648.0  3648.0           3648.0           3648.0  3648.0  \n",
       "eng       6879.0  6879.0           6879.0           6879.0  6879.0  \n",
       "spa       3461.0  3461.0           3461.0           3461.0  3461.0  "
      ]
     },
     "execution_count": 275,
     "metadata": {},
     "output_type": "execute_result"
    }
   ],
   "source": [
    "df_pca.groupby(['Language']).count()/2"
   ]
  },
  {
   "cell_type": "code",
   "execution_count": 276,
   "id": "7a713480-ff9e-47e2-a360-ad6cee028fd9",
   "metadata": {},
   "outputs": [
    {
     "data": {
      "text/plain": [
       "13988.0"
      ]
     },
     "execution_count": 276,
     "metadata": {},
     "output_type": "execute_result"
    }
   ],
   "source": [
    "len(df_pca)/2"
   ]
  },
  {
   "cell_type": "markdown",
   "id": "63844493-cf38-4906-9d6e-057dd110ee91",
   "metadata": {},
   "source": [
    "# Prepare for logreg in R"
   ]
  },
  {
   "cell_type": "code",
   "execution_count": 277,
   "id": "c118f75d-3582-4581-a55e-6bd10b3ac18a",
   "metadata": {},
   "outputs": [],
   "source": [
    "df = pd.read_csv(\"data/master_df_noblp.csv\")"
   ]
  },
  {
   "cell_type": "code",
   "execution_count": 278,
   "id": "dbf47ce8-0fcd-4907-b07f-e239a38def54",
   "metadata": {},
   "outputs": [],
   "source": [
    "df['syllable'] = np.where((df['Label']==\"i\") | (df['Label']==\"pen\"), 'pen', 'ult')"
   ]
  },
  {
   "cell_type": "code",
   "execution_count": 279,
   "id": "d8539dd0-ad00-4e75-bdb7-5fb9d8cc5077",
   "metadata": {},
   "outputs": [],
   "source": [
    "parts = pd.read_csv(\"../blp/data/parts.csv\")\n",
    "parts['partID'] = parts['partID'].map(str.lower)"
   ]
  },
  {
   "cell_type": "code",
   "execution_count": 280,
   "id": "8964ad85-58fe-40a6-8df5-7db11a087483",
   "metadata": {},
   "outputs": [
    {
     "data": {
      "text/html": [
       "<div>\n",
       "<style scoped>\n",
       "    .dataframe tbody tr th:only-of-type {\n",
       "        vertical-align: middle;\n",
       "    }\n",
       "\n",
       "    .dataframe tbody tr th {\n",
       "        vertical-align: top;\n",
       "    }\n",
       "\n",
       "    .dataframe thead th {\n",
       "        text-align: right;\n",
       "    }\n",
       "</style>\n",
       "<table border=\"1\" class=\"dataframe\">\n",
       "  <thead>\n",
       "    <tr style=\"text-align: right;\">\n",
       "      <th></th>\n",
       "      <th>v_dur_period</th>\n",
       "      <th>syl_dur</th>\n",
       "      <th>Filename</th>\n",
       "      <th>Label</th>\n",
       "      <th>partID</th>\n",
       "      <th>Language</th>\n",
       "      <th>t1_wd</th>\n",
       "      <th>t2_wd</th>\n",
       "      <th>word</th>\n",
       "      <th>stress</th>\n",
       "      <th>sF1_norm_center</th>\n",
       "      <th>sF2_norm_center</th>\n",
       "      <th>f0</th>\n",
       "      <th>syllable</th>\n",
       "      <th>lang_profile</th>\n",
       "    </tr>\n",
       "  </thead>\n",
       "  <tbody>\n",
       "    <tr>\n",
       "      <th>0</th>\n",
       "      <td>-3.363244</td>\n",
       "      <td>0.688545</td>\n",
       "      <td>afs116_catala_exp2_a.mat</td>\n",
       "      <td>i</td>\n",
       "      <td>afs116</td>\n",
       "      <td>cat</td>\n",
       "      <td>5.502012</td>\n",
       "      <td>6.2491</td>\n",
       "      <td>eliminar</td>\n",
       "      <td>0</td>\n",
       "      <td>-0.135341</td>\n",
       "      <td>-0.494408</td>\n",
       "      <td>0.816675</td>\n",
       "      <td>pen</td>\n",
       "      <td>l1_eng</td>\n",
       "    </tr>\n",
       "    <tr>\n",
       "      <th>1</th>\n",
       "      <td>2.301349</td>\n",
       "      <td>-0.059048</td>\n",
       "      <td>afs116_catala_exp2_a.mat</td>\n",
       "      <td>a</td>\n",
       "      <td>afs116</td>\n",
       "      <td>cat</td>\n",
       "      <td>5.502012</td>\n",
       "      <td>6.2491</td>\n",
       "      <td>eliminar</td>\n",
       "      <td>1</td>\n",
       "      <td>0.090216</td>\n",
       "      <td>-0.267506</td>\n",
       "      <td>3.083250</td>\n",
       "      <td>ult</td>\n",
       "      <td>l1_eng</td>\n",
       "    </tr>\n",
       "    <tr>\n",
       "      <th>2</th>\n",
       "      <td>1.929232</td>\n",
       "      <td>-2.432617</td>\n",
       "      <td>afs116_catala_exp2_a.mat</td>\n",
       "      <td>i</td>\n",
       "      <td>afs116</td>\n",
       "      <td>cat</td>\n",
       "      <td>10.850600</td>\n",
       "      <td>12.0906</td>\n",
       "      <td>discriminar</td>\n",
       "      <td>0</td>\n",
       "      <td>-0.175728</td>\n",
       "      <td>-0.475738</td>\n",
       "      <td>1.218171</td>\n",
       "      <td>pen</td>\n",
       "      <td>l1_eng</td>\n",
       "    </tr>\n",
       "    <tr>\n",
       "      <th>3</th>\n",
       "      <td>2.978800</td>\n",
       "      <td>0.295201</td>\n",
       "      <td>afs116_catala_exp2_a.mat</td>\n",
       "      <td>a</td>\n",
       "      <td>afs116</td>\n",
       "      <td>cat</td>\n",
       "      <td>10.850600</td>\n",
       "      <td>12.0906</td>\n",
       "      <td>discriminar</td>\n",
       "      <td>1</td>\n",
       "      <td>0.116292</td>\n",
       "      <td>-0.223569</td>\n",
       "      <td>3.126351</td>\n",
       "      <td>ult</td>\n",
       "      <td>l1_eng</td>\n",
       "    </tr>\n",
       "    <tr>\n",
       "      <th>4</th>\n",
       "      <td>3.061862</td>\n",
       "      <td>-2.615549</td>\n",
       "      <td>afs116_catala_exp2_a.mat</td>\n",
       "      <td>i</td>\n",
       "      <td>afs116</td>\n",
       "      <td>cat</td>\n",
       "      <td>40.617489</td>\n",
       "      <td>42.1002</td>\n",
       "      <td>encaminar</td>\n",
       "      <td>0</td>\n",
       "      <td>-0.136057</td>\n",
       "      <td>-0.466501</td>\n",
       "      <td>1.350370</td>\n",
       "      <td>pen</td>\n",
       "      <td>l1_eng</td>\n",
       "    </tr>\n",
       "  </tbody>\n",
       "</table>\n",
       "</div>"
      ],
      "text/plain": [
       "   v_dur_period   syl_dur                  Filename Label  partID Language  \\\n",
       "0     -3.363244  0.688545  afs116_catala_exp2_a.mat     i  afs116      cat   \n",
       "1      2.301349 -0.059048  afs116_catala_exp2_a.mat     a  afs116      cat   \n",
       "2      1.929232 -2.432617  afs116_catala_exp2_a.mat     i  afs116      cat   \n",
       "3      2.978800  0.295201  afs116_catala_exp2_a.mat     a  afs116      cat   \n",
       "4      3.061862 -2.615549  afs116_catala_exp2_a.mat     i  afs116      cat   \n",
       "\n",
       "       t1_wd    t2_wd         word  stress  sF1_norm_center  sF2_norm_center  \\\n",
       "0   5.502012   6.2491     eliminar       0        -0.135341        -0.494408   \n",
       "1   5.502012   6.2491     eliminar       1         0.090216        -0.267506   \n",
       "2  10.850600  12.0906  discriminar       0        -0.175728        -0.475738   \n",
       "3  10.850600  12.0906  discriminar       1         0.116292        -0.223569   \n",
       "4  40.617489  42.1002    encaminar       0        -0.136057        -0.466501   \n",
       "\n",
       "         f0 syllable lang_profile  \n",
       "0  0.816675      pen       l1_eng  \n",
       "1  3.083250      ult       l1_eng  \n",
       "2  1.218171      pen       l1_eng  \n",
       "3  3.126351      ult       l1_eng  \n",
       "4  1.350370      pen       l1_eng  "
      ]
     },
     "execution_count": 280,
     "metadata": {},
     "output_type": "execute_result"
    }
   ],
   "source": [
    "df_lang = pd.merge(df, parts, on = \"partID\", how = \"left\")\n",
    "df_lang.head()"
   ]
  },
  {
   "cell_type": "code",
   "execution_count": 281,
   "id": "2e1b7d5b-d418-4bff-affe-dd53431d71aa",
   "metadata": {},
   "outputs": [],
   "source": [
    "blp_pca = pd.read_csv(\"../blp/data/pca_blp.csv\")\n",
    "blp_pca.drop(['lang_profile'], axis = 1, inplace = True)\n",
    "df_blp = pd.merge(df_lang, blp_pca, on=\"partID\", how = \"left\")"
   ]
  },
  {
   "cell_type": "code",
   "execution_count": 282,
   "id": "03dcc294-2517-4471-a434-a488d49ec80c",
   "metadata": {},
   "outputs": [],
   "source": [
    "df_blp.drop(['Filename', 't1_wd', 't2_wd'], axis = 1, inplace = True)"
   ]
  },
  {
   "cell_type": "code",
   "execution_count": 283,
   "id": "52bacdb0-b16a-4d21-b82c-263320ade338",
   "metadata": {},
   "outputs": [],
   "source": [
    "df_blp.to_csv(\"data/master_df.csv\", index = False)"
   ]
  },
  {
   "cell_type": "code",
   "execution_count": null,
   "id": "eb95b24a-3285-4ccd-ab49-770ee8017e22",
   "metadata": {},
   "outputs": [],
   "source": []
  }
 ],
 "metadata": {
  "kernelspec": {
   "display_name": "Python 3",
   "language": "python",
   "name": "python3"
  },
  "language_info": {
   "codemirror_mode": {
    "name": "ipython",
    "version": 3
   },
   "file_extension": ".py",
   "mimetype": "text/x-python",
   "name": "python",
   "nbconvert_exporter": "python",
   "pygments_lexer": "ipython3",
   "version": "3.8.8"
  }
 },
 "nbformat": 4,
 "nbformat_minor": 5
}
