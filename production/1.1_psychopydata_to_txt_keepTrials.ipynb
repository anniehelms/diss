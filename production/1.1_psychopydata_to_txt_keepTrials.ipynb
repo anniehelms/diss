{
 "cells": [
  {
   "cell_type": "markdown",
   "id": "77f5be19-b02b-4185-b077-e6cdfd6d0c2e",
   "metadata": {},
   "source": [
    "# Convert csv files to a text file\n",
    "\n",
    "This notebook will save the order of elicited sentences as a text file for every csv file in the folder `psychopy_csvs`. The text files will be saved in the folder `sentence_orders`. This notebook works for both the csvs from the lexical stress and vowel hiatus experiments."
   ]
  },
  {
   "cell_type": "code",
   "execution_count": 7,
   "id": "aa4d4597-72a9-42da-9d43-628e568a2717",
   "metadata": {},
   "outputs": [],
   "source": [
    "# uncomment to install for the first time\n",
    "#!pip install numbers-parser"
   ]
  },
  {
   "cell_type": "code",
   "execution_count": 1,
   "id": "3e02ea75-19d2-4d3e-9543-f640329d0b02",
   "metadata": {},
   "outputs": [],
   "source": [
    "import pandas as pd\n",
    "import os\n",
    "from numbers_parser import Document"
   ]
  },
  {
   "cell_type": "code",
   "execution_count": 2,
   "id": "f7bcaca9-ce2c-4e10-9e13-089a42be2494",
   "metadata": {},
   "outputs": [],
   "source": [
    "# function that takes in filepath for csv files and filepath for resulting text files\n",
    "def csv_to_text(csv_folder, text_folder):\n",
    "    csv_files = os.listdir(csv_folder)\n",
    "    \n",
    "    # define function to remove punctuation from a column\n",
    "    def rem_punc(text):\n",
    "        remove = [\"\\\"\", \"—\"]\n",
    "    \n",
    "        punc_free = \"\".join([ch for ch in text if ch not in remove])\n",
    "    \n",
    "        return punc_free\n",
    "    \n",
    "    for f in csv_files:\n",
    "        for f in csv_files:\n",
    "            if f.endswith(\".numbers\"):\n",
    "                filepath = csv_folder + f\n",
    "            \n",
    "                doc = Document(filepath)\n",
    "                sheets = doc.sheets\n",
    "                tables = sheets[0].tables\n",
    "                data = tables[0].rows(values_only=True)\n",
    "                numbs = pd.DataFrame(data[1:], columns=data[0])\n",
    "            \n",
    "                # make df of 4 practice trials and get name\n",
    "                trials_col = pd.DataFrame(numbs.iloc[:4,9])\n",
    "                trial_col_name = trials_col.columns.values[0]\n",
    "            \n",
    "                # get name of col with main trials\n",
    "                sentence_col = [col for col in numbs if col.startswith('word')]\n",
    "                sentence_df = pd.DataFrame(numbs[sentence_col[0]])\n",
    "            \n",
    "                # drop na rows\n",
    "                sentence_df.dropna(inplace = True)\n",
    "            \n",
    "                # change name of practice column to be main trials name\n",
    "                trials_col = trials_col.rename(columns={trial_col_name: sentence_col[0]})\n",
    "            \n",
    "                # add rows together\n",
    "                df_new = pd.concat([trials_col, sentence_df])\n",
    "            \n",
    "                # create df of sentence order with no dashes or quotation marks\n",
    "                df_new['sentence_col_no_punc'] = df_new[sentence_col[0]].apply(lambda x: rem_punc(x))\n",
    "                sentences = df_new['sentence_col_no_punc'].copy()\n",
    "            \n",
    "                # save as text file in text_folder filepath\n",
    "                sentences.to_csv(text_folder + str(f[:-8]) + \".txt\", sep = \"\\n\", header = None, index = None)\n",
    "    \n",
    "\n",
    "            if f.endswith(\".csv\"):\n",
    "                filepath = csv_folder + f\n",
    "                        \n",
    "                df = pd.read_csv(filepath, encoding = 'utf-8')\n",
    "            \n",
    "                if df.shape[1] == 1:\n",
    "                    df.to_csv(filepath, sep=\",\", header=0)\n",
    "                    df = pd.read_csv(filepath, encoding='utf-8')\n",
    "            \n",
    "                # make df of 4 practice trials and get name\n",
    "                trials_col = pd.DataFrame(df.iloc[:4,9])\n",
    "                trial_col_name = trials_col.columns.values[0]\n",
    "            \n",
    "                # get name of col with main trials\n",
    "                sentence_col = [col for col in df if col.startswith('word')]\n",
    "                sentence_df = pd.DataFrame(df[sentence_col[0]])\n",
    "            \n",
    "                # drop na rows\n",
    "                sentence_df.dropna(inplace = True)\n",
    "            \n",
    "                # change name of practice column to be main trials name\n",
    "                trials_col = trials_col.rename(columns={trial_col_name: sentence_col[0]})\n",
    "            \n",
    "                # add rows together\n",
    "                df_new = pd.concat([trials_col, sentence_df])\n",
    "            \n",
    "                # create df of sentence order with no dashes or quotation marks\n",
    "                df_new['sentence_col_no_punc'] = df_new[sentence_col[0]].apply(lambda x: rem_punc(x))\n",
    "                sentences = df_new['sentence_col_no_punc'].copy()\n",
    "            \n",
    "                # save as text file in text_folder filepath\n",
    "                sentences.to_csv(text_folder + str(f[:-4]) + \".txt\", sep = \"\\n\", header = None, index = None)"
   ]
  },
  {
   "cell_type": "code",
   "execution_count": 3,
   "id": "86b6e342-d7cf-424f-8467-025d22db7065",
   "metadata": {},
   "outputs": [],
   "source": [
    "# change function inputs to:\n",
    "# 1) name of your folder with csv files and\n",
    "# 2) name of your folder you want to save the text files in\n",
    "csv_to_text(\"test/\", \"test_results/\")"
   ]
  },
  {
   "cell_type": "code",
   "execution_count": null,
   "id": "876a3051-37b0-4787-a0c5-f87ab9a4afd3",
   "metadata": {},
   "outputs": [],
   "source": []
  }
 ],
 "metadata": {
  "kernelspec": {
   "display_name": "Python 3",
   "language": "python",
   "name": "python3"
  },
  "language_info": {
   "codemirror_mode": {
    "name": "ipython",
    "version": 3
   },
   "file_extension": ".py",
   "mimetype": "text/x-python",
   "name": "python",
   "nbconvert_exporter": "python",
   "pygments_lexer": "ipython3",
   "version": "3.8.8"
  }
 },
 "nbformat": 4,
 "nbformat_minor": 5
}
