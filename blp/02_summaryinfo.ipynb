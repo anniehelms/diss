{
 "cells": [
  {
   "cell_type": "markdown",
   "id": "124ac5b8-4a04-4154-8768-2c3406b5b2c4",
   "metadata": {},
   "source": [
    "# Summary info about the trilingual participants"
   ]
  },
  {
   "cell_type": "code",
   "execution_count": 1,
   "id": "dfd228e8-b28b-4950-b61d-c713cca68747",
   "metadata": {},
   "outputs": [],
   "source": [
    "import pandas as pd"
   ]
  },
  {
   "cell_type": "code",
   "execution_count": 27,
   "id": "567ed0cb-08ce-4526-997b-64f6d1e4319d",
   "metadata": {},
   "outputs": [
    {
     "data": {
      "text/plain": [
       "109"
      ]
     },
     "execution_count": 27,
     "metadata": {},
     "output_type": "execute_result"
    }
   ],
   "source": [
    "df_full = pd.read_csv(\"data/blp_cleaned.csv\")\n",
    "len(df_full)"
   ]
  },
  {
   "cell_type": "markdown",
   "id": "0fdb89ad-9d1f-4296-8c14-c58c4c85c36b",
   "metadata": {},
   "source": [
    "Pass the list of partIDs that completed the three language tasks (trilinguals) or the one language task (monolinguals)."
   ]
  },
  {
   "cell_type": "code",
   "execution_count": 28,
   "id": "46c37396-f08c-4b17-8047-68cc5426c6d8",
   "metadata": {},
   "outputs": [],
   "source": [
    "parts = pd.read_csv(\"data/parts.csv\")\n",
    "parts.head(2)\n",
    "parts['partID'] = parts['partID'].map(str.lower)"
   ]
  },
  {
   "cell_type": "code",
   "execution_count": 29,
   "id": "2ebbf5ff-ead4-44fb-902c-a10cb27ee563",
   "metadata": {},
   "outputs": [
    {
     "data": {
      "text/plain": [
       "65"
      ]
     },
     "execution_count": 29,
     "metadata": {},
     "output_type": "execute_result"
    }
   ],
   "source": [
    "df = df_full[df_full['partID'].isin(parts['partID'])].copy()\n",
    "len(df)"
   ]
  },
  {
   "cell_type": "code",
   "execution_count": 30,
   "id": "e1b33d55-66dd-46d1-960b-c3a05ef24838",
   "metadata": {},
   "outputs": [
    {
     "data": {
      "text/html": [
       "<div>\n",
       "<style scoped>\n",
       "    .dataframe tbody tr th:only-of-type {\n",
       "        vertical-align: middle;\n",
       "    }\n",
       "\n",
       "    .dataframe tbody tr th {\n",
       "        vertical-align: top;\n",
       "    }\n",
       "\n",
       "    .dataframe thead th {\n",
       "        text-align: right;\n",
       "    }\n",
       "</style>\n",
       "<table border=\"1\" class=\"dataframe\">\n",
       "  <thead>\n",
       "    <tr style=\"text-align: right;\">\n",
       "      <th></th>\n",
       "      <th>Age</th>\n",
       "      <th>Education</th>\n",
       "      <th>Education_6_TEXT</th>\n",
       "      <th>Finished</th>\n",
       "      <th>Gender</th>\n",
       "      <th>Q1#1_1</th>\n",
       "      <th>Q1#1_2</th>\n",
       "      <th>Q1#1_3</th>\n",
       "      <th>Q10#1_1</th>\n",
       "      <th>Q10#1_2</th>\n",
       "      <th>...</th>\n",
       "      <th>Q8#1_2</th>\n",
       "      <th>Q8#1_3</th>\n",
       "      <th>Q8#1_4</th>\n",
       "      <th>Q9#1_1</th>\n",
       "      <th>Q9#1_2</th>\n",
       "      <th>Q9#1_3</th>\n",
       "      <th>Q9#1_4</th>\n",
       "      <th>Residence</th>\n",
       "      <th>prof</th>\n",
       "      <th>lang_profile</th>\n",
       "    </tr>\n",
       "  </thead>\n",
       "  <tbody>\n",
       "    <tr>\n",
       "      <th>1</th>\n",
       "      <td>69</td>\n",
       "      <td>College</td>\n",
       "      <td>NaN</td>\n",
       "      <td>True</td>\n",
       "      <td>Female</td>\n",
       "      <td>NaN</td>\n",
       "      <td>NaN</td>\n",
       "      <td>NaN</td>\n",
       "      <td>NaN</td>\n",
       "      <td>NaN</td>\n",
       "      <td>...</td>\n",
       "      <td>NaN</td>\n",
       "      <td>NaN</td>\n",
       "      <td>NaN</td>\n",
       "      <td>NaN</td>\n",
       "      <td>NaN</td>\n",
       "      <td>NaN</td>\n",
       "      <td>NaN</td>\n",
       "      <td>California</td>\n",
       "      <td>I am a monolingual speaker of English (I only ...</td>\n",
       "      <td>mono</td>\n",
       "    </tr>\n",
       "    <tr>\n",
       "      <th>2</th>\n",
       "      <td>61</td>\n",
       "      <td>Doctorate</td>\n",
       "      <td>NaN</td>\n",
       "      <td>True</td>\n",
       "      <td>Female</td>\n",
       "      <td>NaN</td>\n",
       "      <td>NaN</td>\n",
       "      <td>NaN</td>\n",
       "      <td>NaN</td>\n",
       "      <td>NaN</td>\n",
       "      <td>...</td>\n",
       "      <td>NaN</td>\n",
       "      <td>NaN</td>\n",
       "      <td>NaN</td>\n",
       "      <td>NaN</td>\n",
       "      <td>NaN</td>\n",
       "      <td>NaN</td>\n",
       "      <td>NaN</td>\n",
       "      <td>Texas</td>\n",
       "      <td>I am a monolingual speaker of English (I only ...</td>\n",
       "      <td>mono</td>\n",
       "    </tr>\n",
       "    <tr>\n",
       "      <th>3</th>\n",
       "      <td>62</td>\n",
       "      <td>Doctorate</td>\n",
       "      <td>NaN</td>\n",
       "      <td>True</td>\n",
       "      <td>Male</td>\n",
       "      <td>NaN</td>\n",
       "      <td>NaN</td>\n",
       "      <td>NaN</td>\n",
       "      <td>NaN</td>\n",
       "      <td>NaN</td>\n",
       "      <td>...</td>\n",
       "      <td>NaN</td>\n",
       "      <td>NaN</td>\n",
       "      <td>NaN</td>\n",
       "      <td>NaN</td>\n",
       "      <td>NaN</td>\n",
       "      <td>NaN</td>\n",
       "      <td>NaN</td>\n",
       "      <td>Texas</td>\n",
       "      <td>I am a monolingual speaker of English (I only ...</td>\n",
       "      <td>mono</td>\n",
       "    </tr>\n",
       "    <tr>\n",
       "      <th>5</th>\n",
       "      <td>30</td>\n",
       "      <td>Masters</td>\n",
       "      <td>NaN</td>\n",
       "      <td>True</td>\n",
       "      <td>Female</td>\n",
       "      <td>NaN</td>\n",
       "      <td>NaN</td>\n",
       "      <td>NaN</td>\n",
       "      <td>NaN</td>\n",
       "      <td>NaN</td>\n",
       "      <td>...</td>\n",
       "      <td>NaN</td>\n",
       "      <td>NaN</td>\n",
       "      <td>NaN</td>\n",
       "      <td>NaN</td>\n",
       "      <td>NaN</td>\n",
       "      <td>NaN</td>\n",
       "      <td>NaN</td>\n",
       "      <td>New York, USA</td>\n",
       "      <td>I am a monolingual speaker of English (I only ...</td>\n",
       "      <td>mono</td>\n",
       "    </tr>\n",
       "    <tr>\n",
       "      <th>6</th>\n",
       "      <td>25</td>\n",
       "      <td>College</td>\n",
       "      <td>NaN</td>\n",
       "      <td>True</td>\n",
       "      <td>Female</td>\n",
       "      <td>NaN</td>\n",
       "      <td>NaN</td>\n",
       "      <td>NaN</td>\n",
       "      <td>NaN</td>\n",
       "      <td>NaN</td>\n",
       "      <td>...</td>\n",
       "      <td>NaN</td>\n",
       "      <td>NaN</td>\n",
       "      <td>NaN</td>\n",
       "      <td>NaN</td>\n",
       "      <td>NaN</td>\n",
       "      <td>NaN</td>\n",
       "      <td>NaN</td>\n",
       "      <td>CA, USA</td>\n",
       "      <td>I am a monolingual speaker of English (I only ...</td>\n",
       "      <td>mono</td>\n",
       "    </tr>\n",
       "  </tbody>\n",
       "</table>\n",
       "<p>5 rows × 71 columns</p>\n",
       "</div>"
      ],
      "text/plain": [
       "  Age  Education Education_6_TEXT Finished  Gender Q1#1_1 Q1#1_2 Q1#1_3  \\\n",
       "1  69    College              NaN     True  Female    NaN    NaN    NaN   \n",
       "2  61  Doctorate              NaN     True  Female    NaN    NaN    NaN   \n",
       "3  62  Doctorate              NaN     True    Male    NaN    NaN    NaN   \n",
       "5  30    Masters              NaN     True  Female    NaN    NaN    NaN   \n",
       "6  25    College              NaN     True  Female    NaN    NaN    NaN   \n",
       "\n",
       "  Q10#1_1 Q10#1_2  ... Q8#1_2 Q8#1_3 Q8#1_4 Q9#1_1 Q9#1_2 Q9#1_3 Q9#1_4  \\\n",
       "1     NaN     NaN  ...    NaN    NaN    NaN    NaN    NaN    NaN    NaN   \n",
       "2     NaN     NaN  ...    NaN    NaN    NaN    NaN    NaN    NaN    NaN   \n",
       "3     NaN     NaN  ...    NaN    NaN    NaN    NaN    NaN    NaN    NaN   \n",
       "5     NaN     NaN  ...    NaN    NaN    NaN    NaN    NaN    NaN    NaN   \n",
       "6     NaN     NaN  ...    NaN    NaN    NaN    NaN    NaN    NaN    NaN   \n",
       "\n",
       "       Residence                                               prof  \\\n",
       "1     California  I am a monolingual speaker of English (I only ...   \n",
       "2          Texas  I am a monolingual speaker of English (I only ...   \n",
       "3          Texas  I am a monolingual speaker of English (I only ...   \n",
       "5  New York, USA  I am a monolingual speaker of English (I only ...   \n",
       "6        CA, USA  I am a monolingual speaker of English (I only ...   \n",
       "\n",
       "  lang_profile  \n",
       "1         mono  \n",
       "2         mono  \n",
       "3         mono  \n",
       "5         mono  \n",
       "6         mono  \n",
       "\n",
       "[5 rows x 71 columns]"
      ]
     },
     "execution_count": 30,
     "metadata": {},
     "output_type": "execute_result"
    }
   ],
   "source": [
    "df.head(5)"
   ]
  },
  {
   "cell_type": "markdown",
   "id": "a0809058-796d-450a-8991-8ab25615aecd",
   "metadata": {},
   "source": [
    "## Gender\n",
    "Breakdown by language profile and gender."
   ]
  },
  {
   "cell_type": "code",
   "execution_count": 31,
   "id": "cee6d952-eadc-4a54-9829-e35164086cb0",
   "metadata": {},
   "outputs": [
    {
     "data": {
      "text/plain": [
       "lang_profile  Gender\n",
       "l1_eng        Female    14\n",
       "              Male      10\n",
       "              Other      1\n",
       "l3_eng        Female    18\n",
       "              Male       7\n",
       "mono          Female    10\n",
       "              Male       5\n",
       "Name: Gender, dtype: int64"
      ]
     },
     "execution_count": 31,
     "metadata": {},
     "output_type": "execute_result"
    }
   ],
   "source": [
    "df.groupby(['lang_profile', 'Gender']).Gender.count()"
   ]
  },
  {
   "cell_type": "markdown",
   "id": "b05487b8-3324-4878-a17c-04612ce409fe",
   "metadata": {},
   "source": [
    "## Age\n",
    "Breakdown by language profile and age."
   ]
  },
  {
   "cell_type": "code",
   "execution_count": 32,
   "id": "b5ec9afa-b5f1-4ff2-a476-122b7f386b66",
   "metadata": {},
   "outputs": [
    {
     "data": {
      "text/html": [
       "<div>\n",
       "<style scoped>\n",
       "    .dataframe tbody tr th:only-of-type {\n",
       "        vertical-align: middle;\n",
       "    }\n",
       "\n",
       "    .dataframe tbody tr th {\n",
       "        vertical-align: top;\n",
       "    }\n",
       "\n",
       "    .dataframe thead th {\n",
       "        text-align: right;\n",
       "    }\n",
       "</style>\n",
       "<table border=\"1\" class=\"dataframe\">\n",
       "  <thead>\n",
       "    <tr style=\"text-align: right;\">\n",
       "      <th></th>\n",
       "      <th>mean</th>\n",
       "      <th>std</th>\n",
       "    </tr>\n",
       "    <tr>\n",
       "      <th>lang_profile</th>\n",
       "      <th></th>\n",
       "      <th></th>\n",
       "    </tr>\n",
       "  </thead>\n",
       "  <tbody>\n",
       "    <tr>\n",
       "      <th>l1_eng</th>\n",
       "      <td>28.120000</td>\n",
       "      <td>6.153048</td>\n",
       "    </tr>\n",
       "    <tr>\n",
       "      <th>l3_eng</th>\n",
       "      <td>25.520000</td>\n",
       "      <td>7.309355</td>\n",
       "    </tr>\n",
       "    <tr>\n",
       "      <th>mono</th>\n",
       "      <td>36.533333</td>\n",
       "      <td>15.463629</td>\n",
       "    </tr>\n",
       "  </tbody>\n",
       "</table>\n",
       "</div>"
      ],
      "text/plain": [
       "                   mean        std\n",
       "lang_profile                      \n",
       "l1_eng        28.120000   6.153048\n",
       "l3_eng        25.520000   7.309355\n",
       "mono          36.533333  15.463629"
      ]
     },
     "execution_count": 32,
     "metadata": {},
     "output_type": "execute_result"
    }
   ],
   "source": [
    "df['Age'] = df['Age'].astype(\"int64\")\n",
    "df.groupby(['lang_profile']).Age.agg(['mean', 'std'])"
   ]
  },
  {
   "cell_type": "markdown",
   "id": "2e2b7e07-bb4a-4c82-94ee-e292e3633ad2",
   "metadata": {},
   "source": [
    "## By gender and age"
   ]
  },
  {
   "cell_type": "code",
   "execution_count": 33,
   "id": "b6382a6b-fae3-48dd-9f8a-5ce267bfdef4",
   "metadata": {},
   "outputs": [
    {
     "data": {
      "text/html": [
       "<div>\n",
       "<style scoped>\n",
       "    .dataframe tbody tr th:only-of-type {\n",
       "        vertical-align: middle;\n",
       "    }\n",
       "\n",
       "    .dataframe tbody tr th {\n",
       "        vertical-align: top;\n",
       "    }\n",
       "\n",
       "    .dataframe thead th {\n",
       "        text-align: right;\n",
       "    }\n",
       "</style>\n",
       "<table border=\"1\" class=\"dataframe\">\n",
       "  <thead>\n",
       "    <tr style=\"text-align: right;\">\n",
       "      <th></th>\n",
       "      <th></th>\n",
       "      <th>mean</th>\n",
       "      <th>std</th>\n",
       "    </tr>\n",
       "    <tr>\n",
       "      <th>lang_profile</th>\n",
       "      <th>Gender</th>\n",
       "      <th></th>\n",
       "      <th></th>\n",
       "    </tr>\n",
       "  </thead>\n",
       "  <tbody>\n",
       "    <tr>\n",
       "      <th rowspan=\"3\" valign=\"top\">l1_eng</th>\n",
       "      <th>Female</th>\n",
       "      <td>29.500000</td>\n",
       "      <td>7.366765</td>\n",
       "    </tr>\n",
       "    <tr>\n",
       "      <th>Male</th>\n",
       "      <td>26.400000</td>\n",
       "      <td>3.977716</td>\n",
       "    </tr>\n",
       "    <tr>\n",
       "      <th>Other</th>\n",
       "      <td>26.000000</td>\n",
       "      <td>NaN</td>\n",
       "    </tr>\n",
       "    <tr>\n",
       "      <th rowspan=\"2\" valign=\"top\">l3_eng</th>\n",
       "      <th>Female</th>\n",
       "      <td>26.111111</td>\n",
       "      <td>8.449775</td>\n",
       "    </tr>\n",
       "    <tr>\n",
       "      <th>Male</th>\n",
       "      <td>24.000000</td>\n",
       "      <td>2.768875</td>\n",
       "    </tr>\n",
       "    <tr>\n",
       "      <th rowspan=\"2\" valign=\"top\">mono</th>\n",
       "      <th>Female</th>\n",
       "      <td>37.400000</td>\n",
       "      <td>16.317680</td>\n",
       "    </tr>\n",
       "    <tr>\n",
       "      <th>Male</th>\n",
       "      <td>34.800000</td>\n",
       "      <td>15.238110</td>\n",
       "    </tr>\n",
       "  </tbody>\n",
       "</table>\n",
       "</div>"
      ],
      "text/plain": [
       "                          mean        std\n",
       "lang_profile Gender                      \n",
       "l1_eng       Female  29.500000   7.366765\n",
       "             Male    26.400000   3.977716\n",
       "             Other   26.000000        NaN\n",
       "l3_eng       Female  26.111111   8.449775\n",
       "             Male    24.000000   2.768875\n",
       "mono         Female  37.400000  16.317680\n",
       "             Male    34.800000  15.238110"
      ]
     },
     "execution_count": 33,
     "metadata": {},
     "output_type": "execute_result"
    }
   ],
   "source": [
    "df.groupby(['lang_profile', 'Gender']).Age.agg(['mean', 'std'])"
   ]
  },
  {
   "cell_type": "code",
   "execution_count": 34,
   "id": "9d2d2a84-d7c4-4129-b7bc-348e2e25c2c7",
   "metadata": {},
   "outputs": [],
   "source": [
    "df = df[df['lang_profile']!=\"mono\"].copy()"
   ]
  },
  {
   "cell_type": "markdown",
   "id": "11e5722c-6cb2-4e42-b8f9-f35c83c0172f",
   "metadata": {},
   "source": [
    "## Age of acquisition\n",
    "Get age of language acquisition, where `Q1#1_1` is age Spanish was acquired, `Q1#1_2` is age Catalan was acquired, and `Q1#1_3` is age English was acquired."
   ]
  },
  {
   "cell_type": "code",
   "execution_count": 35,
   "id": "30d49d5c-6df4-4ba0-8e6e-b68dd895efff",
   "metadata": {},
   "outputs": [
    {
     "data": {
      "text/plain": [
       "lang_profile  Q1#1_1       Q1#1_2       Q1#1_3     \n",
       "l1_eng        10           20+          Since birth    3\n",
       "              11           18           Since birth    1\n",
       "                           19           Since birth    1\n",
       "                           20+          Since birth    1\n",
       "              12           20+          Since birth    3\n",
       "              13           20+          Since birth    1\n",
       "              14           18           Since birth    1\n",
       "                           20+          Since birth    4\n",
       "              15           20+          Since birth    1\n",
       "              16           20+          Since birth    1\n",
       "              17           20+          Since birth    1\n",
       "              20+          20+          Since birth    1\n",
       "              6            19           Since birth    1\n",
       "              7            20+          Since birth    1\n",
       "              8            19           Since birth    1\n",
       "                           20+          Since birth    1\n",
       "              9            19           Since birth    1\n",
       "              Since birth  20+          Since birth    1\n",
       "l3_eng        3            Since birth  3              1\n",
       "                                        5              1\n",
       "                                        8              1\n",
       "              6            Since birth  6              2\n",
       "              Since birth  3            5              1\n",
       "                                        6              2\n",
       "                           Since birth  17             1\n",
       "                                        3              3\n",
       "                                        4              2\n",
       "                                        5              3\n",
       "                                        6              6\n",
       "                                        7              1\n",
       "                                        8              1\n",
       "Name: partID, dtype: int64"
      ]
     },
     "execution_count": 35,
     "metadata": {},
     "output_type": "execute_result"
    }
   ],
   "source": [
    "df.groupby(['lang_profile','Q1#1_1', 'Q1#1_2', 'Q1#1_3']).partID.count()"
   ]
  },
  {
   "cell_type": "markdown",
   "id": "13f42c78-d6ac-49f7-80c8-95d9f11fc8be",
   "metadata": {},
   "source": [
    "For both trilinguals, average age of acquisition of English:"
   ]
  },
  {
   "cell_type": "code",
   "execution_count": 36,
   "id": "64fd7002-e368-4233-90de-ca75bf2af642",
   "metadata": {},
   "outputs": [
    {
     "data": {
      "text/html": [
       "<div>\n",
       "<style scoped>\n",
       "    .dataframe tbody tr th:only-of-type {\n",
       "        vertical-align: middle;\n",
       "    }\n",
       "\n",
       "    .dataframe tbody tr th {\n",
       "        vertical-align: top;\n",
       "    }\n",
       "\n",
       "    .dataframe thead th {\n",
       "        text-align: right;\n",
       "    }\n",
       "</style>\n",
       "<table border=\"1\" class=\"dataframe\">\n",
       "  <thead>\n",
       "    <tr style=\"text-align: right;\">\n",
       "      <th></th>\n",
       "      <th>mean</th>\n",
       "      <th>std</th>\n",
       "    </tr>\n",
       "    <tr>\n",
       "      <th>lang_profile</th>\n",
       "      <th></th>\n",
       "      <th></th>\n",
       "    </tr>\n",
       "  </thead>\n",
       "  <tbody>\n",
       "    <tr>\n",
       "      <th>l1_eng</th>\n",
       "      <td>0.0</td>\n",
       "      <td>0.000000</td>\n",
       "    </tr>\n",
       "    <tr>\n",
       "      <th>l3_eng</th>\n",
       "      <td>5.8</td>\n",
       "      <td>2.723356</td>\n",
       "    </tr>\n",
       "  </tbody>\n",
       "</table>\n",
       "</div>"
      ],
      "text/plain": [
       "              mean       std\n",
       "lang_profile                \n",
       "l1_eng         0.0  0.000000\n",
       "l3_eng         5.8  2.723356"
      ]
     },
     "execution_count": 36,
     "metadata": {},
     "output_type": "execute_result"
    }
   ],
   "source": [
    "df.loc[df['Q1#1_3']=='Since birth', 'Q1#1_3'] = 0\n",
    "df.loc[df['Q1#1_2']=='Since birth', 'Q1#1_2'] = 0\n",
    "df.loc[df['Q1#1_1']=='Since birth', 'Q1#1_1'] = 0\n",
    "df['Q1#1_3'] = df['Q1#1_3'].astype('int64')\n",
    "df.groupby('lang_profile')['Q1#1_3'].agg(['mean', 'std'])"
   ]
  },
  {
   "cell_type": "code",
   "execution_count": 37,
   "id": "bc218748-82f8-4b6b-9ad5-ad5aa65e7dea",
   "metadata": {},
   "outputs": [],
   "source": [
    "l3 = df[df['lang_profile']==\"l3_eng\"].copy()\n",
    "l3['Q1#1_2'] = l3['Q1#1_2'].astype('int64')\n",
    "l3['Q1#1_1'] = l3['Q1#1_1'].astype('int64')"
   ]
  },
  {
   "cell_type": "markdown",
   "id": "5644d486-486a-449e-855b-4952280d6f85",
   "metadata": {},
   "source": [
    "For L3 English trilinguals, average (std) age of acquisition of Catalan:"
   ]
  },
  {
   "cell_type": "code",
   "execution_count": 38,
   "id": "1dad1c04-1333-4a7a-81a2-b5015853dad9",
   "metadata": {},
   "outputs": [
    {
     "data": {
      "text/html": [
       "<div>\n",
       "<style scoped>\n",
       "    .dataframe tbody tr th:only-of-type {\n",
       "        vertical-align: middle;\n",
       "    }\n",
       "\n",
       "    .dataframe tbody tr th {\n",
       "        vertical-align: top;\n",
       "    }\n",
       "\n",
       "    .dataframe thead th {\n",
       "        text-align: right;\n",
       "    }\n",
       "</style>\n",
       "<table border=\"1\" class=\"dataframe\">\n",
       "  <thead>\n",
       "    <tr style=\"text-align: right;\">\n",
       "      <th></th>\n",
       "      <th>mean</th>\n",
       "      <th>std</th>\n",
       "    </tr>\n",
       "    <tr>\n",
       "      <th>lang_profile</th>\n",
       "      <th></th>\n",
       "      <th></th>\n",
       "    </tr>\n",
       "  </thead>\n",
       "  <tbody>\n",
       "    <tr>\n",
       "      <th>l3_eng</th>\n",
       "      <td>0.36</td>\n",
       "      <td>0.994987</td>\n",
       "    </tr>\n",
       "  </tbody>\n",
       "</table>\n",
       "</div>"
      ],
      "text/plain": [
       "              mean       std\n",
       "lang_profile                \n",
       "l3_eng        0.36  0.994987"
      ]
     },
     "execution_count": 38,
     "metadata": {},
     "output_type": "execute_result"
    }
   ],
   "source": [
    "l3.groupby('lang_profile')['Q1#1_2'].agg(['mean', 'std'])"
   ]
  },
  {
   "cell_type": "markdown",
   "id": "1dcd9bae-93a0-4158-afed-d5ff51d640f7",
   "metadata": {},
   "source": [
    "For L3 English trilinguals, average (std) age of acquisition of Spanish:"
   ]
  },
  {
   "cell_type": "code",
   "execution_count": 39,
   "id": "b841bfc3-a912-4e4e-9972-6e638f32e788",
   "metadata": {},
   "outputs": [
    {
     "data": {
      "text/html": [
       "<div>\n",
       "<style scoped>\n",
       "    .dataframe tbody tr th:only-of-type {\n",
       "        vertical-align: middle;\n",
       "    }\n",
       "\n",
       "    .dataframe tbody tr th {\n",
       "        vertical-align: top;\n",
       "    }\n",
       "\n",
       "    .dataframe thead th {\n",
       "        text-align: right;\n",
       "    }\n",
       "</style>\n",
       "<table border=\"1\" class=\"dataframe\">\n",
       "  <thead>\n",
       "    <tr style=\"text-align: right;\">\n",
       "      <th></th>\n",
       "      <th>mean</th>\n",
       "      <th>std</th>\n",
       "    </tr>\n",
       "    <tr>\n",
       "      <th>lang_profile</th>\n",
       "      <th></th>\n",
       "      <th></th>\n",
       "    </tr>\n",
       "  </thead>\n",
       "  <tbody>\n",
       "    <tr>\n",
       "      <th>l3_eng</th>\n",
       "      <td>0.84</td>\n",
       "      <td>1.841195</td>\n",
       "    </tr>\n",
       "  </tbody>\n",
       "</table>\n",
       "</div>"
      ],
      "text/plain": [
       "              mean       std\n",
       "lang_profile                \n",
       "l3_eng        0.84  1.841195"
      ]
     },
     "execution_count": 39,
     "metadata": {},
     "output_type": "execute_result"
    }
   ],
   "source": [
    "l3.groupby('lang_profile')['Q1#1_1'].agg(['mean', 'std'])"
   ]
  },
  {
   "cell_type": "markdown",
   "id": "a7645603-9527-433b-9894-d4b2c8157b6d",
   "metadata": {},
   "source": [
    "For L1 English trilinguals, average (std) age of acquisition of Spanish (excepting the one participant who learned Spanish at 20+ years):"
   ]
  },
  {
   "cell_type": "code",
   "execution_count": 40,
   "id": "a225401a-7168-40bf-82eb-ecba09c5e567",
   "metadata": {},
   "outputs": [
    {
     "data": {
      "text/html": [
       "<div>\n",
       "<style scoped>\n",
       "    .dataframe tbody tr th:only-of-type {\n",
       "        vertical-align: middle;\n",
       "    }\n",
       "\n",
       "    .dataframe tbody tr th {\n",
       "        vertical-align: top;\n",
       "    }\n",
       "\n",
       "    .dataframe thead th {\n",
       "        text-align: right;\n",
       "    }\n",
       "</style>\n",
       "<table border=\"1\" class=\"dataframe\">\n",
       "  <thead>\n",
       "    <tr style=\"text-align: right;\">\n",
       "      <th></th>\n",
       "      <th>mean</th>\n",
       "      <th>std</th>\n",
       "    </tr>\n",
       "    <tr>\n",
       "      <th>lang_profile</th>\n",
       "      <th></th>\n",
       "      <th></th>\n",
       "    </tr>\n",
       "  </thead>\n",
       "  <tbody>\n",
       "    <tr>\n",
       "      <th>l1_eng</th>\n",
       "      <td>11.166667</td>\n",
       "      <td>3.702721</td>\n",
       "    </tr>\n",
       "  </tbody>\n",
       "</table>\n",
       "</div>"
      ],
      "text/plain": [
       "                   mean       std\n",
       "lang_profile                     \n",
       "l1_eng        11.166667  3.702721"
      ]
     },
     "execution_count": 40,
     "metadata": {},
     "output_type": "execute_result"
    }
   ],
   "source": [
    "l1 = df[df['lang_profile']==\"l1_eng\"].copy()\n",
    "temp = l1[l1['Q1#1_1']!=\"20+\"].copy()\n",
    "temp['Q1#1_1'] = temp['Q1#1_1'].astype('int64')\n",
    "temp.groupby('lang_profile')['Q1#1_1'].agg(['mean', 'std'])"
   ]
  },
  {
   "cell_type": "markdown",
   "id": "074bb071-a09b-4856-9512-e60be78a897e",
   "metadata": {},
   "source": [
    "For L1 English trilinguals, average (std) age of acquisition of Catalan (excepting those that said 20+):"
   ]
  },
  {
   "cell_type": "code",
   "execution_count": 43,
   "id": "11e19b54-16a8-433d-a27d-f5e894a28c5f",
   "metadata": {},
   "outputs": [
    {
     "data": {
      "text/html": [
       "<div>\n",
       "<style scoped>\n",
       "    .dataframe tbody tr th:only-of-type {\n",
       "        vertical-align: middle;\n",
       "    }\n",
       "\n",
       "    .dataframe tbody tr th {\n",
       "        vertical-align: top;\n",
       "    }\n",
       "\n",
       "    .dataframe thead th {\n",
       "        text-align: right;\n",
       "    }\n",
       "</style>\n",
       "<table border=\"1\" class=\"dataframe\">\n",
       "  <thead>\n",
       "    <tr style=\"text-align: right;\">\n",
       "      <th></th>\n",
       "      <th>mean</th>\n",
       "      <th>std</th>\n",
       "    </tr>\n",
       "    <tr>\n",
       "      <th>lang_profile</th>\n",
       "      <th></th>\n",
       "      <th></th>\n",
       "    </tr>\n",
       "  </thead>\n",
       "  <tbody>\n",
       "    <tr>\n",
       "      <th>l1_eng</th>\n",
       "      <td>18.666667</td>\n",
       "      <td>0.516398</td>\n",
       "    </tr>\n",
       "  </tbody>\n",
       "</table>\n",
       "</div>"
      ],
      "text/plain": [
       "                   mean       std\n",
       "lang_profile                     \n",
       "l1_eng        18.666667  0.516398"
      ]
     },
     "execution_count": 43,
     "metadata": {},
     "output_type": "execute_result"
    }
   ],
   "source": [
    "temp0 = l1[l1['Q1#1_2']!=\"20+\"].copy()\n",
    "temp0['Q1#1_2'] = temp0['Q1#1_2'].astype('int64')\n",
    "temp0.groupby('lang_profile')['Q1#1_2'].agg(['mean', 'std'])"
   ]
  },
  {
   "cell_type": "markdown",
   "id": "ade29415-d262-4f69-aff6-ce7fc7c59326",
   "metadata": {},
   "source": [
    "## Age of comfort"
   ]
  },
  {
   "cell_type": "code",
   "execution_count": 44,
   "id": "a1f19154-f8b3-4f7c-ad9e-fcdf90c85d89",
   "metadata": {},
   "outputs": [
    {
     "data": {
      "text/plain": [
       "lang_profile  Q2#1_1  Q2#1_2                 Q2#1_3               \n",
       "l1_eng        0       20+                    0                        1\n",
       "              11      20+                    0                        1\n",
       "              16      20+                    0                        2\n",
       "                      Still not comfortable  0                        1\n",
       "              17      20+                    0                        4\n",
       "                      Still not comfortable  0                        1\n",
       "              18      20+                    0                        3\n",
       "                                             5                        1\n",
       "              20+     20+                    0                        7\n",
       "                      Still not comfortable  0                        3\n",
       "              7       19                     0                        1\n",
       "l3_eng        0       0                      12                       2\n",
       "                                             13                       1\n",
       "                                             14                       3\n",
       "                                             15                       1\n",
       "                                             16                       4\n",
       "                                             17                       2\n",
       "                                             18                       1\n",
       "                                             20+                      1\n",
       "                      12                     15                       1\n",
       "                      18                     8                        1\n",
       "                      3                      6                        1\n",
       "                      7                      12                       1\n",
       "              10      0                      Still not comfortable    1\n",
       "              14      0                      18                       1\n",
       "              19      0                      20+                      1\n",
       "              8       0                      12                       1\n",
       "                                             15                       1\n",
       "              9       0                      7                        1\n",
       "Name: partID, dtype: int64"
      ]
     },
     "execution_count": 44,
     "metadata": {},
     "output_type": "execute_result"
    }
   ],
   "source": [
    "df.loc[df['Q2#1_1']=='As early as I can remember', 'Q2#1_1'] = 0\n",
    "df.loc[df['Q2#1_2']=='As early as I can remember', 'Q2#1_2'] = 0\n",
    "df.loc[df['Q2#1_3']=='As early as I can remember', 'Q2#1_3'] = 0\n",
    "df.groupby(['lang_profile','Q2#1_1', 'Q2#1_2', 'Q2#1_3']).partID.count()"
   ]
  },
  {
   "cell_type": "markdown",
   "id": "b38b08ab-17c5-4ce1-ba29-0664a4167c78",
   "metadata": {},
   "source": [
    "For L1 English trilinguals, average (std) age of comfort with Spanish (excepting the one participant who said 20+ years):"
   ]
  },
  {
   "cell_type": "code",
   "execution_count": 45,
   "id": "39ce0053-2e3f-4781-b684-2e6f968c5966",
   "metadata": {},
   "outputs": [
    {
     "data": {
      "text/html": [
       "<div>\n",
       "<style scoped>\n",
       "    .dataframe tbody tr th:only-of-type {\n",
       "        vertical-align: middle;\n",
       "    }\n",
       "\n",
       "    .dataframe tbody tr th {\n",
       "        vertical-align: top;\n",
       "    }\n",
       "\n",
       "    .dataframe thead th {\n",
       "        text-align: right;\n",
       "    }\n",
       "</style>\n",
       "<table border=\"1\" class=\"dataframe\">\n",
       "  <thead>\n",
       "    <tr style=\"text-align: right;\">\n",
       "      <th></th>\n",
       "      <th>mean</th>\n",
       "      <th>std</th>\n",
       "    </tr>\n",
       "    <tr>\n",
       "      <th>lang_profile</th>\n",
       "      <th></th>\n",
       "      <th></th>\n",
       "    </tr>\n",
       "  </thead>\n",
       "  <tbody>\n",
       "    <tr>\n",
       "      <th>l1_eng</th>\n",
       "      <td>14.866667</td>\n",
       "      <td>5.097151</td>\n",
       "    </tr>\n",
       "  </tbody>\n",
       "</table>\n",
       "</div>"
      ],
      "text/plain": [
       "                   mean       std\n",
       "lang_profile                     \n",
       "l1_eng        14.866667  5.097151"
      ]
     },
     "execution_count": 45,
     "metadata": {},
     "output_type": "execute_result"
    }
   ],
   "source": [
    "l1 = df[df['lang_profile']==\"l1_eng\"].copy()\n",
    "temp2 = l1[l1['Q2#1_1']!=\"20+\"].copy()\n",
    "temp2['Q2#1_1'] = temp2['Q2#1_1'].astype('int64')\n",
    "temp2.groupby('lang_profile')['Q2#1_1'].agg(['mean', 'std'])"
   ]
  },
  {
   "cell_type": "markdown",
   "id": "7643150d-e591-4c17-b41f-589a68183c7c",
   "metadata": {},
   "source": [
    "For L1 English trilinguals, average (std) age of comfort with English:"
   ]
  },
  {
   "cell_type": "code",
   "execution_count": 51,
   "id": "b52f6d45-8277-4aa4-a147-23224c1b4f98",
   "metadata": {},
   "outputs": [
    {
     "data": {
      "text/html": [
       "<div>\n",
       "<style scoped>\n",
       "    .dataframe tbody tr th:only-of-type {\n",
       "        vertical-align: middle;\n",
       "    }\n",
       "\n",
       "    .dataframe tbody tr th {\n",
       "        vertical-align: top;\n",
       "    }\n",
       "\n",
       "    .dataframe thead th {\n",
       "        text-align: right;\n",
       "    }\n",
       "</style>\n",
       "<table border=\"1\" class=\"dataframe\">\n",
       "  <thead>\n",
       "    <tr style=\"text-align: right;\">\n",
       "      <th></th>\n",
       "      <th>mean</th>\n",
       "      <th>std</th>\n",
       "    </tr>\n",
       "    <tr>\n",
       "      <th>lang_profile</th>\n",
       "      <th></th>\n",
       "      <th></th>\n",
       "    </tr>\n",
       "  </thead>\n",
       "  <tbody>\n",
       "    <tr>\n",
       "      <th>l1_eng</th>\n",
       "      <td>0.2</td>\n",
       "      <td>1.0</td>\n",
       "    </tr>\n",
       "  </tbody>\n",
       "</table>\n",
       "</div>"
      ],
      "text/plain": [
       "              mean  std\n",
       "lang_profile           \n",
       "l1_eng         0.2  1.0"
      ]
     },
     "execution_count": 51,
     "metadata": {},
     "output_type": "execute_result"
    }
   ],
   "source": [
    "l1['Q2#1_3'] = l1['Q2#1_3'].astype('int64')\n",
    "l1.groupby('lang_profile')['Q2#1_3'].agg(['mean', 'std'])"
   ]
  },
  {
   "cell_type": "markdown",
   "id": "7439d437-142d-4dfd-952e-917594c20dfb",
   "metadata": {},
   "source": [
    "For L3 English trilinguals, average (std) age of comfort with English (excepting the three participants who said 20+ years and the one who said still not comfortable):"
   ]
  },
  {
   "cell_type": "code",
   "execution_count": 46,
   "id": "59a84a7e-c418-4be9-8709-03db1fe58c12",
   "metadata": {},
   "outputs": [
    {
     "data": {
      "text/html": [
       "<div>\n",
       "<style scoped>\n",
       "    .dataframe tbody tr th:only-of-type {\n",
       "        vertical-align: middle;\n",
       "    }\n",
       "\n",
       "    .dataframe tbody tr th {\n",
       "        vertical-align: top;\n",
       "    }\n",
       "\n",
       "    .dataframe thead th {\n",
       "        text-align: right;\n",
       "    }\n",
       "</style>\n",
       "<table border=\"1\" class=\"dataframe\">\n",
       "  <thead>\n",
       "    <tr style=\"text-align: right;\">\n",
       "      <th></th>\n",
       "      <th>mean</th>\n",
       "      <th>std</th>\n",
       "    </tr>\n",
       "    <tr>\n",
       "      <th>lang_profile</th>\n",
       "      <th></th>\n",
       "      <th></th>\n",
       "    </tr>\n",
       "  </thead>\n",
       "  <tbody>\n",
       "    <tr>\n",
       "      <th>l3_eng</th>\n",
       "      <td>13.772727</td>\n",
       "      <td>3.337119</td>\n",
       "    </tr>\n",
       "  </tbody>\n",
       "</table>\n",
       "</div>"
      ],
      "text/plain": [
       "                   mean       std\n",
       "lang_profile                     \n",
       "l3_eng        13.772727  3.337119"
      ]
     },
     "execution_count": 46,
     "metadata": {},
     "output_type": "execute_result"
    }
   ],
   "source": [
    "l3 = df[df['lang_profile']==\"l3_eng\"].copy()\n",
    "temp3 = l3[(l3['Q2#1_3']!=\"20+\") & (l3['Q2#1_3']!=\"Still not comfortable\")].copy()\n",
    "temp3['Q2#1_3'] = temp3['Q2#1_3'].astype('int64')\n",
    "temp3.groupby('lang_profile')['Q2#1_3'].agg(['mean', 'std'])"
   ]
  },
  {
   "cell_type": "markdown",
   "id": "5bc9a48f-e270-4005-84a5-40c578dcb0bd",
   "metadata": {},
   "source": [
    "For L3 English trilinguals, average (std) age of comfort with Spanish:"
   ]
  },
  {
   "cell_type": "code",
   "execution_count": 47,
   "id": "106952ee-58d8-479c-a1d5-66cff69ed5a4",
   "metadata": {},
   "outputs": [
    {
     "data": {
      "text/html": [
       "<div>\n",
       "<style scoped>\n",
       "    .dataframe tbody tr th:only-of-type {\n",
       "        vertical-align: middle;\n",
       "    }\n",
       "\n",
       "    .dataframe tbody tr th {\n",
       "        vertical-align: top;\n",
       "    }\n",
       "\n",
       "    .dataframe thead th {\n",
       "        text-align: right;\n",
       "    }\n",
       "</style>\n",
       "<table border=\"1\" class=\"dataframe\">\n",
       "  <thead>\n",
       "    <tr style=\"text-align: right;\">\n",
       "      <th></th>\n",
       "      <th>mean</th>\n",
       "      <th>std</th>\n",
       "    </tr>\n",
       "    <tr>\n",
       "      <th>lang_profile</th>\n",
       "      <th></th>\n",
       "      <th></th>\n",
       "    </tr>\n",
       "  </thead>\n",
       "  <tbody>\n",
       "    <tr>\n",
       "      <th>l3_eng</th>\n",
       "      <td>2.72</td>\n",
       "      <td>5.326975</td>\n",
       "    </tr>\n",
       "  </tbody>\n",
       "</table>\n",
       "</div>"
      ],
      "text/plain": [
       "              mean       std\n",
       "lang_profile                \n",
       "l3_eng        2.72  5.326975"
      ]
     },
     "execution_count": 47,
     "metadata": {},
     "output_type": "execute_result"
    }
   ],
   "source": [
    "l3['Q2#1_2'] = l3['Q2#1_2'].astype('int64')\n",
    "l3['Q2#1_1'] = l3['Q2#1_1'].astype('int64')\n",
    "l3.groupby('lang_profile')['Q2#1_1'].agg(['mean', 'std'])"
   ]
  },
  {
   "cell_type": "markdown",
   "id": "9aac2b81-330d-4cf9-81b4-4d4aa2b29a20",
   "metadata": {},
   "source": [
    "For L3 English trilinguals, average (std) age of comfort with Catalan:"
   ]
  },
  {
   "cell_type": "code",
   "execution_count": 48,
   "id": "91ac8702-3bf9-4a14-83ab-08f4b1419660",
   "metadata": {},
   "outputs": [
    {
     "data": {
      "text/html": [
       "<div>\n",
       "<style scoped>\n",
       "    .dataframe tbody tr th:only-of-type {\n",
       "        vertical-align: middle;\n",
       "    }\n",
       "\n",
       "    .dataframe tbody tr th {\n",
       "        vertical-align: top;\n",
       "    }\n",
       "\n",
       "    .dataframe thead th {\n",
       "        text-align: right;\n",
       "    }\n",
       "</style>\n",
       "<table border=\"1\" class=\"dataframe\">\n",
       "  <thead>\n",
       "    <tr style=\"text-align: right;\">\n",
       "      <th></th>\n",
       "      <th>mean</th>\n",
       "      <th>std</th>\n",
       "    </tr>\n",
       "    <tr>\n",
       "      <th>lang_profile</th>\n",
       "      <th></th>\n",
       "      <th></th>\n",
       "    </tr>\n",
       "  </thead>\n",
       "  <tbody>\n",
       "    <tr>\n",
       "      <th>l3_eng</th>\n",
       "      <td>1.6</td>\n",
       "      <td>4.387482</td>\n",
       "    </tr>\n",
       "  </tbody>\n",
       "</table>\n",
       "</div>"
      ],
      "text/plain": [
       "              mean       std\n",
       "lang_profile                \n",
       "l3_eng         1.6  4.387482"
      ]
     },
     "execution_count": 48,
     "metadata": {},
     "output_type": "execute_result"
    }
   ],
   "source": [
    "l3.groupby('lang_profile')['Q2#1_2'].agg(['mean', 'std'])"
   ]
  },
  {
   "cell_type": "markdown",
   "id": "e368958e-453e-4f4e-b2c8-cf8dda39e6dd",
   "metadata": {},
   "source": [
    "## Years of classes"
   ]
  },
  {
   "cell_type": "code",
   "execution_count": 52,
   "id": "54717e21-0537-433c-ad1f-7b203894027d",
   "metadata": {},
   "outputs": [
    {
     "data": {
      "text/plain": [
       "lang_profile  Q3#1_1  Q3#1_2  Q3#1_3\n",
       "l1_eng        0       0       20+       1\n",
       "                      2       15        1\n",
       "                              20+       1\n",
       "              1       0       20+       1\n",
       "              10      0       20+       1\n",
       "                      2       16        1\n",
       "              11      0       20+       1\n",
       "                      1       18        1\n",
       "              12      4       20+       1\n",
       "              15      4       20+       1\n",
       "              16      2       16        1\n",
       "              17      1       20+       1\n",
       "                      2       20+       1\n",
       "              2       0       18        1\n",
       "              20+     6       20+       1\n",
       "              4       0       17        1\n",
       "                      1       16        1\n",
       "                      2       20+       1\n",
       "              5       2       15        1\n",
       "              6       1       12        1\n",
       "                      2       20+       1\n",
       "              9       0       16        3\n",
       "                      1       20+       1\n",
       "l3_eng        0       15      4         1\n",
       "              10      10      12        1\n",
       "                              15        1\n",
       "                      15      10        1\n",
       "              12      12      9         1\n",
       "              13      13      11        1\n",
       "                      6       1         1\n",
       "              14      14      11        1\n",
       "              15      15      13        1\n",
       "                      17      13        1\n",
       "              16      16      10        1\n",
       "              17      17      11        1\n",
       "              18      18      16        1\n",
       "                      20+     20+       1\n",
       "              19      19      12        1\n",
       "                              16        1\n",
       "              2       14      0         1\n",
       "              20+     0       0         1\n",
       "                      20+     15        1\n",
       "                              16        1\n",
       "                              20+       1\n",
       "                              8         1\n",
       "              3       3       10        1\n",
       "              8       8       8         1\n",
       "              9       0       10        1\n",
       "Name: partID, dtype: int64"
      ]
     },
     "execution_count": 52,
     "metadata": {},
     "output_type": "execute_result"
    }
   ],
   "source": [
    "df.groupby(['lang_profile','Q3#1_1', 'Q3#1_2', 'Q3#1_3']).partID.count()"
   ]
  },
  {
   "cell_type": "markdown",
   "id": "56874ba4-aebf-4dd0-b712-36bd50d31802",
   "metadata": {},
   "source": [
    "For L1 English trilinguals, average (std) years of classes in Spanish (excepting the one participant who said 20+ years):"
   ]
  },
  {
   "cell_type": "code",
   "execution_count": 53,
   "id": "20028b4b-ed83-46b0-b38b-9b5f29662e39",
   "metadata": {},
   "outputs": [
    {
     "data": {
      "text/html": [
       "<div>\n",
       "<style scoped>\n",
       "    .dataframe tbody tr th:only-of-type {\n",
       "        vertical-align: middle;\n",
       "    }\n",
       "\n",
       "    .dataframe tbody tr th {\n",
       "        vertical-align: top;\n",
       "    }\n",
       "\n",
       "    .dataframe thead th {\n",
       "        text-align: right;\n",
       "    }\n",
       "</style>\n",
       "<table border=\"1\" class=\"dataframe\">\n",
       "  <thead>\n",
       "    <tr style=\"text-align: right;\">\n",
       "      <th></th>\n",
       "      <th>mean</th>\n",
       "      <th>std</th>\n",
       "    </tr>\n",
       "    <tr>\n",
       "      <th>lang_profile</th>\n",
       "      <th></th>\n",
       "      <th></th>\n",
       "    </tr>\n",
       "  </thead>\n",
       "  <tbody>\n",
       "    <tr>\n",
       "      <th>l1_eng</th>\n",
       "      <td>7.791667</td>\n",
       "      <td>5.364774</td>\n",
       "    </tr>\n",
       "  </tbody>\n",
       "</table>\n",
       "</div>"
      ],
      "text/plain": [
       "                  mean       std\n",
       "lang_profile                    \n",
       "l1_eng        7.791667  5.364774"
      ]
     },
     "execution_count": 53,
     "metadata": {},
     "output_type": "execute_result"
    }
   ],
   "source": [
    "l1 = df[df['lang_profile']==\"l1_eng\"].copy()\n",
    "temp4 = l1[l1['Q3#1_1']!=\"20+\"].copy()\n",
    "temp4['Q3#1_1'] = temp4['Q3#1_1'].astype('int64')\n",
    "temp4.groupby('lang_profile')['Q3#1_1'].agg(['mean', 'std'])"
   ]
  },
  {
   "cell_type": "markdown",
   "id": "983c443e-eda9-4205-b722-aba96e5711a4",
   "metadata": {},
   "source": [
    "For L1 English trilinguals, average (std) years of classes in English minus 13 that were more:"
   ]
  },
  {
   "cell_type": "code",
   "execution_count": 55,
   "id": "04e719e6-80d3-46a6-b7f1-959b85df7998",
   "metadata": {},
   "outputs": [
    {
     "data": {
      "text/html": [
       "<div>\n",
       "<style scoped>\n",
       "    .dataframe tbody tr th:only-of-type {\n",
       "        vertical-align: middle;\n",
       "    }\n",
       "\n",
       "    .dataframe tbody tr th {\n",
       "        vertical-align: top;\n",
       "    }\n",
       "\n",
       "    .dataframe thead th {\n",
       "        text-align: right;\n",
       "    }\n",
       "</style>\n",
       "<table border=\"1\" class=\"dataframe\">\n",
       "  <thead>\n",
       "    <tr style=\"text-align: right;\">\n",
       "      <th></th>\n",
       "      <th>mean</th>\n",
       "      <th>std</th>\n",
       "    </tr>\n",
       "    <tr>\n",
       "      <th>lang_profile</th>\n",
       "      <th></th>\n",
       "      <th></th>\n",
       "    </tr>\n",
       "  </thead>\n",
       "  <tbody>\n",
       "    <tr>\n",
       "      <th>l1_eng</th>\n",
       "      <td>15.916667</td>\n",
       "      <td>1.564279</td>\n",
       "    </tr>\n",
       "  </tbody>\n",
       "</table>\n",
       "</div>"
      ],
      "text/plain": [
       "                   mean       std\n",
       "lang_profile                     \n",
       "l1_eng        15.916667  1.564279"
      ]
     },
     "execution_count": 55,
     "metadata": {},
     "output_type": "execute_result"
    }
   ],
   "source": [
    "temp04 = l1[l1['Q3#1_3']!=\"20+\"].copy()\n",
    "temp04['Q3#1_3'] = temp04['Q3#1_3'].astype('int64')\n",
    "temp04.groupby('lang_profile')['Q3#1_3'].agg(['mean', 'std'])"
   ]
  },
  {
   "cell_type": "markdown",
   "id": "609af60c-2821-487a-8b19-a8b3f78da452",
   "metadata": {},
   "source": [
    "For L1 English trilinguals, average (std) years of classes in Catalan:"
   ]
  },
  {
   "cell_type": "code",
   "execution_count": 56,
   "id": "2648a3e3-f12a-4d48-a743-3d8eaae4fea0",
   "metadata": {},
   "outputs": [
    {
     "data": {
      "text/html": [
       "<div>\n",
       "<style scoped>\n",
       "    .dataframe tbody tr th:only-of-type {\n",
       "        vertical-align: middle;\n",
       "    }\n",
       "\n",
       "    .dataframe tbody tr th {\n",
       "        vertical-align: top;\n",
       "    }\n",
       "\n",
       "    .dataframe thead th {\n",
       "        text-align: right;\n",
       "    }\n",
       "</style>\n",
       "<table border=\"1\" class=\"dataframe\">\n",
       "  <thead>\n",
       "    <tr style=\"text-align: right;\">\n",
       "      <th></th>\n",
       "      <th>mean</th>\n",
       "      <th>std</th>\n",
       "    </tr>\n",
       "    <tr>\n",
       "      <th>lang_profile</th>\n",
       "      <th></th>\n",
       "      <th></th>\n",
       "    </tr>\n",
       "  </thead>\n",
       "  <tbody>\n",
       "    <tr>\n",
       "      <th>l1_eng</th>\n",
       "      <td>1.4</td>\n",
       "      <td>1.527525</td>\n",
       "    </tr>\n",
       "  </tbody>\n",
       "</table>\n",
       "</div>"
      ],
      "text/plain": [
       "              mean       std\n",
       "lang_profile                \n",
       "l1_eng         1.4  1.527525"
      ]
     },
     "execution_count": 56,
     "metadata": {},
     "output_type": "execute_result"
    }
   ],
   "source": [
    "l1['Q3#1_2'] = l1['Q3#1_2'].astype('int64')\n",
    "l1.groupby('lang_profile')['Q3#1_2'].agg(['mean', 'std'])"
   ]
  },
  {
   "cell_type": "markdown",
   "id": "3b3367eb-3756-4d60-a42b-d5f03f70b764",
   "metadata": {},
   "source": [
    "For L3 English trilinguals, average (std) years of classes in Spanish (minus the five participants who said 20+):"
   ]
  },
  {
   "cell_type": "code",
   "execution_count": 57,
   "id": "f80cb78b-aae7-4890-bcdd-db8eb0caf594",
   "metadata": {},
   "outputs": [
    {
     "data": {
      "text/html": [
       "<div>\n",
       "<style scoped>\n",
       "    .dataframe tbody tr th:only-of-type {\n",
       "        vertical-align: middle;\n",
       "    }\n",
       "\n",
       "    .dataframe tbody tr th {\n",
       "        vertical-align: top;\n",
       "    }\n",
       "\n",
       "    .dataframe thead th {\n",
       "        text-align: right;\n",
       "    }\n",
       "</style>\n",
       "<table border=\"1\" class=\"dataframe\">\n",
       "  <thead>\n",
       "    <tr style=\"text-align: right;\">\n",
       "      <th></th>\n",
       "      <th>mean</th>\n",
       "      <th>std</th>\n",
       "    </tr>\n",
       "    <tr>\n",
       "      <th>lang_profile</th>\n",
       "      <th></th>\n",
       "      <th></th>\n",
       "    </tr>\n",
       "  </thead>\n",
       "  <tbody>\n",
       "    <tr>\n",
       "      <th>l3_eng</th>\n",
       "      <td>12.05</td>\n",
       "      <td>5.605214</td>\n",
       "    </tr>\n",
       "  </tbody>\n",
       "</table>\n",
       "</div>"
      ],
      "text/plain": [
       "               mean       std\n",
       "lang_profile                 \n",
       "l3_eng        12.05  5.605214"
      ]
     },
     "execution_count": 57,
     "metadata": {},
     "output_type": "execute_result"
    }
   ],
   "source": [
    "l3 = df[df['lang_profile']==\"l3_eng\"].copy()\n",
    "temp5 = l3[l3['Q3#1_1']!=\"20+\"].copy()\n",
    "temp5['Q3#1_1'] = temp5['Q3#1_1'].astype('int64')\n",
    "temp5.groupby('lang_profile')['Q3#1_1'].agg(['mean', 'std'])"
   ]
  },
  {
   "cell_type": "markdown",
   "id": "ece6b1d3-b079-41dd-9c2d-54e7b543f056",
   "metadata": {},
   "source": [
    "For L3 English trilinguals, average (std) years of classes in Catalan (minus the five participants who said 20+):"
   ]
  },
  {
   "cell_type": "code",
   "execution_count": 58,
   "id": "78c23c81-31bb-448d-a3cd-014a864874e6",
   "metadata": {},
   "outputs": [
    {
     "data": {
      "text/html": [
       "<div>\n",
       "<style scoped>\n",
       "    .dataframe tbody tr th:only-of-type {\n",
       "        vertical-align: middle;\n",
       "    }\n",
       "\n",
       "    .dataframe tbody tr th {\n",
       "        vertical-align: top;\n",
       "    }\n",
       "\n",
       "    .dataframe thead th {\n",
       "        text-align: right;\n",
       "    }\n",
       "</style>\n",
       "<table border=\"1\" class=\"dataframe\">\n",
       "  <thead>\n",
       "    <tr style=\"text-align: right;\">\n",
       "      <th></th>\n",
       "      <th>mean</th>\n",
       "      <th>std</th>\n",
       "    </tr>\n",
       "    <tr>\n",
       "      <th>lang_profile</th>\n",
       "      <th></th>\n",
       "      <th></th>\n",
       "    </tr>\n",
       "  </thead>\n",
       "  <tbody>\n",
       "    <tr>\n",
       "      <th>l3_eng</th>\n",
       "      <td>12.05</td>\n",
       "      <td>5.915857</td>\n",
       "    </tr>\n",
       "  </tbody>\n",
       "</table>\n",
       "</div>"
      ],
      "text/plain": [
       "               mean       std\n",
       "lang_profile                 \n",
       "l3_eng        12.05  5.915857"
      ]
     },
     "execution_count": 58,
     "metadata": {},
     "output_type": "execute_result"
    }
   ],
   "source": [
    "temp6 = l3[l3['Q3#1_2']!=\"20+\"].copy()\n",
    "temp6['Q3#1_2'] = temp6['Q3#1_2'].astype('int64')\n",
    "temp6.groupby('lang_profile')['Q3#1_2'].agg(['mean', 'std'])"
   ]
  },
  {
   "cell_type": "markdown",
   "id": "bf9f9579-c6bc-4a36-92e6-e37dae97528f",
   "metadata": {},
   "source": [
    "For L3 English trilinguals, average (std) years of classes in English (minus the two participants that said 20+):"
   ]
  },
  {
   "cell_type": "code",
   "execution_count": 59,
   "id": "8aa270d7-1ee2-4044-9308-40f552d35abc",
   "metadata": {},
   "outputs": [
    {
     "data": {
      "text/html": [
       "<div>\n",
       "<style scoped>\n",
       "    .dataframe tbody tr th:only-of-type {\n",
       "        vertical-align: middle;\n",
       "    }\n",
       "\n",
       "    .dataframe tbody tr th {\n",
       "        vertical-align: top;\n",
       "    }\n",
       "\n",
       "    .dataframe thead th {\n",
       "        text-align: right;\n",
       "    }\n",
       "</style>\n",
       "<table border=\"1\" class=\"dataframe\">\n",
       "  <thead>\n",
       "    <tr style=\"text-align: right;\">\n",
       "      <th></th>\n",
       "      <th>mean</th>\n",
       "      <th>std</th>\n",
       "    </tr>\n",
       "    <tr>\n",
       "      <th>lang_profile</th>\n",
       "      <th></th>\n",
       "      <th></th>\n",
       "    </tr>\n",
       "  </thead>\n",
       "  <tbody>\n",
       "    <tr>\n",
       "      <th>l3_eng</th>\n",
       "      <td>10.043478</td>\n",
       "      <td>4.828686</td>\n",
       "    </tr>\n",
       "  </tbody>\n",
       "</table>\n",
       "</div>"
      ],
      "text/plain": [
       "                   mean       std\n",
       "lang_profile                     \n",
       "l3_eng        10.043478  4.828686"
      ]
     },
     "execution_count": 59,
     "metadata": {},
     "output_type": "execute_result"
    }
   ],
   "source": [
    "temp7 = l3[l3['Q3#1_3']!=\"20+\"].copy()\n",
    "temp7['Q3#1_3'] = temp7['Q3#1_3'].astype('int64')\n",
    "temp7.groupby('lang_profile')['Q3#1_3'].agg(['mean', 'std'])"
   ]
  },
  {
   "cell_type": "markdown",
   "id": "f80dfa24-21ae-438d-8bf5-fe6afcd5bad4",
   "metadata": {},
   "source": [
    "## Years spent in a region that speaks a certain language"
   ]
  },
  {
   "cell_type": "code",
   "execution_count": 60,
   "id": "0f3004ba-bfe0-4798-9b77-46203e1b5a12",
   "metadata": {},
   "outputs": [
    {
     "data": {
      "text/plain": [
       "lang_profile  Q4#1_1  Q4#1_2  Q4#1_3\n",
       "l1_eng        0       0       20+       2\n",
       "              1       0       20+       4\n",
       "                      1       20+       3\n",
       "              2       0       20+       1\n",
       "                      1       20+       1\n",
       "                      2       19        1\n",
       "              3       2       20+       3\n",
       "                      3       20+       1\n",
       "              4       2       20+       1\n",
       "                      3       20+       1\n",
       "                      4       20+       1\n",
       "              5       3       19        1\n",
       "                              20+       1\n",
       "                      5       20+       1\n",
       "              6       1       20+       1\n",
       "              7       6       20+       1\n",
       "              8       6       20+       1\n",
       "l3_eng        16      16      11        1\n",
       "              18      18      2         1\n",
       "              19      19      0         1\n",
       "              20+     19      3         1\n",
       "                      20+     0         9\n",
       "                              1         5\n",
       "                              2         1\n",
       "                              20+       1\n",
       "                              3         1\n",
       "                              5         1\n",
       "                              6         1\n",
       "                              7         1\n",
       "              8       8       13        1\n",
       "Name: partID, dtype: int64"
      ]
     },
     "execution_count": 60,
     "metadata": {},
     "output_type": "execute_result"
    }
   ],
   "source": [
    "df.groupby(['lang_profile','Q4#1_1', 'Q4#1_2', 'Q4#1_3']).partID.count()"
   ]
  },
  {
   "cell_type": "markdown",
   "id": "5f38739f-4dd1-4352-9d20-5e02263cf954",
   "metadata": {},
   "source": [
    "For L1 English trilinguals, years spent in a region that speaks Spanish:"
   ]
  },
  {
   "cell_type": "code",
   "execution_count": 61,
   "id": "9091e432-6bab-40b3-903a-d7e06066fed2",
   "metadata": {},
   "outputs": [
    {
     "data": {
      "text/html": [
       "<div>\n",
       "<style scoped>\n",
       "    .dataframe tbody tr th:only-of-type {\n",
       "        vertical-align: middle;\n",
       "    }\n",
       "\n",
       "    .dataframe tbody tr th {\n",
       "        vertical-align: top;\n",
       "    }\n",
       "\n",
       "    .dataframe thead th {\n",
       "        text-align: right;\n",
       "    }\n",
       "</style>\n",
       "<table border=\"1\" class=\"dataframe\">\n",
       "  <thead>\n",
       "    <tr style=\"text-align: right;\">\n",
       "      <th></th>\n",
       "      <th>mean</th>\n",
       "      <th>std</th>\n",
       "    </tr>\n",
       "    <tr>\n",
       "      <th>lang_profile</th>\n",
       "      <th></th>\n",
       "      <th></th>\n",
       "    </tr>\n",
       "  </thead>\n",
       "  <tbody>\n",
       "    <tr>\n",
       "      <th>l1_eng</th>\n",
       "      <td>2.92</td>\n",
       "      <td>2.177919</td>\n",
       "    </tr>\n",
       "  </tbody>\n",
       "</table>\n",
       "</div>"
      ],
      "text/plain": [
       "              mean       std\n",
       "lang_profile                \n",
       "l1_eng        2.92  2.177919"
      ]
     },
     "execution_count": 61,
     "metadata": {},
     "output_type": "execute_result"
    }
   ],
   "source": [
    "l1['Q4#1_1'] = l1['Q4#1_1'].astype('int64')\n",
    "l1['Q4#1_2'] = l1['Q4#1_2'].astype('int64')\n",
    "l1.groupby('lang_profile')['Q4#1_1'].agg(['mean', 'std'])"
   ]
  },
  {
   "cell_type": "markdown",
   "id": "890d60b3-943c-466e-a091-2839f9cf66b7",
   "metadata": {},
   "source": [
    "For L1 English trilinguals, years spent in a region that speaks Catalan:"
   ]
  },
  {
   "cell_type": "code",
   "execution_count": 62,
   "id": "36f0a089-83f0-4c72-a993-5e4517db0cb9",
   "metadata": {},
   "outputs": [
    {
     "data": {
      "text/html": [
       "<div>\n",
       "<style scoped>\n",
       "    .dataframe tbody tr th:only-of-type {\n",
       "        vertical-align: middle;\n",
       "    }\n",
       "\n",
       "    .dataframe tbody tr th {\n",
       "        vertical-align: top;\n",
       "    }\n",
       "\n",
       "    .dataframe thead th {\n",
       "        text-align: right;\n",
       "    }\n",
       "</style>\n",
       "<table border=\"1\" class=\"dataframe\">\n",
       "  <thead>\n",
       "    <tr style=\"text-align: right;\">\n",
       "      <th></th>\n",
       "      <th>mean</th>\n",
       "      <th>std</th>\n",
       "    </tr>\n",
       "    <tr>\n",
       "      <th>lang_profile</th>\n",
       "      <th></th>\n",
       "      <th></th>\n",
       "    </tr>\n",
       "  </thead>\n",
       "  <tbody>\n",
       "    <tr>\n",
       "      <th>l1_eng</th>\n",
       "      <td>1.92</td>\n",
       "      <td>1.846619</td>\n",
       "    </tr>\n",
       "  </tbody>\n",
       "</table>\n",
       "</div>"
      ],
      "text/plain": [
       "              mean       std\n",
       "lang_profile                \n",
       "l1_eng        1.92  1.846619"
      ]
     },
     "execution_count": 62,
     "metadata": {},
     "output_type": "execute_result"
    }
   ],
   "source": [
    "l1.groupby('lang_profile')['Q4#1_2'].agg(['mean', 'std'])"
   ]
  },
  {
   "cell_type": "markdown",
   "id": "49ec0149-3e99-4939-b875-223405174e16",
   "metadata": {},
   "source": [
    "For L3 English trilinguals, years spent in a region that speaks English:"
   ]
  },
  {
   "cell_type": "code",
   "execution_count": 64,
   "id": "512b9a82-d874-48e3-9432-cccc75e8a89e",
   "metadata": {},
   "outputs": [
    {
     "data": {
      "text/html": [
       "<div>\n",
       "<style scoped>\n",
       "    .dataframe tbody tr th:only-of-type {\n",
       "        vertical-align: middle;\n",
       "    }\n",
       "\n",
       "    .dataframe tbody tr th {\n",
       "        vertical-align: top;\n",
       "    }\n",
       "\n",
       "    .dataframe thead th {\n",
       "        text-align: right;\n",
       "    }\n",
       "</style>\n",
       "<table border=\"1\" class=\"dataframe\">\n",
       "  <thead>\n",
       "    <tr style=\"text-align: right;\">\n",
       "      <th></th>\n",
       "      <th>mean</th>\n",
       "      <th>std</th>\n",
       "    </tr>\n",
       "    <tr>\n",
       "      <th>lang_profile</th>\n",
       "      <th></th>\n",
       "      <th></th>\n",
       "    </tr>\n",
       "  </thead>\n",
       "  <tbody>\n",
       "    <tr>\n",
       "      <th>l3_eng</th>\n",
       "      <td>2.375</td>\n",
       "      <td>3.585144</td>\n",
       "    </tr>\n",
       "  </tbody>\n",
       "</table>\n",
       "</div>"
      ],
      "text/plain": [
       "               mean       std\n",
       "lang_profile                 \n",
       "l3_eng        2.375  3.585144"
      ]
     },
     "execution_count": 64,
     "metadata": {},
     "output_type": "execute_result"
    }
   ],
   "source": [
    "temp07 = l3[l3['Q4#1_3']!=\"20+\"].copy()\n",
    "temp07['Q4#1_3'] = temp07['Q4#1_3'].astype('int64')\n",
    "temp07.groupby('lang_profile')['Q4#1_3'].agg(['mean', 'std'])"
   ]
  },
  {
   "cell_type": "markdown",
   "id": "6945ff12-9d25-47bb-9794-c19073de9367",
   "metadata": {},
   "source": [
    "For L3 English trilinguals, years spent in a region that speaks Spanish:"
   ]
  },
  {
   "cell_type": "code",
   "execution_count": 70,
   "id": "6140d492-69b3-4667-8e02-73b3882984cf",
   "metadata": {},
   "outputs": [
    {
     "data": {
      "text/html": [
       "<div>\n",
       "<style scoped>\n",
       "    .dataframe tbody tr th:only-of-type {\n",
       "        vertical-align: middle;\n",
       "    }\n",
       "\n",
       "    .dataframe tbody tr th {\n",
       "        vertical-align: top;\n",
       "    }\n",
       "\n",
       "    .dataframe thead th {\n",
       "        text-align: right;\n",
       "    }\n",
       "</style>\n",
       "<table border=\"1\" class=\"dataframe\">\n",
       "  <thead>\n",
       "    <tr style=\"text-align: right;\">\n",
       "      <th></th>\n",
       "      <th>mean</th>\n",
       "      <th>std</th>\n",
       "    </tr>\n",
       "    <tr>\n",
       "      <th>lang_profile</th>\n",
       "      <th></th>\n",
       "      <th></th>\n",
       "    </tr>\n",
       "  </thead>\n",
       "  <tbody>\n",
       "    <tr>\n",
       "      <th>l3_eng</th>\n",
       "      <td>15.25</td>\n",
       "      <td>4.99166</td>\n",
       "    </tr>\n",
       "  </tbody>\n",
       "</table>\n",
       "</div>"
      ],
      "text/plain": [
       "               mean      std\n",
       "lang_profile                \n",
       "l3_eng        15.25  4.99166"
      ]
     },
     "execution_count": 70,
     "metadata": {},
     "output_type": "execute_result"
    }
   ],
   "source": [
    "temp08 = l3[l3['Q4#1_1']!=\"20+\"].copy()\n",
    "temp08['Q4#1_1'] = temp08['Q4#1_1'].astype('int64')\n",
    "temp08.groupby('lang_profile')['Q4#1_1'].agg(['mean', 'std'])"
   ]
  },
  {
   "cell_type": "markdown",
   "id": "cec18513-56d7-4640-a9e9-37d37c3c8f8d",
   "metadata": {},
   "source": [
    "For L3 English trilinguals, years spent in a region that speaks Catalan:"
   ]
  },
  {
   "cell_type": "code",
   "execution_count": 71,
   "id": "6ce971db-22c7-403c-8cd4-47ead8940709",
   "metadata": {},
   "outputs": [
    {
     "data": {
      "text/html": [
       "<div>\n",
       "<style scoped>\n",
       "    .dataframe tbody tr th:only-of-type {\n",
       "        vertical-align: middle;\n",
       "    }\n",
       "\n",
       "    .dataframe tbody tr th {\n",
       "        vertical-align: top;\n",
       "    }\n",
       "\n",
       "    .dataframe thead th {\n",
       "        text-align: right;\n",
       "    }\n",
       "</style>\n",
       "<table border=\"1\" class=\"dataframe\">\n",
       "  <thead>\n",
       "    <tr style=\"text-align: right;\">\n",
       "      <th></th>\n",
       "      <th>mean</th>\n",
       "      <th>std</th>\n",
       "    </tr>\n",
       "    <tr>\n",
       "      <th>lang_profile</th>\n",
       "      <th></th>\n",
       "      <th></th>\n",
       "    </tr>\n",
       "  </thead>\n",
       "  <tbody>\n",
       "    <tr>\n",
       "      <th>l3_eng</th>\n",
       "      <td>16</td>\n",
       "      <td>4.636809</td>\n",
       "    </tr>\n",
       "  </tbody>\n",
       "</table>\n",
       "</div>"
      ],
      "text/plain": [
       "              mean       std\n",
       "lang_profile                \n",
       "l3_eng          16  4.636809"
      ]
     },
     "execution_count": 71,
     "metadata": {},
     "output_type": "execute_result"
    }
   ],
   "source": [
    "temp09 = l3[l3['Q4#1_2']!=\"20+\"].copy()\n",
    "temp09['Q4#1_2'] = temp09['Q4#1_2'].astype('int64')\n",
    "temp09.groupby('lang_profile')['Q4#1_2'].agg(['mean', 'std'])"
   ]
  },
  {
   "cell_type": "markdown",
   "id": "76ec6b15-169c-4353-92fd-6864853eb7cb",
   "metadata": {},
   "source": [
    "## Years in family that speaks a certain language"
   ]
  },
  {
   "cell_type": "code",
   "execution_count": 67,
   "id": "d9dfac10-fc32-48fe-9b51-1aa17b1fd230",
   "metadata": {},
   "outputs": [
    {
     "data": {
      "text/plain": [
       "lang_profile  Q5#1_1  Q5#1_2  Q5#1_3\n",
       "l1_eng        0       0       20+        8\n",
       "                      3       20+        1\n",
       "              1       0       20+        6\n",
       "                      1       20+        1\n",
       "                      2       20+        1\n",
       "              2       2       20+        3\n",
       "              20+     0       20+        2\n",
       "              3       0       20+        1\n",
       "              6       0       20+        1\n",
       "              7       0       20+        1\n",
       "l3_eng        0       20+     0          4\n",
       "                              2          1\n",
       "              19      0       0          1\n",
       "              2       20+     0          1\n",
       "              20+     0       0          3\n",
       "                      20+     0         12\n",
       "                              13         1\n",
       "                              5          1\n",
       "              8       20+     0          1\n",
       "Name: partID, dtype: int64"
      ]
     },
     "execution_count": 67,
     "metadata": {},
     "output_type": "execute_result"
    }
   ],
   "source": [
    "df.groupby(['lang_profile','Q5#1_1', 'Q5#1_2', 'Q5#1_3']).partID.count()"
   ]
  },
  {
   "cell_type": "markdown",
   "id": "e4347560-6cc8-4a62-a90f-4aeb9a390bd9",
   "metadata": {},
   "source": [
    "For L1 English trilinguals, years spent in a family that speaks Spanish (excluding two participants that said 20+):"
   ]
  },
  {
   "cell_type": "code",
   "execution_count": 72,
   "id": "56c601fd-4814-456f-9f74-2ae528a4d778",
   "metadata": {},
   "outputs": [
    {
     "data": {
      "text/html": [
       "<div>\n",
       "<style scoped>\n",
       "    .dataframe tbody tr th:only-of-type {\n",
       "        vertical-align: middle;\n",
       "    }\n",
       "\n",
       "    .dataframe tbody tr th {\n",
       "        vertical-align: top;\n",
       "    }\n",
       "\n",
       "    .dataframe thead th {\n",
       "        text-align: right;\n",
       "    }\n",
       "</style>\n",
       "<table border=\"1\" class=\"dataframe\">\n",
       "  <thead>\n",
       "    <tr style=\"text-align: right;\">\n",
       "      <th></th>\n",
       "      <th>mean</th>\n",
       "      <th>std</th>\n",
       "    </tr>\n",
       "    <tr>\n",
       "      <th>lang_profile</th>\n",
       "      <th></th>\n",
       "      <th></th>\n",
       "    </tr>\n",
       "  </thead>\n",
       "  <tbody>\n",
       "    <tr>\n",
       "      <th>l1_eng</th>\n",
       "      <td>1.304348</td>\n",
       "      <td>1.844766</td>\n",
       "    </tr>\n",
       "  </tbody>\n",
       "</table>\n",
       "</div>"
      ],
      "text/plain": [
       "                  mean       std\n",
       "lang_profile                    \n",
       "l1_eng        1.304348  1.844766"
      ]
     },
     "execution_count": 72,
     "metadata": {},
     "output_type": "execute_result"
    }
   ],
   "source": [
    "temp8 = l1[l1['Q5#1_1']!=\"20+\"].copy()\n",
    "temp8['Q5#1_1'] = temp8['Q5#1_1'].astype('int64')\n",
    "temp8.groupby('lang_profile')['Q5#1_1'].agg(['mean', 'std'])"
   ]
  },
  {
   "cell_type": "markdown",
   "id": "28edd4b2-c7e2-4296-aea0-4c717c98d3fa",
   "metadata": {},
   "source": [
    "For L1 English trilinguals, years spent in a family that speaks Catalan:"
   ]
  },
  {
   "cell_type": "code",
   "execution_count": 73,
   "id": "38ca2152-ac9d-4b56-9728-2fa333f28d6c",
   "metadata": {},
   "outputs": [
    {
     "data": {
      "text/html": [
       "<div>\n",
       "<style scoped>\n",
       "    .dataframe tbody tr th:only-of-type {\n",
       "        vertical-align: middle;\n",
       "    }\n",
       "\n",
       "    .dataframe tbody tr th {\n",
       "        vertical-align: top;\n",
       "    }\n",
       "\n",
       "    .dataframe thead th {\n",
       "        text-align: right;\n",
       "    }\n",
       "</style>\n",
       "<table border=\"1\" class=\"dataframe\">\n",
       "  <thead>\n",
       "    <tr style=\"text-align: right;\">\n",
       "      <th></th>\n",
       "      <th>mean</th>\n",
       "      <th>std</th>\n",
       "    </tr>\n",
       "    <tr>\n",
       "      <th>lang_profile</th>\n",
       "      <th></th>\n",
       "      <th></th>\n",
       "    </tr>\n",
       "  </thead>\n",
       "  <tbody>\n",
       "    <tr>\n",
       "      <th>l1_eng</th>\n",
       "      <td>0.48</td>\n",
       "      <td>0.918332</td>\n",
       "    </tr>\n",
       "  </tbody>\n",
       "</table>\n",
       "</div>"
      ],
      "text/plain": [
       "              mean       std\n",
       "lang_profile                \n",
       "l1_eng        0.48  0.918332"
      ]
     },
     "execution_count": 73,
     "metadata": {},
     "output_type": "execute_result"
    }
   ],
   "source": [
    "l1['Q5#1_2'] = l1['Q5#1_2'].astype('int64')\n",
    "l1.groupby('lang_profile')['Q5#1_2'].agg(['mean', 'std'])"
   ]
  },
  {
   "cell_type": "markdown",
   "id": "770e0ed2-f86e-4ca5-914a-29f321d7445b",
   "metadata": {},
   "source": [
    "For L3 English trilinguals, years spent in a family that speaks English:"
   ]
  },
  {
   "cell_type": "code",
   "execution_count": 74,
   "id": "40ea16fd-9fab-4ac1-8c80-d2e43a9b7cb3",
   "metadata": {},
   "outputs": [
    {
     "data": {
      "text/html": [
       "<div>\n",
       "<style scoped>\n",
       "    .dataframe tbody tr th:only-of-type {\n",
       "        vertical-align: middle;\n",
       "    }\n",
       "\n",
       "    .dataframe tbody tr th {\n",
       "        vertical-align: top;\n",
       "    }\n",
       "\n",
       "    .dataframe thead th {\n",
       "        text-align: right;\n",
       "    }\n",
       "</style>\n",
       "<table border=\"1\" class=\"dataframe\">\n",
       "  <thead>\n",
       "    <tr style=\"text-align: right;\">\n",
       "      <th></th>\n",
       "      <th>mean</th>\n",
       "      <th>std</th>\n",
       "    </tr>\n",
       "    <tr>\n",
       "      <th>lang_profile</th>\n",
       "      <th></th>\n",
       "      <th></th>\n",
       "    </tr>\n",
       "  </thead>\n",
       "  <tbody>\n",
       "    <tr>\n",
       "      <th>l3_eng</th>\n",
       "      <td>0.8</td>\n",
       "      <td>2.753785</td>\n",
       "    </tr>\n",
       "  </tbody>\n",
       "</table>\n",
       "</div>"
      ],
      "text/plain": [
       "              mean       std\n",
       "lang_profile                \n",
       "l3_eng         0.8  2.753785"
      ]
     },
     "execution_count": 74,
     "metadata": {},
     "output_type": "execute_result"
    }
   ],
   "source": [
    "l3['Q5#1_3'] = l3['Q5#1_3'].astype('int64')\n",
    "l3.groupby('lang_profile')['Q5#1_3'].agg(['mean', 'std'])"
   ]
  },
  {
   "cell_type": "markdown",
   "id": "280bc1b0-e51d-4c94-8f6e-d001a8308df4",
   "metadata": {},
   "source": [
    "For L3 English trilinguals, years spent in a family that speaks Spanish (minus 17):"
   ]
  },
  {
   "cell_type": "code",
   "execution_count": 75,
   "id": "f62eb41c-dd2a-4c27-ae31-fc4fe1e8f207",
   "metadata": {},
   "outputs": [
    {
     "data": {
      "text/html": [
       "<div>\n",
       "<style scoped>\n",
       "    .dataframe tbody tr th:only-of-type {\n",
       "        vertical-align: middle;\n",
       "    }\n",
       "\n",
       "    .dataframe tbody tr th {\n",
       "        vertical-align: top;\n",
       "    }\n",
       "\n",
       "    .dataframe thead th {\n",
       "        text-align: right;\n",
       "    }\n",
       "</style>\n",
       "<table border=\"1\" class=\"dataframe\">\n",
       "  <thead>\n",
       "    <tr style=\"text-align: right;\">\n",
       "      <th></th>\n",
       "      <th>mean</th>\n",
       "      <th>std</th>\n",
       "    </tr>\n",
       "    <tr>\n",
       "      <th>lang_profile</th>\n",
       "      <th></th>\n",
       "      <th></th>\n",
       "    </tr>\n",
       "  </thead>\n",
       "  <tbody>\n",
       "    <tr>\n",
       "      <th>l3_eng</th>\n",
       "      <td>3.625</td>\n",
       "      <td>6.802048</td>\n",
       "    </tr>\n",
       "  </tbody>\n",
       "</table>\n",
       "</div>"
      ],
      "text/plain": [
       "               mean       std\n",
       "lang_profile                 \n",
       "l3_eng        3.625  6.802048"
      ]
     },
     "execution_count": 75,
     "metadata": {},
     "output_type": "execute_result"
    }
   ],
   "source": [
    "temp02 = l3[l3['Q5#1_1']!=\"20+\"].copy()\n",
    "temp02['Q5#1_1'] = temp02['Q5#1_1'].astype('int64')\n",
    "temp02.groupby('lang_profile')['Q5#1_1'].agg(['mean', 'std'])"
   ]
  },
  {
   "cell_type": "markdown",
   "id": "f28e05df-ab72-4278-9435-41cb8b3826b7",
   "metadata": {},
   "source": [
    "For L3 English trilinguals, years spent in a family that speaks Catalan (minus 21):"
   ]
  },
  {
   "cell_type": "code",
   "execution_count": 76,
   "id": "340deb4b-9a13-415a-acad-d012af0b31e1",
   "metadata": {},
   "outputs": [
    {
     "data": {
      "text/html": [
       "<div>\n",
       "<style scoped>\n",
       "    .dataframe tbody tr th:only-of-type {\n",
       "        vertical-align: middle;\n",
       "    }\n",
       "\n",
       "    .dataframe tbody tr th {\n",
       "        vertical-align: top;\n",
       "    }\n",
       "\n",
       "    .dataframe thead th {\n",
       "        text-align: right;\n",
       "    }\n",
       "</style>\n",
       "<table border=\"1\" class=\"dataframe\">\n",
       "  <thead>\n",
       "    <tr style=\"text-align: right;\">\n",
       "      <th></th>\n",
       "      <th>mean</th>\n",
       "      <th>std</th>\n",
       "    </tr>\n",
       "    <tr>\n",
       "      <th>lang_profile</th>\n",
       "      <th></th>\n",
       "      <th></th>\n",
       "    </tr>\n",
       "  </thead>\n",
       "  <tbody>\n",
       "    <tr>\n",
       "      <th>l3_eng</th>\n",
       "      <td>0</td>\n",
       "      <td>0.0</td>\n",
       "    </tr>\n",
       "  </tbody>\n",
       "</table>\n",
       "</div>"
      ],
      "text/plain": [
       "              mean  std\n",
       "lang_profile           \n",
       "l3_eng           0  0.0"
      ]
     },
     "execution_count": 76,
     "metadata": {},
     "output_type": "execute_result"
    }
   ],
   "source": [
    "temp03 = l3[l3['Q5#1_2']!=\"20+\"].copy()\n",
    "temp03['Q5#1_2'] = temp03['Q5#1_2'].astype('int64')\n",
    "temp03.groupby('lang_profile')['Q5#1_2'].agg(['mean', 'std'])"
   ]
  },
  {
   "cell_type": "markdown",
   "id": "8d7465b0-57b1-4398-9881-90822be36d1e",
   "metadata": {},
   "source": [
    "## Years spent in a work environment where a certain language was spoken"
   ]
  },
  {
   "cell_type": "code",
   "execution_count": 77,
   "id": "d5490e22-c99c-4afb-8516-c504c041a781",
   "metadata": {},
   "outputs": [
    {
     "data": {
      "text/plain": [
       "lang_profile  Q6#1_1  Q6#1_2  Q6#1_3\n",
       "l1_eng        0       0       20+       3\n",
       "                              3         1\n",
       "                              4         1\n",
       "              1       0       4         1\n",
       "                              6         1\n",
       "                      1       12        1\n",
       "                              2         1\n",
       "              11      1       20+       1\n",
       "              12      3       15        1\n",
       "              2       0       20+       1\n",
       "              3       0       13        1\n",
       "                              5         1\n",
       "                      1       20+       1\n",
       "                      2       7         1\n",
       "                              8         1\n",
       "              4       1       6         1\n",
       "                      2       20+       1\n",
       "                              4         1\n",
       "                      4       20+       1\n",
       "                              3         1\n",
       "              6       5       14        1\n",
       "              7       0       12        1\n",
       "              8       3       15        1\n",
       "l3_eng        0       0       0         2\n",
       "                              6         1\n",
       "              1       1       1         2\n",
       "                              5         1\n",
       "              10      10      5         1\n",
       "              15      15      5         1\n",
       "              16      16      2         1\n",
       "              2       2       1         1\n",
       "                      7       1         1\n",
       "              20+     20+     0         1\n",
       "                              1         2\n",
       "                              12        1\n",
       "                              3         1\n",
       "              3       1       3         1\n",
       "                      3       3         1\n",
       "              4       19      3         1\n",
       "                      4       1         1\n",
       "              5       17      0         1\n",
       "                      2       5         1\n",
       "                      5       4         1\n",
       "                              5         1\n",
       "              7       7       0         1\n",
       "Name: partID, dtype: int64"
      ]
     },
     "execution_count": 77,
     "metadata": {},
     "output_type": "execute_result"
    }
   ],
   "source": [
    "df.groupby(['lang_profile','Q6#1_1', 'Q6#1_2', 'Q6#1_3']).partID.count()"
   ]
  },
  {
   "cell_type": "markdown",
   "id": "329c48aa-cb88-4311-b883-6c69928a29f8",
   "metadata": {},
   "source": [
    "For L1 English, years spent in work environment where Spanish was spoken:"
   ]
  },
  {
   "cell_type": "code",
   "execution_count": 78,
   "id": "16131b6a-f3ea-4655-bd89-24019ef1d133",
   "metadata": {},
   "outputs": [
    {
     "data": {
      "text/html": [
       "<div>\n",
       "<style scoped>\n",
       "    .dataframe tbody tr th:only-of-type {\n",
       "        vertical-align: middle;\n",
       "    }\n",
       "\n",
       "    .dataframe tbody tr th {\n",
       "        vertical-align: top;\n",
       "    }\n",
       "\n",
       "    .dataframe thead th {\n",
       "        text-align: right;\n",
       "    }\n",
       "</style>\n",
       "<table border=\"1\" class=\"dataframe\">\n",
       "  <thead>\n",
       "    <tr style=\"text-align: right;\">\n",
       "      <th></th>\n",
       "      <th>mean</th>\n",
       "      <th>std</th>\n",
       "    </tr>\n",
       "    <tr>\n",
       "      <th>lang_profile</th>\n",
       "      <th></th>\n",
       "      <th></th>\n",
       "    </tr>\n",
       "  </thead>\n",
       "  <tbody>\n",
       "    <tr>\n",
       "      <th>l1_eng</th>\n",
       "      <td>3.4</td>\n",
       "      <td>3.278719</td>\n",
       "    </tr>\n",
       "  </tbody>\n",
       "</table>\n",
       "</div>"
      ],
      "text/plain": [
       "              mean       std\n",
       "lang_profile                \n",
       "l1_eng         3.4  3.278719"
      ]
     },
     "execution_count": 78,
     "metadata": {},
     "output_type": "execute_result"
    }
   ],
   "source": [
    "l1['Q6#1_1'] = l1['Q6#1_1'].astype('int64')\n",
    "l1['Q6#1_2'] = l1['Q6#1_2'].astype('int64')\n",
    "l1.groupby('lang_profile')['Q6#1_1'].agg(['mean', 'std'])"
   ]
  },
  {
   "cell_type": "markdown",
   "id": "6759ee26-343b-4893-b3e9-a1f65bac00f6",
   "metadata": {},
   "source": [
    "For L1 English trilinguals, years spent in work environment where Catalan was spoken:"
   ]
  },
  {
   "cell_type": "code",
   "execution_count": 79,
   "id": "d1718370-5a4b-4962-bf8a-518e1baf8e78",
   "metadata": {},
   "outputs": [
    {
     "data": {
      "text/html": [
       "<div>\n",
       "<style scoped>\n",
       "    .dataframe tbody tr th:only-of-type {\n",
       "        vertical-align: middle;\n",
       "    }\n",
       "\n",
       "    .dataframe tbody tr th {\n",
       "        vertical-align: top;\n",
       "    }\n",
       "\n",
       "    .dataframe thead th {\n",
       "        text-align: right;\n",
       "    }\n",
       "</style>\n",
       "<table border=\"1\" class=\"dataframe\">\n",
       "  <thead>\n",
       "    <tr style=\"text-align: right;\">\n",
       "      <th></th>\n",
       "      <th>mean</th>\n",
       "      <th>std</th>\n",
       "    </tr>\n",
       "    <tr>\n",
       "      <th>lang_profile</th>\n",
       "      <th></th>\n",
       "      <th></th>\n",
       "    </tr>\n",
       "  </thead>\n",
       "  <tbody>\n",
       "    <tr>\n",
       "      <th>l1_eng</th>\n",
       "      <td>1.28</td>\n",
       "      <td>1.514376</td>\n",
       "    </tr>\n",
       "  </tbody>\n",
       "</table>\n",
       "</div>"
      ],
      "text/plain": [
       "              mean       std\n",
       "lang_profile                \n",
       "l1_eng        1.28  1.514376"
      ]
     },
     "execution_count": 79,
     "metadata": {},
     "output_type": "execute_result"
    }
   ],
   "source": [
    "l1.groupby('lang_profile')['Q6#1_2'].agg(['mean', 'std'])"
   ]
  },
  {
   "cell_type": "markdown",
   "id": "236b0116-b9a2-4c1b-85a1-fbb107f25bfa",
   "metadata": {},
   "source": [
    "For L1 English trilinguals, years spent in work environment where English was spoken:"
   ]
  },
  {
   "cell_type": "code",
   "execution_count": 80,
   "id": "e5c2b4ee-2a75-4d16-9e03-25d001b2e948",
   "metadata": {},
   "outputs": [
    {
     "data": {
      "text/html": [
       "<div>\n",
       "<style scoped>\n",
       "    .dataframe tbody tr th:only-of-type {\n",
       "        vertical-align: middle;\n",
       "    }\n",
       "\n",
       "    .dataframe tbody tr th {\n",
       "        vertical-align: top;\n",
       "    }\n",
       "\n",
       "    .dataframe thead th {\n",
       "        text-align: right;\n",
       "    }\n",
       "</style>\n",
       "<table border=\"1\" class=\"dataframe\">\n",
       "  <thead>\n",
       "    <tr style=\"text-align: right;\">\n",
       "      <th></th>\n",
       "      <th>mean</th>\n",
       "      <th>std</th>\n",
       "    </tr>\n",
       "    <tr>\n",
       "      <th>lang_profile</th>\n",
       "      <th></th>\n",
       "      <th></th>\n",
       "    </tr>\n",
       "  </thead>\n",
       "  <tbody>\n",
       "    <tr>\n",
       "      <th>l1_eng</th>\n",
       "      <td>7.823529</td>\n",
       "      <td>4.62649</td>\n",
       "    </tr>\n",
       "  </tbody>\n",
       "</table>\n",
       "</div>"
      ],
      "text/plain": [
       "                  mean      std\n",
       "lang_profile                   \n",
       "l1_eng        7.823529  4.62649"
      ]
     },
     "execution_count": 80,
     "metadata": {},
     "output_type": "execute_result"
    }
   ],
   "source": [
    "temp04 = l1[l1['Q6#1_3']!=\"20+\"].copy()\n",
    "temp04['Q6#1_3'] = temp04['Q6#1_3'].astype('int64')\n",
    "temp04.groupby('lang_profile')['Q6#1_3'].agg(['mean', 'std'])"
   ]
  },
  {
   "cell_type": "markdown",
   "id": "3231d754-5332-4cb6-95de-4d01af47dd0c",
   "metadata": {},
   "source": [
    "For L3 English trilinguals, years spent in work environment where English was spoken:"
   ]
  },
  {
   "cell_type": "code",
   "execution_count": 81,
   "id": "8d7fc8b5-e66c-402c-8127-e8e4c1cf7ed2",
   "metadata": {},
   "outputs": [
    {
     "data": {
      "text/html": [
       "<div>\n",
       "<style scoped>\n",
       "    .dataframe tbody tr th:only-of-type {\n",
       "        vertical-align: middle;\n",
       "    }\n",
       "\n",
       "    .dataframe tbody tr th {\n",
       "        vertical-align: top;\n",
       "    }\n",
       "\n",
       "    .dataframe thead th {\n",
       "        text-align: right;\n",
       "    }\n",
       "</style>\n",
       "<table border=\"1\" class=\"dataframe\">\n",
       "  <thead>\n",
       "    <tr style=\"text-align: right;\">\n",
       "      <th></th>\n",
       "      <th>mean</th>\n",
       "      <th>std</th>\n",
       "    </tr>\n",
       "    <tr>\n",
       "      <th>lang_profile</th>\n",
       "      <th></th>\n",
       "      <th></th>\n",
       "    </tr>\n",
       "  </thead>\n",
       "  <tbody>\n",
       "    <tr>\n",
       "      <th>l3_eng</th>\n",
       "      <td>2.72</td>\n",
       "      <td>2.761642</td>\n",
       "    </tr>\n",
       "  </tbody>\n",
       "</table>\n",
       "</div>"
      ],
      "text/plain": [
       "              mean       std\n",
       "lang_profile                \n",
       "l3_eng        2.72  2.761642"
      ]
     },
     "execution_count": 81,
     "metadata": {},
     "output_type": "execute_result"
    }
   ],
   "source": [
    "l3['Q6#1_3'] = l3['Q6#1_3'].astype('int64')\n",
    "l3.groupby('lang_profile')['Q6#1_3'].agg(['mean', 'std'])"
   ]
  },
  {
   "cell_type": "markdown",
   "id": "19309ab5-7d06-4b70-915b-28c1a457e10b",
   "metadata": {},
   "source": [
    "For L3 English trilinguals, years with Spanish:"
   ]
  },
  {
   "cell_type": "code",
   "execution_count": 82,
   "id": "94fb6822-9fff-4405-b383-91f13d7fde3e",
   "metadata": {},
   "outputs": [
    {
     "data": {
      "text/html": [
       "<div>\n",
       "<style scoped>\n",
       "    .dataframe tbody tr th:only-of-type {\n",
       "        vertical-align: middle;\n",
       "    }\n",
       "\n",
       "    .dataframe tbody tr th {\n",
       "        vertical-align: top;\n",
       "    }\n",
       "\n",
       "    .dataframe thead th {\n",
       "        text-align: right;\n",
       "    }\n",
       "</style>\n",
       "<table border=\"1\" class=\"dataframe\">\n",
       "  <thead>\n",
       "    <tr style=\"text-align: right;\">\n",
       "      <th></th>\n",
       "      <th>mean</th>\n",
       "      <th>std</th>\n",
       "    </tr>\n",
       "    <tr>\n",
       "      <th>lang_profile</th>\n",
       "      <th></th>\n",
       "      <th></th>\n",
       "    </tr>\n",
       "  </thead>\n",
       "  <tbody>\n",
       "    <tr>\n",
       "      <th>l3_eng</th>\n",
       "      <td>4.45</td>\n",
       "      <td>4.559259</td>\n",
       "    </tr>\n",
       "  </tbody>\n",
       "</table>\n",
       "</div>"
      ],
      "text/plain": [
       "              mean       std\n",
       "lang_profile                \n",
       "l3_eng        4.45  4.559259"
      ]
     },
     "execution_count": 82,
     "metadata": {},
     "output_type": "execute_result"
    }
   ],
   "source": [
    "temp05 = l3[l3['Q6#1_1']!=\"20+\"].copy()\n",
    "temp05['Q6#1_1'] = temp05['Q6#1_1'].astype('int64')\n",
    "temp05.groupby('lang_profile')['Q6#1_1'].agg(['mean', 'std'])"
   ]
  },
  {
   "cell_type": "markdown",
   "id": "7257203b-c56a-4434-a97b-1e9f4c64aef5",
   "metadata": {},
   "source": [
    "For L3 English trilinguals, years with Catalan:"
   ]
  },
  {
   "cell_type": "code",
   "execution_count": 83,
   "id": "7c77ae07-8ade-4695-9e14-7394bb3d7376",
   "metadata": {},
   "outputs": [
    {
     "data": {
      "text/html": [
       "<div>\n",
       "<style scoped>\n",
       "    .dataframe tbody tr th:only-of-type {\n",
       "        vertical-align: middle;\n",
       "    }\n",
       "\n",
       "    .dataframe tbody tr th {\n",
       "        vertical-align: top;\n",
       "    }\n",
       "\n",
       "    .dataframe thead th {\n",
       "        text-align: right;\n",
       "    }\n",
       "</style>\n",
       "<table border=\"1\" class=\"dataframe\">\n",
       "  <thead>\n",
       "    <tr style=\"text-align: right;\">\n",
       "      <th></th>\n",
       "      <th>mean</th>\n",
       "      <th>std</th>\n",
       "    </tr>\n",
       "    <tr>\n",
       "      <th>lang_profile</th>\n",
       "      <th></th>\n",
       "      <th></th>\n",
       "    </tr>\n",
       "  </thead>\n",
       "  <tbody>\n",
       "    <tr>\n",
       "      <th>l1_eng</th>\n",
       "      <td>1.28</td>\n",
       "      <td>1.514376</td>\n",
       "    </tr>\n",
       "  </tbody>\n",
       "</table>\n",
       "</div>"
      ],
      "text/plain": [
       "              mean       std\n",
       "lang_profile                \n",
       "l1_eng        1.28  1.514376"
      ]
     },
     "execution_count": 83,
     "metadata": {},
     "output_type": "execute_result"
    }
   ],
   "source": [
    "temp06 = l1[l1['Q6#1_2']!=\"20+\"].copy()\n",
    "temp06['Q6#1_2'] = temp06['Q6#1_2'].astype('int64')\n",
    "temp06.groupby('lang_profile')['Q6#1_2'].agg(['mean', 'std'])"
   ]
  },
  {
   "cell_type": "markdown",
   "id": "7369f5fb-8d98-48b6-89d6-af6f3fc3aa34",
   "metadata": {},
   "source": [
    "## Percentage use of languages with friends"
   ]
  },
  {
   "cell_type": "code",
   "execution_count": 84,
   "id": "88250c58-434d-429b-bce1-533f98b43eb2",
   "metadata": {},
   "outputs": [
    {
     "data": {
      "text/html": [
       "<div>\n",
       "<style scoped>\n",
       "    .dataframe tbody tr th:only-of-type {\n",
       "        vertical-align: middle;\n",
       "    }\n",
       "\n",
       "    .dataframe tbody tr th {\n",
       "        vertical-align: top;\n",
       "    }\n",
       "\n",
       "    .dataframe thead tr th {\n",
       "        text-align: left;\n",
       "    }\n",
       "\n",
       "    .dataframe thead tr:last-of-type th {\n",
       "        text-align: right;\n",
       "    }\n",
       "</style>\n",
       "<table border=\"1\" class=\"dataframe\">\n",
       "  <thead>\n",
       "    <tr>\n",
       "      <th></th>\n",
       "      <th colspan=\"2\" halign=\"left\">Q7#1_1</th>\n",
       "      <th colspan=\"2\" halign=\"left\">Q7#1_2</th>\n",
       "      <th colspan=\"2\" halign=\"left\">Q7#1_3</th>\n",
       "    </tr>\n",
       "    <tr>\n",
       "      <th></th>\n",
       "      <th>mean</th>\n",
       "      <th>std</th>\n",
       "      <th>mean</th>\n",
       "      <th>std</th>\n",
       "      <th>mean</th>\n",
       "      <th>std</th>\n",
       "    </tr>\n",
       "    <tr>\n",
       "      <th>lang_profile</th>\n",
       "      <th></th>\n",
       "      <th></th>\n",
       "      <th></th>\n",
       "      <th></th>\n",
       "      <th></th>\n",
       "      <th></th>\n",
       "    </tr>\n",
       "  </thead>\n",
       "  <tbody>\n",
       "    <tr>\n",
       "      <th>l1_eng</th>\n",
       "      <td>23.2</td>\n",
       "      <td>18.193405</td>\n",
       "      <td>14.0</td>\n",
       "      <td>15.545632</td>\n",
       "      <td>57.6</td>\n",
       "      <td>27.730849</td>\n",
       "    </tr>\n",
       "    <tr>\n",
       "      <th>l3_eng</th>\n",
       "      <td>31.6</td>\n",
       "      <td>24.440404</td>\n",
       "      <td>37.6</td>\n",
       "      <td>32.695565</td>\n",
       "      <td>31.6</td>\n",
       "      <td>28.089144</td>\n",
       "    </tr>\n",
       "  </tbody>\n",
       "</table>\n",
       "</div>"
      ],
      "text/plain": [
       "             Q7#1_1            Q7#1_2            Q7#1_3           \n",
       "               mean        std   mean        std   mean        std\n",
       "lang_profile                                                      \n",
       "l1_eng         23.2  18.193405   14.0  15.545632   57.6  27.730849\n",
       "l3_eng         31.6  24.440404   37.6  32.695565   31.6  28.089144"
      ]
     },
     "execution_count": 84,
     "metadata": {},
     "output_type": "execute_result"
    }
   ],
   "source": [
    "df['Q7#1_1'] = df['Q7#1_1'].astype('int64')\n",
    "df['Q7#1_2'] = df['Q7#1_2'].astype('int64')\n",
    "df['Q7#1_3'] = df['Q7#1_3'].astype('int64')\n",
    "df['Q8#1_1'] = df['Q8#1_1'].astype('int64')\n",
    "df['Q8#1_2'] = df['Q8#1_2'].astype('int64')\n",
    "df['Q8#1_3'] = df['Q8#1_3'].astype('int64')\n",
    "df['Q9#1_1'] = df['Q9#1_1'].astype('int64')\n",
    "df['Q9#1_2'] = df['Q9#1_2'].astype('int64')\n",
    "df['Q9#1_3'] = df['Q9#1_3'].astype('int64')\n",
    "df.groupby('lang_profile')[['Q7#1_1', 'Q7#1_2', 'Q7#1_3']].agg(['mean', 'std'])"
   ]
  },
  {
   "cell_type": "markdown",
   "id": "fd76a5b0-febd-41a0-abef-105ce327130b",
   "metadata": {},
   "source": [
    "## Percentage of language use with family"
   ]
  },
  {
   "cell_type": "code",
   "execution_count": 85,
   "id": "5bc95e1a-cca1-40b4-8416-1a965c6a2edb",
   "metadata": {},
   "outputs": [
    {
     "data": {
      "text/html": [
       "<div>\n",
       "<style scoped>\n",
       "    .dataframe tbody tr th:only-of-type {\n",
       "        vertical-align: middle;\n",
       "    }\n",
       "\n",
       "    .dataframe tbody tr th {\n",
       "        vertical-align: top;\n",
       "    }\n",
       "\n",
       "    .dataframe thead tr th {\n",
       "        text-align: left;\n",
       "    }\n",
       "\n",
       "    .dataframe thead tr:last-of-type th {\n",
       "        text-align: right;\n",
       "    }\n",
       "</style>\n",
       "<table border=\"1\" class=\"dataframe\">\n",
       "  <thead>\n",
       "    <tr>\n",
       "      <th></th>\n",
       "      <th colspan=\"2\" halign=\"left\">Q8#1_1</th>\n",
       "      <th colspan=\"2\" halign=\"left\">Q8#1_2</th>\n",
       "      <th colspan=\"2\" halign=\"left\">Q8#1_3</th>\n",
       "    </tr>\n",
       "    <tr>\n",
       "      <th></th>\n",
       "      <th>mean</th>\n",
       "      <th>std</th>\n",
       "      <th>mean</th>\n",
       "      <th>std</th>\n",
       "      <th>mean</th>\n",
       "      <th>std</th>\n",
       "    </tr>\n",
       "    <tr>\n",
       "      <th>lang_profile</th>\n",
       "      <th></th>\n",
       "      <th></th>\n",
       "      <th></th>\n",
       "      <th></th>\n",
       "      <th></th>\n",
       "      <th></th>\n",
       "    </tr>\n",
       "  </thead>\n",
       "  <tbody>\n",
       "    <tr>\n",
       "      <th>l1_eng</th>\n",
       "      <td>8</td>\n",
       "      <td>16.329932</td>\n",
       "      <td>3.2</td>\n",
       "      <td>8.524475</td>\n",
       "      <td>85.2</td>\n",
       "      <td>26.789301</td>\n",
       "    </tr>\n",
       "    <tr>\n",
       "      <th>l3_eng</th>\n",
       "      <td>40</td>\n",
       "      <td>44.064347</td>\n",
       "      <td>58.4</td>\n",
       "      <td>44.317040</td>\n",
       "      <td>6.0</td>\n",
       "      <td>17.078251</td>\n",
       "    </tr>\n",
       "  </tbody>\n",
       "</table>\n",
       "</div>"
      ],
      "text/plain": [
       "             Q8#1_1            Q8#1_2            Q8#1_3           \n",
       "               mean        std   mean        std   mean        std\n",
       "lang_profile                                                      \n",
       "l1_eng            8  16.329932    3.2   8.524475   85.2  26.789301\n",
       "l3_eng           40  44.064347   58.4  44.317040    6.0  17.078251"
      ]
     },
     "execution_count": 85,
     "metadata": {},
     "output_type": "execute_result"
    }
   ],
   "source": [
    "df.groupby('lang_profile')[['Q8#1_1', 'Q8#1_2', 'Q8#1_3']].agg(['mean', 'std'])"
   ]
  },
  {
   "cell_type": "markdown",
   "id": "7bac7ff6-5a99-4bf7-95bc-17d13a60ead7",
   "metadata": {},
   "source": [
    "## Percentage of language use at school/work"
   ]
  },
  {
   "cell_type": "code",
   "execution_count": 86,
   "id": "ed7773b6-6854-45e1-8479-b0d8f8bf600b",
   "metadata": {},
   "outputs": [
    {
     "data": {
      "text/html": [
       "<div>\n",
       "<style scoped>\n",
       "    .dataframe tbody tr th:only-of-type {\n",
       "        vertical-align: middle;\n",
       "    }\n",
       "\n",
       "    .dataframe tbody tr th {\n",
       "        vertical-align: top;\n",
       "    }\n",
       "\n",
       "    .dataframe thead tr th {\n",
       "        text-align: left;\n",
       "    }\n",
       "\n",
       "    .dataframe thead tr:last-of-type th {\n",
       "        text-align: right;\n",
       "    }\n",
       "</style>\n",
       "<table border=\"1\" class=\"dataframe\">\n",
       "  <thead>\n",
       "    <tr>\n",
       "      <th></th>\n",
       "      <th colspan=\"2\" halign=\"left\">Q9#1_1</th>\n",
       "      <th colspan=\"2\" halign=\"left\">Q9#1_2</th>\n",
       "      <th colspan=\"2\" halign=\"left\">Q9#1_3</th>\n",
       "    </tr>\n",
       "    <tr>\n",
       "      <th></th>\n",
       "      <th>mean</th>\n",
       "      <th>std</th>\n",
       "      <th>mean</th>\n",
       "      <th>std</th>\n",
       "      <th>mean</th>\n",
       "      <th>std</th>\n",
       "    </tr>\n",
       "    <tr>\n",
       "      <th>lang_profile</th>\n",
       "      <th></th>\n",
       "      <th></th>\n",
       "      <th></th>\n",
       "      <th></th>\n",
       "      <th></th>\n",
       "      <th></th>\n",
       "    </tr>\n",
       "  </thead>\n",
       "  <tbody>\n",
       "    <tr>\n",
       "      <th>l1_eng</th>\n",
       "      <td>22</td>\n",
       "      <td>25.331140</td>\n",
       "      <td>11.6</td>\n",
       "      <td>13.747727</td>\n",
       "      <td>54.0</td>\n",
       "      <td>31.224990</td>\n",
       "    </tr>\n",
       "    <tr>\n",
       "      <th>l3_eng</th>\n",
       "      <td>24</td>\n",
       "      <td>27.080128</td>\n",
       "      <td>26.4</td>\n",
       "      <td>32.388269</td>\n",
       "      <td>50.8</td>\n",
       "      <td>38.179401</td>\n",
       "    </tr>\n",
       "  </tbody>\n",
       "</table>\n",
       "</div>"
      ],
      "text/plain": [
       "             Q9#1_1            Q9#1_2            Q9#1_3           \n",
       "               mean        std   mean        std   mean        std\n",
       "lang_profile                                                      \n",
       "l1_eng           22  25.331140   11.6  13.747727   54.0  31.224990\n",
       "l3_eng           24  27.080128   26.4  32.388269   50.8  38.179401"
      ]
     },
     "execution_count": 86,
     "metadata": {},
     "output_type": "execute_result"
    }
   ],
   "source": [
    "df.groupby('lang_profile')[['Q9#1_1', 'Q9#1_2', 'Q9#1_3']].agg(['mean', 'std'])"
   ]
  },
  {
   "cell_type": "markdown",
   "id": "856cfc77-0866-4681-a257-b40bd0c12e6d",
   "metadata": {},
   "source": [
    "## Percentage you talk to yourself in each language"
   ]
  },
  {
   "cell_type": "code",
   "execution_count": 87,
   "id": "600fa274-6324-4869-b4de-f88fcdf807a5",
   "metadata": {},
   "outputs": [
    {
     "data": {
      "text/html": [
       "<div>\n",
       "<style scoped>\n",
       "    .dataframe tbody tr th:only-of-type {\n",
       "        vertical-align: middle;\n",
       "    }\n",
       "\n",
       "    .dataframe tbody tr th {\n",
       "        vertical-align: top;\n",
       "    }\n",
       "\n",
       "    .dataframe thead tr th {\n",
       "        text-align: left;\n",
       "    }\n",
       "\n",
       "    .dataframe thead tr:last-of-type th {\n",
       "        text-align: right;\n",
       "    }\n",
       "</style>\n",
       "<table border=\"1\" class=\"dataframe\">\n",
       "  <thead>\n",
       "    <tr>\n",
       "      <th></th>\n",
       "      <th colspan=\"2\" halign=\"left\">Q10#1_1</th>\n",
       "      <th colspan=\"2\" halign=\"left\">Q10#1_2</th>\n",
       "      <th colspan=\"2\" halign=\"left\">Q10#1_3</th>\n",
       "    </tr>\n",
       "    <tr>\n",
       "      <th></th>\n",
       "      <th>mean</th>\n",
       "      <th>std</th>\n",
       "      <th>mean</th>\n",
       "      <th>std</th>\n",
       "      <th>mean</th>\n",
       "      <th>std</th>\n",
       "    </tr>\n",
       "    <tr>\n",
       "      <th>lang_profile</th>\n",
       "      <th></th>\n",
       "      <th></th>\n",
       "      <th></th>\n",
       "      <th></th>\n",
       "      <th></th>\n",
       "      <th></th>\n",
       "    </tr>\n",
       "  </thead>\n",
       "  <tbody>\n",
       "    <tr>\n",
       "      <th>l1_eng</th>\n",
       "      <td>19.2</td>\n",
       "      <td>11.518102</td>\n",
       "      <td>11.2</td>\n",
       "      <td>10.92398</td>\n",
       "      <td>63.2</td>\n",
       "      <td>21.548395</td>\n",
       "    </tr>\n",
       "    <tr>\n",
       "      <th>l3_eng</th>\n",
       "      <td>28.4</td>\n",
       "      <td>29.676028</td>\n",
       "      <td>47.2</td>\n",
       "      <td>34.94281</td>\n",
       "      <td>24.8</td>\n",
       "      <td>23.650229</td>\n",
       "    </tr>\n",
       "  </tbody>\n",
       "</table>\n",
       "</div>"
      ],
      "text/plain": [
       "             Q10#1_1            Q10#1_2           Q10#1_3           \n",
       "                mean        std    mean       std    mean        std\n",
       "lang_profile                                                        \n",
       "l1_eng          19.2  11.518102    11.2  10.92398    63.2  21.548395\n",
       "l3_eng          28.4  29.676028    47.2  34.94281    24.8  23.650229"
      ]
     },
     "execution_count": 87,
     "metadata": {},
     "output_type": "execute_result"
    }
   ],
   "source": [
    "df['Q10#1_1'] = df['Q10#1_1'].astype('int64')\n",
    "df['Q10#1_2'] = df['Q10#1_2'].astype('int64')\n",
    "df['Q10#1_3'] = df['Q10#1_3'].astype('int64')\n",
    "df['Q11#1_1'] = df['Q11#1_1'].astype('int64')\n",
    "df['Q11#1_2'] = df['Q11#1_2'].astype('int64')\n",
    "df['Q11#1_3'] = df['Q11#1_3'].astype('int64')\n",
    "df.groupby('lang_profile')[['Q10#1_1', 'Q10#1_2', 'Q10#1_3']].agg(['mean', 'std'])"
   ]
  },
  {
   "cell_type": "markdown",
   "id": "35660cbe-9907-43c5-a722-5698b1cb2259",
   "metadata": {},
   "source": [
    "## Percentage you count in each language"
   ]
  },
  {
   "cell_type": "code",
   "execution_count": 88,
   "id": "f2551360-e939-4707-b6c8-4388522cfad8",
   "metadata": {},
   "outputs": [
    {
     "data": {
      "text/html": [
       "<div>\n",
       "<style scoped>\n",
       "    .dataframe tbody tr th:only-of-type {\n",
       "        vertical-align: middle;\n",
       "    }\n",
       "\n",
       "    .dataframe tbody tr th {\n",
       "        vertical-align: top;\n",
       "    }\n",
       "\n",
       "    .dataframe thead tr th {\n",
       "        text-align: left;\n",
       "    }\n",
       "\n",
       "    .dataframe thead tr:last-of-type th {\n",
       "        text-align: right;\n",
       "    }\n",
       "</style>\n",
       "<table border=\"1\" class=\"dataframe\">\n",
       "  <thead>\n",
       "    <tr>\n",
       "      <th></th>\n",
       "      <th colspan=\"2\" halign=\"left\">Q11#1_1</th>\n",
       "      <th colspan=\"2\" halign=\"left\">Q11#1_2</th>\n",
       "      <th colspan=\"2\" halign=\"left\">Q11#1_3</th>\n",
       "    </tr>\n",
       "    <tr>\n",
       "      <th></th>\n",
       "      <th>mean</th>\n",
       "      <th>std</th>\n",
       "      <th>mean</th>\n",
       "      <th>std</th>\n",
       "      <th>mean</th>\n",
       "      <th>std</th>\n",
       "    </tr>\n",
       "    <tr>\n",
       "      <th>lang_profile</th>\n",
       "      <th></th>\n",
       "      <th></th>\n",
       "      <th></th>\n",
       "      <th></th>\n",
       "      <th></th>\n",
       "      <th></th>\n",
       "    </tr>\n",
       "  </thead>\n",
       "  <tbody>\n",
       "    <tr>\n",
       "      <th>l1_eng</th>\n",
       "      <td>12.8</td>\n",
       "      <td>12.083046</td>\n",
       "      <td>6.4</td>\n",
       "      <td>9.949874</td>\n",
       "      <td>78.4</td>\n",
       "      <td>18.184242</td>\n",
       "    </tr>\n",
       "    <tr>\n",
       "      <th>l3_eng</th>\n",
       "      <td>29.2</td>\n",
       "      <td>33.655114</td>\n",
       "      <td>60.0</td>\n",
       "      <td>35.237291</td>\n",
       "      <td>10.0</td>\n",
       "      <td>15.275252</td>\n",
       "    </tr>\n",
       "  </tbody>\n",
       "</table>\n",
       "</div>"
      ],
      "text/plain": [
       "             Q11#1_1            Q11#1_2            Q11#1_3           \n",
       "                mean        std    mean        std    mean        std\n",
       "lang_profile                                                         \n",
       "l1_eng          12.8  12.083046     6.4   9.949874    78.4  18.184242\n",
       "l3_eng          29.2  33.655114    60.0  35.237291    10.0  15.275252"
      ]
     },
     "execution_count": 88,
     "metadata": {},
     "output_type": "execute_result"
    }
   ],
   "source": [
    "df.groupby('lang_profile')[['Q11#1_1', 'Q11#1_2', 'Q11#1_3']].agg(['mean', 'std'])"
   ]
  },
  {
   "cell_type": "markdown",
   "id": "2629c406-d568-4ab4-abd2-84ef05fe5950",
   "metadata": {},
   "source": [
    "## How well do you speak each language"
   ]
  },
  {
   "cell_type": "code",
   "execution_count": 89,
   "id": "6ebc8f35-b4fb-466e-a85b-eb72da1a901a",
   "metadata": {},
   "outputs": [],
   "source": [
    "# first cast to numeric\n",
    "df['Q12_1'] = df['Q12_1'].astype('int64')\n",
    "df['Q12_2'] = df['Q12_2'].astype('int64')\n",
    "df['Q12_3'] = df['Q12_3'].astype('int64')\n",
    "df['Q13_1'] = df['Q13_1'].astype('int64')\n",
    "df['Q13_2'] = df['Q13_2'].astype('int64')\n",
    "df['Q13_3'] = df['Q13_3'].astype('int64')\n",
    "df['Q14_1'] = df['Q14_1'].astype('int64')\n",
    "df['Q14_2'] = df['Q14_2'].astype('int64')\n",
    "df['Q14_3'] = df['Q14_3'].astype('int64')\n",
    "df['Q15_1'] = df['Q15_1'].astype('int64')\n",
    "df['Q15_2'] = df['Q15_2'].astype('int64')\n",
    "df['Q15_3'] = df['Q15_3'].astype('int64')\n",
    "df['Q16_1'] = df['Q16_1'].astype('int64')\n",
    "df['Q16_2'] = df['Q16_2'].astype('int64')\n",
    "df['Q16_3'] = df['Q16_3'].astype('int64')\n",
    "df['Q16_5_1'] = df['Q16_5_1'].astype('int64')\n",
    "df['Q16_5_2'] = df['Q16_5_2'].astype('int64')\n",
    "df['Q16_5_3'] = df['Q16_5_3'].astype('int64')\n",
    "df['Q17_1'] = df['Q17_1'].astype('int64')\n",
    "df['Q17_2'] = df['Q17_2'].astype('int64')\n",
    "df['Q17_3'] = df['Q17_3'].astype('int64')\n",
    "df['Q18_1'] = df['Q18_1'].astype('int64')\n",
    "df['Q18_2'] = df['Q18_2'].astype('int64')\n",
    "df['Q18_3'] = df['Q18_3'].astype('int64')"
   ]
  },
  {
   "cell_type": "code",
   "execution_count": 129,
   "id": "03653248-f6d1-4d67-8aea-ab610a8bde10",
   "metadata": {},
   "outputs": [],
   "source": [
    "# adjust Likert scale\n",
    "# def likert_scale(x):\n",
    "#     return x - 3\n",
    "# df[['Q12_1', 'Q12_2', 'Q12_3', 'Q13_1', 'Q13_2', 'Q13_3', \n",
    "#    'Q14_1', 'Q14_2', 'Q14_3', 'Q15_1', 'Q15_2', 'Q15_3',\n",
    "#    'Q16_1', 'Q16_2', 'Q16_3', 'Q16_5_1', 'Q16_5_2', 'Q16_5_3',\n",
    "#    'Q17_1', 'Q17_2', 'Q17_3', 'Q18_1', 'Q18_2', 'Q18_3']] = df[['Q12_1', 'Q12_2', 'Q12_3', 'Q13_1', 'Q13_2', 'Q13_3', \n",
    "#    'Q14_1', 'Q14_2', 'Q14_3', 'Q15_1', 'Q15_2', 'Q15_3',\n",
    "#    'Q16_1', 'Q16_2', 'Q16_3', 'Q16_5_1', 'Q16_5_2', 'Q16_5_3',\n",
    "#    'Q17_1', 'Q17_2', 'Q17_3', 'Q18_1', 'Q18_2', 'Q18_3']].apply(likert_scale)"
   ]
  },
  {
   "cell_type": "code",
   "execution_count": 90,
   "id": "b41b61e2-9016-4580-b409-8f0f3e27e05a",
   "metadata": {},
   "outputs": [
    {
     "data": {
      "text/html": [
       "<div>\n",
       "<style scoped>\n",
       "    .dataframe tbody tr th:only-of-type {\n",
       "        vertical-align: middle;\n",
       "    }\n",
       "\n",
       "    .dataframe tbody tr th {\n",
       "        vertical-align: top;\n",
       "    }\n",
       "\n",
       "    .dataframe thead tr th {\n",
       "        text-align: left;\n",
       "    }\n",
       "\n",
       "    .dataframe thead tr:last-of-type th {\n",
       "        text-align: right;\n",
       "    }\n",
       "</style>\n",
       "<table border=\"1\" class=\"dataframe\">\n",
       "  <thead>\n",
       "    <tr>\n",
       "      <th></th>\n",
       "      <th colspan=\"2\" halign=\"left\">Q12_1</th>\n",
       "      <th colspan=\"2\" halign=\"left\">Q12_2</th>\n",
       "      <th colspan=\"2\" halign=\"left\">Q12_3</th>\n",
       "    </tr>\n",
       "    <tr>\n",
       "      <th></th>\n",
       "      <th>mean</th>\n",
       "      <th>std</th>\n",
       "      <th>mean</th>\n",
       "      <th>std</th>\n",
       "      <th>mean</th>\n",
       "      <th>std</th>\n",
       "    </tr>\n",
       "    <tr>\n",
       "      <th>lang_profile</th>\n",
       "      <th></th>\n",
       "      <th></th>\n",
       "      <th></th>\n",
       "      <th></th>\n",
       "      <th></th>\n",
       "      <th></th>\n",
       "    </tr>\n",
       "  </thead>\n",
       "  <tbody>\n",
       "    <tr>\n",
       "      <th>l1_eng</th>\n",
       "      <td>4.96</td>\n",
       "      <td>1.019804</td>\n",
       "      <td>3.56</td>\n",
       "      <td>1.416569</td>\n",
       "      <td>5.96</td>\n",
       "      <td>0.200000</td>\n",
       "    </tr>\n",
       "    <tr>\n",
       "      <th>l3_eng</th>\n",
       "      <td>5.84</td>\n",
       "      <td>0.374166</td>\n",
       "      <td>5.76</td>\n",
       "      <td>0.522813</td>\n",
       "      <td>4.88</td>\n",
       "      <td>1.013246</td>\n",
       "    </tr>\n",
       "  </tbody>\n",
       "</table>\n",
       "</div>"
      ],
      "text/plain": [
       "             Q12_1           Q12_2           Q12_3          \n",
       "              mean       std  mean       std  mean       std\n",
       "lang_profile                                                \n",
       "l1_eng        4.96  1.019804  3.56  1.416569  5.96  0.200000\n",
       "l3_eng        5.84  0.374166  5.76  0.522813  4.88  1.013246"
      ]
     },
     "execution_count": 90,
     "metadata": {},
     "output_type": "execute_result"
    }
   ],
   "source": [
    "df.groupby('lang_profile')[['Q12_1', 'Q12_2', 'Q12_3']].agg(['mean', 'std'])"
   ]
  },
  {
   "cell_type": "markdown",
   "id": "23278dc8-7456-4918-981e-2c9995b30319",
   "metadata": {},
   "source": [
    "## How well do you understand each language"
   ]
  },
  {
   "cell_type": "code",
   "execution_count": 91,
   "id": "eb125ed5-2780-4d39-9592-37b5328bd9ea",
   "metadata": {},
   "outputs": [
    {
     "data": {
      "text/html": [
       "<div>\n",
       "<style scoped>\n",
       "    .dataframe tbody tr th:only-of-type {\n",
       "        vertical-align: middle;\n",
       "    }\n",
       "\n",
       "    .dataframe tbody tr th {\n",
       "        vertical-align: top;\n",
       "    }\n",
       "\n",
       "    .dataframe thead tr th {\n",
       "        text-align: left;\n",
       "    }\n",
       "\n",
       "    .dataframe thead tr:last-of-type th {\n",
       "        text-align: right;\n",
       "    }\n",
       "</style>\n",
       "<table border=\"1\" class=\"dataframe\">\n",
       "  <thead>\n",
       "    <tr>\n",
       "      <th></th>\n",
       "      <th colspan=\"2\" halign=\"left\">Q13_1</th>\n",
       "      <th colspan=\"2\" halign=\"left\">Q13_2</th>\n",
       "      <th colspan=\"2\" halign=\"left\">Q13_3</th>\n",
       "    </tr>\n",
       "    <tr>\n",
       "      <th></th>\n",
       "      <th>mean</th>\n",
       "      <th>std</th>\n",
       "      <th>mean</th>\n",
       "      <th>std</th>\n",
       "      <th>mean</th>\n",
       "      <th>std</th>\n",
       "    </tr>\n",
       "    <tr>\n",
       "      <th>lang_profile</th>\n",
       "      <th></th>\n",
       "      <th></th>\n",
       "      <th></th>\n",
       "      <th></th>\n",
       "      <th></th>\n",
       "      <th></th>\n",
       "    </tr>\n",
       "  </thead>\n",
       "  <tbody>\n",
       "    <tr>\n",
       "      <th>l1_eng</th>\n",
       "      <td>5.32</td>\n",
       "      <td>0.9</td>\n",
       "      <td>4.32</td>\n",
       "      <td>1.314027</td>\n",
       "      <td>6.00</td>\n",
       "      <td>0.000000</td>\n",
       "    </tr>\n",
       "    <tr>\n",
       "      <th>l3_eng</th>\n",
       "      <td>6.00</td>\n",
       "      <td>0.0</td>\n",
       "      <td>5.96</td>\n",
       "      <td>0.200000</td>\n",
       "      <td>5.32</td>\n",
       "      <td>1.029563</td>\n",
       "    </tr>\n",
       "  </tbody>\n",
       "</table>\n",
       "</div>"
      ],
      "text/plain": [
       "             Q13_1      Q13_2           Q13_3          \n",
       "              mean  std  mean       std  mean       std\n",
       "lang_profile                                           \n",
       "l1_eng        5.32  0.9  4.32  1.314027  6.00  0.000000\n",
       "l3_eng        6.00  0.0  5.96  0.200000  5.32  1.029563"
      ]
     },
     "execution_count": 91,
     "metadata": {},
     "output_type": "execute_result"
    }
   ],
   "source": [
    "df.groupby('lang_profile')[['Q13_1', 'Q13_2', 'Q13_3']].agg(['mean', 'std'])"
   ]
  },
  {
   "cell_type": "markdown",
   "id": "d406d3ce-1005-4058-88b1-1a3f3efe6ac8",
   "metadata": {},
   "source": [
    "## How well do you read in each language"
   ]
  },
  {
   "cell_type": "code",
   "execution_count": 92,
   "id": "ce689750-b4d4-4113-97e3-0c914836f0e8",
   "metadata": {},
   "outputs": [
    {
     "data": {
      "text/html": [
       "<div>\n",
       "<style scoped>\n",
       "    .dataframe tbody tr th:only-of-type {\n",
       "        vertical-align: middle;\n",
       "    }\n",
       "\n",
       "    .dataframe tbody tr th {\n",
       "        vertical-align: top;\n",
       "    }\n",
       "\n",
       "    .dataframe thead tr th {\n",
       "        text-align: left;\n",
       "    }\n",
       "\n",
       "    .dataframe thead tr:last-of-type th {\n",
       "        text-align: right;\n",
       "    }\n",
       "</style>\n",
       "<table border=\"1\" class=\"dataframe\">\n",
       "  <thead>\n",
       "    <tr>\n",
       "      <th></th>\n",
       "      <th colspan=\"2\" halign=\"left\">Q14_1</th>\n",
       "      <th colspan=\"2\" halign=\"left\">Q14_2</th>\n",
       "      <th colspan=\"2\" halign=\"left\">Q14_3</th>\n",
       "    </tr>\n",
       "    <tr>\n",
       "      <th></th>\n",
       "      <th>mean</th>\n",
       "      <th>std</th>\n",
       "      <th>mean</th>\n",
       "      <th>std</th>\n",
       "      <th>mean</th>\n",
       "      <th>std</th>\n",
       "    </tr>\n",
       "    <tr>\n",
       "      <th>lang_profile</th>\n",
       "      <th></th>\n",
       "      <th></th>\n",
       "      <th></th>\n",
       "      <th></th>\n",
       "      <th></th>\n",
       "      <th></th>\n",
       "    </tr>\n",
       "  </thead>\n",
       "  <tbody>\n",
       "    <tr>\n",
       "      <th>l1_eng</th>\n",
       "      <td>5.28</td>\n",
       "      <td>0.890693</td>\n",
       "      <td>4.56</td>\n",
       "      <td>1.193035</td>\n",
       "      <td>6.0</td>\n",
       "      <td>0.000000</td>\n",
       "    </tr>\n",
       "    <tr>\n",
       "      <th>l3_eng</th>\n",
       "      <td>6.00</td>\n",
       "      <td>0.000000</td>\n",
       "      <td>5.92</td>\n",
       "      <td>0.276887</td>\n",
       "      <td>5.2</td>\n",
       "      <td>0.866025</td>\n",
       "    </tr>\n",
       "  </tbody>\n",
       "</table>\n",
       "</div>"
      ],
      "text/plain": [
       "             Q14_1           Q14_2           Q14_3          \n",
       "              mean       std  mean       std  mean       std\n",
       "lang_profile                                                \n",
       "l1_eng        5.28  0.890693  4.56  1.193035   6.0  0.000000\n",
       "l3_eng        6.00  0.000000  5.92  0.276887   5.2  0.866025"
      ]
     },
     "execution_count": 92,
     "metadata": {},
     "output_type": "execute_result"
    }
   ],
   "source": [
    "df.groupby('lang_profile')[['Q14_1', 'Q14_2', 'Q14_3']].agg(['mean', 'std'])"
   ]
  },
  {
   "cell_type": "markdown",
   "id": "c01b4083-e589-4a14-b2aa-c1f5349b10f8",
   "metadata": {},
   "source": [
    "## How well do you write in each language"
   ]
  },
  {
   "cell_type": "code",
   "execution_count": 93,
   "id": "8127bd55-7e26-49f6-9d79-7da51b492b23",
   "metadata": {},
   "outputs": [
    {
     "data": {
      "text/html": [
       "<div>\n",
       "<style scoped>\n",
       "    .dataframe tbody tr th:only-of-type {\n",
       "        vertical-align: middle;\n",
       "    }\n",
       "\n",
       "    .dataframe tbody tr th {\n",
       "        vertical-align: top;\n",
       "    }\n",
       "\n",
       "    .dataframe thead tr th {\n",
       "        text-align: left;\n",
       "    }\n",
       "\n",
       "    .dataframe thead tr:last-of-type th {\n",
       "        text-align: right;\n",
       "    }\n",
       "</style>\n",
       "<table border=\"1\" class=\"dataframe\">\n",
       "  <thead>\n",
       "    <tr>\n",
       "      <th></th>\n",
       "      <th colspan=\"2\" halign=\"left\">Q15_1</th>\n",
       "      <th colspan=\"2\" halign=\"left\">Q15_2</th>\n",
       "      <th colspan=\"2\" halign=\"left\">Q15_3</th>\n",
       "    </tr>\n",
       "    <tr>\n",
       "      <th></th>\n",
       "      <th>mean</th>\n",
       "      <th>std</th>\n",
       "      <th>mean</th>\n",
       "      <th>std</th>\n",
       "      <th>mean</th>\n",
       "      <th>std</th>\n",
       "    </tr>\n",
       "    <tr>\n",
       "      <th>lang_profile</th>\n",
       "      <th></th>\n",
       "      <th></th>\n",
       "      <th></th>\n",
       "      <th></th>\n",
       "      <th></th>\n",
       "      <th></th>\n",
       "    </tr>\n",
       "  </thead>\n",
       "  <tbody>\n",
       "    <tr>\n",
       "      <th>l1_eng</th>\n",
       "      <td>4.64</td>\n",
       "      <td>1.287116</td>\n",
       "      <td>3.24</td>\n",
       "      <td>1.479865</td>\n",
       "      <td>6.00</td>\n",
       "      <td>0.000000</td>\n",
       "    </tr>\n",
       "    <tr>\n",
       "      <th>l3_eng</th>\n",
       "      <td>5.76</td>\n",
       "      <td>0.597216</td>\n",
       "      <td>5.48</td>\n",
       "      <td>0.918332</td>\n",
       "      <td>4.84</td>\n",
       "      <td>0.986577</td>\n",
       "    </tr>\n",
       "  </tbody>\n",
       "</table>\n",
       "</div>"
      ],
      "text/plain": [
       "             Q15_1           Q15_2           Q15_3          \n",
       "              mean       std  mean       std  mean       std\n",
       "lang_profile                                                \n",
       "l1_eng        4.64  1.287116  3.24  1.479865  6.00  0.000000\n",
       "l3_eng        5.76  0.597216  5.48  0.918332  4.84  0.986577"
      ]
     },
     "execution_count": 93,
     "metadata": {},
     "output_type": "execute_result"
    }
   ],
   "source": [
    "df.groupby('lang_profile')[['Q15_1', 'Q15_2', 'Q15_3']].agg(['mean', 'std'])"
   ]
  },
  {
   "cell_type": "markdown",
   "id": "f632b9be-cc13-43d5-ab4c-6b40897de5ab",
   "metadata": {},
   "source": [
    "## You feel like yourself when speaking each language"
   ]
  },
  {
   "cell_type": "code",
   "execution_count": 94,
   "id": "7602d170-4e56-4dee-ba07-3c2521f6697d",
   "metadata": {},
   "outputs": [
    {
     "data": {
      "text/html": [
       "<div>\n",
       "<style scoped>\n",
       "    .dataframe tbody tr th:only-of-type {\n",
       "        vertical-align: middle;\n",
       "    }\n",
       "\n",
       "    .dataframe tbody tr th {\n",
       "        vertical-align: top;\n",
       "    }\n",
       "\n",
       "    .dataframe thead tr th {\n",
       "        text-align: left;\n",
       "    }\n",
       "\n",
       "    .dataframe thead tr:last-of-type th {\n",
       "        text-align: right;\n",
       "    }\n",
       "</style>\n",
       "<table border=\"1\" class=\"dataframe\">\n",
       "  <thead>\n",
       "    <tr>\n",
       "      <th></th>\n",
       "      <th colspan=\"2\" halign=\"left\">Q16_1</th>\n",
       "      <th colspan=\"2\" halign=\"left\">Q16_2</th>\n",
       "      <th colspan=\"2\" halign=\"left\">Q16_3</th>\n",
       "    </tr>\n",
       "    <tr>\n",
       "      <th></th>\n",
       "      <th>mean</th>\n",
       "      <th>std</th>\n",
       "      <th>mean</th>\n",
       "      <th>std</th>\n",
       "      <th>mean</th>\n",
       "      <th>std</th>\n",
       "    </tr>\n",
       "    <tr>\n",
       "      <th>lang_profile</th>\n",
       "      <th></th>\n",
       "      <th></th>\n",
       "      <th></th>\n",
       "      <th></th>\n",
       "      <th></th>\n",
       "      <th></th>\n",
       "    </tr>\n",
       "  </thead>\n",
       "  <tbody>\n",
       "    <tr>\n",
       "      <th>l1_eng</th>\n",
       "      <td>4.68</td>\n",
       "      <td>1.749286</td>\n",
       "      <td>4.2</td>\n",
       "      <td>1.870829</td>\n",
       "      <td>5.76</td>\n",
       "      <td>0.663325</td>\n",
       "    </tr>\n",
       "    <tr>\n",
       "      <th>l3_eng</th>\n",
       "      <td>4.36</td>\n",
       "      <td>1.955335</td>\n",
       "      <td>5.6</td>\n",
       "      <td>0.763763</td>\n",
       "      <td>4.32</td>\n",
       "      <td>1.492202</td>\n",
       "    </tr>\n",
       "  </tbody>\n",
       "</table>\n",
       "</div>"
      ],
      "text/plain": [
       "             Q16_1           Q16_2           Q16_3          \n",
       "              mean       std  mean       std  mean       std\n",
       "lang_profile                                                \n",
       "l1_eng        4.68  1.749286   4.2  1.870829  5.76  0.663325\n",
       "l3_eng        4.36  1.955335   5.6  0.763763  4.32  1.492202"
      ]
     },
     "execution_count": 94,
     "metadata": {},
     "output_type": "execute_result"
    }
   ],
   "source": [
    "df.groupby('lang_profile')[['Q16_1', 'Q16_2', 'Q16_3']].agg(['mean', 'std'])"
   ]
  },
  {
   "cell_type": "markdown",
   "id": "5ce6ca3c-0ed0-4d95-8876-3caeb7151d6e",
   "metadata": {},
   "source": [
    "## You identify with this language culture"
   ]
  },
  {
   "cell_type": "code",
   "execution_count": 95,
   "id": "4c98354c-0b17-48a5-a243-5abdfd9e6793",
   "metadata": {},
   "outputs": [
    {
     "data": {
      "text/html": [
       "<div>\n",
       "<style scoped>\n",
       "    .dataframe tbody tr th:only-of-type {\n",
       "        vertical-align: middle;\n",
       "    }\n",
       "\n",
       "    .dataframe tbody tr th {\n",
       "        vertical-align: top;\n",
       "    }\n",
       "\n",
       "    .dataframe thead tr th {\n",
       "        text-align: left;\n",
       "    }\n",
       "\n",
       "    .dataframe thead tr:last-of-type th {\n",
       "        text-align: right;\n",
       "    }\n",
       "</style>\n",
       "<table border=\"1\" class=\"dataframe\">\n",
       "  <thead>\n",
       "    <tr>\n",
       "      <th></th>\n",
       "      <th colspan=\"2\" halign=\"left\">Q16_5_1</th>\n",
       "      <th colspan=\"2\" halign=\"left\">Q16_5_2</th>\n",
       "      <th colspan=\"2\" halign=\"left\">Q16_5_3</th>\n",
       "    </tr>\n",
       "    <tr>\n",
       "      <th></th>\n",
       "      <th>mean</th>\n",
       "      <th>std</th>\n",
       "      <th>mean</th>\n",
       "      <th>std</th>\n",
       "      <th>mean</th>\n",
       "      <th>std</th>\n",
       "    </tr>\n",
       "    <tr>\n",
       "      <th>lang_profile</th>\n",
       "      <th></th>\n",
       "      <th></th>\n",
       "      <th></th>\n",
       "      <th></th>\n",
       "      <th></th>\n",
       "      <th></th>\n",
       "    </tr>\n",
       "  </thead>\n",
       "  <tbody>\n",
       "    <tr>\n",
       "      <th>l1_eng</th>\n",
       "      <td>3.48</td>\n",
       "      <td>1.686219</td>\n",
       "      <td>3.56</td>\n",
       "      <td>1.804624</td>\n",
       "      <td>5.56</td>\n",
       "      <td>0.916515</td>\n",
       "    </tr>\n",
       "    <tr>\n",
       "      <th>l3_eng</th>\n",
       "      <td>3.80</td>\n",
       "      <td>1.979057</td>\n",
       "      <td>5.64</td>\n",
       "      <td>0.757188</td>\n",
       "      <td>3.20</td>\n",
       "      <td>1.322876</td>\n",
       "    </tr>\n",
       "  </tbody>\n",
       "</table>\n",
       "</div>"
      ],
      "text/plain": [
       "             Q16_5_1           Q16_5_2           Q16_5_3          \n",
       "                mean       std    mean       std    mean       std\n",
       "lang_profile                                                      \n",
       "l1_eng          3.48  1.686219    3.56  1.804624    5.56  0.916515\n",
       "l3_eng          3.80  1.979057    5.64  0.757188    3.20  1.322876"
      ]
     },
     "execution_count": 95,
     "metadata": {},
     "output_type": "execute_result"
    }
   ],
   "source": [
    "df.groupby('lang_profile')[['Q16_5_1', 'Q16_5_2', 'Q16_5_3']].agg(['mean', 'std'])"
   ]
  },
  {
   "cell_type": "markdown",
   "id": "aae5be5c-bf0a-4995-8185-7d6acbbbd518",
   "metadata": {},
   "source": [
    "## It is important to me to use the language like a native speaker"
   ]
  },
  {
   "cell_type": "code",
   "execution_count": 96,
   "id": "8872ddf4-c90b-4457-88a2-f6e4fc6d55e3",
   "metadata": {},
   "outputs": [
    {
     "data": {
      "text/html": [
       "<div>\n",
       "<style scoped>\n",
       "    .dataframe tbody tr th:only-of-type {\n",
       "        vertical-align: middle;\n",
       "    }\n",
       "\n",
       "    .dataframe tbody tr th {\n",
       "        vertical-align: top;\n",
       "    }\n",
       "\n",
       "    .dataframe thead tr th {\n",
       "        text-align: left;\n",
       "    }\n",
       "\n",
       "    .dataframe thead tr:last-of-type th {\n",
       "        text-align: right;\n",
       "    }\n",
       "</style>\n",
       "<table border=\"1\" class=\"dataframe\">\n",
       "  <thead>\n",
       "    <tr>\n",
       "      <th></th>\n",
       "      <th colspan=\"2\" halign=\"left\">Q17_1</th>\n",
       "      <th colspan=\"2\" halign=\"left\">Q17_2</th>\n",
       "      <th colspan=\"2\" halign=\"left\">Q17_3</th>\n",
       "    </tr>\n",
       "    <tr>\n",
       "      <th></th>\n",
       "      <th>mean</th>\n",
       "      <th>std</th>\n",
       "      <th>mean</th>\n",
       "      <th>std</th>\n",
       "      <th>mean</th>\n",
       "      <th>std</th>\n",
       "    </tr>\n",
       "    <tr>\n",
       "      <th>lang_profile</th>\n",
       "      <th></th>\n",
       "      <th></th>\n",
       "      <th></th>\n",
       "      <th></th>\n",
       "      <th></th>\n",
       "      <th></th>\n",
       "    </tr>\n",
       "  </thead>\n",
       "  <tbody>\n",
       "    <tr>\n",
       "      <th>l1_eng</th>\n",
       "      <td>5.56</td>\n",
       "      <td>0.960902</td>\n",
       "      <td>5.08</td>\n",
       "      <td>1.497776</td>\n",
       "      <td>5.80</td>\n",
       "      <td>0.645497</td>\n",
       "    </tr>\n",
       "    <tr>\n",
       "      <th>l3_eng</th>\n",
       "      <td>5.28</td>\n",
       "      <td>1.671327</td>\n",
       "      <td>5.88</td>\n",
       "      <td>0.439697</td>\n",
       "      <td>5.28</td>\n",
       "      <td>1.275408</td>\n",
       "    </tr>\n",
       "  </tbody>\n",
       "</table>\n",
       "</div>"
      ],
      "text/plain": [
       "             Q17_1           Q17_2           Q17_3          \n",
       "              mean       std  mean       std  mean       std\n",
       "lang_profile                                                \n",
       "l1_eng        5.56  0.960902  5.08  1.497776  5.80  0.645497\n",
       "l3_eng        5.28  1.671327  5.88  0.439697  5.28  1.275408"
      ]
     },
     "execution_count": 96,
     "metadata": {},
     "output_type": "execute_result"
    }
   ],
   "source": [
    "df.groupby('lang_profile')[['Q17_1', 'Q17_2', 'Q17_3']].agg(['mean', 'std'])"
   ]
  },
  {
   "cell_type": "markdown",
   "id": "874136c5-1c8b-41bc-9ca0-0efee53e8c7f",
   "metadata": {},
   "source": [
    "## I want others to think I'm a native speaker of this language"
   ]
  },
  {
   "cell_type": "code",
   "execution_count": 97,
   "id": "b6758702-6005-4af9-b3be-4aaf62eb9daf",
   "metadata": {},
   "outputs": [
    {
     "data": {
      "text/html": [
       "<div>\n",
       "<style scoped>\n",
       "    .dataframe tbody tr th:only-of-type {\n",
       "        vertical-align: middle;\n",
       "    }\n",
       "\n",
       "    .dataframe tbody tr th {\n",
       "        vertical-align: top;\n",
       "    }\n",
       "\n",
       "    .dataframe thead tr th {\n",
       "        text-align: left;\n",
       "    }\n",
       "\n",
       "    .dataframe thead tr:last-of-type th {\n",
       "        text-align: right;\n",
       "    }\n",
       "</style>\n",
       "<table border=\"1\" class=\"dataframe\">\n",
       "  <thead>\n",
       "    <tr>\n",
       "      <th></th>\n",
       "      <th colspan=\"2\" halign=\"left\">Q18_1</th>\n",
       "      <th colspan=\"2\" halign=\"left\">Q18_2</th>\n",
       "      <th colspan=\"2\" halign=\"left\">Q18_3</th>\n",
       "    </tr>\n",
       "    <tr>\n",
       "      <th></th>\n",
       "      <th>mean</th>\n",
       "      <th>std</th>\n",
       "      <th>mean</th>\n",
       "      <th>std</th>\n",
       "      <th>mean</th>\n",
       "      <th>std</th>\n",
       "    </tr>\n",
       "    <tr>\n",
       "      <th>lang_profile</th>\n",
       "      <th></th>\n",
       "      <th></th>\n",
       "      <th></th>\n",
       "      <th></th>\n",
       "      <th></th>\n",
       "      <th></th>\n",
       "    </tr>\n",
       "  </thead>\n",
       "  <tbody>\n",
       "    <tr>\n",
       "      <th>l1_eng</th>\n",
       "      <td>4.68</td>\n",
       "      <td>1.573743</td>\n",
       "      <td>4.24</td>\n",
       "      <td>1.690168</td>\n",
       "      <td>5.04</td>\n",
       "      <td>1.337909</td>\n",
       "    </tr>\n",
       "    <tr>\n",
       "      <th>l3_eng</th>\n",
       "      <td>5.08</td>\n",
       "      <td>1.846619</td>\n",
       "      <td>6.00</td>\n",
       "      <td>0.000000</td>\n",
       "      <td>4.20</td>\n",
       "      <td>2.362908</td>\n",
       "    </tr>\n",
       "  </tbody>\n",
       "</table>\n",
       "</div>"
      ],
      "text/plain": [
       "             Q18_1           Q18_2           Q18_3          \n",
       "              mean       std  mean       std  mean       std\n",
       "lang_profile                                                \n",
       "l1_eng        4.68  1.573743  4.24  1.690168  5.04  1.337909\n",
       "l3_eng        5.08  1.846619  6.00  0.000000  4.20  2.362908"
      ]
     },
     "execution_count": 97,
     "metadata": {},
     "output_type": "execute_result"
    }
   ],
   "source": [
    "df.groupby('lang_profile')[['Q18_1', 'Q18_2', 'Q18_3']].agg(['mean', 'std'])"
   ]
  },
  {
   "cell_type": "code",
   "execution_count": null,
   "id": "23a7f764-1432-491d-9d91-b4f898ac8f3d",
   "metadata": {},
   "outputs": [],
   "source": []
  }
 ],
 "metadata": {
  "kernelspec": {
   "display_name": "Python 3",
   "language": "python",
   "name": "python3"
  },
  "language_info": {
   "codemirror_mode": {
    "name": "ipython",
    "version": 3
   },
   "file_extension": ".py",
   "mimetype": "text/x-python",
   "name": "python",
   "nbconvert_exporter": "python",
   "pygments_lexer": "ipython3",
   "version": "3.8.8"
  }
 },
 "nbformat": 4,
 "nbformat_minor": 5
}
