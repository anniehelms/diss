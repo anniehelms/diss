{
 "cells": [
  {
   "cell_type": "markdown",
   "id": "0868f5a3-2fe8-475f-9224-4d7a8840e8a3",
   "metadata": {},
   "source": [
    "# Principle Component Analysis on BLP data for trilinguals\n",
    "\n",
    "Prep for pPCA in R."
   ]
  },
  {
   "cell_type": "code",
   "execution_count": 230,
   "id": "78080a7b-768e-4702-b928-010c29882060",
   "metadata": {},
   "outputs": [],
   "source": [
    "import pandas as pd\n",
    "import numpy as np\n",
    "import seaborn as sns\n",
    "import matplotlib.pyplot as plt\n",
    "import factor_analyzer as fa # factor analysis algorithm"
   ]
  },
  {
   "cell_type": "markdown",
   "id": "ea0e06e4-e6f1-47b2-89b0-dd76ccc3357b",
   "metadata": {},
   "source": [
    "Import trilingual BLP data"
   ]
  },
  {
   "cell_type": "code",
   "execution_count": 190,
   "id": "8fa5f844-1e7c-40ef-8d10-dca832e4e5da",
   "metadata": {},
   "outputs": [
    {
     "data": {
      "text/plain": [
       "89"
      ]
     },
     "execution_count": 190,
     "metadata": {},
     "output_type": "execute_result"
    }
   ],
   "source": [
    "df = pd.read_csv(\"data/blp_cleaned.csv\")\n",
    "df_tri = df[df['lang_profile']!=\"mono\"].copy()\n",
    "len(df_tri)"
   ]
  },
  {
   "cell_type": "code",
   "execution_count": 191,
   "id": "458d058e-f26d-4ece-8bed-7494e3872e63",
   "metadata": {},
   "outputs": [],
   "source": [
    "#read in parts\n",
    "parts = pd.read_csv(\"data/parts.csv\")\n",
    "parts['partID'] = parts['partID'].map(str.lower)\n",
    "parts_list = parts['partID'].tolist()"
   ]
  },
  {
   "cell_type": "code",
   "execution_count": 192,
   "id": "5d1a66ae-beb8-46cc-be5d-99808a3fb005",
   "metadata": {},
   "outputs": [
    {
     "data": {
      "text/plain": [
       "50"
      ]
     },
     "execution_count": 192,
     "metadata": {},
     "output_type": "execute_result"
    }
   ],
   "source": [
    "# mask df with parts list\n",
    "df_tri = df_tri[df_tri['partID'].isin(parts_list)]\n",
    "df_tri.reset_index(inplace = True, drop = True)\n",
    "len(df_tri)"
   ]
  },
  {
   "cell_type": "code",
   "execution_count": 193,
   "id": "6b3b11e5-933c-4fb1-ad66-42c386b2bcb0",
   "metadata": {},
   "outputs": [
    {
     "data": {
      "text/plain": [
       "Index(['Age', 'Education', 'Education_6_TEXT', 'Finished', 'Gender', 'Q1#1_1',\n",
       "       'Q1#1_2', 'Q1#1_3', 'Q10#1_1', 'Q10#1_2', 'Q10#1_3', 'Q10#1_4',\n",
       "       'Q11#1_1', 'Q11#1_2', 'Q11#1_3', 'Q11#1_4', 'Q12_1', 'Q12_2', 'Q12_3',\n",
       "       'Q13_1', 'Q13_2', 'Q13_3', 'Q14_1', 'Q14_2', 'Q14_3', 'Q15_1', 'Q15_2',\n",
       "       'Q15_3', 'Q16_1', 'Q16_2', 'Q16_3', 'Q16_5_1', 'Q16_5_2', 'Q16_5_3',\n",
       "       'Q17_1', 'Q17_2', 'Q17_3', 'Q18_1', 'Q18_2', 'Q18_3', 'Q2#1_1',\n",
       "       'Q2#1_2', 'Q2#1_3', 'Q3#1_1', 'Q3#1_2', 'Q3#1_3', 'partID', 'Q4#1_1',\n",
       "       'Q4#1_2', 'Q4#1_3', 'Q5#1_1', 'Q5#1_2', 'Q5#1_3', 'Q6#1_1', 'Q6#1_2',\n",
       "       'Q6#1_3', 'Q7#1_1', 'Q7#1_2', 'Q7#1_3', 'Q7#1_4', 'Q8#1_1', 'Q8#1_2',\n",
       "       'Q8#1_3', 'Q8#1_4', 'Q9#1_1', 'Q9#1_2', 'Q9#1_3', 'Q9#1_4', 'Residence',\n",
       "       'prof', 'lang_profile'],\n",
       "      dtype='object')"
      ]
     },
     "execution_count": 193,
     "metadata": {},
     "output_type": "execute_result"
    }
   ],
   "source": [
    "df_tri.columns"
   ]
  },
  {
   "cell_type": "code",
   "execution_count": 194,
   "id": "29ceb159-82bd-49e1-8f14-62964e78d639",
   "metadata": {},
   "outputs": [],
   "source": [
    "df_tri_noparts = df_tri.drop(['Education_6_TEXT', 'Finished', 'Residence',\n",
    "                              'prof', 'partID', 'lang_profile', 'Education',\n",
    "                             'Age', 'Gender'], axis = 1)"
   ]
  },
  {
   "cell_type": "markdown",
   "id": "a9fe3d17-62fc-43cf-845b-a5f2caba50db",
   "metadata": {},
   "source": [
    "Replace text with numeric values to later be converted to ordinal factors."
   ]
  },
  {
   "cell_type": "code",
   "execution_count": 195,
   "id": "b0048a38-546b-47fd-b4e8-834ca3ae05e3",
   "metadata": {},
   "outputs": [],
   "source": [
    "# Age of acquisition\n",
    "# Since birth to 0\n",
    "df_tri_noparts.loc[df_tri_noparts['Q1#1_3']=='Since birth', 'Q1#1_3'] = 0\n",
    "df_tri_noparts.loc[df_tri_noparts['Q1#1_2']=='Since birth', 'Q1#1_2'] = 0\n",
    "df_tri_noparts.loc[df_tri_noparts['Q1#1_1']=='Since birth', 'Q1#1_1'] = 0\n",
    "# 20+ to 20??\n",
    "df_tri_noparts.loc[df_tri_noparts['Q1#1_2']=='20+', 'Q1#1_2'] = 20\n",
    "df_tri_noparts.loc[df_tri_noparts['Q1#1_1']=='20+', 'Q1#1_1'] = 20"
   ]
  },
  {
   "cell_type": "code",
   "execution_count": 196,
   "id": "72c30845-2ee6-44af-aeab-48a356495c27",
   "metadata": {},
   "outputs": [],
   "source": [
    "# Age of comfort\n",
    "# As early as I can remember to 0\n",
    "df_tri_noparts.loc[df_tri_noparts['Q2#1_1']=='As early as I can remember', 'Q2#1_1'] = 0\n",
    "df_tri_noparts.loc[df_tri_noparts['Q2#1_2']=='As early as I can remember', 'Q2#1_2'] = 0\n",
    "df_tri_noparts.loc[df_tri_noparts['Q2#1_3']=='As early as I can remember', 'Q2#1_3'] = 0\n",
    "# 20+ to 20??\n",
    "df_tri_noparts.loc[df_tri_noparts['Q2#1_3']=='20+', 'Q2#1_3'] = 20\n",
    "df_tri_noparts.loc[df_tri_noparts['Q2#1_2']=='20+', 'Q2#1_2'] = 20\n",
    "df_tri_noparts.loc[df_tri_noparts['Q2#1_1']=='20+', 'Q2#1_1'] = 20\n",
    "# Still not comfortable to 30??\n",
    "df_tri_noparts.loc[df_tri_noparts['Q2#1_3']=='Still not comfortable', 'Q2#1_3'] = 21\n",
    "df_tri_noparts.loc[df_tri_noparts['Q2#1_2']=='Still not comfortable', 'Q2#1_2'] = 21\n",
    "df_tri_noparts.loc[df_tri_noparts['Q2#1_1']=='Still not comfortable', 'Q2#1_1'] = 21"
   ]
  },
  {
   "cell_type": "code",
   "execution_count": 197,
   "id": "5377a14d-1f36-472c-b51f-4a6c2051bbf0",
   "metadata": {},
   "outputs": [],
   "source": [
    "# Years of classes\n",
    "# 20+ to 20??\n",
    "df_tri_noparts.loc[df_tri_noparts['Q3#1_3']=='20+', 'Q3#1_3'] = 20\n",
    "df_tri_noparts.loc[df_tri_noparts['Q3#1_2']=='20+', 'Q3#1_2'] = 20\n",
    "df_tri_noparts.loc[df_tri_noparts['Q3#1_1']=='20+', 'Q3#1_1'] = 20"
   ]
  },
  {
   "cell_type": "code",
   "execution_count": 198,
   "id": "f3fc65d0-93ed-4a31-9d72-0d6a4f1f2c96",
   "metadata": {},
   "outputs": [],
   "source": [
    "# Years spent in a region, family, and work that speaks the language\n",
    "# 20+ to 20??\n",
    "df_tri_noparts.loc[df_tri_noparts['Q4#1_3']=='20+', 'Q4#1_3'] = 20\n",
    "df_tri_noparts.loc[df_tri_noparts['Q4#1_2']=='20+', 'Q4#1_2'] = 20\n",
    "df_tri_noparts.loc[df_tri_noparts['Q4#1_1']=='20+', 'Q4#1_1'] = 20\n",
    "\n",
    "df_tri_noparts.loc[df_tri_noparts['Q5#1_3']=='20+', 'Q5#1_3'] = 20\n",
    "df_tri_noparts.loc[df_tri_noparts['Q5#1_2']=='20+', 'Q5#1_2'] = 20\n",
    "df_tri_noparts.loc[df_tri_noparts['Q5#1_1']=='20+', 'Q5#1_1'] = 20\n",
    "\n",
    "df_tri_noparts.loc[df_tri_noparts['Q6#1_3']=='20+', 'Q6#1_3'] = 20\n",
    "df_tri_noparts.loc[df_tri_noparts['Q6#1_2']=='20+', 'Q6#1_2'] = 20\n",
    "df_tri_noparts.loc[df_tri_noparts['Q6#1_1']=='20+', 'Q6#1_1'] = 20"
   ]
  },
  {
   "cell_type": "code",
   "execution_count": 199,
   "id": "e6cc9232-b208-4ed3-85c5-982abc445dda",
   "metadata": {},
   "outputs": [],
   "source": [
    "# convert to numeric\n",
    "df_tri_noparts = df_tri_noparts.astype(int)"
   ]
  },
  {
   "cell_type": "code",
   "execution_count": 200,
   "id": "2a330055-c17e-4afe-919e-b1a8fd209571",
   "metadata": {},
   "outputs": [],
   "source": [
    "# divide certain columns by 10\n",
    "df_tri_noparts['Q10#1_1'] = df_tri_noparts['Q10#1_1'].apply(lambda x: x/10)\n",
    "df_tri_noparts['Q10#1_2'] = df_tri_noparts['Q10#1_2'].apply(lambda x: x/10)\n",
    "df_tri_noparts['Q10#1_3'] = df_tri_noparts['Q10#1_3'].apply(lambda x: x/10)\n",
    "df_tri_noparts['Q10#1_4'] = df_tri_noparts['Q10#1_4'].apply(lambda x: x/10)\n",
    "df_tri_noparts['Q11#1_1'] = df_tri_noparts['Q11#1_1'].apply(lambda x: x/10)\n",
    "df_tri_noparts['Q11#1_2'] = df_tri_noparts['Q11#1_2'].apply(lambda x: x/10)\n",
    "df_tri_noparts['Q11#1_3'] = df_tri_noparts['Q11#1_3'].apply(lambda x: x/10)\n",
    "df_tri_noparts['Q11#1_4'] = df_tri_noparts['Q11#1_4'].apply(lambda x: x/10)\n",
    "df_tri_noparts['Q7#1_1'] = df_tri_noparts['Q7#1_1'].apply(lambda x: x/10)\n",
    "df_tri_noparts['Q7#1_2'] = df_tri_noparts['Q7#1_2'].apply(lambda x: x/10)\n",
    "df_tri_noparts['Q7#1_3'] = df_tri_noparts['Q7#1_3'].apply(lambda x: x/10)\n",
    "df_tri_noparts['Q7#1_4'] = df_tri_noparts['Q7#1_4'].apply(lambda x: x/10)\n",
    "df_tri_noparts['Q8#1_1'] = df_tri_noparts['Q8#1_1'].apply(lambda x: x/10)\n",
    "df_tri_noparts['Q8#1_2'] = df_tri_noparts['Q8#1_2'].apply(lambda x: x/10)\n",
    "df_tri_noparts['Q8#1_3'] = df_tri_noparts['Q8#1_3'].apply(lambda x: x/10)\n",
    "df_tri_noparts['Q8#1_4'] = df_tri_noparts['Q8#1_4'].apply(lambda x: x/10)\n",
    "df_tri_noparts['Q9#1_1'] = df_tri_noparts['Q9#1_1'].apply(lambda x: x/10)\n",
    "df_tri_noparts['Q9#1_2'] = df_tri_noparts['Q9#1_2'].apply(lambda x: x/10)\n",
    "df_tri_noparts['Q9#1_3'] = df_tri_noparts['Q9#1_3'].apply(lambda x: x/10)\n",
    "df_tri_noparts['Q9#1_4'] = df_tri_noparts['Q9#1_4'].apply(lambda x: x/10)"
   ]
  },
  {
   "cell_type": "code",
   "execution_count": 201,
   "id": "ed38f053-f7bf-467c-9c84-88057c6bf4f6",
   "metadata": {},
   "outputs": [
    {
     "data": {
      "text/plain": [
       "(14843.966049630486, 0.0)"
      ]
     },
     "execution_count": 201,
     "metadata": {},
     "output_type": "execute_result"
    }
   ],
   "source": [
    "# Bartlett's Test, prints the chi square value and associated p-value\n",
    "df_array = df_tri_noparts.to_numpy()\n",
    "fa.calculate_bartlett_sphericity(df_array)"
   ]
  },
  {
   "cell_type": "code",
   "execution_count": 202,
   "id": "acfc5f74-51a2-44db-9b6b-250f92824b43",
   "metadata": {},
   "outputs": [
    {
     "data": {
      "text/plain": [
       "nan"
      ]
     },
     "execution_count": 202,
     "metadata": {},
     "output_type": "execute_result"
    }
   ],
   "source": [
    "fa.calculate_kmo(df_array)[1] # index of 1 returns the overall KMO value"
   ]
  },
  {
   "cell_type": "markdown",
   "id": "843e61fd-89c1-4297-bef4-763c6a9edba5",
   "metadata": {},
   "source": [
    "Scale all numeric columns"
   ]
  },
  {
   "cell_type": "code",
   "execution_count": 203,
   "id": "e1cd2797-9756-45a2-95e6-e59a16598e69",
   "metadata": {},
   "outputs": [],
   "source": [
    "from sklearn.preprocessing import StandardScaler\n",
    "num_cols = df_tri_noparts.columns[df_tri_noparts.dtypes.apply(lambda c: np.issubdtype(c, np.number))]\n",
    "scaler = StandardScaler()\n",
    "df_tri_noparts[num_cols] = scaler.fit_transform(df_tri_noparts[num_cols])"
   ]
  },
  {
   "cell_type": "code",
   "execution_count": 204,
   "id": "69151d98-8af5-4c9c-8ca4-ac07388d2334",
   "metadata": {},
   "outputs": [
    {
     "data": {
      "text/plain": [
       "False"
      ]
     },
     "execution_count": 204,
     "metadata": {},
     "output_type": "execute_result"
    }
   ],
   "source": [
    "df_tri_noparts.isnull().values.any()"
   ]
  },
  {
   "cell_type": "markdown",
   "id": "76156e45-75c9-478a-a067-aa8107a1f747",
   "metadata": {},
   "source": [
    "Project the data onto principal components:"
   ]
  },
  {
   "cell_type": "code",
   "execution_count": 205,
   "id": "1a1acd52-e2a9-4acc-b50e-bbd68e1320e7",
   "metadata": {},
   "outputs": [
    {
     "name": "stdout",
     "output_type": "stream",
     "text": [
      "number of components:  15\n"
     ]
    }
   ],
   "source": [
    "from sklearn.decomposition import PCA\n",
    "pca_blp = PCA(0.9)\n",
    "principalComponents_blp = pca_blp.fit_transform(df_tri_noparts)\n",
    "print(\"number of components: \", principalComponents_blp.shape[1])"
   ]
  },
  {
   "cell_type": "code",
   "execution_count": 254,
   "id": "e8c8dc2e-56b9-446a-8864-9fab5e0042c7",
   "metadata": {},
   "outputs": [
    {
     "data": {
      "image/png": "[encoded data removed]",
      "text/plain": [
       "<Figure size 432x288 with 1 Axes>"
      ]
     },
     "metadata": {
      "needs_background": "light"
     },
     "output_type": "display_data"
    }
   ],
   "source": [
    "PC_values = np.arange(pca_blp.n_components_) + 1\n",
    "tex_fonts = {\n",
    "    \"font.family\": \"serif\",\n",
    "    # Use 10pt font in plots, to match 10pt font in document\n",
    "    \"axes.labelsize\": 12,\n",
    "    \"font.size\": 10,\n",
    "    # Make the legend/label fonts a little smaller\n",
    "    \"legend.fontsize\": 10,\n",
    "    \"xtick.labelsize\": 10,\n",
    "    \"ytick.labelsize\": 10\n",
    "}\n",
    "plt.rcParams.update(tex_fonts)\n",
    "plt.figure(figsize=(6,4))\n",
    "plt.plot(PC_values, pca_blp.explained_variance_ratio_, 'o-', linewidth=2, color='blue')\n",
    "plt.title('Scree Plot')\n",
    "plt.xlabel('Principal Component')\n",
    "plt.ylabel('Variance Explained')\n",
    "plt.savefig('figures/scree.jpg', format='jpg', dpi = 800)\n",
    "plt.show()"
   ]
  },
  {
   "cell_type": "markdown",
   "id": "1f025118-7dd5-4005-ae7a-1af44eba5cc5",
   "metadata": {},
   "source": [
    "According to the scree plot above, only 2 principal components should be used."
   ]
  },
  {
   "cell_type": "code",
   "execution_count": 176,
   "id": "326518a2-b39b-4793-8237-b959b45c9b7f",
   "metadata": {},
   "outputs": [],
   "source": [
    "pca_blp = PCA(n_components = 2)\n",
    "principalComponents_blp = pca_blp.fit_transform(df_tri_noparts)"
   ]
  },
  {
   "cell_type": "code",
   "execution_count": 177,
   "id": "a8d97660-a73b-4e08-ba0a-c8f3e2c95982",
   "metadata": {},
   "outputs": [
    {
     "name": "stdout",
     "output_type": "stream",
     "text": [
      "Explained variation per principal component: [0.40360365 0.1031545 ]\n"
     ]
    }
   ],
   "source": [
    "principal_blp_df = pd.DataFrame(data = principalComponents_blp,\n",
    "                                columns = ['pc1', 'pc2'])\n",
    "print('Explained variation per principal component: {}'.format(pca_blp.explained_variance_ratio_))"
   ]
  },
  {
   "cell_type": "markdown",
   "id": "5b34363b-51c6-41ac-8c4f-6ebeb55874ee",
   "metadata": {},
   "source": [
    "Put partIDs back in."
   ]
  },
  {
   "cell_type": "code",
   "execution_count": 178,
   "id": "a329478d-173f-47b1-acf2-139a9d53ea00",
   "metadata": {},
   "outputs": [],
   "source": [
    "principal_blp_df = principal_blp_df.join(df_tri['partID'])"
   ]
  },
  {
   "cell_type": "code",
   "execution_count": 179,
   "id": "7b24ce84-2fa9-45eb-8d21-37775f594b10",
   "metadata": {},
   "outputs": [
    {
     "data": {
      "text/html": [
       "<div>\n",
       "<style scoped>\n",
       "    .dataframe tbody tr th:only-of-type {\n",
       "        vertical-align: middle;\n",
       "    }\n",
       "\n",
       "    .dataframe tbody tr th {\n",
       "        vertical-align: top;\n",
       "    }\n",
       "\n",
       "    .dataframe thead th {\n",
       "        text-align: right;\n",
       "    }\n",
       "</style>\n",
       "<table border=\"1\" class=\"dataframe\">\n",
       "  <thead>\n",
       "    <tr style=\"text-align: right;\">\n",
       "      <th></th>\n",
       "      <th>pc1</th>\n",
       "      <th>pc2</th>\n",
       "      <th>partID</th>\n",
       "    </tr>\n",
       "  </thead>\n",
       "  <tbody>\n",
       "    <tr>\n",
       "      <th>0</th>\n",
       "      <td>4.932414</td>\n",
       "      <td>-1.595612</td>\n",
       "      <td>eir057</td>\n",
       "    </tr>\n",
       "    <tr>\n",
       "      <th>1</th>\n",
       "      <td>5.450197</td>\n",
       "      <td>-0.136048</td>\n",
       "      <td>dis022</td>\n",
       "    </tr>\n",
       "    <tr>\n",
       "      <th>2</th>\n",
       "      <td>3.361367</td>\n",
       "      <td>-2.325886</td>\n",
       "      <td>irm067</td>\n",
       "    </tr>\n",
       "    <tr>\n",
       "      <th>3</th>\n",
       "      <td>6.165044</td>\n",
       "      <td>2.991184</td>\n",
       "      <td>afs116</td>\n",
       "    </tr>\n",
       "    <tr>\n",
       "      <th>4</th>\n",
       "      <td>3.892734</td>\n",
       "      <td>-2.726815</td>\n",
       "      <td>nir048</td>\n",
       "    </tr>\n",
       "  </tbody>\n",
       "</table>\n",
       "</div>"
      ],
      "text/plain": [
       "        pc1       pc2  partID\n",
       "0  4.932414 -1.595612  eir057\n",
       "1  5.450197 -0.136048  dis022\n",
       "2  3.361367 -2.325886  irm067\n",
       "3  6.165044  2.991184  afs116\n",
       "4  3.892734 -2.726815  nir048"
      ]
     },
     "execution_count": 179,
     "metadata": {},
     "output_type": "execute_result"
    }
   ],
   "source": [
    "principal_blp_df.head()"
   ]
  },
  {
   "cell_type": "code",
   "execution_count": 215,
   "id": "264461e3-35d1-44c8-baa6-87f7f7ebbd94",
   "metadata": {},
   "outputs": [
    {
     "data": {
      "text/html": [
       "<div>\n",
       "<style scoped>\n",
       "    .dataframe tbody tr th:only-of-type {\n",
       "        vertical-align: middle;\n",
       "    }\n",
       "\n",
       "    .dataframe tbody tr th {\n",
       "        vertical-align: top;\n",
       "    }\n",
       "\n",
       "    .dataframe thead th {\n",
       "        text-align: right;\n",
       "    }\n",
       "</style>\n",
       "<table border=\"1\" class=\"dataframe\">\n",
       "  <thead>\n",
       "    <tr style=\"text-align: right;\">\n",
       "      <th></th>\n",
       "      <th>pc1</th>\n",
       "      <th>pc2</th>\n",
       "      <th>partID</th>\n",
       "      <th>lang_profile</th>\n",
       "    </tr>\n",
       "  </thead>\n",
       "  <tbody>\n",
       "    <tr>\n",
       "      <th>0</th>\n",
       "      <td>4.932414</td>\n",
       "      <td>-1.595612</td>\n",
       "      <td>eir057</td>\n",
       "      <td>l1_eng</td>\n",
       "    </tr>\n",
       "    <tr>\n",
       "      <th>1</th>\n",
       "      <td>5.450197</td>\n",
       "      <td>-0.136048</td>\n",
       "      <td>dis022</td>\n",
       "      <td>l1_eng</td>\n",
       "    </tr>\n",
       "    <tr>\n",
       "      <th>2</th>\n",
       "      <td>3.361367</td>\n",
       "      <td>-2.325886</td>\n",
       "      <td>irm067</td>\n",
       "      <td>l1_eng</td>\n",
       "    </tr>\n",
       "    <tr>\n",
       "      <th>3</th>\n",
       "      <td>6.165044</td>\n",
       "      <td>2.991184</td>\n",
       "      <td>afs116</td>\n",
       "      <td>l1_eng</td>\n",
       "    </tr>\n",
       "    <tr>\n",
       "      <th>4</th>\n",
       "      <td>3.892734</td>\n",
       "      <td>-2.726815</td>\n",
       "      <td>nir048</td>\n",
       "      <td>l1_eng</td>\n",
       "    </tr>\n",
       "  </tbody>\n",
       "</table>\n",
       "</div>"
      ],
      "text/plain": [
       "        pc1       pc2  partID lang_profile\n",
       "0  4.932414 -1.595612  eir057       l1_eng\n",
       "1  5.450197 -0.136048  dis022       l1_eng\n",
       "2  3.361367 -2.325886  irm067       l1_eng\n",
       "3  6.165044  2.991184  afs116       l1_eng\n",
       "4  3.892734 -2.726815  nir048       l1_eng"
      ]
     },
     "execution_count": 215,
     "metadata": {},
     "output_type": "execute_result"
    }
   ],
   "source": [
    "# join with language profile\n",
    "principal_blp_df = principal_blp_df.merge(parts, on = \"partID\", how = \"left\")\n",
    "principal_blp_df.head()"
   ]
  },
  {
   "cell_type": "code",
   "execution_count": 255,
   "id": "acb6d9eb-7c10-4ddd-891d-7c9ac4e0d88b",
   "metadata": {},
   "outputs": [
    {
     "data": {
      "image/png": "[encoded data removed]",
      "text/plain": [
       "<Figure size 576x432 with 1 Axes>"
      ]
     },
     "metadata": {
      "needs_background": "light"
     },
     "output_type": "display_data"
    }
   ],
   "source": [
    "tex_fonts = {\n",
    "    \"font.family\": \"serif\",\n",
    "    # Use 10pt font in plots, to match 10pt font in document\n",
    "    \"axes.labelsize\": 12,\n",
    "    \"font.size\": 10,\n",
    "    # Make the legend/label fonts a little smaller\n",
    "    \"legend.fontsize\": 10,\n",
    "    \"xtick.labelsize\": 10,\n",
    "    \"ytick.labelsize\": 10\n",
    "}\n",
    "plt.rcParams.update(tex_fonts)\n",
    "plt.figure(figsize = (8,6))\n",
    "labels = {\"l1_eng\": \"L1 English\", \"l3_eng\": \"L3 English\"}\n",
    "fig = sns.scatterplot(x = principal_blp_df.pc1, y = principal_blp_df.pc2,\n",
    "                hue = principal_blp_df.lang_profile.map(labels))\n",
    "plt.xlabel(\"Principal Component 1\")\n",
    "plt.ylabel(\"Principal Component 2\")\n",
    "plt.legend(title = \"Language Profile\")\n",
    "plt.savefig(\"figures/pca_colors.jpg\", format = \"jpg\", dpi = 800)\n",
    "plt.show();"
   ]
  },
  {
   "cell_type": "code",
   "execution_count": 180,
   "id": "aca1bc5d-18d8-49df-ac02-9c304a1ca114",
   "metadata": {},
   "outputs": [],
   "source": [
    "principal_blp_df.to_csv(\"../blp/data/pca_blp.csv\", index = None)"
   ]
  },
  {
   "cell_type": "markdown",
   "id": "96aa5041-767b-4b3d-9463-bd25349c7c76",
   "metadata": {},
   "source": [
    "Attempt to interpret loadings by calculating correlation between original variables and each principal component."
   ]
  },
  {
   "cell_type": "code",
   "execution_count": 181,
   "id": "742af32a-7988-4dc1-a6e1-b3385a748eff",
   "metadata": {},
   "outputs": [
    {
     "data": {
      "text/html": [
       "<div>\n",
       "<style scoped>\n",
       "    .dataframe tbody tr th:only-of-type {\n",
       "        vertical-align: middle;\n",
       "    }\n",
       "\n",
       "    .dataframe tbody tr th {\n",
       "        vertical-align: top;\n",
       "    }\n",
       "\n",
       "    .dataframe thead th {\n",
       "        text-align: right;\n",
       "    }\n",
       "</style>\n",
       "<table border=\"1\" class=\"dataframe\">\n",
       "  <thead>\n",
       "    <tr style=\"text-align: right;\">\n",
       "      <th></th>\n",
       "      <th>PC1</th>\n",
       "      <th>PC2</th>\n",
       "    </tr>\n",
       "  </thead>\n",
       "  <tbody>\n",
       "    <tr>\n",
       "      <th>Q1#1_1</th>\n",
       "      <td>0.834870</td>\n",
       "      <td>0.061767</td>\n",
       "    </tr>\n",
       "    <tr>\n",
       "      <th>Q1#1_2</th>\n",
       "      <td>0.944522</td>\n",
       "      <td>-0.014524</td>\n",
       "    </tr>\n",
       "    <tr>\n",
       "      <th>Q1#1_3</th>\n",
       "      <td>-0.818107</td>\n",
       "      <td>0.036504</td>\n",
       "    </tr>\n",
       "    <tr>\n",
       "      <th>Q10#1_1</th>\n",
       "      <td>-0.184509</td>\n",
       "      <td>-0.590207</td>\n",
       "    </tr>\n",
       "    <tr>\n",
       "      <th>Q10#1_2</th>\n",
       "      <td>-0.698817</td>\n",
       "      <td>0.422359</td>\n",
       "    </tr>\n",
       "    <tr>\n",
       "      <th>...</th>\n",
       "      <td>...</td>\n",
       "      <td>...</td>\n",
       "    </tr>\n",
       "    <tr>\n",
       "      <th>Q8#1_4</th>\n",
       "      <td>0.195186</td>\n",
       "      <td>-0.057447</td>\n",
       "    </tr>\n",
       "    <tr>\n",
       "      <th>Q9#1_1</th>\n",
       "      <td>-0.073707</td>\n",
       "      <td>-0.096629</td>\n",
       "    </tr>\n",
       "    <tr>\n",
       "      <th>Q9#1_2</th>\n",
       "      <td>-0.458477</td>\n",
       "      <td>0.565779</td>\n",
       "    </tr>\n",
       "    <tr>\n",
       "      <th>Q9#1_3</th>\n",
       "      <td>0.204448</td>\n",
       "      <td>-0.180401</td>\n",
       "    </tr>\n",
       "    <tr>\n",
       "      <th>Q9#1_4</th>\n",
       "      <td>0.226832</td>\n",
       "      <td>-0.279002</td>\n",
       "    </tr>\n",
       "  </tbody>\n",
       "</table>\n",
       "<p>62 rows × 2 columns</p>\n",
       "</div>"
      ],
      "text/plain": [
       "              PC1       PC2\n",
       "Q1#1_1   0.834870  0.061767\n",
       "Q1#1_2   0.944522 -0.014524\n",
       "Q1#1_3  -0.818107  0.036504\n",
       "Q10#1_1 -0.184509 -0.590207\n",
       "Q10#1_2 -0.698817  0.422359\n",
       "...           ...       ...\n",
       "Q8#1_4   0.195186 -0.057447\n",
       "Q9#1_1  -0.073707 -0.096629\n",
       "Q9#1_2  -0.458477  0.565779\n",
       "Q9#1_3   0.204448 -0.180401\n",
       "Q9#1_4   0.226832 -0.279002\n",
       "\n",
       "[62 rows x 2 columns]"
      ]
     },
     "execution_count": 181,
     "metadata": {},
     "output_type": "execute_result"
    }
   ],
   "source": [
    "loadings = pca_blp.components_.T * np.sqrt(pca_blp.explained_variance_)\n",
    "loading_matrix = pd.DataFrame(loadings, columns=['PC1', 'PC2'], index=df_tri_noparts.columns)\n",
    "loading_matrix"
   ]
  },
  {
   "cell_type": "code",
   "execution_count": 183,
   "id": "92bddf64-4fab-4f48-a00f-04fbcabc76a3",
   "metadata": {},
   "outputs": [],
   "source": [
    "loading_matrix.to_csv(\"data/loading_matrix.csv\")"
   ]
  },
  {
   "cell_type": "markdown",
   "id": "d7b268da-1dc1-454a-8fc1-11662f93afa0",
   "metadata": {},
   "source": [
    "Based on this loading matrix, we can make the following observations of which variables pattern strongly with each principal component:\n",
    "\n",
    "Principal Component 1 - more English\n",
    " - at what age did you learn Spanish\n",
    " - at what age did you learn Catalan\n",
    " - (NEGATIVE) at what age did you learn English\n",
    " - (NEGATIVE) frequency of self-talk in Catalan\n",
    " - frequency of self-talk in English\n",
    " - (NEGATIVE) frequency of counting in Catalan\n",
    " - frequency of counting in English\n",
    " - (NEGATIVE) how well you speak Spanish\n",
    " - (NEGATIVE) how well you speak Catalan\n",
    " - how well you speak English\n",
    " - (NEGATIVE) listening in Spanish\n",
    " - (NEGATIVE) listening in Catalan\n",
    " - listening in English\n",
    " - (NEGATIVE) reading in Spanish\n",
    " - (NEGATIVE) reading in Catalan\n",
    " - reading in English\n",
    " - (NEGATIVE) writing in Spanish\n",
    " - (NEGATIVE) writing in Catalan\n",
    " - writing in English\n",
    " - (NEGATIVE) feel like oneself in Catalan\n",
    " - feel like oneself in English\n",
    " - (NEGATIVE) identify with Catalan culture\n",
    " - identify with English culture\n",
    " - (NEGATIVE) use Catalan like native speaker\n",
    " - (NEGATIVE) be perceived as native in Catalan\n",
    " - age of comfort in Spanish\n",
    " - age of comfort in Catalan\n",
    " - (NEGATIVE) age of comfort in English\n",
    " - (NEGATIVE) years of study in Spanish\n",
    " - (NEGATIVE) years of study in Catalan\n",
    " - years of study in English\n",
    " - (NEGATIVE) years in Spanish region\n",
    " - (NEGATIVE) years in Catalan region\n",
    " - years in English region\n",
    " - (NEGATIVE) years in Spanish family\n",
    " - (NEGATIVE) years in Catalan family\n",
    " - years in English family\n",
    " - (NEGATIVE) years in Spanish workplace\n",
    " - (NEGATIVE) years in Catalan workplace\n",
    " - years in English workplace\n",
    " - (NEGATIVE) frequency Catalan with friends\n",
    " - frequency English with friends\n",
    " - (NEGATIVE) frequency Catalan with family\n",
    " - frequency English with family\n",
    " - (NEGATIVE) frequency Catalan at work\n",
    " - L1 English profile\n",
    " - (NEGATIVE) L3 English profile\n",
    "\n",
    "Principal Component 2 - more Catalan\n",
    " - (NEGATIVE) frequency of self-talk in Spanish\n",
    " - (NEGATIVE) frequency of counting in Spanish\n",
    " - (NEGATIVE) how well you speak Spanish\n",
    " - (NEGATIVE) listening in Spanish\n",
    " - (NEGATIVE) reading in Spanish\n",
    " - (NEGATIVE) writing in Spanish\n",
    " - (NEGATIVE) feel like oneself in Spanish\n",
    " - (NEGATIVE) identify with Spanish culture\n",
    " - (NEGATIVE) use Spanish like native speaker\n",
    " - (NEGATIVE) be perceived as native in Spanish\n",
    " - (NEGATIVE) frequency Spanish with friends\n",
    " - frequency Catalan with friends\n",
    " - (NEGATIVE) frequency Spanish with family\n",
    " - frequency Catalan with family\n",
    " - frequency Catalan at work"
   ]
  },
  {
   "cell_type": "code",
   "execution_count": null,
   "id": "c03d5757-21c0-4062-a84c-dd712ca4a322",
   "metadata": {},
   "outputs": [],
   "source": []
  }
 ],
 "metadata": {
  "kernelspec": {
   "display_name": "Python 3",
   "language": "python",
   "name": "python3"
  },
  "language_info": {
   "codemirror_mode": {
    "name": "ipython",
    "version": 3
   },
   "file_extension": ".py",
   "mimetype": "text/x-python",
   "name": "python",
   "nbconvert_exporter": "python",
   "pygments_lexer": "ipython3",
   "version": "3.8.8"
  }
 },
 "nbformat": 4,
 "nbformat_minor": 5
}
