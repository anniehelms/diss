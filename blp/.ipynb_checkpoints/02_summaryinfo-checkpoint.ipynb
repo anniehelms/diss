{
 "cells": [
  {
   "cell_type": "markdown",
   "id": "124ac5b8-4a04-4154-8768-2c3406b5b2c4",
   "metadata": {},
   "source": [
    "# Summary info about the trilingual participants"
   ]
  },
  {
   "cell_type": "code",
   "execution_count": 1,
   "id": "dfd228e8-b28b-4950-b61d-c713cca68747",
   "metadata": {},
   "outputs": [],
   "source": [
    "import pandas as pd"
   ]
  },
  {
   "cell_type": "code",
   "execution_count": 88,
   "id": "567ed0cb-08ce-4526-997b-64f6d1e4319d",
   "metadata": {},
   "outputs": [
    {
     "data": {
      "text/plain": [
       "109"
      ]
     },
     "execution_count": 88,
     "metadata": {},
     "output_type": "execute_result"
    }
   ],
   "source": [
    "df_full = pd.read_csv(\"data/blp_cleaned.csv\")\n",
    "len(df_full)"
   ]
  },
  {
   "cell_type": "markdown",
   "id": "0fdb89ad-9d1f-4296-8c14-c58c4c85c36b",
   "metadata": {},
   "source": [
    "Pass the list of partIDs that completed the three language tasks and TEMPORARILY drop Laia since she has some missing data."
   ]
  },
  {
   "cell_type": "code",
   "execution_count": 89,
   "id": "46c37396-f08c-4b17-8047-68cc5426c6d8",
   "metadata": {},
   "outputs": [
    {
     "data": {
      "text/html": [
       "<div>\n",
       "<style scoped>\n",
       "    .dataframe tbody tr th:only-of-type {\n",
       "        vertical-align: middle;\n",
       "    }\n",
       "\n",
       "    .dataframe tbody tr th {\n",
       "        vertical-align: top;\n",
       "    }\n",
       "\n",
       "    .dataframe thead th {\n",
       "        text-align: right;\n",
       "    }\n",
       "</style>\n",
       "<table border=\"1\" class=\"dataframe\">\n",
       "  <thead>\n",
       "    <tr style=\"text-align: right;\">\n",
       "      <th></th>\n",
       "      <th>partID</th>\n",
       "    </tr>\n",
       "  </thead>\n",
       "  <tbody>\n",
       "    <tr>\n",
       "      <th>0</th>\n",
       "      <td>anm099</td>\n",
       "    </tr>\n",
       "    <tr>\n",
       "      <th>1</th>\n",
       "      <td>acj047</td>\n",
       "    </tr>\n",
       "  </tbody>\n",
       "</table>\n",
       "</div>"
      ],
      "text/plain": [
       "   partID\n",
       "0  anm099\n",
       "1  acj047"
      ]
     },
     "execution_count": 89,
     "metadata": {},
     "output_type": "execute_result"
    }
   ],
   "source": [
    "parts = pd.read_csv(\"data/parts.csv\")\n",
    "parts.head(2)"
   ]
  },
  {
   "cell_type": "code",
   "execution_count": 90,
   "id": "2ebbf5ff-ead4-44fb-902c-a10cb27ee563",
   "metadata": {},
   "outputs": [
    {
     "data": {
      "text/plain": [
       "64"
      ]
     },
     "execution_count": 90,
     "metadata": {},
     "output_type": "execute_result"
    }
   ],
   "source": [
    "df = df_full[df_full['partID'].isin(parts['partID'])].copy()\n",
    "df = df[df['partID']!='arc140'].copy()\n",
    "len(df)"
   ]
  },
  {
   "cell_type": "code",
   "execution_count": 91,
   "id": "e1b33d55-66dd-46d1-960b-c3a05ef24838",
   "metadata": {},
   "outputs": [
    {
     "data": {
      "text/html": [
       "<div>\n",
       "<style scoped>\n",
       "    .dataframe tbody tr th:only-of-type {\n",
       "        vertical-align: middle;\n",
       "    }\n",
       "\n",
       "    .dataframe tbody tr th {\n",
       "        vertical-align: top;\n",
       "    }\n",
       "\n",
       "    .dataframe thead th {\n",
       "        text-align: right;\n",
       "    }\n",
       "</style>\n",
       "<table border=\"1\" class=\"dataframe\">\n",
       "  <thead>\n",
       "    <tr style=\"text-align: right;\">\n",
       "      <th></th>\n",
       "      <th>Age</th>\n",
       "      <th>Education</th>\n",
       "      <th>Education_6_TEXT</th>\n",
       "      <th>Finished</th>\n",
       "      <th>Gender</th>\n",
       "      <th>Q1#1_1</th>\n",
       "      <th>Q1#1_2</th>\n",
       "      <th>Q1#1_3</th>\n",
       "      <th>Q10#1_1</th>\n",
       "      <th>Q10#1_2</th>\n",
       "      <th>...</th>\n",
       "      <th>Q8#1_2</th>\n",
       "      <th>Q8#1_3</th>\n",
       "      <th>Q8#1_4</th>\n",
       "      <th>Q9#1_1</th>\n",
       "      <th>Q9#1_2</th>\n",
       "      <th>Q9#1_3</th>\n",
       "      <th>Q9#1_4</th>\n",
       "      <th>Residence</th>\n",
       "      <th>prof</th>\n",
       "      <th>lang_profile</th>\n",
       "    </tr>\n",
       "  </thead>\n",
       "  <tbody>\n",
       "    <tr>\n",
       "      <th>1</th>\n",
       "      <td>69</td>\n",
       "      <td>College</td>\n",
       "      <td>NaN</td>\n",
       "      <td>True</td>\n",
       "      <td>Female</td>\n",
       "      <td>NaN</td>\n",
       "      <td>NaN</td>\n",
       "      <td>NaN</td>\n",
       "      <td>NaN</td>\n",
       "      <td>NaN</td>\n",
       "      <td>...</td>\n",
       "      <td>NaN</td>\n",
       "      <td>NaN</td>\n",
       "      <td>NaN</td>\n",
       "      <td>NaN</td>\n",
       "      <td>NaN</td>\n",
       "      <td>NaN</td>\n",
       "      <td>NaN</td>\n",
       "      <td>California</td>\n",
       "      <td>I am a monolingual speaker of English (I only ...</td>\n",
       "      <td>mono</td>\n",
       "    </tr>\n",
       "    <tr>\n",
       "      <th>2</th>\n",
       "      <td>61</td>\n",
       "      <td>Doctorate</td>\n",
       "      <td>NaN</td>\n",
       "      <td>True</td>\n",
       "      <td>Female</td>\n",
       "      <td>NaN</td>\n",
       "      <td>NaN</td>\n",
       "      <td>NaN</td>\n",
       "      <td>NaN</td>\n",
       "      <td>NaN</td>\n",
       "      <td>...</td>\n",
       "      <td>NaN</td>\n",
       "      <td>NaN</td>\n",
       "      <td>NaN</td>\n",
       "      <td>NaN</td>\n",
       "      <td>NaN</td>\n",
       "      <td>NaN</td>\n",
       "      <td>NaN</td>\n",
       "      <td>Texas</td>\n",
       "      <td>I am a monolingual speaker of English (I only ...</td>\n",
       "      <td>mono</td>\n",
       "    </tr>\n",
       "    <tr>\n",
       "      <th>3</th>\n",
       "      <td>62</td>\n",
       "      <td>Doctorate</td>\n",
       "      <td>NaN</td>\n",
       "      <td>True</td>\n",
       "      <td>Male</td>\n",
       "      <td>NaN</td>\n",
       "      <td>NaN</td>\n",
       "      <td>NaN</td>\n",
       "      <td>NaN</td>\n",
       "      <td>NaN</td>\n",
       "      <td>...</td>\n",
       "      <td>NaN</td>\n",
       "      <td>NaN</td>\n",
       "      <td>NaN</td>\n",
       "      <td>NaN</td>\n",
       "      <td>NaN</td>\n",
       "      <td>NaN</td>\n",
       "      <td>NaN</td>\n",
       "      <td>Texas</td>\n",
       "      <td>I am a monolingual speaker of English (I only ...</td>\n",
       "      <td>mono</td>\n",
       "    </tr>\n",
       "    <tr>\n",
       "      <th>5</th>\n",
       "      <td>30</td>\n",
       "      <td>Masters</td>\n",
       "      <td>NaN</td>\n",
       "      <td>True</td>\n",
       "      <td>Female</td>\n",
       "      <td>NaN</td>\n",
       "      <td>NaN</td>\n",
       "      <td>NaN</td>\n",
       "      <td>NaN</td>\n",
       "      <td>NaN</td>\n",
       "      <td>...</td>\n",
       "      <td>NaN</td>\n",
       "      <td>NaN</td>\n",
       "      <td>NaN</td>\n",
       "      <td>NaN</td>\n",
       "      <td>NaN</td>\n",
       "      <td>NaN</td>\n",
       "      <td>NaN</td>\n",
       "      <td>New York, USA</td>\n",
       "      <td>I am a monolingual speaker of English (I only ...</td>\n",
       "      <td>mono</td>\n",
       "    </tr>\n",
       "    <tr>\n",
       "      <th>6</th>\n",
       "      <td>25</td>\n",
       "      <td>College</td>\n",
       "      <td>NaN</td>\n",
       "      <td>True</td>\n",
       "      <td>Female</td>\n",
       "      <td>NaN</td>\n",
       "      <td>NaN</td>\n",
       "      <td>NaN</td>\n",
       "      <td>NaN</td>\n",
       "      <td>NaN</td>\n",
       "      <td>...</td>\n",
       "      <td>NaN</td>\n",
       "      <td>NaN</td>\n",
       "      <td>NaN</td>\n",
       "      <td>NaN</td>\n",
       "      <td>NaN</td>\n",
       "      <td>NaN</td>\n",
       "      <td>NaN</td>\n",
       "      <td>CA, USA</td>\n",
       "      <td>I am a monolingual speaker of English (I only ...</td>\n",
       "      <td>mono</td>\n",
       "    </tr>\n",
       "  </tbody>\n",
       "</table>\n",
       "<p>5 rows × 71 columns</p>\n",
       "</div>"
      ],
      "text/plain": [
       "  Age  Education Education_6_TEXT Finished  Gender Q1#1_1 Q1#1_2 Q1#1_3  \\\n",
       "1  69    College              NaN     True  Female    NaN    NaN    NaN   \n",
       "2  61  Doctorate              NaN     True  Female    NaN    NaN    NaN   \n",
       "3  62  Doctorate              NaN     True    Male    NaN    NaN    NaN   \n",
       "5  30    Masters              NaN     True  Female    NaN    NaN    NaN   \n",
       "6  25    College              NaN     True  Female    NaN    NaN    NaN   \n",
       "\n",
       "  Q10#1_1 Q10#1_2  ... Q8#1_2 Q8#1_3 Q8#1_4 Q9#1_1 Q9#1_2 Q9#1_3 Q9#1_4  \\\n",
       "1     NaN     NaN  ...    NaN    NaN    NaN    NaN    NaN    NaN    NaN   \n",
       "2     NaN     NaN  ...    NaN    NaN    NaN    NaN    NaN    NaN    NaN   \n",
       "3     NaN     NaN  ...    NaN    NaN    NaN    NaN    NaN    NaN    NaN   \n",
       "5     NaN     NaN  ...    NaN    NaN    NaN    NaN    NaN    NaN    NaN   \n",
       "6     NaN     NaN  ...    NaN    NaN    NaN    NaN    NaN    NaN    NaN   \n",
       "\n",
       "       Residence                                               prof  \\\n",
       "1     California  I am a monolingual speaker of English (I only ...   \n",
       "2          Texas  I am a monolingual speaker of English (I only ...   \n",
       "3          Texas  I am a monolingual speaker of English (I only ...   \n",
       "5  New York, USA  I am a monolingual speaker of English (I only ...   \n",
       "6        CA, USA  I am a monolingual speaker of English (I only ...   \n",
       "\n",
       "  lang_profile  \n",
       "1         mono  \n",
       "2         mono  \n",
       "3         mono  \n",
       "5         mono  \n",
       "6         mono  \n",
       "\n",
       "[5 rows x 71 columns]"
      ]
     },
     "execution_count": 91,
     "metadata": {},
     "output_type": "execute_result"
    }
   ],
   "source": [
    "df.head(5)"
   ]
  },
  {
   "cell_type": "markdown",
   "id": "a0809058-796d-450a-8991-8ab25615aecd",
   "metadata": {},
   "source": [
    "## Gender \n",
    "Breakdown by language profile and gender."
   ]
  },
  {
   "cell_type": "code",
   "execution_count": 92,
   "id": "cee6d952-eadc-4a54-9829-e35164086cb0",
   "metadata": {},
   "outputs": [
    {
     "data": {
      "text/plain": [
       "lang_profile  Gender\n",
       "l1_eng        Female    13\n",
       "              Male      10\n",
       "              Other      1\n",
       "l3_eng        Female    18\n",
       "              Male       7\n",
       "mono          Female     9\n",
       "              Male       5\n",
       "Name: Gender, dtype: int64"
      ]
     },
     "execution_count": 92,
     "metadata": {},
     "output_type": "execute_result"
    }
   ],
   "source": [
    "df.iloc[1:].groupby(['lang_profile', 'Gender']).Gender.count()"
   ]
  },
  {
   "cell_type": "markdown",
   "id": "b05487b8-3324-4878-a17c-04612ce409fe",
   "metadata": {},
   "source": [
    "## Age\n",
    "Breakdown by language profile and age."
   ]
  },
  {
   "cell_type": "code",
   "execution_count": 93,
   "id": "b5ec9afa-b5f1-4ff2-a476-122b7f386b66",
   "metadata": {},
   "outputs": [
    {
     "data": {
      "text/html": [
       "<div>\n",
       "<style scoped>\n",
       "    .dataframe tbody tr th:only-of-type {\n",
       "        vertical-align: middle;\n",
       "    }\n",
       "\n",
       "    .dataframe tbody tr th {\n",
       "        vertical-align: top;\n",
       "    }\n",
       "\n",
       "    .dataframe thead th {\n",
       "        text-align: right;\n",
       "    }\n",
       "</style>\n",
       "<table border=\"1\" class=\"dataframe\">\n",
       "  <thead>\n",
       "    <tr style=\"text-align: right;\">\n",
       "      <th></th>\n",
       "      <th>mean</th>\n",
       "      <th>std</th>\n",
       "    </tr>\n",
       "    <tr>\n",
       "      <th>lang_profile</th>\n",
       "      <th></th>\n",
       "      <th></th>\n",
       "    </tr>\n",
       "  </thead>\n",
       "  <tbody>\n",
       "    <tr>\n",
       "      <th>l1_eng</th>\n",
       "      <td>27.791667</td>\n",
       "      <td>6.372353</td>\n",
       "    </tr>\n",
       "    <tr>\n",
       "      <th>l3_eng</th>\n",
       "      <td>25.800000</td>\n",
       "      <td>7.566373</td>\n",
       "    </tr>\n",
       "    <tr>\n",
       "      <th>mono</th>\n",
       "      <td>34.214286</td>\n",
       "      <td>13.063034</td>\n",
       "    </tr>\n",
       "  </tbody>\n",
       "</table>\n",
       "</div>"
      ],
      "text/plain": [
       "                   mean        std\n",
       "lang_profile                      \n",
       "l1_eng        27.791667   6.372353\n",
       "l3_eng        25.800000   7.566373\n",
       "mono          34.214286  13.063034"
      ]
     },
     "execution_count": 93,
     "metadata": {},
     "output_type": "execute_result"
    }
   ],
   "source": [
    "df['Age'] = df['Age'].astype(\"int64\")\n",
    "df.iloc[1:].groupby(['lang_profile']).Age.agg(['mean', 'std'])"
   ]
  },
  {
   "cell_type": "code",
   "execution_count": 94,
   "id": "9d2d2a84-d7c4-4129-b7bc-348e2e25c2c7",
   "metadata": {},
   "outputs": [],
   "source": [
    "df = df[df['lang_profile']!=\"mono\"].copy()\n",
    "df = df.iloc[1:]"
   ]
  },
  {
   "cell_type": "markdown",
   "id": "11e5722c-6cb2-4e42-b8f9-f35c83c0172f",
   "metadata": {},
   "source": [
    "## Age of acquisition\n",
    "Get age of language acquisition, where `Q1#1_1` is age Spanish was acquired, `Q1#1_2` is age Catalan was acquired, and `Q1#1_3` is age English was acquired."
   ]
  },
  {
   "cell_type": "code",
   "execution_count": 95,
   "id": "30d49d5c-6df4-4ba0-8e6e-b68dd895efff",
   "metadata": {},
   "outputs": [
    {
     "data": {
      "text/plain": [
       "lang_profile  Q1#1_1       Q1#1_2       Q1#1_3     \n",
       "l1_eng        10           20+          Since birth    3\n",
       "              11           18           Since birth    1\n",
       "                           19           Since birth    1\n",
       "                           20+          Since birth    1\n",
       "              12           18           Since birth    1\n",
       "                           20+          Since birth    2\n",
       "              13           20+          Since birth    1\n",
       "              14           18           Since birth    1\n",
       "                           20+          Since birth    4\n",
       "              15           20+          Since birth    1\n",
       "              16           20+          Since birth    1\n",
       "              20+          20+          Since birth    1\n",
       "              7            20+          Since birth    1\n",
       "              8            19           Since birth    1\n",
       "                           20+          Since birth    1\n",
       "              9            19           Since birth    1\n",
       "              Since birth  20+          Since birth    1\n",
       "l3_eng        3            Since birth  3              1\n",
       "                                        5              1\n",
       "                                        8              1\n",
       "              4            Since birth  8              1\n",
       "              6            Since birth  6              2\n",
       "              Since birth  3            5              1\n",
       "                                        6              1\n",
       "                           Since birth  17             1\n",
       "                                        3              2\n",
       "                                        4              2\n",
       "                                        5              3\n",
       "                                        6              7\n",
       "                                        7              1\n",
       "                                        8              1\n",
       "Name: partID, dtype: int64"
      ]
     },
     "execution_count": 95,
     "metadata": {},
     "output_type": "execute_result"
    }
   ],
   "source": [
    "df.groupby(['lang_profile','Q1#1_1', 'Q1#1_2', 'Q1#1_3']).partID.count()"
   ]
  },
  {
   "cell_type": "markdown",
   "id": "13f42c78-d6ac-49f7-80c8-95d9f11fc8be",
   "metadata": {},
   "source": [
    "For both trilinguals, average age of acquisition of English:"
   ]
  },
  {
   "cell_type": "code",
   "execution_count": 96,
   "id": "64fd7002-e368-4233-90de-ca75bf2af642",
   "metadata": {},
   "outputs": [
    {
     "data": {
      "text/html": [
       "<div>\n",
       "<style scoped>\n",
       "    .dataframe tbody tr th:only-of-type {\n",
       "        vertical-align: middle;\n",
       "    }\n",
       "\n",
       "    .dataframe tbody tr th {\n",
       "        vertical-align: top;\n",
       "    }\n",
       "\n",
       "    .dataframe thead th {\n",
       "        text-align: right;\n",
       "    }\n",
       "</style>\n",
       "<table border=\"1\" class=\"dataframe\">\n",
       "  <thead>\n",
       "    <tr style=\"text-align: right;\">\n",
       "      <th></th>\n",
       "      <th>mean</th>\n",
       "      <th>std</th>\n",
       "    </tr>\n",
       "    <tr>\n",
       "      <th>lang_profile</th>\n",
       "      <th></th>\n",
       "      <th></th>\n",
       "    </tr>\n",
       "  </thead>\n",
       "  <tbody>\n",
       "    <tr>\n",
       "      <th>l1_eng</th>\n",
       "      <td>0</td>\n",
       "      <td>0.000000</td>\n",
       "    </tr>\n",
       "    <tr>\n",
       "      <th>l3_eng</th>\n",
       "      <td>6</td>\n",
       "      <td>2.692582</td>\n",
       "    </tr>\n",
       "  </tbody>\n",
       "</table>\n",
       "</div>"
      ],
      "text/plain": [
       "              mean       std\n",
       "lang_profile                \n",
       "l1_eng           0  0.000000\n",
       "l3_eng           6  2.692582"
      ]
     },
     "execution_count": 96,
     "metadata": {},
     "output_type": "execute_result"
    }
   ],
   "source": [
    "df.loc[df['Q1#1_3']=='Since birth', 'Q1#1_3'] = 0\n",
    "df.loc[df['Q1#1_2']=='Since birth', 'Q1#1_2'] = 0\n",
    "df.loc[df['Q1#1_1']=='Since birth', 'Q1#1_1'] = 0\n",
    "df['Q1#1_3'] = df['Q1#1_3'].astype('int64')\n",
    "df.groupby('lang_profile')['Q1#1_3'].agg(['mean', 'std'])"
   ]
  },
  {
   "cell_type": "code",
   "execution_count": 97,
   "id": "bc218748-82f8-4b6b-9ad5-ad5aa65e7dea",
   "metadata": {},
   "outputs": [],
   "source": [
    "l3 = df[df['lang_profile']==\"l3_eng\"].copy()\n",
    "l3['Q1#1_2'] = l3['Q1#1_2'].astype('int64')\n",
    "l3['Q1#1_1'] = l3['Q1#1_1'].astype('int64')"
   ]
  },
  {
   "cell_type": "markdown",
   "id": "5644d486-486a-449e-855b-4952280d6f85",
   "metadata": {},
   "source": [
    "For L3 English trilinguals, average (std) age of acquisition of Catalan:"
   ]
  },
  {
   "cell_type": "code",
   "execution_count": 98,
   "id": "1dad1c04-1333-4a7a-81a2-b5015853dad9",
   "metadata": {},
   "outputs": [
    {
     "data": {
      "text/html": [
       "<div>\n",
       "<style scoped>\n",
       "    .dataframe tbody tr th:only-of-type {\n",
       "        vertical-align: middle;\n",
       "    }\n",
       "\n",
       "    .dataframe tbody tr th {\n",
       "        vertical-align: top;\n",
       "    }\n",
       "\n",
       "    .dataframe thead th {\n",
       "        text-align: right;\n",
       "    }\n",
       "</style>\n",
       "<table border=\"1\" class=\"dataframe\">\n",
       "  <thead>\n",
       "    <tr style=\"text-align: right;\">\n",
       "      <th></th>\n",
       "      <th>mean</th>\n",
       "      <th>std</th>\n",
       "    </tr>\n",
       "    <tr>\n",
       "      <th>lang_profile</th>\n",
       "      <th></th>\n",
       "      <th></th>\n",
       "    </tr>\n",
       "  </thead>\n",
       "  <tbody>\n",
       "    <tr>\n",
       "      <th>l3_eng</th>\n",
       "      <td>0.24</td>\n",
       "      <td>0.830662</td>\n",
       "    </tr>\n",
       "  </tbody>\n",
       "</table>\n",
       "</div>"
      ],
      "text/plain": [
       "              mean       std\n",
       "lang_profile                \n",
       "l3_eng        0.24  0.830662"
      ]
     },
     "execution_count": 98,
     "metadata": {},
     "output_type": "execute_result"
    }
   ],
   "source": [
    "l3.groupby('lang_profile')['Q1#1_2'].agg(['mean', 'std'])"
   ]
  },
  {
   "cell_type": "markdown",
   "id": "1dcd9bae-93a0-4158-afed-d5ff51d640f7",
   "metadata": {},
   "source": [
    "For L3 English trilinguals, average (std) age of acquisition of Spanish:"
   ]
  },
  {
   "cell_type": "code",
   "execution_count": 99,
   "id": "b841bfc3-a912-4e4e-9972-6e638f32e788",
   "metadata": {},
   "outputs": [
    {
     "data": {
      "text/html": [
       "<div>\n",
       "<style scoped>\n",
       "    .dataframe tbody tr th:only-of-type {\n",
       "        vertical-align: middle;\n",
       "    }\n",
       "\n",
       "    .dataframe tbody tr th {\n",
       "        vertical-align: top;\n",
       "    }\n",
       "\n",
       "    .dataframe thead th {\n",
       "        text-align: right;\n",
       "    }\n",
       "</style>\n",
       "<table border=\"1\" class=\"dataframe\">\n",
       "  <thead>\n",
       "    <tr style=\"text-align: right;\">\n",
       "      <th></th>\n",
       "      <th>mean</th>\n",
       "      <th>std</th>\n",
       "    </tr>\n",
       "    <tr>\n",
       "      <th>lang_profile</th>\n",
       "      <th></th>\n",
       "      <th></th>\n",
       "    </tr>\n",
       "  </thead>\n",
       "  <tbody>\n",
       "    <tr>\n",
       "      <th>l3_eng</th>\n",
       "      <td>1</td>\n",
       "      <td>1.936492</td>\n",
       "    </tr>\n",
       "  </tbody>\n",
       "</table>\n",
       "</div>"
      ],
      "text/plain": [
       "              mean       std\n",
       "lang_profile                \n",
       "l3_eng           1  1.936492"
      ]
     },
     "execution_count": 99,
     "metadata": {},
     "output_type": "execute_result"
    }
   ],
   "source": [
    "l3.groupby('lang_profile')['Q1#1_1'].agg(['mean', 'std'])"
   ]
  },
  {
   "cell_type": "markdown",
   "id": "a7645603-9527-433b-9894-d4b2c8157b6d",
   "metadata": {},
   "source": [
    "For L1 English trilinguals, average (std) age of acquisition of Spanish (excepting the one participant who learned Spanish at 20+ years):"
   ]
  },
  {
   "cell_type": "code",
   "execution_count": 100,
   "id": "a225401a-7168-40bf-82eb-ecba09c5e567",
   "metadata": {},
   "outputs": [
    {
     "data": {
      "text/html": [
       "<div>\n",
       "<style scoped>\n",
       "    .dataframe tbody tr th:only-of-type {\n",
       "        vertical-align: middle;\n",
       "    }\n",
       "\n",
       "    .dataframe tbody tr th {\n",
       "        vertical-align: top;\n",
       "    }\n",
       "\n",
       "    .dataframe thead th {\n",
       "        text-align: right;\n",
       "    }\n",
       "</style>\n",
       "<table border=\"1\" class=\"dataframe\">\n",
       "  <thead>\n",
       "    <tr style=\"text-align: right;\">\n",
       "      <th></th>\n",
       "      <th>mean</th>\n",
       "      <th>std</th>\n",
       "    </tr>\n",
       "    <tr>\n",
       "      <th>lang_profile</th>\n",
       "      <th></th>\n",
       "      <th></th>\n",
       "    </tr>\n",
       "  </thead>\n",
       "  <tbody>\n",
       "    <tr>\n",
       "      <th>l1_eng</th>\n",
       "      <td>11.136364</td>\n",
       "      <td>3.481864</td>\n",
       "    </tr>\n",
       "  </tbody>\n",
       "</table>\n",
       "</div>"
      ],
      "text/plain": [
       "                   mean       std\n",
       "lang_profile                     \n",
       "l1_eng        11.136364  3.481864"
      ]
     },
     "execution_count": 100,
     "metadata": {},
     "output_type": "execute_result"
    }
   ],
   "source": [
    "l1 = df[df['lang_profile']==\"l1_eng\"].copy()\n",
    "temp = l1[l1['Q1#1_1']!=\"20+\"].copy()\n",
    "temp['Q1#1_1'] = temp['Q1#1_1'].astype('int64')\n",
    "temp.groupby('lang_profile')['Q1#1_1'].agg(['mean', 'std'])"
   ]
  },
  {
   "cell_type": "markdown",
   "id": "ade29415-d262-4f69-aff6-ce7fc7c59326",
   "metadata": {},
   "source": [
    "## Age of comfort"
   ]
  },
  {
   "cell_type": "code",
   "execution_count": 101,
   "id": "a1f19154-f8b3-4f7c-ad9e-fcdf90c85d89",
   "metadata": {},
   "outputs": [
    {
     "data": {
      "text/plain": [
       "lang_profile  Q2#1_1  Q2#1_2                 Q2#1_3               \n",
       "l1_eng        0       20+                    0                        1\n",
       "              11      20+                    0                        1\n",
       "              16      20+                    0                        2\n",
       "                      Still not comfortable  0                        1\n",
       "              17      20+                    0                        4\n",
       "                      Still not comfortable  0                        1\n",
       "              18      19                     0                        1\n",
       "                      20+                    0                        2\n",
       "                                             5                        1\n",
       "              20+     20+                    0                        6\n",
       "                      Still not comfortable  0                        3\n",
       "l3_eng        0       0                      12                       2\n",
       "                                             13                       2\n",
       "                                             14                       3\n",
       "                                             15                       1\n",
       "                                             16                       4\n",
       "                                             17                       2\n",
       "                                             20+                      2\n",
       "                      18                     8                        1\n",
       "                      3                      6                        1\n",
       "                      7                      12                       1\n",
       "              10      0                      Still not comfortable    1\n",
       "              14      0                      18                       1\n",
       "              19      0                      20+                      1\n",
       "              8       0                      12                       1\n",
       "                                             15                       1\n",
       "              9       0                      7                        1\n",
       "Name: partID, dtype: int64"
      ]
     },
     "execution_count": 101,
     "metadata": {},
     "output_type": "execute_result"
    }
   ],
   "source": [
    "df.loc[df['Q2#1_1']=='As early as I can remember', 'Q2#1_1'] = 0\n",
    "df.loc[df['Q2#1_2']=='As early as I can remember', 'Q2#1_2'] = 0\n",
    "df.loc[df['Q2#1_3']=='As early as I can remember', 'Q2#1_3'] = 0\n",
    "df.groupby(['lang_profile','Q2#1_1', 'Q2#1_2', 'Q2#1_3']).partID.count()"
   ]
  },
  {
   "cell_type": "markdown",
   "id": "b38b08ab-17c5-4ce1-ba29-0664a4167c78",
   "metadata": {},
   "source": [
    "For L1 English trilinguals, average (std) age of comfort with Spanish (excepting the one participant who said 20+ years):"
   ]
  },
  {
   "cell_type": "code",
   "execution_count": 102,
   "id": "39ce0053-2e3f-4781-b684-2e6f968c5966",
   "metadata": {},
   "outputs": [
    {
     "data": {
      "text/html": [
       "<div>\n",
       "<style scoped>\n",
       "    .dataframe tbody tr th:only-of-type {\n",
       "        vertical-align: middle;\n",
       "    }\n",
       "\n",
       "    .dataframe tbody tr th {\n",
       "        vertical-align: top;\n",
       "    }\n",
       "\n",
       "    .dataframe thead th {\n",
       "        text-align: right;\n",
       "    }\n",
       "</style>\n",
       "<table border=\"1\" class=\"dataframe\">\n",
       "  <thead>\n",
       "    <tr style=\"text-align: right;\">\n",
       "      <th></th>\n",
       "      <th>mean</th>\n",
       "      <th>std</th>\n",
       "    </tr>\n",
       "    <tr>\n",
       "      <th>lang_profile</th>\n",
       "      <th></th>\n",
       "      <th></th>\n",
       "    </tr>\n",
       "  </thead>\n",
       "  <tbody>\n",
       "    <tr>\n",
       "      <th>l1_eng</th>\n",
       "      <td>15.428571</td>\n",
       "      <td>4.783212</td>\n",
       "    </tr>\n",
       "  </tbody>\n",
       "</table>\n",
       "</div>"
      ],
      "text/plain": [
       "                   mean       std\n",
       "lang_profile                     \n",
       "l1_eng        15.428571  4.783212"
      ]
     },
     "execution_count": 102,
     "metadata": {},
     "output_type": "execute_result"
    }
   ],
   "source": [
    "l1 = df[df['lang_profile']==\"l1_eng\"].copy()\n",
    "temp2 = l1[l1['Q2#1_1']!=\"20+\"].copy()\n",
    "temp2['Q2#1_1'] = temp2['Q2#1_1'].astype('int64')\n",
    "temp2.groupby('lang_profile')['Q2#1_1'].agg(['mean', 'std'])"
   ]
  },
  {
   "cell_type": "markdown",
   "id": "7439d437-142d-4dfd-952e-917594c20dfb",
   "metadata": {},
   "source": [
    "For L3 English trilinguals, average (std) age of comfort with English (excepting the three participants who said 20+ years and the one who said still not comfortable):"
   ]
  },
  {
   "cell_type": "code",
   "execution_count": 103,
   "id": "59a84a7e-c418-4be9-8709-03db1fe58c12",
   "metadata": {},
   "outputs": [
    {
     "data": {
      "text/html": [
       "<div>\n",
       "<style scoped>\n",
       "    .dataframe tbody tr th:only-of-type {\n",
       "        vertical-align: middle;\n",
       "    }\n",
       "\n",
       "    .dataframe tbody tr th {\n",
       "        vertical-align: top;\n",
       "    }\n",
       "\n",
       "    .dataframe thead th {\n",
       "        text-align: right;\n",
       "    }\n",
       "</style>\n",
       "<table border=\"1\" class=\"dataframe\">\n",
       "  <thead>\n",
       "    <tr style=\"text-align: right;\">\n",
       "      <th></th>\n",
       "      <th>mean</th>\n",
       "      <th>std</th>\n",
       "    </tr>\n",
       "    <tr>\n",
       "      <th>lang_profile</th>\n",
       "      <th></th>\n",
       "      <th></th>\n",
       "    </tr>\n",
       "  </thead>\n",
       "  <tbody>\n",
       "    <tr>\n",
       "      <th>l3_eng</th>\n",
       "      <td>13.47619</td>\n",
       "      <td>3.265257</td>\n",
       "    </tr>\n",
       "  </tbody>\n",
       "</table>\n",
       "</div>"
      ],
      "text/plain": [
       "                  mean       std\n",
       "lang_profile                    \n",
       "l3_eng        13.47619  3.265257"
      ]
     },
     "execution_count": 103,
     "metadata": {},
     "output_type": "execute_result"
    }
   ],
   "source": [
    "l3 = df[df['lang_profile']==\"l3_eng\"].copy()\n",
    "temp3 = l3[(l3['Q2#1_3']!=\"20+\") & (l3['Q2#1_3']!=\"Still not comfortable\")].copy()\n",
    "temp3['Q2#1_3'] = temp3['Q2#1_3'].astype('int64')\n",
    "temp3.groupby('lang_profile')['Q2#1_3'].agg(['mean', 'std'])"
   ]
  },
  {
   "cell_type": "markdown",
   "id": "5bc9a48f-e270-4005-84a5-40c578dcb0bd",
   "metadata": {},
   "source": [
    "For L3 English trilinguals, average (std) age of comfort with Spanish:"
   ]
  },
  {
   "cell_type": "code",
   "execution_count": 104,
   "id": "106952ee-58d8-479c-a1d5-66cff69ed5a4",
   "metadata": {},
   "outputs": [
    {
     "data": {
      "text/html": [
       "<div>\n",
       "<style scoped>\n",
       "    .dataframe tbody tr th:only-of-type {\n",
       "        vertical-align: middle;\n",
       "    }\n",
       "\n",
       "    .dataframe tbody tr th {\n",
       "        vertical-align: top;\n",
       "    }\n",
       "\n",
       "    .dataframe thead th {\n",
       "        text-align: right;\n",
       "    }\n",
       "</style>\n",
       "<table border=\"1\" class=\"dataframe\">\n",
       "  <thead>\n",
       "    <tr style=\"text-align: right;\">\n",
       "      <th></th>\n",
       "      <th>mean</th>\n",
       "      <th>std</th>\n",
       "    </tr>\n",
       "    <tr>\n",
       "      <th>lang_profile</th>\n",
       "      <th></th>\n",
       "      <th></th>\n",
       "    </tr>\n",
       "  </thead>\n",
       "  <tbody>\n",
       "    <tr>\n",
       "      <th>l3_eng</th>\n",
       "      <td>2.72</td>\n",
       "      <td>5.326975</td>\n",
       "    </tr>\n",
       "  </tbody>\n",
       "</table>\n",
       "</div>"
      ],
      "text/plain": [
       "              mean       std\n",
       "lang_profile                \n",
       "l3_eng        2.72  5.326975"
      ]
     },
     "execution_count": 104,
     "metadata": {},
     "output_type": "execute_result"
    }
   ],
   "source": [
    "l3['Q2#1_2'] = l3['Q2#1_2'].astype('int64')\n",
    "l3['Q2#1_1'] = l3['Q2#1_1'].astype('int64')\n",
    "l3.groupby('lang_profile')['Q2#1_1'].agg(['mean', 'std'])"
   ]
  },
  {
   "cell_type": "markdown",
   "id": "9aac2b81-330d-4cf9-81b4-4d4aa2b29a20",
   "metadata": {},
   "source": [
    "For L3 English trilinguals, average (std) age of comfort with Catalan:"
   ]
  },
  {
   "cell_type": "code",
   "execution_count": 105,
   "id": "91ac8702-3bf9-4a14-83ab-08f4b1419660",
   "metadata": {},
   "outputs": [
    {
     "data": {
      "text/html": [
       "<div>\n",
       "<style scoped>\n",
       "    .dataframe tbody tr th:only-of-type {\n",
       "        vertical-align: middle;\n",
       "    }\n",
       "\n",
       "    .dataframe tbody tr th {\n",
       "        vertical-align: top;\n",
       "    }\n",
       "\n",
       "    .dataframe thead th {\n",
       "        text-align: right;\n",
       "    }\n",
       "</style>\n",
       "<table border=\"1\" class=\"dataframe\">\n",
       "  <thead>\n",
       "    <tr style=\"text-align: right;\">\n",
       "      <th></th>\n",
       "      <th>mean</th>\n",
       "      <th>std</th>\n",
       "    </tr>\n",
       "    <tr>\n",
       "      <th>lang_profile</th>\n",
       "      <th></th>\n",
       "      <th></th>\n",
       "    </tr>\n",
       "  </thead>\n",
       "  <tbody>\n",
       "    <tr>\n",
       "      <th>l3_eng</th>\n",
       "      <td>1.12</td>\n",
       "      <td>3.822303</td>\n",
       "    </tr>\n",
       "  </tbody>\n",
       "</table>\n",
       "</div>"
      ],
      "text/plain": [
       "              mean       std\n",
       "lang_profile                \n",
       "l3_eng        1.12  3.822303"
      ]
     },
     "execution_count": 105,
     "metadata": {},
     "output_type": "execute_result"
    }
   ],
   "source": [
    "l3.groupby('lang_profile')['Q2#1_2'].agg(['mean', 'std'])"
   ]
  },
  {
   "cell_type": "markdown",
   "id": "e368958e-453e-4f4e-b2c8-cf8dda39e6dd",
   "metadata": {},
   "source": [
    "## Years of classes"
   ]
  },
  {
   "cell_type": "code",
   "execution_count": 106,
   "id": "54717e21-0537-433c-ad1f-7b203894027d",
   "metadata": {},
   "outputs": [
    {
     "data": {
      "text/plain": [
       "lang_profile  Q3#1_1  Q3#1_2  Q3#1_3\n",
       "l1_eng        0       0       20+       1\n",
       "                      2       15        1\n",
       "                              20+       1\n",
       "              1       0       20+       1\n",
       "              10      0       20+       1\n",
       "                      2       16        1\n",
       "              11      1       18        1\n",
       "              12      4       20+       1\n",
       "              15      4       20+       1\n",
       "              17      1       20+       1\n",
       "                      2       20+       1\n",
       "              2       0       18        1\n",
       "              20+     6       20+       1\n",
       "              4       0       17        1\n",
       "                      1       16        1\n",
       "                      2       20+       1\n",
       "              5       2       15        1\n",
       "              6       1       12        1\n",
       "              9       0       16        3\n",
       "                      1       20+       1\n",
       "                      3       20+       1\n",
       "l3_eng        0       15      4         1\n",
       "              10      10      12        1\n",
       "                              15        1\n",
       "                      15      10        1\n",
       "              12      12      9         1\n",
       "              13      13      11        1\n",
       "                      6       1         1\n",
       "              14      14      11        1\n",
       "                      16      3         1\n",
       "              15      15      13        1\n",
       "                      17      13        1\n",
       "              16      16      10        1\n",
       "              17      17      11        1\n",
       "              18      18      16        1\n",
       "                      20+     20+       1\n",
       "              19      19      12        1\n",
       "                              16        1\n",
       "              2       14      0         1\n",
       "                      17      0         1\n",
       "              20+     20+     16        1\n",
       "                              20+       1\n",
       "                              8         1\n",
       "              3       3       10        1\n",
       "              8       8       8         1\n",
       "              9       0       10        1\n",
       "Name: partID, dtype: int64"
      ]
     },
     "execution_count": 106,
     "metadata": {},
     "output_type": "execute_result"
    }
   ],
   "source": [
    "df.groupby(['lang_profile','Q3#1_1', 'Q3#1_2', 'Q3#1_3']).partID.count()"
   ]
  },
  {
   "cell_type": "markdown",
   "id": "56874ba4-aebf-4dd0-b712-36bd50d31802",
   "metadata": {},
   "source": [
    "For L1 English trilinguals, average (std) years of classes in Spanish (excepting the one participant who said 20+ years):"
   ]
  },
  {
   "cell_type": "code",
   "execution_count": 107,
   "id": "20028b4b-ed83-46b0-b38b-9b5f29662e39",
   "metadata": {},
   "outputs": [
    {
     "data": {
      "text/html": [
       "<div>\n",
       "<style scoped>\n",
       "    .dataframe tbody tr th:only-of-type {\n",
       "        vertical-align: middle;\n",
       "    }\n",
       "\n",
       "    .dataframe tbody tr th {\n",
       "        vertical-align: top;\n",
       "    }\n",
       "\n",
       "    .dataframe thead th {\n",
       "        text-align: right;\n",
       "    }\n",
       "</style>\n",
       "<table border=\"1\" class=\"dataframe\">\n",
       "  <thead>\n",
       "    <tr style=\"text-align: right;\">\n",
       "      <th></th>\n",
       "      <th>mean</th>\n",
       "      <th>std</th>\n",
       "    </tr>\n",
       "    <tr>\n",
       "      <th>lang_profile</th>\n",
       "      <th></th>\n",
       "      <th></th>\n",
       "    </tr>\n",
       "  </thead>\n",
       "  <tbody>\n",
       "    <tr>\n",
       "      <th>l1_eng</th>\n",
       "      <td>7.409091</td>\n",
       "      <td>5.252293</td>\n",
       "    </tr>\n",
       "  </tbody>\n",
       "</table>\n",
       "</div>"
      ],
      "text/plain": [
       "                  mean       std\n",
       "lang_profile                    \n",
       "l1_eng        7.409091  5.252293"
      ]
     },
     "execution_count": 107,
     "metadata": {},
     "output_type": "execute_result"
    }
   ],
   "source": [
    "l1 = df[df['lang_profile']==\"l1_eng\"].copy()\n",
    "temp4 = l1[l1['Q3#1_1']!=\"20+\"].copy()\n",
    "temp4['Q3#1_1'] = temp4['Q3#1_1'].astype('int64')\n",
    "temp4.groupby('lang_profile')['Q3#1_1'].agg(['mean', 'std'])"
   ]
  },
  {
   "cell_type": "markdown",
   "id": "609af60c-2821-487a-8b19-a8b3f78da452",
   "metadata": {},
   "source": [
    "For L1 English trilinguals, average (std) years of classes in Catalan:"
   ]
  },
  {
   "cell_type": "code",
   "execution_count": 108,
   "id": "2648a3e3-f12a-4d48-a743-3d8eaae4fea0",
   "metadata": {},
   "outputs": [
    {
     "data": {
      "text/html": [
       "<div>\n",
       "<style scoped>\n",
       "    .dataframe tbody tr th:only-of-type {\n",
       "        vertical-align: middle;\n",
       "    }\n",
       "\n",
       "    .dataframe tbody tr th {\n",
       "        vertical-align: top;\n",
       "    }\n",
       "\n",
       "    .dataframe thead th {\n",
       "        text-align: right;\n",
       "    }\n",
       "</style>\n",
       "<table border=\"1\" class=\"dataframe\">\n",
       "  <thead>\n",
       "    <tr style=\"text-align: right;\">\n",
       "      <th></th>\n",
       "      <th>mean</th>\n",
       "      <th>std</th>\n",
       "    </tr>\n",
       "    <tr>\n",
       "      <th>lang_profile</th>\n",
       "      <th></th>\n",
       "      <th></th>\n",
       "    </tr>\n",
       "  </thead>\n",
       "  <tbody>\n",
       "    <tr>\n",
       "      <th>l1_eng</th>\n",
       "      <td>1.478261</td>\n",
       "      <td>1.591728</td>\n",
       "    </tr>\n",
       "  </tbody>\n",
       "</table>\n",
       "</div>"
      ],
      "text/plain": [
       "                  mean       std\n",
       "lang_profile                    \n",
       "l1_eng        1.478261  1.591728"
      ]
     },
     "execution_count": 108,
     "metadata": {},
     "output_type": "execute_result"
    }
   ],
   "source": [
    "l1['Q3#1_2'] = l1['Q3#1_2'].astype('int64')\n",
    "l1.groupby('lang_profile')['Q3#1_2'].agg(['mean', 'std'])"
   ]
  },
  {
   "cell_type": "markdown",
   "id": "3b3367eb-3756-4d60-a42b-d5f03f70b764",
   "metadata": {},
   "source": [
    "For L3 English trilinguals, average (std) years of classes in Spanish (minus the three participants who said 20+):"
   ]
  },
  {
   "cell_type": "code",
   "execution_count": 109,
   "id": "f80cb78b-aae7-4890-bcdd-db8eb0caf594",
   "metadata": {},
   "outputs": [
    {
     "data": {
      "text/html": [
       "<div>\n",
       "<style scoped>\n",
       "    .dataframe tbody tr th:only-of-type {\n",
       "        vertical-align: middle;\n",
       "    }\n",
       "\n",
       "    .dataframe tbody tr th {\n",
       "        vertical-align: top;\n",
       "    }\n",
       "\n",
       "    .dataframe thead th {\n",
       "        text-align: right;\n",
       "    }\n",
       "</style>\n",
       "<table border=\"1\" class=\"dataframe\">\n",
       "  <thead>\n",
       "    <tr style=\"text-align: right;\">\n",
       "      <th></th>\n",
       "      <th>mean</th>\n",
       "      <th>std</th>\n",
       "    </tr>\n",
       "    <tr>\n",
       "      <th>lang_profile</th>\n",
       "      <th></th>\n",
       "      <th></th>\n",
       "    </tr>\n",
       "  </thead>\n",
       "  <tbody>\n",
       "    <tr>\n",
       "      <th>l3_eng</th>\n",
       "      <td>11.681818</td>\n",
       "      <td>5.768439</td>\n",
       "    </tr>\n",
       "  </tbody>\n",
       "</table>\n",
       "</div>"
      ],
      "text/plain": [
       "                   mean       std\n",
       "lang_profile                     \n",
       "l3_eng        11.681818  5.768439"
      ]
     },
     "execution_count": 109,
     "metadata": {},
     "output_type": "execute_result"
    }
   ],
   "source": [
    "l3 = df[df['lang_profile']==\"l3_eng\"].copy()\n",
    "temp5 = l3[l3['Q3#1_1']!=\"20+\"].copy()\n",
    "temp5['Q3#1_1'] = temp5['Q3#1_1'].astype('int64')\n",
    "temp5.groupby('lang_profile')['Q3#1_1'].agg(['mean', 'std'])"
   ]
  },
  {
   "cell_type": "markdown",
   "id": "ece6b1d3-b079-41dd-9c2d-54e7b543f056",
   "metadata": {},
   "source": [
    "For L3 English trilinguals, average (std) years of classes in Catalan (minus the four participants who said 20+):"
   ]
  },
  {
   "cell_type": "code",
   "execution_count": 110,
   "id": "78c23c81-31bb-448d-a3cd-014a864874e6",
   "metadata": {},
   "outputs": [
    {
     "data": {
      "text/html": [
       "<div>\n",
       "<style scoped>\n",
       "    .dataframe tbody tr th:only-of-type {\n",
       "        vertical-align: middle;\n",
       "    }\n",
       "\n",
       "    .dataframe tbody tr th {\n",
       "        vertical-align: top;\n",
       "    }\n",
       "\n",
       "    .dataframe thead th {\n",
       "        text-align: right;\n",
       "    }\n",
       "</style>\n",
       "<table border=\"1\" class=\"dataframe\">\n",
       "  <thead>\n",
       "    <tr style=\"text-align: right;\">\n",
       "      <th></th>\n",
       "      <th>mean</th>\n",
       "      <th>std</th>\n",
       "    </tr>\n",
       "    <tr>\n",
       "      <th>lang_profile</th>\n",
       "      <th></th>\n",
       "      <th></th>\n",
       "    </tr>\n",
       "  </thead>\n",
       "  <tbody>\n",
       "    <tr>\n",
       "      <th>l3_eng</th>\n",
       "      <td>13.047619</td>\n",
       "      <td>5.19111</td>\n",
       "    </tr>\n",
       "  </tbody>\n",
       "</table>\n",
       "</div>"
      ],
      "text/plain": [
       "                   mean      std\n",
       "lang_profile                    \n",
       "l3_eng        13.047619  5.19111"
      ]
     },
     "execution_count": 110,
     "metadata": {},
     "output_type": "execute_result"
    }
   ],
   "source": [
    "temp6 = l3[l3['Q3#1_2']!=\"20+\"].copy()\n",
    "temp6['Q3#1_2'] = temp6['Q3#1_2'].astype('int64')\n",
    "temp6.groupby('lang_profile')['Q3#1_2'].agg(['mean', 'std'])"
   ]
  },
  {
   "cell_type": "markdown",
   "id": "bf9f9579-c6bc-4a36-92e6-e37dae97528f",
   "metadata": {},
   "source": [
    "For L3 English trilinguals, average (std) years of classes in English (minus the two participants that said 20+):"
   ]
  },
  {
   "cell_type": "code",
   "execution_count": 111,
   "id": "8aa270d7-1ee2-4044-9308-40f552d35abc",
   "metadata": {},
   "outputs": [
    {
     "data": {
      "text/html": [
       "<div>\n",
       "<style scoped>\n",
       "    .dataframe tbody tr th:only-of-type {\n",
       "        vertical-align: middle;\n",
       "    }\n",
       "\n",
       "    .dataframe tbody tr th {\n",
       "        vertical-align: top;\n",
       "    }\n",
       "\n",
       "    .dataframe thead th {\n",
       "        text-align: right;\n",
       "    }\n",
       "</style>\n",
       "<table border=\"1\" class=\"dataframe\">\n",
       "  <thead>\n",
       "    <tr style=\"text-align: right;\">\n",
       "      <th></th>\n",
       "      <th>mean</th>\n",
       "      <th>std</th>\n",
       "    </tr>\n",
       "    <tr>\n",
       "      <th>lang_profile</th>\n",
       "      <th></th>\n",
       "      <th></th>\n",
       "    </tr>\n",
       "  </thead>\n",
       "  <tbody>\n",
       "    <tr>\n",
       "      <th>l3_eng</th>\n",
       "      <td>9.521739</td>\n",
       "      <td>4.916295</td>\n",
       "    </tr>\n",
       "  </tbody>\n",
       "</table>\n",
       "</div>"
      ],
      "text/plain": [
       "                  mean       std\n",
       "lang_profile                    \n",
       "l3_eng        9.521739  4.916295"
      ]
     },
     "execution_count": 111,
     "metadata": {},
     "output_type": "execute_result"
    }
   ],
   "source": [
    "temp7 = l3[l3['Q3#1_3']!=\"20+\"].copy()\n",
    "temp7['Q3#1_3'] = temp7['Q3#1_3'].astype('int64')\n",
    "temp7.groupby('lang_profile')['Q3#1_3'].agg(['mean', 'std'])"
   ]
  },
  {
   "cell_type": "markdown",
   "id": "f80dfa24-21ae-438d-8bf5-fe6afcd5bad4",
   "metadata": {},
   "source": [
    "## Years spent in a region that speaks a certain language"
   ]
  },
  {
   "cell_type": "code",
   "execution_count": 112,
   "id": "0f3004ba-bfe0-4798-9b77-46203e1b5a12",
   "metadata": {},
   "outputs": [
    {
     "data": {
      "text/plain": [
       "lang_profile  Q4#1_1  Q4#1_2  Q4#1_3\n",
       "l1_eng        0       0       20+        2\n",
       "              1       0       20+        4\n",
       "                      1       20+        3\n",
       "              2       1       20+        1\n",
       "                      2       19         1\n",
       "              3       2       20+        3\n",
       "                      3       20+        1\n",
       "              4       2       20+        1\n",
       "                      3       20+        1\n",
       "                      4       20+        1\n",
       "              5       3       19         1\n",
       "                              20+        1\n",
       "                      5       20+        1\n",
       "              6       1       20+        1\n",
       "              8       6       20+        1\n",
       "l3_eng        16      16      11         1\n",
       "              18      18      2          1\n",
       "              19      19      0          1\n",
       "              20+     19      3          1\n",
       "                      20+     0         10\n",
       "                              1          5\n",
       "                              2          1\n",
       "                              3          1\n",
       "                              5          1\n",
       "                              6          1\n",
       "                              7          1\n",
       "              8       8       13         1\n",
       "Name: partID, dtype: int64"
      ]
     },
     "execution_count": 112,
     "metadata": {},
     "output_type": "execute_result"
    }
   ],
   "source": [
    "df.groupby(['lang_profile','Q4#1_1', 'Q4#1_2', 'Q4#1_3']).partID.count()"
   ]
  },
  {
   "cell_type": "markdown",
   "id": "5f38739f-4dd1-4352-9d20-5e02263cf954",
   "metadata": {},
   "source": [
    "For L1 English trilinguals, years spent in a region that speaks Spanish:"
   ]
  },
  {
   "cell_type": "code",
   "execution_count": 113,
   "id": "9091e432-6bab-40b3-903a-d7e06066fed2",
   "metadata": {},
   "outputs": [
    {
     "data": {
      "text/html": [
       "<div>\n",
       "<style scoped>\n",
       "    .dataframe tbody tr th:only-of-type {\n",
       "        vertical-align: middle;\n",
       "    }\n",
       "\n",
       "    .dataframe tbody tr th {\n",
       "        vertical-align: top;\n",
       "    }\n",
       "\n",
       "    .dataframe thead th {\n",
       "        text-align: right;\n",
       "    }\n",
       "</style>\n",
       "<table border=\"1\" class=\"dataframe\">\n",
       "  <thead>\n",
       "    <tr style=\"text-align: right;\">\n",
       "      <th></th>\n",
       "      <th>mean</th>\n",
       "      <th>std</th>\n",
       "    </tr>\n",
       "    <tr>\n",
       "      <th>lang_profile</th>\n",
       "      <th></th>\n",
       "      <th></th>\n",
       "    </tr>\n",
       "  </thead>\n",
       "  <tbody>\n",
       "    <tr>\n",
       "      <th>l1_eng</th>\n",
       "      <td>2.782609</td>\n",
       "      <td>2.087986</td>\n",
       "    </tr>\n",
       "  </tbody>\n",
       "</table>\n",
       "</div>"
      ],
      "text/plain": [
       "                  mean       std\n",
       "lang_profile                    \n",
       "l1_eng        2.782609  2.087986"
      ]
     },
     "execution_count": 113,
     "metadata": {},
     "output_type": "execute_result"
    }
   ],
   "source": [
    "l1['Q4#1_1'] = l1['Q4#1_1'].astype('int64')\n",
    "l1['Q4#1_2'] = l1['Q4#1_2'].astype('int64')\n",
    "l1.groupby('lang_profile')['Q4#1_1'].agg(['mean', 'std'])"
   ]
  },
  {
   "cell_type": "markdown",
   "id": "890d60b3-943c-466e-a091-2839f9cf66b7",
   "metadata": {},
   "source": [
    "For L1 English trilinguals, years spent in a region that speaks Catalan:"
   ]
  },
  {
   "cell_type": "code",
   "execution_count": 114,
   "id": "36f0a089-83f0-4c72-a993-5e4517db0cb9",
   "metadata": {},
   "outputs": [
    {
     "data": {
      "text/html": [
       "<div>\n",
       "<style scoped>\n",
       "    .dataframe tbody tr th:only-of-type {\n",
       "        vertical-align: middle;\n",
       "    }\n",
       "\n",
       "    .dataframe tbody tr th {\n",
       "        vertical-align: top;\n",
       "    }\n",
       "\n",
       "    .dataframe thead th {\n",
       "        text-align: right;\n",
       "    }\n",
       "</style>\n",
       "<table border=\"1\" class=\"dataframe\">\n",
       "  <thead>\n",
       "    <tr style=\"text-align: right;\">\n",
       "      <th></th>\n",
       "      <th>mean</th>\n",
       "      <th>std</th>\n",
       "    </tr>\n",
       "    <tr>\n",
       "      <th>lang_profile</th>\n",
       "      <th></th>\n",
       "      <th></th>\n",
       "    </tr>\n",
       "  </thead>\n",
       "  <tbody>\n",
       "    <tr>\n",
       "      <th>l1_eng</th>\n",
       "      <td>1.826087</td>\n",
       "      <td>1.6693</td>\n",
       "    </tr>\n",
       "  </tbody>\n",
       "</table>\n",
       "</div>"
      ],
      "text/plain": [
       "                  mean     std\n",
       "lang_profile                  \n",
       "l1_eng        1.826087  1.6693"
      ]
     },
     "execution_count": 114,
     "metadata": {},
     "output_type": "execute_result"
    }
   ],
   "source": [
    "l1.groupby('lang_profile')['Q4#1_2'].agg(['mean', 'std'])"
   ]
  },
  {
   "cell_type": "markdown",
   "id": "49ec0149-3e99-4939-b875-223405174e16",
   "metadata": {},
   "source": [
    "For L3 English trilinguals, years spent in a region that speaks English:"
   ]
  },
  {
   "cell_type": "code",
   "execution_count": 115,
   "id": "512b9a82-d874-48e3-9432-cccc75e8a89e",
   "metadata": {},
   "outputs": [
    {
     "data": {
      "text/html": [
       "<div>\n",
       "<style scoped>\n",
       "    .dataframe tbody tr th:only-of-type {\n",
       "        vertical-align: middle;\n",
       "    }\n",
       "\n",
       "    .dataframe tbody tr th {\n",
       "        vertical-align: top;\n",
       "    }\n",
       "\n",
       "    .dataframe thead th {\n",
       "        text-align: right;\n",
       "    }\n",
       "</style>\n",
       "<table border=\"1\" class=\"dataframe\">\n",
       "  <thead>\n",
       "    <tr style=\"text-align: right;\">\n",
       "      <th></th>\n",
       "      <th>mean</th>\n",
       "      <th>std</th>\n",
       "    </tr>\n",
       "    <tr>\n",
       "      <th>lang_profile</th>\n",
       "      <th></th>\n",
       "      <th></th>\n",
       "    </tr>\n",
       "  </thead>\n",
       "  <tbody>\n",
       "    <tr>\n",
       "      <th>l3_eng</th>\n",
       "      <td>2.28</td>\n",
       "      <td>3.541657</td>\n",
       "    </tr>\n",
       "  </tbody>\n",
       "</table>\n",
       "</div>"
      ],
      "text/plain": [
       "              mean       std\n",
       "lang_profile                \n",
       "l3_eng        2.28  3.541657"
      ]
     },
     "execution_count": 115,
     "metadata": {},
     "output_type": "execute_result"
    }
   ],
   "source": [
    "l3['Q4#1_3'] = l3['Q4#1_3'].astype('int64')\n",
    "l3.groupby('lang_profile')['Q4#1_3'].agg(['mean', 'std'])"
   ]
  },
  {
   "cell_type": "markdown",
   "id": "76ec6b15-169c-4353-92fd-6864853eb7cb",
   "metadata": {},
   "source": [
    "## Years in family that speaks a certain language"
   ]
  },
  {
   "cell_type": "code",
   "execution_count": 116,
   "id": "d9dfac10-fc32-48fe-9b51-1aa17b1fd230",
   "metadata": {},
   "outputs": [
    {
     "data": {
      "text/plain": [
       "lang_profile  Q5#1_1  Q5#1_2  Q5#1_3\n",
       "l1_eng        0       0       20+        8\n",
       "                      3       20+        1\n",
       "              1       0       20+        6\n",
       "                      1       20+        1\n",
       "                      2       20+        1\n",
       "              2       2       20+        3\n",
       "              20+     0       20+        2\n",
       "              7       0       20+        1\n",
       "l3_eng        0       20+     0          5\n",
       "                              2          1\n",
       "              19      0       0          1\n",
       "              2       20+     0          1\n",
       "              20+     0       0          3\n",
       "                      20+     0         11\n",
       "                              13         1\n",
       "                              5          1\n",
       "              8       20+     0          1\n",
       "Name: partID, dtype: int64"
      ]
     },
     "execution_count": 116,
     "metadata": {},
     "output_type": "execute_result"
    }
   ],
   "source": [
    "df.groupby(['lang_profile','Q5#1_1', 'Q5#1_2', 'Q5#1_3']).partID.count()"
   ]
  },
  {
   "cell_type": "markdown",
   "id": "e4347560-6cc8-4a62-a90f-4aeb9a390bd9",
   "metadata": {},
   "source": [
    "For L1 English trilinguals, years spent in a family that speaks Spanish (excluding two participants that said 20+):"
   ]
  },
  {
   "cell_type": "code",
   "execution_count": 117,
   "id": "56c601fd-4814-456f-9f74-2ae528a4d778",
   "metadata": {},
   "outputs": [
    {
     "data": {
      "text/html": [
       "<div>\n",
       "<style scoped>\n",
       "    .dataframe tbody tr th:only-of-type {\n",
       "        vertical-align: middle;\n",
       "    }\n",
       "\n",
       "    .dataframe tbody tr th {\n",
       "        vertical-align: top;\n",
       "    }\n",
       "\n",
       "    .dataframe thead th {\n",
       "        text-align: right;\n",
       "    }\n",
       "</style>\n",
       "<table border=\"1\" class=\"dataframe\">\n",
       "  <thead>\n",
       "    <tr style=\"text-align: right;\">\n",
       "      <th></th>\n",
       "      <th>mean</th>\n",
       "      <th>std</th>\n",
       "    </tr>\n",
       "    <tr>\n",
       "      <th>lang_profile</th>\n",
       "      <th></th>\n",
       "      <th></th>\n",
       "    </tr>\n",
       "  </thead>\n",
       "  <tbody>\n",
       "    <tr>\n",
       "      <th>l1_eng</th>\n",
       "      <td>1</td>\n",
       "      <td>1.549193</td>\n",
       "    </tr>\n",
       "  </tbody>\n",
       "</table>\n",
       "</div>"
      ],
      "text/plain": [
       "              mean       std\n",
       "lang_profile                \n",
       "l1_eng           1  1.549193"
      ]
     },
     "execution_count": 117,
     "metadata": {},
     "output_type": "execute_result"
    }
   ],
   "source": [
    "temp8 = l1[l1['Q5#1_1']!=\"20+\"].copy()\n",
    "temp8['Q5#1_1'] = temp8['Q5#1_1'].astype('int64')\n",
    "temp8.groupby('lang_profile')['Q5#1_1'].agg(['mean', 'std'])"
   ]
  },
  {
   "cell_type": "markdown",
   "id": "28edd4b2-c7e2-4296-aea0-4c717c98d3fa",
   "metadata": {},
   "source": [
    "For L1 English trilinguals, years spent in a family that speaks Catalan:"
   ]
  },
  {
   "cell_type": "code",
   "execution_count": 118,
   "id": "38ca2152-ac9d-4b56-9728-2fa333f28d6c",
   "metadata": {},
   "outputs": [
    {
     "data": {
      "text/html": [
       "<div>\n",
       "<style scoped>\n",
       "    .dataframe tbody tr th:only-of-type {\n",
       "        vertical-align: middle;\n",
       "    }\n",
       "\n",
       "    .dataframe tbody tr th {\n",
       "        vertical-align: top;\n",
       "    }\n",
       "\n",
       "    .dataframe thead th {\n",
       "        text-align: right;\n",
       "    }\n",
       "</style>\n",
       "<table border=\"1\" class=\"dataframe\">\n",
       "  <thead>\n",
       "    <tr style=\"text-align: right;\">\n",
       "      <th></th>\n",
       "      <th>mean</th>\n",
       "      <th>std</th>\n",
       "    </tr>\n",
       "    <tr>\n",
       "      <th>lang_profile</th>\n",
       "      <th></th>\n",
       "      <th></th>\n",
       "    </tr>\n",
       "  </thead>\n",
       "  <tbody>\n",
       "    <tr>\n",
       "      <th>l1_eng</th>\n",
       "      <td>0.521739</td>\n",
       "      <td>0.947224</td>\n",
       "    </tr>\n",
       "  </tbody>\n",
       "</table>\n",
       "</div>"
      ],
      "text/plain": [
       "                  mean       std\n",
       "lang_profile                    \n",
       "l1_eng        0.521739  0.947224"
      ]
     },
     "execution_count": 118,
     "metadata": {},
     "output_type": "execute_result"
    }
   ],
   "source": [
    "l1['Q5#1_2'] = l1['Q5#1_2'].astype('int64')\n",
    "l1.groupby('lang_profile')['Q5#1_2'].agg(['mean', 'std'])"
   ]
  },
  {
   "cell_type": "markdown",
   "id": "8d7465b0-57b1-4398-9881-90822be36d1e",
   "metadata": {},
   "source": [
    "## Years spent in a work environment where a certain language was spoken"
   ]
  },
  {
   "cell_type": "code",
   "execution_count": 119,
   "id": "d5490e22-c99c-4afb-8516-c504c041a781",
   "metadata": {},
   "outputs": [
    {
     "data": {
      "text/plain": [
       "lang_profile  Q6#1_1  Q6#1_2  Q6#1_3\n",
       "l1_eng        0       0       20+       3\n",
       "                              3         1\n",
       "                              4         1\n",
       "              1       0       6         1\n",
       "                      1       2         1\n",
       "                              20+       1\n",
       "              11      1       20+       1\n",
       "              12      3       15        1\n",
       "              3       0       13        1\n",
       "                              5         1\n",
       "                      1       20+       1\n",
       "                      2       7         1\n",
       "                              8         1\n",
       "              4       1       6         1\n",
       "                      2       20+       1\n",
       "                              4         1\n",
       "                      4       20+       1\n",
       "                              3         1\n",
       "              6       5       14        1\n",
       "              7       0       12        1\n",
       "              8       3       15        1\n",
       "l3_eng        0       0       0         2\n",
       "                              6         1\n",
       "              1       1       1         1\n",
       "                              5         1\n",
       "              10      10      5         1\n",
       "              15      15      5         2\n",
       "              16      16      2         1\n",
       "              2       2       1         1\n",
       "                      7       1         1\n",
       "              20+     20+     0         2\n",
       "                              1         2\n",
       "                              12        1\n",
       "              3       1       3         1\n",
       "                      3       3         1\n",
       "              4       19      3         1\n",
       "                      4       1         1\n",
       "              5       17      0         1\n",
       "                      2       5         1\n",
       "                      5       4         1\n",
       "                              5         1\n",
       "              7       7       0         1\n",
       "Name: partID, dtype: int64"
      ]
     },
     "execution_count": 119,
     "metadata": {},
     "output_type": "execute_result"
    }
   ],
   "source": [
    "df.groupby(['lang_profile','Q6#1_1', 'Q6#1_2', 'Q6#1_3']).partID.count()"
   ]
  },
  {
   "cell_type": "markdown",
   "id": "329c48aa-cb88-4311-b883-6c69928a29f8",
   "metadata": {},
   "source": [
    "For L1 English, years spent in work environment where Spanish was spoken:"
   ]
  },
  {
   "cell_type": "code",
   "execution_count": 120,
   "id": "16131b6a-f3ea-4655-bd89-24019ef1d133",
   "metadata": {},
   "outputs": [
    {
     "data": {
      "text/html": [
       "<div>\n",
       "<style scoped>\n",
       "    .dataframe tbody tr th:only-of-type {\n",
       "        vertical-align: middle;\n",
       "    }\n",
       "\n",
       "    .dataframe tbody tr th {\n",
       "        vertical-align: top;\n",
       "    }\n",
       "\n",
       "    .dataframe thead th {\n",
       "        text-align: right;\n",
       "    }\n",
       "</style>\n",
       "<table border=\"1\" class=\"dataframe\">\n",
       "  <thead>\n",
       "    <tr style=\"text-align: right;\">\n",
       "      <th></th>\n",
       "      <th>mean</th>\n",
       "      <th>std</th>\n",
       "    </tr>\n",
       "    <tr>\n",
       "      <th>lang_profile</th>\n",
       "      <th></th>\n",
       "      <th></th>\n",
       "    </tr>\n",
       "  </thead>\n",
       "  <tbody>\n",
       "    <tr>\n",
       "      <th>l1_eng</th>\n",
       "      <td>3.565217</td>\n",
       "      <td>3.368653</td>\n",
       "    </tr>\n",
       "  </tbody>\n",
       "</table>\n",
       "</div>"
      ],
      "text/plain": [
       "                  mean       std\n",
       "lang_profile                    \n",
       "l1_eng        3.565217  3.368653"
      ]
     },
     "execution_count": 120,
     "metadata": {},
     "output_type": "execute_result"
    }
   ],
   "source": [
    "l1['Q6#1_1'] = l1['Q6#1_1'].astype('int64')\n",
    "l1['Q6#1_2'] = l1['Q6#1_2'].astype('int64')\n",
    "l1.groupby('lang_profile')['Q6#1_1'].agg(['mean', 'std'])"
   ]
  },
  {
   "cell_type": "markdown",
   "id": "6759ee26-343b-4893-b3e9-a1f65bac00f6",
   "metadata": {},
   "source": [
    "For L1 English trilinguals, years spent in work environment where Catalan was spoken:"
   ]
  },
  {
   "cell_type": "code",
   "execution_count": 121,
   "id": "d1718370-5a4b-4962-bf8a-518e1baf8e78",
   "metadata": {},
   "outputs": [
    {
     "data": {
      "text/html": [
       "<div>\n",
       "<style scoped>\n",
       "    .dataframe tbody tr th:only-of-type {\n",
       "        vertical-align: middle;\n",
       "    }\n",
       "\n",
       "    .dataframe tbody tr th {\n",
       "        vertical-align: top;\n",
       "    }\n",
       "\n",
       "    .dataframe thead th {\n",
       "        text-align: right;\n",
       "    }\n",
       "</style>\n",
       "<table border=\"1\" class=\"dataframe\">\n",
       "  <thead>\n",
       "    <tr style=\"text-align: right;\">\n",
       "      <th></th>\n",
       "      <th>mean</th>\n",
       "      <th>std</th>\n",
       "    </tr>\n",
       "    <tr>\n",
       "      <th>lang_profile</th>\n",
       "      <th></th>\n",
       "      <th></th>\n",
       "    </tr>\n",
       "  </thead>\n",
       "  <tbody>\n",
       "    <tr>\n",
       "      <th>l1_eng</th>\n",
       "      <td>1.391304</td>\n",
       "      <td>1.52968</td>\n",
       "    </tr>\n",
       "  </tbody>\n",
       "</table>\n",
       "</div>"
      ],
      "text/plain": [
       "                  mean      std\n",
       "lang_profile                   \n",
       "l1_eng        1.391304  1.52968"
      ]
     },
     "execution_count": 121,
     "metadata": {},
     "output_type": "execute_result"
    }
   ],
   "source": [
    "l1.groupby('lang_profile')['Q6#1_2'].agg(['mean', 'std'])"
   ]
  },
  {
   "cell_type": "markdown",
   "id": "3231d754-5332-4cb6-95de-4d01af47dd0c",
   "metadata": {},
   "source": [
    "For L3 English trilinguals, years spent in work environment where English was spoken:"
   ]
  },
  {
   "cell_type": "code",
   "execution_count": 122,
   "id": "8d7fc8b5-e66c-402c-8127-e8e4c1cf7ed2",
   "metadata": {},
   "outputs": [
    {
     "data": {
      "text/html": [
       "<div>\n",
       "<style scoped>\n",
       "    .dataframe tbody tr th:only-of-type {\n",
       "        vertical-align: middle;\n",
       "    }\n",
       "\n",
       "    .dataframe tbody tr th {\n",
       "        vertical-align: top;\n",
       "    }\n",
       "\n",
       "    .dataframe thead th {\n",
       "        text-align: right;\n",
       "    }\n",
       "</style>\n",
       "<table border=\"1\" class=\"dataframe\">\n",
       "  <thead>\n",
       "    <tr style=\"text-align: right;\">\n",
       "      <th></th>\n",
       "      <th>mean</th>\n",
       "      <th>std</th>\n",
       "    </tr>\n",
       "    <tr>\n",
       "      <th>lang_profile</th>\n",
       "      <th></th>\n",
       "      <th></th>\n",
       "    </tr>\n",
       "  </thead>\n",
       "  <tbody>\n",
       "    <tr>\n",
       "      <th>l3_eng</th>\n",
       "      <td>2.76</td>\n",
       "      <td>2.832549</td>\n",
       "    </tr>\n",
       "  </tbody>\n",
       "</table>\n",
       "</div>"
      ],
      "text/plain": [
       "              mean       std\n",
       "lang_profile                \n",
       "l3_eng        2.76  2.832549"
      ]
     },
     "execution_count": 122,
     "metadata": {},
     "output_type": "execute_result"
    }
   ],
   "source": [
    "l3['Q6#1_3'] = l3['Q6#1_3'].astype('int64')\n",
    "l3.groupby('lang_profile')['Q6#1_3'].agg(['mean', 'std'])"
   ]
  },
  {
   "cell_type": "markdown",
   "id": "7369f5fb-8d98-48b6-89d6-af6f3fc3aa34",
   "metadata": {},
   "source": [
    "## Percentage use of languages with friends"
   ]
  },
  {
   "cell_type": "code",
   "execution_count": 123,
   "id": "88250c58-434d-429b-bce1-533f98b43eb2",
   "metadata": {},
   "outputs": [
    {
     "data": {
      "text/html": [
       "<div>\n",
       "<style scoped>\n",
       "    .dataframe tbody tr th:only-of-type {\n",
       "        vertical-align: middle;\n",
       "    }\n",
       "\n",
       "    .dataframe tbody tr th {\n",
       "        vertical-align: top;\n",
       "    }\n",
       "\n",
       "    .dataframe thead tr th {\n",
       "        text-align: left;\n",
       "    }\n",
       "\n",
       "    .dataframe thead tr:last-of-type th {\n",
       "        text-align: right;\n",
       "    }\n",
       "</style>\n",
       "<table border=\"1\" class=\"dataframe\">\n",
       "  <thead>\n",
       "    <tr>\n",
       "      <th></th>\n",
       "      <th colspan=\"2\" halign=\"left\">Q7#1_1</th>\n",
       "      <th colspan=\"2\" halign=\"left\">Q7#1_2</th>\n",
       "      <th colspan=\"2\" halign=\"left\">Q7#1_3</th>\n",
       "    </tr>\n",
       "    <tr>\n",
       "      <th></th>\n",
       "      <th>mean</th>\n",
       "      <th>std</th>\n",
       "      <th>mean</th>\n",
       "      <th>std</th>\n",
       "      <th>mean</th>\n",
       "      <th>std</th>\n",
       "    </tr>\n",
       "    <tr>\n",
       "      <th>lang_profile</th>\n",
       "      <th></th>\n",
       "      <th></th>\n",
       "      <th></th>\n",
       "      <th></th>\n",
       "      <th></th>\n",
       "      <th></th>\n",
       "    </tr>\n",
       "  </thead>\n",
       "  <tbody>\n",
       "    <tr>\n",
       "      <th>l1_eng</th>\n",
       "      <td>21.73913</td>\n",
       "      <td>17.490822</td>\n",
       "      <td>16.521739</td>\n",
       "      <td>17.217511</td>\n",
       "      <td>59.565217</td>\n",
       "      <td>26.194771</td>\n",
       "    </tr>\n",
       "    <tr>\n",
       "      <th>l3_eng</th>\n",
       "      <td>29.20000</td>\n",
       "      <td>24.986663</td>\n",
       "      <td>39.600000</td>\n",
       "      <td>31.817186</td>\n",
       "      <td>30.400000</td>\n",
       "      <td>28.792360</td>\n",
       "    </tr>\n",
       "  </tbody>\n",
       "</table>\n",
       "</div>"
      ],
      "text/plain": [
       "                Q7#1_1                Q7#1_2                Q7#1_3           \n",
       "                  mean        std       mean        std       mean        std\n",
       "lang_profile                                                                 \n",
       "l1_eng        21.73913  17.490822  16.521739  17.217511  59.565217  26.194771\n",
       "l3_eng        29.20000  24.986663  39.600000  31.817186  30.400000  28.792360"
      ]
     },
     "execution_count": 123,
     "metadata": {},
     "output_type": "execute_result"
    }
   ],
   "source": [
    "df['Q7#1_1'] = df['Q7#1_1'].astype('int64')\n",
    "df['Q7#1_2'] = df['Q7#1_2'].astype('int64')\n",
    "df['Q7#1_3'] = df['Q7#1_3'].astype('int64')\n",
    "df['Q8#1_1'] = df['Q8#1_1'].astype('int64')\n",
    "df['Q8#1_2'] = df['Q8#1_2'].astype('int64')\n",
    "df['Q8#1_3'] = df['Q8#1_3'].astype('int64')\n",
    "df['Q9#1_1'] = df['Q9#1_1'].astype('int64')\n",
    "df['Q9#1_2'] = df['Q9#1_2'].astype('int64')\n",
    "df['Q9#1_3'] = df['Q9#1_3'].astype('int64')\n",
    "df.groupby('lang_profile')[['Q7#1_1', 'Q7#1_2', 'Q7#1_3']].agg(['mean', 'std'])"
   ]
  },
  {
   "cell_type": "markdown",
   "id": "fd76a5b0-febd-41a0-abef-105ce327130b",
   "metadata": {},
   "source": [
    "## Percentage of language use with family"
   ]
  },
  {
   "cell_type": "code",
   "execution_count": 124,
   "id": "5bc95e1a-cca1-40b4-8416-1a965c6a2edb",
   "metadata": {},
   "outputs": [
    {
     "data": {
      "text/html": [
       "<div>\n",
       "<style scoped>\n",
       "    .dataframe tbody tr th:only-of-type {\n",
       "        vertical-align: middle;\n",
       "    }\n",
       "\n",
       "    .dataframe tbody tr th {\n",
       "        vertical-align: top;\n",
       "    }\n",
       "\n",
       "    .dataframe thead tr th {\n",
       "        text-align: left;\n",
       "    }\n",
       "\n",
       "    .dataframe thead tr:last-of-type th {\n",
       "        text-align: right;\n",
       "    }\n",
       "</style>\n",
       "<table border=\"1\" class=\"dataframe\">\n",
       "  <thead>\n",
       "    <tr>\n",
       "      <th></th>\n",
       "      <th colspan=\"2\" halign=\"left\">Q8#1_1</th>\n",
       "      <th colspan=\"2\" halign=\"left\">Q8#1_2</th>\n",
       "      <th colspan=\"2\" halign=\"left\">Q8#1_3</th>\n",
       "    </tr>\n",
       "    <tr>\n",
       "      <th></th>\n",
       "      <th>mean</th>\n",
       "      <th>std</th>\n",
       "      <th>mean</th>\n",
       "      <th>std</th>\n",
       "      <th>mean</th>\n",
       "      <th>std</th>\n",
       "    </tr>\n",
       "    <tr>\n",
       "      <th>lang_profile</th>\n",
       "      <th></th>\n",
       "      <th></th>\n",
       "      <th></th>\n",
       "      <th></th>\n",
       "      <th></th>\n",
       "      <th></th>\n",
       "    </tr>\n",
       "  </thead>\n",
       "  <tbody>\n",
       "    <tr>\n",
       "      <th>l1_eng</th>\n",
       "      <td>5.652174</td>\n",
       "      <td>13.425243</td>\n",
       "      <td>6.086957</td>\n",
       "      <td>16.442498</td>\n",
       "      <td>87.391304</td>\n",
       "      <td>23.202153</td>\n",
       "    </tr>\n",
       "    <tr>\n",
       "      <th>l3_eng</th>\n",
       "      <td>36.000000</td>\n",
       "      <td>42.914644</td>\n",
       "      <td>61.600000</td>\n",
       "      <td>42.786291</td>\n",
       "      <td>6.000000</td>\n",
       "      <td>17.078251</td>\n",
       "    </tr>\n",
       "  </tbody>\n",
       "</table>\n",
       "</div>"
      ],
      "text/plain": [
       "                 Q8#1_1                Q8#1_2                Q8#1_3           \n",
       "                   mean        std       mean        std       mean        std\n",
       "lang_profile                                                                  \n",
       "l1_eng         5.652174  13.425243   6.086957  16.442498  87.391304  23.202153\n",
       "l3_eng        36.000000  42.914644  61.600000  42.786291   6.000000  17.078251"
      ]
     },
     "execution_count": 124,
     "metadata": {},
     "output_type": "execute_result"
    }
   ],
   "source": [
    "df.groupby('lang_profile')[['Q8#1_1', 'Q8#1_2', 'Q8#1_3']].agg(['mean', 'std'])"
   ]
  },
  {
   "cell_type": "markdown",
   "id": "7bac7ff6-5a99-4bf7-95bc-17d13a60ead7",
   "metadata": {},
   "source": [
    "## Percentage of language use at school/work"
   ]
  },
  {
   "cell_type": "code",
   "execution_count": 125,
   "id": "ed7773b6-6854-45e1-8479-b0d8f8bf600b",
   "metadata": {},
   "outputs": [
    {
     "data": {
      "text/html": [
       "<div>\n",
       "<style scoped>\n",
       "    .dataframe tbody tr th:only-of-type {\n",
       "        vertical-align: middle;\n",
       "    }\n",
       "\n",
       "    .dataframe tbody tr th {\n",
       "        vertical-align: top;\n",
       "    }\n",
       "\n",
       "    .dataframe thead tr th {\n",
       "        text-align: left;\n",
       "    }\n",
       "\n",
       "    .dataframe thead tr:last-of-type th {\n",
       "        text-align: right;\n",
       "    }\n",
       "</style>\n",
       "<table border=\"1\" class=\"dataframe\">\n",
       "  <thead>\n",
       "    <tr>\n",
       "      <th></th>\n",
       "      <th colspan=\"2\" halign=\"left\">Q9#1_1</th>\n",
       "      <th colspan=\"2\" halign=\"left\">Q9#1_2</th>\n",
       "      <th colspan=\"2\" halign=\"left\">Q9#1_3</th>\n",
       "    </tr>\n",
       "    <tr>\n",
       "      <th></th>\n",
       "      <th>mean</th>\n",
       "      <th>std</th>\n",
       "      <th>mean</th>\n",
       "      <th>std</th>\n",
       "      <th>mean</th>\n",
       "      <th>std</th>\n",
       "    </tr>\n",
       "    <tr>\n",
       "      <th>lang_profile</th>\n",
       "      <th></th>\n",
       "      <th></th>\n",
       "      <th></th>\n",
       "      <th></th>\n",
       "      <th></th>\n",
       "      <th></th>\n",
       "    </tr>\n",
       "  </thead>\n",
       "  <tbody>\n",
       "    <tr>\n",
       "      <th>l1_eng</th>\n",
       "      <td>23.478261</td>\n",
       "      <td>25.86832</td>\n",
       "      <td>13.478261</td>\n",
       "      <td>13.687651</td>\n",
       "      <td>55.652174</td>\n",
       "      <td>30.574215</td>\n",
       "    </tr>\n",
       "    <tr>\n",
       "      <th>l3_eng</th>\n",
       "      <td>21.200000</td>\n",
       "      <td>26.50786</td>\n",
       "      <td>28.000000</td>\n",
       "      <td>32.787193</td>\n",
       "      <td>50.800000</td>\n",
       "      <td>38.179401</td>\n",
       "    </tr>\n",
       "  </tbody>\n",
       "</table>\n",
       "</div>"
      ],
      "text/plain": [
       "                 Q9#1_1               Q9#1_2                Q9#1_3           \n",
       "                   mean       std       mean        std       mean        std\n",
       "lang_profile                                                                 \n",
       "l1_eng        23.478261  25.86832  13.478261  13.687651  55.652174  30.574215\n",
       "l3_eng        21.200000  26.50786  28.000000  32.787193  50.800000  38.179401"
      ]
     },
     "execution_count": 125,
     "metadata": {},
     "output_type": "execute_result"
    }
   ],
   "source": [
    "df.groupby('lang_profile')[['Q9#1_1', 'Q9#1_2', 'Q9#1_3']].agg(['mean', 'std'])"
   ]
  },
  {
   "cell_type": "markdown",
   "id": "856cfc77-0866-4681-a257-b40bd0c12e6d",
   "metadata": {},
   "source": [
    "## Percentage you talk to yourself in each language"
   ]
  },
  {
   "cell_type": "code",
   "execution_count": 126,
   "id": "600fa274-6324-4869-b4de-f88fcdf807a5",
   "metadata": {},
   "outputs": [
    {
     "data": {
      "text/html": [
       "<div>\n",
       "<style scoped>\n",
       "    .dataframe tbody tr th:only-of-type {\n",
       "        vertical-align: middle;\n",
       "    }\n",
       "\n",
       "    .dataframe tbody tr th {\n",
       "        vertical-align: top;\n",
       "    }\n",
       "\n",
       "    .dataframe thead tr th {\n",
       "        text-align: left;\n",
       "    }\n",
       "\n",
       "    .dataframe thead tr:last-of-type th {\n",
       "        text-align: right;\n",
       "    }\n",
       "</style>\n",
       "<table border=\"1\" class=\"dataframe\">\n",
       "  <thead>\n",
       "    <tr>\n",
       "      <th></th>\n",
       "      <th colspan=\"2\" halign=\"left\">Q10#1_1</th>\n",
       "      <th colspan=\"2\" halign=\"left\">Q10#1_2</th>\n",
       "      <th colspan=\"2\" halign=\"left\">Q10#1_3</th>\n",
       "    </tr>\n",
       "    <tr>\n",
       "      <th></th>\n",
       "      <th>mean</th>\n",
       "      <th>std</th>\n",
       "      <th>mean</th>\n",
       "      <th>std</th>\n",
       "      <th>mean</th>\n",
       "      <th>std</th>\n",
       "    </tr>\n",
       "    <tr>\n",
       "      <th>lang_profile</th>\n",
       "      <th></th>\n",
       "      <th></th>\n",
       "      <th></th>\n",
       "      <th></th>\n",
       "      <th></th>\n",
       "      <th></th>\n",
       "    </tr>\n",
       "  </thead>\n",
       "  <tbody>\n",
       "    <tr>\n",
       "      <th>l1_eng</th>\n",
       "      <td>18.26087</td>\n",
       "      <td>12.303796</td>\n",
       "      <td>11.73913</td>\n",
       "      <td>11.140497</td>\n",
       "      <td>67.391304</td>\n",
       "      <td>19.590673</td>\n",
       "    </tr>\n",
       "    <tr>\n",
       "      <th>l3_eng</th>\n",
       "      <td>26.80000</td>\n",
       "      <td>30.512293</td>\n",
       "      <td>51.20000</td>\n",
       "      <td>36.092474</td>\n",
       "      <td>23.600000</td>\n",
       "      <td>24.131584</td>\n",
       "    </tr>\n",
       "  </tbody>\n",
       "</table>\n",
       "</div>"
      ],
      "text/plain": [
       "               Q10#1_1              Q10#1_2               Q10#1_3           \n",
       "                  mean        std      mean        std       mean        std\n",
       "lang_profile                                                                \n",
       "l1_eng        18.26087  12.303796  11.73913  11.140497  67.391304  19.590673\n",
       "l3_eng        26.80000  30.512293  51.20000  36.092474  23.600000  24.131584"
      ]
     },
     "execution_count": 126,
     "metadata": {},
     "output_type": "execute_result"
    }
   ],
   "source": [
    "df['Q10#1_1'] = df['Q10#1_1'].astype('int64')\n",
    "df['Q10#1_2'] = df['Q10#1_2'].astype('int64')\n",
    "df['Q10#1_3'] = df['Q10#1_3'].astype('int64')\n",
    "df['Q11#1_1'] = df['Q11#1_1'].astype('int64')\n",
    "df['Q11#1_2'] = df['Q11#1_2'].astype('int64')\n",
    "df['Q11#1_3'] = df['Q11#1_3'].astype('int64')\n",
    "df.groupby('lang_profile')[['Q10#1_1', 'Q10#1_2', 'Q10#1_3']].agg(['mean', 'std'])"
   ]
  },
  {
   "cell_type": "markdown",
   "id": "35660cbe-9907-43c5-a722-5698b1cb2259",
   "metadata": {},
   "source": [
    "## Percentage you count in each language"
   ]
  },
  {
   "cell_type": "code",
   "execution_count": 127,
   "id": "f2551360-e939-4707-b6c8-4388522cfad8",
   "metadata": {},
   "outputs": [
    {
     "data": {
      "text/html": [
       "<div>\n",
       "<style scoped>\n",
       "    .dataframe tbody tr th:only-of-type {\n",
       "        vertical-align: middle;\n",
       "    }\n",
       "\n",
       "    .dataframe tbody tr th {\n",
       "        vertical-align: top;\n",
       "    }\n",
       "\n",
       "    .dataframe thead tr th {\n",
       "        text-align: left;\n",
       "    }\n",
       "\n",
       "    .dataframe thead tr:last-of-type th {\n",
       "        text-align: right;\n",
       "    }\n",
       "</style>\n",
       "<table border=\"1\" class=\"dataframe\">\n",
       "  <thead>\n",
       "    <tr>\n",
       "      <th></th>\n",
       "      <th colspan=\"2\" halign=\"left\">Q11#1_1</th>\n",
       "      <th colspan=\"2\" halign=\"left\">Q11#1_2</th>\n",
       "      <th colspan=\"2\" halign=\"left\">Q11#1_3</th>\n",
       "    </tr>\n",
       "    <tr>\n",
       "      <th></th>\n",
       "      <th>mean</th>\n",
       "      <th>std</th>\n",
       "      <th>mean</th>\n",
       "      <th>std</th>\n",
       "      <th>mean</th>\n",
       "      <th>std</th>\n",
       "    </tr>\n",
       "    <tr>\n",
       "      <th>lang_profile</th>\n",
       "      <th></th>\n",
       "      <th></th>\n",
       "      <th></th>\n",
       "      <th></th>\n",
       "      <th></th>\n",
       "      <th></th>\n",
       "    </tr>\n",
       "  </thead>\n",
       "  <tbody>\n",
       "    <tr>\n",
       "      <th>l1_eng</th>\n",
       "      <td>12.608696</td>\n",
       "      <td>12.510865</td>\n",
       "      <td>6.521739</td>\n",
       "      <td>10.272955</td>\n",
       "      <td>79.565217</td>\n",
       "      <td>19.182914</td>\n",
       "    </tr>\n",
       "    <tr>\n",
       "      <th>l3_eng</th>\n",
       "      <td>28.400000</td>\n",
       "      <td>33.872309</td>\n",
       "      <td>63.200000</td>\n",
       "      <td>34.122329</td>\n",
       "      <td>8.800000</td>\n",
       "      <td>14.809907</td>\n",
       "    </tr>\n",
       "  </tbody>\n",
       "</table>\n",
       "</div>"
      ],
      "text/plain": [
       "                Q11#1_1               Q11#1_2               Q11#1_3           \n",
       "                   mean        std       mean        std       mean        std\n",
       "lang_profile                                                                  \n",
       "l1_eng        12.608696  12.510865   6.521739  10.272955  79.565217  19.182914\n",
       "l3_eng        28.400000  33.872309  63.200000  34.122329   8.800000  14.809907"
      ]
     },
     "execution_count": 127,
     "metadata": {},
     "output_type": "execute_result"
    }
   ],
   "source": [
    "df.groupby('lang_profile')[['Q11#1_1', 'Q11#1_2', 'Q11#1_3']].agg(['mean', 'std'])"
   ]
  },
  {
   "cell_type": "markdown",
   "id": "2629c406-d568-4ab4-abd2-84ef05fe5950",
   "metadata": {},
   "source": [
    "## How well do you speak each language"
   ]
  },
  {
   "cell_type": "code",
   "execution_count": 128,
   "id": "6ebc8f35-b4fb-466e-a85b-eb72da1a901a",
   "metadata": {},
   "outputs": [],
   "source": [
    "# first center the scale on 0 (-3 to +3)\n",
    "df['Q12_1'] = df['Q12_1'].astype('int64')\n",
    "df['Q12_2'] = df['Q12_2'].astype('int64')\n",
    "df['Q12_3'] = df['Q12_3'].astype('int64')\n",
    "df['Q13_1'] = df['Q13_1'].astype('int64')\n",
    "df['Q13_2'] = df['Q13_2'].astype('int64')\n",
    "df['Q13_3'] = df['Q13_3'].astype('int64')\n",
    "df['Q14_1'] = df['Q14_1'].astype('int64')\n",
    "df['Q14_2'] = df['Q14_2'].astype('int64')\n",
    "df['Q14_3'] = df['Q14_3'].astype('int64')\n",
    "df['Q15_1'] = df['Q15_1'].astype('int64')\n",
    "df['Q15_2'] = df['Q15_2'].astype('int64')\n",
    "df['Q15_3'] = df['Q15_3'].astype('int64')\n",
    "df['Q16_1'] = df['Q16_1'].astype('int64')\n",
    "df['Q16_2'] = df['Q16_2'].astype('int64')\n",
    "df['Q16_3'] = df['Q16_3'].astype('int64')\n",
    "df['Q16_5_1'] = df['Q16_5_1'].astype('int64')\n",
    "df['Q16_5_2'] = df['Q16_5_2'].astype('int64')\n",
    "df['Q16_5_3'] = df['Q16_5_3'].astype('int64')\n",
    "df['Q17_1'] = df['Q17_1'].astype('int64')\n",
    "df['Q17_2'] = df['Q17_2'].astype('int64')\n",
    "df['Q17_3'] = df['Q17_3'].astype('int64')\n",
    "df['Q18_1'] = df['Q18_1'].astype('int64')\n",
    "df['Q18_2'] = df['Q18_2'].astype('int64')\n",
    "df['Q18_3'] = df['Q18_3'].astype('int64')"
   ]
  },
  {
   "cell_type": "code",
   "execution_count": 129,
   "id": "03653248-f6d1-4d67-8aea-ab610a8bde10",
   "metadata": {},
   "outputs": [],
   "source": [
    "# adjust Likert scale\n",
    "def likert_scale(x):\n",
    "    return x - 3\n",
    "df[['Q12_1', 'Q12_2', 'Q12_3', 'Q13_1', 'Q13_2', 'Q13_3', \n",
    "   'Q14_1', 'Q14_2', 'Q14_3', 'Q15_1', 'Q15_2', 'Q15_3',\n",
    "   'Q16_1', 'Q16_2', 'Q16_3', 'Q16_5_1', 'Q16_5_2', 'Q16_5_3',\n",
    "   'Q17_1', 'Q17_2', 'Q17_3', 'Q18_1', 'Q18_2', 'Q18_3']] = df[['Q12_1', 'Q12_2', 'Q12_3', 'Q13_1', 'Q13_2', 'Q13_3', \n",
    "   'Q14_1', 'Q14_2', 'Q14_3', 'Q15_1', 'Q15_2', 'Q15_3',\n",
    "   'Q16_1', 'Q16_2', 'Q16_3', 'Q16_5_1', 'Q16_5_2', 'Q16_5_3',\n",
    "   'Q17_1', 'Q17_2', 'Q17_3', 'Q18_1', 'Q18_2', 'Q18_3']].apply(likert_scale)"
   ]
  },
  {
   "cell_type": "code",
   "execution_count": 130,
   "id": "b41b61e2-9016-4580-b409-8f0f3e27e05a",
   "metadata": {},
   "outputs": [
    {
     "data": {
      "text/html": [
       "<div>\n",
       "<style scoped>\n",
       "    .dataframe tbody tr th:only-of-type {\n",
       "        vertical-align: middle;\n",
       "    }\n",
       "\n",
       "    .dataframe tbody tr th {\n",
       "        vertical-align: top;\n",
       "    }\n",
       "\n",
       "    .dataframe thead tr th {\n",
       "        text-align: left;\n",
       "    }\n",
       "\n",
       "    .dataframe thead tr:last-of-type th {\n",
       "        text-align: right;\n",
       "    }\n",
       "</style>\n",
       "<table border=\"1\" class=\"dataframe\">\n",
       "  <thead>\n",
       "    <tr>\n",
       "      <th></th>\n",
       "      <th colspan=\"2\" halign=\"left\">Q12_1</th>\n",
       "      <th colspan=\"2\" halign=\"left\">Q12_2</th>\n",
       "      <th colspan=\"2\" halign=\"left\">Q12_3</th>\n",
       "    </tr>\n",
       "    <tr>\n",
       "      <th></th>\n",
       "      <th>mean</th>\n",
       "      <th>std</th>\n",
       "      <th>mean</th>\n",
       "      <th>std</th>\n",
       "      <th>mean</th>\n",
       "      <th>std</th>\n",
       "    </tr>\n",
       "    <tr>\n",
       "      <th>lang_profile</th>\n",
       "      <th></th>\n",
       "      <th></th>\n",
       "      <th></th>\n",
       "      <th></th>\n",
       "      <th></th>\n",
       "      <th></th>\n",
       "    </tr>\n",
       "  </thead>\n",
       "  <tbody>\n",
       "    <tr>\n",
       "      <th>l1_eng</th>\n",
       "      <td>1.782609</td>\n",
       "      <td>1.085295</td>\n",
       "      <td>0.565217</td>\n",
       "      <td>1.408613</td>\n",
       "      <td>2.956522</td>\n",
       "      <td>0.208514</td>\n",
       "    </tr>\n",
       "    <tr>\n",
       "      <th>l3_eng</th>\n",
       "      <td>2.840000</td>\n",
       "      <td>0.374166</td>\n",
       "      <td>2.840000</td>\n",
       "      <td>0.374166</td>\n",
       "      <td>1.840000</td>\n",
       "      <td>1.067708</td>\n",
       "    </tr>\n",
       "  </tbody>\n",
       "</table>\n",
       "</div>"
      ],
      "text/plain": [
       "                 Q12_1               Q12_2               Q12_3          \n",
       "                  mean       std      mean       std      mean       std\n",
       "lang_profile                                                            \n",
       "l1_eng        1.782609  1.085295  0.565217  1.408613  2.956522  0.208514\n",
       "l3_eng        2.840000  0.374166  2.840000  0.374166  1.840000  1.067708"
      ]
     },
     "execution_count": 130,
     "metadata": {},
     "output_type": "execute_result"
    }
   ],
   "source": [
    "df.groupby('lang_profile')[['Q12_1', 'Q12_2', 'Q12_3']].agg(['mean', 'std'])"
   ]
  },
  {
   "cell_type": "markdown",
   "id": "23278dc8-7456-4918-981e-2c9995b30319",
   "metadata": {},
   "source": [
    "## How well do you understand each language"
   ]
  },
  {
   "cell_type": "code",
   "execution_count": 131,
   "id": "eb125ed5-2780-4d39-9592-37b5328bd9ea",
   "metadata": {},
   "outputs": [
    {
     "data": {
      "text/html": [
       "<div>\n",
       "<style scoped>\n",
       "    .dataframe tbody tr th:only-of-type {\n",
       "        vertical-align: middle;\n",
       "    }\n",
       "\n",
       "    .dataframe tbody tr th {\n",
       "        vertical-align: top;\n",
       "    }\n",
       "\n",
       "    .dataframe thead tr th {\n",
       "        text-align: left;\n",
       "    }\n",
       "\n",
       "    .dataframe thead tr:last-of-type th {\n",
       "        text-align: right;\n",
       "    }\n",
       "</style>\n",
       "<table border=\"1\" class=\"dataframe\">\n",
       "  <thead>\n",
       "    <tr>\n",
       "      <th></th>\n",
       "      <th colspan=\"2\" halign=\"left\">Q13_1</th>\n",
       "      <th colspan=\"2\" halign=\"left\">Q13_2</th>\n",
       "      <th colspan=\"2\" halign=\"left\">Q13_3</th>\n",
       "    </tr>\n",
       "    <tr>\n",
       "      <th></th>\n",
       "      <th>mean</th>\n",
       "      <th>std</th>\n",
       "      <th>mean</th>\n",
       "      <th>std</th>\n",
       "      <th>mean</th>\n",
       "      <th>std</th>\n",
       "    </tr>\n",
       "    <tr>\n",
       "      <th>lang_profile</th>\n",
       "      <th></th>\n",
       "      <th></th>\n",
       "      <th></th>\n",
       "      <th></th>\n",
       "      <th></th>\n",
       "      <th></th>\n",
       "    </tr>\n",
       "  </thead>\n",
       "  <tbody>\n",
       "    <tr>\n",
       "      <th>l1_eng</th>\n",
       "      <td>2.26087</td>\n",
       "      <td>0.915393</td>\n",
       "      <td>1.347826</td>\n",
       "      <td>1.368765</td>\n",
       "      <td>3.00</td>\n",
       "      <td>0.000000</td>\n",
       "    </tr>\n",
       "    <tr>\n",
       "      <th>l3_eng</th>\n",
       "      <td>3.00000</td>\n",
       "      <td>0.000000</td>\n",
       "      <td>2.960000</td>\n",
       "      <td>0.200000</td>\n",
       "      <td>2.24</td>\n",
       "      <td>1.051982</td>\n",
       "    </tr>\n",
       "  </tbody>\n",
       "</table>\n",
       "</div>"
      ],
      "text/plain": [
       "                Q13_1               Q13_2           Q13_3          \n",
       "                 mean       std      mean       std  mean       std\n",
       "lang_profile                                                       \n",
       "l1_eng        2.26087  0.915393  1.347826  1.368765  3.00  0.000000\n",
       "l3_eng        3.00000  0.000000  2.960000  0.200000  2.24  1.051982"
      ]
     },
     "execution_count": 131,
     "metadata": {},
     "output_type": "execute_result"
    }
   ],
   "source": [
    "df.groupby('lang_profile')[['Q13_1', 'Q13_2', 'Q13_3']].agg(['mean', 'std'])"
   ]
  },
  {
   "cell_type": "markdown",
   "id": "d406d3ce-1005-4058-88b1-1a3f3efe6ac8",
   "metadata": {},
   "source": [
    "## How well do you read in each language"
   ]
  },
  {
   "cell_type": "code",
   "execution_count": 132,
   "id": "ce689750-b4d4-4113-97e3-0c914836f0e8",
   "metadata": {},
   "outputs": [
    {
     "data": {
      "text/html": [
       "<div>\n",
       "<style scoped>\n",
       "    .dataframe tbody tr th:only-of-type {\n",
       "        vertical-align: middle;\n",
       "    }\n",
       "\n",
       "    .dataframe tbody tr th {\n",
       "        vertical-align: top;\n",
       "    }\n",
       "\n",
       "    .dataframe thead tr th {\n",
       "        text-align: left;\n",
       "    }\n",
       "\n",
       "    .dataframe thead tr:last-of-type th {\n",
       "        text-align: right;\n",
       "    }\n",
       "</style>\n",
       "<table border=\"1\" class=\"dataframe\">\n",
       "  <thead>\n",
       "    <tr>\n",
       "      <th></th>\n",
       "      <th colspan=\"2\" halign=\"left\">Q14_1</th>\n",
       "      <th colspan=\"2\" halign=\"left\">Q14_2</th>\n",
       "      <th colspan=\"2\" halign=\"left\">Q14_3</th>\n",
       "    </tr>\n",
       "    <tr>\n",
       "      <th></th>\n",
       "      <th>mean</th>\n",
       "      <th>std</th>\n",
       "      <th>mean</th>\n",
       "      <th>std</th>\n",
       "      <th>mean</th>\n",
       "      <th>std</th>\n",
       "    </tr>\n",
       "    <tr>\n",
       "      <th>lang_profile</th>\n",
       "      <th></th>\n",
       "      <th></th>\n",
       "      <th></th>\n",
       "      <th></th>\n",
       "      <th></th>\n",
       "      <th></th>\n",
       "    </tr>\n",
       "  </thead>\n",
       "  <tbody>\n",
       "    <tr>\n",
       "      <th>l1_eng</th>\n",
       "      <td>2.217391</td>\n",
       "      <td>0.902347</td>\n",
       "      <td>1.695652</td>\n",
       "      <td>1.184551</td>\n",
       "      <td>3.0</td>\n",
       "      <td>0.000000</td>\n",
       "    </tr>\n",
       "    <tr>\n",
       "      <th>l3_eng</th>\n",
       "      <td>3.000000</td>\n",
       "      <td>0.000000</td>\n",
       "      <td>2.920000</td>\n",
       "      <td>0.276887</td>\n",
       "      <td>2.2</td>\n",
       "      <td>0.866025</td>\n",
       "    </tr>\n",
       "  </tbody>\n",
       "</table>\n",
       "</div>"
      ],
      "text/plain": [
       "                 Q14_1               Q14_2           Q14_3          \n",
       "                  mean       std      mean       std  mean       std\n",
       "lang_profile                                                        \n",
       "l1_eng        2.217391  0.902347  1.695652  1.184551   3.0  0.000000\n",
       "l3_eng        3.000000  0.000000  2.920000  0.276887   2.2  0.866025"
      ]
     },
     "execution_count": 132,
     "metadata": {},
     "output_type": "execute_result"
    }
   ],
   "source": [
    "df.groupby('lang_profile')[['Q14_1', 'Q14_2', 'Q14_3']].agg(['mean', 'std'])"
   ]
  },
  {
   "cell_type": "markdown",
   "id": "c01b4083-e589-4a14-b2aa-c1f5349b10f8",
   "metadata": {},
   "source": [
    "## How well do you write in each language"
   ]
  },
  {
   "cell_type": "code",
   "execution_count": 133,
   "id": "8127bd55-7e26-49f6-9d79-7da51b492b23",
   "metadata": {},
   "outputs": [
    {
     "data": {
      "text/html": [
       "<div>\n",
       "<style scoped>\n",
       "    .dataframe tbody tr th:only-of-type {\n",
       "        vertical-align: middle;\n",
       "    }\n",
       "\n",
       "    .dataframe tbody tr th {\n",
       "        vertical-align: top;\n",
       "    }\n",
       "\n",
       "    .dataframe thead tr th {\n",
       "        text-align: left;\n",
       "    }\n",
       "\n",
       "    .dataframe thead tr:last-of-type th {\n",
       "        text-align: right;\n",
       "    }\n",
       "</style>\n",
       "<table border=\"1\" class=\"dataframe\">\n",
       "  <thead>\n",
       "    <tr>\n",
       "      <th></th>\n",
       "      <th colspan=\"2\" halign=\"left\">Q15_1</th>\n",
       "      <th colspan=\"2\" halign=\"left\">Q15_2</th>\n",
       "      <th colspan=\"2\" halign=\"left\">Q15_3</th>\n",
       "    </tr>\n",
       "    <tr>\n",
       "      <th></th>\n",
       "      <th>mean</th>\n",
       "      <th>std</th>\n",
       "      <th>mean</th>\n",
       "      <th>std</th>\n",
       "      <th>mean</th>\n",
       "      <th>std</th>\n",
       "    </tr>\n",
       "    <tr>\n",
       "      <th>lang_profile</th>\n",
       "      <th></th>\n",
       "      <th></th>\n",
       "      <th></th>\n",
       "      <th></th>\n",
       "      <th></th>\n",
       "      <th></th>\n",
       "    </tr>\n",
       "  </thead>\n",
       "  <tbody>\n",
       "    <tr>\n",
       "      <th>l1_eng</th>\n",
       "      <td>1.565217</td>\n",
       "      <td>1.308229</td>\n",
       "      <td>0.347826</td>\n",
       "      <td>1.495712</td>\n",
       "      <td>3.0</td>\n",
       "      <td>0.0</td>\n",
       "    </tr>\n",
       "    <tr>\n",
       "      <th>l3_eng</th>\n",
       "      <td>2.760000</td>\n",
       "      <td>0.597216</td>\n",
       "      <td>2.560000</td>\n",
       "      <td>0.869866</td>\n",
       "      <td>1.8</td>\n",
       "      <td>1.0</td>\n",
       "    </tr>\n",
       "  </tbody>\n",
       "</table>\n",
       "</div>"
      ],
      "text/plain": [
       "                 Q15_1               Q15_2           Q15_3     \n",
       "                  mean       std      mean       std  mean  std\n",
       "lang_profile                                                   \n",
       "l1_eng        1.565217  1.308229  0.347826  1.495712   3.0  0.0\n",
       "l3_eng        2.760000  0.597216  2.560000  0.869866   1.8  1.0"
      ]
     },
     "execution_count": 133,
     "metadata": {},
     "output_type": "execute_result"
    }
   ],
   "source": [
    "df.groupby('lang_profile')[['Q15_1', 'Q15_2', 'Q15_3']].agg(['mean', 'std'])"
   ]
  },
  {
   "cell_type": "markdown",
   "id": "f632b9be-cc13-43d5-ab4c-6b40897de5ab",
   "metadata": {},
   "source": [
    "## You feel like yourself when speaking each language"
   ]
  },
  {
   "cell_type": "code",
   "execution_count": 134,
   "id": "7602d170-4e56-4dee-ba07-3c2521f6697d",
   "metadata": {},
   "outputs": [
    {
     "data": {
      "text/html": [
       "<div>\n",
       "<style scoped>\n",
       "    .dataframe tbody tr th:only-of-type {\n",
       "        vertical-align: middle;\n",
       "    }\n",
       "\n",
       "    .dataframe tbody tr th {\n",
       "        vertical-align: top;\n",
       "    }\n",
       "\n",
       "    .dataframe thead tr th {\n",
       "        text-align: left;\n",
       "    }\n",
       "\n",
       "    .dataframe thead tr:last-of-type th {\n",
       "        text-align: right;\n",
       "    }\n",
       "</style>\n",
       "<table border=\"1\" class=\"dataframe\">\n",
       "  <thead>\n",
       "    <tr>\n",
       "      <th></th>\n",
       "      <th colspan=\"2\" halign=\"left\">Q16_1</th>\n",
       "      <th colspan=\"2\" halign=\"left\">Q16_2</th>\n",
       "      <th colspan=\"2\" halign=\"left\">Q16_3</th>\n",
       "    </tr>\n",
       "    <tr>\n",
       "      <th></th>\n",
       "      <th>mean</th>\n",
       "      <th>std</th>\n",
       "      <th>mean</th>\n",
       "      <th>std</th>\n",
       "      <th>mean</th>\n",
       "      <th>std</th>\n",
       "    </tr>\n",
       "    <tr>\n",
       "      <th>lang_profile</th>\n",
       "      <th></th>\n",
       "      <th></th>\n",
       "      <th></th>\n",
       "      <th></th>\n",
       "      <th></th>\n",
       "      <th></th>\n",
       "    </tr>\n",
       "  </thead>\n",
       "  <tbody>\n",
       "    <tr>\n",
       "      <th>l1_eng</th>\n",
       "      <td>1.521739</td>\n",
       "      <td>1.780438</td>\n",
       "      <td>1.173913</td>\n",
       "      <td>1.898616</td>\n",
       "      <td>2.869565</td>\n",
       "      <td>0.344350</td>\n",
       "    </tr>\n",
       "    <tr>\n",
       "      <th>l3_eng</th>\n",
       "      <td>1.360000</td>\n",
       "      <td>1.955335</td>\n",
       "      <td>2.720000</td>\n",
       "      <td>0.541603</td>\n",
       "      <td>1.280000</td>\n",
       "      <td>1.486607</td>\n",
       "    </tr>\n",
       "  </tbody>\n",
       "</table>\n",
       "</div>"
      ],
      "text/plain": [
       "                 Q16_1               Q16_2               Q16_3          \n",
       "                  mean       std      mean       std      mean       std\n",
       "lang_profile                                                            \n",
       "l1_eng        1.521739  1.780438  1.173913  1.898616  2.869565  0.344350\n",
       "l3_eng        1.360000  1.955335  2.720000  0.541603  1.280000  1.486607"
      ]
     },
     "execution_count": 134,
     "metadata": {},
     "output_type": "execute_result"
    }
   ],
   "source": [
    "df.groupby('lang_profile')[['Q16_1', 'Q16_2', 'Q16_3']].agg(['mean', 'std'])"
   ]
  },
  {
   "cell_type": "markdown",
   "id": "5ce6ca3c-0ed0-4d95-8876-3caeb7151d6e",
   "metadata": {},
   "source": [
    "## You identify with this language culture"
   ]
  },
  {
   "cell_type": "code",
   "execution_count": 135,
   "id": "4c98354c-0b17-48a5-a243-5abdfd9e6793",
   "metadata": {},
   "outputs": [
    {
     "data": {
      "text/html": [
       "<div>\n",
       "<style scoped>\n",
       "    .dataframe tbody tr th:only-of-type {\n",
       "        vertical-align: middle;\n",
       "    }\n",
       "\n",
       "    .dataframe tbody tr th {\n",
       "        vertical-align: top;\n",
       "    }\n",
       "\n",
       "    .dataframe thead tr th {\n",
       "        text-align: left;\n",
       "    }\n",
       "\n",
       "    .dataframe thead tr:last-of-type th {\n",
       "        text-align: right;\n",
       "    }\n",
       "</style>\n",
       "<table border=\"1\" class=\"dataframe\">\n",
       "  <thead>\n",
       "    <tr>\n",
       "      <th></th>\n",
       "      <th colspan=\"2\" halign=\"left\">Q16_5_1</th>\n",
       "      <th colspan=\"2\" halign=\"left\">Q16_5_2</th>\n",
       "      <th colspan=\"2\" halign=\"left\">Q16_5_3</th>\n",
       "    </tr>\n",
       "    <tr>\n",
       "      <th></th>\n",
       "      <th>mean</th>\n",
       "      <th>std</th>\n",
       "      <th>mean</th>\n",
       "      <th>std</th>\n",
       "      <th>mean</th>\n",
       "      <th>std</th>\n",
       "    </tr>\n",
       "    <tr>\n",
       "      <th>lang_profile</th>\n",
       "      <th></th>\n",
       "      <th></th>\n",
       "      <th></th>\n",
       "      <th></th>\n",
       "      <th></th>\n",
       "      <th></th>\n",
       "    </tr>\n",
       "  </thead>\n",
       "  <tbody>\n",
       "    <tr>\n",
       "      <th>l1_eng</th>\n",
       "      <td>0.478261</td>\n",
       "      <td>1.754723</td>\n",
       "      <td>0.695652</td>\n",
       "      <td>1.663370</td>\n",
       "      <td>2.652174</td>\n",
       "      <td>0.775107</td>\n",
       "    </tr>\n",
       "    <tr>\n",
       "      <th>l3_eng</th>\n",
       "      <td>0.680000</td>\n",
       "      <td>1.930458</td>\n",
       "      <td>2.640000</td>\n",
       "      <td>0.757188</td>\n",
       "      <td>0.080000</td>\n",
       "      <td>1.411855</td>\n",
       "    </tr>\n",
       "  </tbody>\n",
       "</table>\n",
       "</div>"
      ],
      "text/plain": [
       "               Q16_5_1             Q16_5_2             Q16_5_3          \n",
       "                  mean       std      mean       std      mean       std\n",
       "lang_profile                                                            \n",
       "l1_eng        0.478261  1.754723  0.695652  1.663370  2.652174  0.775107\n",
       "l3_eng        0.680000  1.930458  2.640000  0.757188  0.080000  1.411855"
      ]
     },
     "execution_count": 135,
     "metadata": {},
     "output_type": "execute_result"
    }
   ],
   "source": [
    "df.groupby('lang_profile')[['Q16_5_1', 'Q16_5_2', 'Q16_5_3']].agg(['mean', 'std'])"
   ]
  },
  {
   "cell_type": "markdown",
   "id": "aae5be5c-bf0a-4995-8185-7d6acbbbd518",
   "metadata": {},
   "source": [
    "## It is important to me to use the language like a native speaker"
   ]
  },
  {
   "cell_type": "code",
   "execution_count": 136,
   "id": "8872ddf4-c90b-4457-88a2-f6e4fc6d55e3",
   "metadata": {},
   "outputs": [
    {
     "data": {
      "text/html": [
       "<div>\n",
       "<style scoped>\n",
       "    .dataframe tbody tr th:only-of-type {\n",
       "        vertical-align: middle;\n",
       "    }\n",
       "\n",
       "    .dataframe tbody tr th {\n",
       "        vertical-align: top;\n",
       "    }\n",
       "\n",
       "    .dataframe thead tr th {\n",
       "        text-align: left;\n",
       "    }\n",
       "\n",
       "    .dataframe thead tr:last-of-type th {\n",
       "        text-align: right;\n",
       "    }\n",
       "</style>\n",
       "<table border=\"1\" class=\"dataframe\">\n",
       "  <thead>\n",
       "    <tr>\n",
       "      <th></th>\n",
       "      <th colspan=\"2\" halign=\"left\">Q17_1</th>\n",
       "      <th colspan=\"2\" halign=\"left\">Q17_2</th>\n",
       "      <th colspan=\"2\" halign=\"left\">Q17_3</th>\n",
       "    </tr>\n",
       "    <tr>\n",
       "      <th></th>\n",
       "      <th>mean</th>\n",
       "      <th>std</th>\n",
       "      <th>mean</th>\n",
       "      <th>std</th>\n",
       "      <th>mean</th>\n",
       "      <th>std</th>\n",
       "    </tr>\n",
       "    <tr>\n",
       "      <th>lang_profile</th>\n",
       "      <th></th>\n",
       "      <th></th>\n",
       "      <th></th>\n",
       "      <th></th>\n",
       "      <th></th>\n",
       "      <th></th>\n",
       "    </tr>\n",
       "  </thead>\n",
       "  <tbody>\n",
       "    <tr>\n",
       "      <th>l1_eng</th>\n",
       "      <td>2.565217</td>\n",
       "      <td>0.992063</td>\n",
       "      <td>2.26087</td>\n",
       "      <td>1.388832</td>\n",
       "      <td>2.826087</td>\n",
       "      <td>0.650327</td>\n",
       "    </tr>\n",
       "    <tr>\n",
       "      <th>l3_eng</th>\n",
       "      <td>2.280000</td>\n",
       "      <td>1.671327</td>\n",
       "      <td>2.96000</td>\n",
       "      <td>0.200000</td>\n",
       "      <td>2.440000</td>\n",
       "      <td>1.193035</td>\n",
       "    </tr>\n",
       "  </tbody>\n",
       "</table>\n",
       "</div>"
      ],
      "text/plain": [
       "                 Q17_1              Q17_2               Q17_3          \n",
       "                  mean       std     mean       std      mean       std\n",
       "lang_profile                                                           \n",
       "l1_eng        2.565217  0.992063  2.26087  1.388832  2.826087  0.650327\n",
       "l3_eng        2.280000  1.671327  2.96000  0.200000  2.440000  1.193035"
      ]
     },
     "execution_count": 136,
     "metadata": {},
     "output_type": "execute_result"
    }
   ],
   "source": [
    "df.groupby('lang_profile')[['Q17_1', 'Q17_2', 'Q17_3']].agg(['mean', 'std'])"
   ]
  },
  {
   "cell_type": "markdown",
   "id": "874136c5-1c8b-41bc-9ca0-0efee53e8c7f",
   "metadata": {},
   "source": [
    "## I want others to think I'm a native speaker of this language"
   ]
  },
  {
   "cell_type": "code",
   "execution_count": 137,
   "id": "b6758702-6005-4af9-b3be-4aaf62eb9daf",
   "metadata": {},
   "outputs": [
    {
     "data": {
      "text/html": [
       "<div>\n",
       "<style scoped>\n",
       "    .dataframe tbody tr th:only-of-type {\n",
       "        vertical-align: middle;\n",
       "    }\n",
       "\n",
       "    .dataframe tbody tr th {\n",
       "        vertical-align: top;\n",
       "    }\n",
       "\n",
       "    .dataframe thead tr th {\n",
       "        text-align: left;\n",
       "    }\n",
       "\n",
       "    .dataframe thead tr:last-of-type th {\n",
       "        text-align: right;\n",
       "    }\n",
       "</style>\n",
       "<table border=\"1\" class=\"dataframe\">\n",
       "  <thead>\n",
       "    <tr>\n",
       "      <th></th>\n",
       "      <th colspan=\"2\" halign=\"left\">Q18_1</th>\n",
       "      <th colspan=\"2\" halign=\"left\">Q18_2</th>\n",
       "      <th colspan=\"2\" halign=\"left\">Q18_3</th>\n",
       "    </tr>\n",
       "    <tr>\n",
       "      <th></th>\n",
       "      <th>mean</th>\n",
       "      <th>std</th>\n",
       "      <th>mean</th>\n",
       "      <th>std</th>\n",
       "      <th>mean</th>\n",
       "      <th>std</th>\n",
       "    </tr>\n",
       "    <tr>\n",
       "      <th>lang_profile</th>\n",
       "      <th></th>\n",
       "      <th></th>\n",
       "      <th></th>\n",
       "      <th></th>\n",
       "      <th></th>\n",
       "      <th></th>\n",
       "    </tr>\n",
       "  </thead>\n",
       "  <tbody>\n",
       "    <tr>\n",
       "      <th>l1_eng</th>\n",
       "      <td>1.652174</td>\n",
       "      <td>1.612697</td>\n",
       "      <td>1.347826</td>\n",
       "      <td>1.695145</td>\n",
       "      <td>2.130435</td>\n",
       "      <td>1.358621</td>\n",
       "    </tr>\n",
       "    <tr>\n",
       "      <th>l3_eng</th>\n",
       "      <td>1.880000</td>\n",
       "      <td>1.921805</td>\n",
       "      <td>3.000000</td>\n",
       "      <td>0.000000</td>\n",
       "      <td>1.080000</td>\n",
       "      <td>2.361497</td>\n",
       "    </tr>\n",
       "  </tbody>\n",
       "</table>\n",
       "</div>"
      ],
      "text/plain": [
       "                 Q18_1               Q18_2               Q18_3          \n",
       "                  mean       std      mean       std      mean       std\n",
       "lang_profile                                                            \n",
       "l1_eng        1.652174  1.612697  1.347826  1.695145  2.130435  1.358621\n",
       "l3_eng        1.880000  1.921805  3.000000  0.000000  1.080000  2.361497"
      ]
     },
     "execution_count": 137,
     "metadata": {},
     "output_type": "execute_result"
    }
   ],
   "source": [
    "df.groupby('lang_profile')[['Q18_1', 'Q18_2', 'Q18_3']].agg(['mean', 'std'])"
   ]
  },
  {
   "cell_type": "code",
   "execution_count": null,
   "id": "23a7f764-1432-491d-9d91-b4f898ac8f3d",
   "metadata": {},
   "outputs": [],
   "source": []
  }
 ],
 "metadata": {
  "kernelspec": {
   "display_name": "Python 3",
   "language": "python",
   "name": "python3"
  },
  "language_info": {
   "codemirror_mode": {
    "name": "ipython",
    "version": 3
   },
   "file_extension": ".py",
   "mimetype": "text/x-python",
   "name": "python",
   "nbconvert_exporter": "python",
   "pygments_lexer": "ipython3",
   "version": "3.8.8"
  }
 },
 "nbformat": 4,
 "nbformat_minor": 5
}
